{
 "cells": [
  {
   "cell_type": "markdown",
   "metadata": {
    "slideshow": {
     "slide_type": "slide"
    }
   },
   "source": [
    "# Aspectos do curso"
   ]
  },
  {
   "cell_type": "markdown",
   "metadata": {
    "slideshow": {
     "slide_type": "slide"
    }
   },
   "source": [
    "## Informações\n",
    "\n",
    "* Início: 12 de abril de 2022\n",
    "* Prof. Ricardo M. S. Rosa\n",
    "* [rmsrosa.github.io](https://rmsrosa.github.io)\n",
    "* [Notas de aula - ModMat2022p1](https://rmsrosa.github.io/modelagem_matematica/)\n",
    "* [Repositório github - modelagem_matematica - edição 2022/1](https://github.com/rmsrosa/modelagem_matematica/tree/modmat2022p1)\n",
    "* [Google Classroom - 2022/1: Modelagem Matemática](https://classroom.google.com/c/NDcyNDc5MjEzODA5)"
   ]
  },
  {
   "cell_type": "markdown",
   "metadata": {
    "slideshow": {
     "slide_type": "slide"
    }
   },
   "source": [
    "## Notas de aula\n",
    "\n",
    "* As notas de aula estão disponibilizadas em [Notas de aula - ModMat2022p1](https://rmsrosa.github.io/modelagem_matematica/) e serão aprimoradas ao longo do período\n",
    "* As notas estão escritas como [cadernos Jupyter](https://jupyter-notebook.readthedocs.io/en/stable/).\n",
    "* Cada caderno pode ser acessado através dos links no topo de cada página.\n",
    "* Pode-se \"baixar\" cada caderno disponibilizado no repositório ou acessá-lo diretamente na nuvem.\n",
    "* Localmente, para acessar e interagir com os cadernos, pode-se utilizar o `jupyter lab` ou o `jupyter notebook`, disponibilizados pelo [Project Jupyter](https://jupyter.org). Isso pode ser feito tanto em um navegador como através de um editor de texto como o [VSCode](https://code.visualstudio.com)\n",
    "* Na nuvem, é possível\n",
    "  * Visualizar os cadernos no próprio github;\n",
    "  * Visualizar os cadernos no NBViewer;\n",
    "  * Interagir com os cadernos via [binder.org](https://mybinder.org)"
   ]
  },
  {
   "cell_type": "markdown",
   "metadata": {
    "slideshow": {
     "slide_type": "slide"
    }
   },
   "source": [
    "## Referências\n",
    "\n",
    "* Referências de Modelagem Matemática em geral:\n",
    "  * C. Dym, Principles of Mathematical Modeling, 2nd ed, Academic Press, 2004.\n",
    "  * G. Ledder, \"Mathematics for the Life Sciences\", Springer, 2013. Capítulo 2\n",
    "  * E. A. Bender, An Introduction to Mathematical Modeling, Dover, 1978.\n",
    "  * R. Arris, Mathematical Modelling Techniques, Dover Publications Inc., 1994.\n",
    "  * M. Alder, An Introduction to Mathematical Modelling, 2001.\n",
    "  * M. Mesterton-Gibbons, A Concrete Approach to Mathematical Modelling, John Wiley & Sons, Inc., 1995, 2007\n",
    "  * S. Heinz, Mathematical Modeling, Springer-Verlag Berlin Heidelberg, 2011.\n",
    "* Referências focadas em projetos:\n",
    "  * J. Caldwell & D. K. S. Ng, Mathematical Modelling. Case Studies & Projects, 2004.\n",
    "  * Frank R. Giordano, William P. Fox, Steven B. Horton, A First Course in Mathematical Modeling, Cengage Learning, 2013.\n",
    "  * A. B. Shiflet, G. W. Shiflet, Introduction to Computational Science. Modeling and Simulation for the Sciences, Second edition, Princeton University Press, 2014.\n",
    "  * M. Olinick, Mathematical Modeling in the Social and Life Sciences, Wiley, 2014.\n",
    "* Referências de tópicos específicos\n",
    "  * G. Barenblatt, Scaling, Cambridge Texts in Applied Mathematics, Series no. 34, Cambridge University Press, 2003.\n",
    "  * [S. Boyd, L. Vandenberghe, *Introduction to Applied Linear Algebra – Vectors, Matrices, and Least Squares*, Cambridge University Press, 2018.](https://web.stanford.edu/~boyd/vmls/)\n",
    "  * M. H. DeGroot, M. J Schervish, Probability and Statistics, Pearson Education 2012.\n",
    "  * D. R. Anderson, Model based inference in the life sciences: a primer on evidence. New York, Springer, 2008.\n",
    "  * J. R. Taylor, An Introduction to Error Analysis. The Study of Uncertainties in Physical Measurements. University Science Books, 1997.\n",
    "  * T. J. Sullivan, Introduction to Uncertainty Quantification, Texts in Applied Mathematics, vol. 63, Springer International Publishing, 1995. \n",
    "  * S. L. Brunton, J. N. Kutz, Data-Driven Science and Engineering: Machine Learning, Dynamical Systems, and Control, Cambridge University Press, 2019.\n",
    "  * K. B. Burnham, D. R. Anderson, Model Selection and Multimodel Inference: A Practical Information-Theoretic Approach, 2nd edition, Springer, 2002.\n",
    "* Textos e links sobre Modelagem Matemática\n",
    "  * [Guidelines for Assessment and Instruction in Mathematical Modeling Education (GAIMME)](https://m3challenge.siam.org/resources/teaching-modeling)\n",
    "  * [SIAM-NSF Workshop: Modeling across the Curriculum](https://grantome.com/grant/NSF/DUE-1206230) - [Report PDF](http://www.siam.org/Portals/0/Publications/Reports/modeling_Curriculum_2012.pdf?ver=2018-03-19-103125-163)\n",
    "  * [Math Modeling Hub](https://qubeshub.org/community/groups/mmhub)\n",
    "  * [Mathematical Modeling Preliminary Report](https://www.maa.org/sites/default/files/MathematicalModeling.pdf)"
   ]
  },
  {
   "cell_type": "markdown",
   "metadata": {
    "slideshow": {
     "slide_type": "slide"
    }
   },
   "source": [
    "## Comunicação\n",
    "\n",
    "* A comunicação entre o professor e os estudantes deve ser ou na sala de aula, ou no gabinete do professor ou através do [Google Classroom - 2022/1: Modelagem Matemática](https://classroom.google.com/c/NDcyNDc5MjEzODA5)."
   ]
  },
  {
   "cell_type": "markdown",
   "metadata": {
    "slideshow": {
     "slide_type": "slide"
    }
   },
   "source": [
    "## Avaliação\n",
    "\n",
    "Teremos \n",
    "* Listas periódicas\n",
    "* Projetos\n",
    "* Apresentações"
   ]
  },
  {
   "cell_type": "markdown",
   "metadata": {
    "slideshow": {
     "slide_type": "slide"
    }
   },
   "source": [
    "## Comentários sobre os livros\n",
    "\n",
    "* C. Dym, Principles of Mathematical Modeling, 2nd ed, Academic Press, 2004.\n",
    "  * Ótima discussão sobre modelagem matemática\n",
    "  * Contém vários aspectos discutios aqui\n",
    "  * Um capítulo dedicado a análise dimensional\n",
    "  * Ótimos exemplos\n",
    "* G. Ledder, Mathematics for the Life Sciences. Chapter2 - Mathematical Modeling\n",
    "  * O capítulo 2 é curto. Bom para a discussão inicial sobre princípios de modelagem e exemplos iniciais.\n",
    "  * O único que vi, até agora, discussão sobre critérios de informação (tem pelo menos o AIC - Akaike Information Criteria, mas não tem o BIC - Bayesian Information Criteria)\n",
    "* E. A. Bender, An Introduction to Mathematical Modeling, Dover, 1978.\n",
    "  * [USD&#36;16.95 na Amazon](https://www.amazon.com/Introduction-Mathematical-Modeling-Computer-Science/dp/048641180X/ref=pd_lpo_sbs_14_t_0?_encoding=UTF8&psc=1&refRID=5M064HQ724H9EG6GKF2C)\n",
    "  * É antigo, mas tem boas coias.\n",
    "  * A parte de argumento por escala é bem interessante. Ele chama de \"scale\", mas eu entendo escala como fazendo referências à mesma dimensão, como, por exemplo, metros e quilômetros, mas ele trata de áreas, volumes e massas, ou seja, ele compara dimensões diferentes. Eu chamaria isso de \"argumento por dimensão\". Na verdade ele também trata de dimensão nesse sentido e tem o Teorema de Buckingham-Pi e fala do período de um pêndulo perfeito.\n",
    "  * Em seguida ele tem um capítulo sobre \"Métodos Gráficos\", que é como uma análise qualitativa. Se encaixa bem com a análise que eu fiz no projeto do Cenpes.\n",
    "  * Depois tem capítulos de \"Otimização\", \"Probabilidade\", um \"Pout-Pourri\" de aplicações, e uma Parte II de métodos mais avançados, cobrindo brevemente vários tópicos mas que servem como ponto de partida para projetos.\n",
    "  * Acho uma boa opção como um dos textos básicos.\n",
    "* R. Arris, Mathematical Modelling Techniques, Dover Publications Inc., 1994.\n",
    "  * [USD&#36;12.21 na Amazon](https://www.amazon.com/Mathematical-Modelling-Techniques-Computer-Science/dp/0486681319)\n",
    "  * Ótimas discussões sobre modelagem e com bons modelos.\n",
    "* M. Alder, An Introduction to Mathematical Modelling, 2001.\n",
    "  * Me parecem [notas de aula com pdf disponível](https://people.maths.bris.ac.uk/~madjl/course_text.pdf). Não existe na Amazon.com.\n",
    "  * Modelagem apresentada caso-a-caso. Não há divisão por tipos de modelos.\n",
    "  * Os casos são simples, mas a contextualização dos modelos e a discussão do processo de modelagem são muito bem feitas.\n",
    "* M. Mesterton-Gibbons, A Concrete Approach to Mathematical Modelling, John Wiley & Sons, Inc., 1995, 2007 (US&#36;136)\n",
    "  * Logo no início há uma discussão detalhada e interessante, com dados reais, sobre ajuste de parâmetros no contexto de crescimento econômico, chegando ao modelo de Cobb-Douglas.\n",
    "  * Antes tem um exemplo decaimento de poluição (purificação de lago), com dados concretos dos Grandes Lagos dos EUA. \n",
    "  * Outros exemplos detalhados e com dados reais e ajustes: população americana, remo/canoagen; tráfego; dimensões, escalas e unidades\n",
    "  * Em seguida tem modelos interessantes e acessíveis de otimização. Revisita alguns modelos anteriores no contexto de otimização.\n",
    "  * Depois tem um capítulo sobre validação dos modelos. Novamente, revisita modelos anteriores para a validação.\n",
    "  * Depois passa para Probabilidade, alguns capítulos\n",
    "  * Depois tem capítulos juntando várias técnicas.\n",
    "  * É um ótimo livro. A discussão inicial sobre Modelagem poderia ser melhor. E ele poderia ter um aspecto mais moderno.\n",
    "* S. Heinz, Mathematical Modeling, Springer-Verlag Berlin Heidelberg, 2011.\n",
    "  * Também tem o aspecto de um livro moderno.\n",
    "  * Alterna capítulos com modelos \"determinísticos\" e \"estocásticos\", tratando de \"obervações\", \"estados estacionários\", \"mudanças\" e \"evolução\".\n",
    "  * Interessante.\n",
    "* M. Olinick, Mathematical Modeling in the Social and Life Sciences, Wiley, 2014.\n",
    "  * Como o próprio nome diz, foca em certos tipos particulares de modelos, mas são relativamente diversos e interessantes (populações de animais, economia, eleições, hospitais, tumor, teoria dos jogos, etc.)"
   ]
  }
 ],
 "metadata": {
  "kernelspec": {
   "display_name": "Julia 1.6.2",
   "language": "julia",
   "name": "julia-1.6"
  },
  "language_info": {
   "file_extension": ".jl",
   "mimetype": "application/julia",
   "name": "julia",
   "version": "1.6.2"
  }
 },
 "nbformat": 4,
 "nbformat_minor": 4
}
