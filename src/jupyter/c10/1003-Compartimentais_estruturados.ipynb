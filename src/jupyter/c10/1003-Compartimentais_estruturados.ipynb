{
 "cells": [
  {
   "cell_type": "markdown",
   "metadata": {
    "_cell_guid": "b1076dfc-b9ad-4769-8c92-a6c4dae69d19",
    "_uuid": "8f2839f25d086af736a60e9eeb907d3b93b6e0e5",
    "slideshow": {
     "slide_type": "slide"
    }
   },
   "source": [
    "# Modelos compartimentais estruturados\n",
    "\n",
    "* Modelos compartimentais onde os diferentes estágios da doença estão divididos em determinadas estruturas, ou grupos.\n",
    "\n",
    "* Especificamente, um modelo SIS com duas estruturas.\n",
    "\n",
    "* Análise matemática do modelo SIS com duas estruturas."
   ]
  },
  {
   "cell_type": "code",
   "execution_count": 1,
   "metadata": {
    "_cell_guid": "79c7e3d0-c299-4dcb-8224-4455121ee9b0",
    "_uuid": "d629ff2d2480ee46fbb7e2d37f6b5fab8052498a",
    "slideshow": {
     "slide_type": "slide"
    }
   },
   "outputs": [],
   "source": [
    "using LinearAlgebra\n",
    "using Plots\n",
    "using Images"
   ]
  },
  {
   "cell_type": "markdown",
   "metadata": {
    "slideshow": {
     "slide_type": "slide"
    }
   },
   "source": [
    "## Modelos estruturados\n",
    "\n",
    "Modelos estruturados aparecem naturalmente quando há uma separação entre grupos de indivíduos dentro de um mesmo estágio de uma doença.\n",
    "\n",
    "Essas estruturas podem aparecer por diversos motivos:\n",
    "\n",
    "- Motivos geográficos, e.g. grupos separados por bairros, cidades ou países.\n",
    "\n",
    "- Motivos comportamentais, e.g. grupos de alto risco vs grupos de baixo risco.\n"
   ]
  },
  {
   "cell_type": "markdown",
   "metadata": {
    "slideshow": {
     "slide_type": "slide"
    }
   },
   "source": [
    "### Exemplos \n",
    "\n",
    "#### HIV em Colorado Springs\n",
    "\n",
    "Rede de relações de contato sexual analisada em um estudo de transmissão de HIV em Colorado Springs, EUA (Fonte: Keeling & Rohani (2007)):"
   ]
  },
  {
   "cell_type": "markdown",
   "metadata": {
    "slideshow": {
     "slide_type": "fragment"
    }
   },
   "source": [
    "![HIV Colorado Springs](../../../_assets/attachments/img/HIV_ColoradoSprings_network.jpg)"
   ]
  },
  {
   "cell_type": "markdown",
   "metadata": {
    "slideshow": {
     "slide_type": "slide"
    }
   },
   "source": [
    "#### Divisão em bairros"
   ]
  },
  {
   "cell_type": "markdown",
   "metadata": {
    "slideshow": {
     "slide_type": "fragment"
    }
   },
   "source": [
    "![Sites graph](../../../_assets/attachments/img/sites_graph.png)"
   ]
  },
  {
   "cell_type": "markdown",
   "metadata": {
    "slideshow": {
     "slide_type": "slide"
    }
   },
   "source": [
    "## Modelo SIS homogêneo\n",
    "\n",
    "Lembremos do modelo SIS homogêneo, onde a população está dividida entre indivíduos **suscetíveis** e indivíduos **infectados-contagiosos** e estes são tratados de maneira homogênea. As respectivas populações são denotadas por $S$ e $I$, com o total permanecendo constante\n",
    "\n",
    "$$ S + I = N\n",
    "$$\n",
    "\n",
    "Neste caso, temos dois parâmetros:\n",
    "\n",
    "- $\\beta:$ **taxa de transmissão**\n",
    "\n",
    "- $\\gamma:$ **taxa de recuperação**\n",
    "\n",
    "Este modelo é utilizado, por exemplo, para \n",
    "\n",
    "- a gripe comum; e\n",
    "\n",
    "- algumas doenças sexualmente transmissíveis (DST) causadas por bactérias, como *gonorréia*, *sífilis*, *clamídia* e *candidíase*."
   ]
  },
  {
   "cell_type": "markdown",
   "metadata": {
    "slideshow": {
     "slide_type": "slide"
    }
   },
   "source": [
    "### Modelo na forma de ação de massas\n",
    "\n",
    "$$\n",
    "\\begin{cases}\n",
    "  S + I \\stackrel{\\beta}{\\longrightarrow} 2I, & \\text{(processo de infeção)} \\\\\n",
    "  I \\stackrel{\\gamma}{\\longrightarrow} S, & \\text{(processo de recuperação)}.\n",
    "\\end{cases}\n",
    "$$"
   ]
  },
  {
   "cell_type": "markdown",
   "metadata": {
    "slideshow": {
     "slide_type": "slide"
    }
   },
   "source": [
    "### Modelo na forma de grafo"
   ]
  },
  {
   "cell_type": "markdown",
   "metadata": {
    "slideshow": {
     "slide_type": "fragment"
    }
   },
   "source": [
    "![SIS graph](../../../_assets/attachments/img/sis_graph.png)"
   ]
  },
  {
   "cell_type": "markdown",
   "metadata": {
    "slideshow": {
     "slide_type": "slide"
    }
   },
   "source": [
    "## Modelo SIS com duas estruturas\n",
    "\n",
    "Vamos considerar, agora, um modelo SIS com duas estruturas, dividindo a população em dois grupos, os de alto-risco e os de baixo-risco.\n",
    "\n",
    "A análise abaixo é baseado na Seção 3.1.1 de Keeling & Rohani (2007).\n",
    "\n",
    "Definimos as seguintes variáveis:\n",
    "\n",
    "- $S_H = $ população de indivíduos suscetíveis de alto risco *(H=High)*.\n",
    "\n",
    "- $I_H = $ população de indivíduos infectados de alto risco *(H=High)*.\n",
    "\n",
    "- $S_L = $ população de indivíduos suscetíveis de baixo risco *(L=Low)*.\n",
    "\n",
    "- $I_L = $ população de indivíduos infectados de baixo risco *(L=Low)*.\n",
    "\n",
    "As populações totais de cada grupo permanecem constantes, assim como a população total:\n",
    "\n",
    "$$ S_H + I_H = N_H \\textrm{ (constante)}, \\qquad S_L + I_L = N_L \\textrm{ (constante)}, \\qquad N_H + N_L = N \\textrm{ (constante)}.\n",
    "$$"
   ]
  },
  {
   "cell_type": "markdown",
   "metadata": {
    "slideshow": {
     "slide_type": "slide"
    }
   },
   "source": [
    "### Dinâmica\n",
    "\n",
    "- Assumimos que o comportamento de cada indivíduo não muda, portanto, se ele é de baixo risco, continua sendo de baixo risco, mesmo que infectado, e se ele é de alto risco, idem.\n",
    "\n",
    "- A recuperação também se dá dentro do mesmo grupo, com um infectado de baixo risco eventualmente sendo curado e se tornando suscetível de baixo risco e, da mesma forma, um indivíduo infectado de alto risco se tornando suscetível de alto risco.\n",
    "\n",
    "- No entanto, um indivíduo suscetível de baixo ou de alto risco pode se tornar infectado se relacionando com um indivíduo infectado de qualquer um dos dois grupos.\n",
    "\n",
    "Na forma de ação de massas, isso pode ser descrito pelas reações\n",
    "\n",
    "$$\n",
    "\\begin{cases}\n",
    "  S_H + I_H \\stackrel{\\beta_{HH}}{\\longrightarrow} 2I_H, & \\text{(processo de infeção entre indivíduos de alto risco)} \\\\\n",
    "  S_H + I_L \\stackrel{\\beta_{HL}}{\\longrightarrow} I_H + I_L, & \\text{(processo de infeção entre um suscetível de alto risco e um infectado de baixo risco)} \\\\\n",
    "  S_L + I_H \\stackrel{\\beta_{LH}}{\\longrightarrow} I_L + I_H, & \\text{(processo de infeção entre um suscetível de baixo risco e um infectado de alto risco)} \\\\\n",
    "  S_L + I_L \\stackrel{\\beta_{LL}}{\\longrightarrow} 2I_L, & \\text{(processo de infeção entre indivíduos de baixo risco)} \\\\\n",
    "  I_H \\stackrel{\\gamma_H}{\\longrightarrow} S_H, & \\text{(processo de recuperação de indivíuos de alto risco)} \\\\\n",
    "  I_L \\stackrel{\\gamma_L}{\\longrightarrow} S_L, & \\text{(processo de recuperação de indivíuos de baixo risco)}.\n",
    "\\end{cases}\n",
    "$$"
   ]
  },
  {
   "cell_type": "markdown",
   "metadata": {
    "slideshow": {
     "slide_type": "slide"
    }
   },
   "source": [
    "### Parâmetros\n",
    "\n",
    "Os parâmetros são similares ao do SIS homogêneo, mas levando em consideração as peculiaridades de cada grupo. Mais precisamente:\n",
    "\n",
    "- $\\beta_{HH} =$ taxa de transmissão por unidade de tempo por indivíduo suscetível de baixo risco a partir de interações com o indivíduos infectados de alto risco (\"high to high\").\n",
    "\n",
    "- $\\beta_{HL} =$ taxa de transmissão por unidade de tempo por indivíduo suscetível de baixo risco a partir de interações com o indivíduos infectados de baixo risco (\"low to high\").\n",
    "\n",
    "- $\\beta_{LH} =$ taxa de transmissão por unidade de tempo por indivíduo suscetível de baixo risco a partir de interações com o indivíduos infectados de alto risco (\"high to low\").\n",
    "\n",
    "- $\\beta_{LL} =$ taxa de transmissão por unidade de tempo por indivíduo suscetível de baixo risco a partir de interações com indivíduos infectados de baixo risco (\"low to low\").\n",
    "\n",
    "- $\\gamma_H =$ taxa de recuperação por unidade de tempo por indivíduo infectado de alto risco.\n",
    "\n",
    "- $\\gamma_L =$ taxa de recuperação por unidade de tempo por indivíduo infectado de baixo risco."
   ]
  },
  {
   "cell_type": "markdown",
   "metadata": {
    "slideshow": {
     "slide_type": "slide"
    }
   },
   "source": [
    "### Relações típicas entre os parâmetros\n",
    "\n",
    "É comum considerar as seguintes simplificações nos parâmetros:\n",
    "\n",
    "- $\\beta_{HH} \\gg \\beta_{LL}$: a taxa de transmissão é maior entre indivíduos de alto risco do que entre os de baixo risco, pois o número de encontros por indivíduo por unidade de tempo entre os indivíduos de maior risco é maior do que entre os de menor risco;\n",
    "\n",
    "- $\\beta_{LL} \\gg \\beta_{LH}, \\,\\beta_{HL}$, com base em que o número de encontros entre indivíuos de grupos diferentes é menor do que entre indivíduos do mesmo grupo.\n",
    "\n",
    "- $\\beta_{HL} = \\beta_{LH}$: as taxas de transmissões são simétricas entre os diferentes grupos; \n",
    "\n",
    "- $\\gamma_L = \\gamma_H$: as taxas de recuperação independem do grupo de risco;"
   ]
  },
  {
   "cell_type": "markdown",
   "metadata": {
    "slideshow": {
     "slide_type": "slide"
    }
   },
   "source": [
    "### Representação incluindo ações/processos"
   ]
  },
  {
   "cell_type": "markdown",
   "metadata": {
    "slideshow": {
     "slide_type": "fragment"
    }
   },
   "source": [
    "![SIS structure graph](../../../_assets/attachments/img/sis_struct_graph.png)"
   ]
  },
  {
   "cell_type": "markdown",
   "metadata": {
    "slideshow": {
     "slide_type": "slide"
    }
   },
   "source": [
    "### Sistema de equações diferencias\n",
    "\n",
    "Lembremos dos processos dinâmicos em forma de lei de ação de massas:\n",
    "\n",
    "$$\n",
    "\\begin{cases}\n",
    "  S_H + I_H \\stackrel{\\beta_{HH}}{\\longrightarrow} 2I_H, & \\text{(infeção entre indivíduos de alto risco)} \\\\\n",
    "  S_H + I_L \\stackrel{\\beta_{HL}}{\\longrightarrow} I_H + I_L, & \\text{(infeção entre suscetível de alto risco e infectado de baixo risco)} \\\\\n",
    "  S_L + I_H \\stackrel{\\beta_{LH}}{\\longrightarrow} I_L + I_H, & \\text{(infeção entre suscetível de baixo risco e infectado de alto risco)} \\\\\n",
    "  S_L + I_L \\stackrel{\\beta_{LL}}{\\longrightarrow} 2I_L, & \\text{(infeção entre indivíduos de baixo risco)} \\\\\n",
    "  I_H \\stackrel{\\gamma_H}{\\longrightarrow} S_H, & \\text{(recuperação de indivíuos de alto risco)} \\\\\n",
    "  I_L \\stackrel{\\gamma_L}{\\longrightarrow} S_L, & \\text{(recuperação de indivíuos de baixo risco)}.\n",
    "\\end{cases}\n",
    "$$"
   ]
  },
  {
   "cell_type": "markdown",
   "metadata": {
    "slideshow": {
     "slide_type": "slide"
    }
   },
   "source": [
    "Analisemos $S_H$. Este termo aparece nas duas primeiras equações e na penúltima. As duas primeiras se referem à redução da população $S_H$ por infecção com os grupos $I_H$ e $I_L$. A última se refere ao aumento da população $S_H$ com a cura de infectados $I_H$. Levando em consideração as taxas de reação em cada uma delas, e que os número de encontros com indivíduos de cada grupo são em termos da proporção em relação à população total, chegamos à equação\n",
    "\n",
    "$$ \\frac{\\mathrm{d} I_H}{\\mathrm{d}t} = \\beta_{HL}\\frac{I_L}{N}S_H + \\beta_{HH}\\frac{I_H}{N}S_H - \\gamma_H I_H.\n",
    "$$\n",
    "\n",
    "Da mesma forma para as outras variáveis. Assim, chegamos ao sistema\n",
    "\n",
    "$$ \\begin{cases}\n",
    "     \\frac{\\displaystyle \\mathrm{d} S_H}{\\displaystyle \\mathrm{d}t} = -\\beta_{HL}\\frac{I_L}{N}S_H - \\beta_{HH}\\frac{I_H}{N}S_H + \\gamma_H I_H, \\\\\n",
    "     \\frac{\\displaystyle \\mathrm{d} I_H}{\\displaystyle \\mathrm{d}t} = \\beta_{HL}\\frac{I_L}{N}S_H + \\beta_{HH}\\frac{I_H}{N}S_H - \\gamma_H I_H, \\\\\n",
    "     \\frac{\\displaystyle\\mathrm{d} S_L}{\\displaystyle \\mathrm{d}t} = -\\beta_{LL}\\frac{I_L}{N}S_L - \\beta_{LH}\\frac{I_H}{N}S_L + \\gamma_L I_L, \\\\\n",
    "     \\frac{\\displaystyle \\mathrm{d} I_L}{\\displaystyle \\mathrm{d}t} = \\beta_{LL}\\frac{I_L}{N}S_L + \\beta_{LH}\\frac{I_H}{N}S_L - \\gamma_L I_L.\n",
    "  \\end{cases}\n",
    "$$\n"
   ]
  },
  {
   "cell_type": "markdown",
   "metadata": {
    "slideshow": {
     "slide_type": "slide"
    }
   },
   "source": [
    "### Sistema em termos de densidades populacionais\n",
    "\n",
    "Considerando\n",
    "\n",
    "$$ s_H = \\frac{S_H}{N}, \\quad i_H = \\frac{I_H}{N}, \\quad s_L = \\frac{S_L}{N}, \\quad  i_L = \\frac{I_L}{N}, \n",
    "$$\n",
    "\n",
    "o sistema pode ser reescrito na forma\n",
    "\n",
    "$$ \\begin{cases}\n",
    "     \\frac{\\displaystyle \\mathrm{d} s_H}{\\displaystyle \\mathrm{d}t} = -\\beta_{HL} \\,i_L s_H - \\beta_{HH} \\,i_H s_H + \\gamma_H \\,i_H, \\\\\n",
    "     \\frac{\\displaystyle \\mathrm{d} i_H}{\\displaystyle \\mathrm{d}t} = \\beta_{HL} \\,i_L s_H + \\beta_{HH} \\,i_H s_H - \\gamma_H \\,i_H, \\\\\n",
    "     \\frac{\\displaystyle\\mathrm{d} s_L}{\\displaystyle \\mathrm{d}t} = -\\beta_{LL} \\,i_L s_L - \\beta_{LH} \\,i_H s_L + \\gamma_L \\,i_L, \\\\\n",
    "     \\frac{\\displaystyle \\mathrm{d} i_L}{\\displaystyle \\mathrm{d}t} = \\beta_{LL} \\,i_L s_L + \\beta_{LH} \\,i_H s_L - \\gamma_L \\,i_L.\n",
    "  \\end{cases}\n",
    "$$"
   ]
  },
  {
   "cell_type": "markdown",
   "metadata": {
    "slideshow": {
     "slide_type": "slide"
    }
   },
   "source": [
    "## Análise do sistema SIS com duas estruturas\n",
    "\n",
    "Vamos buscar condições associadas à existência de epidemia, assim como o comportamento global do sistema."
   ]
  },
  {
   "cell_type": "markdown",
   "metadata": {
    "slideshow": {
     "slide_type": "slide"
    }
   },
   "source": [
    "### Matriz de transmissão\n",
    "\n",
    "As taxas de transmissão podem ser agrupadas em uma **matriz de transmissão**\n",
    "\n",
    "$$ B = \\left[ \\begin{matrix} \\beta_{HH} & \\beta_{HL} \\\\ \\beta_{LH}  & \\beta_{LL} \\end{matrix} \\right]\n",
    "$$\n",
    "\n",
    "As frações da população em cada grupo podem ser agrupadas na matriz diagonal\n",
    "\n",
    "$$ N = \\left[ \\begin{matrix} n_H & 0 \\\\ 0  & n_L \\end{matrix} \\right],\n",
    "$$\n",
    "\n",
    "assim como a **matriz de recuperação** é dada por\n",
    "\n",
    "$$ \\Gamma = \\left[ \\begin{matrix} \\gamma_H & 0 \\\\ 0  & \\gamma_L \\end{matrix} \\right],\n",
    "$$\n"
   ]
  },
  {
   "cell_type": "markdown",
   "metadata": {
    "slideshow": {
     "slide_type": "slide"
    }
   },
   "source": [
    "### Exemplo sintético\n",
    "\n",
    "Pensando nas condições típicas dos parâmetros ($\\beta_{HH} \\gg \\beta_{LL} \\gg \\beta_{LH}=\\beta_{HL}$), um exemplo sintético é\n",
    "\n",
    "$$ B = \\left[ \\begin{matrix} 10 & 0.1 \\\\ 0.1  & 1 \\end{matrix} \\right]\n",
    "$$\n",
    "\n",
    "Assumimos, também, que \n",
    "\n",
    "$$ \\gamma_L = \\gamma_H = 1\n",
    "$$\n",
    "\n",
    "Consideramos \"1 mês\" como sendo a unidade de tempo.\n",
    "\n",
    "Assumimos, finalmente, que a população está dividida em $20\\%$ em grupo de alto risco e $80\\%$ em grupo de baixo risco, ou seja,\n",
    "\n",
    "$$ n_H = 0.8, \\qquad n_L = 0.2.\n",
    "$$"
   ]
  },
  {
   "cell_type": "markdown",
   "metadata": {
    "slideshow": {
     "slide_type": "slide"
    }
   },
   "source": [
    "Compare isso com a matriz de transmissão no estudo de HIV em Colorado Springs:"
   ]
  },
  {
   "cell_type": "markdown",
   "metadata": {
    "slideshow": {
     "slide_type": "fragment"
    }
   },
   "source": [
    "![HIV Colorado Springs transmission matrix](../../../_assets/attachments/img/HIV_ColoradoSprings_TransmissionMatrix.jpg)"
   ]
  },
  {
   "cell_type": "markdown",
   "metadata": {
    "slideshow": {
     "slide_type": "slide"
    }
   },
   "source": [
    "### Condição para epidemia\n",
    "\n",
    "No caso homogêneo, analisamos (exercício) a equação $i' = \\beta is - \\gamma i$.\n",
    "\n",
    "No caso com estrutura, temos infectados em mais de um grupo e isso nos leva a analisar o subsistema\n",
    "\n",
    "$$ \\begin{cases}\n",
    "     \\frac{\\displaystyle \\mathrm{d} i_H}{\\displaystyle \\mathrm{d}t} = \\beta_{HL} \\,i_L s_H + \\beta_{HH} \\,i_H s_H - \\gamma_H \\,i_H. \\\\\n",
    "     \\frac{\\displaystyle \\mathrm{d} i_L}{\\displaystyle \\mathrm{d}t} = \\beta_{LL} \\,i_L s_L + \\beta_{LH} \\,i_H s_L - \\gamma_L \\,i_L.\n",
    "  \\end{cases}\n",
    "$$\n",
    "\n",
    "Assumindo, inicialmente, que a população de suscetíveis é praticamente toda a população inicial, dentro de cada grupo, i.e. $s_L \\approx n_L = N_L/N$ e $s_H \\approx n_H = N_H/N$, temos \n",
    "\n",
    "$$ \\frac{\\displaystyle \\mathrm{d}}{\\displaystyle \\mathrm{d}t} \\left(\\begin{matrix} i_H \\\\ i_L \\end{matrix} \\right) \\lessapprox \\left[ \\begin{matrix} \\beta_{HH}n_H - \\gamma_H & \\beta_{HL}n_H \\\\ \\beta_{LH}n_L  & \\beta_{LL}n_L - \\gamma_L \\end{matrix} \\right] \\left(\\begin{matrix} i_H \\\\ i_L \\end{matrix} \\right).\n",
    "$$\n",
    "\n",
    "Observe que\n",
    "\n",
    "$$ \\left[ \\begin{matrix} \\beta_{HH}n_H - \\gamma_H & \\beta_{HL}n_H \\\\ \\beta_{LH}n_L  & \\beta_{LL}n_L - \\gamma_L \\end{matrix} \\right] = NB - \\Gamma.\n",
    "$$\n",
    "\n",
    "\n",
    "\n",
    "\n",
    "\n"
   ]
  },
  {
   "cell_type": "markdown",
   "metadata": {
    "slideshow": {
     "slide_type": "slide"
    }
   },
   "source": [
    "### Crescimento epidêmico em cada grupo\n",
    "\n",
    "Para que $i_H(t)$ seja crescente, vemos, da equação, que é necessário que\n",
    "\n",
    "$$ (\\beta_{HH}n_H - \\gamma_H)i_H + \\beta_{HL}n_H i_L > 0,\n",
    "$$\n",
    "\n",
    "enquanto que, para que $i_L(t)$ seja crescente, é necessário que\n",
    "\n",
    "$$ (\\beta_{LL}n_L - \\gamma_L)i_L + \\beta_{LH}n_L i_H > 0.\n",
    "$$\n",
    "\n",
    "Mas pensando em termos da interpretação de $R_0$ como o número de transmissões secundárias, podemos definir um número básico de reprodução para cada grupo:\n",
    "\n",
    "$$ R_0^H = \\frac{\\beta_{HH}n_H + \\beta_{LH}n_L}{\\gamma_H},\n",
    "$$\n",
    "\n",
    "e\n",
    "\n",
    "$$ R_0^L = \\frac{\\beta_{LL}n_L + \\beta_{HL}n_H}{\\gamma_L}.\n",
    "$$\n",
    "\n",
    "Mas a relação desses números básicos de reprodução com o crescimento do número de infectado em cada grupo não é imediatamente claro."
   ]
  },
  {
   "cell_type": "markdown",
   "metadata": {
    "slideshow": {
     "slide_type": "slide"
    }
   },
   "source": [
    "### No exemplo sintético\n",
    "\n",
    "De qualquer maneira, considerando o exemplo sintético acima, temos\n",
    "\n",
    "$$ R_0^H = \\frac{10 \\times 0.2 + 0.1 \\times 0.8}{1} = 2.08 \n",
    "$$\n",
    "\n",
    "e\n",
    "\n",
    "$$ R_0^L = \\frac{1 \\times 0.8 + 0.1 \\times 0.2}{1} = 0.82.\n",
    "$$"
   ]
  },
  {
   "cell_type": "markdown",
   "metadata": {
    "slideshow": {
     "slide_type": "slide"
    }
   },
   "source": [
    "### Análise matricial\n",
    "\n",
    "O fato é que o sistema está acoplado, então uma análise separada do crescimento de cada grupo de infectado não é possível. Devemos fazer uma análise conjunta.\n",
    "\n",
    "Podemos fazer isso analisando, como dissemos antes, o sistema\n",
    "\n",
    "$$ \\frac{\\displaystyle \\mathrm{d}}{\\displaystyle \\mathrm{d}t} \\left(\\begin{matrix} i_H \\\\ i_L \\end{matrix} \\right) \\lessapprox \\left[ \\begin{matrix} \\beta_{HH}n_H - \\gamma_H & \\beta_{HL}n_H \\\\ \\beta_{LH}n_L  & \\beta_{LL}n_L - \\gamma_L \\end{matrix} \\right] \\left(\\begin{matrix} i_H \\\\ i_L \\end{matrix} \\right).\n",
    "$$\n",
    "\n",
    "O crescimento inicial, ou não, de $i_H$ e/ou de $i_L$ será determinado, essencialmente, pelo maior autovalor da matriz $NB-\\Gamma$ associada ao sistema acima.\n",
    "\n"
   ]
  },
  {
   "cell_type": "markdown",
   "metadata": {
    "slideshow": {
     "slide_type": "slide"
    }
   },
   "source": [
    "### Medindo o número de infectados\n",
    "\n",
    "O número total de infectados é $i = i_H + i_L$. \n",
    "\n",
    "Por outro lado, na análise do sistema acima, é mais apropriado considerarmos a norma euclidiana  $\\sqrt{i_H^2 + i_L^2}$ do vetor $(i_H, i_L)$.\n",
    "\n",
    "Como $i_H$ e $i_L$ são não-negativos, $i = i_H + i_L$ nos dá a norma da soma do vetor $(i_H, i_L)$ (ou norma $\\ell^1$).\n",
    "\n",
    "As duas medidas, felizmente, são equivalentes:\n",
    "\n",
    "$$ \\sqrt{i_H^2 + i_L^2} \\leq i_H + i_L \\leq \\sqrt{2}\\sqrt{i_H^2 + i_L^2}.\n",
    "$$\n",
    "\n",
    "De fato, basta elevar ao quadrado para obter, de um lado,\n",
    "\n",
    "$$ i_H^2 + i_L^2 \\leq i_H^2 + 2i_Hi_L + i_L^2 = (i_H + i_L)^2\n",
    "$$\n",
    "\n",
    "e, de outro, usando a desigualdade de Young $ab \\leq (a^2 + b^2)/2$,\n",
    "\n",
    "$$ (i_H + i_L)^2 = i_H^2 + 2i_Hi_L + i_L^2 \\leq 2(i_H^2 + i_L^2).\n",
    "$$"
   ]
  },
  {
   "cell_type": "markdown",
   "metadata": {
    "slideshow": {
     "slide_type": "slide"
    }
   },
   "source": [
    "### Autovalores da matriz associada\n",
    "\n",
    "Pelo susbsistema\n",
    "\n",
    "$$ \\frac{\\displaystyle \\mathrm{d}}{\\displaystyle \\mathrm{d}t} \\left(\\begin{matrix} i_H \\\\ i_L \\end{matrix} \\right) \\lessapprox \\left[ \\begin{matrix} \\beta_{HH}n_H - \\gamma_H & \\beta_{HL}n_H \\\\ \\beta_{LH}n_L  & \\beta_{LL}n_L - \\gamma_L \\end{matrix} \\right] \\left(\\begin{matrix} i_H \\\\ i_L \\end{matrix} \\right).\n",
    "$$\n",
    "\n",
    "vemos que uma condição necessária para o crescimento da norma euclidiana do vetor $(i_H, i_L)$ é a de que o maior autovalor da matriz associada $NB-\\Gamma$ seja positivo. \n",
    "\n",
    "Esta é uma matriz quadrada $2 \\times 2$, portanto é fácil calcularmos os seus autovalores.\n",
    "\n",
    "Temos\n",
    "\n",
    "$$ \\mathop{\\mathrm{tr}}(NB-\\Gamma) = \\beta_{HH}n_H - \\gamma_H + \\beta_{LL}n_L - \\gamma_L\n",
    "$$\n",
    "\n",
    "$$ \\det(NB-\\Gamma) = (\\beta_{HH}n_H - \\gamma_H)(\\beta_{LL}n_L - \\gamma_L) - \\beta_{HL}n_H\\beta_{LH}n_L.\n",
    "$$\n",
    "\n",
    "Em geral, o maior autovalor de uma matriz quadrada $2\\times 2$ é\n",
    "\n",
    "$$ \\lambda_+ = \\frac{\\mathop{\\mathrm{tr}}(NB-\\Gamma) + \\sqrt{\\mathop{\\mathrm{tr}}(NB-\\Gamma)^2 - 4\\det(NB-\\Gamma)}}{2}\n",
    "$$"
   ]
  },
  {
   "cell_type": "markdown",
   "metadata": {
    "slideshow": {
     "slide_type": "slide"
    }
   },
   "source": [
    "Como \n",
    "\n",
    "$$ \\mathop{\\mathrm{tr}}(NB-\\Gamma)^2 = (\\beta_{HH}n_H - \\gamma_H + \\beta_{LL}n_L - \\gamma_L)^2 = (\\beta_{HH}n_H - \\gamma_H )^2 + 2(\\beta_{HH}n_H - \\gamma_H)(\\beta_{LL}n_L - \\gamma_L) + (\\beta_{LL}n_L - \\gamma_L)^2,\n",
    "$$\n",
    "\n",
    "vemos que\n",
    "\n",
    "$$ \\mathop{\\mathrm{tr}}(NB-\\Gamma)^2 - 4\\det(NB-\\Gamma) = ((\\beta_{HH}n_H - \\gamma_H) - (\\beta_{LL}n_L - \\gamma_L))^2 + 4\\beta_{HL}n_H\\beta_{LL}n_L.\n",
    "$$\n",
    "\n",
    "Esperamos que $\\beta_{HH}>> \\beta_{LL}$, mas também que $n_L \\gg n_H$, então a relação entre os dois termos do traço não é claro. De qualquer forma, vamos considerar o caso em que $\\beta_{HH}n_H - \\gamma_H \\geq \\beta_{LL}n_L - \\gamma_L$."
   ]
  },
  {
   "cell_type": "markdown",
   "metadata": {
    "slideshow": {
     "slide_type": "slide"
    }
   },
   "source": [
    "Assumindo $\\beta_{HH}n_H - \\gamma_H \\geq \\beta_{LL}n_L - \\gamma_L$, $n_L \\geq n_H$ e $\\beta_{LH} = \\beta_{HL}$, temos\n",
    "\n",
    "$$ \\sqrt{\\mathop{\\mathrm{tr}}(NB-\\Gamma)^2 - 4\\det(NB-\\Gamma)} \\leq (\\beta_{HH}n_H - \\gamma_H) - (\\beta_{LL}n_L - \\gamma_L) + 2\\sqrt{\\beta_{HL}n_H\\beta_{LH}n_L},\n",
    "$$\n",
    "\n",
    "de modo que\n",
    "\n",
    "$$ \\lambda_+ \\leq \\beta_{HH}n_H - \\gamma_H + \\sqrt{\\beta_{HL}n_H\\beta_{LH}n_L} \\leq \\beta_{HH}n_H - \\gamma_H + \\beta_{HL}n_L = \\gamma_H \\left( \\frac{\\beta_{HH}n_H + \\beta_{HL}n_L}{\\gamma_H} - 1\\right).\n",
    "$$\n",
    "\n",
    "Portanto\n",
    "\n",
    "$$ \\lambda_+ \\leq \\gamma_H(R_0^H - 1).\n",
    "$$\n",
    "\n",
    "Se $\\lambda_+ > 0$, então $R_0^H > 1$, mas essas condições não são equivalentes."
   ]
  },
  {
   "cell_type": "markdown",
   "metadata": {
    "slideshow": {
     "slide_type": "slide"
    }
   },
   "source": [
    "#### Maior autovalor no exemplo sintético\n",
    "\n",
    "No exemplo, temos\n",
    "\n",
    "$$ NB-\\Gamma = \\left[ \\begin{matrix} 10 \\times 0.2 - 1 & 0.1 \\times 0.2 \\\\ 0.1 \\times 0.8 & 1 \\times 0.8 - 1 \\end{matrix} \\right] = \\left[ \\begin{matrix} 1 & 0.02 \\\\ 0.08 & -0.2 \\end{matrix} \\right],\n",
    "$$\n",
    "\n",
    "cujos autovalores são\n",
    "\n",
    "$$ \\lambda_+ \\approx 1.0013, \\quad \\lambda_- \\approx -0.2013.\n",
    "$$\n",
    "\n",
    "Observe que \n",
    "\n",
    "$$  \\gamma_H(R_0^H - 1) \\approx 1.08,\n",
    "$$\n",
    "\n",
    "o que dá uma \"folga\" de $1.08-1.013 = 0.0787$."
   ]
  },
  {
   "cell_type": "code",
   "execution_count": 7,
   "metadata": {
    "slideshow": {
     "slide_type": "slide"
    }
   },
   "outputs": [
    {
     "data": {
      "text/plain": [
       "Eigen{Float64, Float64, Matrix{Float64}, Vector{Float64}}\n",
       "values:\n",
       "2-element Vector{Float64}:\n",
       " -0.20133185513491633\n",
       "  1.0013318551349164\n",
       "vectors:\n",
       "2×2 Matrix{Float64}:\n",
       " -0.0166459  0.99779\n",
       "  0.999861   0.0664456"
      ]
     },
     "execution_count": 7,
     "metadata": {},
     "output_type": "execute_result"
    }
   ],
   "source": [
    "A = [1 0.02; 0.08 -0.2]\n",
    "eigen(A)"
   ]
  },
  {
   "cell_type": "code",
   "execution_count": 8,
   "metadata": {
    "slideshow": {
     "slide_type": "fragment"
    }
   },
   "outputs": [
    {
     "data": {
      "text/plain": [
       "2-element Vector{Float64}:\n",
       " -0.20133185513491633\n",
       "  1.0013318551349164"
      ]
     },
     "execution_count": 8,
     "metadata": {},
     "output_type": "execute_result"
    }
   ],
   "source": [
    "eigvals(A)"
   ]
  },
  {
   "cell_type": "code",
   "execution_count": 9,
   "metadata": {
    "slideshow": {
     "slide_type": "fragment"
    }
   },
   "outputs": [
    {
     "data": {
      "text/plain": [
       "2×2 Matrix{Float64}:\n",
       " -0.0166459  0.99779\n",
       "  0.999861   0.0664456"
      ]
     },
     "execution_count": 9,
     "metadata": {},
     "output_type": "execute_result"
    }
   ],
   "source": [
    "eigvecs(A)"
   ]
  },
  {
   "cell_type": "markdown",
   "metadata": {
    "slideshow": {
     "slide_type": "slide"
    }
   },
   "source": [
    "### Crescimento de cada grupo de infectados\n",
    "\n",
    "Como a matriz associada $NB-\\Gamma$ não é diagonal (a menos que não haja transmissão cruzada entre os grupos), então o **autovetor** associado ao maior autovalor tem componentes nos dois \"eixos\" $i_H$ e $i_L$, ou seja, ambos tem um crescimento inicial exponencial, \n",
    "\n",
    "$$ i_H \\sim e^{\\lambda_+ t}, \\qquad i_L \\sim e^{\\lambda_+ t}\n",
    "$$\n",
    "\n",
    "A relação entre $i_H$ e $i_L$, nessa direção de maior crescimento, é dada pelas componente do autovetor associado a $\\lambda_+$."
   ]
  },
  {
   "cell_type": "markdown",
   "metadata": {
    "slideshow": {
     "slide_type": "slide"
    }
   },
   "source": [
    "### Pontos importantes\n",
    "\n",
    "1. O número básico de reprodução da população inteira é obtido através da análise de autovalores de uma matriz apropriada.\n",
    "\n",
    "1. O número básico de reprodução é limitado pelos valores dos números individuais de cada grupo."
   ]
  },
  {
   "cell_type": "markdown",
   "metadata": {
    "slideshow": {
     "slide_type": "slide"
    }
   },
   "source": [
    "## Modelo SIR em rede de sítios\n",
    "\n",
    "### Representação do sistema\n",
    "\n",
    "Nesse caso, consideramos \n",
    "\n",
    "- $m$ **sítios**.\n",
    "\n",
    "- Em cada sítio, uma **população total** $N_i$, com um número $S_i$ de **suscetíveis**, $I_i$ de **infectados** e $R_i$ de **recuperados**, $i=1, \\ldots, m$.\n",
    "\n",
    "- Sem vitalidade, de forma que $S_i + I_i + R_i = N_i$ é constante, para cada $i=1, \\ldots, m$."
   ]
  },
  {
   "cell_type": "markdown",
   "metadata": {
    "slideshow": {
     "slide_type": "fragment"
    }
   },
   "source": [
    "![Sites graph](../../../_assets/attachments/img/sites_graph.png)"
   ]
  },
  {
   "cell_type": "markdown",
   "metadata": {
    "slideshow": {
     "slide_type": "slide"
    }
   },
   "source": [
    "### Dinâmica\n",
    "\n",
    "- Denominamos por **um ciclo** cada unidade de tempo, digamos um dia.\n",
    "\n",
    "- O **ciclo** possui uma fase **ativa**, onde a infeção pode ocorrer, e uma fase **inativa**, onde não há transmissão da infecção.\n",
    "\n",
    "- Na fase **ativa** de cada ciclo, uma **fração** $\\alpha_{ij}$ da população $N_i$ migra **do sítio $i$ para o sítio $j$**, voltando ao sítio $i$ na fase **inativa**.\n",
    "\n",
    "- Naturalmente, $0\\leq \\alpha_{ij} \\leq 1$, para cada $i,j=1, \\ldots, m$, e $\\sum_{j=1}^m\\alpha_{ij} = 1$, para cada $i=1,\\ldots, m$.\n",
    "\n",
    "- Em cada sítio $j=1, \\ldots, m$, os indivíduos **suscetíveis** que lá se encontram podem se tornar **infectados** ao encontrar um indivíduo infectado no mesmo sítio, com um **fator de transmissão** $\\beta_j$ característico do sítio $j$ em que se encontram.\n",
    "\n",
    "- Os indivíduos **infectados** de cada sítio, podem se recuperar com um **fator de recuperação** $\\gamma_i$, característico do ambiente e dos indivíduos que habitam o sítio."
   ]
  },
  {
   "cell_type": "markdown",
   "metadata": {
    "slideshow": {
     "slide_type": "slide"
    }
   },
   "source": [
    "### Sistema de equações diferenciais\n",
    "\n",
    "Temos o sistema\n",
    "\n",
    "$$\n",
    "\\begin{cases}\n",
    "  \\displaystyle \\frac{\\rm d S_i}{\\rm d t} = - \\sum_{j=1}^m \\sum_{k=1}^m \\beta_j\\alpha_{kj}\\alpha_{ij}\\frac{I_k}{\\tilde N_j}S_i, & i = 1, \\ldots, m, \\\\\n",
    "  \\displaystyle \\frac{\\rm d I_i}{\\rm d t} = \\sum_{j=1}^m \\sum_{k=1}^m \\beta_j\\alpha_{kj}\\alpha_{ij}\\frac{I_k}{\\tilde N_j}S_i - \\gamma_i I_i, & i = 1, \\ldots, m, \\\\\n",
    "  \\displaystyle \\frac{\\rm d R_i}{\\rm d t} = \\gamma_i I_i, & i = 1, \\ldots, m,\n",
    "\\end{cases}\n",
    "$$\n",
    "\n",
    "onde\n",
    "\n",
    "$$ \\tilde N_j = \\sum_{i=1}^n \\alpha_{ij}N_i, \\qquad j = 1, \\ldots, m,\n",
    "$$\n",
    "\n",
    "é a população existente no sítio $j$ durante a fase ativa do ciclo."
   ]
  },
  {
   "cell_type": "markdown",
   "metadata": {
    "slideshow": {
     "slide_type": "slide"
    }
   },
   "source": [
    "### Conservação da população total de cada sítio\n",
    "\n",
    "Podemos verificar, como esperado da modelagem, que a população total originária de cada sítio permanece constante:\n",
    "\n",
    "$$ \\frac{\\rm d N_i}{\\rm d t}  = \\frac{\\rm d}{\\rm d t}\\left( S_i + I_i + R_i \\right) = 0.\n",
    "$$\n",
    "\n",
    "Assim, \n",
    "\n",
    "$$ N_i = S_i + I_i + R_i = \\text{ constante}, \\qquad \\forall i =1, \\ldots, m.\n",
    "$$\n",
    "\n",
    "Como consequência, também temos que a população em cada sítio durante a fase ativa do ciclo também é constante:\n",
    "\n",
    "$$ \\tilde N_j = \\sum_{i=1}^n \\alpha_{ij}N_i = \\text{ constante}, \\qquad \\forall j = 1, \\ldots, m.\n",
    "$$"
   ]
  },
  {
   "cell_type": "markdown",
   "metadata": {
    "slideshow": {
     "slide_type": "slide"
    }
   },
   "source": [
    "### Redução do sistema\n",
    "\n",
    "Como no caso do modelo SIR clássico, podemos reduzir o sistema a um subsistema envolvendo apenas **suscetíveis** e **infectados**, considerando que a população total é constante.\n",
    "\n",
    "Temos \n",
    "\n",
    "$$ R_i = N_i - S_i - I_i\n",
    "$$\n",
    "\n",
    "e basta consideramos\n",
    "\n",
    "$$\n",
    "\\begin{cases}\n",
    "  \\displaystyle \\frac{\\rm d S_i}{\\rm d t} = - \\sum_{j=1}^m \\sum_{k=1}^m \\beta_j\\alpha_{kj}\\alpha_{ij}\\frac{I_k}{\\tilde N_j}S_i, & i = 1, \\ldots, m, \\\\\n",
    "  \\displaystyle \\frac{\\rm d I_i}{\\rm d t} = \\sum_{j=1}^m \\sum_{k=1}^m \\beta_j\\alpha_{kj}\\alpha_{ij}\\frac{I_k}{\\tilde N_j}S_i - \\gamma_i I_i, & i = 1, \\ldots, m,\n",
    "\\end{cases}\n",
    "$$\n",
    "\n",
    "onde\n",
    "\n",
    "$$ \\tilde N_j = \\sum_{i=1}^n \\alpha_{ij}N_i, \\qquad j=1, \\ldots, m,\n",
    "$$\n",
    "\n",
    "são constantes."
   ]
  },
  {
   "cell_type": "markdown",
   "metadata": {
    "slideshow": {
     "slide_type": "slide"
    }
   },
   "source": [
    "### Representação vetorial\n",
    "\n",
    "Considerando os estados na forma de vetores, \n",
    "\n",
    "$$ S=(S_1, \\ldots, S_m), \\qquad I = (I_1, \\ldots, I_m),\n",
    "$$\n",
    "\n",
    "podemos escrever as equações na forma vetorial\n",
    "\n",
    "$$\n",
    "\\begin{cases}\n",
    "  \\displaystyle \\frac{\\rm d S}{\\rm d t} = - \\rm{diag}(AI)S, \\\\\n",
    "  \\displaystyle \\frac{\\rm d I}{\\rm d t} = \\rm{diag}(AI)S - \\Gamma I,\n",
    "\\end{cases}\n",
    "$$\n",
    "\n",
    "onde \n",
    "- $\\Gamma$ é a matriz diagonal $\\Gamma = \\rm{diag}(\\gamma_1, \\ldots, \\gamma_m)$, \n",
    "- $A$ é a matriz\n",
    "\n",
    "$$ A = \\left(\\sum_{j=1}^m\\frac{\\beta_j\\alpha_{kj}\\alpha_{ij}}{\\tilde N_j}\\right)_{ik}\n",
    "$$\n",
    "\n",
    "- $\\rm{diag}(AI)$ é a matriz diagonal formada pelo vetor obtido da aplicação da matriz $A$ ao vetor $I$,\n",
    "\n",
    "$$ AI = \\left(\\sum_{k=1}^m\\sum_{j=1}^m\\frac{\\beta_j\\alpha_{kj}\\alpha_{ij}}{\\tilde N_j} I_k\\right)_i\n",
    "$$"
   ]
  },
  {
   "cell_type": "markdown",
   "metadata": {
    "slideshow": {
     "slide_type": "slide"
    }
   },
   "source": [
    "\n",
    "\n",
    "## Referências\n",
    "\n",
    "- [M. J. Keeling & P. Rohani (2007), Modeling Infectious Diseases in Humans and Animals, Princeton University Press.](https://press.princeton.edu/books/hardcover/9780691116174/modeling-infectious-diseases-in-humans-and-animals)"
   ]
  }
 ],
 "metadata": {
  "kernelspec": {
   "display_name": "Julia 1.7.2",
   "language": "julia",
   "name": "julia-1.7"
  },
  "language_info": {
   "file_extension": ".jl",
   "mimetype": "application/julia",
   "name": "julia",
   "version": "1.7.2"
  }
 },
 "nbformat": 4,
 "nbformat_minor": 4
}
