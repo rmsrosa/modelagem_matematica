{
 "cells": [
  {
   "cell_type": "markdown",
   "metadata": {
    "_cell_guid": "b1076dfc-b9ad-4769-8c92-a6c4dae69d19",
    "_uuid": "8f2839f25d086af736a60e9eeb907d3b93b6e0e5",
    "slideshow": {
     "slide_type": "slide"
    }
   },
   "source": [
    "# Modelos individuais\n",
    "\n",
    "* Modelos onde cada indivíduo é tratado como uma variável, com características próprias.\n",
    "\n",
    "* Podem ser mapeamentos (discretos no tempo) ou sistemas de equações diferenciais (contínuos no tempo). \n",
    "\n",
    "* Podem ser determinísticos ou estocásticos.\n",
    "\n",
    "* Vamos ver, concretamente, um modelo individual discreto estocástico."
   ]
  },
  {
   "cell_type": "code",
   "execution_count": 11,
   "metadata": {
    "_cell_guid": "79c7e3d0-c299-4dcb-8224-4455121ee9b0",
    "_uuid": "d629ff2d2480ee46fbb7e2d37f6b5fab8052498a",
    "slideshow": {
     "slide_type": "slide"
    }
   },
   "outputs": [],
   "source": [
    "using LinearAlgebra\n",
    "using Random\n",
    "using Plots"
   ]
  },
  {
   "cell_type": "code",
   "execution_count": 12,
   "metadata": {},
   "outputs": [],
   "source": [
    "# Cenário\n",
    "\n",
    "N = 1000 # população\n",
    "estado = zeros(Int,N)\n",
    "infectividade = 0.5 .+ rand(N)\n",
    "susceptibilidade = 0.5 .+ rand(N)\n",
    "κ = 0.1 # taxa de contágio por contato próximo\n",
    "τ = 20 # número médio de contatos por indivíduo\n",
    "β = 1/5 # inversa do tempo médio de recuperação\n",
    "nothing"
   ]
  },
  {
   "cell_type": "code",
   "execution_count": null,
   "metadata": {},
   "outputs": [],
   "source": [
    "# Compartimentos\n",
    "suscetiveis = count(estado .== 0)\n",
    "infectados = count(estado .== 1)\n",
    "recuperados = count(estado .== 2)"
   ]
  },
  {
   "cell_type": "code",
   "execution_count": 22,
   "metadata": {},
   "outputs": [
    {
     "data": {
      "text/plain": [
       "20"
      ]
     },
     "metadata": {},
     "output_type": "display_data"
    }
   ],
   "source": [
    "τ"
   ]
  },
  {
   "cell_type": "code",
   "execution_count": 25,
   "metadata": {},
   "outputs": [],
   "source": [
    "# Evolução\n",
    "num_dias = 180\n",
    "\n",
    "# inicialização\n",
    "ninf0 = 2\n",
    "inf0 = sample(1:N, ninf0)\n",
    "estado = zeros(Int,N)\n",
    "estado[inf0] .= 1\n",
    "\n",
    "# compartimentos\n",
    "suscetiveis = zeros(Int, num_dias)\n",
    "infectados = zeros(Int, num_dias)\n",
    "recuperados = zeros(Int, num_dias)\n",
    "suscetiveis[1] = count(estado .== 0)\n",
    "infectados[1] = count(estado .== 1)\n",
    "recuperados[1] = count(estado .== 2)\n",
    "\n",
    "# força de infecção\n",
    "λ = zeros(N)\n",
    "\n",
    "# contatos\n",
    "contatos = collect(1:N)\n",
    "\n",
    "# evolução\n",
    "for n in 2:num_dias\n",
    "    λ .= 0.0\n",
    "    shuffle!(contatos)\n",
    "    i = 1\n",
    "    while i ≤ N\n",
    "        in = i + rand(div(τ, 2), 2τ)\n",
    "\n",
    "        i = in + 1\n",
    "    end\n",
    "\n",
    "end\n",
    "\n",
    "\n"
   ]
  },
  {
   "cell_type": "markdown",
   "metadata": {
    "slideshow": {
     "slide_type": "slide"
    }
   },
   "source": [
    "\n",
    "\n",
    "## Referências\n",
    "\n",
    "- [M. J. Keeling & P. Rohani (2007), Modeling Infectious Diseases in Humans and Animals, Princeton University Press.](https://press.princeton.edu/books/hardcover/9780691116174/modeling-infectious-diseases-in-humans-and-animals)"
   ]
  }
 ],
 "metadata": {
  "kernelspec": {
   "display_name": "Julia 1.7.2",
   "language": "julia",
   "name": "julia-1.7"
  },
  "language_info": {
   "file_extension": ".jl",
   "mimetype": "application/julia",
   "name": "julia",
   "version": "1.7.2"
  }
 },
 "nbformat": 4,
 "nbformat_minor": 4
}
