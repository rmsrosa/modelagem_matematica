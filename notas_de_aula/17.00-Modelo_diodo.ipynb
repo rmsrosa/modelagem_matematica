{
 "cells": [
  {
   "cell_type": "markdown",
   "metadata": {
    "slideshow": {
     "slide_type": "skip"
    }
   },
   "source": [
    "<!--HEADER-->\n",
    "*Notas de aula de Modelagem Matemática - 2020/2 [- Ricardo M. S. Rosa (IM/UFRJ)](http://www.im.ufrj.br/rrosa)*"
   ]
  },
  {
   "cell_type": "markdown",
   "metadata": {
    "slideshow": {
     "slide_type": "skip"
    }
   },
   "source": [
    "<!--BADGES-->\n",
    "<a href=\"https://nbviewer.jupyter.org/github/rmsrosa/modelagem_matematica/blob/modmat2020p2/notas_de_aula/17.00-Modelo_diodo.ipynb\" target=\"_blank\"><img align=\"left\" src=\"https://img.shields.io/badge/view%20in-nbviewer-orange\" alt=\"View in NBViewer\" title=\"View in NBViewer\"></a><a href=\"https://mybinder.org/v2/gh/rmsrosa/modelagem_matematica/julia-env-for-binder?urlpath=git-pull%3Frepo%3Dhttps%253A%252F%252Fgithub.com%252Frmsrosa%252Fmodelagem_matematica%26branch%3Dmodmat2020p2%26urlpath%3Dtree%252Fmodelagem_matematica%252Fnotas_de_aula/17.00-Modelo_diodo.ipynb\" target=\"_blank\"><img align=\"left\" src=\"https://mybinder.org/badge.svg\" alt=\"Open in binder\" title=\"Open in binder\"></a><a href=\"https://nbviewer.jupyter.org/github/rmsrosa/modelagem_matematica/blob/modmat2020p2/notas_de_aula/slides/17.00-Modelo_diodo.slides.html\" target=\"_blank\"><img align=\"left\" src=\"https://img.shields.io/badge/view-slides-darkgreen\" alt=\"View Slides\" title=\"View Slides\"></a>&nbsp;"
   ]
  },
  {
   "cell_type": "markdown",
   "metadata": {
    "slideshow": {
     "slide_type": "skip"
    }
   },
   "source": [
    "<!--NAVIGATOR-->\n",
    "[<- 16. Comparação de modelos](16.00-Comparacao_de_modelos.ipynb) | [Página inicial](00.00-Pagina_inicial.ipynb) \n",
    "\n",
    "---\n"
   ]
  },
  {
   "cell_type": "markdown",
   "metadata": {
    "slideshow": {
     "slide_type": "slide"
    }
   },
   "source": [
    "# Modelagem da relacão voltagem-corrente de um diodo"
   ]
  },
  {
   "cell_type": "code",
   "execution_count": 1,
   "metadata": {
    "slideshow": {
     "slide_type": "slide"
    }
   },
   "outputs": [],
   "source": [
    "using Random\n",
    "using Statistics\n",
    "using LinearAlgebra\n",
    "using Plots\n",
    "theme(:ggplot2)"
   ]
  },
  {
   "cell_type": "markdown",
   "metadata": {
    "slideshow": {
     "slide_type": "slide"
    }
   },
   "source": [
    "## Dados de voltagem e corrente\n",
    "\n",
    "* Dados extraídos de um circuito real, em um Rasperry Pi (reportado por um membro do servidor Discord [Humans of Julia](https://disboard.org/server/762167454973296644))."
   ]
  },
  {
   "cell_type": "code",
   "execution_count": 2,
   "metadata": {
    "slideshow": {
     "slide_type": "fragment"
    }
   },
   "outputs": [],
   "source": [
    "V = [0.0,0.2,0.3,0.47,0.52,0.56,0.58,0.62,0.65,0.66,0.69,0.7,0.72]\n",
    "I = [0.0,0.0,0.0,0.1,0.25,0.55,1.0,2.0,4.0,6.0,10.0,15.0,19.5]\n",
    "nothing"
   ]
  },
  {
   "cell_type": "code",
   "execution_count": 3,
   "metadata": {
    "slideshow": {
     "slide_type": "fragment"
    }
   },
   "outputs": [
    {
     "data": {
      "image/svg+xml": [
       "<?xml version=\"1.0\" encoding=\"utf-8\"?>\n",
       "<svg xmlns=\"http://www.w3.org/2000/svg\" xmlns:xlink=\"http://www.w3.org/1999/xlink\" width=\"600\" height=\"400\" viewBox=\"0 0 2400 1600\">\n",
       "<defs>\n",
       "  <clipPath id=\"clip970\">\n",
       "    <rect x=\"0\" y=\"0\" width=\"2400\" height=\"1600\"/>\n",
       "  </clipPath>\n",
       "</defs>\n",
       "<path clip-path=\"url(#clip970)\" d=\"\n",
       "M0 1600 L2400 1600 L2400 0 L0 0  Z\n",
       "  \" fill=\"#ffffff\" fill-rule=\"evenodd\" fill-opacity=\"1\"/>\n",
       "<defs>\n",
       "  <clipPath id=\"clip971\">\n",
       "    <rect x=\"480\" y=\"0\" width=\"1681\" height=\"1600\"/>\n",
       "  </clipPath>\n",
       "</defs>\n",
       "<path clip-path=\"url(#clip970)\" d=\"\n",
       "M140.696 1486.45 L2352.76 1486.45 L2352.76 47.2441 L140.696 47.2441  Z\n",
       "  \" fill=\"#eaeaea\" fill-rule=\"evenodd\" fill-opacity=\"1\"/>\n",
       "<defs>\n",
       "  <clipPath id=\"clip972\">\n",
       "    <rect x=\"140\" y=\"47\" width=\"2213\" height=\"1440\"/>\n",
       "  </clipPath>\n",
       "</defs>\n",
       "<polyline clip-path=\"url(#clip972)\" style=\"stroke:#ffffff; stroke-width:4; stroke-opacity:1; fill:none\" points=\"\n",
       "  203.301,1486.45 203.301,47.2441 \n",
       "  \"/>\n",
       "<polyline clip-path=\"url(#clip972)\" style=\"stroke:#ffffff; stroke-width:4; stroke-opacity:1; fill:none\" points=\"\n",
       "  782.981,1486.45 782.981,47.2441 \n",
       "  \"/>\n",
       "<polyline clip-path=\"url(#clip972)\" style=\"stroke:#ffffff; stroke-width:4; stroke-opacity:1; fill:none\" points=\"\n",
       "  1362.66,1486.45 1362.66,47.2441 \n",
       "  \"/>\n",
       "<polyline clip-path=\"url(#clip972)\" style=\"stroke:#ffffff; stroke-width:4; stroke-opacity:1; fill:none\" points=\"\n",
       "  1942.34,1486.45 1942.34,47.2441 \n",
       "  \"/>\n",
       "<polyline clip-path=\"url(#clip972)\" style=\"stroke:#ffffff; stroke-width:2; stroke-opacity:1; fill:none\" points=\"\n",
       "  493.141,1486.45 493.141,47.2441 \n",
       "  \"/>\n",
       "<polyline clip-path=\"url(#clip972)\" style=\"stroke:#ffffff; stroke-width:2; stroke-opacity:1; fill:none\" points=\"\n",
       "  1072.82,1486.45 1072.82,47.2441 \n",
       "  \"/>\n",
       "<polyline clip-path=\"url(#clip972)\" style=\"stroke:#ffffff; stroke-width:2; stroke-opacity:1; fill:none\" points=\"\n",
       "  1652.5,1486.45 1652.5,47.2441 \n",
       "  \"/>\n",
       "<polyline clip-path=\"url(#clip972)\" style=\"stroke:#ffffff; stroke-width:2; stroke-opacity:1; fill:none\" points=\"\n",
       "  2232.18,1486.45 2232.18,47.2441 \n",
       "  \"/>\n",
       "<polyline clip-path=\"url(#clip970)\" style=\"stroke:#ffffff; stroke-width:4; stroke-opacity:1; fill:none\" points=\"\n",
       "  140.696,1486.45 2352.76,1486.45 \n",
       "  \"/>\n",
       "<polyline clip-path=\"url(#clip970)\" style=\"stroke:#333333; stroke-width:4; stroke-opacity:1; fill:none\" points=\"\n",
       "  203.301,1486.45 203.301,1503.72 \n",
       "  \"/>\n",
       "<polyline clip-path=\"url(#clip970)\" style=\"stroke:#333333; stroke-width:4; stroke-opacity:1; fill:none\" points=\"\n",
       "  782.981,1486.45 782.981,1503.72 \n",
       "  \"/>\n",
       "<polyline clip-path=\"url(#clip970)\" style=\"stroke:#333333; stroke-width:4; stroke-opacity:1; fill:none\" points=\"\n",
       "  1362.66,1486.45 1362.66,1503.72 \n",
       "  \"/>\n",
       "<polyline clip-path=\"url(#clip970)\" style=\"stroke:#333333; stroke-width:4; stroke-opacity:1; fill:none\" points=\"\n",
       "  1942.34,1486.45 1942.34,1503.72 \n",
       "  \"/>\n",
       "<polyline clip-path=\"url(#clip970)\" style=\"stroke:#333333; stroke-width:4; stroke-opacity:1; fill:none\" points=\"\n",
       "  493.141,1486.45 493.141,1495.08 \n",
       "  \"/>\n",
       "<polyline clip-path=\"url(#clip970)\" style=\"stroke:#333333; stroke-width:4; stroke-opacity:1; fill:none\" points=\"\n",
       "  1072.82,1486.45 1072.82,1495.08 \n",
       "  \"/>\n",
       "<polyline clip-path=\"url(#clip970)\" style=\"stroke:#333333; stroke-width:4; stroke-opacity:1; fill:none\" points=\"\n",
       "  1652.5,1486.45 1652.5,1495.08 \n",
       "  \"/>\n",
       "<polyline clip-path=\"url(#clip970)\" style=\"stroke:#333333; stroke-width:4; stroke-opacity:1; fill:none\" points=\"\n",
       "  2232.18,1486.45 2232.18,1495.08 \n",
       "  \"/>\n",
       "<path clip-path=\"url(#clip970)\" d=\"M 0 0 M180.685 1525.24 Q177.074 1525.24 175.246 1528.8 Q173.44 1532.35 173.44 1539.47 Q173.44 1546.58 175.246 1550.15 Q177.074 1553.69 180.685 1553.69 Q184.32 1553.69 186.125 1550.15 Q187.954 1546.58 187.954 1539.47 Q187.954 1532.35 186.125 1528.8 Q184.32 1525.24 180.685 1525.24 M180.685 1521.53 Q186.496 1521.53 189.551 1526.14 Q192.63 1530.72 192.63 1539.47 Q192.63 1548.2 189.551 1552.81 Q186.496 1557.39 180.685 1557.39 Q174.875 1557.39 171.797 1552.81 Q168.741 1548.2 168.741 1539.47 Q168.741 1530.72 171.797 1526.14 Q174.875 1521.53 180.685 1521.53 Z\" fill=\"#4c4c4c\" fill-rule=\"evenodd\" fill-opacity=\"1\" /><path clip-path=\"url(#clip970)\" d=\"M 0 0 M200.847 1550.84 L205.732 1550.84 L205.732 1556.72 L200.847 1556.72 L200.847 1550.84 Z\" fill=\"#4c4c4c\" fill-rule=\"evenodd\" fill-opacity=\"1\" /><path clip-path=\"url(#clip970)\" d=\"M 0 0 M225.917 1525.24 Q222.306 1525.24 220.477 1528.8 Q218.671 1532.35 218.671 1539.47 Q218.671 1546.58 220.477 1550.15 Q222.306 1553.69 225.917 1553.69 Q229.551 1553.69 231.356 1550.15 Q233.185 1546.58 233.185 1539.47 Q233.185 1532.35 231.356 1528.8 Q229.551 1525.24 225.917 1525.24 M225.917 1521.53 Q231.727 1521.53 234.782 1526.14 Q237.861 1530.72 237.861 1539.47 Q237.861 1548.2 234.782 1552.81 Q231.727 1557.39 225.917 1557.39 Q220.106 1557.39 217.028 1552.81 Q213.972 1548.2 213.972 1539.47 Q213.972 1530.72 217.028 1526.14 Q220.106 1521.53 225.917 1521.53 Z\" fill=\"#4c4c4c\" fill-rule=\"evenodd\" fill-opacity=\"1\" /><path clip-path=\"url(#clip970)\" d=\"M 0 0 M761.164 1525.24 Q757.553 1525.24 755.725 1528.8 Q753.919 1532.35 753.919 1539.47 Q753.919 1546.58 755.725 1550.15 Q757.553 1553.69 761.164 1553.69 Q764.799 1553.69 766.604 1550.15 Q768.433 1546.58 768.433 1539.47 Q768.433 1532.35 766.604 1528.8 Q764.799 1525.24 761.164 1525.24 M761.164 1521.53 Q766.975 1521.53 770.03 1526.14 Q773.109 1530.72 773.109 1539.47 Q773.109 1548.2 770.03 1552.81 Q766.975 1557.39 761.164 1557.39 Q755.354 1557.39 752.276 1552.81 Q749.22 1548.2 749.22 1539.47 Q749.22 1530.72 752.276 1526.14 Q755.354 1521.53 761.164 1521.53 Z\" fill=\"#4c4c4c\" fill-rule=\"evenodd\" fill-opacity=\"1\" /><path clip-path=\"url(#clip970)\" d=\"M 0 0 M781.326 1550.84 L786.211 1550.84 L786.211 1556.72 L781.326 1556.72 L781.326 1550.84 Z\" fill=\"#4c4c4c\" fill-rule=\"evenodd\" fill-opacity=\"1\" /><path clip-path=\"url(#clip970)\" d=\"M 0 0 M800.423 1552.78 L816.743 1552.78 L816.743 1556.72 L794.798 1556.72 L794.798 1552.78 Q797.461 1550.03 802.044 1545.4 Q806.65 1540.75 807.831 1539.41 Q810.076 1536.88 810.956 1535.15 Q811.859 1533.39 811.859 1531.7 Q811.859 1528.94 809.914 1527.21 Q807.993 1525.47 804.891 1525.47 Q802.692 1525.47 800.238 1526.23 Q797.808 1527 795.03 1528.55 L795.03 1523.83 Q797.854 1522.69 800.308 1522.11 Q802.761 1521.53 804.798 1521.53 Q810.169 1521.53 813.363 1524.22 Q816.558 1526.91 816.558 1531.4 Q816.558 1533.53 815.747 1535.45 Q814.96 1537.34 812.854 1539.94 Q812.275 1540.61 809.173 1543.83 Q806.072 1547.02 800.423 1552.78 Z\" fill=\"#4c4c4c\" fill-rule=\"evenodd\" fill-opacity=\"1\" /><path clip-path=\"url(#clip970)\" d=\"M 0 0 M1339.8 1525.24 Q1336.19 1525.24 1334.36 1528.8 Q1332.56 1532.35 1332.56 1539.47 Q1332.56 1546.58 1334.36 1550.15 Q1336.19 1553.69 1339.8 1553.69 Q1343.44 1553.69 1345.24 1550.15 Q1347.07 1546.58 1347.07 1539.47 Q1347.07 1532.35 1345.24 1528.8 Q1343.44 1525.24 1339.8 1525.24 M1339.8 1521.53 Q1345.61 1521.53 1348.67 1526.14 Q1351.75 1530.72 1351.75 1539.47 Q1351.75 1548.2 1348.67 1552.81 Q1345.61 1557.39 1339.8 1557.39 Q1333.99 1557.39 1330.91 1552.81 Q1327.86 1548.2 1327.86 1539.47 Q1327.86 1530.72 1330.91 1526.14 Q1333.99 1521.53 1339.8 1521.53 Z\" fill=\"#4c4c4c\" fill-rule=\"evenodd\" fill-opacity=\"1\" /><path clip-path=\"url(#clip970)\" d=\"M 0 0 M1359.97 1550.84 L1364.85 1550.84 L1364.85 1556.72 L1359.97 1556.72 L1359.97 1550.84 Z\" fill=\"#4c4c4c\" fill-rule=\"evenodd\" fill-opacity=\"1\" /><path clip-path=\"url(#clip970)\" d=\"M 0 0 M1387.88 1526.23 L1376.08 1544.68 L1387.88 1544.68 L1387.88 1526.23 M1386.65 1522.16 L1392.53 1522.16 L1392.53 1544.68 L1397.46 1544.68 L1397.46 1548.57 L1392.53 1548.57 L1392.53 1556.72 L1387.88 1556.72 L1387.88 1548.57 L1372.28 1548.57 L1372.28 1544.06 L1386.65 1522.16 Z\" fill=\"#4c4c4c\" fill-rule=\"evenodd\" fill-opacity=\"1\" /><path clip-path=\"url(#clip970)\" d=\"M 0 0 M1919.65 1525.24 Q1916.03 1525.24 1914.21 1528.8 Q1912.4 1532.35 1912.4 1539.47 Q1912.4 1546.58 1914.21 1550.15 Q1916.03 1553.69 1919.65 1553.69 Q1923.28 1553.69 1925.09 1550.15 Q1926.91 1546.58 1926.91 1539.47 Q1926.91 1532.35 1925.09 1528.8 Q1923.28 1525.24 1919.65 1525.24 M1919.65 1521.53 Q1925.46 1521.53 1928.51 1526.14 Q1931.59 1530.72 1931.59 1539.47 Q1931.59 1548.2 1928.51 1552.81 Q1925.46 1557.39 1919.65 1557.39 Q1913.84 1557.39 1910.76 1552.81 Q1907.7 1548.2 1907.7 1539.47 Q1907.7 1530.72 1910.76 1526.14 Q1913.84 1521.53 1919.65 1521.53 Z\" fill=\"#4c4c4c\" fill-rule=\"evenodd\" fill-opacity=\"1\" /><path clip-path=\"url(#clip970)\" d=\"M 0 0 M1939.81 1550.84 L1944.69 1550.84 L1944.69 1556.72 L1939.81 1556.72 L1939.81 1550.84 Z\" fill=\"#4c4c4c\" fill-rule=\"evenodd\" fill-opacity=\"1\" /><path clip-path=\"url(#clip970)\" d=\"M 0 0 M1965.46 1537.58 Q1962.31 1537.58 1960.46 1539.73 Q1958.63 1541.88 1958.63 1545.63 Q1958.63 1549.36 1960.46 1551.53 Q1962.31 1553.69 1965.46 1553.69 Q1968.6 1553.69 1970.43 1551.53 Q1972.28 1549.36 1972.28 1545.63 Q1972.28 1541.88 1970.43 1539.73 Q1968.6 1537.58 1965.46 1537.58 M1974.74 1522.92 L1974.74 1527.18 Q1972.98 1526.35 1971.17 1525.91 Q1969.39 1525.47 1967.63 1525.47 Q1963 1525.47 1960.55 1528.6 Q1958.12 1531.72 1957.77 1538.04 Q1959.14 1536.03 1961.2 1534.96 Q1963.26 1533.87 1965.73 1533.87 Q1970.94 1533.87 1973.95 1537.04 Q1976.98 1540.19 1976.98 1545.63 Q1976.98 1550.96 1973.84 1554.17 Q1970.69 1557.39 1965.46 1557.39 Q1959.46 1557.39 1956.29 1552.81 Q1953.12 1548.2 1953.12 1539.47 Q1953.12 1531.28 1957.01 1526.42 Q1960.9 1521.53 1967.45 1521.53 Q1969.21 1521.53 1970.99 1521.88 Q1972.79 1522.23 1974.74 1522.92 Z\" fill=\"#4c4c4c\" fill-rule=\"evenodd\" fill-opacity=\"1\" /><polyline clip-path=\"url(#clip972)\" style=\"stroke:#ffffff; stroke-width:4; stroke-opacity:1; fill:none\" points=\"\n",
       "  140.696,1445.72 2352.76,1445.72 \n",
       "  \"/>\n",
       "<polyline clip-path=\"url(#clip972)\" style=\"stroke:#ffffff; stroke-width:4; stroke-opacity:1; fill:none\" points=\"\n",
       "  140.696,1097.58 2352.76,1097.58 \n",
       "  \"/>\n",
       "<polyline clip-path=\"url(#clip972)\" style=\"stroke:#ffffff; stroke-width:4; stroke-opacity:1; fill:none\" points=\"\n",
       "  140.696,749.439 2352.76,749.439 \n",
       "  \"/>\n",
       "<polyline clip-path=\"url(#clip972)\" style=\"stroke:#ffffff; stroke-width:4; stroke-opacity:1; fill:none\" points=\"\n",
       "  140.696,401.301 2352.76,401.301 \n",
       "  \"/>\n",
       "<polyline clip-path=\"url(#clip972)\" style=\"stroke:#ffffff; stroke-width:4; stroke-opacity:1; fill:none\" points=\"\n",
       "  140.696,53.1624 2352.76,53.1624 \n",
       "  \"/>\n",
       "<polyline clip-path=\"url(#clip972)\" style=\"stroke:#ffffff; stroke-width:2; stroke-opacity:1; fill:none\" points=\"\n",
       "  140.696,1271.65 2352.76,1271.65 \n",
       "  \"/>\n",
       "<polyline clip-path=\"url(#clip972)\" style=\"stroke:#ffffff; stroke-width:2; stroke-opacity:1; fill:none\" points=\"\n",
       "  140.696,923.508 2352.76,923.508 \n",
       "  \"/>\n",
       "<polyline clip-path=\"url(#clip972)\" style=\"stroke:#ffffff; stroke-width:2; stroke-opacity:1; fill:none\" points=\"\n",
       "  140.696,575.37 2352.76,575.37 \n",
       "  \"/>\n",
       "<polyline clip-path=\"url(#clip972)\" style=\"stroke:#ffffff; stroke-width:2; stroke-opacity:1; fill:none\" points=\"\n",
       "  140.696,227.232 2352.76,227.232 \n",
       "  \"/>\n",
       "<polyline clip-path=\"url(#clip970)\" style=\"stroke:#ffffff; stroke-width:4; stroke-opacity:1; fill:none\" points=\"\n",
       "  140.696,1486.45 140.696,47.2441 \n",
       "  \"/>\n",
       "<polyline clip-path=\"url(#clip970)\" style=\"stroke:#333333; stroke-width:4; stroke-opacity:1; fill:none\" points=\"\n",
       "  140.696,1445.72 114.151,1445.72 \n",
       "  \"/>\n",
       "<polyline clip-path=\"url(#clip970)\" style=\"stroke:#333333; stroke-width:4; stroke-opacity:1; fill:none\" points=\"\n",
       "  140.696,1097.58 114.151,1097.58 \n",
       "  \"/>\n",
       "<polyline clip-path=\"url(#clip970)\" style=\"stroke:#333333; stroke-width:4; stroke-opacity:1; fill:none\" points=\"\n",
       "  140.696,749.439 114.151,749.439 \n",
       "  \"/>\n",
       "<polyline clip-path=\"url(#clip970)\" style=\"stroke:#333333; stroke-width:4; stroke-opacity:1; fill:none\" points=\"\n",
       "  140.696,401.301 114.151,401.301 \n",
       "  \"/>\n",
       "<polyline clip-path=\"url(#clip970)\" style=\"stroke:#333333; stroke-width:4; stroke-opacity:1; fill:none\" points=\"\n",
       "  140.696,53.1624 114.151,53.1624 \n",
       "  \"/>\n",
       "<polyline clip-path=\"url(#clip970)\" style=\"stroke:#333333; stroke-width:4; stroke-opacity:1; fill:none\" points=\"\n",
       "  140.696,1271.65 127.423,1271.65 \n",
       "  \"/>\n",
       "<polyline clip-path=\"url(#clip970)\" style=\"stroke:#333333; stroke-width:4; stroke-opacity:1; fill:none\" points=\"\n",
       "  140.696,923.508 127.423,923.508 \n",
       "  \"/>\n",
       "<polyline clip-path=\"url(#clip970)\" style=\"stroke:#333333; stroke-width:4; stroke-opacity:1; fill:none\" points=\"\n",
       "  140.696,575.37 127.423,575.37 \n",
       "  \"/>\n",
       "<polyline clip-path=\"url(#clip970)\" style=\"stroke:#333333; stroke-width:4; stroke-opacity:1; fill:none\" points=\"\n",
       "  140.696,227.232 127.423,227.232 \n",
       "  \"/>\n",
       "<path clip-path=\"url(#clip970)\" d=\"M 0 0 M74.7512 1431.51 Q71.1401 1431.51 69.3114 1435.08 Q67.5058 1438.62 67.5058 1445.75 Q67.5058 1452.86 69.3114 1456.42 Q71.1401 1459.96 74.7512 1459.96 Q78.3854 1459.96 80.1909 1456.42 Q82.0196 1452.86 82.0196 1445.75 Q82.0196 1438.62 80.1909 1435.08 Q78.3854 1431.51 74.7512 1431.51 M74.7512 1427.81 Q80.5613 1427.81 83.6169 1432.42 Q86.6955 1437 86.6955 1445.75 Q86.6955 1454.48 83.6169 1459.08 Q80.5613 1463.67 74.7512 1463.67 Q68.941 1463.67 65.8623 1459.08 Q62.8068 1454.48 62.8068 1445.75 Q62.8068 1437 65.8623 1432.42 Q68.941 1427.81 74.7512 1427.81 Z\" fill=\"#4c4c4c\" fill-rule=\"evenodd\" fill-opacity=\"1\" /><path clip-path=\"url(#clip970)\" d=\"M 0 0 M65.7929 1080.3 L84.1493 1080.3 L84.1493 1084.23 L70.0753 1084.23 L70.0753 1092.7 Q71.0938 1092.36 72.1123 1092.2 Q73.1308 1092.01 74.1493 1092.01 Q79.9363 1092.01 83.3159 1095.18 Q86.6955 1098.35 86.6955 1103.77 Q86.6955 1109.35 83.2233 1112.45 Q79.7511 1115.53 73.4317 1115.53 Q71.2558 1115.53 68.9873 1115.16 Q66.7419 1114.79 64.3346 1114.05 L64.3346 1109.35 Q66.4179 1110.48 68.6401 1111.04 Q70.8623 1111.59 73.3391 1111.59 Q77.3437 1111.59 79.6817 1109.49 Q82.0196 1107.38 82.0196 1103.77 Q82.0196 1100.16 79.6817 1098.05 Q77.3437 1095.95 73.3391 1095.95 Q71.4641 1095.95 69.5892 1096.36 Q67.7373 1096.78 65.7929 1097.66 L65.7929 1080.3 Z\" fill=\"#4c4c4c\" fill-rule=\"evenodd\" fill-opacity=\"1\" /><path clip-path=\"url(#clip970)\" d=\"M 0 0 M35.3995 762.784 L43.0384 762.784 L43.0384 736.418 L34.7282 738.085 L34.7282 733.826 L42.9921 732.159 L47.668 732.159 L47.668 762.784 L55.3068 762.784 L55.3068 766.719 L35.3995 766.719 L35.3995 762.784 Z\" fill=\"#4c4c4c\" fill-rule=\"evenodd\" fill-opacity=\"1\" /><path clip-path=\"url(#clip970)\" d=\"M 0 0 M74.7512 735.238 Q71.1401 735.238 69.3114 738.803 Q67.5058 742.344 67.5058 749.474 Q67.5058 756.58 69.3114 760.145 Q71.1401 763.687 74.7512 763.687 Q78.3854 763.687 80.1909 760.145 Q82.0196 756.58 82.0196 749.474 Q82.0196 742.344 80.1909 738.803 Q78.3854 735.238 74.7512 735.238 M74.7512 731.534 Q80.5613 731.534 83.6169 736.141 Q86.6955 740.724 86.6955 749.474 Q86.6955 758.201 83.6169 762.807 Q80.5613 767.39 74.7512 767.39 Q68.941 767.39 65.8623 762.807 Q62.8068 758.201 62.8068 749.474 Q62.8068 740.724 65.8623 736.141 Q68.941 731.534 74.7512 731.534 Z\" fill=\"#4c4c4c\" fill-rule=\"evenodd\" fill-opacity=\"1\" /><path clip-path=\"url(#clip970)\" d=\"M 0 0 M36.3949 414.646 L44.0337 414.646 L44.0337 388.28 L35.7236 389.947 L35.7236 385.687 L43.9874 384.021 L48.6633 384.021 L48.6633 414.646 L56.3022 414.646 L56.3022 418.581 L36.3949 418.581 L36.3949 414.646 Z\" fill=\"#4c4c4c\" fill-rule=\"evenodd\" fill-opacity=\"1\" /><path clip-path=\"url(#clip970)\" d=\"M 0 0 M65.7929 384.021 L84.1493 384.021 L84.1493 387.956 L70.0753 387.956 L70.0753 396.428 Q71.0938 396.081 72.1123 395.919 Q73.1308 395.734 74.1493 395.734 Q79.9363 395.734 83.3159 398.905 Q86.6955 402.076 86.6955 407.493 Q86.6955 413.072 83.2233 416.173 Q79.7511 419.252 73.4317 419.252 Q71.2558 419.252 68.9873 418.882 Q66.7419 418.511 64.3346 417.771 L64.3346 413.072 Q66.4179 414.206 68.6401 414.761 Q70.8623 415.317 73.3391 415.317 Q77.3437 415.317 79.6817 413.21 Q82.0196 411.104 82.0196 407.493 Q82.0196 403.882 79.6817 401.775 Q77.3437 399.669 73.3391 399.669 Q71.4641 399.669 69.5892 400.085 Q67.7373 400.502 65.7929 401.382 L65.7929 384.021 Z\" fill=\"#4c4c4c\" fill-rule=\"evenodd\" fill-opacity=\"1\" /><path clip-path=\"url(#clip970)\" d=\"M 0 0 M38.6171 66.5073 L54.9365 66.5073 L54.9365 70.4424 L32.9921 70.4424 L32.9921 66.5073 Q35.6541 63.7527 40.2375 59.1231 Q44.8439 54.4703 46.0245 53.1277 Q48.2698 50.6046 49.1494 48.8685 Q50.0522 47.1092 50.0522 45.4194 Q50.0522 42.6648 48.1078 40.9287 Q46.1865 39.1926 43.0847 39.1926 Q40.8856 39.1926 38.4319 39.9565 Q36.0014 40.7204 33.2236 42.2713 L33.2236 37.5491 Q36.0477 36.4149 38.5014 35.8361 Q40.955 35.2574 42.9921 35.2574 Q48.3624 35.2574 51.5568 37.9426 Q54.7513 40.6278 54.7513 45.1185 Q54.7513 47.2481 53.9411 49.1694 Q53.1541 51.0675 51.0476 53.6601 Q50.4689 54.3314 47.367 57.549 Q44.2652 60.7434 38.6171 66.5073 Z\" fill=\"#4c4c4c\" fill-rule=\"evenodd\" fill-opacity=\"1\" /><path clip-path=\"url(#clip970)\" d=\"M 0 0 M74.7512 38.9611 Q71.1401 38.9611 69.3114 42.5259 Q67.5058 46.0676 67.5058 53.1972 Q67.5058 60.3036 69.3114 63.8684 Q71.1401 67.4101 74.7512 67.4101 Q78.3854 67.4101 80.1909 63.8684 Q82.0196 60.3036 82.0196 53.1972 Q82.0196 46.0676 80.1909 42.5259 Q78.3854 38.9611 74.7512 38.9611 M74.7512 35.2574 Q80.5613 35.2574 83.6169 39.8639 Q86.6955 44.4472 86.6955 53.1972 Q86.6955 61.924 83.6169 66.5304 Q80.5613 71.1137 74.7512 71.1137 Q68.941 71.1137 65.8623 66.5304 Q62.8068 61.924 62.8068 53.1972 Q62.8068 44.4472 65.8623 39.8639 Q68.941 35.2574 74.7512 35.2574 Z\" fill=\"#4c4c4c\" fill-rule=\"evenodd\" fill-opacity=\"1\" /><circle clip-path=\"url(#clip972)\" cx=\"203.301\" cy=\"1445.72\" r=\"14\" fill=\"#009af9\" fill-rule=\"evenodd\" fill-opacity=\"1\" stroke=\"#000000\" stroke-opacity=\"1\" stroke-width=\"0\"/>\n",
       "<circle clip-path=\"url(#clip972)\" cx=\"782.981\" cy=\"1445.72\" r=\"14\" fill=\"#009af9\" fill-rule=\"evenodd\" fill-opacity=\"1\" stroke=\"#000000\" stroke-opacity=\"1\" stroke-width=\"0\"/>\n",
       "<circle clip-path=\"url(#clip972)\" cx=\"1072.82\" cy=\"1445.72\" r=\"14\" fill=\"#009af9\" fill-rule=\"evenodd\" fill-opacity=\"1\" stroke=\"#000000\" stroke-opacity=\"1\" stroke-width=\"0\"/>\n",
       "<circle clip-path=\"url(#clip972)\" cx=\"1565.55\" cy=\"1438.75\" r=\"14\" fill=\"#009af9\" fill-rule=\"evenodd\" fill-opacity=\"1\" stroke=\"#000000\" stroke-opacity=\"1\" stroke-width=\"0\"/>\n",
       "<circle clip-path=\"url(#clip972)\" cx=\"1710.47\" cy=\"1428.31\" r=\"14\" fill=\"#009af9\" fill-rule=\"evenodd\" fill-opacity=\"1\" stroke=\"#000000\" stroke-opacity=\"1\" stroke-width=\"0\"/>\n",
       "<circle clip-path=\"url(#clip972)\" cx=\"1826.41\" cy=\"1407.42\" r=\"14\" fill=\"#009af9\" fill-rule=\"evenodd\" fill-opacity=\"1\" stroke=\"#000000\" stroke-opacity=\"1\" stroke-width=\"0\"/>\n",
       "<circle clip-path=\"url(#clip972)\" cx=\"1884.37\" cy=\"1376.09\" r=\"14\" fill=\"#009af9\" fill-rule=\"evenodd\" fill-opacity=\"1\" stroke=\"#000000\" stroke-opacity=\"1\" stroke-width=\"0\"/>\n",
       "<circle clip-path=\"url(#clip972)\" cx=\"2000.31\" cy=\"1306.46\" r=\"14\" fill=\"#009af9\" fill-rule=\"evenodd\" fill-opacity=\"1\" stroke=\"#000000\" stroke-opacity=\"1\" stroke-width=\"0\"/>\n",
       "<circle clip-path=\"url(#clip972)\" cx=\"2087.26\" cy=\"1167.21\" r=\"14\" fill=\"#009af9\" fill-rule=\"evenodd\" fill-opacity=\"1\" stroke=\"#000000\" stroke-opacity=\"1\" stroke-width=\"0\"/>\n",
       "<circle clip-path=\"url(#clip972)\" cx=\"2116.25\" cy=\"1027.95\" r=\"14\" fill=\"#009af9\" fill-rule=\"evenodd\" fill-opacity=\"1\" stroke=\"#000000\" stroke-opacity=\"1\" stroke-width=\"0\"/>\n",
       "<circle clip-path=\"url(#clip972)\" cx=\"2203.2\" cy=\"749.439\" r=\"14\" fill=\"#009af9\" fill-rule=\"evenodd\" fill-opacity=\"1\" stroke=\"#000000\" stroke-opacity=\"1\" stroke-width=\"0\"/>\n",
       "<circle clip-path=\"url(#clip972)\" cx=\"2232.18\" cy=\"401.301\" r=\"14\" fill=\"#009af9\" fill-rule=\"evenodd\" fill-opacity=\"1\" stroke=\"#000000\" stroke-opacity=\"1\" stroke-width=\"0\"/>\n",
       "<circle clip-path=\"url(#clip972)\" cx=\"2290.15\" cy=\"87.9763\" r=\"14\" fill=\"#009af9\" fill-rule=\"evenodd\" fill-opacity=\"1\" stroke=\"#000000\" stroke-opacity=\"1\" stroke-width=\"0\"/>\n",
       "</svg>\n"
      ]
     },
     "execution_count": 3,
     "metadata": {},
     "output_type": "execute_result"
    }
   ],
   "source": [
    "scatter(V,I, legend=false)"
   ]
  },
  {
   "cell_type": "markdown",
   "metadata": {
    "slideshow": {
     "slide_type": "skip"
    }
   },
   "source": [
    "<!--NAVIGATOR-->\n",
    "\n",
    "---\n",
    "[<- 16. Comparação de modelos](16.00-Comparacao_de_modelos.ipynb) | [Página inicial](00.00-Pagina_inicial.ipynb) "
   ]
  }
 ],
 "metadata": {
  "kernelspec": {
   "display_name": "Julia 1.6.0",
   "language": "julia",
   "name": "julia-1.6"
  },
  "language_info": {
   "file_extension": ".jl",
   "mimetype": "application/julia",
   "name": "julia",
   "version": "1.6.0"
  }
 },
 "nbformat": 4,
 "nbformat_minor": 4
}
