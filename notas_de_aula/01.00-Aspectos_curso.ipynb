{
 "cells": [
  {
   "cell_type": "markdown",
   "metadata": {
    "slideshow": {
     "slide_type": "skip"
    }
   },
   "source": [
    "<!--HEADER-->\n",
    "*Notas de aula de Modelagem Matemática - 2020/2 [- Ricardo M. S. Rosa (IM/UFRJ)](http://www.im.ufrj.br/rrosa)*"
   ]
  },
  {
   "cell_type": "markdown",
   "metadata": {
    "slideshow": {
     "slide_type": "skip"
    }
   },
   "source": [
    "<!--BADGES-->\n",
    "<a href=\"https://nbviewer.jupyter.org/github/rmsrosa/modelagem_matematica/blob/modmat2020p2/notas_de_aula/01.00-Aspectos_curso.ipynb\" target=\"_blank\"><img align=\"left\" src=\"https://img.shields.io/badge/view%20in-nbviewer-orange\" alt=\"View in NBViewer\" title=\"View in NBViewer\"></a><a href=\"https://mybinder.org/v2/gh/rmsrosa/modelagem_matematica/julia-env-for-binder?urlpath=git-pull%3Frepo%3Dhttps%253A%252F%252Fgithub.com%252Frmsrosa%252Fmodelagem_matematica%26branch%3Dmodmat2020p2%26urlpath%3Dtree%252Fmodelagem_matematica%252Fnotas_de_aula/01.00-Aspectos_curso.ipynb\" target=\"_blank\"><img align=\"left\" src=\"https://mybinder.org/badge.svg\" alt=\"Open in binder\" title=\"Open in binder\"></a><a href=\"https://nbviewer.jupyter.org/github/rmsrosa/modelagem_matematica/blob/modmat2020p2/notas_de_aula/slides/01.00-Aspectos_curso.slides.html\" target=\"_blank\"><img align=\"left\" src=\"https://img.shields.io/badge/view-slides-darkgreen\" alt=\"View Slides\" title=\"View Slides\"></a>&nbsp;"
   ]
  },
  {
   "cell_type": "markdown",
   "metadata": {
    "slideshow": {
     "slide_type": "skip"
    }
   },
   "source": [
    "<!--NAVIGATOR-->\n",
    "[<- Página inicial](00.00-Pagina_inicial.ipynb) | [Página inicial](00.00-Pagina_inicial.ipynb) | [2. Princípios de modelagem matemática ->](02.00-Principios_modelagem_matematica.ipynb)\n",
    "\n",
    "---\n"
   ]
  },
  {
   "cell_type": "markdown",
   "metadata": {
    "slideshow": {
     "slide_type": "slide"
    }
   },
   "source": [
    "# Aspectos do curso - edição 2020/2"
   ]
  },
  {
   "cell_type": "markdown",
   "metadata": {
    "slideshow": {
     "slide_type": "slide"
    }
   },
   "source": [
    "## Informações\n",
    "\n",
    "* Início: 23 de março de 2021\n",
    "* Prof. Ricardo M. S. Rosa\n",
    "* [rmsrosa.github.io](https://rmsrosa.github.io)\n",
    "* [rmsrosa.github.io - ModMat2020p2](https://rmsrosa.github.io/pages/ensino/#20202_modelagem_matemática)\n",
    "* [Google Classroom - 2020/2: Modelagem Matemática](https://classroom.google.com/c/MzAyNTc4Njk5MDk1)"
   ]
  },
  {
   "cell_type": "markdown",
   "metadata": {
    "slideshow": {
     "slide_type": "slide"
    }
   },
   "source": [
    "## Material do curso\n",
    "\n",
    "* O material principal será disponibilizado, ao longo do período, no repositório github [rmsrosa/modelagem_matematica ramo 2020/2](https://github.com/rmsrosa/modelagem_matematica/tree/modmat2020p2)\n",
    "* Pode-se \"baixar\" cada caderno disponibilizado no repositório ou acessá-los diretamente na nuvem.\n",
    "* Localmente, pode-se utilizar o `jupyter lab` ou o `jupyter notebook` para acessar e interagir com os cadernos\n",
    "* Na nuvem, é possível\n",
    "  * Visualizar os cadernos no próprio github;\n",
    "  * Visualizar os cadernos no NBViewer;\n",
    "  * Visualizar os slides associados a cada caderno;\n",
    "  * Interagir com os cadernos via [binder.org](https://mybinder.org)\n",
    "* Outras referências:\n",
    "  * G. Ledder, \"Mathematics for the Life Sciences\", Springer, 2013. Capítulo 2\n",
    "  * E. A. Bender, An Introduction to Mathematical Modeling, Dover, 1978.\n",
    "  * R. Arris, Mathematical Modelling Techniques, Dover Publications Inc., 1994.\n",
    "  * C. Dym, Principles of Mathematical Modeling, 2nd ed, Academic Press, 2004.\n",
    "  * M. Mesterton-Gibbons, A Concrete Approach to Mathematical Modelling, John Wiley & Sons, Inc., 1995, 2007 (US$136)\n",
    "  * S. Heinz, Mathematical Modeling, Springer-Verlag Berlin Heidelberg, 2011.\n",
    "* Referências focadas em projetos:\n",
    "  * J. Caldwell & D. K. S. Ng, Mathematical Modelling. Case Studies & Projects, 2004.\n",
    "  * Frank R. Giordano, William P. Fox, Steven B. Horton, A First Course in Mathematical Modeling, Cengage Learning, 2013.\n",
    "  * A. B. Shiflet, G. W. Shiflet, Introduction to Computational Science. Modeling and Simulation for the Sciences, Second edition, Princeton University Press, 2014.\n",
    "  * M. Olinick, Mathematical Modeling in the Social and Life Sciences, Wiley, 2014.\n",
    "  "
   ]
  },
  {
   "cell_type": "markdown",
   "metadata": {},
   "source": [
    "## Comunicação\n",
    "\n",
    "* A comunicação entre o professor e os estudantes deve ser feita prioritariamente através do [Google Classroom - 2020/2: Modelagem Matemática](https://classroom.google.com/c/MzAyNTc4Njk5MDk1)\n",
    "* Aulas síncronas serão feitas através do Google Meet, em links a serem disponibilizados pelo Google Classroom da turma.\n",
    "* Aulas síncronas *poderão* ser gravadas.\n",
    "* Aulas assíncronas pré-gravadas ou eventuais aulas síncronas gravadas serão disponibilizadas de maneira oculta em canal do YouTube."
   ]
  },
  {
   "cell_type": "markdown",
   "metadata": {
    "slideshow": {
     "slide_type": "slide"
    }
   },
   "source": [
    "## Avaliação\n",
    "\n",
    "Teremos \n",
    "* Listas periódicas\n",
    "* Mini-projetos\n",
    "* Um projeto final\n",
    "* Apresentações\n",
    "\n"
   ]
  },
  {
   "cell_type": "markdown",
   "metadata": {},
   "source": [
    "## Projeto final\n",
    "\n",
    "Sobre o projeto final, cada aluno deverá \n",
    "1. selecionar um artigo para trabalhar; \n",
    "2. entregar um relatório sobre o artigo;\n",
    "3. Fazer uma apresentação sobre o relatório, ao final do curso.\n",
    "\n",
    "Os artigos podem ser escolhidos de uma das revistas da SIAM:\n",
    "* [SIAM Journals](https://www.siam.org/publications/journals)\n",
    "\n",
    "As revistas da SIAM não fazem parte do conjunto de revistas disponibilizadas pela CAPES, mas, em uma iniciativa para tentar sensibilizar a entidade a assiná-las, a SIAM liberou o acesso às suas revistas por 90 dias, durante o período de 10 de março a 10 junho de 2021.\n",
    "\n",
    "* O acesso é através do [portal de periódicos CAPES/MEC](http://periodicos.capes.gov.br).\n",
    "\n",
    "* Para obter o acesso, é preciso estar cadastrado na [Comunidade Acadêmica Federada (CAFe)](http://mailer.periodicos.capes.gov.br/?m=138&p=view&pi=ViewBrowserPlugin&uid=2f8fa7c8723efa19b1958db739494389).\n",
    "\n",
    "* Esse cadastro deve ser feito via [Intranet da UFRJ](https://intranet.ufrj.br)."
   ]
  },
  {
   "cell_type": "markdown",
   "metadata": {},
   "source": [
    "## Seleção do projeto final\n",
    "\n",
    "* O tema/artigo do projeto final deve ser escolhido pelo estudante e aprovado pelo professor.\n",
    "* Para este fim, o estudante deve escolher pelo menos três artigos e encaminhar para o professor, indicando uma ordem de preferência, se desejar.\n",
    "* Esse encaminhamento deve ser feito até a penúltima semana de abril, dia 23.\n",
    "* O encaminhamento deve ser feito através do Google Classroom."
   ]
  },
  {
   "cell_type": "markdown",
   "metadata": {
    "slideshow": {
     "slide_type": "skip"
    }
   },
   "source": [
    "<!--NAVIGATOR-->\n",
    "\n",
    "---\n",
    "[<- Página inicial](00.00-Pagina_inicial.ipynb) | [Página inicial](00.00-Pagina_inicial.ipynb) | [2. Princípios de modelagem matemática ->](02.00-Principios_modelagem_matematica.ipynb)"
   ]
  }
 ],
 "metadata": {
  "kernelspec": {
   "display_name": "Julia 1.5.3",
   "language": "julia",
   "name": "julia-1.5"
  },
  "language_info": {
   "file_extension": ".jl",
   "mimetype": "application/julia",
   "name": "julia",
   "version": "1.5.3"
  }
 },
 "nbformat": 4,
 "nbformat_minor": 4
}
