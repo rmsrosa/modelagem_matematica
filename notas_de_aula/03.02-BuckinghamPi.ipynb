{
 "cells": [
  {
   "cell_type": "markdown",
   "metadata": {
    "slideshow": {
     "slide_type": "skip"
    }
   },
   "source": [
    "<!--HEADER-->\n",
    "*Notas de aula de Modelagem Matemática - 2021/1 [- Ricardo M. S. Rosa (IM/UFRJ)](http://www.im.ufrj.br/rrosa)*"
   ]
  },
  {
   "cell_type": "markdown",
   "metadata": {
    "slideshow": {
     "slide_type": "skip"
    }
   },
   "source": [
    "<!--BADGES-->\n",
    "<a href=\"https://nbviewer.jupyter.org/github/rmsrosa/modelagem_matematica/blob/modmat2021p1/notas_de_aula/03.02-BuckinghamPi.ipynb\" target=\"_blank\"><img align=\"left\" src=\"https://img.shields.io/badge/view%20in-nbviewer-orange\" alt=\"View in NBViewer\" title=\"View in NBViewer\"></a><a href=\"https://mybinder.org/v2/gh/rmsrosa/modelagem_matematica/julia-env-for-binder-2021p1?urlpath=git-pull%3Frepo%3Dhttps%253A%252F%252Fgithub.com%252Frmsrosa%252Fmodelagem_matematica%26branch%3Dmodmat2021p1%26urlpath%3Dtree%252Fmodelagem_matematica%252Fnotas_de_aula/03.02-BuckinghamPi.ipynb\" target=\"_blank\"><img align=\"left\" src=\"https://mybinder.org/badge.svg\" alt=\"Open in binder\" title=\"Open in binder\"></a><a href=\"https://nbviewer.jupyter.org/github/rmsrosa/modelagem_matematica/blob/modmat2021p1/notas_de_aula/slides/03.02-BuckinghamPi.slides.html\" target=\"_blank\"><img align=\"left\" src=\"https://img.shields.io/badge/view-slides-darkgreen\" alt=\"View Slides\" title=\"View Slides\"></a>&nbsp;"
   ]
  },
  {
   "cell_type": "markdown",
   "metadata": {
    "slideshow": {
     "slide_type": "skip"
    }
   },
   "source": [
    "<!--NAVIGATOR-->\n",
    "[<- 3.1. Quantidades, unidades e dimensões](03.01-Quantidades_unidades_dimensoes.ipynb) | [Página inicial](00.00-Pagina_inicial.ipynb) | [3.3. Trabalhando com unidades e dimensões em Julia ->](03.03-Unidades_Julia.ipynb)\n",
    "\n",
    "---\n"
   ]
  },
  {
   "cell_type": "markdown",
   "metadata": {
    "slideshow": {
     "slide_type": "slide"
    }
   },
   "source": [
    "# Análise dimensional e o Teorema de Buckingham-Pi\n",
    "\n",
    "* Análise dimensional\n",
    "\n",
    "* Formalização via Teorema de Buckinham-Pi."
   ]
  },
  {
   "cell_type": "markdown",
   "metadata": {
    "slideshow": {
     "slide_type": "slide"
    }
   },
   "source": [
    "## Princípio da homogeneidade dimensional\n",
    "\n",
    "* Temos um princípio físico fundamental para a análise dimensional, que geralmente é enunciado por: \"*Não podemos somar maças e laranjas*\" (\"We can't add apples and oranges\"), mas que pode ser mais formalmente expresso como\n",
    "\n",
    "> **Se uma equação expressa verdadeiramente uma relação adequada entre variáveis em um processo físico, ela será dimensionalmente homogênea; isto é, todos os seus termos aditivos terão a mesma dimensão.**"
   ]
  },
  {
   "cell_type": "markdown",
   "metadata": {
    "slideshow": {
     "slide_type": "slide"
    }
   },
   "source": [
    "### Exemplo do princípio de homogeneidade dimensional\n",
    "\n",
    "* Por exemplo, no problema clássico de um corpo em queda livre ideal, temos a seguinte relação entre a *altura* $h$ do objeto no instante $t$, a sua *altura inicial* $h_0$, a sua *velocidade inicial* $v_0$ e a aceleração da gravidade $g$:\n",
    "$$ h = h_0 + v_0 t + \\frac{g}{2}t^2.\n",
    "$$\n",
    "Observe que\n",
    "$$ [h] = [h_0] = L, \\quad [v_0] = L T^{-1}, \\quad [t] = T, \\quad [g] = LT^{-2}\n",
    "$$\n",
    "de forma que\n",
    "$$ [h] = [h_0] = L, \\quad [v_0 t] = [v_0][t] = L T^{-1} T = L, \\quad \\left[\\frac{g}{2}t^2\\right] = [g][t]^2 = LT^{-2}T^2 = L,\n",
    "$$\n",
    "ou seja, todos os termos aditivos tem a mesma dimensão $L$ de comprimento."
   ]
  },
  {
   "cell_type": "markdown",
   "metadata": {
    "slideshow": {
     "slide_type": "slide"
    }
   },
   "source": [
    "### Outra visão desse exemplo\n",
    "\n",
    "* Também podemos olhar para a equação diferencial que segue da segunda lei de Newton:\n",
    "$$ m\\dfrac{d^2 h}{d^2 t} = -mg,\n",
    "$$\n",
    "onde $m$ é a massa do objeto.\n",
    "\n",
    "* Nesse caso\n",
    "$$ \\left[m\\dfrac{d^2 h}{d^2 t}\\right] = M L T^{-2}, \\qquad [-mg] = [m][g] = M L T^{-2}\n",
    "$$\n",
    "ou seja, todo os dois termos aditivos têm dimensão $MLT^{-2}$.\n",
    "\n",
    "* Observe que da segunda lei de Newton podemos deduzir que, independente da força exercida em um sistema mecânico, ela tem exatamente a unidade de $MLT^{-2}$."
   ]
  },
  {
   "cell_type": "markdown",
   "metadata": {
    "slideshow": {
     "slide_type": "slide"
    }
   },
   "source": [
    "### Dimensão em derivadas\n",
    "\n",
    "* Aproveitamos o exemplo acima para ilustrar que o processo de derivada acarreta em incluir uma potência no denominador, relativa à dimensão da quantidade em relação à qual se está derivando.\n",
    "\n",
    "* Mais precisamente, se temos duas quantidades variáveis $x$ e $y$ e queremos olhar para a dimensão da taxa de variação de $y$ em relação a $x$, então\n",
    "$$ \\left[\\dfrac{dy}{dx}\\right] = \\left[\\lim_{\\Delta x\\rightarrow 0}\\dfrac{\\Delta y}{\\Delta x}\\right] = \\left[\\frac{d y}{d x}\\right] = \\dfrac{[d y]}{[d x]} = \\frac{[y]}{[x]}.\n",
    "$$\n",
    "\n",
    "* No caso da segunda derivada,\n",
    "$$ \\left[\\dfrac{d^2y}{dx^2}\\right] \\left[\\dfrac{d}{dx}\\dfrac{dy}{dx}\\right]= \\frac{\\left[\\dfrac{dy}{dx}\\right]}{[dx]} = \\dfrac{\\dfrac{[y]}{[x]}}{[x]} = \\frac{[y]}{[x]^2}.\n",
    "$$\n",
    "\n",
    "* E assim por diante."
   ]
  },
  {
   "cell_type": "markdown",
   "metadata": {
    "slideshow": {
     "slide_type": "slide"
    }
   },
   "source": [
    "### Lei da gravitação universal\n",
    "\n",
    "* A força gravitacional entre dois corpos pontuais de massa $m_1$ e $m_2$ que estão a uma distância $R$ entre si tem magnitude\n",
    "\n",
    "$$ |F| = G\\frac{m_1m_2}{R^2},\n",
    "$$\n",
    "onde $G$ é uma constante chamada de *constante universal*.\n",
    "\n",
    "* Podemos checar a consistência dessa relação à luz do *princípio da homogeneidade dimensional*.\n",
    "\n",
    "* A constante universal é uma constante obtida empiricamente e é dada mais precisamente por\n",
    "$$ G = 6.674\\times 10^{−11} \\texttt{m}^3\\;\\texttt{kg}^{−1}\\;\\texttt{s}^{−2}.\n",
    "$$\n",
    "\n",
    "* Assim, temos\n",
    "$$ [G] = \\frac{L^3}{MT^2}, \\quad [m_1] = [m_2] = M, \\qquad [R] = L,\n",
    "$$\n",
    "de modo que\n",
    "$$ [F] = \\frac{L^3}{MT^2}\\frac{M^2}{L^2} = \\frac{ML}{T^2}\n",
    "$$\n",
    "o que está de acordo com a dimensão de força.\n",
    "\n",
    "* Isso mostra a consistência da fórmula acima."
   ]
  },
  {
   "cell_type": "markdown",
   "metadata": {
    "slideshow": {
     "slide_type": "slide"
    }
   },
   "source": [
    "## Teorema de Buckingham-Pi\n",
    "\n",
    "Ou **Teorema Pi de Buckingham** ou **Teorema Buckingham-$\\mathbf{\\Pi}$**\n",
    "\n",
    "* O teorema foi proposto em 1914 por Buckingham. O nome Pi se deve a notação matemática $\\Pi$ para um produtório, neste caso, um produto de grandezas (variáveis e parâmetros), dado que os *grupos adimensionais* fornecidos pelo teorema são produtos de potências (inteiras) de notados por originalmente por $\\pi_1$, $\\pi_2$, etc.\n",
    "\n",
    "* Os fundamentos do método de análise dimensional repousa em duas hipóteses:\n",
    "1. **Universalidade:** todas as variáveis relevantes foram incluídas no modelo.\n",
    "1. **Homogeneidade dimensional:** A relação física proposta pelo modelo é dimensionalmente homogênea"
   ]
  },
  {
   "cell_type": "markdown",
   "metadata": {
    "slideshow": {
     "slide_type": "slide"
    }
   },
   "source": [
    "### O Teorema\n",
    "\n",
    "> **Teorema (Buckingham-Pi)**  Considere um sistema com $n$ quantidades $q_1, \\ldots, q_n$ em que $m$ dimensões fundamentais estão envolvidas. Então, $n-m$ grandezas adimensionais $\\pi_1,\\ldots, \\pi_{n-m}$ podem ser definidas como potências das quantidades originais (um monômio nessas quantidades). \n",
    "\n",
    "> Além disso, cada equação (escalar) entre essas quantidades,\n",
    "$$\n",
    "f(q_1, \\ldots, q_n) = 0,\n",
    "$$\n",
    "dado em modelo matemático associado ao sistema, pode ser substituída por uma relação correspondente entre os $\\pi_i$:\n",
    "$$\n",
    "f^*(\\pi_1, \\ldots, \\pi_{n-m}) = 0\n",
    "$$\n",
    "\n",
    "* As quantidades $q_i$ incluem tanto variáveis (e.g. posição) como parâmetros (e.g. aceleração da gravidade).\n",
    "\n",
    "* Cada equação do modelo pode contemplar vetores, matrizes, etc, porém, para o objetivo da análise, todas as componentes escalares devem ser tratadas separadamente como quantidades.\n",
    "\n",
    "* No centro da demonstração está o *Teorema do Núcleo e da Imagem*."
   ]
  },
  {
   "cell_type": "markdown",
   "metadata": {
    "slideshow": {
     "slide_type": "slide"
    }
   },
   "source": [
    "### Demonstração\n",
    "\n",
    "* Formemos o produto\n",
    "$$\n",
    "\\pi = q_1^{r_1} ~\\cdots~ q_n^{r_n}.\n",
    "$$\n",
    "\n",
    "* Queremos saber para quais escolhas de $r_i$ o produto é adimensional.\n",
    "\n",
    "* Para ver isso, olhamos para a dimensão do produto e substituímos cada $[q_i]$ em termos de suas dimensões fundamentais.\n",
    "\n",
    "* Se temos apenas $m$ dimensões fundamentais $D_1, \\ldots, D_m$, então essa substituição dá origem a um produto\n",
    "$$ [\\pi] = [q_1]^{r_1} ~\\cdots~ [q_n]^{r_n} =  D_1^{s_1} \\cdots D_m^{s_m},\n",
    "$$\n",
    "onde cada $s_j$, $j = 1, \\ldots, m$, é uma combinação linear dos $r_i$, $i = 1, \\ldots, n$. "
   ]
  },
  {
   "cell_type": "markdown",
   "metadata": {
    "slideshow": {
     "slide_type": "subslide"
    }
   },
   "source": [
    "* Escrevemos a dependência linear dos $s_j$ nos $r_i$ como \n",
    "$$ s = A r, \\qquad s=(s_1, \\ldots, s_m)\\in \\mathbb{R}^m, \\;r=(r_1, \\ldots, r_N)\\in\\mathbb{R}^N.\n",
    "$$\n",
    "\n",
    "* Para que o produto $[\\pi] = D_1^{s_1} \\cdots D_m^{s_m}$ seja adimensional, devemos ter cada potência se anulando, i.e.\n",
    "$$\n",
    "s_i = 0, \\quad \\text{para} \\quad i = 1, \\ldots, m.\n",
    "$$\n",
    "\n",
    "* Isso nos leva a um sistema linear homogêneo de $m$ equações lineares para $n$ incógnitas $r_1, \\ldots, r_n$.\n",
    "\n",
    "* Ou seja, reduzimos o problema a se determinar o núcleo de uma matriz de tamanho $m \\times n$, associada ao sistema linear, i.e.\n",
    "$$ N(A) = \\{ r\\in \\mathbb{R}^n; Ar = 0\\}.\n",
    "$$"
   ]
  },
  {
   "cell_type": "markdown",
   "metadata": {
    "slideshow": {
     "slide_type": "subslide"
    }
   },
   "source": [
    "* O Teorema da Imagem e do Núcleo nos diz que\n",
    "$$ \\dim N(A) + \\dim \\text{Im}(A) = n.\n",
    "$$\n",
    "\n",
    "* Como $\\dim \\text{Im}(A) \\leq m$, obtemos\n",
    "$$ \\dim N(A) = n - \\dim \\text{Im}(A) \\geq n - m.\n",
    "$$\n",
    "\n",
    "* Ou seja, a dimensão do núcleo é no mínimo $n-m$.\n",
    "\n",
    "* Portanto, teremos no mínimo $n-m$ soluções linearmente indepentes, $r_k$, $k=1, \\ldots, n-m$.\n",
    "\n",
    "* Cada solução $r_k=(r_{k,1}, \\ldots, r_{k,n})$, $k=1, \\ldots, n-m$, nos dá uma quantidade adimensional\n",
    "$$ \\pi_k = q_1^{r_{k,1}} ~\\cdots~ q_n^{r_{k,n}}.\n",
    "$$\n",
    "\n",
    "* Isso corresponde justamente às $n-m$ grandezas adimensionais do enunciado do teorema."
   ]
  },
  {
   "cell_type": "markdown",
   "metadata": {},
   "source": [
    "* Agora, para a segunda parte, considere \n",
    "$$ f(q_1, \\ldots, q_n) = 0.\n",
    "$$\n",
    "\n",
    "* Obtivemos que\n",
    "$$ \\pi_k = q_1^{r_{k,1}} ~\\cdots~ q_n^{r_{k,n}}, \\qquad k=1, \\ldots, n-m.\n",
    "$$\n",
    "\n",
    "* A dificuldade aqui é obter a relação inversa da dependência dos $q_i$'s nos $\\pi_k$'s.\n",
    "\n",
    "* De fato, isso é, em geral, impossível para todos os $q_i$'s, pois usualmente temos mais grandezas $q_i$, $i=1, \\ldots, n$, do que quantidades adimensionais $\\pi_k$, $k=1, \\ldots, n-m$ (e equações correspondentes).\n",
    "\n",
    "* Mas podemos resolver para $n-m$ grandezas:\n",
    "$$ q_{n-m+1}, \\ldots, q_n = \\text{ monômios em } \\pi_1, \\ldots, \\pi_{n-m}, q_1 \\ldots q_{n-m}.\n",
    "$$\n",
    "\n",
    "* Isso nos leva a um novo modelo\n",
    "$$ f^*(q_1, \\ldots, q_{n-m}, \\pi_1, \\ldots, \\pi_{n-m}) = 0.\n",
    "$$\n",
    "\n",
    "* Por fim, pelo princípio de homogeneidade dimensional, é possível mostrar que o termo acima é independente de $q_1, \\ldots, q_{n-m}$, nos levando finalmente a\n",
    "$$ f^*(\\pi_1, \\ldots, \\pi_{n-m}) = 0.\n",
    "$$"
   ]
  },
  {
   "cell_type": "markdown",
   "metadata": {
    "slideshow": {
     "slide_type": "slide"
    }
   },
   "source": [
    "### O pêndulo simples\n",
    "\n",
    "* Vamos rever o exemplo do pêndulo, tratado no terceiro caderno, à luz do Teorema de Buckingham-Pi.\n",
    "\n",
    "* As variáveis envolvidas na descrição do fenômeno são o ângulo $\\theta$ e o tempo $t$. E os parâmetros são a massa $m$ do prumo, o comprimento $\\ell$ da haste rígida e a aceleração da gravidade $g$.\n",
    "\n",
    "* Observe que agora estamos considerando o ângulo, que nao consideramos anteriormente, mas observe também que o ângulo é uma quantidade adimensional, pois podemos enxergá-lo como a razão entre o comprimento do arco $r\\theta$ que ele descreve em uma circunferência e o raio $r$ da mesma.\n",
    "\n",
    "* Assim, temos $[\\theta] = 1$ (adimensional), $[t]=T$, $[m] = M$, $[\\ell] = L$ e $[g]=LT^{-2}$. Portanto, temos as dimensões fundamentais $L$, $M$ e $T$.\n",
    "\n",
    "* Ou seja, na notação do teorema, temos $n=5$ grandezas físicas e $m=3$ dimensões fundamentais.\n",
    "\n",
    "* Assim, $n-m=2$ grandezas adimensionais $\\pi_1$ e $\\pi_2$ podem ser escritas como potências dos parâmetros e das variáveis originais.\n",
    "\n",
    "* Como $\\theta$ já é adimensional, podemos tomá-lo como uma dessas duas quantidades. Falta encontrar a outra."
   ]
  },
  {
   "cell_type": "markdown",
   "metadata": {
    "slideshow": {
     "slide_type": "slide"
    }
   },
   "source": [
    "### Segunda quantidade adimensional\n",
    "\n",
    "* Para encontrar a outra quantidade adimensional, vamos descartar $\\theta$ que já foi encontrado e formar o produto\n",
    "$$\n",
    "\\pi_2 = t^{r_1} \\ell^{r_2} m^{r_3} g^{r_4}.\n",
    "$$\n",
    "\n",
    "* Temos, \n",
    "$$ [t] = T, \\quad [\\ell] = L, \\quad [m] = M, \\quad [g] = LT^{-2}.\n",
    "$$\n",
    "\n",
    "* Substituindo no produto acima, obtemos\n",
    "$$\n",
    "[\\pi_2] = T^{r_1} L^{r_2} M^{r_3} (LT^{-2})^{r_4} = T^{r_1 - 2 r_4} L^{r_2 + r_4} M^{r_3},\n",
    "$$\n",
    "\n",
    "* A condição de pedir que o produto seja adimensional nos dá o sistema linear\n",
    "$$ \n",
    "\\begin{cases}\n",
    "  r_1 - 2 r_4  = 0, \\\\\n",
    "  r_2 + r_4 = 0, \\\\\n",
    "  r_3 = 0,\n",
    "\\end{cases}\n",
    "$$\n",
    "\n",
    "* Esse sistema possui infinitas soluções:\n",
    "$$\n",
    "\\begin{cases}\n",
    "  r_1 = 2s \\\\\n",
    "  r_2 = -s \\\\\n",
    "  r_3 = 0 \\\\\n",
    "  r_4 = s\n",
    "\\end{cases}\n",
    "$$\n",
    "para $s\\in \\mathbb{R}$ qualquer. Isso nos dá\n",
    "$$ \\pi_2 = t^{2s} \\ell^{-s}g^{s} = (t^2\\ell^{-1}g)^s.\n",
    "$$\n",
    "\n",
    "* Uma solução em particular é com $s=1/2$ (apenas escolhido para que a potência em $t$ seja $1$, nada mais). \n",
    "\n",
    "* Nesse caso, temos a quantidade adimensional\n",
    "$$ \\pi_2 = t\\sqrt{\\frac{g}{\\ell}}.\n",
    "$$\n",
    "\n",
    "* Note que a massa $m$ não está presente em nenhuma grandeza adimensional, ou seja, ela não influencia no movimento do pêndulo, pelo menos segundo as hipóteses que fizemos."
   ]
  },
  {
   "cell_type": "markdown",
   "metadata": {
    "slideshow": {
     "slide_type": "slide"
    }
   },
   "source": [
    "### Periodicidade\n",
    "\n",
    "* Na análise acima, a quantidade $t$ é uma variável do problema. A relação **não** diz que $\\pi_2$, e consequentemente $t$, é constante. Apenas diz que a quantidade $\\pi_2 = t\\sqrt{g/\\ell}$ é adimensional.\n",
    "\n",
    "* Além disso, nada na análise dimensional acima diz que o movimento do pêndulo é periódico.\n",
    "\n",
    "* Mas se intuímos, através da observação, que o movimento é (aproximadamente) periódico, então o período é uma grandeza característica do problema.\n",
    "\n",
    "* E se consideramos esse período $\\tau$ como parâmetro no sistema, no lugar da variável $t$, então obtemos a relação adimensional (e constante dessa vez)\n",
    "$$ \\pi_2 = \\tau \\sqrt{\\frac{g}{\\ell}}\n",
    "$$\n",
    "\n",
    "* Isso nos leva à relação para o período\n",
    "$$ \\tau \\propto \\sqrt{\\frac{\\ell}{g}}.\n",
    "$$"
   ]
  },
  {
   "cell_type": "markdown",
   "metadata": {
    "slideshow": {
     "slide_type": "slide"
    }
   },
   "source": [
    "### Velocidade do som\n",
    "\n",
    "* Considerando um certo fluido sob pressão $p$ e densidade $\\rho$.\n",
    "\n",
    "* Assumindo a hipótese de que a velocidade $v$ do som nesse meio depende apenas dessas duas quantidades, como podemos deduzir uma relação entre elas?\n",
    "\n",
    "* Temos que a pressão é força por área e que a força é $ML/T^2$, logo\n",
    "$$ [p] = \\frac{M}{LT^2}\n",
    "$$\n",
    "\n",
    "* Além disso,\n",
    "$$ [v] = \\frac{L}{T}, \\qquad [\\rho] = \\frac{M}{L^3}.\n",
    "$$\n",
    "\n",
    "* Assim,\n",
    "$$ [v^\\alpha p^\\beta \\rho^\\gamma] = \\left(\\frac{L}{T}\\right)^\\alpha \\left(\\frac{M}{LT^2}\\right)^\\beta \\left(\\frac{M}{L^3}\\right)^\\gamma = L^{\\alpha-\\beta-3\\gamma}M^{\\beta + \\gamma}T^{-\\alpha-2\\beta}.\n",
    "$$\n",
    "\n",
    "* Observe que temos $3$ quantidades, $p$, $\\rho$ e $v$, para três dimensões, $L$, $M$, $T$. O Teorema de Buckingham-Pi nos garante *pelo menos* $n-m = 3 - 3 = 0$ quantidades adimensionais. Ou seja, não há nada garantido nesse caso. Mas nada nos impede de tentar."
   ]
  },
  {
   "cell_type": "markdown",
   "metadata": {
    "slideshow": {
     "slide_type": "subslide"
    }
   },
   "source": [
    "* Para termos $\\pi = v^\\alpha p^\\beta \\rho^\\gamma$ adimensioal, precisamos resolver o sistema\n",
    "$$ \\begin{cases}\n",
    "  \\alpha - \\beta - 3\\gamma = 0 \\\\\n",
    "  \\beta + \\gamma = 0 \\\\\n",
    "  -\\alpha-2\\beta = 0.\n",
    "\\end{cases}\n",
    "$$\n",
    "\n",
    "* Resolvendo,\n",
    "$$ \\begin{cases}\n",
    "  \\alpha = 2\\gamma \\\\\n",
    "  \\beta = -\\gamma,\n",
    "\\end{cases}\n",
    "$$\n",
    "com $\\gamma$ qualquer.\n",
    "\n",
    "* Isso nos leva às quantidades adimensionais\n",
    "$$ \\pi = v^{2\\gamma}p^{-\\gamma}\\rho^\\gamma\n",
    "$$\n",
    "\n",
    "* Ou seja, mesmo nesse caso em que $m=n$, ainda temos um sistema degenerado, com um núcleo de dimensão $1$.\n",
    "\n",
    "* Assim, obtemos\n",
    "$$ v \\propto \\sqrt{\\frac{p}{\\rho}}\n",
    "$$\n",
    "\n",
    "* Esta é uma aproximação. Na prática, efeitos térmicos influenciam na lei. Além disso, ela não é universal, no sentido da constante de proporcionalidade ser independente do gás. Leia mais sobre isso em [velocidade do som](https://pt.wikipedia.org/wiki/Velocidade_do_som)"
   ]
  },
  {
   "cell_type": "markdown",
   "metadata": {
    "slideshow": {
     "slide_type": "slide"
    }
   },
   "source": [
    "## Exercícios\n",
    "\n",
    "1. Considere uma corda de comprimento $\\ell$ com uma extremidade fixa e a outra presa a um objeto de massa $m$. Suponha que esse sistema corda-massa gire em um movimento circular uniforme, com velocidade constante $v$. Esse movimento gera uma tensão $T$ na corda. A tensão é uma força. Use análise dimensional para deduzir a relação\n",
    "$$ \\frac{T\\ell}{mv^2} = \\text{constante.}\n",
    "$$\n",
    "\n",
    "1. No problema da velocidade do som em um meio, o que acontece no caso de assumirmos que as únicas quantidades relevantes são a própria velocidade $v$ e a pressão $p$, apenas? E no caso de assumirmos que as quantidades relevantes são $v$, $p$, $\\rho$ e a temperatura $\\theta$ do meio?\n",
    "\n",
    "1. Em 1941, [G. I Taylor](https://pt.wikipedia.org/wiki/Geoffrey_Ingram_Taylor), um famoso físico e matemático britânico, com grandes contribuições à mecânica dos fluidos, fez uma [estimativa do rendimento da primeira bomba nuclear](https://en.wikipedia.org/wiki/Nuclear_weapon_yield) detonada pelos EUA, na chamada [experiência Trinity](https://pt.wikipedia.org/wiki/Experiência_Trinity). A estimativa foi feita apenas com análise dimensional e [dados da evolução da frente de onda obtidos de uma filmagem da explosão](http://nuclearweaponarchive.org/Usa/Tests/Trinity.html). Assumindo que os únicos parâmetros relevantes para o cálculo do rendimento $E$ (energia despendida) são a densidade $\\rho$ do ar, o raio da onda de choque $r=r(t)$ e o instante de tempo $t$, encontre uma relação adimensional entre essas quantidades.\n",
    "\n",
    "1. Estimar o atrito na parede de um tubo é uma das tarefas mais comuns em aplicações de engenharia envolvendo fluidos. Para tubos longos circulares e ásperos em regime de escoamento turbulento, a tensão de cisalhamento no parede, $\\tau_w$, é uma função da densidade $\\rho$, viscosidade (dinâmica) $\\mu$, velocidade média $V$, diâmetro do cano $d$, e da altura de rugosidade da parede $\\varepsilon$. Assim, funcionalmente podemos escrever a relação $\\tau_w = f(\\rho, \\mu, V, d, \\varepsilon)$.\n",
    "  1. Usando o procedimento do Teorema de Buckingham-Pi, mostre como chegar nos grandezas adimensionais\n",
    "    $$\n",
    "    C_f = \\dfrac{\\tau_w}{\\rho V^2}, \\quad Re = \\dfrac{\\rho V d}{\\mu}, \\quad \\varepsilon^* = \\dfrac{\\varepsilon}{d},\n",
    "    $$\n",
    "  2. Conclua que a relação pode ser simplificada para $C_f = f^*(Re, \\varepsilon^*)$. \n",
    "  3. Obs: $C_f$ é dito o *coeficiente de atrito na parede*; $Re$ é dito o número de Reynolds; e $\\varepsilon^*$ dita a rugosidade relativa."
   ]
  },
  {
   "cell_type": "markdown",
   "metadata": {
    "slideshow": {
     "slide_type": "slide"
    }
   },
   "source": [
    "## Referências\n",
    "\n",
    "1. C. Dym, Principles of Mathematical Modeling, 2nd ed, Academic Press, 2004.\n",
    "\n",
    "1. E. A. Bender, An Introduction to Mathematical Modeling, Dover, 1978.\n",
    "\n",
    "1. G. Barenblatt, G. -- *Scaling*, Cambridge University Press, 2003.\n",
    "\n",
    "1. Groesen, E. van, and Molenaar, J. -- *Continuum Modeling in the Physical Sciences*, SIAM, 2007. \n",
    "\n",
    "1. [T. Tao, A mathematical formalisation of dimensional analysis](https://terrytao.wordpress.com/2012/12/29/a-mathematical-formalisation-of-dimensional-analysis/)."
   ]
  },
  {
   "cell_type": "markdown",
   "metadata": {
    "slideshow": {
     "slide_type": "skip"
    }
   },
   "source": [
    "<!--NAVIGATOR-->\n",
    "\n",
    "---\n",
    "[<- 3.1. Quantidades, unidades e dimensões](03.01-Quantidades_unidades_dimensoes.ipynb) | [Página inicial](00.00-Pagina_inicial.ipynb) | [3.3. Trabalhando com unidades e dimensões em Julia ->](03.03-Unidades_Julia.ipynb)"
   ]
  }
 ],
 "metadata": {
  "kernelspec": {
   "display_name": "Julia 1.6.2",
   "language": "julia",
   "name": "julia-1.6"
  },
  "language_info": {
   "file_extension": ".jl",
   "mimetype": "application/julia",
   "name": "julia",
   "version": "1.6.2"
  }
 },
 "nbformat": 4,
 "nbformat_minor": 4
}
