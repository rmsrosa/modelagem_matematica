{
 "cells": [
  {
   "cell_type": "markdown",
   "metadata": {
    "slideshow": {
     "slide_type": "skip"
    }
   },
   "source": [
    "<!--HEADER-->\n",
    "*Notas de aula de Modelagem Matemática - 2021/1 [- Ricardo M. S. Rosa (IM/UFRJ)](http://www.im.ufrj.br/rrosa)*"
   ]
  },
  {
   "cell_type": "markdown",
   "metadata": {
    "slideshow": {
     "slide_type": "skip"
    }
   },
   "source": [
    "<!--BADGES-->\n",
    "<a href=\"https://nbviewer.jupyter.org/github/rmsrosa/modelagem_matematica/blob/modmat2021p1/notas_de_aula/05.00-Primeiros_passos_Julia.ipynb\" target=\"_blank\"><img align=\"left\" src=\"https://img.shields.io/badge/view%20in-nbviewer-orange\" alt=\"View in NBViewer\" title=\"View in NBViewer\"></a><a href=\"https://mybinder.org/v2/gh/rmsrosa/modelagem_matematica/julia-env-for-binder-2021p1?urlpath=git-pull%3Frepo%3Dhttps%253A%252F%252Fgithub.com%252Frmsrosa%252Fmodelagem_matematica%26branch%3Dmodmat2021p1%26urlpath%3Dtree%252Fmodelagem_matematica%252Fnotas_de_aula/05.00-Primeiros_passos_Julia.ipynb\" target=\"_blank\"><img align=\"left\" src=\"https://mybinder.org/badge.svg\" alt=\"Open in binder\" title=\"Open in binder\"></a><a href=\"https://nbviewer.jupyter.org/github/rmsrosa/modelagem_matematica/blob/modmat2021p1/notas_de_aula/slides/05.00-Primeiros_passos_Julia.slides.html\" target=\"_blank\"><img align=\"left\" src=\"https://img.shields.io/badge/view-slides-darkgreen\" alt=\"View Slides\" title=\"View Slides\"></a>&nbsp;"
   ]
  },
  {
   "cell_type": "markdown",
   "metadata": {
    "slideshow": {
     "slide_type": "skip"
    }
   },
   "source": [
    "<!--NAVIGATOR-->\n",
    "[<- 4. Instalando e acessando o Julia](04.00-Instalando_acessando_Julia.ipynb) | [Página inicial](00.00-Pagina_inicial.ipynb) | [6. Análise dimensional e o Teorema de Buckingham-Pi ->](06.00-BuckinghamPi_analise_dimensional.ipynb)\n",
    "\n",
    "---\n"
   ]
  },
  {
   "cell_type": "markdown",
   "metadata": {
    "slideshow": {
     "slide_type": "slide"
    }
   },
   "source": [
    "# Primeiros passos em Julia\n",
    "\n",
    "Há várias fontes de informação sobre a linguagem Julia. Vejam, por exemplo, os links informados no início do caderno anterior. Em particular,\n",
    "\n",
    "* Guias rápidos\n",
    "  * [Getting Started with Julia (QuantEcon)](https://julia.quantecon.org/getting_started_julia/index.html)\n",
    "  * [Julia Documentation](https://docs.julialang.org/en/v1/)\n",
    "  * [A via rápida para Julia 1.0](https://juliadocs.github.io/Julia-Cheat-Sheet/br/)\n",
    "  * [MATLAB–Python–Julia cheatsheet (QuantEcon)](https://cheatsheets.quantecon.org)\n",
    "  * [Noteworthy Differences from other Languages](https://docs.julialang.org/en/v1/manual/noteworthy-differences/)\n",
    "* Mais detalhados\n",
    "  * [Think Julia: How to Think Like a Computer Scientist](https://benlauwens.github.io/ThinkJulia.jl/latest/book.html)\n",
    "  * [Introducing Julia](https://en.wikibooks.org/wiki/Introducing_Julia)\n",
    "  * [A Deep Introduction to Julia for Data Science and Scientific Computing](http://ucidatascienceinitiative.github.io/IntroToJulia/)\n",
    "\n",
    "Não pretendo reinventar a roda, aqui. Sugiro que vejam pelo menos uns dois links dos mencionados. Em particular, [Mathematical Operations and Elementary Functions](https://docs.julialang.org/en/v1/manual/mathematical-operations/#Mathematical-Operations-and-Elementary-Functions). \n",
    "\n",
    "Se você está acostumado com python, por exemplo, veja [Noteworthy differences from Python](https://docs.julialang.org/en/v1/manual/noteworthy-differences/#Noteworthy-differences-from-Python).\n",
    "\n",
    "Vou apenas fazer alguns comentários que considero relevantes."
   ]
  },
  {
   "cell_type": "markdown",
   "metadata": {
    "slideshow": {
     "slide_type": "slide"
    }
   },
   "source": [
    "## Blocos de código\n",
    "\n",
    "Identar o código é extramemente recomendado, mas, contrariamente ao python, não é obrigatório. Por isso, é necessário concluir os blocos com `end`.\n",
    "\n",
    "A vantagem disso é que é fácil copiar um código e rodar em outro ambiente, como no REPL, por exemplo, sem se preocupar com o processo de copiar e colar modificar a identação."
   ]
  },
  {
   "cell_type": "code",
   "execution_count": 1,
   "metadata": {
    "slideshow": {
     "slide_type": "fragment"
    }
   },
   "outputs": [
    {
     "name": "stdout",
     "output_type": "stream",
     "text": [
      "1\n",
      "2\n",
      "3\n",
      "4\n",
      "5\n"
     ]
    }
   ],
   "source": [
    "for i = 1:5\n",
    "    println(i)\n",
    "end"
   ]
  },
  {
   "cell_type": "markdown",
   "metadata": {
    "slideshow": {
     "slide_type": "slide"
    }
   },
   "source": [
    "## Caracteres unicode\n",
    "\n",
    "Caracteres unicode podem, e costumam ser, usados como variáveis. Você pode obtê-los, *em células de código*, digitando o símbolo deles seguido de `<tab>`. Vários nomes são derivados da denominação deles em latex. Por exemplo, para obter $\\pi$ acima, basta digitar `\\pi<tab>`.\n",
    "\n",
    "Subescritos e superescritos podem ser obtidos com `^\\` e `_\\`, seguidos de `<tab>`. Por exemplo $x_1$ é obtido com `x\\_1<tab>`.\n",
    "\n",
    "Outros \"adereços\" tambem podem ser obtidos com `<tab>`, por exemplo, $\\bar x$ é obtido com `x\\bar<tab>` e $\\tilde x$, com `x\\tilde<bar>`.\n",
    "\n",
    "Aproveitando a questão da notação, a multiplicação entre um número e um símbolo *não precisa* usar o símbolo de multiplicação `*`.\n",
    "\n",
    "Exemplos:"
   ]
  },
  {
   "cell_type": "code",
   "execution_count": 2,
   "metadata": {
    "slideshow": {
     "slide_type": "fragment"
    }
   },
   "outputs": [
    {
     "name": "stdout",
     "output_type": "stream",
     "text": [
      "Máximo de ξ ↦ sin(ξ) em ξ̄ = 1.57.\n",
      "Dentro da margem de erro ϵ = 0.01 em relação ao valor esperado π/2.\n"
     ]
    }
   ],
   "source": [
    "ϵ = 0.01\n",
    "ξ = 0:0.01:2π\n",
    "η = sin.(ξ)\n",
    "ξ̄ = ξ[argmax(η)]\n",
    "println(\"Máximo de ξ ↦ sin(ξ) em ξ̄ = $ξ̄.\")\n",
    "error = abs(ξ̄ - π/2) < ϵ ? \"Dentro da margem de erro ϵ = $ϵ em relação ao valor esperado π/2.\" :\n",
    "    \"Fora da margem de error ϵ = $ϵ em relação ao valor esperado π/2.\"\n",
    "println(error)"
   ]
  },
  {
   "cell_type": "markdown",
   "metadata": {
    "slideshow": {
     "slide_type": "slide"
    }
   },
   "source": [
    "## O operador ponto\n",
    "\n",
    "O operador ponto *([dot operators](https://docs.julialang.org/en/v1/manual/mathematical-operations/#man-dot-operators))* aplica uma operação a cada elemento de um vetor ou matriz. Por, exemplo"
   ]
  },
  {
   "cell_type": "code",
   "execution_count": 3,
   "metadata": {
    "slideshow": {
     "slide_type": "fragment"
    }
   },
   "outputs": [
    {
     "name": "stdout",
     "output_type": "stream",
     "text": [
      "2 ^ 2 = 4\n",
      "[1, 2, 3] .^ 2 = [1, 4, 9]\n",
      "[1 2; 3 4] .^ 2 = [1 4; 9 16]\n",
      "sin.([0, π / 4, π / 2, π]) = [0.0, 0.7071067811865475, 1.0, 1.2246467991473532e-16]\n"
     ]
    }
   ],
   "source": [
    "@show 2^2\n",
    "@show [1,2,3].^2\n",
    "@show [1 2; 3 4].^2\n",
    "@show sin.([0, π/4, π/2, π])\n",
    "nothing"
   ]
  },
  {
   "cell_type": "markdown",
   "metadata": {
    "slideshow": {
     "slide_type": "slide"
    }
   },
   "source": [
    "## Atribuição e variáveis mutáveis e imutáveis\n",
    "\n",
    "Alguns objetos são mutáveis, enquanto que outros, não. Um objeto mutável pode ter os seus valores alterados. Já um objeto imutável, não, mas ele pode ser redefinido.\n",
    "\n",
    "Isso pode ser visto explicitamente pelo seu ponteiro (pelo menos em alguns casos)."
   ]
  },
  {
   "cell_type": "markdown",
   "metadata": {
    "slideshow": {
     "slide_type": "slide"
    }
   },
   "source": [
    "### Atribuição de vetores\n",
    "\n",
    "Por exemplo. Um vetor é imutável, mas os seu valores, não. Se mudarmos apenas o valor de um ou mais de seus elementos, ele continua apontando para o mesmo local na memória. Já se o redefinirmos, ele pode passar a apontar para outro lugar. Isso é visivelmente natural se pensarmos que, nesse processo, podemos acabar alterando o tamanho do vetor e, com isso, pode ser necessário mudá-lo de posição para que ele caiba na memória.\n",
    "\n",
    "Essa mudança no apontamento quando redefinimos uma variavel imutável pode ou não acontecer. Ela não é obrigatória. Mas ela nunca é alterada quando o valor, mutável, de uma variável é alterado."
   ]
  },
  {
   "cell_type": "code",
   "execution_count": 4,
   "metadata": {
    "slideshow": {
     "slide_type": "fragment"
    }
   },
   "outputs": [
    {
     "name": "stdout",
     "output_type": "stream",
     "text": [
      "pointer(a) = Ptr{Int64} @0x0000000116325eb0\n",
      "pointer(a) = Ptr{Int64} @0x00000001173d5250\n",
      "pointer(a) = Ptr{Int64} @0x00000001378ee270\n",
      "pointer(a) = Ptr{Int64} @0x00000001378ee270\n",
      "pointer(a) = Ptr{Int64} @0x00000001378ee270\n"
     ]
    }
   ],
   "source": [
    "a = [0, 1] # definição inicial de `a`\n",
    "@show pointer(a)\n",
    "a = [2, 3] # redefinindo `a` para um vetor de mesmo comprimento\n",
    "@show pointer(a)\n",
    "a = [4, 5, 6] # redefindo `a` para um vetor de comprimento diferente\n",
    "@show pointer(a)\n",
    "a[1] = 7 # modificando um elemento de `a`\n",
    "@show pointer(a)\n",
    "a[1:3] = [8,9,0] # modificando todos os elementos de `a`\n",
    "@show pointer(a)\n",
    "nothing"
   ]
  },
  {
   "cell_type": "markdown",
   "metadata": {
    "slideshow": {
     "slide_type": "slide"
    }
   },
   "source": [
    "### Atribuição de strings\n",
    "\n",
    "*Strings* também são imutáveis."
   ]
  },
  {
   "cell_type": "code",
   "execution_count": 5,
   "metadata": {
    "slideshow": {
     "slide_type": "fragment"
    }
   },
   "outputs": [
    {
     "name": "stdout",
     "output_type": "stream",
     "text": [
      "pointer(s) = Ptr{UInt8} @0x000000013941a508\n",
      "pointer(s) = Ptr{UInt8} @0x000000013941a568\n",
      "pointer(s) = Ptr{UInt8} @0x000000013a4c9de8\n",
      "s = \"Modelos Matemáticos\"\n"
     ]
    }
   ],
   "source": [
    "s = \"Equações diferenciais\"\n",
    "@show pointer(s)\n",
    "s = \"Modelagem Matemática\"\n",
    "@show pointer(s)\n",
    "s = replace(s, \"Modelagem\" => \"Modelos\")[1:end-1]*\"os\"\n",
    "@show pointer(s)\n",
    "@show s\n",
    "nothing"
   ]
  },
  {
   "cell_type": "markdown",
   "metadata": {
    "slideshow": {
     "slide_type": "slide"
    }
   },
   "source": [
    "### Cuidados com a atribuição de variáveis imutáveis\n",
    "\n",
    "No caso de um objeto imutável mas com elementos mutáveis (e.g. *arrays*, *dicts*, *sets*), é preciso termos cuidado quando tentamos copiá-lo.\n",
    "\n",
    "A atribuição pura e simples não acarreta em uma cópia, ela faz com que o novo objeto faça referência ao mesmo objeto. Assim, se modificarmos os valores mutáveis do objeto original, o novo objeto sofrerá as mesmas mudanças.\n",
    "\n",
    "No exemplo abaixo, observe que a redefinição da variável imutável `p1` não afetou `p2`, mas a mudança nos valores mutáveis de `p3` afetou `p4`.\n",
    "\n",
    "Para evitar isso, é preciso usar `copy`. Nesse caso, vemos que `p5` não sofreu alteração."
   ]
  },
  {
   "cell_type": "code",
   "execution_count": 6,
   "metadata": {
    "slideshow": {
     "slide_type": "fragment"
    }
   },
   "outputs": [
    {
     "name": "stdout",
     "output_type": "stream",
     "text": [
      "p1 = [30, 40]\n",
      "p2 = [10, 20]\n",
      "p3 = [70, 80]\n",
      "p4 = [70, 80]\n",
      "p5 = [50, 60]\n"
     ]
    }
   ],
   "source": [
    "p1 = [10,20]\n",
    "p2 = p1\n",
    "p1 = [30,40]\n",
    "@show p1\n",
    "@show p2\n",
    "p3 = [50,60]\n",
    "p4 = p3\n",
    "p5 = copy(p3)\n",
    "p3[1:2] = [70,80]\n",
    "@show p3\n",
    "@show p4\n",
    "@show p5\n",
    "nothing"
   ]
  },
  {
   "cell_type": "markdown",
   "metadata": {
    "slideshow": {
     "slide_type": "slide"
    }
   },
   "source": [
    "## Condicional curta\n",
    "\n",
    "A expressão \n",
    "```julia\n",
    "condicional ? expr1 : expr2\n",
    "```\n",
    "é uma outra forma bastante comum de se escrever \n",
    "```julia\n",
    "if condicional; expr1 else expr2 end\n",
    "```\n",
    "que é equivalente a\n",
    "```julia\n",
    "if condicional\n",
    "    expr1\n",
    "else\n",
    "    expr2\n",
    "end\n",
    "```\n",
    "\n",
    "É comum se usar isso diretamente em uma expressão de atribuição:    "
   ]
  },
  {
   "cell_type": "code",
   "execution_count": 7,
   "metadata": {
    "slideshow": {
     "slide_type": "slide"
    }
   },
   "outputs": [
    {
     "name": "stdout",
     "output_type": "stream",
     "text": [
      "resultado = \"58 é par\"\n",
      "resultado = \"59 é impar\"\n"
     ]
    },
    {
     "data": {
      "text/plain": [
       "\"59 é impar\""
      ]
     },
     "execution_count": 7,
     "metadata": {},
     "output_type": "execute_result"
    }
   ],
   "source": [
    "test = rand(UInt8)\n",
    "resultado = isodd(test) ? \"$test é impar\" : \"$test é par\"\n",
    "test += 1\n",
    "@show resultado\n",
    "resultado = isodd(test) ? \"$test é impar\" : \"$test é par\"\n",
    "@show resultado"
   ]
  },
  {
   "cell_type": "markdown",
   "metadata": {
    "slideshow": {
     "slide_type": "slide"
    }
   },
   "source": [
    "## Interpolação\n",
    "\n",
    "Observe que acima usamos o símbolo `$` dentro de uma string. Ele é chamado de operador de **interpolação**. Ele substitui o valor da váriável na string.\n",
    "\n",
    "Se quisermos escrever `$` precisamos \"escapá-lo\" com uma barra invertida:"
   ]
  },
  {
   "cell_type": "code",
   "execution_count": 8,
   "metadata": {
    "slideshow": {
     "slide_type": "fragment"
    }
   },
   "outputs": [
    {
     "name": "stdout",
     "output_type": "stream",
     "text": [
      "Esse produto cuta R$10.0\n"
     ]
    }
   ],
   "source": [
    "valor = 10.0\n",
    "println(\"Esse produto cuta R\\$$valor\")"
   ]
  },
  {
   "cell_type": "markdown",
   "metadata": {
    "slideshow": {
     "slide_type": "slide"
    }
   },
   "source": [
    "## Escopo\n",
    "\n",
    "Várias construções envolvem tipos diferentes de escopo. Há três tipos de escopo: **global**, **local flexível** e **local rígido** (numa tradução livre de *global*, *local (soft)* e *local (hard)*.) Os escopos locais podem ser encadeados.\n",
    "\n",
    "Veja o tipo de escopo de cada construção em [Scope constructs](https://docs.julialang.org/en/v1/manual/variables-and-scoping/#man-scope-table).\n",
    "\n",
    "Para entender em detalhes como cada escopo local funciona, veja [Local Scope](https://docs.julialang.org/en/v1/manual/variables-and-scoping/#Local-Scope). Vamos ver alguns exemplos."
   ]
  },
  {
   "cell_type": "markdown",
   "metadata": {
    "slideshow": {
     "slide_type": "slide"
    }
   },
   "source": [
    "### Escopo em loops\n",
    "\n",
    "Um exemplo que requer particular atenção é em loops *for* e *while*. O escopo é do tipo local flexível. Depende de uma variável estar ou não definida fora do loop."
   ]
  },
  {
   "cell_type": "code",
   "execution_count": 9,
   "metadata": {
    "slideshow": {
     "slide_type": "fragment"
    }
   },
   "outputs": [
    {
     "name": "stdout",
     "output_type": "stream",
     "text": [
      "iteração de número 1\n",
      "iteração de número 2\n"
     ]
    }
   ],
   "source": [
    "for i = 1:2\n",
    "    x = \"iteração de número $i\" # variável local\n",
    "    println(x)\n",
    "end"
   ]
  },
  {
   "cell_type": "code",
   "execution_count": 10,
   "metadata": {
    "slideshow": {
     "slide_type": "fragment"
    }
   },
   "outputs": [
    {
     "data": {
      "text/plain": [
       "false"
      ]
     },
     "execution_count": 10,
     "metadata": {},
     "output_type": "execute_result"
    }
   ],
   "source": [
    "@isdefined(x)"
   ]
  },
  {
   "cell_type": "markdown",
   "metadata": {
    "slideshow": {
     "slide_type": "fragment"
    }
   },
   "source": [
    "Como `x` só foi definido dentro do loop `for`, ela não persistiu no escopo global. Observe que esse comportamento é diferente do do python, onde não apenas `x` está definido como a variável auxiliar `i`, também. 🤷‍"
   ]
  },
  {
   "cell_type": "code",
   "execution_count": 11,
   "metadata": {
    "slideshow": {
     "slide_type": "slide"
    }
   },
   "outputs": [
    {
     "name": "stdout",
     "output_type": "stream",
     "text": [
      "iteração de número 0\n",
      "iteração de número 1\n",
      "iteração de número 2\n",
      "iteração de número 2\n"
     ]
    }
   ],
   "source": [
    "i = 0\n",
    "y = \"iteração de número $i\"\n",
    "println(y)\n",
    "for i = 1:2\n",
    "    y = \"iteração de número $i\" # variável local\n",
    "    println(y)\n",
    "end\n",
    "println(y)"
   ]
  },
  {
   "cell_type": "markdown",
   "metadata": {
    "slideshow": {
     "slide_type": "fragment"
    }
   },
   "source": [
    "Agora vemos que `y` foi atualizado dentro do loop."
   ]
  },
  {
   "cell_type": "markdown",
   "metadata": {
    "slideshow": {
     "slide_type": "slide"
    }
   },
   "source": [
    "Mais delicado é quando atribuímos uma variável global a uma nova variável local e a atualizamos"
   ]
  },
  {
   "cell_type": "code",
   "execution_count": 12,
   "metadata": {
    "slideshow": {
     "slide_type": "fragment"
    }
   },
   "outputs": [
    {
     "name": "stdout",
     "output_type": "stream",
     "text": [
      "z = 55\n"
     ]
    },
    {
     "data": {
      "text/plain": [
       "false"
      ]
     },
     "execution_count": 12,
     "metadata": {},
     "output_type": "execute_result"
    }
   ],
   "source": [
    "z = 0 # global\n",
    "for i = 1:10\n",
    "    w = z + i # local\n",
    "    z = w # atualização global\n",
    "end\n",
    "@show z\n",
    "@isdefined(w)"
   ]
  },
  {
   "cell_type": "markdown",
   "metadata": {
    "slideshow": {
     "slide_type": "slide"
    }
   },
   "source": [
    "Se quisermos definir uma variável global dentro de um loop, podemos usar `global`:"
   ]
  },
  {
   "cell_type": "code",
   "execution_count": 13,
   "metadata": {
    "slideshow": {
     "slide_type": "fragment"
    }
   },
   "outputs": [
    {
     "name": "stdout",
     "output_type": "stream",
     "text": [
      "u = 120\n"
     ]
    },
    {
     "data": {
      "text/plain": [
       "120"
      ]
     },
     "execution_count": 13,
     "metadata": {},
     "output_type": "execute_result"
    }
   ],
   "source": [
    "num = 5\n",
    "for i = 1:num\n",
    "    global u = i == 1 ? 1 : i*u\n",
    "end\n",
    "@show u"
   ]
  },
  {
   "cell_type": "markdown",
   "metadata": {
    "slideshow": {
     "slide_type": "fragment"
    }
   },
   "source": [
    "O que representa `u` em relação a `num`?"
   ]
  },
  {
   "cell_type": "markdown",
   "metadata": {
    "slideshow": {
     "slide_type": "slide"
    }
   },
   "source": [
    "## Funções\n",
    "\n",
    "Assim como qualquer bloco, funções precisam ser terminadas com `end`. Além disso, o comando `return` é opcional para indicar o que será retornado pela função. Caso ele não seja usado, a última expressão executada é automaticamente retornada.\n",
    "\n",
    "A recomendação, no entanto, é de que o comando `return` seja sempre usado, para maior clareza. A exceção é quando a função é definida em uma única linha de comando."
   ]
  },
  {
   "cell_type": "code",
   "execution_count": 14,
   "metadata": {
    "slideshow": {
     "slide_type": "fragment"
    }
   },
   "outputs": [
    {
     "name": "stdout",
     "output_type": "stream",
     "text": [
      "f(2) = 85\n",
      "g(2) = 85\n"
     ]
    }
   ],
   "source": [
    "f(ζ) = 1 + ζ^2 + ζ^4 + ζ^6\n",
    "\n",
    "function g(ζ)\n",
    "    η = 1\n",
    "    for i = 2:2:6\n",
    "        η += ζ^i\n",
    "    end\n",
    "    return η\n",
    "end\n",
    "\n",
    "@show f(2)\n",
    "@show g(2)\n",
    "nothing"
   ]
  },
  {
   "cell_type": "markdown",
   "metadata": {
    "slideshow": {
     "slide_type": "slide"
    }
   },
   "source": [
    "### Funções com variáveis mutáveis e imutáveis\n",
    "\n",
    "É preciso tomar cuidado ao alterarmos variáveis dentro de uma função.\n",
    "\n",
    "Se alterarmos uma variável imutável, isso não afetará a variável original passada para a função. Mas se alteramos um elemeto mutável, isso a afetará.\n",
    "\n",
    "Funções que afetam um ou mais argumentos são usualmente denotadas com o sufixo `!`. Isso é apenas uma convenção. Esse símbolo não *faz* nada de especial."
   ]
  },
  {
   "cell_type": "code",
   "execution_count": 15,
   "metadata": {
    "slideshow": {
     "slide_type": "fragment"
    }
   },
   "outputs": [
    {
     "name": "stdout",
     "output_type": "stream",
     "text": [
      "xx = [1, 2]\n",
      "h(xx) = [3, 6]\n",
      "xx = [1, 2]\n",
      "yy = [1, 2]\n",
      "h!(yy) = [3, 6]\n",
      "yy = [2, 4]\n"
     ]
    }
   ],
   "source": [
    "function h(ρ)\n",
    "    ρ̄ = copy(ρ)\n",
    "    ρ = 2 .*ρ\n",
    "    return ρ + ρ̄\n",
    "end\n",
    "\n",
    "function h!(ρ)\n",
    "    ρ̄ = copy(ρ)\n",
    "    ρ[1:end] = 2 .*ρ[1:end]\n",
    "    return ρ + ρ̄\n",
    "end\n",
    "\n",
    "xx = [1,2]\n",
    "yy = [1,2]\n",
    "\n",
    "@show xx\n",
    "@show h(xx)\n",
    "@show xx\n",
    "@show yy\n",
    "@show h!(yy)\n",
    "@show yy\n",
    "nothing"
   ]
  },
  {
   "cell_type": "markdown",
   "metadata": {
    "slideshow": {
     "slide_type": "slide"
    }
   },
   "source": [
    "## Tipos e múltiplos despachos\n",
    "\n",
    "Julia não é uma linguagem orientada a objeto. Ela é fortemente baseada em **tipos** e em **múltiplos despachos** *(ou multiple dispatch)*. Isso é uma das coisas que a torna bastante poderosa. 🚀\n",
    "\n",
    "Isso facilita bastante, por exemplo, o processo de estender funções e pacotes. Com ela, é fácil adaptar funções de um pacote de otimização (e.g. [Flux.jl](https://fluxml.ai/Flux.jl/stable/) para trabalhar com funções objetivo dependentes de soluções de equações diferenciais implementadas em outro pacote (e.g. [DifferentialEquations.jl](https://diffeq.sciml.ai/stable/) e assim por diante.\n",
    "\n",
    "Em uma linguagem orientada a objeto, qualquer adaptação do gênero requer que todos os métodos sejam reescritos para novos objetos, sem contar com toda a verbose incluída.\n",
    "\n",
    "Este não é um curso sobre Julia, então não vamos entrar em muitos detalhes, mas é importante saber sobre essa característica fundamental da linguagem. E gostaria de fazer um pequeno exemplo para exibir o poder disso."
   ]
  },
  {
   "cell_type": "markdown",
   "metadata": {
    "slideshow": {
     "slide_type": "slide"
    }
   },
   "source": [
    "### Ordenando listas\n",
    "\n",
    "Podemos, naturalmente, ordenar uma lista de números. Isso pode ser feito com a função `sort`. Há vários métodos de ordenação implementados, mas não vamos nos preocupar com isso.\n",
    "\n",
    "Podemos, também, ordenar pares ordenados e strings, em ordem lexicográfica."
   ]
  },
  {
   "cell_type": "code",
   "execution_count": 16,
   "metadata": {
    "slideshow": {
     "slide_type": "fragment"
    }
   },
   "outputs": [
    {
     "name": "stdout",
     "output_type": "stream",
     "text": [
      "sort([4, 1, 3]) = [1, 3, 4]\n",
      "sort([\"d\", \"a\", \"c\"]) = [\"a\", \"c\", \"d\"]\n"
     ]
    }
   ],
   "source": [
    "@show sort([4,1,3])\n",
    "@show sort([\"d\", \"a\", \"c\"])\n",
    "nothing"
   ]
  },
  {
   "cell_type": "markdown",
   "metadata": {
    "slideshow": {
     "slide_type": "slide"
    }
   },
   "source": [
    "### Ordenando retângulos\n",
    "\n",
    "Digamos, agora, que queiramos definir um objeto \"retângulo\", cujas propriedades são os tamanhos dos seus lados. Para isso, definimos um *struct* com essas propriedades:"
   ]
  },
  {
   "cell_type": "code",
   "execution_count": 5,
   "metadata": {
    "slideshow": {
     "slide_type": "fragment"
    }
   },
   "outputs": [
    {
     "data": {
      "text/plain": [
       "(Retângulo(2.0, 3.0), Retângulo(1.5, 6.0), Retângulo(1.2, 7.0), Retângulo(3.0, 2.0))"
      ]
     },
     "execution_count": 5,
     "metadata": {},
     "output_type": "execute_result"
    }
   ],
   "source": [
    "struct Retângulo\n",
    "    lado1:: Float64\n",
    "    lado2:: Float64\n",
    "end\n",
    "\n",
    "R1 = Retângulo(2,3)\n",
    "R2 = Retângulo(1.5, 6)\n",
    "R3 = Retângulo(1.2,7)\n",
    "R4 = Retângulo(3,2)\n",
    "\n",
    "R1, R2, R3, R4"
   ]
  },
  {
   "cell_type": "markdown",
   "metadata": {
    "slideshow": {
     "slide_type": "slide"
    }
   },
   "source": [
    "Para qualquer retângulo, podemos definir a sua área. Podemos fazer isso definindo uma função atuando em dois argumentos **do tipo Retângulo**."
   ]
  },
  {
   "cell_type": "code",
   "execution_count": 6,
   "metadata": {
    "slideshow": {
     "slide_type": "fragment"
    }
   },
   "outputs": [
    {
     "name": "stdout",
     "output_type": "stream",
     "text": [
      "area(R1) = 6.0\n",
      "area(R2) = 9.0\n",
      "area(R3) = 8.4\n",
      "area(R4) = 6.0\n"
     ]
    },
    {
     "data": {
      "text/plain": [
       "6.0"
      ]
     },
     "execution_count": 6,
     "metadata": {},
     "output_type": "execute_result"
    }
   ],
   "source": [
    "area(R::Retângulo) = R.lado1 * R.lado2\n",
    "\n",
    "@show area(R1)\n",
    "@show area(R2)\n",
    "@show area(R3)\n",
    "@show area(R4)"
   ]
  },
  {
   "cell_type": "markdown",
   "metadata": {
    "slideshow": {
     "slide_type": "slide"
    }
   },
   "source": [
    "Agora, pode ser interessante comparar os retângulos de acordo com as suas áreas. As funções binárias `<, ==, >` não estão definidas para retângulos. Mas podemos defini-las.\n",
    "\n",
    "Um problema é que elas já existem para outros objetos. Assim, precisamos **estender** as definições para o nosso novo objeto. Isso precisa ser feito importando a função do módulo onde ela está definida.\n",
    "\n",
    "Essas funções estão definidas no módulo Base. E na verdade só precisamos importar `isless` e `==`, pois os outros operadores são definidos em função desses.\n",
    "\n",
    "Podemos importar toda o módulo `Base`, mas isso é desnecessário. Vamos importar apenas o que precisamo estender.\n",
    "\n",
    "Para estender, definimos não só o valor desejado da operação mas em que tipo ela se aplica."
   ]
  },
  {
   "cell_type": "code",
   "execution_count": 7,
   "metadata": {
    "slideshow": {
     "slide_type": "fragment"
    }
   },
   "outputs": [
    {
     "name": "stdout",
     "output_type": "stream",
     "text": [
      "isless(R1, R2) = true\n",
      "isless(R1, R4) = false\n",
      "R1 == R4 = true\n"
     ]
    },
    {
     "data": {
      "text/plain": [
       "true"
      ]
     },
     "execution_count": 7,
     "metadata": {},
     "output_type": "execute_result"
    }
   ],
   "source": [
    "import Base: isless, ==\n",
    "\n",
    "==(R::Retângulo, R̄::Retângulo) = area(R) == area(R̄)\n",
    "isless(R::Retângulo, R̄::Retângulo) = area(R) < area(R̄)\n",
    "\n",
    "@show isless(R1,R2)\n",
    "@show isless(R1,R4)\n",
    "@show R1 == R4"
   ]
  },
  {
   "cell_type": "markdown",
   "metadata": {
    "slideshow": {
     "slide_type": "slide"
    }
   },
   "source": [
    "Agora a primeira \"mágica\" aparece. Como dito acima, `<` e `>` são definidas a partir de `isless` e `==`. Assim, essas operações são automaticamente estendidas."
   ]
  },
  {
   "cell_type": "code",
   "execution_count": 8,
   "metadata": {
    "slideshow": {
     "slide_type": "fragment"
    }
   },
   "outputs": [
    {
     "name": "stdout",
     "output_type": "stream",
     "text": [
      "R1 < R3 = true\n",
      "R1 > R3 = false\n"
     ]
    }
   ],
   "source": [
    "@show R1 < R3\n",
    "@show R1 > R3\n",
    "nothing"
   ]
  },
  {
   "cell_type": "markdown",
   "metadata": {
    "slideshow": {
     "slide_type": "slide"
    }
   },
   "source": [
    "Agora a segunda \"mágica\". A função de ordenação `sort` também é definida a partir de `isless` e `==` e está automaticamente estendida para os nosss retângulos."
   ]
  },
  {
   "cell_type": "code",
   "execution_count": 9,
   "metadata": {
    "slideshow": {
     "slide_type": "fragment"
    }
   },
   "outputs": [
    {
     "name": "stdout",
     "output_type": "stream",
     "text": [
      "1ᵒ: Retângulo(2.0, 3.0) com área 6.0\n",
      "2ᵒ: Retângulo(3.0, 2.0) com área 6.0\n",
      "3ᵒ: Retângulo(1.2, 7.0) com área 8.4\n",
      "4ᵒ: Retângulo(1.5, 6.0) com área 9.0\n"
     ]
    }
   ],
   "source": [
    "ordenados = sort([R1, R2, R3, R4])\n",
    "for (i,R) in enumerate(ordenados)\n",
    "    println(\"$(i)ᵒ: $R com área $(area(R))\")\n",
    "end"
   ]
  },
  {
   "cell_type": "markdown",
   "metadata": {},
   "source": [
    "Da mesma forma, podemos imediatamente obter os valores máximo, mínimos e os respectivos retângulos:"
   ]
  },
  {
   "cell_type": "code",
   "execution_count": 10,
   "metadata": {},
   "outputs": [
    {
     "name": "stdout",
     "output_type": "stream",
     "text": [
      "Mínimo Retângulo(2.0, 3.0) em 1\n"
     ]
    }
   ],
   "source": [
    "println(\"Mínimo $(minimum([R1, R2, R3, R4])) em $(argmin([R1, R2, R3, R4]))\")"
   ]
  },
  {
   "cell_type": "markdown",
   "metadata": {
    "slideshow": {
     "slide_type": "slide"
    }
   },
   "source": [
    "## Álgebra linear\n",
    "\n",
    "Várias ferramentas de álgebra linear estão diretamente disponíveis na `Base`. Outras no módulo [LinearAlgebra](https://docs.julialang.org/en/v1/stdlib/LinearAlgebra/) da biblioteca padrão.\n",
    "\n",
    "Na `Base`, podemos multiplicar matrizes (composição) e resolver um sistema (`A\\v` nos dá o vetor `u` tal que`Av = u`, caso seja possível, ou resolve o problema de mínimos quadrados associado)."
   ]
  },
  {
   "cell_type": "code",
   "execution_count": 22,
   "metadata": {
    "slideshow": {
     "slide_type": "fragment"
    }
   },
   "outputs": [
    {
     "name": "stdout",
     "output_type": "stream",
     "text": [
      "mat = [1 3; 4 5]\n",
      "mat' = [1 4; 3 5]\n",
      "copy(mat') = [1 4; 3 5]\n",
      "vec = [1, 2]\n",
      "mat * vec = [7, 14]\n",
      "mat \\ vec = [0.1428571428571429, 0.2857142857142857]\n",
      "mat * (mat \\ vec) - vec = [0.0, 0.0]\n"
     ]
    }
   ],
   "source": [
    "vec = [1,2]\n",
    "mat = [1 3; 4 5]\n",
    "@show mat\n",
    "@show mat' # transposta\n",
    "@show copy(mat') # transposta com tipo matriz\n",
    "@show vec\n",
    "@show mat * vec\n",
    "@show mat \\ vec\n",
    "@show mat * (mat \\ vec) - vec\n",
    "nothing"
   ]
  },
  {
   "cell_type": "markdown",
   "metadata": {
    "slideshow": {
     "slide_type": "slide"
    }
   },
   "source": [
    "Algumas operações podem ser feitas tanto como matrizes, como $A^2$ e $e^A$, como elemento a elemento, com o operador ponto."
   ]
  },
  {
   "cell_type": "code",
   "execution_count": 23,
   "metadata": {
    "slideshow": {
     "slide_type": "fragment"
    }
   },
   "outputs": [
    {
     "name": "stdout",
     "output_type": "stream",
     "text": [
      "mat ^ 2 = [13 18; 24 37]\n",
      "mat .^ 2 = [1 9; 16 25]\n",
      "exp(mat) = [274.4341991879927 411.0994796202318; 548.1326394936425 822.5668386816352]\n",
      "exp.(mat) = [2.718281828459045 20.085536923187668; 54.598150033144236 148.4131591025766]\n"
     ]
    }
   ],
   "source": [
    "@show mat^2\n",
    "@show mat.^2\n",
    "@show exp(mat)\n",
    "@show exp.(mat)\n",
    "nothing"
   ]
  },
  {
   "cell_type": "markdown",
   "metadata": {
    "slideshow": {
     "slide_type": "slide"
    }
   },
   "source": [
    "Outras operações importantes estão em [LinearAlgebra](https://docs.julialang.org/en/v1/stdlib/LinearAlgebra/).\n",
    "\n",
    "O produto vetorial entre dois vetores, por exemplo, pode ser calculado de várias formas.\n",
    "\n",
    "Uma opção e utilizando o operador ponto para somar elemento a elemento e em seguida somando-se os elementos do vetor resultante.\n",
    "\n",
    "Outra é através das poderosas funções `map`, `reduce`, `mapreduce` e variantes.\n",
    "\n",
    "Ou através do produto escalar disponível em `LinearAlgebra`. Este último tem a vantagem de ser bem mais rápido, como veremos em seguida."
   ]
  },
  {
   "cell_type": "code",
   "execution_count": 24,
   "metadata": {
    "slideshow": {
     "slide_type": "fragment"
    }
   },
   "outputs": [
    {
     "name": "stdout",
     "output_type": "stream",
     "text": [
      "28.860000000000007\n",
      "28.860000000000007\n",
      "28.860000000000007\n"
     ]
    }
   ],
   "source": [
    "using LinearAlgebra\n",
    "\n",
    "vec1 = [1.2, 3.1, -4.5, 2.1, -2.3, 10.1]\n",
    "vec2 = [0.3, -1.2, -5.2, -1.2, 20.1, 5.7]\n",
    "println(sum(vec1 .* vec2))\n",
    "println(mapreduce(elem -> elem[1]*elem[2], +, zip(vec1, vec2)))\n",
    "println(vec1 ⋅ vec2)\n",
    "nothing"
   ]
  },
  {
   "cell_type": "markdown",
   "metadata": {
    "slideshow": {
     "slide_type": "slide"
    }
   },
   "source": [
    "O módulo `LinearAlgebra` nos dá diversas outras ferramentas, como cálculo de autovalores, autovetores normalizados, decomposição SVD, etc.."
   ]
  },
  {
   "cell_type": "code",
   "execution_count": 25,
   "metadata": {
    "slideshow": {
     "slide_type": "fragment"
    }
   },
   "outputs": [
    {
     "data": {
      "text/plain": [
       "Eigen{Float64, Float64, Matrix{Float64}, Vector{Float64}}\n",
       "values:\n",
       "2-element Vector{Float64}:\n",
       " -1.0\n",
       "  7.0\n",
       "vectors:\n",
       "2×2 Matrix{Float64}:\n",
       " -0.83205  -0.447214\n",
       "  0.5547   -0.894427"
      ]
     },
     "execution_count": 25,
     "metadata": {},
     "output_type": "execute_result"
    }
   ],
   "source": [
    "eigen([1 3; 4 5])"
   ]
  },
  {
   "cell_type": "code",
   "execution_count": 26,
   "metadata": {
    "slideshow": {
     "slide_type": "fragment"
    }
   },
   "outputs": [
    {
     "data": {
      "text/plain": [
       "SVD{Float64, Float64, Matrix{Float64}}\n",
       "U factor:\n",
       "2×2 Matrix{Float64}:\n",
       " -0.428878  -0.903362\n",
       " -0.903362   0.428878\n",
       "singular values:\n",
       "2-element Vector{Float64}:\n",
       " 7.072510139298386\n",
       " 0.9897476090001659\n",
       "Vt factor:\n",
       "2×2 Matrix{Float64}:\n",
       " -0.571555  -0.820564\n",
       "  0.820564  -0.571555"
      ]
     },
     "execution_count": 26,
     "metadata": {},
     "output_type": "execute_result"
    }
   ],
   "source": [
    "svd([1 3; 4 5])"
   ]
  },
  {
   "cell_type": "markdown",
   "metadata": {
    "slideshow": {
     "slide_type": "slide"
    }
   },
   "source": [
    "## Gráficos\n",
    "\n",
    "Há vários pacotes de gráficos.\n",
    "\n",
    "Há muito o que ser explorado em termos de gráficos, mas, aqui, vamos nos limitar a exibir alguns poucos exemplos utilizando o [Plots.jl](http://docs.juliaplots.org/latest/)."
   ]
  },
  {
   "cell_type": "code",
   "execution_count": 27,
   "metadata": {
    "slideshow": {
     "slide_type": "fragment"
    }
   },
   "outputs": [],
   "source": [
    "using Plots\n",
    "gr()\n",
    "theme(:ggplot2)"
   ]
  },
  {
   "cell_type": "code",
   "execution_count": 28,
   "metadata": {
    "slideshow": {
     "slide_type": "fragment"
    }
   },
   "outputs": [
    {
     "data": {
      "image/svg+xml": [
       "<?xml version=\"1.0\" encoding=\"utf-8\"?>\n",
       "<svg xmlns=\"http://www.w3.org/2000/svg\" xmlns:xlink=\"http://www.w3.org/1999/xlink\" width=\"600\" height=\"400\" viewBox=\"0 0 2400 1600\">\n",
       "<defs>\n",
       "  <clipPath id=\"clip290\">\n",
       "    <rect x=\"0\" y=\"0\" width=\"2400\" height=\"1600\"/>\n",
       "  </clipPath>\n",
       "</defs>\n",
       "<path clip-path=\"url(#clip290)\" d=\"\n",
       "M0 1600 L2400 1600 L2400 0 L0 0  Z\n",
       "  \" fill=\"#ffffff\" fill-rule=\"evenodd\" fill-opacity=\"1\"/>\n",
       "<defs>\n",
       "  <clipPath id=\"clip291\">\n",
       "    <rect x=\"480\" y=\"0\" width=\"1681\" height=\"1600\"/>\n",
       "  </clipPath>\n",
       "</defs>\n",
       "<path clip-path=\"url(#clip290)\" d=\"\n",
       "M242.922 1423.18 L2352.76 1423.18 L2352.76 123.472 L242.922 123.472  Z\n",
       "  \" fill=\"#eaeaea\" fill-rule=\"evenodd\" fill-opacity=\"1\"/>\n",
       "<defs>\n",
       "  <clipPath id=\"clip292\">\n",
       "    <rect x=\"242\" y=\"123\" width=\"2111\" height=\"1301\"/>\n",
       "  </clipPath>\n",
       "</defs>\n",
       "<polyline clip-path=\"url(#clip292)\" style=\"stroke:#ffffff; stroke-width:4; stroke-opacity:1; fill:none\" points=\"\n",
       "  302.634,1423.18 302.634,123.472 \n",
       "  \"/>\n",
       "<polyline clip-path=\"url(#clip292)\" style=\"stroke:#ffffff; stroke-width:4; stroke-opacity:1; fill:none\" points=\"\n",
       "  623.668,1423.18 623.668,123.472 \n",
       "  \"/>\n",
       "<polyline clip-path=\"url(#clip292)\" style=\"stroke:#ffffff; stroke-width:4; stroke-opacity:1; fill:none\" points=\"\n",
       "  944.702,1423.18 944.702,123.472 \n",
       "  \"/>\n",
       "<polyline clip-path=\"url(#clip292)\" style=\"stroke:#ffffff; stroke-width:4; stroke-opacity:1; fill:none\" points=\"\n",
       "  1265.74,1423.18 1265.74,123.472 \n",
       "  \"/>\n",
       "<polyline clip-path=\"url(#clip292)\" style=\"stroke:#ffffff; stroke-width:4; stroke-opacity:1; fill:none\" points=\"\n",
       "  1586.77,1423.18 1586.77,123.472 \n",
       "  \"/>\n",
       "<polyline clip-path=\"url(#clip292)\" style=\"stroke:#ffffff; stroke-width:4; stroke-opacity:1; fill:none\" points=\"\n",
       "  1907.8,1423.18 1907.8,123.472 \n",
       "  \"/>\n",
       "<polyline clip-path=\"url(#clip292)\" style=\"stroke:#ffffff; stroke-width:4; stroke-opacity:1; fill:none\" points=\"\n",
       "  2228.84,1423.18 2228.84,123.472 \n",
       "  \"/>\n",
       "<polyline clip-path=\"url(#clip292)\" style=\"stroke:#ffffff; stroke-width:2; stroke-opacity:1; fill:none\" points=\"\n",
       "  463.151,1423.18 463.151,123.472 \n",
       "  \"/>\n",
       "<polyline clip-path=\"url(#clip292)\" style=\"stroke:#ffffff; stroke-width:2; stroke-opacity:1; fill:none\" points=\"\n",
       "  784.185,1423.18 784.185,123.472 \n",
       "  \"/>\n",
       "<polyline clip-path=\"url(#clip292)\" style=\"stroke:#ffffff; stroke-width:2; stroke-opacity:1; fill:none\" points=\"\n",
       "  1105.22,1423.18 1105.22,123.472 \n",
       "  \"/>\n",
       "<polyline clip-path=\"url(#clip292)\" style=\"stroke:#ffffff; stroke-width:2; stroke-opacity:1; fill:none\" points=\"\n",
       "  1426.25,1423.18 1426.25,123.472 \n",
       "  \"/>\n",
       "<polyline clip-path=\"url(#clip292)\" style=\"stroke:#ffffff; stroke-width:2; stroke-opacity:1; fill:none\" points=\"\n",
       "  1747.29,1423.18 1747.29,123.472 \n",
       "  \"/>\n",
       "<polyline clip-path=\"url(#clip292)\" style=\"stroke:#ffffff; stroke-width:2; stroke-opacity:1; fill:none\" points=\"\n",
       "  2068.32,1423.18 2068.32,123.472 \n",
       "  \"/>\n",
       "<polyline clip-path=\"url(#clip290)\" style=\"stroke:#ffffff; stroke-width:4; stroke-opacity:1; fill:none\" points=\"\n",
       "  242.922,1423.18 2352.76,1423.18 \n",
       "  \"/>\n",
       "<polyline clip-path=\"url(#clip290)\" style=\"stroke:#333333; stroke-width:4; stroke-opacity:1; fill:none\" points=\"\n",
       "  302.634,1423.18 302.634,1438.78 \n",
       "  \"/>\n",
       "<polyline clip-path=\"url(#clip290)\" style=\"stroke:#333333; stroke-width:4; stroke-opacity:1; fill:none\" points=\"\n",
       "  623.668,1423.18 623.668,1438.78 \n",
       "  \"/>\n",
       "<polyline clip-path=\"url(#clip290)\" style=\"stroke:#333333; stroke-width:4; stroke-opacity:1; fill:none\" points=\"\n",
       "  944.702,1423.18 944.702,1438.78 \n",
       "  \"/>\n",
       "<polyline clip-path=\"url(#clip290)\" style=\"stroke:#333333; stroke-width:4; stroke-opacity:1; fill:none\" points=\"\n",
       "  1265.74,1423.18 1265.74,1438.78 \n",
       "  \"/>\n",
       "<polyline clip-path=\"url(#clip290)\" style=\"stroke:#333333; stroke-width:4; stroke-opacity:1; fill:none\" points=\"\n",
       "  1586.77,1423.18 1586.77,1438.78 \n",
       "  \"/>\n",
       "<polyline clip-path=\"url(#clip290)\" style=\"stroke:#333333; stroke-width:4; stroke-opacity:1; fill:none\" points=\"\n",
       "  1907.8,1423.18 1907.8,1438.78 \n",
       "  \"/>\n",
       "<polyline clip-path=\"url(#clip290)\" style=\"stroke:#333333; stroke-width:4; stroke-opacity:1; fill:none\" points=\"\n",
       "  2228.84,1423.18 2228.84,1438.78 \n",
       "  \"/>\n",
       "<polyline clip-path=\"url(#clip290)\" style=\"stroke:#333333; stroke-width:4; stroke-opacity:1; fill:none\" points=\"\n",
       "  463.151,1423.18 463.151,1430.98 \n",
       "  \"/>\n",
       "<polyline clip-path=\"url(#clip290)\" style=\"stroke:#333333; stroke-width:4; stroke-opacity:1; fill:none\" points=\"\n",
       "  784.185,1423.18 784.185,1430.98 \n",
       "  \"/>\n",
       "<polyline clip-path=\"url(#clip290)\" style=\"stroke:#333333; stroke-width:4; stroke-opacity:1; fill:none\" points=\"\n",
       "  1105.22,1423.18 1105.22,1430.98 \n",
       "  \"/>\n",
       "<polyline clip-path=\"url(#clip290)\" style=\"stroke:#333333; stroke-width:4; stroke-opacity:1; fill:none\" points=\"\n",
       "  1426.25,1423.18 1426.25,1430.98 \n",
       "  \"/>\n",
       "<polyline clip-path=\"url(#clip290)\" style=\"stroke:#333333; stroke-width:4; stroke-opacity:1; fill:none\" points=\"\n",
       "  1747.29,1423.18 1747.29,1430.98 \n",
       "  \"/>\n",
       "<polyline clip-path=\"url(#clip290)\" style=\"stroke:#333333; stroke-width:4; stroke-opacity:1; fill:none\" points=\"\n",
       "  2068.32,1423.18 2068.32,1430.98 \n",
       "  \"/>\n",
       "<path clip-path=\"url(#clip290)\" d=\"M 0 0 M302.634 1461.97 Q299.023 1461.97 297.194 1465.54 Q295.389 1469.08 295.389 1476.21 Q295.389 1483.31 297.194 1486.88 Q299.023 1490.42 302.634 1490.42 Q306.268 1490.42 308.074 1486.88 Q309.902 1483.31 309.902 1476.21 Q309.902 1469.08 308.074 1465.54 Q306.268 1461.97 302.634 1461.97 M302.634 1458.27 Q308.444 1458.27 311.5 1462.87 Q314.578 1467.46 314.578 1476.21 Q314.578 1484.93 311.5 1489.54 Q308.444 1494.12 302.634 1494.12 Q296.824 1494.12 293.745 1489.54 Q290.69 1484.93 290.69 1476.21 Q290.69 1467.46 293.745 1462.87 Q296.824 1458.27 302.634 1458.27 Z\" fill=\"#4c4c4c\" fill-rule=\"evenodd\" fill-opacity=\"1\" /><path clip-path=\"url(#clip290)\" d=\"M 0 0 M614.05 1489.52 L621.689 1489.52 L621.689 1463.15 L613.379 1464.82 L613.379 1460.56 L621.642 1458.89 L626.318 1458.89 L626.318 1489.52 L633.957 1489.52 L633.957 1493.45 L614.05 1493.45 L614.05 1489.52 Z\" fill=\"#4c4c4c\" fill-rule=\"evenodd\" fill-opacity=\"1\" /><path clip-path=\"url(#clip290)\" d=\"M 0 0 M939.354 1489.52 L955.674 1489.52 L955.674 1493.45 L933.729 1493.45 L933.729 1489.52 Q936.391 1486.76 940.975 1482.13 Q945.581 1477.48 946.762 1476.14 Q949.007 1473.61 949.887 1471.88 Q950.79 1470.12 950.79 1468.43 Q950.79 1465.67 948.845 1463.94 Q946.924 1462.2 943.822 1462.2 Q941.623 1462.2 939.169 1462.97 Q936.739 1463.73 933.961 1465.28 L933.961 1460.56 Q936.785 1459.42 939.239 1458.85 Q941.692 1458.27 943.729 1458.27 Q949.1 1458.27 952.294 1460.95 Q955.489 1463.64 955.489 1468.13 Q955.489 1470.26 954.678 1472.18 Q953.891 1474.08 951.785 1476.67 Q951.206 1477.34 948.104 1480.56 Q945.003 1483.75 939.354 1489.52 Z\" fill=\"#4c4c4c\" fill-rule=\"evenodd\" fill-opacity=\"1\" /><path clip-path=\"url(#clip290)\" d=\"M 0 0 M1269.98 1474.82 Q1273.34 1475.54 1275.21 1477.8 Q1277.11 1480.07 1277.11 1483.41 Q1277.11 1488.52 1273.59 1491.32 Q1270.08 1494.12 1263.59 1494.12 Q1261.42 1494.12 1259.1 1493.68 Q1256.81 1493.27 1254.36 1492.41 L1254.36 1487.9 Q1256.3 1489.03 1258.62 1489.61 Q1260.93 1490.19 1263.46 1490.19 Q1267.85 1490.19 1270.15 1488.45 Q1272.46 1486.72 1272.46 1483.41 Q1272.46 1480.35 1270.31 1478.64 Q1268.18 1476.9 1264.36 1476.9 L1260.33 1476.9 L1260.33 1473.06 L1264.54 1473.06 Q1267.99 1473.06 1269.82 1471.69 Q1271.65 1470.3 1271.65 1467.71 Q1271.65 1465.05 1269.75 1463.64 Q1267.88 1462.2 1264.36 1462.2 Q1262.44 1462.2 1260.24 1462.62 Q1258.04 1463.04 1255.4 1463.91 L1255.4 1459.75 Q1258.06 1459.01 1260.38 1458.64 Q1262.71 1458.27 1264.77 1458.27 Q1270.1 1458.27 1273.2 1460.7 Q1276.3 1463.1 1276.3 1467.23 Q1276.3 1470.1 1274.66 1472.09 Q1273.02 1474.05 1269.98 1474.82 Z\" fill=\"#4c4c4c\" fill-rule=\"evenodd\" fill-opacity=\"1\" /><path clip-path=\"url(#clip290)\" d=\"M 0 0 M1589.78 1462.97 L1577.97 1481.41 L1589.78 1481.41 L1589.78 1462.97 M1588.55 1458.89 L1594.43 1458.89 L1594.43 1481.41 L1599.36 1481.41 L1599.36 1485.3 L1594.43 1485.3 L1594.43 1493.45 L1589.78 1493.45 L1589.78 1485.3 L1574.18 1485.3 L1574.18 1480.79 L1588.55 1458.89 Z\" fill=\"#4c4c4c\" fill-rule=\"evenodd\" fill-opacity=\"1\" /><path clip-path=\"url(#clip290)\" d=\"M 0 0 M1898.08 1458.89 L1916.44 1458.89 L1916.44 1462.83 L1902.36 1462.83 L1902.36 1471.3 Q1903.38 1470.95 1904.4 1470.79 Q1905.42 1470.6 1906.44 1470.6 Q1912.22 1470.6 1915.6 1473.78 Q1918.98 1476.95 1918.98 1482.36 Q1918.98 1487.94 1915.51 1491.04 Q1912.04 1494.12 1905.72 1494.12 Q1903.54 1494.12 1901.28 1493.75 Q1899.03 1493.38 1896.62 1492.64 L1896.62 1487.94 Q1898.71 1489.08 1900.93 1489.63 Q1903.15 1490.19 1905.63 1490.19 Q1909.63 1490.19 1911.97 1488.08 Q1914.31 1485.98 1914.31 1482.36 Q1914.31 1478.75 1911.97 1476.65 Q1909.63 1474.54 1905.63 1474.54 Q1903.75 1474.54 1901.88 1474.96 Q1900.03 1475.37 1898.08 1476.25 L1898.08 1458.89 Z\" fill=\"#4c4c4c\" fill-rule=\"evenodd\" fill-opacity=\"1\" /><path clip-path=\"url(#clip290)\" d=\"M 0 0 M2229.24 1474.31 Q2226.09 1474.31 2224.24 1476.46 Q2222.41 1478.61 2222.41 1482.36 Q2222.41 1486.09 2224.24 1488.27 Q2226.09 1490.42 2229.24 1490.42 Q2232.39 1490.42 2234.22 1488.27 Q2236.07 1486.09 2236.07 1482.36 Q2236.07 1478.61 2234.22 1476.46 Q2232.39 1474.31 2229.24 1474.31 M2238.52 1459.66 L2238.52 1463.91 Q2236.77 1463.08 2234.96 1462.64 Q2233.18 1462.2 2231.42 1462.2 Q2226.79 1462.2 2224.33 1465.33 Q2221.9 1468.45 2221.56 1474.77 Q2222.92 1472.76 2224.98 1471.69 Q2227.04 1470.6 2229.52 1470.6 Q2234.73 1470.6 2237.74 1473.78 Q2240.77 1476.92 2240.77 1482.36 Q2240.77 1487.69 2237.62 1490.91 Q2234.47 1494.12 2229.24 1494.12 Q2223.25 1494.12 2220.08 1489.54 Q2216.9 1484.93 2216.9 1476.21 Q2216.9 1468.01 2220.79 1463.15 Q2224.68 1458.27 2231.23 1458.27 Q2232.99 1458.27 2234.77 1458.61 Q2236.58 1458.96 2238.52 1459.66 Z\" fill=\"#4c4c4c\" fill-rule=\"evenodd\" fill-opacity=\"1\" /><path clip-path=\"url(#clip290)\" d=\"M 0 0 M1314.45 1532.4 L1301.56 1549.74 L1315.12 1568.04 L1308.21 1568.04 L1297.84 1554.04 L1287.46 1568.04 L1280.56 1568.04 L1294.4 1549.39 L1281.73 1532.4 L1288.64 1532.4 L1298.09 1545.1 L1307.55 1532.4 L1314.45 1532.4 Z\" fill=\"#000000\" fill-rule=\"evenodd\" fill-opacity=\"1\" /><polyline clip-path=\"url(#clip292)\" style=\"stroke:#ffffff; stroke-width:4; stroke-opacity:1; fill:none\" points=\"\n",
       "  242.922,1386.44 2352.76,1386.44 \n",
       "  \"/>\n",
       "<polyline clip-path=\"url(#clip292)\" style=\"stroke:#ffffff; stroke-width:4; stroke-opacity:1; fill:none\" points=\"\n",
       "  242.922,1079.83 2352.76,1079.83 \n",
       "  \"/>\n",
       "<polyline clip-path=\"url(#clip292)\" style=\"stroke:#ffffff; stroke-width:4; stroke-opacity:1; fill:none\" points=\"\n",
       "  242.922,773.219 2352.76,773.219 \n",
       "  \"/>\n",
       "<polyline clip-path=\"url(#clip292)\" style=\"stroke:#ffffff; stroke-width:4; stroke-opacity:1; fill:none\" points=\"\n",
       "  242.922,466.607 2352.76,466.607 \n",
       "  \"/>\n",
       "<polyline clip-path=\"url(#clip292)\" style=\"stroke:#ffffff; stroke-width:4; stroke-opacity:1; fill:none\" points=\"\n",
       "  242.922,159.995 2352.76,159.995 \n",
       "  \"/>\n",
       "<polyline clip-path=\"url(#clip292)\" style=\"stroke:#ffffff; stroke-width:2; stroke-opacity:1; fill:none\" points=\"\n",
       "  242.922,1233.14 2352.76,1233.14 \n",
       "  \"/>\n",
       "<polyline clip-path=\"url(#clip292)\" style=\"stroke:#ffffff; stroke-width:2; stroke-opacity:1; fill:none\" points=\"\n",
       "  242.922,926.525 2352.76,926.525 \n",
       "  \"/>\n",
       "<polyline clip-path=\"url(#clip292)\" style=\"stroke:#ffffff; stroke-width:2; stroke-opacity:1; fill:none\" points=\"\n",
       "  242.922,619.913 2352.76,619.913 \n",
       "  \"/>\n",
       "<polyline clip-path=\"url(#clip292)\" style=\"stroke:#ffffff; stroke-width:2; stroke-opacity:1; fill:none\" points=\"\n",
       "  242.922,313.301 2352.76,313.301 \n",
       "  \"/>\n",
       "<polyline clip-path=\"url(#clip290)\" style=\"stroke:#ffffff; stroke-width:4; stroke-opacity:1; fill:none\" points=\"\n",
       "  242.922,1423.18 242.922,123.472 \n",
       "  \"/>\n",
       "<polyline clip-path=\"url(#clip290)\" style=\"stroke:#333333; stroke-width:4; stroke-opacity:1; fill:none\" points=\"\n",
       "  242.922,1386.44 217.604,1386.44 \n",
       "  \"/>\n",
       "<polyline clip-path=\"url(#clip290)\" style=\"stroke:#333333; stroke-width:4; stroke-opacity:1; fill:none\" points=\"\n",
       "  242.922,1079.83 217.604,1079.83 \n",
       "  \"/>\n",
       "<polyline clip-path=\"url(#clip290)\" style=\"stroke:#333333; stroke-width:4; stroke-opacity:1; fill:none\" points=\"\n",
       "  242.922,773.219 217.604,773.219 \n",
       "  \"/>\n",
       "<polyline clip-path=\"url(#clip290)\" style=\"stroke:#333333; stroke-width:4; stroke-opacity:1; fill:none\" points=\"\n",
       "  242.922,466.607 217.604,466.607 \n",
       "  \"/>\n",
       "<polyline clip-path=\"url(#clip290)\" style=\"stroke:#333333; stroke-width:4; stroke-opacity:1; fill:none\" points=\"\n",
       "  242.922,159.995 217.604,159.995 \n",
       "  \"/>\n",
       "<polyline clip-path=\"url(#clip290)\" style=\"stroke:#333333; stroke-width:4; stroke-opacity:1; fill:none\" points=\"\n",
       "  242.922,1233.14 230.263,1233.14 \n",
       "  \"/>\n",
       "<polyline clip-path=\"url(#clip290)\" style=\"stroke:#333333; stroke-width:4; stroke-opacity:1; fill:none\" points=\"\n",
       "  242.922,926.525 230.263,926.525 \n",
       "  \"/>\n",
       "<polyline clip-path=\"url(#clip290)\" style=\"stroke:#333333; stroke-width:4; stroke-opacity:1; fill:none\" points=\"\n",
       "  242.922,619.913 230.263,619.913 \n",
       "  \"/>\n",
       "<polyline clip-path=\"url(#clip290)\" style=\"stroke:#333333; stroke-width:4; stroke-opacity:1; fill:none\" points=\"\n",
       "  242.922,313.301 230.263,313.301 \n",
       "  \"/>\n",
       "<path clip-path=\"url(#clip290)\" d=\"M 0 0 M96.4916 1386.89 L126.167 1386.89 L126.167 1390.83 L96.4916 1390.83 L96.4916 1386.89 Z\" fill=\"#4c4c4c\" fill-rule=\"evenodd\" fill-opacity=\"1\" /><path clip-path=\"url(#clip290)\" d=\"M 0 0 M132.047 1399.79 L139.686 1399.79 L139.686 1373.42 L131.376 1375.09 L131.376 1370.83 L139.64 1369.16 L144.315 1369.16 L144.315 1399.79 L151.954 1399.79 L151.954 1403.72 L132.047 1403.72 L132.047 1399.79 Z\" fill=\"#4c4c4c\" fill-rule=\"evenodd\" fill-opacity=\"1\" /><path clip-path=\"url(#clip290)\" d=\"M 0 0 M157.024 1397.84 L161.908 1397.84 L161.908 1403.72 L157.024 1403.72 L157.024 1397.84 Z\" fill=\"#4c4c4c\" fill-rule=\"evenodd\" fill-opacity=\"1\" /><path clip-path=\"url(#clip290)\" d=\"M 0 0 M176.977 1372.24 Q173.366 1372.24 171.538 1375.81 Q169.732 1379.35 169.732 1386.48 Q169.732 1393.58 171.538 1397.15 Q173.366 1400.69 176.977 1400.69 Q180.612 1400.69 182.417 1397.15 Q184.246 1393.58 184.246 1386.48 Q184.246 1379.35 182.417 1375.81 Q180.612 1372.24 176.977 1372.24 M176.977 1368.54 Q182.787 1368.54 185.843 1373.14 Q188.922 1377.73 188.922 1386.48 Q188.922 1395.2 185.843 1399.81 Q182.787 1404.39 176.977 1404.39 Q171.167 1404.39 168.088 1399.81 Q165.033 1395.2 165.033 1386.48 Q165.033 1377.73 168.088 1373.14 Q171.167 1368.54 176.977 1368.54 Z\" fill=\"#4c4c4c\" fill-rule=\"evenodd\" fill-opacity=\"1\" /><path clip-path=\"url(#clip290)\" d=\"M 0 0 M96.2602 1080.28 L125.936 1080.28 L125.936 1084.22 L96.2602 1084.22 L96.2602 1080.28 Z\" fill=\"#4c4c4c\" fill-rule=\"evenodd\" fill-opacity=\"1\" /><path clip-path=\"url(#clip290)\" d=\"M 0 0 M141.005 1065.63 Q137.394 1065.63 135.566 1069.19 Q133.76 1072.74 133.76 1079.87 Q133.76 1086.97 135.566 1090.54 Q137.394 1094.08 141.005 1094.08 Q144.64 1094.08 146.445 1090.54 Q148.274 1086.97 148.274 1079.87 Q148.274 1072.74 146.445 1069.19 Q144.64 1065.63 141.005 1065.63 M141.005 1061.93 Q146.815 1061.93 149.871 1066.53 Q152.95 1071.12 152.95 1079.87 Q152.95 1088.59 149.871 1093.2 Q146.815 1097.78 141.005 1097.78 Q135.195 1097.78 132.116 1093.2 Q129.061 1088.59 129.061 1079.87 Q129.061 1071.12 132.116 1066.53 Q135.195 1061.93 141.005 1061.93 Z\" fill=\"#4c4c4c\" fill-rule=\"evenodd\" fill-opacity=\"1\" /><path clip-path=\"url(#clip290)\" d=\"M 0 0 M158.019 1091.23 L162.903 1091.23 L162.903 1097.11 L158.019 1097.11 L158.019 1091.23 Z\" fill=\"#4c4c4c\" fill-rule=\"evenodd\" fill-opacity=\"1\" /><path clip-path=\"url(#clip290)\" d=\"M 0 0 M168.019 1062.55 L186.375 1062.55 L186.375 1066.49 L172.301 1066.49 L172.301 1074.96 Q173.32 1074.61 174.338 1074.45 Q175.357 1074.26 176.375 1074.26 Q182.162 1074.26 185.542 1077.43 Q188.922 1080.61 188.922 1086.02 Q188.922 1091.6 185.449 1094.7 Q181.977 1097.78 175.658 1097.78 Q173.482 1097.78 171.213 1097.41 Q168.968 1097.04 166.561 1096.3 L166.561 1091.6 Q168.644 1092.74 170.866 1093.29 Q173.088 1093.85 175.565 1093.85 Q179.57 1093.85 181.908 1091.74 Q184.246 1089.63 184.246 1086.02 Q184.246 1082.41 181.908 1080.31 Q179.57 1078.2 175.565 1078.2 Q173.69 1078.2 171.815 1078.62 Q169.963 1079.03 168.019 1079.91 L168.019 1062.55 Z\" fill=\"#4c4c4c\" fill-rule=\"evenodd\" fill-opacity=\"1\" /><path clip-path=\"url(#clip290)\" d=\"M 0 0 M140.01 759.017 Q136.399 759.017 134.57 762.582 Q132.765 766.124 132.765 773.253 Q132.765 780.36 134.57 783.925 Q136.399 787.466 140.01 787.466 Q143.644 787.466 145.45 783.925 Q147.278 780.36 147.278 773.253 Q147.278 766.124 145.45 762.582 Q143.644 759.017 140.01 759.017 M140.01 755.314 Q145.82 755.314 148.876 759.92 Q151.954 764.504 151.954 773.253 Q151.954 781.98 148.876 786.587 Q145.82 791.17 140.01 791.17 Q134.2 791.17 131.121 786.587 Q128.066 781.98 128.066 773.253 Q128.066 764.504 131.121 759.92 Q134.2 755.314 140.01 755.314 Z\" fill=\"#4c4c4c\" fill-rule=\"evenodd\" fill-opacity=\"1\" /><path clip-path=\"url(#clip290)\" d=\"M 0 0 M157.024 784.619 L161.908 784.619 L161.908 790.499 L157.024 790.499 L157.024 784.619 Z\" fill=\"#4c4c4c\" fill-rule=\"evenodd\" fill-opacity=\"1\" /><path clip-path=\"url(#clip290)\" d=\"M 0 0 M176.977 759.017 Q173.366 759.017 171.538 762.582 Q169.732 766.124 169.732 773.253 Q169.732 780.36 171.538 783.925 Q173.366 787.466 176.977 787.466 Q180.612 787.466 182.417 783.925 Q184.246 780.36 184.246 773.253 Q184.246 766.124 182.417 762.582 Q180.612 759.017 176.977 759.017 M176.977 755.314 Q182.787 755.314 185.843 759.92 Q188.922 764.504 188.922 773.253 Q188.922 781.98 185.843 786.587 Q182.787 791.17 176.977 791.17 Q171.167 791.17 168.088 786.587 Q165.033 781.98 165.033 773.253 Q165.033 764.504 168.088 759.92 Q171.167 755.314 176.977 755.314 Z\" fill=\"#4c4c4c\" fill-rule=\"evenodd\" fill-opacity=\"1\" /><path clip-path=\"url(#clip290)\" d=\"M 0 0 M141.005 452.405 Q137.394 452.405 135.566 455.97 Q133.76 459.512 133.76 466.642 Q133.76 473.748 135.566 477.313 Q137.394 480.854 141.005 480.854 Q144.64 480.854 146.445 477.313 Q148.274 473.748 148.274 466.642 Q148.274 459.512 146.445 455.97 Q144.64 452.405 141.005 452.405 M141.005 448.702 Q146.815 448.702 149.871 453.308 Q152.95 457.892 152.95 466.642 Q152.95 475.368 149.871 479.975 Q146.815 484.558 141.005 484.558 Q135.195 484.558 132.116 479.975 Q129.061 475.368 129.061 466.642 Q129.061 457.892 132.116 453.308 Q135.195 448.702 141.005 448.702 Z\" fill=\"#4c4c4c\" fill-rule=\"evenodd\" fill-opacity=\"1\" /><path clip-path=\"url(#clip290)\" d=\"M 0 0 M158.019 478.007 L162.903 478.007 L162.903 483.887 L158.019 483.887 L158.019 478.007 Z\" fill=\"#4c4c4c\" fill-rule=\"evenodd\" fill-opacity=\"1\" /><path clip-path=\"url(#clip290)\" d=\"M 0 0 M168.019 449.327 L186.375 449.327 L186.375 453.262 L172.301 453.262 L172.301 461.734 Q173.32 461.387 174.338 461.225 Q175.357 461.04 176.375 461.04 Q182.162 461.04 185.542 464.211 Q188.922 467.382 188.922 472.799 Q188.922 478.378 185.449 481.479 Q181.977 484.558 175.658 484.558 Q173.482 484.558 171.213 484.188 Q168.968 483.817 166.561 483.077 L166.561 478.378 Q168.644 479.512 170.866 480.067 Q173.088 480.623 175.565 480.623 Q179.57 480.623 181.908 478.516 Q184.246 476.41 184.246 472.799 Q184.246 469.188 181.908 467.081 Q179.57 464.975 175.565 464.975 Q173.69 464.975 171.815 465.392 Q169.963 465.808 168.019 466.688 L168.019 449.327 Z\" fill=\"#4c4c4c\" fill-rule=\"evenodd\" fill-opacity=\"1\" /><path clip-path=\"url(#clip290)\" d=\"M 0 0 M132.047 173.34 L139.686 173.34 L139.686 146.974 L131.376 148.641 L131.376 144.381 L139.64 142.715 L144.315 142.715 L144.315 173.34 L151.954 173.34 L151.954 177.275 L132.047 177.275 L132.047 173.34 Z\" fill=\"#4c4c4c\" fill-rule=\"evenodd\" fill-opacity=\"1\" /><path clip-path=\"url(#clip290)\" d=\"M 0 0 M157.024 171.395 L161.908 171.395 L161.908 177.275 L157.024 177.275 L157.024 171.395 Z\" fill=\"#4c4c4c\" fill-rule=\"evenodd\" fill-opacity=\"1\" /><path clip-path=\"url(#clip290)\" d=\"M 0 0 M176.977 145.794 Q173.366 145.794 171.538 149.358 Q169.732 152.9 169.732 160.03 Q169.732 167.136 171.538 170.701 Q173.366 174.242 176.977 174.242 Q180.612 174.242 182.417 170.701 Q184.246 167.136 184.246 160.03 Q184.246 152.9 182.417 149.358 Q180.612 145.794 176.977 145.794 M176.977 142.09 Q182.787 142.09 185.843 146.696 Q188.922 151.28 188.922 160.03 Q188.922 168.756 185.843 173.363 Q182.787 177.946 176.977 177.946 Q171.167 177.946 168.088 173.363 Q165.033 168.756 165.033 160.03 Q165.033 151.28 168.088 146.696 Q171.167 142.09 176.977 142.09 Z\" fill=\"#4c4c4c\" fill-rule=\"evenodd\" fill-opacity=\"1\" /><path clip-path=\"url(#clip290)\" d=\"M 0 0 M67.3143 771.639 Q73.68 774.122 75.6216 776.477 Q77.5631 778.832 77.5631 782.779 L77.5631 787.458 L72.6615 787.458 L72.6615 784.02 Q72.6615 781.601 71.5157 780.265 Q70.3699 778.928 66.1048 777.305 L63.4312 776.254 L28.3562 790.673 L28.3562 784.466 L56.238 773.326 L28.3562 762.186 L28.3562 755.979 L67.3143 771.639 Z\" fill=\"#000000\" fill-rule=\"evenodd\" fill-opacity=\"1\" /><path clip-path=\"url(#clip290)\" d=\"M 0 0 M621.804 63.9476 L621.804 47.7034 L608.436 47.7034 L608.436 40.9789 L629.905 40.9789 L629.905 66.9452 Q625.166 70.3075 619.454 72.0494 Q613.742 73.7508 607.261 73.7508 Q593.083 73.7508 585.062 65.4869 Q577.082 57.1826 577.082 42.3968 Q577.082 27.5705 585.062 19.3066 Q593.083 11.0023 607.261 11.0023 Q613.175 11.0023 618.482 12.4606 Q623.829 13.9189 628.326 16.7545 L628.326 25.464 Q623.789 21.6156 618.684 19.6712 Q613.58 17.7268 607.95 17.7268 Q596.85 17.7268 591.26 23.9246 Q585.71 30.1225 585.71 42.3968 Q585.71 54.6305 591.26 60.8284 Q596.85 67.0263 607.95 67.0263 Q612.284 67.0263 615.687 66.2971 Q619.09 65.5274 621.804 63.9476 Z\" fill=\"#000000\" fill-rule=\"evenodd\" fill-opacity=\"1\" /><path clip-path=\"url(#clip290)\" d=\"M 0 0 M664.014 34.1734 Q662.758 33.4443 661.259 33.1202 Q659.801 32.7556 658.019 32.7556 Q651.699 32.7556 648.297 36.8875 Q644.934 40.9789 644.934 48.6757 L644.934 72.576 L637.44 72.576 L637.44 27.2059 L644.934 27.2059 L644.934 34.2544 Q647.284 30.1225 651.051 28.1376 Q654.819 26.1121 660.206 26.1121 Q660.976 26.1121 661.908 26.2337 Q662.839 26.3147 663.974 26.5172 L664.014 34.1734 Z\" fill=\"#000000\" fill-rule=\"evenodd\" fill-opacity=\"1\" /><path clip-path=\"url(#clip290)\" d=\"M 0 0 M692.451 49.7694 Q683.418 49.7694 679.934 51.8354 Q676.45 53.9013 676.45 58.8839 Q676.45 62.8538 679.043 65.2034 Q681.676 67.5124 686.173 67.5124 Q692.37 67.5124 696.097 63.1374 Q699.865 58.7219 699.865 51.4303 L699.865 49.7694 L692.451 49.7694 M707.318 46.6907 L707.318 72.576 L699.865 72.576 L699.865 65.6895 Q697.313 69.8214 693.505 71.8063 Q689.697 73.7508 684.188 73.7508 Q677.22 73.7508 673.088 69.8619 Q668.997 65.9325 668.997 59.3701 Q668.997 51.7138 674.101 47.825 Q679.245 43.9361 689.413 43.9361 L699.865 43.9361 L699.865 43.2069 Q699.865 38.0623 696.462 35.2672 Q693.1 32.4315 686.983 32.4315 Q683.094 32.4315 679.408 33.3632 Q675.721 34.295 672.318 36.1584 L672.318 29.2718 Q676.41 27.692 680.258 26.9223 Q684.107 26.1121 687.752 26.1121 Q697.596 26.1121 702.457 31.2163 Q707.318 36.3204 707.318 46.6907 M693.707 6.22219 L701.769 6.22219 L688.563 21.4536 L682.365 21.4536 L693.707 6.22219 Z\" fill=\"#000000\" fill-rule=\"evenodd\" fill-opacity=\"1\" /><path clip-path=\"url(#clip290)\" d=\"M 0 0 M738.105 9.54393 L738.105 15.7418 L730.976 15.7418 Q726.965 15.7418 725.385 17.3622 Q723.846 18.9825 723.846 23.1955 L723.846 27.2059 L736.12 27.2059 L736.12 32.9987 L723.846 32.9987 L723.846 72.576 L716.352 72.576 L716.352 32.9987 L709.222 32.9987 L709.222 27.2059 L716.352 27.2059 L716.352 24.0462 Q716.352 16.471 719.876 13.0277 Q723.4 9.54393 731.057 9.54393 L738.105 9.54393 Z\" fill=\"#000000\" fill-rule=\"evenodd\" fill-opacity=\"1\" /><path clip-path=\"url(#clip290)\" d=\"M 0 0 M745.923 27.2059 L753.377 27.2059 L753.377 72.576 L745.923 72.576 L745.923 27.2059 M745.923 9.54393 L753.377 9.54393 L753.377 18.9825 L745.923 18.9825 L745.923 9.54393 Z\" fill=\"#000000\" fill-rule=\"evenodd\" fill-opacity=\"1\" /><path clip-path=\"url(#clip290)\" d=\"M 0 0 M793.846 28.9478 L793.846 35.9153 Q790.686 34.1734 787.486 33.3227 Q784.326 32.4315 781.085 32.4315 Q773.834 32.4315 769.824 37.0496 Q765.813 41.6271 765.813 49.9314 Q765.813 58.2358 769.824 62.8538 Q773.834 67.4314 781.085 67.4314 Q784.326 67.4314 787.486 66.5807 Q790.686 65.6895 793.846 63.9476 L793.846 70.8341 Q790.726 72.2924 787.364 73.0216 Q784.042 73.7508 780.275 73.7508 Q770.026 73.7508 763.99 67.3098 Q757.955 60.8689 757.955 49.9314 Q757.955 38.832 764.031 32.472 Q770.148 26.1121 780.761 26.1121 Q784.204 26.1121 787.486 26.8413 Q790.767 27.5299 793.846 28.9478 Z\" fill=\"#000000\" fill-rule=\"evenodd\" fill-opacity=\"1\" /><path clip-path=\"url(#clip290)\" d=\"M 0 0 M819.245 32.4315 Q813.249 32.4315 809.766 37.1306 Q806.282 41.7891 806.282 49.9314 Q806.282 58.0738 809.725 62.7728 Q813.209 67.4314 819.245 67.4314 Q825.2 67.4314 828.683 62.7323 Q832.167 58.0333 832.167 49.9314 Q832.167 41.8701 828.683 37.1711 Q825.2 32.4315 819.245 32.4315 M819.245 26.1121 Q828.967 26.1121 834.517 32.4315 Q840.066 38.7509 840.066 49.9314 Q840.066 61.0714 834.517 67.4314 Q828.967 73.7508 819.245 73.7508 Q809.482 73.7508 803.932 67.4314 Q798.423 61.0714 798.423 49.9314 Q798.423 38.7509 803.932 32.4315 Q809.482 26.1121 819.245 26.1121 Z\" fill=\"#000000\" fill-rule=\"evenodd\" fill-opacity=\"1\" /><path clip-path=\"url(#clip290)\" d=\"M 0 0 M904.111 34.0924 L904.111 9.54393 L911.565 9.54393 L911.565 72.576 L904.111 72.576 L904.111 65.7705 Q901.762 69.8214 898.156 71.8063 Q894.592 73.7508 889.568 73.7508 Q881.345 73.7508 876.16 67.1883 Q871.015 60.6258 871.015 49.9314 Q871.015 39.2371 876.16 32.6746 Q881.345 26.1121 889.568 26.1121 Q894.592 26.1121 898.156 28.0971 Q901.762 30.0415 904.111 34.0924 M878.712 49.9314 Q878.712 58.1548 882.074 62.8538 Q885.477 67.5124 891.391 67.5124 Q897.306 67.5124 900.708 62.8538 Q904.111 58.1548 904.111 49.9314 Q904.111 41.7081 900.708 37.0496 Q897.306 32.3505 891.391 32.3505 Q885.477 32.3505 882.074 37.0496 Q878.712 41.7081 878.712 49.9314 Z\" fill=\"#000000\" fill-rule=\"evenodd\" fill-opacity=\"1\" /><path clip-path=\"url(#clip290)\" d=\"M 0 0 M958.191 48.0275 L958.191 51.6733 L923.92 51.6733 Q924.406 59.3701 928.538 63.421 Q932.711 67.4314 940.124 67.4314 Q944.418 67.4314 948.428 66.3781 Q952.479 65.3249 956.449 63.2184 L956.449 70.267 Q952.438 71.9684 948.226 72.8596 Q944.013 73.7508 939.678 73.7508 Q928.822 73.7508 922.462 67.4314 Q916.142 61.1119 916.142 50.3365 Q916.142 39.1965 922.138 32.6746 Q928.174 26.1121 938.382 26.1121 Q947.537 26.1121 952.844 32.0264 Q958.191 37.9003 958.191 48.0275 M950.737 45.84 Q950.656 39.7232 947.294 36.0774 Q943.972 32.4315 938.463 32.4315 Q932.224 32.4315 928.457 35.9558 Q924.73 39.4801 924.163 45.8805 L950.737 45.84 Z\" fill=\"#000000\" fill-rule=\"evenodd\" fill-opacity=\"1\" /><path clip-path=\"url(#clip290)\" d=\"M 0 0 M1011.26 76.7889 Q1008.1 84.8907 1005.1 87.3618 Q1002.1 89.8329 997.079 89.8329 L991.125 89.8329 L991.125 83.5945 L995.5 83.5945 Q998.578 83.5945 1000.28 82.1361 Q1001.98 80.6778 1004.05 75.2496 L1005.38 71.8468 L987.033 27.2059 L994.932 27.2059 L1009.11 62.6918 L1023.29 27.2059 L1031.19 27.2059 L1011.26 76.7889 Z\" fill=\"#000000\" fill-rule=\"evenodd\" fill-opacity=\"1\" /><path clip-path=\"url(#clip290)\" d=\"M 0 0 M1039.98 34.9026 L1091.91 34.9026 L1091.91 41.7081 L1039.98 41.7081 L1039.98 34.9026 M1039.98 51.4303 L1091.91 51.4303 L1091.91 58.3168 L1039.98 58.3168 L1039.98 51.4303 Z\" fill=\"#000000\" fill-rule=\"evenodd\" fill-opacity=\"1\" /><path clip-path=\"url(#clip290)\" d=\"M 0 0 M1128.65 28.5427 L1128.65 35.5912 Q1125.49 33.9709 1122.09 33.1607 Q1118.69 32.3505 1115.04 32.3505 Q1109.49 32.3505 1106.7 34.0519 Q1103.94 35.7533 1103.94 39.156 Q1103.94 41.7486 1105.93 43.2475 Q1107.91 44.7058 1113.91 46.0426 L1116.46 46.6097 Q1124.4 48.3111 1127.72 51.4303 Q1131.08 54.509 1131.08 60.0587 Q1131.08 66.3781 1126.06 70.0644 Q1121.08 73.7508 1112.33 73.7508 Q1108.68 73.7508 1104.71 73.0216 Q1100.78 72.3329 1096.41 70.9151 L1096.41 63.2184 Q1100.54 65.3654 1104.55 66.4591 Q1108.56 67.5124 1112.49 67.5124 Q1117.76 67.5124 1120.59 65.73 Q1123.43 63.9071 1123.43 60.6258 Q1123.43 57.5877 1121.36 55.9673 Q1119.34 54.3469 1112.41 52.8481 L1109.82 52.2405 Q1102.89 50.7821 1099.81 47.7845 Q1096.73 44.7463 1096.73 39.4801 Q1096.73 33.0797 1101.27 29.5959 Q1105.81 26.1121 1114.15 26.1121 Q1118.28 26.1121 1121.93 26.7198 Q1125.57 27.3274 1128.65 28.5427 Z\" fill=\"#000000\" fill-rule=\"evenodd\" fill-opacity=\"1\" /><path clip-path=\"url(#clip290)\" d=\"M 0 0 M1138.9 27.2059 L1146.36 27.2059 L1146.36 72.576 L1138.9 72.576 L1138.9 27.2059 M1138.9 9.54393 L1146.36 9.54393 L1146.36 18.9825 L1138.9 18.9825 L1138.9 9.54393 Z\" fill=\"#000000\" fill-rule=\"evenodd\" fill-opacity=\"1\" /><path clip-path=\"url(#clip290)\" d=\"M 0 0 M1191.89 45.1919 L1191.89 72.576 L1184.43 72.576 L1184.43 45.4349 Q1184.43 38.994 1181.92 35.7938 Q1179.41 32.5936 1174.39 32.5936 Q1168.35 32.5936 1164.87 36.4419 Q1161.38 40.2903 1161.38 46.9338 L1161.38 72.576 L1153.89 72.576 L1153.89 27.2059 L1161.38 27.2059 L1161.38 34.2544 Q1164.06 30.163 1167.66 28.1376 Q1171.31 26.1121 1176.05 26.1121 Q1183.87 26.1121 1187.88 30.9732 Q1191.89 35.7938 1191.89 45.1919 Z\" fill=\"#000000\" fill-rule=\"evenodd\" fill-opacity=\"1\" /><path clip-path=\"url(#clip290)\" d=\"M 0 0 M1217.61 9.62495 Q1212.18 18.942 1209.55 28.0566 Q1206.92 37.1711 1206.92 46.5287 Q1206.92 55.8863 1209.55 65.0818 Q1212.22 74.2369 1217.61 83.5134 L1211.13 83.5134 Q1205.05 73.9938 1202.01 64.7983 Q1199.02 55.6027 1199.02 46.5287 Q1199.02 37.4952 1202.01 28.3401 Q1205.01 19.1851 1211.13 9.62495 L1217.61 9.62495 Z\" fill=\"#000000\" fill-rule=\"evenodd\" fill-opacity=\"1\" /><path clip-path=\"url(#clip290)\" d=\"M 0 0 M1263.14 27.2059 L1246.74 49.2833 L1263.99 72.576 L1255.2 72.576 L1242 54.752 L1228.79 72.576 L1220 72.576 L1237.62 48.8377 L1221.5 27.2059 L1230.29 27.2059 L1242.32 43.369 L1254.35 27.2059 L1263.14 27.2059 Z\" fill=\"#000000\" fill-rule=\"evenodd\" fill-opacity=\"1\" /><path clip-path=\"url(#clip290)\" d=\"M 0 0 M1270.64 9.62495 L1277.12 9.62495 Q1283.19 19.1851 1286.19 28.3401 Q1289.23 37.4952 1289.23 46.5287 Q1289.23 55.6027 1286.19 64.7983 Q1283.19 73.9938 1277.12 83.5134 L1270.64 83.5134 Q1276.02 74.2369 1278.66 65.0818 Q1281.33 55.8863 1281.33 46.5287 Q1281.33 37.1711 1278.66 28.0566 Q1276.02 18.942 1270.64 9.62495 Z\" fill=\"#000000\" fill-rule=\"evenodd\" fill-opacity=\"1\" /><path clip-path=\"url(#clip290)\" d=\"M 0 0 M1361.13 45.1919 L1361.13 72.576 L1353.68 72.576 L1353.68 45.4349 Q1353.68 38.994 1351.17 35.7938 Q1348.66 32.5936 1343.63 32.5936 Q1337.6 32.5936 1334.11 36.4419 Q1330.63 40.2903 1330.63 46.9338 L1330.63 72.576 L1323.14 72.576 L1323.14 27.2059 L1330.63 27.2059 L1330.63 34.2544 Q1333.3 30.163 1336.91 28.1376 Q1340.56 26.1121 1345.3 26.1121 Q1353.11 26.1121 1357.12 30.9732 Q1361.13 35.7938 1361.13 45.1919 Z\" fill=\"#000000\" fill-rule=\"evenodd\" fill-opacity=\"1\" /><path clip-path=\"url(#clip290)\" d=\"M 0 0 M1386.53 32.4315 Q1380.54 32.4315 1377.05 37.1306 Q1373.57 41.7891 1373.57 49.9314 Q1373.57 58.0738 1377.01 62.7728 Q1380.5 67.4314 1386.53 67.4314 Q1392.49 67.4314 1395.97 62.7323 Q1399.46 58.0333 1399.46 49.9314 Q1399.46 41.8701 1395.97 37.1711 Q1392.49 32.4315 1386.53 32.4315 M1386.53 26.1121 Q1396.26 26.1121 1401.81 32.4315 Q1407.35 38.7509 1407.35 49.9314 Q1407.35 61.0714 1401.81 67.4314 Q1396.26 73.7508 1386.53 73.7508 Q1376.77 73.7508 1371.22 67.4314 Q1365.71 61.0714 1365.71 49.9314 Q1365.71 38.7509 1371.22 32.4315 Q1376.77 26.1121 1386.53 26.1121 Z\" fill=\"#000000\" fill-rule=\"evenodd\" fill-opacity=\"1\" /><path clip-path=\"url(#clip290)\" d=\"M 0 0 M1441.54 27.2059 L1449 27.2059 L1449 72.576 L1441.54 72.576 L1441.54 27.2059 M1441.54 9.54393 L1449 9.54393 L1449 18.9825 L1441.54 18.9825 L1441.54 9.54393 Z\" fill=\"#000000\" fill-rule=\"evenodd\" fill-opacity=\"1\" /><path clip-path=\"url(#clip290)\" d=\"M 0 0 M1494.53 45.1919 L1494.53 72.576 L1487.08 72.576 L1487.08 45.4349 Q1487.08 38.994 1484.57 35.7938 Q1482.05 32.5936 1477.03 32.5936 Q1470.99 32.5936 1467.51 36.4419 Q1464.03 40.2903 1464.03 46.9338 L1464.03 72.576 L1456.53 72.576 L1456.53 27.2059 L1464.03 27.2059 L1464.03 34.2544 Q1466.7 30.163 1470.31 28.1376 Q1473.95 26.1121 1478.69 26.1121 Q1486.51 26.1121 1490.52 30.9732 Q1494.53 35.7938 1494.53 45.1919 Z\" fill=\"#000000\" fill-rule=\"evenodd\" fill-opacity=\"1\" /><path clip-path=\"url(#clip290)\" d=\"M 0 0 M1509.72 14.324 L1509.72 27.2059 L1525.07 27.2059 L1525.07 32.9987 L1509.72 32.9987 L1509.72 57.6282 Q1509.72 63.1779 1511.22 64.7578 Q1512.76 66.3376 1517.42 66.3376 L1525.07 66.3376 L1525.07 72.576 L1517.42 72.576 Q1508.79 72.576 1505.51 69.3758 Q1502.23 66.1351 1502.23 57.6282 L1502.23 32.9987 L1496.76 32.9987 L1496.76 27.2059 L1502.23 27.2059 L1502.23 14.324 L1509.72 14.324 Z\" fill=\"#000000\" fill-rule=\"evenodd\" fill-opacity=\"1\" /><path clip-path=\"url(#clip290)\" d=\"M 0 0 M1571.7 48.0275 L1571.7 51.6733 L1537.43 51.6733 Q1537.92 59.3701 1542.05 63.421 Q1546.22 67.4314 1553.63 67.4314 Q1557.93 67.4314 1561.94 66.3781 Q1565.99 65.3249 1569.96 63.2184 L1569.96 70.267 Q1565.95 71.9684 1561.73 72.8596 Q1557.52 73.7508 1553.19 73.7508 Q1542.33 73.7508 1535.97 67.4314 Q1529.65 61.1119 1529.65 50.3365 Q1529.65 39.1965 1535.65 32.6746 Q1541.68 26.1121 1551.89 26.1121 Q1561.05 26.1121 1566.35 32.0264 Q1571.7 37.9003 1571.7 48.0275 M1564.25 45.84 Q1564.17 39.7232 1560.8 36.0774 Q1557.48 32.4315 1551.97 32.4315 Q1545.73 32.4315 1541.97 35.9558 Q1538.24 39.4801 1537.67 45.8805 L1564.25 45.84 Z\" fill=\"#000000\" fill-rule=\"evenodd\" fill-opacity=\"1\" /><path clip-path=\"url(#clip290)\" d=\"M 0 0 M1605.81 34.1734 Q1604.55 33.4443 1603.05 33.1202 Q1601.6 32.7556 1599.81 32.7556 Q1593.49 32.7556 1590.09 36.8875 Q1586.73 40.9789 1586.73 48.6757 L1586.73 72.576 L1579.23 72.576 L1579.23 27.2059 L1586.73 27.2059 L1586.73 34.2544 Q1589.08 30.1225 1592.85 28.1376 Q1596.61 26.1121 1602 26.1121 Q1602.77 26.1121 1603.7 26.2337 Q1604.63 26.3147 1605.77 26.5172 L1605.81 34.1734 Z\" fill=\"#000000\" fill-rule=\"evenodd\" fill-opacity=\"1\" /><path clip-path=\"url(#clip290)\" d=\"M 0 0 M1608.28 27.2059 L1616.18 27.2059 L1630.36 65.2844 L1644.54 27.2059 L1652.43 27.2059 L1635.42 72.576 L1625.29 72.576 L1608.28 27.2059 Z\" fill=\"#000000\" fill-rule=\"evenodd\" fill-opacity=\"1\" /><path clip-path=\"url(#clip290)\" d=\"M 0 0 M1680.87 49.7694 Q1671.84 49.7694 1668.35 51.8354 Q1664.87 53.9013 1664.87 58.8839 Q1664.87 62.8538 1667.46 65.2034 Q1670.1 67.5124 1674.59 67.5124 Q1680.79 67.5124 1684.52 63.1374 Q1688.29 58.7219 1688.29 51.4303 L1688.29 49.7694 L1680.87 49.7694 M1695.74 46.6907 L1695.74 72.576 L1688.29 72.576 L1688.29 65.6895 Q1685.73 69.8214 1681.93 71.8063 Q1678.12 73.7508 1672.61 73.7508 Q1665.64 73.7508 1661.51 69.8619 Q1657.42 65.9325 1657.42 59.3701 Q1657.42 51.7138 1662.52 47.825 Q1667.67 43.9361 1677.83 43.9361 L1688.29 43.9361 L1688.29 43.2069 Q1688.29 38.0623 1684.88 35.2672 Q1681.52 32.4315 1675.4 32.4315 Q1671.51 32.4315 1667.83 33.3632 Q1664.14 34.295 1660.74 36.1584 L1660.74 29.2718 Q1664.83 27.692 1668.68 26.9223 Q1672.53 26.1121 1676.17 26.1121 Q1686.02 26.1121 1690.88 31.2163 Q1695.74 36.3204 1695.74 46.6907 Z\" fill=\"#000000\" fill-rule=\"evenodd\" fill-opacity=\"1\" /><path clip-path=\"url(#clip290)\" d=\"M 0 0 M1703.56 9.54393 L1711.01 9.54393 L1711.01 72.576 L1703.56 72.576 L1703.56 9.54393 Z\" fill=\"#000000\" fill-rule=\"evenodd\" fill-opacity=\"1\" /><path clip-path=\"url(#clip290)\" d=\"M 0 0 M1736.41 32.4315 Q1730.41 32.4315 1726.93 37.1306 Q1723.45 41.7891 1723.45 49.9314 Q1723.45 58.0738 1726.89 62.7728 Q1730.37 67.4314 1736.41 67.4314 Q1742.36 67.4314 1745.85 62.7323 Q1749.33 58.0333 1749.33 49.9314 Q1749.33 41.8701 1745.85 37.1711 Q1742.36 32.4315 1736.41 32.4315 M1736.41 26.1121 Q1746.13 26.1121 1751.68 32.4315 Q1757.23 38.7509 1757.23 49.9314 Q1757.23 61.0714 1751.68 67.4314 Q1746.13 73.7508 1736.41 73.7508 Q1726.65 73.7508 1721.1 67.4314 Q1715.59 61.0714 1715.59 49.9314 Q1715.59 38.7509 1721.1 32.4315 Q1726.65 26.1121 1736.41 26.1121 Z\" fill=\"#000000\" fill-rule=\"evenodd\" fill-opacity=\"1\" /><path clip-path=\"url(#clip290)\" d=\"M 0 0 M1809.33 9.62495 Q1803.9 18.942 1801.26 28.0566 Q1798.63 37.1711 1798.63 46.5287 Q1798.63 55.8863 1801.26 65.0818 Q1803.94 74.2369 1809.33 83.5134 L1802.84 83.5134 Q1796.77 73.9938 1793.73 64.7983 Q1790.73 55.6027 1790.73 46.5287 Q1790.73 37.4952 1793.73 28.3401 Q1796.73 19.1851 1802.84 9.62495 L1809.33 9.62495 Z\" fill=\"#000000\" fill-rule=\"evenodd\" fill-opacity=\"1\" /><path clip-path=\"url(#clip290)\" d=\"M 0 0 M1835.7 17.4837 Q1829.38 17.4837 1826.18 23.7221 Q1823.02 29.92 1823.02 42.3968 Q1823.02 54.833 1826.18 61.0714 Q1829.38 67.2693 1835.7 67.2693 Q1842.06 67.2693 1845.22 61.0714 Q1848.42 54.833 1848.42 42.3968 Q1848.42 29.92 1845.22 23.7221 Q1842.06 17.4837 1835.7 17.4837 M1835.7 11.0023 Q1845.87 11.0023 1851.21 19.0636 Q1856.6 27.0843 1856.6 42.3968 Q1856.6 57.6687 1851.21 65.73 Q1845.87 73.7508 1835.7 73.7508 Q1825.53 73.7508 1820.14 65.73 Q1814.79 57.6687 1814.79 42.3968 Q1814.79 27.0843 1820.14 19.0636 Q1825.53 11.0023 1835.7 11.0023 Z\" fill=\"#000000\" fill-rule=\"evenodd\" fill-opacity=\"1\" /><path clip-path=\"url(#clip290)\" d=\"M 0 0 M1866.32 62.2867 L1874.87 62.2867 L1874.87 69.2543 L1868.23 82.2172 L1863 82.2172 L1866.32 69.2543 L1866.32 62.2867 Z\" fill=\"#000000\" fill-rule=\"evenodd\" fill-opacity=\"1\" /><path clip-path=\"url(#clip290)\" d=\"M 0 0 M1917.16 65.6895 L1945.72 65.6895 L1945.72 72.576 L1907.32 72.576 L1907.32 65.6895 Q1911.98 60.8689 1920 52.7671 Q1928.06 44.6248 1930.12 42.2752 Q1934.05 37.8598 1935.59 34.8216 Q1937.17 31.7429 1937.17 28.7857 Q1937.17 23.9651 1933.77 20.927 Q1930.41 17.8888 1924.98 17.8888 Q1921.13 17.8888 1916.84 19.2256 Q1912.58 20.5624 1907.72 23.2765 L1907.72 15.0127 Q1912.66 13.0277 1916.96 12.015 Q1921.25 11.0023 1924.82 11.0023 Q1934.22 11.0023 1939.81 15.7013 Q1945.4 20.4004 1945.4 28.2591 Q1945.4 31.9859 1943.98 35.3482 Q1942.6 38.6699 1938.91 43.2069 Q1937.9 44.3817 1932.47 50.0125 Q1927.05 55.6027 1917.16 65.6895 Z\" fill=\"#000000\" fill-rule=\"evenodd\" fill-opacity=\"1\" /><path clip-path=\"url(#clip290)\" d=\"M 0 0 M1948.72 27.2059 L1992.18 27.2059 L1992.18 34.6595 L1986.47 34.6595 L1986.47 62.5298 Q1986.47 65.4464 1987.44 66.7427 Q1988.46 67.9985 1990.69 67.9985 Q1991.29 67.9985 1992.18 67.9175 Q1993.08 67.7959 1993.36 67.7554 L1993.36 73.1431 Q1991.94 73.6697 1990.44 73.9128 Q1988.94 74.1559 1987.44 74.1559 Q1982.58 74.1559 1980.72 71.5228 Q1978.86 68.8492 1978.86 61.7196 L1978.86 34.6595 L1962.13 34.6595 L1962.13 72.576 L1954.51 72.576 L1954.51 34.6595 L1948.72 34.6595 L1948.72 27.2059 Z\" fill=\"#000000\" fill-rule=\"evenodd\" fill-opacity=\"1\" /><path clip-path=\"url(#clip290)\" d=\"M 0 0 M2000 9.62495 L2006.48 9.62495 Q2012.56 19.1851 2015.56 28.3401 Q2018.6 37.4952 2018.6 46.5287 Q2018.6 55.6027 2015.56 64.7983 Q2012.56 73.9938 2006.48 83.5134 L2000 83.5134 Q2005.39 74.2369 2008.02 65.0818 Q2010.7 55.8863 2010.7 46.5287 Q2010.7 37.1711 2008.02 28.0566 Q2005.39 18.942 2000 9.62495 Z\" fill=\"#000000\" fill-rule=\"evenodd\" fill-opacity=\"1\" /><polyline clip-path=\"url(#clip292)\" style=\"stroke:#009af9; stroke-width:4; stroke-opacity:1; fill:none\" points=\"\n",
       "  302.634,773.219 334.737,711.999 366.841,651.39 398.944,591.999 431.048,534.418 463.151,479.224 495.254,426.966 527.358,378.169 559.461,333.319 591.564,292.864 \n",
       "  623.668,257.209 655.771,226.709 687.875,201.67 719.978,182.342 752.081,168.917 784.185,161.531 816.288,160.256 848.391,165.106 880.495,176.032 912.598,192.925 \n",
       "  944.702,215.616 976.805,243.878 1008.91,277.429 1041.01,315.934 1073.12,359.009 1105.22,406.221 1137.32,457.101 1169.43,511.139 1201.53,567.796 1233.63,626.505 \n",
       "  1265.74,686.681 1297.84,747.721 1329.94,809.015 1362.05,869.952 1394.15,929.923 1426.25,988.327 1458.36,1044.58 1490.46,1098.13 1522.56,1148.42 1554.67,1194.97 \n",
       "  1586.77,1237.31 1618.87,1275.01 1650.98,1307.69 1683.08,1335.03 1715.18,1356.76 1747.29,1372.66 1779.39,1382.57 1811.49,1386.4 1843.6,1384.09 1875.7,1375.68 \n",
       "  1907.8,1361.25 1939.91,1340.95 1972.01,1314.97 2004.11,1283.59 2036.22,1247.1 2068.32,1205.87 2100.42,1160.33 2132.53,1110.91 2164.63,1058.12 2196.73,1002.49 \n",
       "  2228.84,944.563 2260.94,884.925 2293.04,824.171 \n",
       "  \"/>\n",
       "<path clip-path=\"url(#clip290)\" d=\"\n",
       "M1875.32 287.756 L2282.43 287.756 L2282.43 166.796 L1875.32 166.796  Z\n",
       "  \" fill=\"#eaeaea\" fill-rule=\"evenodd\" fill-opacity=\"1\"/>\n",
       "<polyline clip-path=\"url(#clip290)\" style=\"stroke:#ffffff; stroke-width:4; stroke-opacity:1; fill:none\" points=\"\n",
       "  1875.32,287.756 2282.43,287.756 2282.43,166.796 1875.32,166.796 1875.32,287.756 \n",
       "  \"/>\n",
       "<polyline clip-path=\"url(#clip290)\" style=\"stroke:#009af9; stroke-width:4; stroke-opacity:1; fill:none\" points=\"\n",
       "  1898.76,227.276 2039.42,227.276 \n",
       "  \"/>\n",
       "<path clip-path=\"url(#clip290)\" d=\"M 0 0 M2076.7 246.963 Q2074.9 251.593 2073.18 253.005 Q2071.47 254.417 2068.6 254.417 L2065.2 254.417 L2065.2 250.852 L2067.7 250.852 Q2069.46 250.852 2070.43 250.019 Q2071.4 249.185 2072.58 246.083 L2073.34 244.139 L2062.86 218.63 L2067.37 218.63 L2075.47 238.908 L2083.58 218.63 L2088.09 218.63 L2076.7 246.963 Z\" fill=\"#000000\" fill-rule=\"evenodd\" fill-opacity=\"1\" /><path clip-path=\"url(#clip290)\" d=\"M 0 0 M2093.11 223.028 L2122.79 223.028 L2122.79 226.917 L2093.11 226.917 L2093.11 223.028 M2093.11 232.472 L2122.79 232.472 L2122.79 236.408 L2093.11 236.408 L2093.11 232.472 Z\" fill=\"#000000\" fill-rule=\"evenodd\" fill-opacity=\"1\" /><path clip-path=\"url(#clip290)\" d=\"M 0 0 M2143.78 219.394 L2143.78 223.422 Q2141.98 222.496 2140.03 222.033 Q2138.09 221.57 2136.01 221.57 Q2132.84 221.57 2131.24 222.542 Q2129.66 223.514 2129.66 225.459 Q2129.66 226.94 2130.8 227.797 Q2131.93 228.63 2135.36 229.394 L2136.82 229.718 Q2141.35 230.69 2143.25 232.472 Q2145.17 234.232 2145.17 237.403 Q2145.17 241.014 2142.3 243.121 Q2139.46 245.227 2134.46 245.227 Q2132.37 245.227 2130.1 244.81 Q2127.86 244.417 2125.36 243.607 L2125.36 239.209 Q2127.72 240.435 2130.01 241.06 Q2132.3 241.662 2134.55 241.662 Q2137.56 241.662 2139.18 240.644 Q2140.8 239.602 2140.8 237.727 Q2140.8 235.991 2139.62 235.065 Q2138.46 234.139 2134.5 233.283 L2133.02 232.935 Q2129.06 232.102 2127.3 230.389 Q2125.54 228.653 2125.54 225.644 Q2125.54 221.986 2128.14 219.996 Q2130.73 218.005 2135.5 218.005 Q2137.86 218.005 2139.94 218.352 Q2142.02 218.699 2143.78 219.394 Z\" fill=\"#000000\" fill-rule=\"evenodd\" fill-opacity=\"1\" /><path clip-path=\"url(#clip290)\" d=\"M 0 0 M2149.64 218.63 L2153.9 218.63 L2153.9 244.556 L2149.64 244.556 L2149.64 218.63 M2149.64 208.537 L2153.9 208.537 L2153.9 213.931 L2149.64 213.931 L2149.64 208.537 Z\" fill=\"#000000\" fill-rule=\"evenodd\" fill-opacity=\"1\" /><path clip-path=\"url(#clip290)\" d=\"M 0 0 M2179.92 228.908 L2179.92 244.556 L2175.66 244.556 L2175.66 229.047 Q2175.66 225.366 2174.22 223.537 Q2172.79 221.709 2169.92 221.709 Q2166.47 221.709 2164.48 223.908 Q2162.49 226.107 2162.49 229.903 L2162.49 244.556 L2158.21 244.556 L2158.21 218.63 L2162.49 218.63 L2162.49 222.658 Q2164.02 220.32 2166.08 219.162 Q2168.16 218.005 2170.87 218.005 Q2175.33 218.005 2177.63 220.783 Q2179.92 223.537 2179.92 228.908 Z\" fill=\"#000000\" fill-rule=\"evenodd\" fill-opacity=\"1\" /><path clip-path=\"url(#clip290)\" d=\"M 0 0 M2194.62 208.584 Q2191.52 213.908 2190.01 219.116 Q2188.51 224.324 2188.51 229.672 Q2188.51 235.019 2190.01 240.273 Q2191.54 245.505 2194.62 250.806 L2190.91 250.806 Q2187.44 245.366 2185.71 240.111 Q2183.99 234.857 2183.99 229.672 Q2183.99 224.51 2185.71 219.278 Q2187.42 214.047 2190.91 208.584 L2194.62 208.584 Z\" fill=\"#000000\" fill-rule=\"evenodd\" fill-opacity=\"1\" /><path clip-path=\"url(#clip290)\" d=\"M 0 0 M2220.64 218.63 L2211.26 231.246 L2221.12 244.556 L2216.1 244.556 L2208.55 234.371 L2201.01 244.556 L2195.98 244.556 L2206.05 230.991 L2196.84 218.63 L2201.86 218.63 L2208.74 227.866 L2215.61 218.63 L2220.64 218.63 Z\" fill=\"#000000\" fill-rule=\"evenodd\" fill-opacity=\"1\" /><path clip-path=\"url(#clip290)\" d=\"M 0 0 M2224.92 208.584 L2228.62 208.584 Q2232.09 214.047 2233.81 219.278 Q2235.54 224.51 2235.54 229.672 Q2235.54 234.857 2233.81 240.111 Q2232.09 245.366 2228.62 250.806 L2224.92 250.806 Q2228 245.505 2229.5 240.273 Q2231.03 235.019 2231.03 229.672 Q2231.03 224.324 2229.5 219.116 Q2228 213.908 2224.92 208.584 Z\" fill=\"#000000\" fill-rule=\"evenodd\" fill-opacity=\"1\" /></svg>\n"
      ]
     },
     "execution_count": 28,
     "metadata": {},
     "output_type": "execute_result"
    }
   ],
   "source": [
    "I = 0.0:0.1:2π\n",
    "plot(I, sin.(I), xaxis=\"x\", yaxis=\"y\", label=\"y=sin(x)\",\n",
    "    title=\"Gráfico de y=sin(x) no intervalo (0, 2π)\")"
   ]
  },
  {
   "cell_type": "code",
   "execution_count": 29,
   "metadata": {
    "slideshow": {
     "slide_type": "slide"
    }
   },
   "outputs": [
    {
     "data": {
      "image/svg+xml": [
       "<?xml version=\"1.0\" encoding=\"utf-8\"?>\n",
       "<svg xmlns=\"http://www.w3.org/2000/svg\" xmlns:xlink=\"http://www.w3.org/1999/xlink\" width=\"600\" height=\"400\" viewBox=\"0 0 2400 1600\">\n",
       "<defs>\n",
       "  <clipPath id=\"clip330\">\n",
       "    <rect x=\"0\" y=\"0\" width=\"2400\" height=\"1600\"/>\n",
       "  </clipPath>\n",
       "</defs>\n",
       "<path clip-path=\"url(#clip330)\" d=\"\n",
       "M0 1600 L2400 1600 L2400 0 L0 0  Z\n",
       "  \" fill=\"#ffffff\" fill-rule=\"evenodd\" fill-opacity=\"1\"/>\n",
       "<defs>\n",
       "  <clipPath id=\"clip331\">\n",
       "    <rect x=\"480\" y=\"0\" width=\"1681\" height=\"1600\"/>\n",
       "  </clipPath>\n",
       "</defs>\n",
       "<path clip-path=\"url(#clip330)\" d=\"\n",
       "M242.922 1423.18 L2352.76 1423.18 L2352.76 123.472 L242.922 123.472  Z\n",
       "  \" fill=\"#eaeaea\" fill-rule=\"evenodd\" fill-opacity=\"1\"/>\n",
       "<defs>\n",
       "  <clipPath id=\"clip332\">\n",
       "    <rect x=\"242\" y=\"123\" width=\"2111\" height=\"1301\"/>\n",
       "  </clipPath>\n",
       "</defs>\n",
       "<polyline clip-path=\"url(#clip332)\" style=\"stroke:#ffffff; stroke-width:4; stroke-opacity:1; fill:none\" points=\"\n",
       "  302.634,1423.18 302.634,123.472 \n",
       "  \"/>\n",
       "<polyline clip-path=\"url(#clip332)\" style=\"stroke:#ffffff; stroke-width:4; stroke-opacity:1; fill:none\" points=\"\n",
       "  623.668,1423.18 623.668,123.472 \n",
       "  \"/>\n",
       "<polyline clip-path=\"url(#clip332)\" style=\"stroke:#ffffff; stroke-width:4; stroke-opacity:1; fill:none\" points=\"\n",
       "  944.702,1423.18 944.702,123.472 \n",
       "  \"/>\n",
       "<polyline clip-path=\"url(#clip332)\" style=\"stroke:#ffffff; stroke-width:4; stroke-opacity:1; fill:none\" points=\"\n",
       "  1265.74,1423.18 1265.74,123.472 \n",
       "  \"/>\n",
       "<polyline clip-path=\"url(#clip332)\" style=\"stroke:#ffffff; stroke-width:4; stroke-opacity:1; fill:none\" points=\"\n",
       "  1586.77,1423.18 1586.77,123.472 \n",
       "  \"/>\n",
       "<polyline clip-path=\"url(#clip332)\" style=\"stroke:#ffffff; stroke-width:4; stroke-opacity:1; fill:none\" points=\"\n",
       "  1907.8,1423.18 1907.8,123.472 \n",
       "  \"/>\n",
       "<polyline clip-path=\"url(#clip332)\" style=\"stroke:#ffffff; stroke-width:4; stroke-opacity:1; fill:none\" points=\"\n",
       "  2228.84,1423.18 2228.84,123.472 \n",
       "  \"/>\n",
       "<polyline clip-path=\"url(#clip332)\" style=\"stroke:#ffffff; stroke-width:2; stroke-opacity:1; fill:none\" points=\"\n",
       "  463.151,1423.18 463.151,123.472 \n",
       "  \"/>\n",
       "<polyline clip-path=\"url(#clip332)\" style=\"stroke:#ffffff; stroke-width:2; stroke-opacity:1; fill:none\" points=\"\n",
       "  784.185,1423.18 784.185,123.472 \n",
       "  \"/>\n",
       "<polyline clip-path=\"url(#clip332)\" style=\"stroke:#ffffff; stroke-width:2; stroke-opacity:1; fill:none\" points=\"\n",
       "  1105.22,1423.18 1105.22,123.472 \n",
       "  \"/>\n",
       "<polyline clip-path=\"url(#clip332)\" style=\"stroke:#ffffff; stroke-width:2; stroke-opacity:1; fill:none\" points=\"\n",
       "  1426.25,1423.18 1426.25,123.472 \n",
       "  \"/>\n",
       "<polyline clip-path=\"url(#clip332)\" style=\"stroke:#ffffff; stroke-width:2; stroke-opacity:1; fill:none\" points=\"\n",
       "  1747.29,1423.18 1747.29,123.472 \n",
       "  \"/>\n",
       "<polyline clip-path=\"url(#clip332)\" style=\"stroke:#ffffff; stroke-width:2; stroke-opacity:1; fill:none\" points=\"\n",
       "  2068.32,1423.18 2068.32,123.472 \n",
       "  \"/>\n",
       "<polyline clip-path=\"url(#clip330)\" style=\"stroke:#ffffff; stroke-width:4; stroke-opacity:1; fill:none\" points=\"\n",
       "  242.922,1423.18 2352.76,1423.18 \n",
       "  \"/>\n",
       "<polyline clip-path=\"url(#clip330)\" style=\"stroke:#333333; stroke-width:4; stroke-opacity:1; fill:none\" points=\"\n",
       "  302.634,1423.18 302.634,1438.78 \n",
       "  \"/>\n",
       "<polyline clip-path=\"url(#clip330)\" style=\"stroke:#333333; stroke-width:4; stroke-opacity:1; fill:none\" points=\"\n",
       "  623.668,1423.18 623.668,1438.78 \n",
       "  \"/>\n",
       "<polyline clip-path=\"url(#clip330)\" style=\"stroke:#333333; stroke-width:4; stroke-opacity:1; fill:none\" points=\"\n",
       "  944.702,1423.18 944.702,1438.78 \n",
       "  \"/>\n",
       "<polyline clip-path=\"url(#clip330)\" style=\"stroke:#333333; stroke-width:4; stroke-opacity:1; fill:none\" points=\"\n",
       "  1265.74,1423.18 1265.74,1438.78 \n",
       "  \"/>\n",
       "<polyline clip-path=\"url(#clip330)\" style=\"stroke:#333333; stroke-width:4; stroke-opacity:1; fill:none\" points=\"\n",
       "  1586.77,1423.18 1586.77,1438.78 \n",
       "  \"/>\n",
       "<polyline clip-path=\"url(#clip330)\" style=\"stroke:#333333; stroke-width:4; stroke-opacity:1; fill:none\" points=\"\n",
       "  1907.8,1423.18 1907.8,1438.78 \n",
       "  \"/>\n",
       "<polyline clip-path=\"url(#clip330)\" style=\"stroke:#333333; stroke-width:4; stroke-opacity:1; fill:none\" points=\"\n",
       "  2228.84,1423.18 2228.84,1438.78 \n",
       "  \"/>\n",
       "<polyline clip-path=\"url(#clip330)\" style=\"stroke:#333333; stroke-width:4; stroke-opacity:1; fill:none\" points=\"\n",
       "  463.151,1423.18 463.151,1430.98 \n",
       "  \"/>\n",
       "<polyline clip-path=\"url(#clip330)\" style=\"stroke:#333333; stroke-width:4; stroke-opacity:1; fill:none\" points=\"\n",
       "  784.185,1423.18 784.185,1430.98 \n",
       "  \"/>\n",
       "<polyline clip-path=\"url(#clip330)\" style=\"stroke:#333333; stroke-width:4; stroke-opacity:1; fill:none\" points=\"\n",
       "  1105.22,1423.18 1105.22,1430.98 \n",
       "  \"/>\n",
       "<polyline clip-path=\"url(#clip330)\" style=\"stroke:#333333; stroke-width:4; stroke-opacity:1; fill:none\" points=\"\n",
       "  1426.25,1423.18 1426.25,1430.98 \n",
       "  \"/>\n",
       "<polyline clip-path=\"url(#clip330)\" style=\"stroke:#333333; stroke-width:4; stroke-opacity:1; fill:none\" points=\"\n",
       "  1747.29,1423.18 1747.29,1430.98 \n",
       "  \"/>\n",
       "<polyline clip-path=\"url(#clip330)\" style=\"stroke:#333333; stroke-width:4; stroke-opacity:1; fill:none\" points=\"\n",
       "  2068.32,1423.18 2068.32,1430.98 \n",
       "  \"/>\n",
       "<path clip-path=\"url(#clip330)\" d=\"M 0 0 M302.634 1461.97 Q299.023 1461.97 297.194 1465.54 Q295.389 1469.08 295.389 1476.21 Q295.389 1483.31 297.194 1486.88 Q299.023 1490.42 302.634 1490.42 Q306.268 1490.42 308.074 1486.88 Q309.902 1483.31 309.902 1476.21 Q309.902 1469.08 308.074 1465.54 Q306.268 1461.97 302.634 1461.97 M302.634 1458.27 Q308.444 1458.27 311.5 1462.87 Q314.578 1467.46 314.578 1476.21 Q314.578 1484.93 311.5 1489.54 Q308.444 1494.12 302.634 1494.12 Q296.824 1494.12 293.745 1489.54 Q290.69 1484.93 290.69 1476.21 Q290.69 1467.46 293.745 1462.87 Q296.824 1458.27 302.634 1458.27 Z\" fill=\"#4c4c4c\" fill-rule=\"evenodd\" fill-opacity=\"1\" /><path clip-path=\"url(#clip330)\" d=\"M 0 0 M614.05 1489.52 L621.689 1489.52 L621.689 1463.15 L613.379 1464.82 L613.379 1460.56 L621.642 1458.89 L626.318 1458.89 L626.318 1489.52 L633.957 1489.52 L633.957 1493.45 L614.05 1493.45 L614.05 1489.52 Z\" fill=\"#4c4c4c\" fill-rule=\"evenodd\" fill-opacity=\"1\" /><path clip-path=\"url(#clip330)\" d=\"M 0 0 M939.354 1489.52 L955.674 1489.52 L955.674 1493.45 L933.729 1493.45 L933.729 1489.52 Q936.391 1486.76 940.975 1482.13 Q945.581 1477.48 946.762 1476.14 Q949.007 1473.61 949.887 1471.88 Q950.79 1470.12 950.79 1468.43 Q950.79 1465.67 948.845 1463.94 Q946.924 1462.2 943.822 1462.2 Q941.623 1462.2 939.169 1462.97 Q936.739 1463.73 933.961 1465.28 L933.961 1460.56 Q936.785 1459.42 939.239 1458.85 Q941.692 1458.27 943.729 1458.27 Q949.1 1458.27 952.294 1460.95 Q955.489 1463.64 955.489 1468.13 Q955.489 1470.26 954.678 1472.18 Q953.891 1474.08 951.785 1476.67 Q951.206 1477.34 948.104 1480.56 Q945.003 1483.75 939.354 1489.52 Z\" fill=\"#4c4c4c\" fill-rule=\"evenodd\" fill-opacity=\"1\" /><path clip-path=\"url(#clip330)\" d=\"M 0 0 M1269.98 1474.82 Q1273.34 1475.54 1275.21 1477.8 Q1277.11 1480.07 1277.11 1483.41 Q1277.11 1488.52 1273.59 1491.32 Q1270.08 1494.12 1263.59 1494.12 Q1261.42 1494.12 1259.1 1493.68 Q1256.81 1493.27 1254.36 1492.41 L1254.36 1487.9 Q1256.3 1489.03 1258.62 1489.61 Q1260.93 1490.19 1263.46 1490.19 Q1267.85 1490.19 1270.15 1488.45 Q1272.46 1486.72 1272.46 1483.41 Q1272.46 1480.35 1270.31 1478.64 Q1268.18 1476.9 1264.36 1476.9 L1260.33 1476.9 L1260.33 1473.06 L1264.54 1473.06 Q1267.99 1473.06 1269.82 1471.69 Q1271.65 1470.3 1271.65 1467.71 Q1271.65 1465.05 1269.75 1463.64 Q1267.88 1462.2 1264.36 1462.2 Q1262.44 1462.2 1260.24 1462.62 Q1258.04 1463.04 1255.4 1463.91 L1255.4 1459.75 Q1258.06 1459.01 1260.38 1458.64 Q1262.71 1458.27 1264.77 1458.27 Q1270.1 1458.27 1273.2 1460.7 Q1276.3 1463.1 1276.3 1467.23 Q1276.3 1470.1 1274.66 1472.09 Q1273.02 1474.05 1269.98 1474.82 Z\" fill=\"#4c4c4c\" fill-rule=\"evenodd\" fill-opacity=\"1\" /><path clip-path=\"url(#clip330)\" d=\"M 0 0 M1589.78 1462.97 L1577.97 1481.41 L1589.78 1481.41 L1589.78 1462.97 M1588.55 1458.89 L1594.43 1458.89 L1594.43 1481.41 L1599.36 1481.41 L1599.36 1485.3 L1594.43 1485.3 L1594.43 1493.45 L1589.78 1493.45 L1589.78 1485.3 L1574.18 1485.3 L1574.18 1480.79 L1588.55 1458.89 Z\" fill=\"#4c4c4c\" fill-rule=\"evenodd\" fill-opacity=\"1\" /><path clip-path=\"url(#clip330)\" d=\"M 0 0 M1898.08 1458.89 L1916.44 1458.89 L1916.44 1462.83 L1902.36 1462.83 L1902.36 1471.3 Q1903.38 1470.95 1904.4 1470.79 Q1905.42 1470.6 1906.44 1470.6 Q1912.22 1470.6 1915.6 1473.78 Q1918.98 1476.95 1918.98 1482.36 Q1918.98 1487.94 1915.51 1491.04 Q1912.04 1494.12 1905.72 1494.12 Q1903.54 1494.12 1901.28 1493.75 Q1899.03 1493.38 1896.62 1492.64 L1896.62 1487.94 Q1898.71 1489.08 1900.93 1489.63 Q1903.15 1490.19 1905.63 1490.19 Q1909.63 1490.19 1911.97 1488.08 Q1914.31 1485.98 1914.31 1482.36 Q1914.31 1478.75 1911.97 1476.65 Q1909.63 1474.54 1905.63 1474.54 Q1903.75 1474.54 1901.88 1474.96 Q1900.03 1475.37 1898.08 1476.25 L1898.08 1458.89 Z\" fill=\"#4c4c4c\" fill-rule=\"evenodd\" fill-opacity=\"1\" /><path clip-path=\"url(#clip330)\" d=\"M 0 0 M2229.24 1474.31 Q2226.09 1474.31 2224.24 1476.46 Q2222.41 1478.61 2222.41 1482.36 Q2222.41 1486.09 2224.24 1488.27 Q2226.09 1490.42 2229.24 1490.42 Q2232.39 1490.42 2234.22 1488.27 Q2236.07 1486.09 2236.07 1482.36 Q2236.07 1478.61 2234.22 1476.46 Q2232.39 1474.31 2229.24 1474.31 M2238.52 1459.66 L2238.52 1463.91 Q2236.77 1463.08 2234.96 1462.64 Q2233.18 1462.2 2231.42 1462.2 Q2226.79 1462.2 2224.33 1465.33 Q2221.9 1468.45 2221.56 1474.77 Q2222.92 1472.76 2224.98 1471.69 Q2227.04 1470.6 2229.52 1470.6 Q2234.73 1470.6 2237.74 1473.78 Q2240.77 1476.92 2240.77 1482.36 Q2240.77 1487.69 2237.62 1490.91 Q2234.47 1494.12 2229.24 1494.12 Q2223.25 1494.12 2220.08 1489.54 Q2216.9 1484.93 2216.9 1476.21 Q2216.9 1468.01 2220.79 1463.15 Q2224.68 1458.27 2231.23 1458.27 Q2232.99 1458.27 2234.77 1458.61 Q2236.58 1458.96 2238.52 1459.66 Z\" fill=\"#4c4c4c\" fill-rule=\"evenodd\" fill-opacity=\"1\" /><path clip-path=\"url(#clip330)\" d=\"M 0 0 M1314.45 1532.4 L1301.56 1549.74 L1315.12 1568.04 L1308.21 1568.04 L1297.84 1554.04 L1287.46 1568.04 L1280.56 1568.04 L1294.4 1549.39 L1281.73 1532.4 L1288.64 1532.4 L1298.09 1545.1 L1307.55 1532.4 L1314.45 1532.4 Z\" fill=\"#000000\" fill-rule=\"evenodd\" fill-opacity=\"1\" /><polyline clip-path=\"url(#clip332)\" style=\"stroke:#ffffff; stroke-width:4; stroke-opacity:1; fill:none\" points=\"\n",
       "  242.922,1386.44 2352.76,1386.44 \n",
       "  \"/>\n",
       "<polyline clip-path=\"url(#clip332)\" style=\"stroke:#ffffff; stroke-width:4; stroke-opacity:1; fill:none\" points=\"\n",
       "  242.922,1079.9 2352.76,1079.9 \n",
       "  \"/>\n",
       "<polyline clip-path=\"url(#clip332)\" style=\"stroke:#ffffff; stroke-width:4; stroke-opacity:1; fill:none\" points=\"\n",
       "  242.922,773.35 2352.76,773.35 \n",
       "  \"/>\n",
       "<polyline clip-path=\"url(#clip332)\" style=\"stroke:#ffffff; stroke-width:4; stroke-opacity:1; fill:none\" points=\"\n",
       "  242.922,466.803 2352.76,466.803 \n",
       "  \"/>\n",
       "<polyline clip-path=\"url(#clip332)\" style=\"stroke:#ffffff; stroke-width:4; stroke-opacity:1; fill:none\" points=\"\n",
       "  242.922,160.256 2352.76,160.256 \n",
       "  \"/>\n",
       "<polyline clip-path=\"url(#clip332)\" style=\"stroke:#ffffff; stroke-width:2; stroke-opacity:1; fill:none\" points=\"\n",
       "  242.922,1233.17 2352.76,1233.17 \n",
       "  \"/>\n",
       "<polyline clip-path=\"url(#clip332)\" style=\"stroke:#ffffff; stroke-width:2; stroke-opacity:1; fill:none\" points=\"\n",
       "  242.922,926.623 2352.76,926.623 \n",
       "  \"/>\n",
       "<polyline clip-path=\"url(#clip332)\" style=\"stroke:#ffffff; stroke-width:2; stroke-opacity:1; fill:none\" points=\"\n",
       "  242.922,620.076 2352.76,620.076 \n",
       "  \"/>\n",
       "<polyline clip-path=\"url(#clip332)\" style=\"stroke:#ffffff; stroke-width:2; stroke-opacity:1; fill:none\" points=\"\n",
       "  242.922,313.53 2352.76,313.53 \n",
       "  \"/>\n",
       "<polyline clip-path=\"url(#clip330)\" style=\"stroke:#ffffff; stroke-width:4; stroke-opacity:1; fill:none\" points=\"\n",
       "  242.922,1423.18 242.922,123.472 \n",
       "  \"/>\n",
       "<polyline clip-path=\"url(#clip330)\" style=\"stroke:#333333; stroke-width:4; stroke-opacity:1; fill:none\" points=\"\n",
       "  242.922,1386.44 217.604,1386.44 \n",
       "  \"/>\n",
       "<polyline clip-path=\"url(#clip330)\" style=\"stroke:#333333; stroke-width:4; stroke-opacity:1; fill:none\" points=\"\n",
       "  242.922,1079.9 217.604,1079.9 \n",
       "  \"/>\n",
       "<polyline clip-path=\"url(#clip330)\" style=\"stroke:#333333; stroke-width:4; stroke-opacity:1; fill:none\" points=\"\n",
       "  242.922,773.35 217.604,773.35 \n",
       "  \"/>\n",
       "<polyline clip-path=\"url(#clip330)\" style=\"stroke:#333333; stroke-width:4; stroke-opacity:1; fill:none\" points=\"\n",
       "  242.922,466.803 217.604,466.803 \n",
       "  \"/>\n",
       "<polyline clip-path=\"url(#clip330)\" style=\"stroke:#333333; stroke-width:4; stroke-opacity:1; fill:none\" points=\"\n",
       "  242.922,160.256 217.604,160.256 \n",
       "  \"/>\n",
       "<polyline clip-path=\"url(#clip330)\" style=\"stroke:#333333; stroke-width:4; stroke-opacity:1; fill:none\" points=\"\n",
       "  242.922,1233.17 230.263,1233.17 \n",
       "  \"/>\n",
       "<polyline clip-path=\"url(#clip330)\" style=\"stroke:#333333; stroke-width:4; stroke-opacity:1; fill:none\" points=\"\n",
       "  242.922,926.623 230.263,926.623 \n",
       "  \"/>\n",
       "<polyline clip-path=\"url(#clip330)\" style=\"stroke:#333333; stroke-width:4; stroke-opacity:1; fill:none\" points=\"\n",
       "  242.922,620.076 230.263,620.076 \n",
       "  \"/>\n",
       "<polyline clip-path=\"url(#clip330)\" style=\"stroke:#333333; stroke-width:4; stroke-opacity:1; fill:none\" points=\"\n",
       "  242.922,313.53 230.263,313.53 \n",
       "  \"/>\n",
       "<path clip-path=\"url(#clip330)\" d=\"M 0 0 M96.4916 1386.89 L126.167 1386.89 L126.167 1390.83 L96.4916 1390.83 L96.4916 1386.89 Z\" fill=\"#4c4c4c\" fill-rule=\"evenodd\" fill-opacity=\"1\" /><path clip-path=\"url(#clip330)\" d=\"M 0 0 M132.047 1399.79 L139.686 1399.79 L139.686 1373.42 L131.376 1375.09 L131.376 1370.83 L139.64 1369.16 L144.315 1369.16 L144.315 1399.79 L151.954 1399.79 L151.954 1403.72 L132.047 1403.72 L132.047 1399.79 Z\" fill=\"#4c4c4c\" fill-rule=\"evenodd\" fill-opacity=\"1\" /><path clip-path=\"url(#clip330)\" d=\"M 0 0 M157.024 1397.84 L161.908 1397.84 L161.908 1403.72 L157.024 1403.72 L157.024 1397.84 Z\" fill=\"#4c4c4c\" fill-rule=\"evenodd\" fill-opacity=\"1\" /><path clip-path=\"url(#clip330)\" d=\"M 0 0 M176.977 1372.24 Q173.366 1372.24 171.538 1375.81 Q169.732 1379.35 169.732 1386.48 Q169.732 1393.58 171.538 1397.15 Q173.366 1400.69 176.977 1400.69 Q180.612 1400.69 182.417 1397.15 Q184.246 1393.58 184.246 1386.48 Q184.246 1379.35 182.417 1375.81 Q180.612 1372.24 176.977 1372.24 M176.977 1368.54 Q182.787 1368.54 185.843 1373.14 Q188.922 1377.73 188.922 1386.48 Q188.922 1395.2 185.843 1399.81 Q182.787 1404.39 176.977 1404.39 Q171.167 1404.39 168.088 1399.81 Q165.033 1395.2 165.033 1386.48 Q165.033 1377.73 168.088 1373.14 Q171.167 1368.54 176.977 1368.54 Z\" fill=\"#4c4c4c\" fill-rule=\"evenodd\" fill-opacity=\"1\" /><path clip-path=\"url(#clip330)\" d=\"M 0 0 M96.2602 1080.35 L125.936 1080.35 L125.936 1084.28 L96.2602 1084.28 L96.2602 1080.35 Z\" fill=\"#4c4c4c\" fill-rule=\"evenodd\" fill-opacity=\"1\" /><path clip-path=\"url(#clip330)\" d=\"M 0 0 M141.005 1065.69 Q137.394 1065.69 135.566 1069.26 Q133.76 1072.8 133.76 1079.93 Q133.76 1087.04 135.566 1090.6 Q137.394 1094.14 141.005 1094.14 Q144.64 1094.14 146.445 1090.6 Q148.274 1087.04 148.274 1079.93 Q148.274 1072.8 146.445 1069.26 Q144.64 1065.69 141.005 1065.69 M141.005 1061.99 Q146.815 1061.99 149.871 1066.6 Q152.95 1071.18 152.95 1079.93 Q152.95 1088.66 149.871 1093.26 Q146.815 1097.85 141.005 1097.85 Q135.195 1097.85 132.116 1093.26 Q129.061 1088.66 129.061 1079.93 Q129.061 1071.18 132.116 1066.6 Q135.195 1061.99 141.005 1061.99 Z\" fill=\"#4c4c4c\" fill-rule=\"evenodd\" fill-opacity=\"1\" /><path clip-path=\"url(#clip330)\" d=\"M 0 0 M158.019 1091.3 L162.903 1091.3 L162.903 1097.18 L158.019 1097.18 L158.019 1091.3 Z\" fill=\"#4c4c4c\" fill-rule=\"evenodd\" fill-opacity=\"1\" /><path clip-path=\"url(#clip330)\" d=\"M 0 0 M168.019 1062.62 L186.375 1062.62 L186.375 1066.55 L172.301 1066.55 L172.301 1075.02 Q173.32 1074.68 174.338 1074.51 Q175.357 1074.33 176.375 1074.33 Q182.162 1074.33 185.542 1077.5 Q188.922 1080.67 188.922 1086.09 Q188.922 1091.67 185.449 1094.77 Q181.977 1097.85 175.658 1097.85 Q173.482 1097.85 171.213 1097.48 Q168.968 1097.11 166.561 1096.37 L166.561 1091.67 Q168.644 1092.8 170.866 1093.36 Q173.088 1093.91 175.565 1093.91 Q179.57 1093.91 181.908 1091.81 Q184.246 1089.7 184.246 1086.09 Q184.246 1082.48 181.908 1080.37 Q179.57 1078.26 175.565 1078.26 Q173.69 1078.26 171.815 1078.68 Q169.963 1079.1 168.019 1079.98 L168.019 1062.62 Z\" fill=\"#4c4c4c\" fill-rule=\"evenodd\" fill-opacity=\"1\" /><path clip-path=\"url(#clip330)\" d=\"M 0 0 M140.01 759.148 Q136.399 759.148 134.57 762.713 Q132.765 766.255 132.765 773.384 Q132.765 780.491 134.57 784.055 Q136.399 787.597 140.01 787.597 Q143.644 787.597 145.45 784.055 Q147.278 780.491 147.278 773.384 Q147.278 766.255 145.45 762.713 Q143.644 759.148 140.01 759.148 M140.01 755.445 Q145.82 755.445 148.876 760.051 Q151.954 764.634 151.954 773.384 Q151.954 782.111 148.876 786.717 Q145.82 791.301 140.01 791.301 Q134.2 791.301 131.121 786.717 Q128.066 782.111 128.066 773.384 Q128.066 764.634 131.121 760.051 Q134.2 755.445 140.01 755.445 Z\" fill=\"#4c4c4c\" fill-rule=\"evenodd\" fill-opacity=\"1\" /><path clip-path=\"url(#clip330)\" d=\"M 0 0 M157.024 784.75 L161.908 784.75 L161.908 790.63 L157.024 790.63 L157.024 784.75 Z\" fill=\"#4c4c4c\" fill-rule=\"evenodd\" fill-opacity=\"1\" /><path clip-path=\"url(#clip330)\" d=\"M 0 0 M176.977 759.148 Q173.366 759.148 171.538 762.713 Q169.732 766.255 169.732 773.384 Q169.732 780.491 171.538 784.055 Q173.366 787.597 176.977 787.597 Q180.612 787.597 182.417 784.055 Q184.246 780.491 184.246 773.384 Q184.246 766.255 182.417 762.713 Q180.612 759.148 176.977 759.148 M176.977 755.445 Q182.787 755.445 185.843 760.051 Q188.922 764.634 188.922 773.384 Q188.922 782.111 185.843 786.717 Q182.787 791.301 176.977 791.301 Q171.167 791.301 168.088 786.717 Q165.033 782.111 165.033 773.384 Q165.033 764.634 168.088 760.051 Q171.167 755.445 176.977 755.445 Z\" fill=\"#4c4c4c\" fill-rule=\"evenodd\" fill-opacity=\"1\" /><path clip-path=\"url(#clip330)\" d=\"M 0 0 M141.005 452.602 Q137.394 452.602 135.566 456.166 Q133.76 459.708 133.76 466.838 Q133.76 473.944 135.566 477.509 Q137.394 481.051 141.005 481.051 Q144.64 481.051 146.445 477.509 Q148.274 473.944 148.274 466.838 Q148.274 459.708 146.445 456.166 Q144.64 452.602 141.005 452.602 M141.005 448.898 Q146.815 448.898 149.871 453.504 Q152.95 458.088 152.95 466.838 Q152.95 475.564 149.871 480.171 Q146.815 484.754 141.005 484.754 Q135.195 484.754 132.116 480.171 Q129.061 475.564 129.061 466.838 Q129.061 458.088 132.116 453.504 Q135.195 448.898 141.005 448.898 Z\" fill=\"#4c4c4c\" fill-rule=\"evenodd\" fill-opacity=\"1\" /><path clip-path=\"url(#clip330)\" d=\"M 0 0 M158.019 478.203 L162.903 478.203 L162.903 484.083 L158.019 484.083 L158.019 478.203 Z\" fill=\"#4c4c4c\" fill-rule=\"evenodd\" fill-opacity=\"1\" /><path clip-path=\"url(#clip330)\" d=\"M 0 0 M168.019 449.523 L186.375 449.523 L186.375 453.458 L172.301 453.458 L172.301 461.93 Q173.32 461.583 174.338 461.421 Q175.357 461.236 176.375 461.236 Q182.162 461.236 185.542 464.407 Q188.922 467.578 188.922 472.995 Q188.922 478.574 185.449 481.676 Q181.977 484.754 175.658 484.754 Q173.482 484.754 171.213 484.384 Q168.968 484.013 166.561 483.273 L166.561 478.574 Q168.644 479.708 170.866 480.263 Q173.088 480.819 175.565 480.819 Q179.57 480.819 181.908 478.713 Q184.246 476.606 184.246 472.995 Q184.246 469.384 181.908 467.277 Q179.57 465.171 175.565 465.171 Q173.69 465.171 171.815 465.588 Q169.963 466.004 168.019 466.884 L168.019 449.523 Z\" fill=\"#4c4c4c\" fill-rule=\"evenodd\" fill-opacity=\"1\" /><path clip-path=\"url(#clip330)\" d=\"M 0 0 M132.047 173.601 L139.686 173.601 L139.686 147.236 L131.376 148.902 L131.376 144.643 L139.64 142.976 L144.315 142.976 L144.315 173.601 L151.954 173.601 L151.954 177.536 L132.047 177.536 L132.047 173.601 Z\" fill=\"#4c4c4c\" fill-rule=\"evenodd\" fill-opacity=\"1\" /><path clip-path=\"url(#clip330)\" d=\"M 0 0 M157.024 171.657 L161.908 171.657 L161.908 177.536 L157.024 177.536 L157.024 171.657 Z\" fill=\"#4c4c4c\" fill-rule=\"evenodd\" fill-opacity=\"1\" /><path clip-path=\"url(#clip330)\" d=\"M 0 0 M176.977 146.055 Q173.366 146.055 171.538 149.62 Q169.732 153.161 169.732 160.291 Q169.732 167.397 171.538 170.962 Q173.366 174.504 176.977 174.504 Q180.612 174.504 182.417 170.962 Q184.246 167.397 184.246 160.291 Q184.246 153.161 182.417 149.62 Q180.612 146.055 176.977 146.055 M176.977 142.351 Q182.787 142.351 185.843 146.958 Q188.922 151.541 188.922 160.291 Q188.922 169.018 185.843 173.624 Q182.787 178.208 176.977 178.208 Q171.167 178.208 168.088 173.624 Q165.033 169.018 165.033 160.291 Q165.033 151.541 168.088 146.958 Q171.167 142.351 176.977 142.351 Z\" fill=\"#4c4c4c\" fill-rule=\"evenodd\" fill-opacity=\"1\" /><path clip-path=\"url(#clip330)\" d=\"M 0 0 M67.3143 771.639 Q73.68 774.122 75.6216 776.477 Q77.5631 778.832 77.5631 782.779 L77.5631 787.458 L72.6615 787.458 L72.6615 784.02 Q72.6615 781.601 71.5157 780.265 Q70.3699 778.928 66.1048 777.305 L63.4312 776.254 L28.3562 790.673 L28.3562 784.466 L56.238 773.326 L28.3562 762.186 L28.3562 755.979 L67.3143 771.639 Z\" fill=\"#000000\" fill-rule=\"evenodd\" fill-opacity=\"1\" /><path clip-path=\"url(#clip330)\" d=\"M 0 0 M387.256 63.9476 L387.256 47.7034 L373.888 47.7034 L373.888 40.9789 L395.358 40.9789 L395.358 66.9452 Q390.619 70.3075 384.907 72.0494 Q379.195 73.7508 372.714 73.7508 Q358.535 73.7508 350.515 65.4869 Q342.534 57.1826 342.534 42.3968 Q342.534 27.5705 350.515 19.3066 Q358.535 11.0023 372.714 11.0023 Q378.628 11.0023 383.935 12.4606 Q389.282 13.9189 393.778 16.7545 L393.778 25.464 Q389.241 21.6156 384.137 19.6712 Q379.033 17.7268 373.402 17.7268 Q362.303 17.7268 356.712 23.9246 Q351.163 30.1225 351.163 42.3968 Q351.163 54.6305 356.712 60.8284 Q362.303 67.0263 373.402 67.0263 Q377.737 67.0263 381.139 66.2971 Q384.542 65.5274 387.256 63.9476 Z\" fill=\"#000000\" fill-rule=\"evenodd\" fill-opacity=\"1\" /><path clip-path=\"url(#clip330)\" d=\"M 0 0 M429.467 34.1734 Q428.211 33.4443 426.712 33.1202 Q425.254 32.7556 423.471 32.7556 Q417.152 32.7556 413.749 36.8875 Q410.387 40.9789 410.387 48.6757 L410.387 72.576 L402.893 72.576 L402.893 27.2059 L410.387 27.2059 L410.387 34.2544 Q412.736 30.1225 416.504 28.1376 Q420.271 26.1121 425.659 26.1121 Q426.429 26.1121 427.36 26.2337 Q428.292 26.3147 429.426 26.5172 L429.467 34.1734 Z\" fill=\"#000000\" fill-rule=\"evenodd\" fill-opacity=\"1\" /><path clip-path=\"url(#clip330)\" d=\"M 0 0 M457.904 49.7694 Q448.871 49.7694 445.387 51.8354 Q441.903 53.9013 441.903 58.8839 Q441.903 62.8538 444.496 65.2034 Q447.129 67.5124 451.625 67.5124 Q457.823 67.5124 461.55 63.1374 Q465.317 58.7219 465.317 51.4303 L465.317 49.7694 L457.904 49.7694 M472.771 46.6907 L472.771 72.576 L465.317 72.576 L465.317 65.6895 Q462.765 69.8214 458.957 71.8063 Q455.149 73.7508 449.64 73.7508 Q442.673 73.7508 438.541 69.8619 Q434.449 65.9325 434.449 59.3701 Q434.449 51.7138 439.553 47.825 Q444.698 43.9361 454.866 43.9361 L465.317 43.9361 L465.317 43.2069 Q465.317 38.0623 461.914 35.2672 Q458.552 32.4315 452.435 32.4315 Q448.546 32.4315 444.86 33.3632 Q441.174 34.295 437.771 36.1584 L437.771 29.2718 Q441.862 27.692 445.711 26.9223 Q449.559 26.1121 453.205 26.1121 Q463.049 26.1121 467.91 31.2163 Q472.771 36.3204 472.771 46.6907 M459.16 6.22219 L467.221 6.22219 L454.015 21.4536 L447.817 21.4536 L459.16 6.22219 Z\" fill=\"#000000\" fill-rule=\"evenodd\" fill-opacity=\"1\" /><path clip-path=\"url(#clip330)\" d=\"M 0 0 M503.558 9.54393 L503.558 15.7418 L496.428 15.7418 Q492.418 15.7418 490.838 17.3622 Q489.299 18.9825 489.299 23.1955 L489.299 27.2059 L501.573 27.2059 L501.573 32.9987 L489.299 32.9987 L489.299 72.576 L481.804 72.576 L481.804 32.9987 L474.675 32.9987 L474.675 27.2059 L481.804 27.2059 L481.804 24.0462 Q481.804 16.471 485.329 13.0277 Q488.853 9.54393 496.509 9.54393 L503.558 9.54393 Z\" fill=\"#000000\" fill-rule=\"evenodd\" fill-opacity=\"1\" /><path clip-path=\"url(#clip330)\" d=\"M 0 0 M511.376 27.2059 L518.83 27.2059 L518.83 72.576 L511.376 72.576 L511.376 27.2059 M511.376 9.54393 L518.83 9.54393 L518.83 18.9825 L511.376 18.9825 L511.376 9.54393 Z\" fill=\"#000000\" fill-rule=\"evenodd\" fill-opacity=\"1\" /><path clip-path=\"url(#clip330)\" d=\"M 0 0 M559.298 28.9478 L559.298 35.9153 Q556.138 34.1734 552.938 33.3227 Q549.779 32.4315 546.538 32.4315 Q539.287 32.4315 535.276 37.0496 Q531.266 41.6271 531.266 49.9314 Q531.266 58.2358 535.276 62.8538 Q539.287 67.4314 546.538 67.4314 Q549.779 67.4314 552.938 66.5807 Q556.138 65.6895 559.298 63.9476 L559.298 70.8341 Q556.179 72.2924 552.817 73.0216 Q549.495 73.7508 545.728 73.7508 Q535.479 73.7508 529.443 67.3098 Q523.407 60.8689 523.407 49.9314 Q523.407 38.832 529.484 32.472 Q535.6 26.1121 546.214 26.1121 Q549.657 26.1121 552.938 26.8413 Q556.22 27.5299 559.298 28.9478 Z\" fill=\"#000000\" fill-rule=\"evenodd\" fill-opacity=\"1\" /><path clip-path=\"url(#clip330)\" d=\"M 0 0 M584.697 32.4315 Q578.702 32.4315 575.218 37.1306 Q571.734 41.7891 571.734 49.9314 Q571.734 58.0738 575.178 62.7728 Q578.662 67.4314 584.697 67.4314 Q590.652 67.4314 594.136 62.7323 Q597.62 58.0333 597.62 49.9314 Q597.62 41.8701 594.136 37.1711 Q590.652 32.4315 584.697 32.4315 M584.697 26.1121 Q594.42 26.1121 599.969 32.4315 Q605.519 38.7509 605.519 49.9314 Q605.519 61.0714 599.969 67.4314 Q594.42 73.7508 584.697 73.7508 Q574.935 73.7508 569.385 67.4314 Q563.876 61.0714 563.876 49.9314 Q563.876 38.7509 569.385 32.4315 Q574.935 26.1121 584.697 26.1121 Z\" fill=\"#000000\" fill-rule=\"evenodd\" fill-opacity=\"1\" /><path clip-path=\"url(#clip330)\" d=\"M 0 0 M642.261 28.5427 L642.261 35.5912 Q639.101 33.9709 635.698 33.1607 Q632.295 32.3505 628.65 32.3505 Q623.1 32.3505 620.305 34.0519 Q617.55 35.7533 617.55 39.156 Q617.55 41.7486 619.535 43.2475 Q621.52 44.7058 627.515 46.0426 L630.067 46.6097 Q638.007 48.3111 641.329 51.4303 Q644.691 54.509 644.691 60.0587 Q644.691 66.3781 639.668 70.0644 Q634.686 73.7508 625.936 73.7508 Q622.29 73.7508 618.32 73.0216 Q614.39 72.3329 610.016 70.9151 L610.016 63.2184 Q614.147 65.3654 618.158 66.4591 Q622.168 67.5124 626.098 67.5124 Q631.364 67.5124 634.199 65.73 Q637.035 63.9071 637.035 60.6258 Q637.035 57.5877 634.969 55.9673 Q632.944 54.3469 626.017 52.8481 L623.424 52.2405 Q616.497 50.7821 613.418 47.7845 Q610.34 44.7463 610.34 39.4801 Q610.34 33.0797 614.877 29.5959 Q619.414 26.1121 627.758 26.1121 Q631.89 26.1121 635.536 26.7198 Q639.182 27.3274 642.261 28.5427 Z\" fill=\"#000000\" fill-rule=\"evenodd\" fill-opacity=\"1\" /><path clip-path=\"url(#clip330)\" d=\"M 0 0 M708.736 34.0924 L708.736 9.54393 L716.19 9.54393 L716.19 72.576 L708.736 72.576 L708.736 65.7705 Q706.387 69.8214 702.781 71.8063 Q699.216 73.7508 694.193 73.7508 Q685.97 73.7508 680.785 67.1883 Q675.64 60.6258 675.64 49.9314 Q675.64 39.2371 680.785 32.6746 Q685.97 26.1121 694.193 26.1121 Q699.216 26.1121 702.781 28.0971 Q706.387 30.0415 708.736 34.0924 M683.337 49.9314 Q683.337 58.1548 686.699 62.8538 Q690.102 67.5124 696.016 67.5124 Q701.931 67.5124 705.333 62.8538 Q708.736 58.1548 708.736 49.9314 Q708.736 41.7081 705.333 37.0496 Q701.931 32.3505 696.016 32.3505 Q690.102 32.3505 686.699 37.0496 Q683.337 41.7081 683.337 49.9314 Z\" fill=\"#000000\" fill-rule=\"evenodd\" fill-opacity=\"1\" /><path clip-path=\"url(#clip330)\" d=\"M 0 0 M762.816 48.0275 L762.816 51.6733 L728.545 51.6733 Q729.031 59.3701 733.163 63.421 Q737.335 67.4314 744.749 67.4314 Q749.043 67.4314 753.053 66.3781 Q757.104 65.3249 761.074 63.2184 L761.074 70.267 Q757.063 71.9684 752.85 72.8596 Q748.637 73.7508 744.303 73.7508 Q733.447 73.7508 727.087 67.4314 Q720.767 61.1119 720.767 50.3365 Q720.767 39.1965 726.763 32.6746 Q732.798 26.1121 743.007 26.1121 Q752.162 26.1121 757.468 32.0264 Q762.816 37.9003 762.816 48.0275 M755.362 45.84 Q755.281 39.7232 751.919 36.0774 Q748.597 32.4315 743.088 32.4315 Q736.849 32.4315 733.082 35.9558 Q729.355 39.4801 728.788 45.8805 L755.362 45.84 Z\" fill=\"#000000\" fill-rule=\"evenodd\" fill-opacity=\"1\" /><path clip-path=\"url(#clip330)\" d=\"M 0 0 M815.882 76.7889 Q812.723 84.8907 809.725 87.3618 Q806.727 89.8329 801.704 89.8329 L795.749 89.8329 L795.749 83.5945 L800.124 83.5945 Q803.203 83.5945 804.905 82.1361 Q806.606 80.6778 808.672 75.2496 L810.009 71.8468 L791.658 27.2059 L799.557 27.2059 L813.735 62.6918 L827.914 27.2059 L835.813 27.2059 L815.882 76.7889 Z\" fill=\"#000000\" fill-rule=\"evenodd\" fill-opacity=\"1\" /><path clip-path=\"url(#clip330)\" d=\"M 0 0 M844.603 34.9026 L896.536 34.9026 L896.536 41.7081 L844.603 41.7081 L844.603 34.9026 M844.603 51.4303 L896.536 51.4303 L896.536 58.3168 L844.603 58.3168 L844.603 51.4303 Z\" fill=\"#000000\" fill-rule=\"evenodd\" fill-opacity=\"1\" /><path clip-path=\"url(#clip330)\" d=\"M 0 0 M933.278 28.5427 L933.278 35.5912 Q930.118 33.9709 926.715 33.1607 Q923.312 32.3505 919.667 32.3505 Q914.117 32.3505 911.322 34.0519 Q908.567 35.7533 908.567 39.156 Q908.567 41.7486 910.552 43.2475 Q912.537 44.7058 918.532 46.0426 L921.084 46.6097 Q929.024 48.3111 932.346 51.4303 Q935.708 54.509 935.708 60.0587 Q935.708 66.3781 930.685 70.0644 Q925.702 73.7508 916.953 73.7508 Q913.307 73.7508 909.337 73.0216 Q905.407 72.3329 901.032 70.9151 L901.032 63.2184 Q905.164 65.3654 909.175 66.4591 Q913.185 67.5124 917.115 67.5124 Q922.381 67.5124 925.216 65.73 Q928.052 63.9071 928.052 60.6258 Q928.052 57.5877 925.986 55.9673 Q923.961 54.3469 917.034 52.8481 L914.441 52.2405 Q907.514 50.7821 904.435 47.7845 Q901.357 44.7463 901.357 39.4801 Q901.357 33.0797 905.894 29.5959 Q910.431 26.1121 918.775 26.1121 Q922.907 26.1121 926.553 26.7198 Q930.199 27.3274 933.278 28.5427 Z\" fill=\"#000000\" fill-rule=\"evenodd\" fill-opacity=\"1\" /><path clip-path=\"url(#clip330)\" d=\"M 0 0 M943.526 27.2059 L950.98 27.2059 L950.98 72.576 L943.526 72.576 L943.526 27.2059 M943.526 9.54393 L950.98 9.54393 L950.98 18.9825 L943.526 18.9825 L943.526 9.54393 Z\" fill=\"#000000\" fill-rule=\"evenodd\" fill-opacity=\"1\" /><path clip-path=\"url(#clip330)\" d=\"M 0 0 M996.512 45.1919 L996.512 72.576 L989.059 72.576 L989.059 45.4349 Q989.059 38.994 986.547 35.7938 Q984.036 32.5936 979.012 32.5936 Q972.977 32.5936 969.493 36.4419 Q966.009 40.2903 966.009 46.9338 L966.009 72.576 L958.515 72.576 L958.515 27.2059 L966.009 27.2059 L966.009 34.2544 Q968.683 30.163 972.288 28.1376 Q975.934 26.1121 980.673 26.1121 Q988.492 26.1121 992.502 30.9732 Q996.512 35.7938 996.512 45.1919 Z\" fill=\"#000000\" fill-rule=\"evenodd\" fill-opacity=\"1\" /><path clip-path=\"url(#clip330)\" d=\"M 0 0 M1022.24 9.62495 Q1016.81 18.942 1014.17 28.0566 Q1011.54 37.1711 1011.54 46.5287 Q1011.54 55.8863 1014.17 65.0818 Q1016.85 74.2369 1022.24 83.5134 L1015.75 83.5134 Q1009.68 73.9938 1006.64 64.7983 Q1003.64 55.6027 1003.64 46.5287 Q1003.64 37.4952 1006.64 28.3401 Q1009.64 19.1851 1015.75 9.62495 L1022.24 9.62495 Z\" fill=\"#000000\" fill-rule=\"evenodd\" fill-opacity=\"1\" /><path clip-path=\"url(#clip330)\" d=\"M 0 0 M1067.77 27.2059 L1051.36 49.2833 L1068.62 72.576 L1059.83 72.576 L1046.62 54.752 L1033.42 72.576 L1024.63 72.576 L1042.25 48.8377 L1026.12 27.2059 L1034.91 27.2059 L1046.95 43.369 L1058.98 27.2059 L1067.77 27.2059 Z\" fill=\"#000000\" fill-rule=\"evenodd\" fill-opacity=\"1\" /><path clip-path=\"url(#clip330)\" d=\"M 0 0 M1075.26 9.62495 L1081.74 9.62495 Q1087.82 19.1851 1090.82 28.3401 Q1093.86 37.4952 1093.86 46.5287 Q1093.86 55.6027 1090.82 64.7983 Q1087.82 73.9938 1081.74 83.5134 L1075.26 83.5134 Q1080.65 74.2369 1083.28 65.0818 Q1085.96 55.8863 1085.96 46.5287 Q1085.96 37.1711 1083.28 28.0566 Q1080.65 18.942 1075.26 9.62495 Z\" fill=\"#000000\" fill-rule=\"evenodd\" fill-opacity=\"1\" /><path clip-path=\"url(#clip330)\" d=\"M 0 0 M1166.85 48.0275 L1166.85 51.6733 L1132.58 51.6733 Q1133.07 59.3701 1137.2 63.421 Q1141.37 67.4314 1148.79 67.4314 Q1153.08 67.4314 1157.09 66.3781 Q1161.14 65.3249 1165.11 63.2184 L1165.11 70.267 Q1161.1 71.9684 1156.89 72.8596 Q1152.67 73.7508 1148.34 73.7508 Q1137.48 73.7508 1131.12 67.4314 Q1124.8 61.1119 1124.8 50.3365 Q1124.8 39.1965 1130.8 32.6746 Q1136.84 26.1121 1147.04 26.1121 Q1156.2 26.1121 1161.51 32.0264 Q1166.85 37.9003 1166.85 48.0275 M1159.4 45.84 Q1159.32 39.7232 1155.96 36.0774 Q1152.63 32.4315 1147.12 32.4315 Q1140.89 32.4315 1137.12 35.9558 Q1133.39 39.4801 1132.83 45.8805 L1159.4 45.84 Z\" fill=\"#000000\" fill-rule=\"evenodd\" fill-opacity=\"1\" /><path clip-path=\"url(#clip330)\" d=\"M 0 0 M1219.92 76.7889 Q1216.76 84.8907 1213.76 87.3618 Q1210.76 89.8329 1205.74 89.8329 L1199.79 89.8329 L1199.79 83.5945 L1204.16 83.5945 Q1207.24 83.5945 1208.94 82.1361 Q1210.64 80.6778 1212.71 75.2496 L1214.05 71.8468 L1195.7 27.2059 L1203.59 27.2059 L1217.77 62.6918 L1231.95 27.2059 L1239.85 27.2059 L1219.92 76.7889 Z\" fill=\"#000000\" fill-rule=\"evenodd\" fill-opacity=\"1\" /><path clip-path=\"url(#clip330)\" d=\"M 0 0 M1248.64 34.9026 L1300.57 34.9026 L1300.57 41.7081 L1248.64 41.7081 L1248.64 34.9026 M1248.64 51.4303 L1300.57 51.4303 L1300.57 58.3168 L1248.64 58.3168 L1248.64 51.4303 Z\" fill=\"#000000\" fill-rule=\"evenodd\" fill-opacity=\"1\" /><path clip-path=\"url(#clip330)\" d=\"M 0 0 M1341.04 28.9478 L1341.04 35.9153 Q1337.88 34.1734 1334.68 33.3227 Q1331.52 32.4315 1328.28 32.4315 Q1321.03 32.4315 1317.02 37.0496 Q1313.01 41.6271 1313.01 49.9314 Q1313.01 58.2358 1317.02 62.8538 Q1321.03 67.4314 1328.28 67.4314 Q1331.52 67.4314 1334.68 66.5807 Q1337.88 65.6895 1341.04 63.9476 L1341.04 70.8341 Q1337.92 72.2924 1334.56 73.0216 Q1331.24 73.7508 1327.47 73.7508 Q1317.22 73.7508 1311.19 67.3098 Q1305.15 60.8689 1305.15 49.9314 Q1305.15 38.832 1311.23 32.472 Q1317.34 26.1121 1327.96 26.1121 Q1331.4 26.1121 1334.68 26.8413 Q1337.96 27.5299 1341.04 28.9478 Z\" fill=\"#000000\" fill-rule=\"evenodd\" fill-opacity=\"1\" /><path clip-path=\"url(#clip330)\" d=\"M 0 0 M1366.44 32.4315 Q1360.45 32.4315 1356.96 37.1306 Q1353.48 41.7891 1353.48 49.9314 Q1353.48 58.0738 1356.92 62.7728 Q1360.41 67.4314 1366.44 67.4314 Q1372.4 67.4314 1375.88 62.7323 Q1379.36 58.0333 1379.36 49.9314 Q1379.36 41.8701 1375.88 37.1711 Q1372.4 32.4315 1366.44 32.4315 M1366.44 26.1121 Q1376.16 26.1121 1381.71 32.4315 Q1387.26 38.7509 1387.26 49.9314 Q1387.26 61.0714 1381.71 67.4314 Q1376.16 73.7508 1366.44 73.7508 Q1356.68 73.7508 1351.13 67.4314 Q1345.62 61.0714 1345.62 49.9314 Q1345.62 38.7509 1351.13 32.4315 Q1356.68 26.1121 1366.44 26.1121 Z\" fill=\"#000000\" fill-rule=\"evenodd\" fill-opacity=\"1\" /><path clip-path=\"url(#clip330)\" d=\"M 0 0 M1424 28.5427 L1424 35.5912 Q1420.84 33.9709 1417.44 33.1607 Q1414.04 32.3505 1410.39 32.3505 Q1404.84 32.3505 1402.05 34.0519 Q1399.29 35.7533 1399.29 39.156 Q1399.29 41.7486 1401.28 43.2475 Q1403.26 44.7058 1409.26 46.0426 L1411.81 46.6097 Q1419.75 48.3111 1423.07 51.4303 Q1426.43 54.509 1426.43 60.0587 Q1426.43 66.3781 1421.41 70.0644 Q1416.43 73.7508 1407.68 73.7508 Q1404.03 73.7508 1400.06 73.0216 Q1396.13 72.3329 1391.76 70.9151 L1391.76 63.2184 Q1395.89 65.3654 1399.9 66.4591 Q1403.91 67.5124 1407.84 67.5124 Q1413.11 67.5124 1415.94 65.73 Q1418.78 63.9071 1418.78 60.6258 Q1418.78 57.5877 1416.71 55.9673 Q1414.69 54.3469 1407.76 52.8481 L1405.17 52.2405 Q1398.24 50.7821 1395.16 47.7845 Q1392.08 44.7463 1392.08 39.4801 Q1392.08 33.0797 1396.62 29.5959 Q1401.16 26.1121 1409.5 26.1121 Q1413.63 26.1121 1417.28 26.7198 Q1420.93 27.3274 1424 28.5427 Z\" fill=\"#000000\" fill-rule=\"evenodd\" fill-opacity=\"1\" /><path clip-path=\"url(#clip330)\" d=\"M 0 0 M1452.16 9.62495 Q1446.73 18.942 1444.1 28.0566 Q1441.46 37.1711 1441.46 46.5287 Q1441.46 55.8863 1444.1 65.0818 Q1446.77 74.2369 1452.16 83.5134 L1445.68 83.5134 Q1439.6 73.9938 1436.56 64.7983 Q1433.56 55.6027 1433.56 46.5287 Q1433.56 37.4952 1436.56 28.3401 Q1439.56 19.1851 1445.68 9.62495 L1452.16 9.62495 Z\" fill=\"#000000\" fill-rule=\"evenodd\" fill-opacity=\"1\" /><path clip-path=\"url(#clip330)\" d=\"M 0 0 M1497.69 27.2059 L1481.28 49.2833 L1498.54 72.576 L1489.75 72.576 L1476.54 54.752 L1463.34 72.576 L1454.55 72.576 L1472.17 48.8377 L1456.05 27.2059 L1464.84 27.2059 L1476.87 43.369 L1488.9 27.2059 L1497.69 27.2059 Z\" fill=\"#000000\" fill-rule=\"evenodd\" fill-opacity=\"1\" /><path clip-path=\"url(#clip330)\" d=\"M 0 0 M1505.18 9.62495 L1511.67 9.62495 Q1517.74 19.1851 1520.74 28.3401 Q1523.78 37.4952 1523.78 46.5287 Q1523.78 55.6027 1520.74 64.7983 Q1517.74 73.9938 1511.67 83.5134 L1505.18 83.5134 Q1510.57 74.2369 1513.21 65.0818 Q1515.88 55.8863 1515.88 46.5287 Q1515.88 37.1711 1513.21 28.0566 Q1510.57 18.942 1505.18 9.62495 Z\" fill=\"#000000\" fill-rule=\"evenodd\" fill-opacity=\"1\" /><path clip-path=\"url(#clip330)\" d=\"M 0 0 M1595.68 45.1919 L1595.68 72.576 L1588.23 72.576 L1588.23 45.4349 Q1588.23 38.994 1585.72 35.7938 Q1583.2 32.5936 1578.18 32.5936 Q1572.15 32.5936 1568.66 36.4419 Q1565.18 40.2903 1565.18 46.9338 L1565.18 72.576 L1557.68 72.576 L1557.68 27.2059 L1565.18 27.2059 L1565.18 34.2544 Q1567.85 30.163 1571.46 28.1376 Q1575.1 26.1121 1579.84 26.1121 Q1587.66 26.1121 1591.67 30.9732 Q1595.68 35.7938 1595.68 45.1919 Z\" fill=\"#000000\" fill-rule=\"evenodd\" fill-opacity=\"1\" /><path clip-path=\"url(#clip330)\" d=\"M 0 0 M1621.08 32.4315 Q1615.09 32.4315 1611.6 37.1306 Q1608.12 41.7891 1608.12 49.9314 Q1608.12 58.0738 1611.56 62.7728 Q1615.04 67.4314 1621.08 67.4314 Q1627.04 67.4314 1630.52 62.7323 Q1634 58.0333 1634 49.9314 Q1634 41.8701 1630.52 37.1711 Q1627.04 32.4315 1621.08 32.4315 M1621.08 26.1121 Q1630.8 26.1121 1636.35 32.4315 Q1641.9 38.7509 1641.9 49.9314 Q1641.9 61.0714 1636.35 67.4314 Q1630.8 73.7508 1621.08 73.7508 Q1611.32 73.7508 1605.77 67.4314 Q1600.26 61.0714 1600.26 49.9314 Q1600.26 38.7509 1605.77 32.4315 Q1611.32 26.1121 1621.08 26.1121 Z\" fill=\"#000000\" fill-rule=\"evenodd\" fill-opacity=\"1\" /><path clip-path=\"url(#clip330)\" d=\"M 0 0 M1676.09 27.2059 L1683.55 27.2059 L1683.55 72.576 L1676.09 72.576 L1676.09 27.2059 M1676.09 9.54393 L1683.55 9.54393 L1683.55 18.9825 L1676.09 18.9825 L1676.09 9.54393 Z\" fill=\"#000000\" fill-rule=\"evenodd\" fill-opacity=\"1\" /><path clip-path=\"url(#clip330)\" d=\"M 0 0 M1729.08 45.1919 L1729.08 72.576 L1721.62 72.576 L1721.62 45.4349 Q1721.62 38.994 1719.11 35.7938 Q1716.6 32.5936 1711.58 32.5936 Q1705.54 32.5936 1702.06 36.4419 Q1698.57 40.2903 1698.57 46.9338 L1698.57 72.576 L1691.08 72.576 L1691.08 27.2059 L1698.57 27.2059 L1698.57 34.2544 Q1701.25 30.163 1704.85 28.1376 Q1708.5 26.1121 1713.24 26.1121 Q1721.06 26.1121 1725.07 30.9732 Q1729.08 35.7938 1729.08 45.1919 Z\" fill=\"#000000\" fill-rule=\"evenodd\" fill-opacity=\"1\" /><path clip-path=\"url(#clip330)\" d=\"M 0 0 M1744.27 14.324 L1744.27 27.2059 L1759.62 27.2059 L1759.62 32.9987 L1744.27 32.9987 L1744.27 57.6282 Q1744.27 63.1779 1745.77 64.7578 Q1747.31 66.3376 1751.97 66.3376 L1759.62 66.3376 L1759.62 72.576 L1751.97 72.576 Q1743.34 72.576 1740.06 69.3758 Q1736.77 66.1351 1736.77 57.6282 L1736.77 32.9987 L1731.31 32.9987 L1731.31 27.2059 L1736.77 27.2059 L1736.77 14.324 L1744.27 14.324 Z\" fill=\"#000000\" fill-rule=\"evenodd\" fill-opacity=\"1\" /><path clip-path=\"url(#clip330)\" d=\"M 0 0 M1806.25 48.0275 L1806.25 51.6733 L1771.98 51.6733 Q1772.46 59.3701 1776.59 63.421 Q1780.77 67.4314 1788.18 67.4314 Q1792.47 67.4314 1796.48 66.3781 Q1800.54 65.3249 1804.51 63.2184 L1804.51 70.267 Q1800.5 71.9684 1796.28 72.8596 Q1792.07 73.7508 1787.73 73.7508 Q1776.88 73.7508 1770.52 67.4314 Q1764.2 61.1119 1764.2 50.3365 Q1764.2 39.1965 1770.19 32.6746 Q1776.23 26.1121 1786.44 26.1121 Q1795.59 26.1121 1800.9 32.0264 Q1806.25 37.9003 1806.25 48.0275 M1798.79 45.84 Q1798.71 39.7232 1795.35 36.0774 Q1792.03 32.4315 1786.52 32.4315 Q1780.28 32.4315 1776.51 35.9558 Q1772.79 39.4801 1772.22 45.8805 L1798.79 45.84 Z\" fill=\"#000000\" fill-rule=\"evenodd\" fill-opacity=\"1\" /><path clip-path=\"url(#clip330)\" d=\"M 0 0 M1840.36 34.1734 Q1839.1 33.4443 1837.6 33.1202 Q1836.14 32.7556 1834.36 32.7556 Q1828.04 32.7556 1824.64 36.8875 Q1821.28 40.9789 1821.28 48.6757 L1821.28 72.576 L1813.78 72.576 L1813.78 27.2059 L1821.28 27.2059 L1821.28 34.2544 Q1823.63 30.1225 1827.39 28.1376 Q1831.16 26.1121 1836.55 26.1121 Q1837.32 26.1121 1838.25 26.2337 Q1839.18 26.3147 1840.32 26.5172 L1840.36 34.1734 Z\" fill=\"#000000\" fill-rule=\"evenodd\" fill-opacity=\"1\" /><path clip-path=\"url(#clip330)\" d=\"M 0 0 M1842.83 27.2059 L1850.73 27.2059 L1864.9 65.2844 L1879.08 27.2059 L1886.98 27.2059 L1869.97 72.576 L1859.84 72.576 L1842.83 27.2059 Z\" fill=\"#000000\" fill-rule=\"evenodd\" fill-opacity=\"1\" /><path clip-path=\"url(#clip330)\" d=\"M 0 0 M1915.42 49.7694 Q1906.39 49.7694 1902.9 51.8354 Q1899.42 53.9013 1899.42 58.8839 Q1899.42 62.8538 1902.01 65.2034 Q1904.64 67.5124 1909.14 67.5124 Q1915.34 67.5124 1919.07 63.1374 Q1922.83 58.7219 1922.83 51.4303 L1922.83 49.7694 L1915.42 49.7694 M1930.29 46.6907 L1930.29 72.576 L1922.83 72.576 L1922.83 65.6895 Q1920.28 69.8214 1916.47 71.8063 Q1912.66 73.7508 1907.16 73.7508 Q1900.19 73.7508 1896.06 69.8619 Q1891.96 65.9325 1891.96 59.3701 Q1891.96 51.7138 1897.07 47.825 Q1902.21 43.9361 1912.38 43.9361 L1922.83 43.9361 L1922.83 43.2069 Q1922.83 38.0623 1919.43 35.2672 Q1916.07 32.4315 1909.95 32.4315 Q1906.06 32.4315 1902.38 33.3632 Q1898.69 34.295 1895.29 36.1584 L1895.29 29.2718 Q1899.38 27.692 1903.23 26.9223 Q1907.07 26.1121 1910.72 26.1121 Q1920.56 26.1121 1925.43 31.2163 Q1930.29 36.3204 1930.29 46.6907 Z\" fill=\"#000000\" fill-rule=\"evenodd\" fill-opacity=\"1\" /><path clip-path=\"url(#clip330)\" d=\"M 0 0 M1938.1 9.54393 L1945.56 9.54393 L1945.56 72.576 L1938.1 72.576 L1938.1 9.54393 Z\" fill=\"#000000\" fill-rule=\"evenodd\" fill-opacity=\"1\" /><path clip-path=\"url(#clip330)\" d=\"M 0 0 M1970.96 32.4315 Q1964.96 32.4315 1961.48 37.1306 Q1957.99 41.7891 1957.99 49.9314 Q1957.99 58.0738 1961.44 62.7728 Q1964.92 67.4314 1970.96 67.4314 Q1976.91 67.4314 1980.4 62.7323 Q1983.88 58.0333 1983.88 49.9314 Q1983.88 41.8701 1980.4 37.1711 Q1976.91 32.4315 1970.96 32.4315 M1970.96 26.1121 Q1980.68 26.1121 1986.23 32.4315 Q1991.78 38.7509 1991.78 49.9314 Q1991.78 61.0714 1986.23 67.4314 Q1980.68 73.7508 1970.96 73.7508 Q1961.19 73.7508 1955.64 67.4314 Q1950.14 61.0714 1950.14 49.9314 Q1950.14 38.7509 1955.64 32.4315 Q1961.19 26.1121 1970.96 26.1121 Z\" fill=\"#000000\" fill-rule=\"evenodd\" fill-opacity=\"1\" /><path clip-path=\"url(#clip330)\" d=\"M 0 0 M2043.87 9.62495 Q2038.45 18.942 2035.81 28.0566 Q2033.18 37.1711 2033.18 46.5287 Q2033.18 55.8863 2035.81 65.0818 Q2038.49 74.2369 2043.87 83.5134 L2037.39 83.5134 Q2031.32 73.9938 2028.28 64.7983 Q2025.28 55.6027 2025.28 46.5287 Q2025.28 37.4952 2028.28 28.3401 Q2031.28 19.1851 2037.39 9.62495 L2043.87 9.62495 Z\" fill=\"#000000\" fill-rule=\"evenodd\" fill-opacity=\"1\" /><path clip-path=\"url(#clip330)\" d=\"M 0 0 M2070.24 17.4837 Q2063.93 17.4837 2060.73 23.7221 Q2057.57 29.92 2057.57 42.3968 Q2057.57 54.833 2060.73 61.0714 Q2063.93 67.2693 2070.24 67.2693 Q2076.6 67.2693 2079.76 61.0714 Q2082.96 54.833 2082.96 42.3968 Q2082.96 29.92 2079.76 23.7221 Q2076.6 17.4837 2070.24 17.4837 M2070.24 11.0023 Q2080.41 11.0023 2085.76 19.0636 Q2091.15 27.0843 2091.15 42.3968 Q2091.15 57.6687 2085.76 65.73 Q2080.41 73.7508 2070.24 73.7508 Q2060.08 73.7508 2054.69 65.73 Q2049.34 57.6687 2049.34 42.3968 Q2049.34 27.0843 2054.69 19.0636 Q2060.08 11.0023 2070.24 11.0023 Z\" fill=\"#000000\" fill-rule=\"evenodd\" fill-opacity=\"1\" /><path clip-path=\"url(#clip330)\" d=\"M 0 0 M2100.87 62.2867 L2109.42 62.2867 L2109.42 69.2543 L2102.77 82.2172 L2097.55 82.2172 L2100.87 69.2543 L2100.87 62.2867 Z\" fill=\"#000000\" fill-rule=\"evenodd\" fill-opacity=\"1\" /><path clip-path=\"url(#clip330)\" d=\"M 0 0 M2151.71 65.6895 L2180.27 65.6895 L2180.27 72.576 L2141.86 72.576 L2141.86 65.6895 Q2146.52 60.8689 2154.54 52.7671 Q2162.61 44.6248 2164.67 42.2752 Q2168.6 37.8598 2170.14 34.8216 Q2171.72 31.7429 2171.72 28.7857 Q2171.72 23.9651 2168.32 20.927 Q2164.96 17.8888 2159.53 17.8888 Q2155.68 17.8888 2151.38 19.2256 Q2147.13 20.5624 2142.27 23.2765 L2142.27 15.0127 Q2147.21 13.0277 2151.51 12.015 Q2155.8 11.0023 2159.36 11.0023 Q2168.76 11.0023 2174.35 15.7013 Q2179.94 20.4004 2179.94 28.2591 Q2179.94 31.9859 2178.53 35.3482 Q2177.15 38.6699 2173.46 43.2069 Q2172.45 44.3817 2167.02 50.0125 Q2161.59 55.6027 2151.71 65.6895 Z\" fill=\"#000000\" fill-rule=\"evenodd\" fill-opacity=\"1\" /><path clip-path=\"url(#clip330)\" d=\"M 0 0 M2183.27 27.2059 L2226.73 27.2059 L2226.73 34.6595 L2221.02 34.6595 L2221.02 62.5298 Q2221.02 65.4464 2221.99 66.7427 Q2223 67.9985 2225.23 67.9985 Q2225.84 67.9985 2226.73 67.9175 Q2227.62 67.7959 2227.91 67.7554 L2227.91 73.1431 Q2226.49 73.6697 2224.99 73.9128 Q2223.49 74.1559 2221.99 74.1559 Q2217.13 74.1559 2215.27 71.5228 Q2213.4 68.8492 2213.4 61.7196 L2213.4 34.6595 L2196.67 34.6595 L2196.67 72.576 L2189.06 72.576 L2189.06 34.6595 L2183.27 34.6595 L2183.27 27.2059 Z\" fill=\"#000000\" fill-rule=\"evenodd\" fill-opacity=\"1\" /><path clip-path=\"url(#clip330)\" d=\"M 0 0 M2234.55 9.62495 L2241.03 9.62495 Q2247.11 19.1851 2250.11 28.3401 Q2253.14 37.4952 2253.14 46.5287 Q2253.14 55.6027 2250.11 64.7983 Q2247.11 73.9938 2241.03 83.5134 L2234.55 83.5134 Q2239.94 74.2369 2242.57 65.0818 Q2245.24 55.8863 2245.24 46.5287 Q2245.24 37.1711 2242.57 28.0566 Q2239.94 18.942 2234.55 9.62495 Z\" fill=\"#000000\" fill-rule=\"evenodd\" fill-opacity=\"1\" /><polyline clip-path=\"url(#clip332)\" style=\"stroke:#009af9; stroke-width:4; stroke-opacity:1; fill:none\" points=\"\n",
       "  302.634,773.35 334.737,712.142 366.841,651.547 398.944,592.168 431.048,534.6 463.151,479.417 495.254,427.171 527.358,378.384 559.461,333.543 591.564,293.097 \n",
       "  623.668,257.449 655.771,226.956 687.875,201.923 719.978,182.599 752.081,169.177 784.185,161.792 816.288,160.518 848.391,165.367 880.495,176.29 912.598,193.179 \n",
       "  944.702,215.865 976.805,244.122 1008.91,277.666 1041.01,316.163 1073.12,359.228 1105.22,406.43 1137.32,457.299 1169.43,511.326 1201.53,567.971 1233.63,626.667 \n",
       "  1265.74,686.83 1297.84,747.857 1329.94,809.138 1362.05,870.062 1394.15,930.02 1426.25,988.412 1458.36,1044.66 1490.46,1098.19 1522.56,1148.48 1554.67,1195.01 \n",
       "  1586.77,1237.34 1618.87,1275.03 1650.98,1307.71 1683.08,1335.04 1715.18,1356.77 1747.29,1372.67 1779.39,1382.57 1811.49,1386.4 1843.6,1384.09 1875.7,1375.68 \n",
       "  1907.8,1361.26 1939.91,1340.96 1972.01,1314.99 2004.11,1283.61 2036.22,1247.13 2068.32,1205.91 2100.42,1160.37 2132.53,1110.97 2164.63,1058.19 2196.73,1002.57 \n",
       "  2228.84,944.657 2260.94,885.032 2293.04,824.291 \n",
       "  \"/>\n",
       "<polyline clip-path=\"url(#clip332)\" style=\"stroke:#e26f46; stroke-width:4; stroke-opacity:1; fill:none\" points=\"\n",
       "  302.634,160.256 334.737,163.319 366.841,172.477 398.944,187.639 431.048,208.653 463.151,235.31 495.254,267.342 527.358,304.43 559.461,346.203 591.564,392.245 \n",
       "  623.668,442.094 655.771,495.253 687.875,551.19 719.978,609.348 752.081,669.144 784.185,729.981 816.288,791.252 848.391,852.343 880.495,912.646 912.598,971.556 \n",
       "  944.702,1028.49 976.805,1082.87 1008.91,1134.16 1041.01,1181.84 1073.12,1225.44 1105.22,1264.53 1137.32,1298.7 1169.43,1327.63 1201.53,1351.02 1233.63,1368.64 \n",
       "  1265.74,1380.31 1297.84,1385.91 1329.94,1385.4 1362.05,1378.77 1394.15,1366.09 1426.25,1347.48 1458.36,1323.15 1490.46,1293.31 1522.56,1258.29 1554.67,1218.41 \n",
       "  1586.77,1174.09 1618.87,1125.77 1650.98,1073.93 1683.08,1019.08 1715.18,961.773 1747.29,902.587 1779.39,842.109 1811.49,780.945 1843.6,719.704 1875.7,659 \n",
       "  1907.8,599.438 1939.91,541.614 1972.01,486.105 2004.11,433.466 2036.22,384.224 2068.32,338.869 2100.42,297.855 2132.53,261.593 2164.63,230.444 2196.73,204.719 \n",
       "  2228.84,184.676 2260.94,170.514 2293.04,162.376 \n",
       "  \"/>\n",
       "<path clip-path=\"url(#clip330)\" d=\"\n",
       "M1860.53 348.236 L2282.43 348.236 L2282.43 166.796 L1860.53 166.796  Z\n",
       "  \" fill=\"#eaeaea\" fill-rule=\"evenodd\" fill-opacity=\"1\"/>\n",
       "<polyline clip-path=\"url(#clip330)\" style=\"stroke:#ffffff; stroke-width:4; stroke-opacity:1; fill:none\" points=\"\n",
       "  1860.53,348.236 2282.43,348.236 2282.43,166.796 1860.53,166.796 1860.53,348.236 \n",
       "  \"/>\n",
       "<polyline clip-path=\"url(#clip330)\" style=\"stroke:#009af9; stroke-width:4; stroke-opacity:1; fill:none\" points=\"\n",
       "  1883.97,227.276 2024.62,227.276 \n",
       "  \"/>\n",
       "<path clip-path=\"url(#clip330)\" d=\"M 0 0 M2061.91 246.963 Q2060.1 251.593 2058.39 253.005 Q2056.68 254.417 2053.81 254.417 L2050.4 254.417 L2050.4 250.852 L2052.9 250.852 Q2054.66 250.852 2055.64 250.019 Q2056.61 249.185 2057.79 246.083 L2058.55 244.139 L2048.07 218.63 L2052.58 218.63 L2060.68 238.908 L2068.78 218.63 L2073.3 218.63 L2061.91 246.963 Z\" fill=\"#000000\" fill-rule=\"evenodd\" fill-opacity=\"1\" /><path clip-path=\"url(#clip330)\" d=\"M 0 0 M2078.32 223.028 L2108 223.028 L2108 226.917 L2078.32 226.917 L2078.32 223.028 M2078.32 232.472 L2108 232.472 L2108 236.408 L2078.32 236.408 L2078.32 232.472 Z\" fill=\"#000000\" fill-rule=\"evenodd\" fill-opacity=\"1\" /><path clip-path=\"url(#clip330)\" d=\"M 0 0 M2128.99 219.394 L2128.99 223.422 Q2127.19 222.496 2125.24 222.033 Q2123.3 221.57 2121.21 221.57 Q2118.04 221.57 2116.45 222.542 Q2114.87 223.514 2114.87 225.459 Q2114.87 226.94 2116.01 227.797 Q2117.14 228.63 2120.57 229.394 L2122.02 229.718 Q2126.56 230.69 2128.46 232.472 Q2130.38 234.232 2130.38 237.403 Q2130.38 241.014 2127.51 243.121 Q2124.66 245.227 2119.66 245.227 Q2117.58 245.227 2115.31 244.81 Q2113.07 244.417 2110.57 243.607 L2110.57 239.209 Q2112.93 240.435 2115.22 241.06 Q2117.51 241.662 2119.76 241.662 Q2122.77 241.662 2124.39 240.644 Q2126.01 239.602 2126.01 237.727 Q2126.01 235.991 2124.83 235.065 Q2123.67 234.139 2119.71 233.283 L2118.23 232.935 Q2114.27 232.102 2112.51 230.389 Q2110.75 228.653 2110.75 225.644 Q2110.75 221.986 2113.34 219.996 Q2115.94 218.005 2120.71 218.005 Q2123.07 218.005 2125.15 218.352 Q2127.23 218.699 2128.99 219.394 Z\" fill=\"#000000\" fill-rule=\"evenodd\" fill-opacity=\"1\" /><path clip-path=\"url(#clip330)\" d=\"M 0 0 M2134.85 218.63 L2139.11 218.63 L2139.11 244.556 L2134.85 244.556 L2134.85 218.63 M2134.85 208.537 L2139.11 208.537 L2139.11 213.931 L2134.85 213.931 L2134.85 208.537 Z\" fill=\"#000000\" fill-rule=\"evenodd\" fill-opacity=\"1\" /><path clip-path=\"url(#clip330)\" d=\"M 0 0 M2165.13 228.908 L2165.13 244.556 L2160.87 244.556 L2160.87 229.047 Q2160.87 225.366 2159.43 223.537 Q2158 221.709 2155.13 221.709 Q2151.68 221.709 2149.69 223.908 Q2147.7 226.107 2147.7 229.903 L2147.7 244.556 L2143.41 244.556 L2143.41 218.63 L2147.7 218.63 L2147.7 222.658 Q2149.22 220.32 2151.28 219.162 Q2153.37 218.005 2156.08 218.005 Q2160.54 218.005 2162.83 220.783 Q2165.13 223.537 2165.13 228.908 Z\" fill=\"#000000\" fill-rule=\"evenodd\" fill-opacity=\"1\" /><path clip-path=\"url(#clip330)\" d=\"M 0 0 M2179.83 208.584 Q2176.72 213.908 2175.22 219.116 Q2173.71 224.324 2173.71 229.672 Q2173.71 235.019 2175.22 240.273 Q2176.75 245.505 2179.83 250.806 L2176.12 250.806 Q2172.65 245.366 2170.91 240.111 Q2169.2 234.857 2169.2 229.672 Q2169.2 224.51 2170.91 219.278 Q2172.63 214.047 2176.12 208.584 L2179.83 208.584 Z\" fill=\"#000000\" fill-rule=\"evenodd\" fill-opacity=\"1\" /><path clip-path=\"url(#clip330)\" d=\"M 0 0 M2205.84 218.63 L2196.47 231.246 L2206.33 244.556 L2201.31 244.556 L2193.76 234.371 L2186.21 244.556 L2181.19 244.556 L2191.26 230.991 L2182.05 218.63 L2187.07 218.63 L2193.95 227.866 L2200.82 218.63 L2205.84 218.63 Z\" fill=\"#000000\" fill-rule=\"evenodd\" fill-opacity=\"1\" /><path clip-path=\"url(#clip330)\" d=\"M 0 0 M2210.13 208.584 L2213.83 208.584 Q2217.3 214.047 2219.02 219.278 Q2220.75 224.51 2220.75 229.672 Q2220.75 234.857 2219.02 240.111 Q2217.3 245.366 2213.83 250.806 L2210.13 250.806 Q2213.21 245.505 2214.71 240.273 Q2216.24 235.019 2216.24 229.672 Q2216.24 224.324 2214.71 219.116 Q2213.21 213.908 2210.13 208.584 Z\" fill=\"#000000\" fill-rule=\"evenodd\" fill-opacity=\"1\" /><polyline clip-path=\"url(#clip330)\" style=\"stroke:#e26f46; stroke-width:4; stroke-opacity:1; fill:none\" points=\"\n",
       "  1883.97,287.756 2024.62,287.756 \n",
       "  \"/>\n",
       "<path clip-path=\"url(#clip330)\" d=\"M 0 0 M2061.91 307.443 Q2060.1 312.073 2058.39 313.485 Q2056.68 314.897 2053.81 314.897 L2050.4 314.897 L2050.4 311.332 L2052.9 311.332 Q2054.66 311.332 2055.64 310.499 Q2056.61 309.665 2057.79 306.563 L2058.55 304.619 L2048.07 279.11 L2052.58 279.11 L2060.68 299.388 L2068.78 279.11 L2073.3 279.11 L2061.91 307.443 Z\" fill=\"#000000\" fill-rule=\"evenodd\" fill-opacity=\"1\" /><path clip-path=\"url(#clip330)\" d=\"M 0 0 M2078.32 283.508 L2108 283.508 L2108 287.397 L2078.32 287.397 L2078.32 283.508 M2078.32 292.952 L2108 292.952 L2108 296.888 L2078.32 296.888 L2078.32 292.952 Z\" fill=\"#000000\" fill-rule=\"evenodd\" fill-opacity=\"1\" /><path clip-path=\"url(#clip330)\" d=\"M 0 0 M2131.12 280.105 L2131.12 284.087 Q2129.32 283.091 2127.49 282.605 Q2125.68 282.096 2123.83 282.096 Q2119.69 282.096 2117.4 284.735 Q2115.1 287.351 2115.1 292.096 Q2115.1 296.841 2117.4 299.48 Q2119.69 302.096 2123.83 302.096 Q2125.68 302.096 2127.49 301.61 Q2129.32 301.101 2131.12 300.105 L2131.12 304.04 Q2129.34 304.874 2127.42 305.29 Q2125.52 305.707 2123.37 305.707 Q2117.51 305.707 2114.06 302.026 Q2110.61 298.346 2110.61 292.096 Q2110.61 285.753 2114.09 282.119 Q2117.58 278.485 2123.65 278.485 Q2125.61 278.485 2127.49 278.902 Q2129.36 279.295 2131.12 280.105 Z\" fill=\"#000000\" fill-rule=\"evenodd\" fill-opacity=\"1\" /><path clip-path=\"url(#clip330)\" d=\"M 0 0 M2145.64 282.096 Q2142.21 282.096 2140.22 284.781 Q2138.23 287.443 2138.23 292.096 Q2138.23 296.749 2140.2 299.434 Q2142.19 302.096 2145.64 302.096 Q2149.04 302.096 2151.03 299.411 Q2153.02 296.726 2153.02 292.096 Q2153.02 287.49 2151.03 284.804 Q2149.04 282.096 2145.64 282.096 M2145.64 278.485 Q2151.19 278.485 2154.36 282.096 Q2157.53 285.707 2157.53 292.096 Q2157.53 298.462 2154.36 302.096 Q2151.19 305.707 2145.64 305.707 Q2140.06 305.707 2136.89 302.096 Q2133.74 298.462 2133.74 292.096 Q2133.74 285.707 2136.89 282.096 Q2140.06 278.485 2145.64 278.485 Z\" fill=\"#000000\" fill-rule=\"evenodd\" fill-opacity=\"1\" /><path clip-path=\"url(#clip330)\" d=\"M 0 0 M2178.53 279.874 L2178.53 283.902 Q2176.72 282.976 2174.78 282.513 Q2172.83 282.05 2170.75 282.05 Q2167.58 282.05 2165.98 283.022 Q2164.41 283.994 2164.41 285.939 Q2164.41 287.42 2165.54 288.277 Q2166.68 289.11 2170.1 289.874 L2171.56 290.198 Q2176.1 291.17 2178 292.952 Q2179.92 294.712 2179.92 297.883 Q2179.92 301.494 2177.05 303.601 Q2174.2 305.707 2169.2 305.707 Q2167.12 305.707 2164.85 305.29 Q2162.6 304.897 2160.1 304.087 L2160.1 299.689 Q2162.46 300.915 2164.76 301.54 Q2167.05 302.142 2169.29 302.142 Q2172.3 302.142 2173.92 301.124 Q2175.54 300.082 2175.54 298.207 Q2175.54 296.471 2174.36 295.545 Q2173.21 294.619 2169.25 293.763 L2167.77 293.415 Q2163.81 292.582 2162.05 290.869 Q2160.29 289.133 2160.29 286.124 Q2160.29 282.466 2162.88 280.476 Q2165.47 278.485 2170.24 278.485 Q2172.6 278.485 2174.69 278.832 Q2176.77 279.179 2178.53 279.874 Z\" fill=\"#000000\" fill-rule=\"evenodd\" fill-opacity=\"1\" /><path clip-path=\"url(#clip330)\" d=\"M 0 0 M2194.62 269.064 Q2191.52 274.388 2190.01 279.596 Q2188.51 284.804 2188.51 290.152 Q2188.51 295.499 2190.01 300.753 Q2191.54 305.985 2194.62 311.286 L2190.91 311.286 Q2187.44 305.846 2185.71 300.591 Q2183.99 295.337 2183.99 290.152 Q2183.99 284.99 2185.71 279.758 Q2187.42 274.527 2190.91 269.064 L2194.62 269.064 Z\" fill=\"#000000\" fill-rule=\"evenodd\" fill-opacity=\"1\" /><path clip-path=\"url(#clip330)\" d=\"M 0 0 M2220.64 279.11 L2211.26 291.726 L2221.12 305.036 L2216.1 305.036 L2208.55 294.851 L2201.01 305.036 L2195.98 305.036 L2206.05 291.471 L2196.84 279.11 L2201.86 279.11 L2208.74 288.346 L2215.61 279.11 L2220.64 279.11 Z\" fill=\"#000000\" fill-rule=\"evenodd\" fill-opacity=\"1\" /><path clip-path=\"url(#clip330)\" d=\"M 0 0 M2224.92 269.064 L2228.62 269.064 Q2232.09 274.527 2233.81 279.758 Q2235.54 284.99 2235.54 290.152 Q2235.54 295.337 2233.81 300.591 Q2232.09 305.846 2228.62 311.286 L2224.92 311.286 Q2228 305.985 2229.5 300.753 Q2231.03 295.499 2231.03 290.152 Q2231.03 284.804 2229.5 279.596 Q2228 274.388 2224.92 269.064 Z\" fill=\"#000000\" fill-rule=\"evenodd\" fill-opacity=\"1\" /></svg>\n"
      ]
     },
     "execution_count": 29,
     "metadata": {},
     "output_type": "execute_result"
    }
   ],
   "source": [
    "I = 0.0:0.1:2π\n",
    "plot(I, [sin.(I), cos.(I)], xaxis=\"x\", yaxis=\"y\", label=[\"y=sin(x)\" \"y=cos(x)\"],\n",
    "    title=\"Gráficos de y=sin(x) e y=cos(x) no intervalo (0, 2π)\")"
   ]
  },
  {
   "cell_type": "code",
   "execution_count": 30,
   "metadata": {
    "slideshow": {
     "slide_type": "slide"
    }
   },
   "outputs": [
    {
     "data": {
      "image/svg+xml": [
       "<?xml version=\"1.0\" encoding=\"utf-8\"?>\n",
       "<svg xmlns=\"http://www.w3.org/2000/svg\" xmlns:xlink=\"http://www.w3.org/1999/xlink\" width=\"600\" height=\"400\" viewBox=\"0 0 2400 1600\">\n",
       "<defs>\n",
       "  <clipPath id=\"clip370\">\n",
       "    <rect x=\"0\" y=\"0\" width=\"2400\" height=\"1600\"/>\n",
       "  </clipPath>\n",
       "</defs>\n",
       "<path clip-path=\"url(#clip370)\" d=\"\n",
       "M0 1600 L2400 1600 L2400 0 L0 0  Z\n",
       "  \" fill=\"#ffffff\" fill-rule=\"evenodd\" fill-opacity=\"1\"/>\n",
       "<defs>\n",
       "  <clipPath id=\"clip371\">\n",
       "    <rect x=\"480\" y=\"0\" width=\"1681\" height=\"1600\"/>\n",
       "  </clipPath>\n",
       "</defs>\n",
       "<path clip-path=\"url(#clip370)\" d=\"\n",
       "M197.852 1423.18 L2352.76 1423.18 L2352.76 114.832 L197.852 114.832  Z\n",
       "  \" fill=\"#eaeaea\" fill-rule=\"evenodd\" fill-opacity=\"1\"/>\n",
       "<defs>\n",
       "  <clipPath id=\"clip372\">\n",
       "    <rect x=\"197\" y=\"114\" width=\"2156\" height=\"1309\"/>\n",
       "  </clipPath>\n",
       "</defs>\n",
       "<polyline clip-path=\"url(#clip372)\" style=\"stroke:#ffffff; stroke-width:4; stroke-opacity:1; fill:none\" points=\"\n",
       "  258.84,1423.18 258.84,114.832 \n",
       "  \"/>\n",
       "<polyline clip-path=\"url(#clip372)\" style=\"stroke:#ffffff; stroke-width:4; stroke-opacity:1; fill:none\" points=\"\n",
       "  936.483,1423.18 936.483,114.832 \n",
       "  \"/>\n",
       "<polyline clip-path=\"url(#clip372)\" style=\"stroke:#ffffff; stroke-width:4; stroke-opacity:1; fill:none\" points=\"\n",
       "  1614.13,1423.18 1614.13,114.832 \n",
       "  \"/>\n",
       "<polyline clip-path=\"url(#clip372)\" style=\"stroke:#ffffff; stroke-width:4; stroke-opacity:1; fill:none\" points=\"\n",
       "  2291.77,1423.18 2291.77,114.832 \n",
       "  \"/>\n",
       "<polyline clip-path=\"url(#clip372)\" style=\"stroke:#ffffff; stroke-width:2; stroke-opacity:1; fill:none\" points=\"\n",
       "  597.662,1423.18 597.662,114.832 \n",
       "  \"/>\n",
       "<polyline clip-path=\"url(#clip372)\" style=\"stroke:#ffffff; stroke-width:2; stroke-opacity:1; fill:none\" points=\"\n",
       "  1275.3,1423.18 1275.3,114.832 \n",
       "  \"/>\n",
       "<polyline clip-path=\"url(#clip372)\" style=\"stroke:#ffffff; stroke-width:2; stroke-opacity:1; fill:none\" points=\"\n",
       "  1952.95,1423.18 1952.95,114.832 \n",
       "  \"/>\n",
       "<polyline clip-path=\"url(#clip370)\" style=\"stroke:#ffffff; stroke-width:4; stroke-opacity:1; fill:none\" points=\"\n",
       "  197.852,1423.18 2352.76,1423.18 \n",
       "  \"/>\n",
       "<polyline clip-path=\"url(#clip370)\" style=\"stroke:#333333; stroke-width:4; stroke-opacity:1; fill:none\" points=\"\n",
       "  258.84,1423.18 258.84,1438.88 \n",
       "  \"/>\n",
       "<polyline clip-path=\"url(#clip370)\" style=\"stroke:#333333; stroke-width:4; stroke-opacity:1; fill:none\" points=\"\n",
       "  936.483,1423.18 936.483,1438.88 \n",
       "  \"/>\n",
       "<polyline clip-path=\"url(#clip370)\" style=\"stroke:#333333; stroke-width:4; stroke-opacity:1; fill:none\" points=\"\n",
       "  1614.13,1423.18 1614.13,1438.88 \n",
       "  \"/>\n",
       "<polyline clip-path=\"url(#clip370)\" style=\"stroke:#333333; stroke-width:4; stroke-opacity:1; fill:none\" points=\"\n",
       "  2291.77,1423.18 2291.77,1438.88 \n",
       "  \"/>\n",
       "<polyline clip-path=\"url(#clip370)\" style=\"stroke:#333333; stroke-width:4; stroke-opacity:1; fill:none\" points=\"\n",
       "  597.662,1423.18 597.662,1431.03 \n",
       "  \"/>\n",
       "<polyline clip-path=\"url(#clip370)\" style=\"stroke:#333333; stroke-width:4; stroke-opacity:1; fill:none\" points=\"\n",
       "  1275.3,1423.18 1275.3,1431.03 \n",
       "  \"/>\n",
       "<polyline clip-path=\"url(#clip370)\" style=\"stroke:#333333; stroke-width:4; stroke-opacity:1; fill:none\" points=\"\n",
       "  1952.95,1423.18 1952.95,1431.03 \n",
       "  \"/>\n",
       "<path clip-path=\"url(#clip370)\" d=\"M 0 0 M249.222 1489.52 L256.861 1489.52 L256.861 1463.15 L248.551 1464.82 L248.551 1460.56 L256.815 1458.89 L261.491 1458.89 L261.491 1489.52 L269.13 1489.52 L269.13 1493.45 L249.222 1493.45 L249.222 1489.52 Z\" fill=\"#4c4c4c\" fill-rule=\"evenodd\" fill-opacity=\"1\" /><path clip-path=\"url(#clip370)\" d=\"M 0 0 M931.136 1489.52 L947.455 1489.52 L947.455 1493.45 L925.511 1493.45 L925.511 1489.52 Q928.173 1486.76 932.756 1482.13 Q937.363 1477.48 938.543 1476.14 Q940.788 1473.61 941.668 1471.88 Q942.571 1470.12 942.571 1468.43 Q942.571 1465.67 940.626 1463.94 Q938.705 1462.2 935.603 1462.2 Q933.404 1462.2 930.951 1462.97 Q928.52 1463.73 925.742 1465.28 L925.742 1460.56 Q928.566 1459.42 931.02 1458.85 Q933.474 1458.27 935.511 1458.27 Q940.881 1458.27 944.075 1460.95 Q947.27 1463.64 947.27 1468.13 Q947.27 1470.26 946.46 1472.18 Q945.673 1474.08 943.566 1476.67 Q942.988 1477.34 939.886 1480.56 Q936.784 1483.75 931.136 1489.52 Z\" fill=\"#4c4c4c\" fill-rule=\"evenodd\" fill-opacity=\"1\" /><path clip-path=\"url(#clip370)\" d=\"M 0 0 M1618.37 1474.82 Q1621.73 1475.54 1623.6 1477.8 Q1625.5 1480.07 1625.5 1483.41 Q1625.5 1488.52 1621.98 1491.32 Q1618.47 1494.12 1611.98 1494.12 Q1609.81 1494.12 1607.49 1493.68 Q1605.2 1493.27 1602.75 1492.41 L1602.75 1487.9 Q1604.69 1489.03 1607.01 1489.61 Q1609.32 1490.19 1611.85 1490.19 Q1616.24 1490.19 1618.54 1488.45 Q1620.85 1486.72 1620.85 1483.41 Q1620.85 1480.35 1618.7 1478.64 Q1616.57 1476.9 1612.75 1476.9 L1608.72 1476.9 L1608.72 1473.06 L1612.93 1473.06 Q1616.38 1473.06 1618.21 1471.69 Q1620.04 1470.3 1620.04 1467.71 Q1620.04 1465.05 1618.14 1463.64 Q1616.27 1462.2 1612.75 1462.2 Q1610.83 1462.2 1608.63 1462.62 Q1606.43 1463.04 1603.79 1463.91 L1603.79 1459.75 Q1606.45 1459.01 1608.77 1458.64 Q1611.1 1458.27 1613.16 1458.27 Q1618.49 1458.27 1621.59 1460.7 Q1624.69 1463.1 1624.69 1467.23 Q1624.69 1470.1 1623.05 1472.09 Q1621.41 1474.05 1618.37 1474.82 Z\" fill=\"#4c4c4c\" fill-rule=\"evenodd\" fill-opacity=\"1\" /><path clip-path=\"url(#clip370)\" d=\"M 0 0 M2294.78 1462.97 L2282.97 1481.41 L2294.78 1481.41 L2294.78 1462.97 M2293.55 1458.89 L2299.43 1458.89 L2299.43 1481.41 L2304.36 1481.41 L2304.36 1485.3 L2299.43 1485.3 L2299.43 1493.45 L2294.78 1493.45 L2294.78 1485.3 L2279.18 1485.3 L2279.18 1480.79 L2293.55 1458.89 Z\" fill=\"#4c4c4c\" fill-rule=\"evenodd\" fill-opacity=\"1\" /><path clip-path=\"url(#clip370)\" d=\"M 0 0 M1197.45 1536.5 Q1192.74 1536.5 1190 1540.19 Q1187.27 1543.85 1187.27 1550.25 Q1187.27 1556.65 1189.97 1560.34 Q1192.71 1564 1197.45 1564 Q1202.13 1564 1204.87 1560.31 Q1207.6 1556.62 1207.6 1550.25 Q1207.6 1543.92 1204.87 1540.23 Q1202.13 1536.5 1197.45 1536.5 M1197.45 1531.54 Q1205.09 1531.54 1209.45 1536.5 Q1213.81 1541.47 1213.81 1550.25 Q1213.81 1559 1209.45 1564 Q1205.09 1568.97 1197.45 1568.97 Q1189.78 1568.97 1185.42 1564 Q1181.09 1559 1181.09 1550.25 Q1181.09 1541.47 1185.42 1536.5 Q1189.78 1531.54 1197.45 1531.54 Z\" fill=\"#000000\" fill-rule=\"evenodd\" fill-opacity=\"1\" /><path clip-path=\"url(#clip370)\" d=\"M 0 0 M1240.61 1537.87 Q1239.62 1537.3 1238.45 1537.04 Q1237.3 1536.76 1235.9 1536.76 Q1230.94 1536.76 1228.26 1540 Q1225.62 1543.22 1225.62 1549.27 L1225.62 1568.04 L1219.73 1568.04 L1219.73 1532.4 L1225.62 1532.4 L1225.62 1537.93 Q1227.47 1534.69 1230.43 1533.13 Q1233.39 1531.54 1237.62 1531.54 Q1238.22 1531.54 1238.96 1531.63 Q1239.69 1531.7 1240.58 1531.85 L1240.61 1537.87 Z\" fill=\"#000000\" fill-rule=\"evenodd\" fill-opacity=\"1\" /><path clip-path=\"url(#clip370)\" d=\"M 0 0 M1269.07 1537.81 L1269.07 1518.52 L1274.92 1518.52 L1274.92 1568.04 L1269.07 1568.04 L1269.07 1562.7 Q1267.22 1565.88 1264.39 1567.44 Q1261.59 1568.97 1257.64 1568.97 Q1251.18 1568.97 1247.1 1563.81 Q1243.06 1558.65 1243.06 1550.25 Q1243.06 1541.85 1247.1 1536.69 Q1251.18 1531.54 1257.64 1531.54 Q1261.59 1531.54 1264.39 1533.1 Q1267.22 1534.62 1269.07 1537.81 M1249.11 1550.25 Q1249.11 1556.71 1251.75 1560.4 Q1254.42 1564.07 1259.07 1564.07 Q1263.72 1564.07 1266.39 1560.4 Q1269.07 1556.71 1269.07 1550.25 Q1269.07 1543.79 1266.39 1540.13 Q1263.72 1536.44 1259.07 1536.44 Q1254.42 1536.44 1251.75 1540.13 Q1249.11 1543.79 1249.11 1550.25 Z\" fill=\"#000000\" fill-rule=\"evenodd\" fill-opacity=\"1\" /><path clip-path=\"url(#clip370)\" d=\"M 0 0 M1311.56 1548.76 L1311.56 1551.62 L1284.63 1551.62 Q1285.01 1557.67 1288.26 1560.85 Q1291.54 1564 1297.36 1564 Q1300.74 1564 1303.89 1563.17 Q1307.07 1562.35 1310.19 1560.69 L1310.19 1566.23 Q1307.04 1567.57 1303.73 1568.27 Q1300.42 1568.97 1297.01 1568.97 Q1288.48 1568.97 1283.48 1564 Q1278.52 1559.04 1278.52 1550.57 Q1278.52 1541.82 1283.23 1536.69 Q1287.97 1531.54 1295.99 1531.54 Q1303.19 1531.54 1307.36 1536.18 Q1311.56 1540.8 1311.56 1548.76 M1305.7 1547.04 Q1305.64 1542.23 1303 1539.37 Q1300.39 1536.5 1296.06 1536.5 Q1291.15 1536.5 1288.19 1539.27 Q1285.27 1542.04 1284.82 1547.07 L1305.7 1547.04 Z\" fill=\"#000000\" fill-rule=\"evenodd\" fill-opacity=\"1\" /><path clip-path=\"url(#clip370)\" d=\"M 0 0 M1345.45 1539.24 Q1347.65 1535.29 1350.71 1533.41 Q1353.76 1531.54 1357.9 1531.54 Q1363.47 1531.54 1366.49 1535.45 Q1369.52 1539.33 1369.52 1546.53 L1369.52 1568.04 L1363.63 1568.04 L1363.63 1546.72 Q1363.63 1541.59 1361.81 1539.11 Q1360 1536.63 1356.28 1536.63 Q1351.72 1536.63 1349.08 1539.65 Q1346.44 1542.68 1346.44 1547.9 L1346.44 1568.04 L1340.55 1568.04 L1340.55 1546.72 Q1340.55 1541.56 1338.74 1539.11 Q1336.92 1536.63 1333.14 1536.63 Q1328.65 1536.63 1326.01 1539.68 Q1323.37 1542.71 1323.37 1547.9 L1323.37 1568.04 L1317.48 1568.04 L1317.48 1532.4 L1323.37 1532.4 L1323.37 1537.93 Q1325.37 1534.66 1328.17 1533.1 Q1330.97 1531.54 1334.82 1531.54 Q1338.71 1531.54 1341.41 1533.51 Q1344.15 1535.48 1345.45 1539.24 Z\" fill=\"#000000\" fill-rule=\"evenodd\" fill-opacity=\"1\" /><polyline clip-path=\"url(#clip372)\" style=\"stroke:#ffffff; stroke-width:4; stroke-opacity:1; fill:none\" points=\"\n",
       "  197.852,1423.18 2352.76,1423.18 \n",
       "  \"/>\n",
       "<polyline clip-path=\"url(#clip372)\" style=\"stroke:#ffffff; stroke-width:4; stroke-opacity:1; fill:none\" points=\"\n",
       "  197.852,1161.51 2352.76,1161.51 \n",
       "  \"/>\n",
       "<polyline clip-path=\"url(#clip372)\" style=\"stroke:#ffffff; stroke-width:4; stroke-opacity:1; fill:none\" points=\"\n",
       "  197.852,899.841 2352.76,899.841 \n",
       "  \"/>\n",
       "<polyline clip-path=\"url(#clip372)\" style=\"stroke:#ffffff; stroke-width:4; stroke-opacity:1; fill:none\" points=\"\n",
       "  197.852,638.171 2352.76,638.171 \n",
       "  \"/>\n",
       "<polyline clip-path=\"url(#clip372)\" style=\"stroke:#ffffff; stroke-width:4; stroke-opacity:1; fill:none\" points=\"\n",
       "  197.852,376.502 2352.76,376.502 \n",
       "  \"/>\n",
       "<polyline clip-path=\"url(#clip372)\" style=\"stroke:#ffffff; stroke-width:4; stroke-opacity:1; fill:none\" points=\"\n",
       "  197.852,114.832 2352.76,114.832 \n",
       "  \"/>\n",
       "<polyline clip-path=\"url(#clip372)\" style=\"stroke:#ffffff; stroke-width:2; stroke-opacity:1; fill:none\" points=\"\n",
       "  197.852,1292.35 2352.76,1292.35 \n",
       "  \"/>\n",
       "<polyline clip-path=\"url(#clip372)\" style=\"stroke:#ffffff; stroke-width:2; stroke-opacity:1; fill:none\" points=\"\n",
       "  197.852,1030.68 2352.76,1030.68 \n",
       "  \"/>\n",
       "<polyline clip-path=\"url(#clip372)\" style=\"stroke:#ffffff; stroke-width:2; stroke-opacity:1; fill:none\" points=\"\n",
       "  197.852,769.006 2352.76,769.006 \n",
       "  \"/>\n",
       "<polyline clip-path=\"url(#clip372)\" style=\"stroke:#ffffff; stroke-width:2; stroke-opacity:1; fill:none\" points=\"\n",
       "  197.852,507.336 2352.76,507.336 \n",
       "  \"/>\n",
       "<polyline clip-path=\"url(#clip372)\" style=\"stroke:#ffffff; stroke-width:2; stroke-opacity:1; fill:none\" points=\"\n",
       "  197.852,245.667 2352.76,245.667 \n",
       "  \"/>\n",
       "<polyline clip-path=\"url(#clip370)\" style=\"stroke:#ffffff; stroke-width:4; stroke-opacity:1; fill:none\" points=\"\n",
       "  197.852,1423.18 197.852,114.832 \n",
       "  \"/>\n",
       "<polyline clip-path=\"url(#clip370)\" style=\"stroke:#333333; stroke-width:4; stroke-opacity:1; fill:none\" points=\"\n",
       "  197.852,1423.18 171.994,1423.18 \n",
       "  \"/>\n",
       "<polyline clip-path=\"url(#clip370)\" style=\"stroke:#333333; stroke-width:4; stroke-opacity:1; fill:none\" points=\"\n",
       "  197.852,1161.51 171.994,1161.51 \n",
       "  \"/>\n",
       "<polyline clip-path=\"url(#clip370)\" style=\"stroke:#333333; stroke-width:4; stroke-opacity:1; fill:none\" points=\"\n",
       "  197.852,899.841 171.994,899.841 \n",
       "  \"/>\n",
       "<polyline clip-path=\"url(#clip370)\" style=\"stroke:#333333; stroke-width:4; stroke-opacity:1; fill:none\" points=\"\n",
       "  197.852,638.171 171.994,638.171 \n",
       "  \"/>\n",
       "<polyline clip-path=\"url(#clip370)\" style=\"stroke:#333333; stroke-width:4; stroke-opacity:1; fill:none\" points=\"\n",
       "  197.852,376.502 171.994,376.502 \n",
       "  \"/>\n",
       "<polyline clip-path=\"url(#clip370)\" style=\"stroke:#333333; stroke-width:4; stroke-opacity:1; fill:none\" points=\"\n",
       "  197.852,114.832 171.994,114.832 \n",
       "  \"/>\n",
       "<polyline clip-path=\"url(#clip370)\" style=\"stroke:#333333; stroke-width:4; stroke-opacity:1; fill:none\" points=\"\n",
       "  197.852,1292.35 184.923,1292.35 \n",
       "  \"/>\n",
       "<polyline clip-path=\"url(#clip370)\" style=\"stroke:#333333; stroke-width:4; stroke-opacity:1; fill:none\" points=\"\n",
       "  197.852,1030.68 184.923,1030.68 \n",
       "  \"/>\n",
       "<polyline clip-path=\"url(#clip370)\" style=\"stroke:#333333; stroke-width:4; stroke-opacity:1; fill:none\" points=\"\n",
       "  197.852,769.006 184.923,769.006 \n",
       "  \"/>\n",
       "<polyline clip-path=\"url(#clip370)\" style=\"stroke:#333333; stroke-width:4; stroke-opacity:1; fill:none\" points=\"\n",
       "  197.852,507.336 184.923,507.336 \n",
       "  \"/>\n",
       "<polyline clip-path=\"url(#clip370)\" style=\"stroke:#333333; stroke-width:4; stroke-opacity:1; fill:none\" points=\"\n",
       "  197.852,245.667 184.923,245.667 \n",
       "  \"/>\n",
       "<path clip-path=\"url(#clip370)\" d=\"M 0 0 M131.908 1408.98 Q128.297 1408.98 126.468 1412.54 Q124.663 1416.08 124.663 1423.21 Q124.663 1430.32 126.468 1433.89 Q128.297 1437.43 131.908 1437.43 Q135.542 1437.43 137.348 1433.89 Q139.177 1430.32 139.177 1423.21 Q139.177 1416.08 137.348 1412.54 Q135.542 1408.98 131.908 1408.98 M131.908 1405.27 Q137.718 1405.27 140.774 1409.88 Q143.852 1414.46 143.852 1423.21 Q143.852 1431.94 140.774 1436.55 Q137.718 1441.13 131.908 1441.13 Q126.098 1441.13 123.019 1436.55 Q119.964 1431.94 119.964 1423.21 Q119.964 1414.46 123.019 1409.88 Q126.098 1405.27 131.908 1405.27 Z\" fill=\"#4c4c4c\" fill-rule=\"evenodd\" fill-opacity=\"1\" /><path clip-path=\"url(#clip370)\" d=\"M 0 0 M127.533 1174.86 L143.852 1174.86 L143.852 1178.79 L121.908 1178.79 L121.908 1174.86 Q124.57 1172.1 129.153 1167.47 Q133.76 1162.82 134.941 1161.48 Q137.186 1158.95 138.065 1157.22 Q138.968 1155.46 138.968 1153.77 Q138.968 1151.01 137.024 1149.28 Q135.103 1147.54 132.001 1147.54 Q129.802 1147.54 127.348 1148.3 Q124.917 1149.07 122.14 1150.62 L122.14 1145.9 Q124.964 1144.76 127.417 1144.18 Q129.871 1143.61 131.908 1143.61 Q137.278 1143.61 140.473 1146.29 Q143.667 1148.98 143.667 1153.47 Q143.667 1155.6 142.857 1157.52 Q142.07 1159.42 139.964 1162.01 Q139.385 1162.68 136.283 1165.9 Q133.181 1169.09 127.533 1174.86 Z\" fill=\"#4c4c4c\" fill-rule=\"evenodd\" fill-opacity=\"1\" /><path clip-path=\"url(#clip370)\" d=\"M 0 0 M134.269 886.635 L122.464 905.084 L134.269 905.084 L134.269 886.635 M133.042 882.561 L138.922 882.561 L138.922 905.084 L143.852 905.084 L143.852 908.973 L138.922 908.973 L138.922 917.121 L134.269 917.121 L134.269 908.973 L118.667 908.973 L118.667 904.459 L133.042 882.561 Z\" fill=\"#4c4c4c\" fill-rule=\"evenodd\" fill-opacity=\"1\" /><path clip-path=\"url(#clip370)\" d=\"M 0 0 M132.325 636.308 Q129.177 636.308 127.325 638.461 Q125.496 640.613 125.496 644.363 Q125.496 648.09 127.325 650.266 Q129.177 652.419 132.325 652.419 Q135.473 652.419 137.302 650.266 Q139.153 648.09 139.153 644.363 Q139.153 640.613 137.302 638.461 Q135.473 636.308 132.325 636.308 M141.607 621.655 L141.607 625.914 Q139.848 625.081 138.042 624.641 Q136.26 624.201 134.501 624.201 Q129.871 624.201 127.417 627.326 Q124.987 630.451 124.64 636.771 Q126.005 634.757 128.066 633.692 Q130.126 632.604 132.603 632.604 Q137.811 632.604 140.82 635.775 Q143.852 638.924 143.852 644.363 Q143.852 649.687 140.704 652.905 Q137.556 656.123 132.325 656.123 Q126.329 656.123 123.158 651.539 Q119.987 646.933 119.987 638.206 Q119.987 630.012 123.876 625.15 Q127.765 620.266 134.316 620.266 Q136.075 620.266 137.857 620.613 Q139.663 620.961 141.607 621.655 Z\" fill=\"#4c4c4c\" fill-rule=\"evenodd\" fill-opacity=\"1\" /><path clip-path=\"url(#clip370)\" d=\"M 0 0 M132.001 377.37 Q128.667 377.37 126.746 379.152 Q124.848 380.935 124.848 384.059 Q124.848 387.184 126.746 388.967 Q128.667 390.749 132.001 390.749 Q135.334 390.749 137.255 388.967 Q139.177 387.161 139.177 384.059 Q139.177 380.935 137.255 379.152 Q135.357 377.37 132.001 377.37 M127.325 375.379 Q124.316 374.638 122.626 372.578 Q120.959 370.518 120.959 367.555 Q120.959 363.411 123.899 361.004 Q126.862 358.597 132.001 358.597 Q137.163 358.597 140.103 361.004 Q143.042 363.411 143.042 367.555 Q143.042 370.518 141.353 372.578 Q139.686 374.638 136.7 375.379 Q140.079 376.166 141.954 378.458 Q143.852 380.749 143.852 384.059 Q143.852 389.083 140.774 391.768 Q137.718 394.453 132.001 394.453 Q126.283 394.453 123.204 391.768 Q120.149 389.083 120.149 384.059 Q120.149 380.749 122.047 378.458 Q123.945 376.166 127.325 375.379 M125.612 367.995 Q125.612 370.68 127.279 372.185 Q128.968 373.689 132.001 373.689 Q135.01 373.689 136.7 372.185 Q138.413 370.68 138.413 367.995 Q138.413 365.31 136.7 363.805 Q135.01 362.3 132.001 362.3 Q128.968 362.3 127.279 363.805 Q125.612 365.31 125.612 367.995 Z\" fill=\"#4c4c4c\" fill-rule=\"evenodd\" fill-opacity=\"1\" /><path clip-path=\"url(#clip370)\" d=\"M 0 0 M96.9315 128.177 L104.57 128.177 L104.57 101.811 L96.2602 103.478 L96.2602 99.2188 L104.524 97.5521 L109.2 97.5521 L109.2 128.177 L116.839 128.177 L116.839 132.112 L96.9315 132.112 L96.9315 128.177 Z\" fill=\"#4c4c4c\" fill-rule=\"evenodd\" fill-opacity=\"1\" /><path clip-path=\"url(#clip370)\" d=\"M 0 0 M131.908 100.631 Q128.297 100.631 126.468 104.196 Q124.663 107.737 124.663 114.867 Q124.663 121.973 126.468 125.538 Q128.297 129.08 131.908 129.08 Q135.542 129.08 137.348 125.538 Q139.177 121.973 139.177 114.867 Q139.177 107.737 137.348 104.196 Q135.542 100.631 131.908 100.631 M131.908 96.9271 Q137.718 96.9271 140.774 101.534 Q143.852 106.117 143.852 114.867 Q143.852 123.594 140.774 128.2 Q137.718 132.783 131.908 132.783 Q126.098 132.783 123.019 128.2 Q119.964 123.594 119.964 114.867 Q119.964 106.117 123.019 101.534 Q126.098 96.9271 131.908 96.9271 Z\" fill=\"#4c4c4c\" fill-rule=\"evenodd\" fill-opacity=\"1\" /><path clip-path=\"url(#clip370)\" d=\"M 0 0 M46.0847 813.646 Q46.0847 820.743 47.7079 823.481 Q49.3312 826.218 53.2461 826.218 Q56.3653 826.218 58.2114 824.181 Q60.0256 822.112 60.0256 818.579 Q60.0256 813.709 56.5881 810.781 Q53.1188 807.821 47.3897 807.821 L46.0847 807.821 L46.0847 813.646 M43.6657 801.964 L64.0042 801.964 L64.0042 807.821 L58.5933 807.821 Q61.8398 809.826 63.3994 812.818 Q64.9272 815.81 64.9272 820.139 Q64.9272 825.613 61.8716 828.86 Q58.7843 832.074 53.6281 832.074 Q47.6125 832.074 44.5569 828.064 Q41.5014 824.022 41.5014 816.033 L41.5014 807.821 L40.9285 807.821 Q36.8862 807.821 34.6901 810.494 Q32.4621 813.136 32.4621 817.942 Q32.4621 820.998 33.1941 823.894 Q33.9262 826.791 35.3903 829.464 L29.9795 829.464 Q28.7381 826.25 28.1334 823.226 Q27.4968 820.202 27.4968 817.338 Q27.4968 809.603 31.5072 805.784 Q35.5176 801.964 43.6657 801.964 M11.869 812.659 L11.869 806.325 L23.8365 816.701 L23.8365 821.571 L11.869 812.659 Z\" fill=\"#000000\" fill-rule=\"evenodd\" fill-opacity=\"1\" /><path clip-path=\"url(#clip370)\" d=\"M 0 0 M33.8307 775.165 Q33.2578 776.151 33.0032 777.329 Q32.7167 778.475 32.7167 779.875 Q32.7167 784.841 35.9632 787.514 Q39.1779 790.156 45.2253 790.156 L64.0042 790.156 L64.0042 796.044 L28.3562 796.044 L28.3562 790.156 L33.8944 790.156 Q30.6479 788.31 29.0883 785.35 Q27.4968 782.39 27.4968 778.157 Q27.4968 777.552 27.5923 776.82 Q27.656 776.088 27.8151 775.197 L33.8307 775.165 Z\" fill=\"#000000\" fill-rule=\"evenodd\" fill-opacity=\"1\" /><path clip-path=\"url(#clip370)\" d=\"M 0 0 M44.7161 739.962 L47.5806 739.962 L47.5806 766.889 Q53.6281 766.507 56.8109 763.261 Q59.9619 759.983 59.9619 754.158 Q59.9619 750.784 59.1344 747.633 Q58.3069 744.45 56.6518 741.331 L62.1899 741.331 Q63.5267 744.482 64.227 747.792 Q64.9272 751.102 64.9272 754.508 Q64.9272 763.038 59.9619 768.035 Q54.9967 773 46.5303 773 Q37.7774 773 32.6531 768.29 Q27.4968 763.547 27.4968 755.527 Q27.4968 748.333 32.1438 744.164 Q36.7589 739.962 44.7161 739.962 M42.9973 745.819 Q38.1912 745.883 35.3266 748.524 Q32.4621 751.134 32.4621 755.463 Q32.4621 760.365 35.2312 763.325 Q38.0002 766.253 43.0292 766.698 L42.9973 745.819 Z\" fill=\"#000000\" fill-rule=\"evenodd\" fill-opacity=\"1\" /><path clip-path=\"url(#clip370)\" d=\"M 0 0 M46.0847 717.619 Q46.0847 724.717 47.7079 727.454 Q49.3312 730.191 53.2461 730.191 Q56.3653 730.191 58.2114 728.154 Q60.0256 726.085 60.0256 722.552 Q60.0256 717.682 56.5881 714.754 Q53.1188 711.794 47.3897 711.794 L46.0847 711.794 L46.0847 717.619 M43.6657 705.938 L64.0042 705.938 L64.0042 711.794 L58.5933 711.794 Q61.8398 713.799 63.3994 716.791 Q64.9272 719.783 64.9272 724.112 Q64.9272 729.586 61.8716 732.833 Q58.7843 736.048 53.6281 736.048 Q47.6125 736.048 44.5569 732.037 Q41.5014 727.995 41.5014 720.006 L41.5014 711.794 L40.9285 711.794 Q36.8862 711.794 34.6901 714.468 Q32.4621 717.11 32.4621 721.916 Q32.4621 724.971 33.1941 727.868 Q33.9262 730.764 35.3903 733.438 L29.9795 733.438 Q28.7381 730.223 28.1334 727.199 Q27.4968 724.175 27.4968 721.311 Q27.4968 713.577 31.5072 709.757 Q35.5176 705.938 43.6657 705.938 Z\" fill=\"#000000\" fill-rule=\"evenodd\" fill-opacity=\"1\" /><path clip-path=\"url(#clip370)\" d=\"M 0 0 M629.509 17.2777 L619.995 43.0762 L639.058 43.0762 L629.509 17.2777 M625.551 10.368 L633.502 10.368 L653.259 62.208 L645.967 62.208 L641.245 48.9095 L617.877 48.9095 L613.155 62.208 L605.759 62.208 L625.551 10.368 M631.419 -3.72915 L637.842 -3.72915 L629.926 5.43747 L624.613 5.43747 L631.419 -3.72915 Z\" fill=\"#000000\" fill-rule=\"evenodd\" fill-opacity=\"1\" /><path clip-path=\"url(#clip370)\" d=\"M 0 0 M682.495 29.2915 Q681.418 28.6665 680.134 28.3887 Q678.884 28.0762 677.356 28.0762 Q671.939 28.0762 669.023 31.6179 Q666.141 35.1248 666.141 41.722 L666.141 62.208 L659.717 62.208 L659.717 23.3193 L666.141 23.3193 L666.141 29.361 Q668.155 25.8193 671.384 24.1179 Q674.613 22.3818 679.231 22.3818 Q679.891 22.3818 680.689 22.486 Q681.488 22.5554 682.46 22.729 L682.495 29.2915 Z\" fill=\"#000000\" fill-rule=\"evenodd\" fill-opacity=\"1\" /><path clip-path=\"url(#clip370)\" d=\"M 0 0 M720.897 41.1664 L720.897 44.2914 L691.523 44.2914 Q691.939 50.8886 695.481 54.3608 Q699.057 57.7983 705.411 57.7983 Q709.092 57.7983 712.529 56.8955 Q716.002 55.9928 719.404 54.1872 L719.404 60.2288 Q715.967 61.6872 712.356 62.4511 Q708.745 63.2149 705.029 63.2149 Q695.724 63.2149 690.273 57.7983 Q684.856 52.3817 684.856 43.1456 Q684.856 33.597 689.995 28.0068 Q695.168 22.3818 703.918 22.3818 Q711.766 22.3818 716.314 27.4512 Q720.897 32.4859 720.897 41.1664 M714.509 39.2915 Q714.439 34.0484 711.557 30.9234 Q708.71 27.7985 703.988 27.7985 Q698.641 27.7985 695.411 30.8193 Q692.217 33.8401 691.731 39.3262 L714.509 39.2915 Z\" fill=\"#000000\" fill-rule=\"evenodd\" fill-opacity=\"1\" /><path clip-path=\"url(#clip370)\" d=\"M 0 0 M745.272 42.6595 Q737.529 42.6595 734.543 44.4303 Q731.557 46.2011 731.557 50.472 Q731.557 53.8747 733.779 55.8886 Q736.036 57.8677 739.89 57.8677 Q745.203 57.8677 748.397 54.1178 Q751.626 50.3331 751.626 44.0831 L751.626 42.6595 L745.272 42.6595 M758.015 40.0206 L758.015 62.208 L751.626 62.208 L751.626 56.3053 Q749.439 59.8469 746.175 61.5483 Q742.911 63.2149 738.189 63.2149 Q732.217 63.2149 728.675 59.8816 Q725.168 56.5136 725.168 50.8886 Q725.168 44.3262 729.543 40.9928 Q733.953 37.6595 742.668 37.6595 L751.626 37.6595 L751.626 37.0345 Q751.626 32.6248 748.71 30.229 Q745.828 27.7985 740.585 27.7985 Q737.252 27.7985 734.092 28.5971 Q730.932 29.3957 728.015 30.9929 L728.015 25.0901 Q731.522 23.736 734.821 23.0763 Q738.12 22.3818 741.245 22.3818 Q749.682 22.3818 753.849 26.7568 Q758.015 31.1318 758.015 40.0206 Z\" fill=\"#000000\" fill-rule=\"evenodd\" fill-opacity=\"1\" /><path clip-path=\"url(#clip370)\" d=\"M 0 0 M812.911 29.2221 L812.911 8.18051 L819.3 8.18051 L819.3 62.208 L812.911 62.208 L812.911 56.3747 Q810.897 59.8469 807.807 61.5483 Q804.751 63.2149 800.446 63.2149 Q793.397 63.2149 788.953 57.59 Q784.543 51.965 784.543 42.7984 Q784.543 33.6318 788.953 28.0068 Q793.397 22.3818 800.446 22.3818 Q804.751 22.3818 807.807 24.0832 Q810.897 25.7499 812.911 29.2221 M791.14 42.7984 Q791.14 49.847 794.022 53.8747 Q796.939 57.8677 802.008 57.8677 Q807.078 57.8677 809.994 53.8747 Q812.911 49.847 812.911 42.7984 Q812.911 35.7498 809.994 31.7568 Q807.078 27.729 802.008 27.729 Q796.939 27.729 794.022 31.7568 Q791.14 35.7498 791.14 42.7984 Z\" fill=\"#000000\" fill-rule=\"evenodd\" fill-opacity=\"1\" /><path clip-path=\"url(#clip370)\" d=\"M 0 0 M841.07 27.7985 Q835.932 27.7985 832.945 31.8262 Q829.959 35.8193 829.959 42.7984 Q829.959 49.7775 832.911 53.8053 Q835.897 57.7983 841.07 57.7983 Q846.175 57.7983 849.161 53.7705 Q852.147 49.7428 852.147 42.7984 Q852.147 35.8887 849.161 31.8609 Q846.175 27.7985 841.07 27.7985 M841.07 22.3818 Q849.404 22.3818 854.161 27.7985 Q858.918 33.2151 858.918 42.7984 Q858.918 52.3469 854.161 57.7983 Q849.404 63.2149 841.07 63.2149 Q832.702 63.2149 827.945 57.7983 Q823.223 52.3469 823.223 42.7984 Q823.223 33.2151 827.945 27.7985 Q832.702 22.3818 841.07 22.3818 Z\" fill=\"#000000\" fill-rule=\"evenodd\" fill-opacity=\"1\" /><path clip-path=\"url(#clip370)\" d=\"M 0 0 M890.41 24.4651 L890.41 30.5068 Q887.702 29.1179 884.785 28.4235 Q881.869 27.729 878.744 27.729 Q873.987 27.729 871.591 29.1873 Q869.23 30.6457 869.23 33.5623 Q869.23 35.7845 870.931 37.0692 Q872.633 38.3192 877.772 39.4651 L879.959 39.9512 Q886.765 41.4095 889.612 44.0831 Q892.494 46.722 892.494 51.4789 Q892.494 56.8955 888.188 60.0552 Q883.917 63.2149 876.417 63.2149 Q873.292 63.2149 869.89 62.5899 Q866.522 61.9997 862.772 60.7844 L862.772 54.1872 Q866.313 56.0275 869.751 56.965 Q873.188 57.8677 876.556 57.8677 Q881.07 57.8677 883.501 56.34 Q885.931 54.7775 885.931 51.965 Q885.931 49.3608 884.16 47.972 Q882.424 46.5831 876.487 45.2984 L874.265 44.7775 Q868.327 43.5275 865.688 40.9581 Q863.049 38.354 863.049 33.8401 Q863.049 28.354 866.938 25.3679 Q870.827 22.3818 877.98 22.3818 Q881.522 22.3818 884.647 22.9027 Q887.772 23.4235 890.41 24.4651 Z\" fill=\"#000000\" fill-rule=\"evenodd\" fill-opacity=\"1\" /><path clip-path=\"url(#clip370)\" d=\"M 0 0 M944.334 29.2915 Q943.257 28.6665 941.973 28.3887 Q940.723 28.0762 939.195 28.0762 Q933.778 28.0762 930.862 31.6179 Q927.98 35.1248 927.98 41.722 L927.98 62.208 L921.556 62.208 L921.556 23.3193 L927.98 23.3193 L927.98 29.361 Q929.994 25.8193 933.223 24.1179 Q936.452 22.3818 941.07 22.3818 Q941.73 22.3818 942.528 22.486 Q943.327 22.5554 944.299 22.729 L944.334 29.2915 Z\" fill=\"#000000\" fill-rule=\"evenodd\" fill-opacity=\"1\" /><path clip-path=\"url(#clip370)\" d=\"M 0 0 M982.736 41.1664 L982.736 44.2914 L953.361 44.2914 Q953.778 50.8886 957.32 54.3608 Q960.896 57.7983 967.25 57.7983 Q970.931 57.7983 974.368 56.8955 Q977.841 55.9928 981.243 54.1872 L981.243 60.2288 Q977.806 61.6872 974.195 62.4511 Q970.584 63.2149 966.868 63.2149 Q957.563 63.2149 952.111 57.7983 Q946.695 52.3817 946.695 43.1456 Q946.695 33.597 951.834 28.0068 Q957.007 22.3818 965.757 22.3818 Q973.604 22.3818 978.153 27.4512 Q982.736 32.4859 982.736 41.1664 M976.347 39.2915 Q976.278 34.0484 973.396 30.9234 Q970.549 27.7985 965.827 27.7985 Q960.479 27.7985 957.25 30.8193 Q954.056 33.8401 953.57 39.3262 L976.347 39.2915 Z\" fill=\"#000000\" fill-rule=\"evenodd\" fill-opacity=\"1\" /><path clip-path=\"url(#clip370)\" d=\"M 0 0 M995.757 12.2777 L995.757 23.3193 L1008.92 23.3193 L1008.92 28.2846 L995.757 28.2846 L995.757 49.3956 Q995.757 54.1525 997.042 55.5066 Q998.361 56.8608 1002.35 56.8608 L1008.92 56.8608 L1008.92 62.208 L1002.35 62.208 Q994.958 62.208 992.146 59.465 Q989.334 56.6872 989.334 49.3956 L989.334 28.2846 L984.646 28.2846 L984.646 23.3193 L989.334 23.3193 L989.334 12.2777 L995.757 12.2777 Z\" fill=\"#000000\" fill-rule=\"evenodd\" fill-opacity=\"1\" /><path clip-path=\"url(#clip370)\" d=\"M 0 0 M1033.29 42.6595 Q1025.55 42.6595 1022.56 44.4303 Q1019.58 46.2011 1019.58 50.472 Q1019.58 53.8747 1021.8 55.8886 Q1024.06 57.8677 1027.91 57.8677 Q1033.22 57.8677 1036.42 54.1178 Q1039.65 50.3331 1039.65 44.0831 L1039.65 42.6595 L1033.29 42.6595 M1046.03 40.0206 L1046.03 62.208 L1039.65 62.208 L1039.65 56.3053 Q1037.46 59.8469 1034.19 61.5483 Q1030.93 63.2149 1026.21 63.2149 Q1020.24 63.2149 1016.69 59.8816 Q1013.19 56.5136 1013.19 50.8886 Q1013.19 44.3262 1017.56 40.9928 Q1021.97 37.6595 1030.69 37.6595 L1039.65 37.6595 L1039.65 37.0345 Q1039.65 32.6248 1036.73 30.229 Q1033.85 27.7985 1028.6 27.7985 Q1025.27 27.7985 1022.11 28.5971 Q1018.95 29.3957 1016.03 30.9929 L1016.03 25.0901 Q1019.54 23.736 1022.84 23.0763 Q1026.14 22.3818 1029.26 22.3818 Q1037.7 22.3818 1041.87 26.7568 Q1046.03 31.1318 1046.03 40.0206 M1026.97 5.3333 L1032.11 5.3333 L1040.62 18.3888 L1035.79 18.3888 L1029.54 9.88189 L1023.29 18.3888 L1018.47 18.3888 L1026.97 5.3333 Z\" fill=\"#000000\" fill-rule=\"evenodd\" fill-opacity=\"1\" /><path clip-path=\"url(#clip370)\" d=\"M 0 0 M1085.06 38.7359 L1085.06 62.208 L1078.67 62.208 L1078.67 38.9442 Q1078.67 33.4234 1076.52 30.6804 Q1074.37 27.9374 1070.06 27.9374 Q1064.89 27.9374 1061.9 31.2359 Q1058.92 34.5345 1058.92 40.229 L1058.92 62.208 L1052.49 62.208 L1052.49 23.3193 L1058.92 23.3193 L1058.92 29.361 Q1061.21 25.854 1064.3 24.1179 Q1067.42 22.3818 1071.49 22.3818 Q1078.19 22.3818 1081.62 26.5485 Q1085.06 30.6804 1085.06 38.7359 Z\" fill=\"#000000\" fill-rule=\"evenodd\" fill-opacity=\"1\" /><path clip-path=\"url(#clip370)\" d=\"M 0 0 M1117.35 42.3123 Q1117.35 35.3679 1114.47 31.5484 Q1111.62 27.729 1106.45 27.729 Q1101.31 27.729 1098.43 31.5484 Q1095.58 35.3679 1095.58 42.3123 Q1095.58 49.222 1098.43 53.0414 Q1101.31 56.8608 1106.45 56.8608 Q1111.62 56.8608 1114.47 53.0414 Q1117.35 49.222 1117.35 42.3123 M1123.74 57.3816 Q1123.74 67.3121 1119.33 72.1385 Q1114.92 76.9996 1105.83 76.9996 Q1102.46 76.9996 1099.47 76.4788 Q1096.49 75.9926 1093.67 74.951 L1093.67 68.7357 Q1096.49 70.2635 1099.23 70.9927 Q1101.97 71.7218 1104.82 71.7218 Q1111.1 71.7218 1114.23 68.4232 Q1117.35 65.1594 1117.35 58.5275 L1117.35 55.3678 Q1115.37 58.8052 1112.28 60.5066 Q1109.19 62.208 1104.89 62.208 Q1097.74 62.208 1093.36 56.7566 Q1088.99 51.3053 1088.99 42.3123 Q1088.99 33.2845 1093.36 27.8332 Q1097.74 22.3818 1104.89 22.3818 Q1109.19 22.3818 1112.28 24.0832 Q1115.37 25.7846 1117.35 29.2221 L1117.35 23.3193 L1123.74 23.3193 L1123.74 57.3816 Z\" fill=\"#000000\" fill-rule=\"evenodd\" fill-opacity=\"1\" /><path clip-path=\"url(#clip370)\" d=\"M 0 0 M1129.78 46.8609 L1129.78 23.3193 L1136.17 23.3193 L1136.17 46.6178 Q1136.17 52.1386 1138.33 54.9164 Q1140.48 57.6594 1144.78 57.6594 Q1149.96 57.6594 1152.94 54.3608 Q1155.96 51.0622 1155.96 45.3678 L1155.96 23.3193 L1162.35 23.3193 L1162.35 62.208 L1155.96 62.208 L1155.96 56.2358 Q1153.64 59.7775 1150.55 61.5136 Q1147.49 63.2149 1143.43 63.2149 Q1136.73 63.2149 1133.26 59.0483 Q1129.78 54.8817 1129.78 46.8609 M1145.86 22.3818 L1145.86 22.3818 Z\" fill=\"#000000\" fill-rule=\"evenodd\" fill-opacity=\"1\" /><path clip-path=\"url(#clip370)\" d=\"M 0 0 M1169.05 8.18051 L1175.44 8.18051 L1175.44 62.208 L1169.05 62.208 L1169.05 8.18051 Z\" fill=\"#000000\" fill-rule=\"evenodd\" fill-opacity=\"1\" /><path clip-path=\"url(#clip370)\" d=\"M 0 0 M1197.21 27.7985 Q1192.08 27.7985 1189.09 31.8262 Q1186.1 35.8193 1186.1 42.7984 Q1186.1 49.7775 1189.05 53.8053 Q1192.04 57.7983 1197.21 57.7983 Q1202.32 57.7983 1205.3 53.7705 Q1208.29 49.7428 1208.29 42.7984 Q1208.29 35.8887 1205.3 31.8609 Q1202.32 27.7985 1197.21 27.7985 M1197.21 22.3818 Q1205.55 22.3818 1210.3 27.7985 Q1215.06 33.2151 1215.06 42.7984 Q1215.06 52.3469 1210.3 57.7983 Q1205.55 63.2149 1197.21 63.2149 Q1188.85 63.2149 1184.09 57.7983 Q1179.37 52.3469 1179.37 42.7984 Q1179.37 33.2151 1184.09 27.7985 Q1188.85 22.3818 1197.21 22.3818 Z\" fill=\"#000000\" fill-rule=\"evenodd\" fill-opacity=\"1\" /><path clip-path=\"url(#clip370)\" d=\"M 0 0 M1246.55 24.4651 L1246.55 30.5068 Q1243.85 29.1179 1240.93 28.4235 Q1238.01 27.729 1234.89 27.729 Q1230.13 27.729 1227.74 29.1873 Q1225.37 30.6457 1225.37 33.5623 Q1225.37 35.7845 1227.08 37.0692 Q1228.78 38.3192 1233.92 39.4651 L1236.1 39.9512 Q1242.91 41.4095 1245.76 44.0831 Q1248.64 46.722 1248.64 51.4789 Q1248.64 56.8955 1244.33 60.0552 Q1240.06 63.2149 1232.56 63.2149 Q1229.44 63.2149 1226.03 62.5899 Q1222.67 61.9997 1218.92 60.7844 L1218.92 54.1872 Q1222.46 56.0275 1225.89 56.965 Q1229.33 57.8677 1232.7 57.8677 Q1237.21 57.8677 1239.64 56.34 Q1242.08 54.7775 1242.08 51.965 Q1242.08 49.3608 1240.3 47.972 Q1238.57 46.5831 1232.63 45.2984 L1230.41 44.7775 Q1224.47 43.5275 1221.83 40.9581 Q1219.19 38.354 1219.19 33.8401 Q1219.19 28.354 1223.08 25.3679 Q1226.97 22.3818 1234.12 22.3818 Q1237.67 22.3818 1240.79 22.9027 Q1243.92 23.4235 1246.55 24.4651 Z\" fill=\"#000000\" fill-rule=\"evenodd\" fill-opacity=\"1\" /><path clip-path=\"url(#clip370)\" d=\"M 0 0 M1311.21 41.1664 L1311.21 44.2914 L1281.83 44.2914 Q1282.25 50.8886 1285.79 54.3608 Q1289.37 57.7983 1295.72 57.7983 Q1299.4 57.7983 1302.84 56.8955 Q1306.31 55.9928 1309.71 54.1872 L1309.71 60.2288 Q1306.28 61.6872 1302.67 62.4511 Q1299.05 63.2149 1295.34 63.2149 Q1286.03 63.2149 1280.58 57.7983 Q1275.17 52.3817 1275.17 43.1456 Q1275.17 33.597 1280.3 28.0068 Q1285.48 22.3818 1294.23 22.3818 Q1302.07 22.3818 1306.62 27.4512 Q1311.21 32.4859 1311.21 41.1664 M1304.82 39.2915 Q1304.75 34.0484 1301.87 30.9234 Q1299.02 27.7985 1294.3 27.7985 Q1288.95 27.7985 1285.72 30.8193 Q1282.53 33.8401 1282.04 39.3262 L1304.82 39.2915 Z\" fill=\"#000000\" fill-rule=\"evenodd\" fill-opacity=\"1\" /><path clip-path=\"url(#clip370)\" d=\"M 0 0 M1348.19 30.7846 Q1350.58 26.479 1353.91 24.4304 Q1357.25 22.3818 1361.76 22.3818 Q1367.84 22.3818 1371.14 26.6526 Q1374.44 30.8887 1374.44 38.7359 L1374.44 62.208 L1368.01 62.208 L1368.01 38.9442 Q1368.01 33.354 1366.03 30.6457 Q1364.05 27.9374 1359.99 27.9374 Q1355.03 27.9374 1352.14 31.2359 Q1349.26 34.5345 1349.26 40.229 L1349.26 62.208 L1342.84 62.208 L1342.84 38.9442 Q1342.84 33.3193 1340.86 30.6457 Q1338.88 27.9374 1334.75 27.9374 Q1329.85 27.9374 1326.97 31.2707 Q1324.09 34.5693 1324.09 40.229 L1324.09 62.208 L1317.67 62.208 L1317.67 23.3193 L1324.09 23.3193 L1324.09 29.361 Q1326.28 25.7846 1329.33 24.0832 Q1332.39 22.3818 1336.59 22.3818 Q1340.82 22.3818 1343.78 24.5346 Q1346.76 26.6874 1348.19 30.7846 Z\" fill=\"#000000\" fill-rule=\"evenodd\" fill-opacity=\"1\" /><path clip-path=\"url(#clip370)\" d=\"M 0 0 M1418.81 27.7985 Q1413.67 27.7985 1410.69 31.8262 Q1407.7 35.8193 1407.7 42.7984 Q1407.7 49.7775 1410.65 53.8053 Q1413.64 57.7983 1418.81 57.7983 Q1423.91 57.7983 1426.9 53.7705 Q1429.89 49.7428 1429.89 42.7984 Q1429.89 35.8887 1426.9 31.8609 Q1423.91 27.7985 1418.81 27.7985 M1418.81 22.3818 Q1427.14 22.3818 1431.9 27.7985 Q1436.66 33.2151 1436.66 42.7984 Q1436.66 52.3469 1431.9 57.7983 Q1427.14 63.2149 1418.81 63.2149 Q1410.44 63.2149 1405.69 57.7983 Q1400.96 52.3469 1400.96 42.7984 Q1400.96 33.2151 1405.69 27.7985 Q1410.44 22.3818 1418.81 22.3818 Z\" fill=\"#000000\" fill-rule=\"evenodd\" fill-opacity=\"1\" /><path clip-path=\"url(#clip370)\" d=\"M 0 0 M1465.89 29.2915 Q1464.82 28.6665 1463.53 28.3887 Q1462.28 28.0762 1460.75 28.0762 Q1455.34 28.0762 1452.42 31.6179 Q1449.54 35.1248 1449.54 41.722 L1449.54 62.208 L1443.12 62.208 L1443.12 23.3193 L1449.54 23.3193 L1449.54 29.361 Q1451.55 25.8193 1454.78 24.1179 Q1458.01 22.3818 1462.63 22.3818 Q1463.29 22.3818 1464.09 22.486 Q1464.89 22.5554 1465.86 22.729 L1465.89 29.2915 Z\" fill=\"#000000\" fill-rule=\"evenodd\" fill-opacity=\"1\" /><path clip-path=\"url(#clip370)\" d=\"M 0 0 M1496.93 29.2221 L1496.93 8.18051 L1503.32 8.18051 L1503.32 62.208 L1496.93 62.208 L1496.93 56.3747 Q1494.92 59.8469 1491.83 61.5483 Q1488.78 63.2149 1484.47 63.2149 Q1477.42 63.2149 1472.98 57.59 Q1468.57 51.965 1468.57 42.7984 Q1468.57 33.6318 1472.98 28.0068 Q1477.42 22.3818 1484.47 22.3818 Q1488.78 22.3818 1491.83 24.0832 Q1494.92 25.7499 1496.93 29.2221 M1475.16 42.7984 Q1475.16 49.847 1478.05 53.8747 Q1480.96 57.8677 1486.03 57.8677 Q1491.1 57.8677 1494.02 53.8747 Q1496.93 49.847 1496.93 42.7984 Q1496.93 35.7498 1494.02 31.7568 Q1491.1 27.729 1486.03 27.729 Q1480.96 27.729 1478.05 31.7568 Q1475.16 35.7498 1475.16 42.7984 Z\" fill=\"#000000\" fill-rule=\"evenodd\" fill-opacity=\"1\" /><path clip-path=\"url(#clip370)\" d=\"M 0 0 M1543.29 41.1664 L1543.29 44.2914 L1513.91 44.2914 Q1514.33 50.8886 1517.87 54.3608 Q1521.45 57.7983 1527.8 57.7983 Q1531.48 57.7983 1534.92 56.8955 Q1538.39 55.9928 1541.8 54.1872 L1541.8 60.2288 Q1538.36 61.6872 1534.75 62.4511 Q1531.14 63.2149 1527.42 63.2149 Q1518.12 63.2149 1512.66 57.7983 Q1507.25 52.3817 1507.25 43.1456 Q1507.25 33.597 1512.39 28.0068 Q1517.56 22.3818 1526.31 22.3818 Q1534.16 22.3818 1538.71 27.4512 Q1543.29 32.4859 1543.29 41.1664 M1536.9 39.2915 Q1536.83 34.0484 1533.95 30.9234 Q1531.1 27.7985 1526.38 27.7985 Q1521.03 27.7985 1517.8 30.8193 Q1514.61 33.8401 1514.12 39.3262 L1536.9 39.2915 Z\" fill=\"#000000\" fill-rule=\"evenodd\" fill-opacity=\"1\" /><path clip-path=\"url(#clip370)\" d=\"M 0 0 M1580.27 30.7846 Q1582.66 26.479 1586 24.4304 Q1589.33 22.3818 1593.84 22.3818 Q1599.92 22.3818 1603.22 26.6526 Q1606.52 30.8887 1606.52 38.7359 L1606.52 62.208 L1600.09 62.208 L1600.09 38.9442 Q1600.09 33.354 1598.11 30.6457 Q1596.14 27.9374 1592.07 27.9374 Q1587.11 27.9374 1584.23 31.2359 Q1581.34 34.5345 1581.34 40.229 L1581.34 62.208 L1574.92 62.208 L1574.92 38.9442 Q1574.92 33.3193 1572.94 30.6457 Q1570.96 27.9374 1566.83 27.9374 Q1561.93 27.9374 1559.05 31.2707 Q1556.17 34.5693 1556.17 40.229 L1556.17 62.208 L1549.75 62.208 L1549.75 23.3193 L1556.17 23.3193 L1556.17 29.361 Q1558.36 25.7846 1561.41 24.0832 Q1564.47 22.3818 1568.67 22.3818 Q1572.91 22.3818 1575.86 24.5346 Q1578.84 26.6874 1580.27 30.7846 Z\" fill=\"#000000\" fill-rule=\"evenodd\" fill-opacity=\"1\" /><path clip-path=\"url(#clip370)\" d=\"M 0 0 M1663.81 24.8124 L1663.81 30.7846 Q1661.1 29.2915 1658.36 28.5623 Q1655.65 27.7985 1652.87 27.7985 Q1646.66 27.7985 1643.22 31.7568 Q1639.78 35.6804 1639.78 42.7984 Q1639.78 49.9164 1643.22 53.8747 Q1646.66 57.7983 1652.87 57.7983 Q1655.65 57.7983 1658.36 57.0691 Q1661.1 56.3053 1663.81 54.8122 L1663.81 60.715 Q1661.14 61.9649 1658.25 62.5899 Q1655.41 63.2149 1652.18 63.2149 Q1643.39 63.2149 1638.22 57.6941 Q1633.05 52.1733 1633.05 42.7984 Q1633.05 33.2845 1638.25 27.8332 Q1643.5 22.3818 1652.59 22.3818 Q1655.55 22.3818 1658.36 23.0068 Q1661.17 23.5971 1663.81 24.8124 Z\" fill=\"#000000\" fill-rule=\"evenodd\" fill-opacity=\"1\" /><path clip-path=\"url(#clip370)\" d=\"M 0 0 M1693.05 29.2915 Q1691.97 28.6665 1690.68 28.3887 Q1689.43 28.0762 1687.91 28.0762 Q1682.49 28.0762 1679.57 31.6179 Q1676.69 35.1248 1676.69 41.722 L1676.69 62.208 L1670.27 62.208 L1670.27 23.3193 L1676.69 23.3193 L1676.69 29.361 Q1678.7 25.8193 1681.93 24.1179 Q1685.16 22.3818 1689.78 22.3818 Q1690.44 22.3818 1691.24 22.486 Q1692.04 22.5554 1693.01 22.729 L1693.05 29.2915 Z\" fill=\"#000000\" fill-rule=\"evenodd\" fill-opacity=\"1\" /><path clip-path=\"url(#clip370)\" d=\"M 0 0 M1731.45 41.1664 L1731.45 44.2914 L1702.07 44.2914 Q1702.49 50.8886 1706.03 54.3608 Q1709.61 57.7983 1715.96 57.7983 Q1719.64 57.7983 1723.08 56.8955 Q1726.55 55.9928 1729.95 54.1872 L1729.95 60.2288 Q1726.52 61.6872 1722.91 62.4511 Q1719.29 63.2149 1715.58 63.2149 Q1706.27 63.2149 1700.82 57.7983 Q1695.41 52.3817 1695.41 43.1456 Q1695.41 33.597 1700.54 28.0068 Q1705.72 22.3818 1714.47 22.3818 Q1722.32 22.3818 1726.86 27.4512 Q1731.45 32.4859 1731.45 41.1664 M1725.06 39.2915 Q1724.99 34.0484 1722.11 30.9234 Q1719.26 27.7985 1714.54 27.7985 Q1709.19 27.7985 1705.96 30.8193 Q1702.77 33.8401 1702.28 39.3262 L1725.06 39.2915 Z\" fill=\"#000000\" fill-rule=\"evenodd\" fill-opacity=\"1\" /><path clip-path=\"url(#clip370)\" d=\"M 0 0 M1762.94 24.4651 L1762.94 30.5068 Q1760.23 29.1179 1757.32 28.4235 Q1754.4 27.729 1751.27 27.729 Q1746.52 27.729 1744.12 29.1873 Q1741.76 30.6457 1741.76 33.5623 Q1741.76 35.7845 1743.46 37.0692 Q1745.16 38.3192 1750.3 39.4651 L1752.49 39.9512 Q1759.29 41.4095 1762.14 44.0831 Q1765.02 46.722 1765.02 51.4789 Q1765.02 56.8955 1760.72 60.0552 Q1756.45 63.2149 1748.95 63.2149 Q1745.82 63.2149 1742.42 62.5899 Q1739.05 61.9997 1735.3 60.7844 L1735.3 54.1872 Q1738.84 56.0275 1742.28 56.965 Q1745.72 57.8677 1749.09 57.8677 Q1753.6 57.8677 1756.03 56.34 Q1758.46 54.7775 1758.46 51.965 Q1758.46 49.3608 1756.69 47.972 Q1754.95 46.5831 1749.02 45.2984 L1746.79 44.7775 Q1740.86 43.5275 1738.22 40.9581 Q1735.58 38.354 1735.58 33.8401 Q1735.58 28.354 1739.47 25.3679 Q1743.36 22.3818 1750.51 22.3818 Q1754.05 22.3818 1757.18 22.9027 Q1760.3 23.4235 1762.94 24.4651 Z\" fill=\"#000000\" fill-rule=\"evenodd\" fill-opacity=\"1\" /><path clip-path=\"url(#clip370)\" d=\"M 0 0 M1799.71 24.8124 L1799.71 30.7846 Q1797 29.2915 1794.26 28.5623 Q1791.55 27.7985 1788.77 27.7985 Q1782.56 27.7985 1779.12 31.7568 Q1775.68 35.6804 1775.68 42.7984 Q1775.68 49.9164 1779.12 53.8747 Q1782.56 57.7983 1788.77 57.7983 Q1791.55 57.7983 1794.26 57.0691 Q1797 56.3053 1799.71 54.8122 L1799.71 60.715 Q1797.04 61.9649 1794.16 62.5899 Q1791.31 63.2149 1788.08 63.2149 Q1779.29 63.2149 1774.12 57.6941 Q1768.95 52.1733 1768.95 42.7984 Q1768.95 33.2845 1774.16 27.8332 Q1779.4 22.3818 1788.5 22.3818 Q1791.45 22.3818 1794.26 23.0068 Q1797.07 23.5971 1799.71 24.8124 Z\" fill=\"#000000\" fill-rule=\"evenodd\" fill-opacity=\"1\" /><path clip-path=\"url(#clip370)\" d=\"M 0 0 M1839.68 41.1664 L1839.68 44.2914 L1810.3 44.2914 Q1810.72 50.8886 1814.26 54.3608 Q1817.84 57.7983 1824.19 57.7983 Q1827.87 57.7983 1831.31 56.8955 Q1834.78 55.9928 1838.18 54.1872 L1838.18 60.2288 Q1834.75 61.6872 1831.13 62.4511 Q1827.52 63.2149 1823.81 63.2149 Q1814.5 63.2149 1809.05 57.7983 Q1803.63 52.3817 1803.63 43.1456 Q1803.63 33.597 1808.77 28.0068 Q1813.95 22.3818 1822.7 22.3818 Q1830.54 22.3818 1835.09 27.4512 Q1839.68 32.4859 1839.68 41.1664 M1833.29 39.2915 Q1833.22 34.0484 1830.34 30.9234 Q1827.49 27.7985 1822.77 27.7985 Q1817.42 27.7985 1814.19 30.8193 Q1811 33.8401 1810.51 39.3262 L1833.29 39.2915 Z\" fill=\"#000000\" fill-rule=\"evenodd\" fill-opacity=\"1\" /><path clip-path=\"url(#clip370)\" d=\"M 0 0 M1878.7 38.7359 L1878.7 62.208 L1872.31 62.208 L1872.31 38.9442 Q1872.31 33.4234 1870.16 30.6804 Q1868.01 27.9374 1863.7 27.9374 Q1858.53 27.9374 1855.54 31.2359 Q1852.56 34.5345 1852.56 40.229 L1852.56 62.208 L1846.13 62.208 L1846.13 23.3193 L1852.56 23.3193 L1852.56 29.361 Q1854.85 25.854 1857.94 24.1179 Q1861.06 22.3818 1865.13 22.3818 Q1871.83 22.3818 1875.27 26.5485 Q1878.7 30.6804 1878.7 38.7359 Z\" fill=\"#000000\" fill-rule=\"evenodd\" fill-opacity=\"1\" /><path clip-path=\"url(#clip370)\" d=\"M 0 0 M1891.72 12.2777 L1891.72 23.3193 L1904.88 23.3193 L1904.88 28.2846 L1891.72 28.2846 L1891.72 49.3956 Q1891.72 54.1525 1893.01 55.5066 Q1894.33 56.8608 1898.32 56.8608 L1904.88 56.8608 L1904.88 62.208 L1898.32 62.208 Q1890.93 62.208 1888.11 59.465 Q1885.3 56.6872 1885.3 49.3956 L1885.3 28.2846 L1880.61 28.2846 L1880.61 23.3193 L1885.3 23.3193 L1885.3 12.2777 L1891.72 12.2777 Z\" fill=\"#000000\" fill-rule=\"evenodd\" fill-opacity=\"1\" /><path clip-path=\"url(#clip370)\" d=\"M 0 0 M1944.85 41.1664 L1944.85 44.2914 L1915.47 44.2914 Q1915.89 50.8886 1919.43 54.3608 Q1923.01 57.7983 1929.36 57.7983 Q1933.04 57.7983 1936.48 56.8955 Q1939.95 55.9928 1943.36 54.1872 L1943.36 60.2288 Q1939.92 61.6872 1936.31 62.4511 Q1932.7 63.2149 1928.98 63.2149 Q1919.68 63.2149 1914.22 57.7983 Q1908.81 52.3817 1908.81 43.1456 Q1908.81 33.597 1913.95 28.0068 Q1919.12 22.3818 1927.87 22.3818 Q1935.72 22.3818 1940.27 27.4512 Q1944.85 32.4859 1944.85 41.1664 M1938.46 39.2915 Q1938.39 34.0484 1935.51 30.9234 Q1932.66 27.7985 1927.94 27.7985 Q1922.59 27.7985 1919.36 30.8193 Q1916.17 33.8401 1915.68 39.3262 L1938.46 39.2915 Z\" fill=\"#000000\" fill-rule=\"evenodd\" fill-opacity=\"1\" /><polyline clip-path=\"url(#clip372)\" style=\"stroke:#cd3333; stroke-width:16; stroke-opacity:1; fill:none\" points=\"\n",
       "  258.84,638.171 936.483,638.171 1614.13,324.168 2291.77,245.667 \n",
       "  \"/>\n",
       "<circle clip-path=\"url(#clip372)\" cx=\"258.84\" cy=\"638.171\" r=\"28\" fill=\"#cd3333\" fill-rule=\"evenodd\" fill-opacity=\"1\" stroke=\"#000000\" stroke-opacity=\"1\" stroke-width=\"0\"/>\n",
       "<circle clip-path=\"url(#clip372)\" cx=\"936.483\" cy=\"638.171\" r=\"28\" fill=\"#cd3333\" fill-rule=\"evenodd\" fill-opacity=\"1\" stroke=\"#000000\" stroke-opacity=\"1\" stroke-width=\"0\"/>\n",
       "<circle clip-path=\"url(#clip372)\" cx=\"1614.13\" cy=\"324.168\" r=\"28\" fill=\"#cd3333\" fill-rule=\"evenodd\" fill-opacity=\"1\" stroke=\"#000000\" stroke-opacity=\"1\" stroke-width=\"0\"/>\n",
       "<circle clip-path=\"url(#clip372)\" cx=\"2291.77\" cy=\"245.667\" r=\"28\" fill=\"#cd3333\" fill-rule=\"evenodd\" fill-opacity=\"1\" stroke=\"#000000\" stroke-opacity=\"1\" stroke-width=\"0\"/>\n",
       "<path clip-path=\"url(#clip370)\" d=\"\n",
       "M269.683 279.404 L600.852 279.404 L600.852 158.444 L269.683 158.444  Z\n",
       "  \" fill=\"#eaeaea\" fill-rule=\"evenodd\" fill-opacity=\"1\"/>\n",
       "<polyline clip-path=\"url(#clip370)\" style=\"stroke:#ffffff; stroke-width:4; stroke-opacity:1; fill:none\" points=\"\n",
       "  269.683,279.404 600.852,279.404 600.852,158.444 269.683,158.444 269.683,279.404 \n",
       "  \"/>\n",
       "<polyline clip-path=\"url(#clip370)\" style=\"stroke:#cd3333; stroke-width:4; stroke-opacity:1; fill:none\" points=\"\n",
       "  293.626,218.924 437.286,218.924 \n",
       "  \"/>\n",
       "<circle clip-path=\"url(#clip370)\" cx=\"365.456\" cy=\"218.924\" r=\"23\" fill=\"#cd3333\" fill-rule=\"evenodd\" fill-opacity=\"1\" stroke=\"#000000\" stroke-opacity=\"1\" stroke-width=\"0\"/>\n",
       "<path clip-path=\"url(#clip370)\" d=\"M 0 0 M474.632 223.171 Q469.47 223.171 467.48 224.352 Q465.489 225.532 465.489 228.38 Q465.489 230.648 466.97 231.991 Q468.475 233.31 471.044 233.31 Q474.586 233.31 476.716 230.81 Q478.868 228.287 478.868 224.12 L478.868 223.171 L474.632 223.171 M483.128 221.412 L483.128 236.204 L478.868 236.204 L478.868 232.269 Q477.41 234.63 475.234 235.764 Q473.058 236.875 469.91 236.875 Q465.929 236.875 463.568 234.653 Q461.23 232.407 461.23 228.657 Q461.23 224.282 464.146 222.06 Q467.086 219.838 472.896 219.838 L478.868 219.838 L478.868 219.421 Q478.868 216.482 476.924 214.884 Q475.003 213.264 471.507 213.264 Q469.285 213.264 467.179 213.796 Q465.072 214.329 463.128 215.394 L463.128 211.458 Q465.466 210.556 467.665 210.116 Q469.864 209.653 471.947 209.653 Q477.572 209.653 480.35 212.57 Q483.128 215.486 483.128 221.412 M475.35 198.287 L479.956 198.287 L472.41 206.991 L468.868 206.991 L475.35 198.287 Z\" fill=\"#000000\" fill-rule=\"evenodd\" fill-opacity=\"1\" /><path clip-path=\"url(#clip370)\" d=\"M 0 0 M502.618 214.259 Q501.901 213.843 501.044 213.658 Q500.211 213.449 499.192 213.449 Q495.581 213.449 493.637 215.81 Q491.716 218.148 491.716 222.546 L491.716 236.204 L487.433 236.204 L487.433 210.278 L491.716 210.278 L491.716 214.306 Q493.058 211.945 495.211 210.81 Q497.364 209.653 500.442 209.653 Q500.882 209.653 501.415 209.722 Q501.947 209.769 502.595 209.884 L502.618 214.259 Z\" fill=\"#000000\" fill-rule=\"evenodd\" fill-opacity=\"1\" /><path clip-path=\"url(#clip370)\" d=\"M 0 0 M528.22 222.176 L528.22 224.259 L508.637 224.259 Q508.915 228.657 511.276 230.972 Q513.66 233.264 517.896 233.264 Q520.35 233.264 522.641 232.662 Q524.956 232.06 527.225 230.857 L527.225 234.884 Q524.933 235.856 522.526 236.366 Q520.118 236.875 517.641 236.875 Q511.438 236.875 507.803 233.264 Q504.192 229.653 504.192 223.495 Q504.192 217.13 507.618 213.403 Q511.067 209.653 516.901 209.653 Q522.132 209.653 525.164 213.033 Q528.22 216.389 528.22 222.176 M523.961 220.926 Q523.914 217.431 521.993 215.347 Q520.095 213.264 516.947 213.264 Q513.382 213.264 511.229 215.278 Q509.1 217.292 508.776 220.949 L523.961 220.926 Z\" fill=\"#000000\" fill-rule=\"evenodd\" fill-opacity=\"1\" /><path clip-path=\"url(#clip370)\" d=\"M 0 0 M544.47 223.171 Q539.308 223.171 537.317 224.352 Q535.326 225.532 535.326 228.38 Q535.326 230.648 536.808 231.991 Q538.312 233.31 540.882 233.31 Q544.424 233.31 546.553 230.81 Q548.706 228.287 548.706 224.12 L548.706 223.171 L544.47 223.171 M552.965 221.412 L552.965 236.204 L548.706 236.204 L548.706 232.269 Q547.248 234.63 545.072 235.764 Q542.896 236.875 539.748 236.875 Q535.766 236.875 533.405 234.653 Q531.067 232.407 531.067 228.657 Q531.067 224.282 533.984 222.06 Q536.924 219.838 542.734 219.838 L548.706 219.838 L548.706 219.421 Q548.706 216.482 546.762 214.884 Q544.84 213.264 541.345 213.264 Q539.123 213.264 537.016 213.796 Q534.91 214.329 532.965 215.394 L532.965 211.458 Q535.303 210.556 537.502 210.116 Q539.701 209.653 541.785 209.653 Q547.41 209.653 550.187 212.57 Q552.965 215.486 552.965 221.412 Z\" fill=\"#000000\" fill-rule=\"evenodd\" fill-opacity=\"1\" /></svg>\n"
      ]
     },
     "execution_count": 30,
     "metadata": {},
     "output_type": "execute_result"
    }
   ],
   "source": [
    "plot(area.(ordenados), xaxis=\"ordem\", yaxis=\"área\", label=\"área\", color=:brown3,\n",
    "    marker = :circle, markersize = 8, linewidth = 4, \n",
    "    title=\"Área dos retângulos em ordem crescente\", titlefontsize=12,\n",
    "    legend=:topleft, ylims=(0.0, 10.0)\n",
    ")"
   ]
  },
  {
   "cell_type": "markdown",
   "metadata": {
    "slideshow": {
     "slide_type": "slide"
    }
   },
   "source": [
    "## Performance\n",
    "\n",
    "A macro `@time` nos dá alguma informação sobre o tempo de execução, número de alocações e memória utilizada na execução de alguma linha ou bloco de código."
   ]
  },
  {
   "cell_type": "code",
   "execution_count": 31,
   "metadata": {
    "slideshow": {
     "slide_type": "fragment"
    }
   },
   "outputs": [
    {
     "name": "stdout",
     "output_type": "stream",
     "text": [
      "  0.000045 seconds (1 allocation: 20.625 KiB)\n",
      "  0.002482 seconds (23 allocations: 22.000 KiB, 98.12% compilation time)\n"
     ]
    }
   ],
   "source": [
    "@time length(\"Modelagem Matemática\"^1000)\n",
    "@time begin\n",
    "    s = \"Modelagem Matemática\"\n",
    "    s ^= 1000\n",
    "    length(s)\n",
    "end\n",
    "nothing"
   ]
  },
  {
   "cell_type": "markdown",
   "metadata": {
    "slideshow": {
     "slide_type": "slide"
    }
   },
   "source": [
    "O pacote [JuliaCI/BenchmarkTools.jl](https://github.com/JuliaCI/BenchmarkTools.jl) é mais completo e da mais informações para avaliar a performance dos códigos.\n",
    "\n",
    "Em particular, ela executa o código várias vezes, para evitar ruído e retornar uma informação mais precisa sobre a performance.\n",
    "\n",
    "Por exemplo, podemos comparar as diversas maneiras de se calcular o produto escalar entre dois vetores."
   ]
  },
  {
   "cell_type": "code",
   "execution_count": 32,
   "metadata": {
    "slideshow": {
     "slide_type": "fragment"
    }
   },
   "outputs": [
    {
     "name": "stdout",
     "output_type": "stream",
     "text": [
      "  128.255 ns (1 allocation: 896 bytes)\n",
      "  132.761 ns (0 allocations: 0 bytes)\n",
      "  41.075 ns (0 allocations: 0 bytes)\n"
     ]
    }
   ],
   "source": [
    "using BenchmarkTools\n",
    "\n",
    "vec1 = rand(100)\n",
    "vec2 = rand(100)\n",
    "\n",
    "escalar1(vec1, vec2) = sum(vec1 .* vec2)\n",
    "escalar2(vec1, vec2) = mapreduce(elem -> elem[1]*elem[2], +, zip(vec1, vec2))\n",
    "escalar3(vec1, vec2) = vec1 ⋅ vec2\n",
    "\n",
    "@btime escalar1($vec1, $vec2)\n",
    "@btime escalar2($vec1, $vec2)\n",
    "@btime escalar3($vec1, $vec2)\n",
    "nothing"
   ]
  },
  {
   "cell_type": "markdown",
   "metadata": {
    "slideshow": {
     "slide_type": "skip"
    }
   },
   "source": [
    "<!--NAVIGATOR-->\n",
    "\n",
    "---\n",
    "[<- 4. Instalando e acessando o Julia](04.00-Instalando_acessando_Julia.ipynb) | [Página inicial](00.00-Pagina_inicial.ipynb) | [6. Análise dimensional e o Teorema de Buckingham-Pi ->](06.00-BuckinghamPi_analise_dimensional.ipynb)"
   ]
  }
 ],
 "metadata": {
  "kernelspec": {
   "display_name": "Julia 1.6.0",
   "language": "julia",
   "name": "julia-1.6"
  },
  "language_info": {
   "file_extension": ".jl",
   "mimetype": "application/julia",
   "name": "julia",
   "version": "1.6.0"
  }
 },
 "nbformat": 4,
 "nbformat_minor": 4
}
