{
 "cells": [
  {
   "cell_type": "markdown",
   "metadata": {
    "slideshow": {
     "slide_type": "skip"
    }
   },
   "source": [
    "<!--HEADER-->\n",
    "*Notas de aula de Modelagem Matemática - 2021/1 [- Ricardo M. S. Rosa (IM/UFRJ)](http://www.im.ufrj.br/rrosa)*"
   ]
  },
  {
   "cell_type": "markdown",
   "metadata": {
    "slideshow": {
     "slide_type": "skip"
    }
   },
   "source": [
    "<!--BADGES-->\n",
    "<a href=\"https://nbviewer.jupyter.org/github/rmsrosa/modelagem_matematica/blob/modmat2021p1/notas_de_aula/03.03-Unidades_Julia.ipynb\" target=\"_blank\"><img align=\"left\" src=\"https://img.shields.io/badge/view%20in-nbviewer-orange\" alt=\"View in NBViewer\" title=\"View in NBViewer\"></a><a href=\"https://mybinder.org/v2/gh/rmsrosa/modelagem_matematica/julia-env-for-binder-2021p1?urlpath=git-pull%3Frepo%3Dhttps%253A%252F%252Fgithub.com%252Frmsrosa%252Fmodelagem_matematica%26branch%3Dmodmat2021p1%26urlpath%3Dtree%252Fmodelagem_matematica%252Fnotas_de_aula/03.03-Unidades_Julia.ipynb\" target=\"_blank\"><img align=\"left\" src=\"https://mybinder.org/badge.svg\" alt=\"Open in binder\" title=\"Open in binder\"></a><a href=\"https://nbviewer.jupyter.org/github/rmsrosa/modelagem_matematica/blob/modmat2021p1/notas_de_aula/slides/03.03-Unidades_Julia.slides.html\" target=\"_blank\"><img align=\"left\" src=\"https://img.shields.io/badge/view-slides-darkgreen\" alt=\"View Slides\" title=\"View Slides\"></a>&nbsp;"
   ]
  },
  {
   "cell_type": "markdown",
   "metadata": {
    "slideshow": {
     "slide_type": "skip"
    }
   },
   "source": [
    "<!--NAVIGATOR-->\n",
    "[<- 3.2. Análise dimensional e o Teorema de Buckingham-Pi](03.02-BuckinghamPi.ipynb) | [Página inicial](00.00-Pagina_inicial.ipynb) | [4. Ajuste de parâmetros ->](04.00-Ajuste_parametros.ipynb)\n",
    "\n",
    "---\n"
   ]
  },
  {
   "cell_type": "markdown",
   "metadata": {
    "slideshow": {
     "slide_type": "slide"
    },
    "tags": []
   },
   "source": [
    "# Trabalhando com unidades e dimensões em Julia\n",
    "\n",
    "* [PainterQubits/Unitful.jl](https://github.com/PainterQubits/Unitful.jl): pacote para se trabalhar com quantidades, unidades e dimensões\n",
    "\n",
    "* [jw3126/UnitfulRecipes.jl](https://github.com/jw3126/UnitfulRecipes.jl): pacote com \"receitas\"  para se traçar gráficos vai [JuliaPlots/Plots.jl]](https://github.com/JuliaPlots/Plots.jl).\n",
    "\n",
    "* [rmsrosa/UnitfulBuckinghamPi.jl](https://github.com/rmsrosa/UnitfulBuckinghamPi.jl): pacote para se obter os grupos adimensionais garantidos pelo Teorema de Buckingham-Pi."
   ]
  },
  {
   "cell_type": "code",
   "execution_count": 1,
   "metadata": {
    "slideshow": {
     "slide_type": "slide"
    },
    "tags": []
   },
   "outputs": [],
   "source": [
    "using Unitful\n",
    "using UnitfulBuckinghamPi\n",
    "using Plots\n",
    "using UnitfulRecipes"
   ]
  },
  {
   "cell_type": "markdown",
   "metadata": {
    "slideshow": {
     "slide_type": "slide"
    },
    "tags": []
   },
   "source": [
    "## Quantidades, unidades e dimensão via Unitful.jl\n",
    "\n",
    "* É bastante simple definir e operar com quantidades, unidades e dimensões através do pacote [PainterQubits/Unitful.jl](https://github.com/PainterQubits/Unitful.jl).\n",
    "\n",
    "* Basta adicionarmos uma *strings prefixada com `u`*, com a unidade desejada na string. Por exemplo:"
   ]
  },
  {
   "cell_type": "markdown",
   "metadata": {
    "slideshow": {
     "slide_type": "slide"
    },
    "tags": []
   },
   "source": [
    "### Comprimento"
   ]
  },
  {
   "cell_type": "code",
   "execution_count": 2,
   "metadata": {
    "slideshow": {
     "slide_type": "fragment"
    },
    "tags": []
   },
   "outputs": [
    {
     "data": {
      "text/plain": [
       "10.0 m"
      ]
     },
     "execution_count": 2,
     "metadata": {},
     "output_type": "execute_result"
    }
   ],
   "source": [
    "h0 = 10.0u\"m\" # quantidade em metros"
   ]
  },
  {
   "cell_type": "code",
   "execution_count": 3,
   "metadata": {
    "slideshow": {
     "slide_type": "fragment"
    },
    "tags": []
   },
   "outputs": [
    {
     "data": {
      "text/plain": [
       "10.0"
      ]
     },
     "execution_count": 3,
     "metadata": {},
     "output_type": "execute_result"
    }
   ],
   "source": [
    "h0.val # valor da quantidade"
   ]
  },
  {
   "cell_type": "code",
   "execution_count": 4,
   "metadata": {
    "slideshow": {
     "slide_type": "fragment"
    },
    "tags": []
   },
   "outputs": [
    {
     "data": {
      "text/plain": [
       "m"
      ]
     },
     "execution_count": 4,
     "metadata": {},
     "output_type": "execute_result"
    }
   ],
   "source": [
    "unit(h0) # unidade da quantidade"
   ]
  },
  {
   "cell_type": "code",
   "execution_count": 5,
   "metadata": {
    "slideshow": {
     "slide_type": "fragment"
    },
    "tags": []
   },
   "outputs": [
    {
     "data": {
      "text/plain": [
       "𝐋"
      ]
     },
     "execution_count": 5,
     "metadata": {},
     "output_type": "execute_result"
    }
   ],
   "source": [
    "dimension(h0) # dimensão da quantidade"
   ]
  },
  {
   "cell_type": "code",
   "execution_count": 6,
   "metadata": {
    "slideshow": {
     "slide_type": "fragment"
    },
    "tags": []
   },
   "outputs": [
    {
     "data": {
      "text/plain": [
       "Quantity{Float64, 𝐋, Unitful.FreeUnits{(m,), 𝐋, nothing}}"
      ]
     },
     "execution_count": 6,
     "metadata": {},
     "output_type": "execute_result"
    }
   ],
   "source": [
    "typeof(h0) # tipo"
   ]
  },
  {
   "cell_type": "code",
   "execution_count": 7,
   "metadata": {
    "slideshow": {
     "slide_type": "fragment"
    },
    "tags": []
   },
   "outputs": [
    {
     "data": {
      "text/plain": [
       "1000.0 cm"
      ]
     },
     "execution_count": 7,
     "metadata": {},
     "output_type": "execute_result"
    }
   ],
   "source": [
    "uconvert(u\"cm\", h0) # convertendo para outras unidades (de mesma dimensão)"
   ]
  },
  {
   "cell_type": "markdown",
   "metadata": {
    "slideshow": {
     "slide_type": "slide"
    },
    "tags": []
   },
   "source": [
    "### Velocidade"
   ]
  },
  {
   "cell_type": "code",
   "execution_count": 8,
   "metadata": {
    "slideshow": {
     "slide_type": "fragment"
    },
    "tags": []
   },
   "outputs": [
    {
     "data": {
      "text/plain": [
       "3 m s⁻¹"
      ]
     },
     "execution_count": 8,
     "metadata": {},
     "output_type": "execute_result"
    }
   ],
   "source": [
    "v0 = 3u\"m/s\""
   ]
  },
  {
   "cell_type": "code",
   "execution_count": 9,
   "metadata": {
    "slideshow": {
     "slide_type": "fragment"
    },
    "tags": []
   },
   "outputs": [
    {
     "data": {
      "text/plain": [
       "110.0 km hr⁻¹"
      ]
     },
     "execution_count": 9,
     "metadata": {},
     "output_type": "execute_result"
    }
   ],
   "source": [
    "deslocamento = 198u\"km\"; tempo = 1.8u\"hr\"; velocidade = deslocamento / tempo"
   ]
  },
  {
   "cell_type": "markdown",
   "metadata": {
    "slideshow": {
     "slide_type": "fragment"
    },
    "tags": []
   },
   "source": [
    "### Aceleração"
   ]
  },
  {
   "cell_type": "code",
   "execution_count": 10,
   "metadata": {
    "slideshow": {
     "slide_type": "fragment"
    },
    "tags": []
   },
   "outputs": [
    {
     "data": {
      "text/plain": [
       "-9.8 m s⁻²"
      ]
     },
     "execution_count": 10,
     "metadata": {},
     "output_type": "execute_result"
    }
   ],
   "source": [
    "g = -9.8u\"m/s^2\""
   ]
  },
  {
   "cell_type": "markdown",
   "metadata": {
    "slideshow": {
     "slide_type": "slide"
    },
    "tags": []
   },
   "source": [
    "### Altura de um corpo em queda livre"
   ]
  },
  {
   "cell_type": "code",
   "execution_count": 11,
   "metadata": {
    "slideshow": {
     "slide_type": "fragment"
    },
    "tags": []
   },
   "outputs": [
    {
     "data": {
      "text/plain": [
       "h (generic function with 1 method)"
      ]
     },
     "execution_count": 11,
     "metadata": {},
     "output_type": "execute_result"
    }
   ],
   "source": [
    "h(t, h0, v0) = h0 + v0 * t + g * t^2/2"
   ]
  },
  {
   "cell_type": "code",
   "execution_count": 12,
   "metadata": {
    "slideshow": {
     "slide_type": "fragment"
    },
    "tags": []
   },
   "outputs": [
    {
     "data": {
      "text/plain": [
       "(0.0:0.02:2.0) s"
      ]
     },
     "execution_count": 12,
     "metadata": {},
     "output_type": "execute_result"
    }
   ],
   "source": [
    "t = (0:0.02:2.0)u\"s\" # iterador com unidade"
   ]
  },
  {
   "cell_type": "code",
   "execution_count": 13,
   "metadata": {
    "slideshow": {
     "slide_type": "fragment"
    },
    "tags": []
   },
   "outputs": [
    {
     "data": {
      "text/plain": [
       "101-element Vector{Quantity{Float64, 𝐋, Unitful.FreeUnits{(m,), 𝐋, nothing}}}:\n",
       "                 10.0 m\n",
       "             10.05804 m\n",
       "             10.11216 m\n",
       "             10.16236 m\n",
       "             10.20864 m\n",
       "   10.251000000000001 m\n",
       "   10.289439999999999 m\n",
       "             10.32396 m\n",
       "   10.354560000000001 m\n",
       "   10.381239999999998 m\n",
       "               10.404 m\n",
       "             10.42284 m\n",
       "             10.43776 m\n",
       "                      ⋮\n",
       " -0.18516000000000155 m\n",
       " -0.47600000000000264 m\n",
       "  -0.7707600000000028 m\n",
       "  -1.0694400000000037 m\n",
       "  -1.3720400000000037 m\n",
       "   -1.678560000000001 m\n",
       "  -1.9890000000000008 m\n",
       "  -2.3033599999999996 m\n",
       "  -2.6216399999999993 m\n",
       "  -2.9438400000000016 m\n",
       "   -3.269960000000003 m\n",
       "  -3.6000000000000014 m"
      ]
     },
     "execution_count": 13,
     "metadata": {},
     "output_type": "execute_result"
    }
   ],
   "source": [
    "h.(t, h0, v0)"
   ]
  },
  {
   "cell_type": "markdown",
   "metadata": {
    "slideshow": {
     "slide_type": "slide"
    },
    "tags": []
   },
   "source": [
    "### Traçando o gráfico da função sobre o intervalo dado"
   ]
  },
  {
   "cell_type": "code",
   "execution_count": 14,
   "metadata": {
    "slideshow": {
     "slide_type": "fragment"
    },
    "tags": []
   },
   "outputs": [
    {
     "data": {
      "image/svg+xml": [
       "<?xml version=\"1.0\" encoding=\"utf-8\"?>\n",
       "<svg xmlns=\"http://www.w3.org/2000/svg\" xmlns:xlink=\"http://www.w3.org/1999/xlink\" width=\"600\" height=\"400\" viewBox=\"0 0 2400 1600\">\n",
       "<defs>\n",
       "  <clipPath id=\"clip100\">\n",
       "    <rect x=\"0\" y=\"0\" width=\"2400\" height=\"1600\"/>\n",
       "  </clipPath>\n",
       "</defs>\n",
       "<path clip-path=\"url(#clip100)\" d=\"\n",
       "M0 1600 L2400 1600 L2400 0 L0 0  Z\n",
       "  \" fill=\"#ffffff\" fill-rule=\"evenodd\" fill-opacity=\"1\"/>\n",
       "<defs>\n",
       "  <clipPath id=\"clip101\">\n",
       "    <rect x=\"480\" y=\"0\" width=\"1681\" height=\"1600\"/>\n",
       "  </clipPath>\n",
       "</defs>\n",
       "<path clip-path=\"url(#clip100)\" d=\"\n",
       "M256.209 1423.18 L2352.76 1423.18 L2352.76 47.2441 L256.209 47.2441  Z\n",
       "  \" fill=\"#ffffff\" fill-rule=\"evenodd\" fill-opacity=\"1\"/>\n",
       "<defs>\n",
       "  <clipPath id=\"clip102\">\n",
       "    <rect x=\"256\" y=\"47\" width=\"2098\" height=\"1377\"/>\n",
       "  </clipPath>\n",
       "</defs>\n",
       "<polyline clip-path=\"url(#clip102)\" style=\"stroke:#000000; stroke-linecap:butt; stroke-linejoin:round; stroke-width:2; stroke-opacity:0.1; fill:none\" points=\"\n",
       "  315.545,1423.18 315.545,47.2441 \n",
       "  \"/>\n",
       "<polyline clip-path=\"url(#clip102)\" style=\"stroke:#000000; stroke-linecap:butt; stroke-linejoin:round; stroke-width:2; stroke-opacity:0.1; fill:none\" points=\"\n",
       "  810.014,1423.18 810.014,47.2441 \n",
       "  \"/>\n",
       "<polyline clip-path=\"url(#clip102)\" style=\"stroke:#000000; stroke-linecap:butt; stroke-linejoin:round; stroke-width:2; stroke-opacity:0.1; fill:none\" points=\"\n",
       "  1304.48,1423.18 1304.48,47.2441 \n",
       "  \"/>\n",
       "<polyline clip-path=\"url(#clip102)\" style=\"stroke:#000000; stroke-linecap:butt; stroke-linejoin:round; stroke-width:2; stroke-opacity:0.1; fill:none\" points=\"\n",
       "  1798.95,1423.18 1798.95,47.2441 \n",
       "  \"/>\n",
       "<polyline clip-path=\"url(#clip102)\" style=\"stroke:#000000; stroke-linecap:butt; stroke-linejoin:round; stroke-width:2; stroke-opacity:0.1; fill:none\" points=\"\n",
       "  2293.42,1423.18 2293.42,47.2441 \n",
       "  \"/>\n",
       "<polyline clip-path=\"url(#clip100)\" style=\"stroke:#000000; stroke-linecap:butt; stroke-linejoin:round; stroke-width:4; stroke-opacity:1; fill:none\" points=\"\n",
       "  256.209,1423.18 2352.76,1423.18 \n",
       "  \"/>\n",
       "<polyline clip-path=\"url(#clip100)\" style=\"stroke:#000000; stroke-linecap:butt; stroke-linejoin:round; stroke-width:4; stroke-opacity:1; fill:none\" points=\"\n",
       "  315.545,1423.18 315.545,1406.67 \n",
       "  \"/>\n",
       "<polyline clip-path=\"url(#clip100)\" style=\"stroke:#000000; stroke-linecap:butt; stroke-linejoin:round; stroke-width:4; stroke-opacity:1; fill:none\" points=\"\n",
       "  810.014,1423.18 810.014,1406.67 \n",
       "  \"/>\n",
       "<polyline clip-path=\"url(#clip100)\" style=\"stroke:#000000; stroke-linecap:butt; stroke-linejoin:round; stroke-width:4; stroke-opacity:1; fill:none\" points=\"\n",
       "  1304.48,1423.18 1304.48,1406.67 \n",
       "  \"/>\n",
       "<polyline clip-path=\"url(#clip100)\" style=\"stroke:#000000; stroke-linecap:butt; stroke-linejoin:round; stroke-width:4; stroke-opacity:1; fill:none\" points=\"\n",
       "  1798.95,1423.18 1798.95,1406.67 \n",
       "  \"/>\n",
       "<polyline clip-path=\"url(#clip100)\" style=\"stroke:#000000; stroke-linecap:butt; stroke-linejoin:round; stroke-width:4; stroke-opacity:1; fill:none\" points=\"\n",
       "  2293.42,1423.18 2293.42,1406.67 \n",
       "  \"/>\n",
       "<path clip-path=\"url(#clip100)\" d=\"M292.929 1452.37 Q289.318 1452.37 287.49 1455.94 Q285.684 1459.48 285.684 1466.61 Q285.684 1473.71 287.49 1477.28 Q289.318 1480.82 292.929 1480.82 Q296.564 1480.82 298.369 1477.28 Q300.198 1473.71 300.198 1466.61 Q300.198 1459.48 298.369 1455.94 Q296.564 1452.37 292.929 1452.37 M292.929 1448.67 Q298.739 1448.67 301.795 1453.27 Q304.874 1457.86 304.874 1466.61 Q304.874 1475.33 301.795 1479.94 Q298.739 1484.52 292.929 1484.52 Q287.119 1484.52 284.04 1479.94 Q280.985 1475.33 280.985 1466.61 Q280.985 1457.86 284.04 1453.27 Q287.119 1448.67 292.929 1448.67 Z\" fill=\"#000000\" fill-rule=\"evenodd\" fill-opacity=\"1\" /><path clip-path=\"url(#clip100)\" d=\"M313.091 1477.97 L317.975 1477.97 L317.975 1483.85 L313.091 1483.85 L313.091 1477.97 Z\" fill=\"#000000\" fill-rule=\"evenodd\" fill-opacity=\"1\" /><path clip-path=\"url(#clip100)\" d=\"M338.161 1452.37 Q334.549 1452.37 332.721 1455.94 Q330.915 1459.48 330.915 1466.61 Q330.915 1473.71 332.721 1477.28 Q334.549 1480.82 338.161 1480.82 Q341.795 1480.82 343.6 1477.28 Q345.429 1473.71 345.429 1466.61 Q345.429 1459.48 343.6 1455.94 Q341.795 1452.37 338.161 1452.37 M338.161 1448.67 Q343.971 1448.67 347.026 1453.27 Q350.105 1457.86 350.105 1466.61 Q350.105 1475.33 347.026 1479.94 Q343.971 1484.52 338.161 1484.52 Q332.35 1484.52 329.272 1479.94 Q326.216 1475.33 326.216 1466.61 Q326.216 1457.86 329.272 1453.27 Q332.35 1448.67 338.161 1448.67 Z\" fill=\"#000000\" fill-rule=\"evenodd\" fill-opacity=\"1\" /><path clip-path=\"url(#clip100)\" d=\"M787.896 1452.37 Q784.285 1452.37 782.456 1455.94 Q780.65 1459.48 780.65 1466.61 Q780.65 1473.71 782.456 1477.28 Q784.285 1480.82 787.896 1480.82 Q791.53 1480.82 793.335 1477.28 Q795.164 1473.71 795.164 1466.61 Q795.164 1459.48 793.335 1455.94 Q791.53 1452.37 787.896 1452.37 M787.896 1448.67 Q793.706 1448.67 796.761 1453.27 Q799.84 1457.86 799.84 1466.61 Q799.84 1475.33 796.761 1479.94 Q793.706 1484.52 787.896 1484.52 Q782.086 1484.52 779.007 1479.94 Q775.951 1475.33 775.951 1466.61 Q775.951 1457.86 779.007 1453.27 Q782.086 1448.67 787.896 1448.67 Z\" fill=\"#000000\" fill-rule=\"evenodd\" fill-opacity=\"1\" /><path clip-path=\"url(#clip100)\" d=\"M808.058 1477.97 L812.942 1477.97 L812.942 1483.85 L808.058 1483.85 L808.058 1477.97 Z\" fill=\"#000000\" fill-rule=\"evenodd\" fill-opacity=\"1\" /><path clip-path=\"url(#clip100)\" d=\"M823.173 1449.29 L841.53 1449.29 L841.53 1453.23 L827.456 1453.23 L827.456 1461.7 Q828.474 1461.35 829.493 1461.19 Q830.511 1461 831.53 1461 Q837.317 1461 840.696 1464.18 Q844.076 1467.35 844.076 1472.76 Q844.076 1478.34 840.604 1481.44 Q837.132 1484.52 830.812 1484.52 Q828.636 1484.52 826.368 1484.15 Q824.122 1483.78 821.715 1483.04 L821.715 1478.34 Q823.798 1479.48 826.02 1480.03 Q828.243 1480.59 830.72 1480.59 Q834.724 1480.59 837.062 1478.48 Q839.4 1476.38 839.4 1472.76 Q839.4 1469.15 837.062 1467.05 Q834.724 1464.94 830.72 1464.94 Q828.845 1464.94 826.97 1465.36 Q825.118 1465.77 823.173 1466.65 L823.173 1449.29 Z\" fill=\"#000000\" fill-rule=\"evenodd\" fill-opacity=\"1\" /><path clip-path=\"url(#clip100)\" d=\"M1271.64 1479.92 L1279.27 1479.92 L1279.27 1453.55 L1270.96 1455.22 L1270.96 1450.96 L1279.23 1449.29 L1283.9 1449.29 L1283.9 1479.92 L1291.54 1479.92 L1291.54 1483.85 L1271.64 1483.85 L1271.64 1479.92 Z\" fill=\"#000000\" fill-rule=\"evenodd\" fill-opacity=\"1\" /><path clip-path=\"url(#clip100)\" d=\"M1300.99 1477.97 L1305.87 1477.97 L1305.87 1483.85 L1300.99 1483.85 L1300.99 1477.97 Z\" fill=\"#000000\" fill-rule=\"evenodd\" fill-opacity=\"1\" /><path clip-path=\"url(#clip100)\" d=\"M1326.06 1452.37 Q1322.45 1452.37 1320.62 1455.94 Q1318.81 1459.48 1318.81 1466.61 Q1318.81 1473.71 1320.62 1477.28 Q1322.45 1480.82 1326.06 1480.82 Q1329.69 1480.82 1331.5 1477.28 Q1333.32 1473.71 1333.32 1466.61 Q1333.32 1459.48 1331.5 1455.94 Q1329.69 1452.37 1326.06 1452.37 M1326.06 1448.67 Q1331.87 1448.67 1334.92 1453.27 Q1338 1457.86 1338 1466.61 Q1338 1475.33 1334.92 1479.94 Q1331.87 1484.52 1326.06 1484.52 Q1320.25 1484.52 1317.17 1479.94 Q1314.11 1475.33 1314.11 1466.61 Q1314.11 1457.86 1317.17 1453.27 Q1320.25 1448.67 1326.06 1448.67 Z\" fill=\"#000000\" fill-rule=\"evenodd\" fill-opacity=\"1\" /><path clip-path=\"url(#clip100)\" d=\"M1766.6 1479.92 L1774.24 1479.92 L1774.24 1453.55 L1765.93 1455.22 L1765.93 1450.96 L1774.19 1449.29 L1778.87 1449.29 L1778.87 1479.92 L1786.51 1479.92 L1786.51 1483.85 L1766.6 1483.85 L1766.6 1479.92 Z\" fill=\"#000000\" fill-rule=\"evenodd\" fill-opacity=\"1\" /><path clip-path=\"url(#clip100)\" d=\"M1795.95 1477.97 L1800.84 1477.97 L1800.84 1483.85 L1795.95 1483.85 L1795.95 1477.97 Z\" fill=\"#000000\" fill-rule=\"evenodd\" fill-opacity=\"1\" /><path clip-path=\"url(#clip100)\" d=\"M1811.07 1449.29 L1829.43 1449.29 L1829.43 1453.23 L1815.35 1453.23 L1815.35 1461.7 Q1816.37 1461.35 1817.39 1461.19 Q1818.41 1461 1819.43 1461 Q1825.21 1461 1828.59 1464.18 Q1831.97 1467.35 1831.97 1472.76 Q1831.97 1478.34 1828.5 1481.44 Q1825.03 1484.52 1818.71 1484.52 Q1816.53 1484.52 1814.26 1484.15 Q1812.02 1483.78 1809.61 1483.04 L1809.61 1478.34 Q1811.69 1479.48 1813.92 1480.03 Q1816.14 1480.59 1818.62 1480.59 Q1822.62 1480.59 1824.96 1478.48 Q1827.3 1476.38 1827.3 1472.76 Q1827.3 1469.15 1824.96 1467.05 Q1822.62 1464.94 1818.62 1464.94 Q1816.74 1464.94 1814.87 1465.36 Q1813.01 1465.77 1811.07 1466.65 L1811.07 1449.29 Z\" fill=\"#000000\" fill-rule=\"evenodd\" fill-opacity=\"1\" /><path clip-path=\"url(#clip100)\" d=\"M2264.66 1479.92 L2280.98 1479.92 L2280.98 1483.85 L2259.03 1483.85 L2259.03 1479.92 Q2261.7 1477.16 2266.28 1472.53 Q2270.89 1467.88 2272.07 1466.54 Q2274.31 1464.01 2275.19 1462.28 Q2276.09 1460.52 2276.09 1458.83 Q2276.09 1456.07 2274.15 1454.34 Q2272.23 1452.6 2269.13 1452.6 Q2266.93 1452.6 2264.47 1453.37 Q2262.04 1454.13 2259.26 1455.68 L2259.26 1450.96 Q2262.09 1449.82 2264.54 1449.25 Q2267 1448.67 2269.03 1448.67 Q2274.4 1448.67 2277.6 1451.35 Q2280.79 1454.04 2280.79 1458.53 Q2280.79 1460.66 2279.98 1462.58 Q2279.2 1464.48 2277.09 1467.07 Q2276.51 1467.74 2273.41 1470.96 Q2270.31 1474.15 2264.66 1479.92 Z\" fill=\"#000000\" fill-rule=\"evenodd\" fill-opacity=\"1\" /><path clip-path=\"url(#clip100)\" d=\"M2290.79 1477.97 L2295.68 1477.97 L2295.68 1483.85 L2290.79 1483.85 L2290.79 1477.97 Z\" fill=\"#000000\" fill-rule=\"evenodd\" fill-opacity=\"1\" /><path clip-path=\"url(#clip100)\" d=\"M2315.86 1452.37 Q2312.25 1452.37 2310.42 1455.94 Q2308.62 1459.48 2308.62 1466.61 Q2308.62 1473.71 2310.42 1477.28 Q2312.25 1480.82 2315.86 1480.82 Q2319.5 1480.82 2321.3 1477.28 Q2323.13 1473.71 2323.13 1466.61 Q2323.13 1459.48 2321.3 1455.94 Q2319.5 1452.37 2315.86 1452.37 M2315.86 1448.67 Q2321.67 1448.67 2324.73 1453.27 Q2327.81 1457.86 2327.81 1466.61 Q2327.81 1475.33 2324.73 1479.94 Q2321.67 1484.52 2315.86 1484.52 Q2310.05 1484.52 2306.97 1479.94 Q2303.92 1475.33 2303.92 1466.61 Q2303.92 1457.86 2306.97 1453.27 Q2310.05 1448.67 2315.86 1448.67 Z\" fill=\"#000000\" fill-rule=\"evenodd\" fill-opacity=\"1\" /><path clip-path=\"url(#clip100)\" d=\"M1316.2 1533.45 L1316.2 1538.98 Q1313.71 1537.71 1311.04 1537.07 Q1308.37 1536.44 1305.5 1536.44 Q1301.14 1536.44 1298.94 1537.77 Q1296.78 1539.11 1296.78 1541.79 Q1296.78 1543.82 1298.34 1545 Q1299.9 1546.15 1304.61 1547.2 L1306.61 1547.64 Q1312.85 1548.98 1315.46 1551.43 Q1318.1 1553.85 1318.1 1558.21 Q1318.1 1563.17 1314.16 1566.07 Q1310.24 1568.97 1303.37 1568.97 Q1300.5 1568.97 1297.38 1568.39 Q1294.3 1567.85 1290.86 1566.74 L1290.86 1560.69 Q1294.11 1562.38 1297.26 1563.24 Q1300.41 1564.07 1303.5 1564.07 Q1307.63 1564.07 1309.86 1562.66 Q1312.09 1561.23 1312.09 1558.65 Q1312.09 1556.27 1310.47 1554.99 Q1308.87 1553.72 1303.43 1552.54 L1301.39 1552.07 Q1295.95 1550.92 1293.53 1548.56 Q1291.11 1546.18 1291.11 1542.04 Q1291.11 1537.01 1294.68 1534.27 Q1298.24 1531.54 1304.8 1531.54 Q1308.05 1531.54 1310.91 1532.01 Q1313.78 1532.49 1316.2 1533.45 Z\" fill=\"#000000\" fill-rule=\"evenodd\" fill-opacity=\"1\" /><polyline clip-path=\"url(#clip102)\" style=\"stroke:#000000; stroke-linecap:butt; stroke-linejoin:round; stroke-width:2; stroke-opacity:0.1; fill:none\" points=\"\n",
       "  256.209,1282.68 2352.76,1282.68 \n",
       "  \"/>\n",
       "<polyline clip-path=\"url(#clip102)\" style=\"stroke:#000000; stroke-linecap:butt; stroke-linejoin:round; stroke-width:2; stroke-opacity:0.1; fill:none\" points=\"\n",
       "  256.209,1051.85 2352.76,1051.85 \n",
       "  \"/>\n",
       "<polyline clip-path=\"url(#clip102)\" style=\"stroke:#000000; stroke-linecap:butt; stroke-linejoin:round; stroke-width:2; stroke-opacity:0.1; fill:none\" points=\"\n",
       "  256.209,821.032 2352.76,821.032 \n",
       "  \"/>\n",
       "<polyline clip-path=\"url(#clip102)\" style=\"stroke:#000000; stroke-linecap:butt; stroke-linejoin:round; stroke-width:2; stroke-opacity:0.1; fill:none\" points=\"\n",
       "  256.209,590.209 2352.76,590.209 \n",
       "  \"/>\n",
       "<polyline clip-path=\"url(#clip102)\" style=\"stroke:#000000; stroke-linecap:butt; stroke-linejoin:round; stroke-width:2; stroke-opacity:0.1; fill:none\" points=\"\n",
       "  256.209,359.387 2352.76,359.387 \n",
       "  \"/>\n",
       "<polyline clip-path=\"url(#clip102)\" style=\"stroke:#000000; stroke-linecap:butt; stroke-linejoin:round; stroke-width:2; stroke-opacity:0.1; fill:none\" points=\"\n",
       "  256.209,128.565 2352.76,128.565 \n",
       "  \"/>\n",
       "<polyline clip-path=\"url(#clip100)\" style=\"stroke:#000000; stroke-linecap:butt; stroke-linejoin:round; stroke-width:4; stroke-opacity:1; fill:none\" points=\"\n",
       "  256.209,1423.18 256.209,47.2441 \n",
       "  \"/>\n",
       "<polyline clip-path=\"url(#clip100)\" style=\"stroke:#000000; stroke-linecap:butt; stroke-linejoin:round; stroke-width:4; stroke-opacity:1; fill:none\" points=\"\n",
       "  256.209,1282.68 281.367,1282.68 \n",
       "  \"/>\n",
       "<polyline clip-path=\"url(#clip100)\" style=\"stroke:#000000; stroke-linecap:butt; stroke-linejoin:round; stroke-width:4; stroke-opacity:1; fill:none\" points=\"\n",
       "  256.209,1051.85 281.367,1051.85 \n",
       "  \"/>\n",
       "<polyline clip-path=\"url(#clip100)\" style=\"stroke:#000000; stroke-linecap:butt; stroke-linejoin:round; stroke-width:4; stroke-opacity:1; fill:none\" points=\"\n",
       "  256.209,821.032 281.367,821.032 \n",
       "  \"/>\n",
       "<polyline clip-path=\"url(#clip100)\" style=\"stroke:#000000; stroke-linecap:butt; stroke-linejoin:round; stroke-width:4; stroke-opacity:1; fill:none\" points=\"\n",
       "  256.209,590.209 281.367,590.209 \n",
       "  \"/>\n",
       "<polyline clip-path=\"url(#clip100)\" style=\"stroke:#000000; stroke-linecap:butt; stroke-linejoin:round; stroke-width:4; stroke-opacity:1; fill:none\" points=\"\n",
       "  256.209,359.387 281.367,359.387 \n",
       "  \"/>\n",
       "<polyline clip-path=\"url(#clip100)\" style=\"stroke:#000000; stroke-linecap:butt; stroke-linejoin:round; stroke-width:4; stroke-opacity:1; fill:none\" points=\"\n",
       "  256.209,128.565 281.367,128.565 \n",
       "  \"/>\n",
       "<path clip-path=\"url(#clip100)\" d=\"M114.26 1283.13 L143.936 1283.13 L143.936 1287.06 L114.26 1287.06 L114.26 1283.13 Z\" fill=\"#000000\" fill-rule=\"evenodd\" fill-opacity=\"1\" /><path clip-path=\"url(#clip100)\" d=\"M158.056 1296.02 L174.376 1296.02 L174.376 1299.96 L152.431 1299.96 L152.431 1296.02 Q155.093 1293.27 159.677 1288.64 Q164.283 1283.98 165.464 1282.64 Q167.709 1280.12 168.589 1278.38 Q169.491 1276.62 169.491 1274.93 Q169.491 1272.18 167.547 1270.44 Q165.626 1268.71 162.524 1268.71 Q160.325 1268.71 157.871 1269.47 Q155.44 1270.23 152.663 1271.79 L152.663 1267.06 Q155.487 1265.93 157.94 1265.35 Q160.394 1264.77 162.431 1264.77 Q167.802 1264.77 170.996 1267.46 Q174.19 1270.14 174.19 1274.63 Q174.19 1276.76 173.38 1278.68 Q172.593 1280.58 170.487 1283.17 Q169.908 1283.85 166.806 1287.06 Q163.704 1290.26 158.056 1296.02 Z\" fill=\"#000000\" fill-rule=\"evenodd\" fill-opacity=\"1\" /><path clip-path=\"url(#clip100)\" d=\"M184.19 1294.08 L189.075 1294.08 L189.075 1299.96 L184.19 1299.96 L184.19 1294.08 Z\" fill=\"#000000\" fill-rule=\"evenodd\" fill-opacity=\"1\" /><path clip-path=\"url(#clip100)\" d=\"M199.306 1265.4 L217.662 1265.4 L217.662 1269.33 L203.588 1269.33 L203.588 1277.8 Q204.607 1277.46 205.625 1277.29 Q206.644 1277.11 207.662 1277.11 Q213.449 1277.11 216.829 1280.28 Q220.209 1283.45 220.209 1288.87 Q220.209 1294.45 216.736 1297.55 Q213.264 1300.63 206.945 1300.63 Q204.769 1300.63 202.5 1300.26 Q200.255 1299.89 197.848 1299.15 L197.848 1294.45 Q199.931 1295.58 202.153 1296.14 Q204.375 1296.69 206.852 1296.69 Q210.857 1296.69 213.195 1294.59 Q215.533 1292.48 215.533 1288.87 Q215.533 1285.26 213.195 1283.15 Q210.857 1281.04 206.852 1281.04 Q204.977 1281.04 203.102 1281.46 Q201.25 1281.88 199.306 1282.76 L199.306 1265.4 Z\" fill=\"#000000\" fill-rule=\"evenodd\" fill-opacity=\"1\" /><path clip-path=\"url(#clip100)\" d=\"M163.033 1037.65 Q159.422 1037.65 157.593 1041.22 Q155.788 1044.76 155.788 1051.89 Q155.788 1059 157.593 1062.56 Q159.422 1066.1 163.033 1066.1 Q166.667 1066.1 168.473 1062.56 Q170.302 1059 170.302 1051.89 Q170.302 1044.76 168.473 1041.22 Q166.667 1037.65 163.033 1037.65 M163.033 1033.95 Q168.843 1033.95 171.899 1038.56 Q174.977 1043.14 174.977 1051.89 Q174.977 1060.62 171.899 1065.22 Q168.843 1069.81 163.033 1069.81 Q157.223 1069.81 154.144 1065.22 Q151.089 1060.62 151.089 1051.89 Q151.089 1043.14 154.144 1038.56 Q157.223 1033.95 163.033 1033.95 Z\" fill=\"#000000\" fill-rule=\"evenodd\" fill-opacity=\"1\" /><path clip-path=\"url(#clip100)\" d=\"M183.195 1063.25 L188.079 1063.25 L188.079 1069.13 L183.195 1069.13 L183.195 1063.25 Z\" fill=\"#000000\" fill-rule=\"evenodd\" fill-opacity=\"1\" /><path clip-path=\"url(#clip100)\" d=\"M208.264 1037.65 Q204.653 1037.65 202.824 1041.22 Q201.019 1044.76 201.019 1051.89 Q201.019 1059 202.824 1062.56 Q204.653 1066.1 208.264 1066.1 Q211.899 1066.1 213.704 1062.56 Q215.533 1059 215.533 1051.89 Q215.533 1044.76 213.704 1041.22 Q211.899 1037.65 208.264 1037.65 M208.264 1033.95 Q214.074 1033.95 217.13 1038.56 Q220.209 1043.14 220.209 1051.89 Q220.209 1060.62 217.13 1065.22 Q214.074 1069.81 208.264 1069.81 Q202.454 1069.81 199.375 1065.22 Q196.32 1060.62 196.32 1051.89 Q196.32 1043.14 199.375 1038.56 Q202.454 1033.95 208.264 1033.95 Z\" fill=\"#000000\" fill-rule=\"evenodd\" fill-opacity=\"1\" /><path clip-path=\"url(#clip100)\" d=\"M158.056 834.377 L174.376 834.377 L174.376 838.312 L152.431 838.312 L152.431 834.377 Q155.093 831.622 159.677 826.992 Q164.283 822.34 165.464 820.997 Q167.709 818.474 168.589 816.738 Q169.491 814.979 169.491 813.289 Q169.491 810.534 167.547 808.798 Q165.626 807.062 162.524 807.062 Q160.325 807.062 157.871 807.826 Q155.44 808.59 152.663 810.141 L152.663 805.418 Q155.487 804.284 157.94 803.705 Q160.394 803.127 162.431 803.127 Q167.802 803.127 170.996 805.812 Q174.19 808.497 174.19 812.988 Q174.19 815.117 173.38 817.039 Q172.593 818.937 170.487 821.529 Q169.908 822.201 166.806 825.418 Q163.704 828.613 158.056 834.377 Z\" fill=\"#000000\" fill-rule=\"evenodd\" fill-opacity=\"1\" /><path clip-path=\"url(#clip100)\" d=\"M184.19 832.432 L189.075 832.432 L189.075 838.312 L184.19 838.312 L184.19 832.432 Z\" fill=\"#000000\" fill-rule=\"evenodd\" fill-opacity=\"1\" /><path clip-path=\"url(#clip100)\" d=\"M199.306 803.752 L217.662 803.752 L217.662 807.687 L203.588 807.687 L203.588 816.159 Q204.607 815.812 205.625 815.65 Q206.644 815.465 207.662 815.465 Q213.449 815.465 216.829 818.636 Q220.209 821.807 220.209 827.224 Q220.209 832.802 216.736 835.904 Q213.264 838.983 206.945 838.983 Q204.769 838.983 202.5 838.613 Q200.255 838.242 197.848 837.502 L197.848 832.802 Q199.931 833.937 202.153 834.492 Q204.375 835.048 206.852 835.048 Q210.857 835.048 213.195 832.941 Q215.533 830.835 215.533 827.224 Q215.533 823.613 213.195 821.506 Q210.857 819.4 206.852 819.4 Q204.977 819.4 203.102 819.816 Q201.25 820.233 199.306 821.113 L199.306 803.752 Z\" fill=\"#000000\" fill-rule=\"evenodd\" fill-opacity=\"1\" /><path clip-path=\"url(#clip100)\" d=\"M153.079 572.929 L171.436 572.929 L171.436 576.865 L157.362 576.865 L157.362 585.337 Q158.38 584.989 159.399 584.827 Q160.417 584.642 161.436 584.642 Q167.223 584.642 170.602 587.814 Q173.982 590.985 173.982 596.401 Q173.982 601.98 170.51 605.082 Q167.038 608.161 160.718 608.161 Q158.542 608.161 156.274 607.79 Q154.028 607.42 151.621 606.679 L151.621 601.98 Q153.704 603.114 155.927 603.67 Q158.149 604.225 160.626 604.225 Q164.63 604.225 166.968 602.119 Q169.306 600.013 169.306 596.401 Q169.306 592.79 166.968 590.684 Q164.63 588.577 160.626 588.577 Q158.751 588.577 156.876 588.994 Q155.024 589.411 153.079 590.29 L153.079 572.929 Z\" fill=\"#000000\" fill-rule=\"evenodd\" fill-opacity=\"1\" /><path clip-path=\"url(#clip100)\" d=\"M183.195 601.61 L188.079 601.61 L188.079 607.489 L183.195 607.489 L183.195 601.61 Z\" fill=\"#000000\" fill-rule=\"evenodd\" fill-opacity=\"1\" /><path clip-path=\"url(#clip100)\" d=\"M208.264 576.008 Q204.653 576.008 202.824 579.573 Q201.019 583.114 201.019 590.244 Q201.019 597.351 202.824 600.915 Q204.653 604.457 208.264 604.457 Q211.899 604.457 213.704 600.915 Q215.533 597.351 215.533 590.244 Q215.533 583.114 213.704 579.573 Q211.899 576.008 208.264 576.008 M208.264 572.304 Q214.074 572.304 217.13 576.911 Q220.209 581.494 220.209 590.244 Q220.209 598.971 217.13 603.577 Q214.074 608.161 208.264 608.161 Q202.454 608.161 199.375 603.577 Q196.32 598.971 196.32 590.244 Q196.32 581.494 199.375 576.911 Q202.454 572.304 208.264 572.304 Z\" fill=\"#000000\" fill-rule=\"evenodd\" fill-opacity=\"1\" /><path clip-path=\"url(#clip100)\" d=\"M152.848 342.107 L175.07 342.107 L175.07 344.098 L162.524 376.667 L157.64 376.667 L169.445 346.042 L152.848 346.042 L152.848 342.107 Z\" fill=\"#000000\" fill-rule=\"evenodd\" fill-opacity=\"1\" /><path clip-path=\"url(#clip100)\" d=\"M184.19 370.787 L189.075 370.787 L189.075 376.667 L184.19 376.667 L184.19 370.787 Z\" fill=\"#000000\" fill-rule=\"evenodd\" fill-opacity=\"1\" /><path clip-path=\"url(#clip100)\" d=\"M199.306 342.107 L217.662 342.107 L217.662 346.042 L203.588 346.042 L203.588 354.514 Q204.607 354.167 205.625 354.005 Q206.644 353.82 207.662 353.82 Q213.449 353.82 216.829 356.991 Q220.209 360.162 220.209 365.579 Q220.209 371.158 216.736 374.26 Q213.264 377.338 206.945 377.338 Q204.769 377.338 202.5 376.968 Q200.255 376.598 197.848 375.857 L197.848 371.158 Q199.931 372.292 202.153 372.848 Q204.375 373.403 206.852 373.403 Q210.857 373.403 213.195 371.297 Q215.533 369.19 215.533 365.579 Q215.533 361.968 213.195 359.862 Q210.857 357.755 206.852 357.755 Q204.977 357.755 203.102 358.172 Q201.25 358.588 199.306 359.468 L199.306 342.107 Z\" fill=\"#000000\" fill-rule=\"evenodd\" fill-opacity=\"1\" /><path clip-path=\"url(#clip100)\" d=\"M123.681 141.909 L131.32 141.909 L131.32 115.544 L123.01 117.211 L123.01 112.951 L131.274 111.285 L135.95 111.285 L135.95 141.909 L143.589 141.909 L143.589 145.845 L123.681 145.845 L123.681 141.909 Z\" fill=\"#000000\" fill-rule=\"evenodd\" fill-opacity=\"1\" /><path clip-path=\"url(#clip100)\" d=\"M163.033 114.363 Q159.422 114.363 157.593 117.928 Q155.788 121.47 155.788 128.599 Q155.788 135.706 157.593 139.271 Q159.422 142.812 163.033 142.812 Q166.667 142.812 168.473 139.271 Q170.302 135.706 170.302 128.599 Q170.302 121.47 168.473 117.928 Q166.667 114.363 163.033 114.363 M163.033 110.66 Q168.843 110.66 171.899 115.266 Q174.977 119.849 174.977 128.599 Q174.977 137.326 171.899 141.933 Q168.843 146.516 163.033 146.516 Q157.223 146.516 154.144 141.933 Q151.089 137.326 151.089 128.599 Q151.089 119.849 154.144 115.266 Q157.223 110.66 163.033 110.66 Z\" fill=\"#000000\" fill-rule=\"evenodd\" fill-opacity=\"1\" /><path clip-path=\"url(#clip100)\" d=\"M183.195 139.965 L188.079 139.965 L188.079 145.845 L183.195 145.845 L183.195 139.965 Z\" fill=\"#000000\" fill-rule=\"evenodd\" fill-opacity=\"1\" /><path clip-path=\"url(#clip100)\" d=\"M208.264 114.363 Q204.653 114.363 202.824 117.928 Q201.019 121.47 201.019 128.599 Q201.019 135.706 202.824 139.271 Q204.653 142.812 208.264 142.812 Q211.899 142.812 213.704 139.271 Q215.533 135.706 215.533 128.599 Q215.533 121.47 213.704 117.928 Q211.899 114.363 208.264 114.363 M208.264 110.66 Q214.074 110.66 217.13 115.266 Q220.209 119.849 220.209 128.599 Q220.209 137.326 217.13 141.933 Q214.074 146.516 208.264 146.516 Q202.454 146.516 199.375 141.933 Q196.32 137.326 196.32 128.599 Q196.32 119.849 199.375 115.266 Q202.454 110.66 208.264 110.66 Z\" fill=\"#000000\" fill-rule=\"evenodd\" fill-opacity=\"1\" /><path clip-path=\"url(#clip100)\" d=\"M35.1993 733.255 Q31.2526 731.058 29.3747 728.003 Q27.4968 724.947 27.4968 720.81 Q27.4968 715.24 31.4117 712.216 Q35.2948 709.192 42.4881 709.192 L64.0042 709.192 L64.0042 715.08 L42.679 715.08 Q37.5546 715.08 35.072 716.895 Q32.5894 718.709 32.5894 722.433 Q32.5894 726.984 35.6131 729.626 Q38.6368 732.268 43.8567 732.268 L64.0042 732.268 L64.0042 738.156 L42.679 738.156 Q37.5228 738.156 35.072 739.97 Q32.5894 741.785 32.5894 745.572 Q32.5894 750.06 35.6449 752.702 Q38.6686 755.344 43.8567 755.344 L64.0042 755.344 L64.0042 761.232 L28.3562 761.232 L28.3562 755.344 L33.8944 755.344 Q30.616 753.338 29.0564 750.537 Q27.4968 747.736 27.4968 743.885 Q27.4968 740.002 29.4702 737.297 Q31.4436 734.559 35.1993 733.255 Z\" fill=\"#000000\" fill-rule=\"evenodd\" fill-opacity=\"1\" /><polyline clip-path=\"url(#clip102)\" style=\"stroke:#009af9; stroke-linecap:butt; stroke-linejoin:round; stroke-width:4; stroke-opacity:1; fill:none\" points=\"\n",
       "  315.545,128.565 335.324,123.206 355.102,118.209 374.881,113.574 394.66,109.301 414.439,105.39 434.217,101.841 453.996,98.6538 473.775,95.8285 493.554,93.3652 \n",
       "  513.332,91.2638 533.111,89.5243 552.89,88.1467 572.669,87.1311 592.447,86.4774 612.226,86.1857 632.005,86.2558 651.784,86.6879 671.562,87.482 691.341,88.6379 \n",
       "  711.12,90.1558 730.899,92.0356 750.677,94.2774 770.456,96.8811 790.235,99.8467 810.014,103.174 829.792,106.864 849.571,110.915 869.35,115.328 889.129,120.104 \n",
       "  908.907,125.241 928.686,130.74 948.465,136.601 968.244,142.824 988.022,149.409 1007.8,156.356 1027.58,163.664 1047.36,171.335 1067.14,179.368 1086.92,187.762 \n",
       "  1106.69,196.519 1126.47,205.637 1146.25,215.117 1166.03,224.96 1185.81,235.164 1205.59,245.73 1225.37,256.658 1245.15,267.948 1264.92,279.6 1284.7,291.614 \n",
       "  1304.48,303.99 1324.26,316.727 1344.04,329.827 1363.82,343.289 1383.6,357.112 1403.38,371.297 1423.15,385.845 1442.93,400.754 1462.71,416.025 1482.49,431.658 \n",
       "  1502.27,447.653 1522.05,464.01 1541.83,480.729 1561.61,497.81 1581.38,515.253 1601.16,533.058 1620.94,551.224 1640.72,569.753 1660.5,588.643 1680.28,607.896 \n",
       "  1700.06,627.51 1719.84,647.487 1739.61,667.825 1759.39,688.525 1779.17,709.587 1798.95,731.011 1818.73,752.797 1838.51,774.945 1858.29,797.455 1878.07,820.326 \n",
       "  1897.84,843.56 1917.62,867.156 1937.4,891.113 1957.18,915.433 1976.96,940.114 1996.74,965.157 2016.52,990.562 2036.3,1016.33 2056.07,1042.46 2075.85,1068.95 \n",
       "  2095.63,1095.8 2115.41,1123.02 2135.19,1150.59 2154.97,1178.53 2174.75,1206.83 2194.53,1235.5 2214.3,1264.52 2234.08,1293.91 2253.86,1323.66 2273.64,1353.77 \n",
       "  2293.42,1384.24 \n",
       "  \"/>\n",
       "<path clip-path=\"url(#clip100)\" d=\"\n",
       "M1997.49 196.789 L2282.87 196.789 L2282.87 93.1086 L1997.49 93.1086  Z\n",
       "  \" fill=\"#ffffff\" fill-rule=\"evenodd\" fill-opacity=\"1\"/>\n",
       "<polyline clip-path=\"url(#clip100)\" style=\"stroke:#000000; stroke-linecap:butt; stroke-linejoin:round; stroke-width:4; stroke-opacity:1; fill:none\" points=\"\n",
       "  1997.49,196.789 2282.87,196.789 2282.87,93.1086 1997.49,93.1086 1997.49,196.789 \n",
       "  \"/>\n",
       "<polyline clip-path=\"url(#clip100)\" style=\"stroke:#009af9; stroke-linecap:butt; stroke-linejoin:round; stroke-width:4; stroke-opacity:1; fill:none\" points=\"\n",
       "  2020.79,144.949 2160.56,144.949 \n",
       "  \"/>\n",
       "<path clip-path=\"url(#clip100)\" d=\"M2197.69 164.636 Q2195.89 169.266 2194.17 170.678 Q2192.46 172.09 2189.59 172.09 L2186.19 172.09 L2186.19 168.525 L2188.69 168.525 Q2190.45 168.525 2191.42 167.692 Q2192.39 166.858 2193.57 163.756 L2194.34 161.812 L2183.85 136.303 L2188.36 136.303 L2196.47 156.581 L2204.57 136.303 L2209.08 136.303 L2197.69 164.636 Z\" fill=\"#000000\" fill-rule=\"evenodd\" fill-opacity=\"1\" /><path clip-path=\"url(#clip100)\" d=\"M2216.37 158.293 L2224.01 158.293 L2224.01 131.928 L2215.7 133.595 L2215.7 129.335 L2223.97 127.669 L2228.64 127.669 L2228.64 158.293 L2236.28 158.293 L2236.28 162.229 L2216.37 162.229 L2216.37 158.293 Z\" fill=\"#000000\" fill-rule=\"evenodd\" fill-opacity=\"1\" /></svg>\n"
      ]
     },
     "execution_count": 14,
     "metadata": {},
     "output_type": "execute_result"
    }
   ],
   "source": [
    "plot(t, t -> h(t, h0, v0))"
   ]
  },
  {
   "cell_type": "markdown",
   "metadata": {
    "slideshow": {
     "slide_type": "slide"
    },
    "tags": []
   },
   "source": [
    "### Traçando o gráfico com os vetores/iteradores de quantidades\n",
    "\n",
    "* Aqui, usamos o próprio `t`, assim como o vetor `h.(t, h_0, v_0)` obtido através da função."
   ]
  },
  {
   "cell_type": "code",
   "execution_count": 15,
   "metadata": {
    "slideshow": {
     "slide_type": "fragment"
    },
    "tags": []
   },
   "outputs": [
    {
     "data": {
      "image/svg+xml": [
       "<?xml version=\"1.0\" encoding=\"utf-8\"?>\n",
       "<svg xmlns=\"http://www.w3.org/2000/svg\" xmlns:xlink=\"http://www.w3.org/1999/xlink\" width=\"600\" height=\"400\" viewBox=\"0 0 2400 1600\">\n",
       "<defs>\n",
       "  <clipPath id=\"clip140\">\n",
       "    <rect x=\"0\" y=\"0\" width=\"2400\" height=\"1600\"/>\n",
       "  </clipPath>\n",
       "</defs>\n",
       "<path clip-path=\"url(#clip140)\" d=\"\n",
       "M0 1600 L2400 1600 L2400 0 L0 0  Z\n",
       "  \" fill=\"#ffffff\" fill-rule=\"evenodd\" fill-opacity=\"1\"/>\n",
       "<defs>\n",
       "  <clipPath id=\"clip141\">\n",
       "    <rect x=\"480\" y=\"0\" width=\"1681\" height=\"1600\"/>\n",
       "  </clipPath>\n",
       "</defs>\n",
       "<path clip-path=\"url(#clip140)\" d=\"\n",
       "M256.209 1423.18 L2352.76 1423.18 L2352.76 47.2441 L256.209 47.2441  Z\n",
       "  \" fill=\"#ffffff\" fill-rule=\"evenodd\" fill-opacity=\"1\"/>\n",
       "<defs>\n",
       "  <clipPath id=\"clip142\">\n",
       "    <rect x=\"256\" y=\"47\" width=\"2098\" height=\"1377\"/>\n",
       "  </clipPath>\n",
       "</defs>\n",
       "<polyline clip-path=\"url(#clip142)\" style=\"stroke:#000000; stroke-linecap:butt; stroke-linejoin:round; stroke-width:2; stroke-opacity:0.1; fill:none\" points=\"\n",
       "  315.545,1423.18 315.545,47.2441 \n",
       "  \"/>\n",
       "<polyline clip-path=\"url(#clip142)\" style=\"stroke:#000000; stroke-linecap:butt; stroke-linejoin:round; stroke-width:2; stroke-opacity:0.1; fill:none\" points=\"\n",
       "  810.014,1423.18 810.014,47.2441 \n",
       "  \"/>\n",
       "<polyline clip-path=\"url(#clip142)\" style=\"stroke:#000000; stroke-linecap:butt; stroke-linejoin:round; stroke-width:2; stroke-opacity:0.1; fill:none\" points=\"\n",
       "  1304.48,1423.18 1304.48,47.2441 \n",
       "  \"/>\n",
       "<polyline clip-path=\"url(#clip142)\" style=\"stroke:#000000; stroke-linecap:butt; stroke-linejoin:round; stroke-width:2; stroke-opacity:0.1; fill:none\" points=\"\n",
       "  1798.95,1423.18 1798.95,47.2441 \n",
       "  \"/>\n",
       "<polyline clip-path=\"url(#clip142)\" style=\"stroke:#000000; stroke-linecap:butt; stroke-linejoin:round; stroke-width:2; stroke-opacity:0.1; fill:none\" points=\"\n",
       "  2293.42,1423.18 2293.42,47.2441 \n",
       "  \"/>\n",
       "<polyline clip-path=\"url(#clip140)\" style=\"stroke:#000000; stroke-linecap:butt; stroke-linejoin:round; stroke-width:4; stroke-opacity:1; fill:none\" points=\"\n",
       "  256.209,1423.18 2352.76,1423.18 \n",
       "  \"/>\n",
       "<polyline clip-path=\"url(#clip140)\" style=\"stroke:#000000; stroke-linecap:butt; stroke-linejoin:round; stroke-width:4; stroke-opacity:1; fill:none\" points=\"\n",
       "  315.545,1423.18 315.545,1406.67 \n",
       "  \"/>\n",
       "<polyline clip-path=\"url(#clip140)\" style=\"stroke:#000000; stroke-linecap:butt; stroke-linejoin:round; stroke-width:4; stroke-opacity:1; fill:none\" points=\"\n",
       "  810.014,1423.18 810.014,1406.67 \n",
       "  \"/>\n",
       "<polyline clip-path=\"url(#clip140)\" style=\"stroke:#000000; stroke-linecap:butt; stroke-linejoin:round; stroke-width:4; stroke-opacity:1; fill:none\" points=\"\n",
       "  1304.48,1423.18 1304.48,1406.67 \n",
       "  \"/>\n",
       "<polyline clip-path=\"url(#clip140)\" style=\"stroke:#000000; stroke-linecap:butt; stroke-linejoin:round; stroke-width:4; stroke-opacity:1; fill:none\" points=\"\n",
       "  1798.95,1423.18 1798.95,1406.67 \n",
       "  \"/>\n",
       "<polyline clip-path=\"url(#clip140)\" style=\"stroke:#000000; stroke-linecap:butt; stroke-linejoin:round; stroke-width:4; stroke-opacity:1; fill:none\" points=\"\n",
       "  2293.42,1423.18 2293.42,1406.67 \n",
       "  \"/>\n",
       "<path clip-path=\"url(#clip140)\" d=\"M292.929 1452.37 Q289.318 1452.37 287.49 1455.94 Q285.684 1459.48 285.684 1466.61 Q285.684 1473.71 287.49 1477.28 Q289.318 1480.82 292.929 1480.82 Q296.564 1480.82 298.369 1477.28 Q300.198 1473.71 300.198 1466.61 Q300.198 1459.48 298.369 1455.94 Q296.564 1452.37 292.929 1452.37 M292.929 1448.67 Q298.739 1448.67 301.795 1453.27 Q304.874 1457.86 304.874 1466.61 Q304.874 1475.33 301.795 1479.94 Q298.739 1484.52 292.929 1484.52 Q287.119 1484.52 284.04 1479.94 Q280.985 1475.33 280.985 1466.61 Q280.985 1457.86 284.04 1453.27 Q287.119 1448.67 292.929 1448.67 Z\" fill=\"#000000\" fill-rule=\"evenodd\" fill-opacity=\"1\" /><path clip-path=\"url(#clip140)\" d=\"M313.091 1477.97 L317.975 1477.97 L317.975 1483.85 L313.091 1483.85 L313.091 1477.97 Z\" fill=\"#000000\" fill-rule=\"evenodd\" fill-opacity=\"1\" /><path clip-path=\"url(#clip140)\" d=\"M338.161 1452.37 Q334.549 1452.37 332.721 1455.94 Q330.915 1459.48 330.915 1466.61 Q330.915 1473.71 332.721 1477.28 Q334.549 1480.82 338.161 1480.82 Q341.795 1480.82 343.6 1477.28 Q345.429 1473.71 345.429 1466.61 Q345.429 1459.48 343.6 1455.94 Q341.795 1452.37 338.161 1452.37 M338.161 1448.67 Q343.971 1448.67 347.026 1453.27 Q350.105 1457.86 350.105 1466.61 Q350.105 1475.33 347.026 1479.94 Q343.971 1484.52 338.161 1484.52 Q332.35 1484.52 329.272 1479.94 Q326.216 1475.33 326.216 1466.61 Q326.216 1457.86 329.272 1453.27 Q332.35 1448.67 338.161 1448.67 Z\" fill=\"#000000\" fill-rule=\"evenodd\" fill-opacity=\"1\" /><path clip-path=\"url(#clip140)\" d=\"M787.896 1452.37 Q784.285 1452.37 782.456 1455.94 Q780.65 1459.48 780.65 1466.61 Q780.65 1473.71 782.456 1477.28 Q784.285 1480.82 787.896 1480.82 Q791.53 1480.82 793.335 1477.28 Q795.164 1473.71 795.164 1466.61 Q795.164 1459.48 793.335 1455.94 Q791.53 1452.37 787.896 1452.37 M787.896 1448.67 Q793.706 1448.67 796.761 1453.27 Q799.84 1457.86 799.84 1466.61 Q799.84 1475.33 796.761 1479.94 Q793.706 1484.52 787.896 1484.52 Q782.086 1484.52 779.007 1479.94 Q775.951 1475.33 775.951 1466.61 Q775.951 1457.86 779.007 1453.27 Q782.086 1448.67 787.896 1448.67 Z\" fill=\"#000000\" fill-rule=\"evenodd\" fill-opacity=\"1\" /><path clip-path=\"url(#clip140)\" d=\"M808.058 1477.97 L812.942 1477.97 L812.942 1483.85 L808.058 1483.85 L808.058 1477.97 Z\" fill=\"#000000\" fill-rule=\"evenodd\" fill-opacity=\"1\" /><path clip-path=\"url(#clip140)\" d=\"M823.173 1449.29 L841.53 1449.29 L841.53 1453.23 L827.456 1453.23 L827.456 1461.7 Q828.474 1461.35 829.493 1461.19 Q830.511 1461 831.53 1461 Q837.317 1461 840.696 1464.18 Q844.076 1467.35 844.076 1472.76 Q844.076 1478.34 840.604 1481.44 Q837.132 1484.52 830.812 1484.52 Q828.636 1484.52 826.368 1484.15 Q824.122 1483.78 821.715 1483.04 L821.715 1478.34 Q823.798 1479.48 826.02 1480.03 Q828.243 1480.59 830.72 1480.59 Q834.724 1480.59 837.062 1478.48 Q839.4 1476.38 839.4 1472.76 Q839.4 1469.15 837.062 1467.05 Q834.724 1464.94 830.72 1464.94 Q828.845 1464.94 826.97 1465.36 Q825.118 1465.77 823.173 1466.65 L823.173 1449.29 Z\" fill=\"#000000\" fill-rule=\"evenodd\" fill-opacity=\"1\" /><path clip-path=\"url(#clip140)\" d=\"M1271.64 1479.92 L1279.27 1479.92 L1279.27 1453.55 L1270.96 1455.22 L1270.96 1450.96 L1279.23 1449.29 L1283.9 1449.29 L1283.9 1479.92 L1291.54 1479.92 L1291.54 1483.85 L1271.64 1483.85 L1271.64 1479.92 Z\" fill=\"#000000\" fill-rule=\"evenodd\" fill-opacity=\"1\" /><path clip-path=\"url(#clip140)\" d=\"M1300.99 1477.97 L1305.87 1477.97 L1305.87 1483.85 L1300.99 1483.85 L1300.99 1477.97 Z\" fill=\"#000000\" fill-rule=\"evenodd\" fill-opacity=\"1\" /><path clip-path=\"url(#clip140)\" d=\"M1326.06 1452.37 Q1322.45 1452.37 1320.62 1455.94 Q1318.81 1459.48 1318.81 1466.61 Q1318.81 1473.71 1320.62 1477.28 Q1322.45 1480.82 1326.06 1480.82 Q1329.69 1480.82 1331.5 1477.28 Q1333.32 1473.71 1333.32 1466.61 Q1333.32 1459.48 1331.5 1455.94 Q1329.69 1452.37 1326.06 1452.37 M1326.06 1448.67 Q1331.87 1448.67 1334.92 1453.27 Q1338 1457.86 1338 1466.61 Q1338 1475.33 1334.92 1479.94 Q1331.87 1484.52 1326.06 1484.52 Q1320.25 1484.52 1317.17 1479.94 Q1314.11 1475.33 1314.11 1466.61 Q1314.11 1457.86 1317.17 1453.27 Q1320.25 1448.67 1326.06 1448.67 Z\" fill=\"#000000\" fill-rule=\"evenodd\" fill-opacity=\"1\" /><path clip-path=\"url(#clip140)\" d=\"M1766.6 1479.92 L1774.24 1479.92 L1774.24 1453.55 L1765.93 1455.22 L1765.93 1450.96 L1774.19 1449.29 L1778.87 1449.29 L1778.87 1479.92 L1786.51 1479.92 L1786.51 1483.85 L1766.6 1483.85 L1766.6 1479.92 Z\" fill=\"#000000\" fill-rule=\"evenodd\" fill-opacity=\"1\" /><path clip-path=\"url(#clip140)\" d=\"M1795.95 1477.97 L1800.84 1477.97 L1800.84 1483.85 L1795.95 1483.85 L1795.95 1477.97 Z\" fill=\"#000000\" fill-rule=\"evenodd\" fill-opacity=\"1\" /><path clip-path=\"url(#clip140)\" d=\"M1811.07 1449.29 L1829.43 1449.29 L1829.43 1453.23 L1815.35 1453.23 L1815.35 1461.7 Q1816.37 1461.35 1817.39 1461.19 Q1818.41 1461 1819.43 1461 Q1825.21 1461 1828.59 1464.18 Q1831.97 1467.35 1831.97 1472.76 Q1831.97 1478.34 1828.5 1481.44 Q1825.03 1484.52 1818.71 1484.52 Q1816.53 1484.52 1814.26 1484.15 Q1812.02 1483.78 1809.61 1483.04 L1809.61 1478.34 Q1811.69 1479.48 1813.92 1480.03 Q1816.14 1480.59 1818.62 1480.59 Q1822.62 1480.59 1824.96 1478.48 Q1827.3 1476.38 1827.3 1472.76 Q1827.3 1469.15 1824.96 1467.05 Q1822.62 1464.94 1818.62 1464.94 Q1816.74 1464.94 1814.87 1465.36 Q1813.01 1465.77 1811.07 1466.65 L1811.07 1449.29 Z\" fill=\"#000000\" fill-rule=\"evenodd\" fill-opacity=\"1\" /><path clip-path=\"url(#clip140)\" d=\"M2264.66 1479.92 L2280.98 1479.92 L2280.98 1483.85 L2259.03 1483.85 L2259.03 1479.92 Q2261.7 1477.16 2266.28 1472.53 Q2270.89 1467.88 2272.07 1466.54 Q2274.31 1464.01 2275.19 1462.28 Q2276.09 1460.52 2276.09 1458.83 Q2276.09 1456.07 2274.15 1454.34 Q2272.23 1452.6 2269.13 1452.6 Q2266.93 1452.6 2264.47 1453.37 Q2262.04 1454.13 2259.26 1455.68 L2259.26 1450.96 Q2262.09 1449.82 2264.54 1449.25 Q2267 1448.67 2269.03 1448.67 Q2274.4 1448.67 2277.6 1451.35 Q2280.79 1454.04 2280.79 1458.53 Q2280.79 1460.66 2279.98 1462.58 Q2279.2 1464.48 2277.09 1467.07 Q2276.51 1467.74 2273.41 1470.96 Q2270.31 1474.15 2264.66 1479.92 Z\" fill=\"#000000\" fill-rule=\"evenodd\" fill-opacity=\"1\" /><path clip-path=\"url(#clip140)\" d=\"M2290.79 1477.97 L2295.68 1477.97 L2295.68 1483.85 L2290.79 1483.85 L2290.79 1477.97 Z\" fill=\"#000000\" fill-rule=\"evenodd\" fill-opacity=\"1\" /><path clip-path=\"url(#clip140)\" d=\"M2315.86 1452.37 Q2312.25 1452.37 2310.42 1455.94 Q2308.62 1459.48 2308.62 1466.61 Q2308.62 1473.71 2310.42 1477.28 Q2312.25 1480.82 2315.86 1480.82 Q2319.5 1480.82 2321.3 1477.28 Q2323.13 1473.71 2323.13 1466.61 Q2323.13 1459.48 2321.3 1455.94 Q2319.5 1452.37 2315.86 1452.37 M2315.86 1448.67 Q2321.67 1448.67 2324.73 1453.27 Q2327.81 1457.86 2327.81 1466.61 Q2327.81 1475.33 2324.73 1479.94 Q2321.67 1484.52 2315.86 1484.52 Q2310.05 1484.52 2306.97 1479.94 Q2303.92 1475.33 2303.92 1466.61 Q2303.92 1457.86 2306.97 1453.27 Q2310.05 1448.67 2315.86 1448.67 Z\" fill=\"#000000\" fill-rule=\"evenodd\" fill-opacity=\"1\" /><path clip-path=\"url(#clip140)\" d=\"M1316.2 1533.45 L1316.2 1538.98 Q1313.71 1537.71 1311.04 1537.07 Q1308.37 1536.44 1305.5 1536.44 Q1301.14 1536.44 1298.94 1537.77 Q1296.78 1539.11 1296.78 1541.79 Q1296.78 1543.82 1298.34 1545 Q1299.9 1546.15 1304.61 1547.2 L1306.61 1547.64 Q1312.85 1548.98 1315.46 1551.43 Q1318.1 1553.85 1318.1 1558.21 Q1318.1 1563.17 1314.16 1566.07 Q1310.24 1568.97 1303.37 1568.97 Q1300.5 1568.97 1297.38 1568.39 Q1294.3 1567.85 1290.86 1566.74 L1290.86 1560.69 Q1294.11 1562.38 1297.26 1563.24 Q1300.41 1564.07 1303.5 1564.07 Q1307.63 1564.07 1309.86 1562.66 Q1312.09 1561.23 1312.09 1558.65 Q1312.09 1556.27 1310.47 1554.99 Q1308.87 1553.72 1303.43 1552.54 L1301.39 1552.07 Q1295.95 1550.92 1293.53 1548.56 Q1291.11 1546.18 1291.11 1542.04 Q1291.11 1537.01 1294.68 1534.27 Q1298.24 1531.54 1304.8 1531.54 Q1308.05 1531.54 1310.91 1532.01 Q1313.78 1532.49 1316.2 1533.45 Z\" fill=\"#000000\" fill-rule=\"evenodd\" fill-opacity=\"1\" /><polyline clip-path=\"url(#clip142)\" style=\"stroke:#000000; stroke-linecap:butt; stroke-linejoin:round; stroke-width:2; stroke-opacity:0.1; fill:none\" points=\"\n",
       "  256.209,1282.68 2352.76,1282.68 \n",
       "  \"/>\n",
       "<polyline clip-path=\"url(#clip142)\" style=\"stroke:#000000; stroke-linecap:butt; stroke-linejoin:round; stroke-width:2; stroke-opacity:0.1; fill:none\" points=\"\n",
       "  256.209,1051.85 2352.76,1051.85 \n",
       "  \"/>\n",
       "<polyline clip-path=\"url(#clip142)\" style=\"stroke:#000000; stroke-linecap:butt; stroke-linejoin:round; stroke-width:2; stroke-opacity:0.1; fill:none\" points=\"\n",
       "  256.209,821.032 2352.76,821.032 \n",
       "  \"/>\n",
       "<polyline clip-path=\"url(#clip142)\" style=\"stroke:#000000; stroke-linecap:butt; stroke-linejoin:round; stroke-width:2; stroke-opacity:0.1; fill:none\" points=\"\n",
       "  256.209,590.209 2352.76,590.209 \n",
       "  \"/>\n",
       "<polyline clip-path=\"url(#clip142)\" style=\"stroke:#000000; stroke-linecap:butt; stroke-linejoin:round; stroke-width:2; stroke-opacity:0.1; fill:none\" points=\"\n",
       "  256.209,359.387 2352.76,359.387 \n",
       "  \"/>\n",
       "<polyline clip-path=\"url(#clip142)\" style=\"stroke:#000000; stroke-linecap:butt; stroke-linejoin:round; stroke-width:2; stroke-opacity:0.1; fill:none\" points=\"\n",
       "  256.209,128.565 2352.76,128.565 \n",
       "  \"/>\n",
       "<polyline clip-path=\"url(#clip140)\" style=\"stroke:#000000; stroke-linecap:butt; stroke-linejoin:round; stroke-width:4; stroke-opacity:1; fill:none\" points=\"\n",
       "  256.209,1423.18 256.209,47.2441 \n",
       "  \"/>\n",
       "<polyline clip-path=\"url(#clip140)\" style=\"stroke:#000000; stroke-linecap:butt; stroke-linejoin:round; stroke-width:4; stroke-opacity:1; fill:none\" points=\"\n",
       "  256.209,1282.68 281.367,1282.68 \n",
       "  \"/>\n",
       "<polyline clip-path=\"url(#clip140)\" style=\"stroke:#000000; stroke-linecap:butt; stroke-linejoin:round; stroke-width:4; stroke-opacity:1; fill:none\" points=\"\n",
       "  256.209,1051.85 281.367,1051.85 \n",
       "  \"/>\n",
       "<polyline clip-path=\"url(#clip140)\" style=\"stroke:#000000; stroke-linecap:butt; stroke-linejoin:round; stroke-width:4; stroke-opacity:1; fill:none\" points=\"\n",
       "  256.209,821.032 281.367,821.032 \n",
       "  \"/>\n",
       "<polyline clip-path=\"url(#clip140)\" style=\"stroke:#000000; stroke-linecap:butt; stroke-linejoin:round; stroke-width:4; stroke-opacity:1; fill:none\" points=\"\n",
       "  256.209,590.209 281.367,590.209 \n",
       "  \"/>\n",
       "<polyline clip-path=\"url(#clip140)\" style=\"stroke:#000000; stroke-linecap:butt; stroke-linejoin:round; stroke-width:4; stroke-opacity:1; fill:none\" points=\"\n",
       "  256.209,359.387 281.367,359.387 \n",
       "  \"/>\n",
       "<polyline clip-path=\"url(#clip140)\" style=\"stroke:#000000; stroke-linecap:butt; stroke-linejoin:round; stroke-width:4; stroke-opacity:1; fill:none\" points=\"\n",
       "  256.209,128.565 281.367,128.565 \n",
       "  \"/>\n",
       "<path clip-path=\"url(#clip140)\" d=\"M114.26 1283.13 L143.936 1283.13 L143.936 1287.06 L114.26 1287.06 L114.26 1283.13 Z\" fill=\"#000000\" fill-rule=\"evenodd\" fill-opacity=\"1\" /><path clip-path=\"url(#clip140)\" d=\"M158.056 1296.02 L174.376 1296.02 L174.376 1299.96 L152.431 1299.96 L152.431 1296.02 Q155.093 1293.27 159.677 1288.64 Q164.283 1283.98 165.464 1282.64 Q167.709 1280.12 168.589 1278.38 Q169.491 1276.62 169.491 1274.93 Q169.491 1272.18 167.547 1270.44 Q165.626 1268.71 162.524 1268.71 Q160.325 1268.71 157.871 1269.47 Q155.44 1270.23 152.663 1271.79 L152.663 1267.06 Q155.487 1265.93 157.94 1265.35 Q160.394 1264.77 162.431 1264.77 Q167.802 1264.77 170.996 1267.46 Q174.19 1270.14 174.19 1274.63 Q174.19 1276.76 173.38 1278.68 Q172.593 1280.58 170.487 1283.17 Q169.908 1283.85 166.806 1287.06 Q163.704 1290.26 158.056 1296.02 Z\" fill=\"#000000\" fill-rule=\"evenodd\" fill-opacity=\"1\" /><path clip-path=\"url(#clip140)\" d=\"M184.19 1294.08 L189.075 1294.08 L189.075 1299.96 L184.19 1299.96 L184.19 1294.08 Z\" fill=\"#000000\" fill-rule=\"evenodd\" fill-opacity=\"1\" /><path clip-path=\"url(#clip140)\" d=\"M199.306 1265.4 L217.662 1265.4 L217.662 1269.33 L203.588 1269.33 L203.588 1277.8 Q204.607 1277.46 205.625 1277.29 Q206.644 1277.11 207.662 1277.11 Q213.449 1277.11 216.829 1280.28 Q220.209 1283.45 220.209 1288.87 Q220.209 1294.45 216.736 1297.55 Q213.264 1300.63 206.945 1300.63 Q204.769 1300.63 202.5 1300.26 Q200.255 1299.89 197.848 1299.15 L197.848 1294.45 Q199.931 1295.58 202.153 1296.14 Q204.375 1296.69 206.852 1296.69 Q210.857 1296.69 213.195 1294.59 Q215.533 1292.48 215.533 1288.87 Q215.533 1285.26 213.195 1283.15 Q210.857 1281.04 206.852 1281.04 Q204.977 1281.04 203.102 1281.46 Q201.25 1281.88 199.306 1282.76 L199.306 1265.4 Z\" fill=\"#000000\" fill-rule=\"evenodd\" fill-opacity=\"1\" /><path clip-path=\"url(#clip140)\" d=\"M163.033 1037.65 Q159.422 1037.65 157.593 1041.22 Q155.788 1044.76 155.788 1051.89 Q155.788 1059 157.593 1062.56 Q159.422 1066.1 163.033 1066.1 Q166.667 1066.1 168.473 1062.56 Q170.302 1059 170.302 1051.89 Q170.302 1044.76 168.473 1041.22 Q166.667 1037.65 163.033 1037.65 M163.033 1033.95 Q168.843 1033.95 171.899 1038.56 Q174.977 1043.14 174.977 1051.89 Q174.977 1060.62 171.899 1065.22 Q168.843 1069.81 163.033 1069.81 Q157.223 1069.81 154.144 1065.22 Q151.089 1060.62 151.089 1051.89 Q151.089 1043.14 154.144 1038.56 Q157.223 1033.95 163.033 1033.95 Z\" fill=\"#000000\" fill-rule=\"evenodd\" fill-opacity=\"1\" /><path clip-path=\"url(#clip140)\" d=\"M183.195 1063.25 L188.079 1063.25 L188.079 1069.13 L183.195 1069.13 L183.195 1063.25 Z\" fill=\"#000000\" fill-rule=\"evenodd\" fill-opacity=\"1\" /><path clip-path=\"url(#clip140)\" d=\"M208.264 1037.65 Q204.653 1037.65 202.824 1041.22 Q201.019 1044.76 201.019 1051.89 Q201.019 1059 202.824 1062.56 Q204.653 1066.1 208.264 1066.1 Q211.899 1066.1 213.704 1062.56 Q215.533 1059 215.533 1051.89 Q215.533 1044.76 213.704 1041.22 Q211.899 1037.65 208.264 1037.65 M208.264 1033.95 Q214.074 1033.95 217.13 1038.56 Q220.209 1043.14 220.209 1051.89 Q220.209 1060.62 217.13 1065.22 Q214.074 1069.81 208.264 1069.81 Q202.454 1069.81 199.375 1065.22 Q196.32 1060.62 196.32 1051.89 Q196.32 1043.14 199.375 1038.56 Q202.454 1033.95 208.264 1033.95 Z\" fill=\"#000000\" fill-rule=\"evenodd\" fill-opacity=\"1\" /><path clip-path=\"url(#clip140)\" d=\"M158.056 834.377 L174.376 834.377 L174.376 838.312 L152.431 838.312 L152.431 834.377 Q155.093 831.622 159.677 826.992 Q164.283 822.34 165.464 820.997 Q167.709 818.474 168.589 816.738 Q169.491 814.979 169.491 813.289 Q169.491 810.534 167.547 808.798 Q165.626 807.062 162.524 807.062 Q160.325 807.062 157.871 807.826 Q155.44 808.59 152.663 810.141 L152.663 805.418 Q155.487 804.284 157.94 803.705 Q160.394 803.127 162.431 803.127 Q167.802 803.127 170.996 805.812 Q174.19 808.497 174.19 812.988 Q174.19 815.117 173.38 817.039 Q172.593 818.937 170.487 821.529 Q169.908 822.201 166.806 825.418 Q163.704 828.613 158.056 834.377 Z\" fill=\"#000000\" fill-rule=\"evenodd\" fill-opacity=\"1\" /><path clip-path=\"url(#clip140)\" d=\"M184.19 832.432 L189.075 832.432 L189.075 838.312 L184.19 838.312 L184.19 832.432 Z\" fill=\"#000000\" fill-rule=\"evenodd\" fill-opacity=\"1\" /><path clip-path=\"url(#clip140)\" d=\"M199.306 803.752 L217.662 803.752 L217.662 807.687 L203.588 807.687 L203.588 816.159 Q204.607 815.812 205.625 815.65 Q206.644 815.465 207.662 815.465 Q213.449 815.465 216.829 818.636 Q220.209 821.807 220.209 827.224 Q220.209 832.802 216.736 835.904 Q213.264 838.983 206.945 838.983 Q204.769 838.983 202.5 838.613 Q200.255 838.242 197.848 837.502 L197.848 832.802 Q199.931 833.937 202.153 834.492 Q204.375 835.048 206.852 835.048 Q210.857 835.048 213.195 832.941 Q215.533 830.835 215.533 827.224 Q215.533 823.613 213.195 821.506 Q210.857 819.4 206.852 819.4 Q204.977 819.4 203.102 819.816 Q201.25 820.233 199.306 821.113 L199.306 803.752 Z\" fill=\"#000000\" fill-rule=\"evenodd\" fill-opacity=\"1\" /><path clip-path=\"url(#clip140)\" d=\"M153.079 572.929 L171.436 572.929 L171.436 576.865 L157.362 576.865 L157.362 585.337 Q158.38 584.989 159.399 584.827 Q160.417 584.642 161.436 584.642 Q167.223 584.642 170.602 587.814 Q173.982 590.985 173.982 596.401 Q173.982 601.98 170.51 605.082 Q167.038 608.161 160.718 608.161 Q158.542 608.161 156.274 607.79 Q154.028 607.42 151.621 606.679 L151.621 601.98 Q153.704 603.114 155.927 603.67 Q158.149 604.225 160.626 604.225 Q164.63 604.225 166.968 602.119 Q169.306 600.013 169.306 596.401 Q169.306 592.79 166.968 590.684 Q164.63 588.577 160.626 588.577 Q158.751 588.577 156.876 588.994 Q155.024 589.411 153.079 590.29 L153.079 572.929 Z\" fill=\"#000000\" fill-rule=\"evenodd\" fill-opacity=\"1\" /><path clip-path=\"url(#clip140)\" d=\"M183.195 601.61 L188.079 601.61 L188.079 607.489 L183.195 607.489 L183.195 601.61 Z\" fill=\"#000000\" fill-rule=\"evenodd\" fill-opacity=\"1\" /><path clip-path=\"url(#clip140)\" d=\"M208.264 576.008 Q204.653 576.008 202.824 579.573 Q201.019 583.114 201.019 590.244 Q201.019 597.351 202.824 600.915 Q204.653 604.457 208.264 604.457 Q211.899 604.457 213.704 600.915 Q215.533 597.351 215.533 590.244 Q215.533 583.114 213.704 579.573 Q211.899 576.008 208.264 576.008 M208.264 572.304 Q214.074 572.304 217.13 576.911 Q220.209 581.494 220.209 590.244 Q220.209 598.971 217.13 603.577 Q214.074 608.161 208.264 608.161 Q202.454 608.161 199.375 603.577 Q196.32 598.971 196.32 590.244 Q196.32 581.494 199.375 576.911 Q202.454 572.304 208.264 572.304 Z\" fill=\"#000000\" fill-rule=\"evenodd\" fill-opacity=\"1\" /><path clip-path=\"url(#clip140)\" d=\"M152.848 342.107 L175.07 342.107 L175.07 344.098 L162.524 376.667 L157.64 376.667 L169.445 346.042 L152.848 346.042 L152.848 342.107 Z\" fill=\"#000000\" fill-rule=\"evenodd\" fill-opacity=\"1\" /><path clip-path=\"url(#clip140)\" d=\"M184.19 370.787 L189.075 370.787 L189.075 376.667 L184.19 376.667 L184.19 370.787 Z\" fill=\"#000000\" fill-rule=\"evenodd\" fill-opacity=\"1\" /><path clip-path=\"url(#clip140)\" d=\"M199.306 342.107 L217.662 342.107 L217.662 346.042 L203.588 346.042 L203.588 354.514 Q204.607 354.167 205.625 354.005 Q206.644 353.82 207.662 353.82 Q213.449 353.82 216.829 356.991 Q220.209 360.162 220.209 365.579 Q220.209 371.158 216.736 374.26 Q213.264 377.338 206.945 377.338 Q204.769 377.338 202.5 376.968 Q200.255 376.598 197.848 375.857 L197.848 371.158 Q199.931 372.292 202.153 372.848 Q204.375 373.403 206.852 373.403 Q210.857 373.403 213.195 371.297 Q215.533 369.19 215.533 365.579 Q215.533 361.968 213.195 359.862 Q210.857 357.755 206.852 357.755 Q204.977 357.755 203.102 358.172 Q201.25 358.588 199.306 359.468 L199.306 342.107 Z\" fill=\"#000000\" fill-rule=\"evenodd\" fill-opacity=\"1\" /><path clip-path=\"url(#clip140)\" d=\"M123.681 141.909 L131.32 141.909 L131.32 115.544 L123.01 117.211 L123.01 112.951 L131.274 111.285 L135.95 111.285 L135.95 141.909 L143.589 141.909 L143.589 145.845 L123.681 145.845 L123.681 141.909 Z\" fill=\"#000000\" fill-rule=\"evenodd\" fill-opacity=\"1\" /><path clip-path=\"url(#clip140)\" d=\"M163.033 114.363 Q159.422 114.363 157.593 117.928 Q155.788 121.47 155.788 128.599 Q155.788 135.706 157.593 139.271 Q159.422 142.812 163.033 142.812 Q166.667 142.812 168.473 139.271 Q170.302 135.706 170.302 128.599 Q170.302 121.47 168.473 117.928 Q166.667 114.363 163.033 114.363 M163.033 110.66 Q168.843 110.66 171.899 115.266 Q174.977 119.849 174.977 128.599 Q174.977 137.326 171.899 141.933 Q168.843 146.516 163.033 146.516 Q157.223 146.516 154.144 141.933 Q151.089 137.326 151.089 128.599 Q151.089 119.849 154.144 115.266 Q157.223 110.66 163.033 110.66 Z\" fill=\"#000000\" fill-rule=\"evenodd\" fill-opacity=\"1\" /><path clip-path=\"url(#clip140)\" d=\"M183.195 139.965 L188.079 139.965 L188.079 145.845 L183.195 145.845 L183.195 139.965 Z\" fill=\"#000000\" fill-rule=\"evenodd\" fill-opacity=\"1\" /><path clip-path=\"url(#clip140)\" d=\"M208.264 114.363 Q204.653 114.363 202.824 117.928 Q201.019 121.47 201.019 128.599 Q201.019 135.706 202.824 139.271 Q204.653 142.812 208.264 142.812 Q211.899 142.812 213.704 139.271 Q215.533 135.706 215.533 128.599 Q215.533 121.47 213.704 117.928 Q211.899 114.363 208.264 114.363 M208.264 110.66 Q214.074 110.66 217.13 115.266 Q220.209 119.849 220.209 128.599 Q220.209 137.326 217.13 141.933 Q214.074 146.516 208.264 146.516 Q202.454 146.516 199.375 141.933 Q196.32 137.326 196.32 128.599 Q196.32 119.849 199.375 115.266 Q202.454 110.66 208.264 110.66 Z\" fill=\"#000000\" fill-rule=\"evenodd\" fill-opacity=\"1\" /><path clip-path=\"url(#clip140)\" d=\"M35.1993 733.255 Q31.2526 731.058 29.3747 728.003 Q27.4968 724.947 27.4968 720.81 Q27.4968 715.24 31.4117 712.216 Q35.2948 709.192 42.4881 709.192 L64.0042 709.192 L64.0042 715.08 L42.679 715.08 Q37.5546 715.08 35.072 716.895 Q32.5894 718.709 32.5894 722.433 Q32.5894 726.984 35.6131 729.626 Q38.6368 732.268 43.8567 732.268 L64.0042 732.268 L64.0042 738.156 L42.679 738.156 Q37.5228 738.156 35.072 739.97 Q32.5894 741.785 32.5894 745.572 Q32.5894 750.06 35.6449 752.702 Q38.6686 755.344 43.8567 755.344 L64.0042 755.344 L64.0042 761.232 L28.3562 761.232 L28.3562 755.344 L33.8944 755.344 Q30.616 753.338 29.0564 750.537 Q27.4968 747.736 27.4968 743.885 Q27.4968 740.002 29.4702 737.297 Q31.4436 734.559 35.1993 733.255 Z\" fill=\"#000000\" fill-rule=\"evenodd\" fill-opacity=\"1\" /><polyline clip-path=\"url(#clip142)\" style=\"stroke:#009af9; stroke-linecap:butt; stroke-linejoin:round; stroke-width:4; stroke-opacity:1; fill:none\" points=\"\n",
       "  315.545,128.565 335.324,123.206 355.102,118.209 374.881,113.574 394.66,109.301 414.439,105.39 434.217,101.841 453.996,98.6538 473.775,95.8285 493.554,93.3652 \n",
       "  513.332,91.2638 533.111,89.5243 552.89,88.1467 572.669,87.1311 592.447,86.4774 612.226,86.1857 632.005,86.2558 651.784,86.6879 671.562,87.482 691.341,88.6379 \n",
       "  711.12,90.1558 730.899,92.0356 750.677,94.2774 770.456,96.8811 790.235,99.8467 810.014,103.174 829.792,106.864 849.571,110.915 869.35,115.328 889.129,120.104 \n",
       "  908.907,125.241 928.686,130.74 948.465,136.601 968.244,142.824 988.022,149.409 1007.8,156.356 1027.58,163.664 1047.36,171.335 1067.14,179.368 1086.92,187.762 \n",
       "  1106.69,196.519 1126.47,205.637 1146.25,215.117 1166.03,224.96 1185.81,235.164 1205.59,245.73 1225.37,256.658 1245.15,267.948 1264.92,279.6 1284.7,291.614 \n",
       "  1304.48,303.99 1324.26,316.727 1344.04,329.827 1363.82,343.289 1383.6,357.112 1403.38,371.297 1423.15,385.845 1442.93,400.754 1462.71,416.025 1482.49,431.658 \n",
       "  1502.27,447.653 1522.05,464.01 1541.83,480.729 1561.61,497.81 1581.38,515.253 1601.16,533.058 1620.94,551.224 1640.72,569.753 1660.5,588.643 1680.28,607.896 \n",
       "  1700.06,627.51 1719.84,647.487 1739.61,667.825 1759.39,688.525 1779.17,709.587 1798.95,731.011 1818.73,752.797 1838.51,774.945 1858.29,797.455 1878.07,820.326 \n",
       "  1897.84,843.56 1917.62,867.156 1937.4,891.113 1957.18,915.433 1976.96,940.114 1996.74,965.157 2016.52,990.562 2036.3,1016.33 2056.07,1042.46 2075.85,1068.95 \n",
       "  2095.63,1095.8 2115.41,1123.02 2135.19,1150.59 2154.97,1178.53 2174.75,1206.83 2194.53,1235.5 2214.3,1264.52 2234.08,1293.91 2253.86,1323.66 2273.64,1353.77 \n",
       "  2293.42,1384.24 \n",
       "  \"/>\n",
       "<path clip-path=\"url(#clip140)\" d=\"\n",
       "M1997.49 196.789 L2282.87 196.789 L2282.87 93.1086 L1997.49 93.1086  Z\n",
       "  \" fill=\"#ffffff\" fill-rule=\"evenodd\" fill-opacity=\"1\"/>\n",
       "<polyline clip-path=\"url(#clip140)\" style=\"stroke:#000000; stroke-linecap:butt; stroke-linejoin:round; stroke-width:4; stroke-opacity:1; fill:none\" points=\"\n",
       "  1997.49,196.789 2282.87,196.789 2282.87,93.1086 1997.49,93.1086 1997.49,196.789 \n",
       "  \"/>\n",
       "<polyline clip-path=\"url(#clip140)\" style=\"stroke:#009af9; stroke-linecap:butt; stroke-linejoin:round; stroke-width:4; stroke-opacity:1; fill:none\" points=\"\n",
       "  2020.79,144.949 2160.56,144.949 \n",
       "  \"/>\n",
       "<path clip-path=\"url(#clip140)\" d=\"M2197.69 164.636 Q2195.89 169.266 2194.17 170.678 Q2192.46 172.09 2189.59 172.09 L2186.19 172.09 L2186.19 168.525 L2188.69 168.525 Q2190.45 168.525 2191.42 167.692 Q2192.39 166.858 2193.57 163.756 L2194.34 161.812 L2183.85 136.303 L2188.36 136.303 L2196.47 156.581 L2204.57 136.303 L2209.08 136.303 L2197.69 164.636 Z\" fill=\"#000000\" fill-rule=\"evenodd\" fill-opacity=\"1\" /><path clip-path=\"url(#clip140)\" d=\"M2216.37 158.293 L2224.01 158.293 L2224.01 131.928 L2215.7 133.595 L2215.7 129.335 L2223.97 127.669 L2228.64 127.669 L2228.64 158.293 L2236.28 158.293 L2236.28 162.229 L2216.37 162.229 L2216.37 158.293 Z\" fill=\"#000000\" fill-rule=\"evenodd\" fill-opacity=\"1\" /></svg>\n"
      ]
     },
     "execution_count": 15,
     "metadata": {},
     "output_type": "execute_result"
    }
   ],
   "source": [
    "plot(t, h.(t, h0, v0))"
   ]
  },
  {
   "cell_type": "markdown",
   "metadata": {
    "slideshow": {
     "slide_type": "slide"
    },
    "tags": []
   },
   "source": [
    "### Embelezando o gráfico\n",
    "\n",
    "* Observe, acima, que as unidades são automaticamente denotadas nos eixos, mas podemos fazer isso e acrescentar mais informações no compando `plot`.\n",
    "\n",
    "* Novamente, observe que, mesmo qualificando os eixos, as unidades são automaticamente incluídas."
   ]
  },
  {
   "cell_type": "code",
   "execution_count": 16,
   "metadata": {
    "slideshow": {
     "slide_type": "fragment"
    },
    "tags": []
   },
   "outputs": [
    {
     "data": {
      "image/svg+xml": [
       "<?xml version=\"1.0\" encoding=\"utf-8\"?>\n",
       "<svg xmlns=\"http://www.w3.org/2000/svg\" xmlns:xlink=\"http://www.w3.org/1999/xlink\" width=\"600\" height=\"400\" viewBox=\"0 0 2400 1600\">\n",
       "<defs>\n",
       "  <clipPath id=\"clip180\">\n",
       "    <rect x=\"0\" y=\"0\" width=\"2400\" height=\"1600\"/>\n",
       "  </clipPath>\n",
       "</defs>\n",
       "<path clip-path=\"url(#clip180)\" d=\"\n",
       "M0 1600 L2400 1600 L2400 0 L0 0  Z\n",
       "  \" fill=\"#ffffff\" fill-rule=\"evenodd\" fill-opacity=\"1\"/>\n",
       "<defs>\n",
       "  <clipPath id=\"clip181\">\n",
       "    <rect x=\"480\" y=\"0\" width=\"1681\" height=\"1600\"/>\n",
       "  </clipPath>\n",
       "</defs>\n",
       "<path clip-path=\"url(#clip180)\" d=\"\n",
       "M202.227 1423.18 L2352.76 1423.18 L2352.76 106.192 L202.227 106.192  Z\n",
       "  \" fill=\"#ffffff\" fill-rule=\"evenodd\" fill-opacity=\"1\"/>\n",
       "<defs>\n",
       "  <clipPath id=\"clip182\">\n",
       "    <rect x=\"202\" y=\"106\" width=\"2152\" height=\"1318\"/>\n",
       "  </clipPath>\n",
       "</defs>\n",
       "<polyline clip-path=\"url(#clip182)\" style=\"stroke:#000000; stroke-linecap:butt; stroke-linejoin:round; stroke-width:2; stroke-opacity:0.1; fill:none\" points=\"\n",
       "  202.227,1423.18 202.227,106.192 \n",
       "  \"/>\n",
       "<polyline clip-path=\"url(#clip182)\" style=\"stroke:#000000; stroke-linecap:butt; stroke-linejoin:round; stroke-width:2; stroke-opacity:0.1; fill:none\" points=\"\n",
       "  739.86,1423.18 739.86,106.192 \n",
       "  \"/>\n",
       "<polyline clip-path=\"url(#clip182)\" style=\"stroke:#000000; stroke-linecap:butt; stroke-linejoin:round; stroke-width:2; stroke-opacity:0.1; fill:none\" points=\"\n",
       "  1277.49,1423.18 1277.49,106.192 \n",
       "  \"/>\n",
       "<polyline clip-path=\"url(#clip182)\" style=\"stroke:#000000; stroke-linecap:butt; stroke-linejoin:round; stroke-width:2; stroke-opacity:0.1; fill:none\" points=\"\n",
       "  1815.12,1423.18 1815.12,106.192 \n",
       "  \"/>\n",
       "<polyline clip-path=\"url(#clip182)\" style=\"stroke:#000000; stroke-linecap:butt; stroke-linejoin:round; stroke-width:2; stroke-opacity:0.1; fill:none\" points=\"\n",
       "  2352.76,1423.18 2352.76,106.192 \n",
       "  \"/>\n",
       "<polyline clip-path=\"url(#clip180)\" style=\"stroke:#000000; stroke-linecap:butt; stroke-linejoin:round; stroke-width:4; stroke-opacity:1; fill:none\" points=\"\n",
       "  202.227,1423.18 2352.76,1423.18 \n",
       "  \"/>\n",
       "<polyline clip-path=\"url(#clip180)\" style=\"stroke:#000000; stroke-linecap:butt; stroke-linejoin:round; stroke-width:4; stroke-opacity:1; fill:none\" points=\"\n",
       "  202.227,1423.18 202.227,1407.38 \n",
       "  \"/>\n",
       "<polyline clip-path=\"url(#clip180)\" style=\"stroke:#000000; stroke-linecap:butt; stroke-linejoin:round; stroke-width:4; stroke-opacity:1; fill:none\" points=\"\n",
       "  739.86,1423.18 739.86,1407.38 \n",
       "  \"/>\n",
       "<polyline clip-path=\"url(#clip180)\" style=\"stroke:#000000; stroke-linecap:butt; stroke-linejoin:round; stroke-width:4; stroke-opacity:1; fill:none\" points=\"\n",
       "  1277.49,1423.18 1277.49,1407.38 \n",
       "  \"/>\n",
       "<polyline clip-path=\"url(#clip180)\" style=\"stroke:#000000; stroke-linecap:butt; stroke-linejoin:round; stroke-width:4; stroke-opacity:1; fill:none\" points=\"\n",
       "  1815.12,1423.18 1815.12,1407.38 \n",
       "  \"/>\n",
       "<polyline clip-path=\"url(#clip180)\" style=\"stroke:#000000; stroke-linecap:butt; stroke-linejoin:round; stroke-width:4; stroke-opacity:1; fill:none\" points=\"\n",
       "  2352.76,1423.18 2352.76,1407.38 \n",
       "  \"/>\n",
       "<path clip-path=\"url(#clip180)\" d=\"M202.227 1452.37 Q198.616 1452.37 196.788 1455.94 Q194.982 1459.48 194.982 1466.61 Q194.982 1473.71 196.788 1477.28 Q198.616 1480.82 202.227 1480.82 Q205.862 1480.82 207.667 1477.28 Q209.496 1473.71 209.496 1466.61 Q209.496 1459.48 207.667 1455.94 Q205.862 1452.37 202.227 1452.37 M202.227 1448.67 Q208.038 1448.67 211.093 1453.27 Q214.172 1457.86 214.172 1466.61 Q214.172 1475.33 211.093 1479.94 Q208.038 1484.52 202.227 1484.52 Q196.417 1484.52 193.339 1479.94 Q190.283 1475.33 190.283 1466.61 Q190.283 1457.86 193.339 1453.27 Q196.417 1448.67 202.227 1448.67 Z\" fill=\"#000000\" fill-rule=\"evenodd\" fill-opacity=\"1\" /><path clip-path=\"url(#clip180)\" d=\"M730.242 1479.92 L737.88 1479.92 L737.88 1453.55 L729.57 1455.22 L729.57 1450.96 L737.834 1449.29 L742.51 1449.29 L742.51 1479.92 L750.149 1479.92 L750.149 1483.85 L730.242 1483.85 L730.242 1479.92 Z\" fill=\"#000000\" fill-rule=\"evenodd\" fill-opacity=\"1\" /><path clip-path=\"url(#clip180)\" d=\"M1272.14 1479.92 L1288.46 1479.92 L1288.46 1483.85 L1266.52 1483.85 L1266.52 1479.92 Q1269.18 1477.16 1273.76 1472.53 Q1278.37 1467.88 1279.55 1466.54 Q1281.8 1464.01 1282.68 1462.28 Q1283.58 1460.52 1283.58 1458.83 Q1283.58 1456.07 1281.64 1454.34 Q1279.71 1452.6 1276.61 1452.6 Q1274.41 1452.6 1271.96 1453.37 Q1269.53 1454.13 1266.75 1455.68 L1266.75 1450.96 Q1269.58 1449.82 1272.03 1449.25 Q1274.48 1448.67 1276.52 1448.67 Q1281.89 1448.67 1285.08 1451.35 Q1288.28 1454.04 1288.28 1458.53 Q1288.28 1460.66 1287.47 1462.58 Q1286.68 1464.48 1284.57 1467.07 Q1284 1467.74 1280.89 1470.96 Q1277.79 1474.15 1272.14 1479.92 Z\" fill=\"#000000\" fill-rule=\"evenodd\" fill-opacity=\"1\" /><path clip-path=\"url(#clip180)\" d=\"M1819.37 1465.22 Q1822.73 1465.94 1824.6 1468.2 Q1826.5 1470.47 1826.5 1473.81 Q1826.5 1478.92 1822.98 1481.72 Q1819.46 1484.52 1812.98 1484.52 Q1810.81 1484.52 1808.49 1484.08 Q1806.2 1483.67 1803.75 1482.81 L1803.75 1478.3 Q1805.69 1479.43 1808.01 1480.01 Q1810.32 1480.59 1812.84 1480.59 Q1817.24 1480.59 1819.53 1478.85 Q1821.85 1477.12 1821.85 1473.81 Q1821.85 1470.75 1819.7 1469.04 Q1817.57 1467.3 1813.75 1467.3 L1809.72 1467.3 L1809.72 1463.46 L1813.93 1463.46 Q1817.38 1463.46 1819.21 1462.09 Q1821.04 1460.7 1821.04 1458.11 Q1821.04 1455.45 1819.14 1454.04 Q1817.26 1452.6 1813.75 1452.6 Q1811.83 1452.6 1809.63 1453.02 Q1807.43 1453.44 1804.79 1454.31 L1804.79 1450.15 Q1807.45 1449.41 1809.77 1449.04 Q1812.1 1448.67 1814.16 1448.67 Q1819.49 1448.67 1822.59 1451.1 Q1825.69 1453.5 1825.69 1457.63 Q1825.69 1460.5 1824.05 1462.49 Q1822.4 1464.45 1819.37 1465.22 Z\" fill=\"#000000\" fill-rule=\"evenodd\" fill-opacity=\"1\" /><path clip-path=\"url(#clip180)\" d=\"M2355.77 1453.37 L2343.96 1471.81 L2355.77 1471.81 L2355.77 1453.37 M2354.54 1449.29 L2360.42 1449.29 L2360.42 1471.81 L2365.35 1471.81 L2365.35 1475.7 L2360.42 1475.7 L2360.42 1483.85 L2355.77 1483.85 L2355.77 1475.7 L2340.16 1475.7 L2340.16 1471.19 L2354.54 1449.29 Z\" fill=\"#000000\" fill-rule=\"evenodd\" fill-opacity=\"1\" /><path clip-path=\"url(#clip180)\" d=\"M1133.37 1522.27 L1133.37 1532.4 L1145.44 1532.4 L1145.44 1536.95 L1133.37 1536.95 L1133.37 1556.3 Q1133.37 1560.66 1134.55 1561.9 Q1135.76 1563.14 1139.42 1563.14 L1145.44 1563.14 L1145.44 1568.04 L1139.42 1568.04 Q1132.64 1568.04 1130.06 1565.53 Q1127.48 1562.98 1127.48 1556.3 L1127.48 1536.95 L1123.19 1536.95 L1123.19 1532.4 L1127.48 1532.4 L1127.48 1522.27 L1133.37 1522.27 Z\" fill=\"#000000\" fill-rule=\"evenodd\" fill-opacity=\"1\" /><path clip-path=\"url(#clip180)\" d=\"M1183.63 1548.76 L1183.63 1551.62 L1156.7 1551.62 Q1157.08 1557.67 1160.33 1560.85 Q1163.61 1564 1169.43 1564 Q1172.81 1564 1175.96 1563.17 Q1179.14 1562.35 1182.26 1560.69 L1182.26 1566.23 Q1179.11 1567.57 1175.8 1568.27 Q1172.49 1568.97 1169.08 1568.97 Q1160.55 1568.97 1155.56 1564 Q1150.59 1559.04 1150.59 1550.57 Q1150.59 1541.82 1155.3 1536.69 Q1160.04 1531.54 1168.07 1531.54 Q1175.26 1531.54 1179.43 1536.18 Q1183.63 1540.8 1183.63 1548.76 M1177.77 1547.04 Q1177.71 1542.23 1175.07 1539.37 Q1172.46 1536.5 1168.13 1536.5 Q1163.23 1536.5 1160.27 1539.27 Q1157.34 1542.04 1156.89 1547.07 L1177.77 1547.04 Z\" fill=\"#000000\" fill-rule=\"evenodd\" fill-opacity=\"1\" /><path clip-path=\"url(#clip180)\" d=\"M1221 1539.24 Q1223.19 1535.29 1226.25 1533.41 Q1229.3 1531.54 1233.44 1531.54 Q1239.01 1531.54 1242.03 1535.45 Q1245.06 1539.33 1245.06 1546.53 L1245.06 1568.04 L1239.17 1568.04 L1239.17 1546.72 Q1239.17 1541.59 1237.36 1539.11 Q1235.54 1536.63 1231.82 1536.63 Q1227.27 1536.63 1224.62 1539.65 Q1221.98 1542.68 1221.98 1547.9 L1221.98 1568.04 L1216.09 1568.04 L1216.09 1546.72 Q1216.09 1541.56 1214.28 1539.11 Q1212.47 1536.63 1208.68 1536.63 Q1204.19 1536.63 1201.55 1539.68 Q1198.91 1542.71 1198.91 1547.9 L1198.91 1568.04 L1193.02 1568.04 L1193.02 1532.4 L1198.91 1532.4 L1198.91 1537.93 Q1200.91 1534.66 1203.71 1533.1 Q1206.51 1531.54 1210.37 1531.54 Q1214.25 1531.54 1216.95 1533.51 Q1219.69 1535.48 1221 1539.24 Z\" fill=\"#000000\" fill-rule=\"evenodd\" fill-opacity=\"1\" /><path clip-path=\"url(#clip180)\" d=\"M1262.4 1562.7 L1262.4 1581.6 L1256.52 1581.6 L1256.52 1532.4 L1262.4 1532.4 L1262.4 1537.81 Q1264.25 1534.62 1267.05 1533.1 Q1269.88 1531.54 1273.8 1531.54 Q1280.29 1531.54 1284.33 1536.69 Q1288.41 1541.85 1288.41 1550.25 Q1288.41 1558.65 1284.33 1563.81 Q1280.29 1568.97 1273.8 1568.97 Q1269.88 1568.97 1267.05 1567.44 Q1264.25 1565.88 1262.4 1562.7 M1282.33 1550.25 Q1282.33 1543.79 1279.66 1540.13 Q1277.01 1536.44 1272.37 1536.44 Q1267.72 1536.44 1265.05 1540.13 Q1262.4 1543.79 1262.4 1550.25 Q1262.4 1556.71 1265.05 1560.4 Q1267.72 1564.07 1272.37 1564.07 Q1277.01 1564.07 1279.66 1560.4 Q1282.33 1556.71 1282.33 1550.25 Z\" fill=\"#000000\" fill-rule=\"evenodd\" fill-opacity=\"1\" /><path clip-path=\"url(#clip180)\" d=\"M1311.93 1536.5 Q1307.22 1536.5 1304.48 1540.19 Q1301.75 1543.85 1301.75 1550.25 Q1301.75 1556.65 1304.45 1560.34 Q1307.19 1564 1311.93 1564 Q1316.61 1564 1319.35 1560.31 Q1322.08 1556.62 1322.08 1550.25 Q1322.08 1543.92 1319.35 1540.23 Q1316.61 1536.5 1311.93 1536.5 M1311.93 1531.54 Q1319.57 1531.54 1323.93 1536.5 Q1328.29 1541.47 1328.29 1550.25 Q1328.29 1559 1323.93 1564 Q1319.57 1568.97 1311.93 1568.97 Q1304.26 1568.97 1299.9 1564 Q1295.57 1559 1295.57 1550.25 Q1295.57 1541.47 1299.9 1536.5 Q1304.26 1531.54 1311.93 1531.54 Z\" fill=\"#000000\" fill-rule=\"evenodd\" fill-opacity=\"1\" /><path clip-path=\"url(#clip180)\" d=\"M1372.79 1518.58 Q1368.52 1525.9 1366.45 1533.06 Q1364.38 1540.23 1364.38 1547.58 Q1364.38 1554.93 1366.45 1562.16 Q1368.55 1569.35 1372.79 1576.64 L1367.69 1576.64 Q1362.92 1569.16 1360.53 1561.93 Q1358.18 1554.71 1358.18 1547.58 Q1358.18 1540.48 1360.53 1533.29 Q1362.89 1526.09 1367.69 1518.58 L1372.79 1518.58 Z\" fill=\"#000000\" fill-rule=\"evenodd\" fill-opacity=\"1\" /><path clip-path=\"url(#clip180)\" d=\"M1406.87 1533.45 L1406.87 1538.98 Q1404.39 1537.71 1401.72 1537.07 Q1399.04 1536.44 1396.18 1536.44 Q1391.82 1536.44 1389.62 1537.77 Q1387.46 1539.11 1387.46 1541.79 Q1387.46 1543.82 1389.02 1545 Q1390.58 1546.15 1395.29 1547.2 L1397.29 1547.64 Q1403.53 1548.98 1406.14 1551.43 Q1408.78 1553.85 1408.78 1558.21 Q1408.78 1563.17 1404.84 1566.07 Q1400.92 1568.97 1394.05 1568.97 Q1391.18 1568.97 1388.06 1568.39 Q1384.98 1567.85 1381.54 1566.74 L1381.54 1560.69 Q1384.79 1562.38 1387.94 1563.24 Q1391.09 1564.07 1394.18 1564.07 Q1398.31 1564.07 1400.54 1562.66 Q1402.77 1561.23 1402.77 1558.65 Q1402.77 1556.27 1401.15 1554.99 Q1399.55 1553.72 1394.11 1552.54 L1392.07 1552.07 Q1386.63 1550.92 1384.21 1548.56 Q1381.79 1546.18 1381.79 1542.04 Q1381.79 1537.01 1385.36 1534.27 Q1388.92 1531.54 1395.48 1531.54 Q1398.73 1531.54 1401.59 1532.01 Q1404.46 1532.49 1406.87 1533.45 Z\" fill=\"#000000\" fill-rule=\"evenodd\" fill-opacity=\"1\" /><path clip-path=\"url(#clip180)\" d=\"M1417.19 1518.58 L1422.28 1518.58 Q1427.05 1526.09 1429.41 1533.29 Q1431.8 1540.48 1431.8 1547.58 Q1431.8 1554.71 1429.41 1561.93 Q1427.05 1569.16 1422.28 1576.64 L1417.19 1576.64 Q1421.42 1569.35 1423.49 1562.16 Q1425.59 1554.93 1425.59 1547.58 Q1425.59 1540.23 1423.49 1533.06 Q1421.42 1525.9 1417.19 1518.58 Z\" fill=\"#000000\" fill-rule=\"evenodd\" fill-opacity=\"1\" /><polyline clip-path=\"url(#clip182)\" style=\"stroke:#000000; stroke-linecap:butt; stroke-linejoin:round; stroke-width:2; stroke-opacity:0.1; fill:none\" points=\"\n",
       "  202.227,1423.18 2352.76,1423.18 \n",
       "  \"/>\n",
       "<polyline clip-path=\"url(#clip182)\" style=\"stroke:#000000; stroke-linecap:butt; stroke-linejoin:round; stroke-width:2; stroke-opacity:0.1; fill:none\" points=\"\n",
       "  202.227,1203.68 2352.76,1203.68 \n",
       "  \"/>\n",
       "<polyline clip-path=\"url(#clip182)\" style=\"stroke:#000000; stroke-linecap:butt; stroke-linejoin:round; stroke-width:2; stroke-opacity:0.1; fill:none\" points=\"\n",
       "  202.227,984.184 2352.76,984.184 \n",
       "  \"/>\n",
       "<polyline clip-path=\"url(#clip182)\" style=\"stroke:#000000; stroke-linecap:butt; stroke-linejoin:round; stroke-width:2; stroke-opacity:0.1; fill:none\" points=\"\n",
       "  202.227,764.686 2352.76,764.686 \n",
       "  \"/>\n",
       "<polyline clip-path=\"url(#clip182)\" style=\"stroke:#000000; stroke-linecap:butt; stroke-linejoin:round; stroke-width:2; stroke-opacity:0.1; fill:none\" points=\"\n",
       "  202.227,545.188 2352.76,545.188 \n",
       "  \"/>\n",
       "<polyline clip-path=\"url(#clip182)\" style=\"stroke:#000000; stroke-linecap:butt; stroke-linejoin:round; stroke-width:2; stroke-opacity:0.1; fill:none\" points=\"\n",
       "  202.227,325.69 2352.76,325.69 \n",
       "  \"/>\n",
       "<polyline clip-path=\"url(#clip182)\" style=\"stroke:#000000; stroke-linecap:butt; stroke-linejoin:round; stroke-width:2; stroke-opacity:0.1; fill:none\" points=\"\n",
       "  202.227,106.192 2352.76,106.192 \n",
       "  \"/>\n",
       "<polyline clip-path=\"url(#clip180)\" style=\"stroke:#000000; stroke-linecap:butt; stroke-linejoin:round; stroke-width:4; stroke-opacity:1; fill:none\" points=\"\n",
       "  202.227,1423.18 202.227,106.192 \n",
       "  \"/>\n",
       "<polyline clip-path=\"url(#clip180)\" style=\"stroke:#000000; stroke-linecap:butt; stroke-linejoin:round; stroke-width:4; stroke-opacity:1; fill:none\" points=\"\n",
       "  202.227,1423.18 228.034,1423.18 \n",
       "  \"/>\n",
       "<polyline clip-path=\"url(#clip180)\" style=\"stroke:#000000; stroke-linecap:butt; stroke-linejoin:round; stroke-width:4; stroke-opacity:1; fill:none\" points=\"\n",
       "  202.227,1203.68 228.034,1203.68 \n",
       "  \"/>\n",
       "<polyline clip-path=\"url(#clip180)\" style=\"stroke:#000000; stroke-linecap:butt; stroke-linejoin:round; stroke-width:4; stroke-opacity:1; fill:none\" points=\"\n",
       "  202.227,984.184 228.034,984.184 \n",
       "  \"/>\n",
       "<polyline clip-path=\"url(#clip180)\" style=\"stroke:#000000; stroke-linecap:butt; stroke-linejoin:round; stroke-width:4; stroke-opacity:1; fill:none\" points=\"\n",
       "  202.227,764.686 228.034,764.686 \n",
       "  \"/>\n",
       "<polyline clip-path=\"url(#clip180)\" style=\"stroke:#000000; stroke-linecap:butt; stroke-linejoin:round; stroke-width:4; stroke-opacity:1; fill:none\" points=\"\n",
       "  202.227,545.188 228.034,545.188 \n",
       "  \"/>\n",
       "<polyline clip-path=\"url(#clip180)\" style=\"stroke:#000000; stroke-linecap:butt; stroke-linejoin:round; stroke-width:4; stroke-opacity:1; fill:none\" points=\"\n",
       "  202.227,325.69 228.034,325.69 \n",
       "  \"/>\n",
       "<polyline clip-path=\"url(#clip180)\" style=\"stroke:#000000; stroke-linecap:butt; stroke-linejoin:round; stroke-width:4; stroke-opacity:1; fill:none\" points=\"\n",
       "  202.227,106.192 228.034,106.192 \n",
       "  \"/>\n",
       "<path clip-path=\"url(#clip180)\" d=\"M154.283 1408.98 Q150.672 1408.98 148.843 1412.54 Q147.038 1416.08 147.038 1423.21 Q147.038 1430.32 148.843 1433.89 Q150.672 1437.43 154.283 1437.43 Q157.917 1437.43 159.723 1433.89 Q161.552 1430.32 161.552 1423.21 Q161.552 1416.08 159.723 1412.54 Q157.917 1408.98 154.283 1408.98 M154.283 1405.27 Q160.093 1405.27 163.149 1409.88 Q166.227 1414.46 166.227 1423.21 Q166.227 1431.94 163.149 1436.55 Q160.093 1441.13 154.283 1441.13 Q148.473 1441.13 145.394 1436.55 Q142.339 1431.94 142.339 1423.21 Q142.339 1414.46 145.394 1409.88 Q148.473 1405.27 154.283 1405.27 Z\" fill=\"#000000\" fill-rule=\"evenodd\" fill-opacity=\"1\" /><path clip-path=\"url(#clip180)\" d=\"M149.908 1217.03 L166.227 1217.03 L166.227 1220.96 L144.283 1220.96 L144.283 1217.03 Q146.945 1214.27 151.528 1209.64 Q156.135 1204.99 157.315 1203.65 Q159.561 1201.12 160.44 1199.39 Q161.343 1197.63 161.343 1195.94 Q161.343 1193.18 159.399 1191.45 Q157.478 1189.71 154.376 1189.71 Q152.177 1189.71 149.723 1190.48 Q147.292 1191.24 144.515 1192.79 L144.515 1188.07 Q147.339 1186.93 149.792 1186.36 Q152.246 1185.78 154.283 1185.78 Q159.653 1185.78 162.848 1188.46 Q166.042 1191.15 166.042 1195.64 Q166.042 1197.77 165.232 1199.69 Q164.445 1201.59 162.339 1204.18 Q161.76 1204.85 158.658 1208.07 Q155.556 1211.26 149.908 1217.03 Z\" fill=\"#000000\" fill-rule=\"evenodd\" fill-opacity=\"1\" /><path clip-path=\"url(#clip180)\" d=\"M156.644 970.978 L144.839 989.427 L156.644 989.427 L156.644 970.978 M155.417 966.904 L161.297 966.904 L161.297 989.427 L166.227 989.427 L166.227 993.316 L161.297 993.316 L161.297 1001.46 L156.644 1001.46 L156.644 993.316 L141.042 993.316 L141.042 988.802 L155.417 966.904 Z\" fill=\"#000000\" fill-rule=\"evenodd\" fill-opacity=\"1\" /><path clip-path=\"url(#clip180)\" d=\"M154.7 762.823 Q151.552 762.823 149.7 764.975 Q147.871 767.128 147.871 770.878 Q147.871 774.605 149.7 776.781 Q151.552 778.934 154.7 778.934 Q157.848 778.934 159.677 776.781 Q161.528 774.605 161.528 770.878 Q161.528 767.128 159.677 764.975 Q157.848 762.823 154.7 762.823 M163.982 748.17 L163.982 752.429 Q162.223 751.596 160.417 751.156 Q158.635 750.716 156.876 750.716 Q152.246 750.716 149.792 753.841 Q147.362 756.966 147.015 763.286 Q148.38 761.272 150.441 760.207 Q152.501 759.119 154.978 759.119 Q160.186 759.119 163.195 762.29 Q166.227 765.438 166.227 770.878 Q166.227 776.202 163.079 779.42 Q159.931 782.637 154.7 782.637 Q148.704 782.637 145.533 778.054 Q142.362 773.448 142.362 764.721 Q142.362 756.526 146.251 751.665 Q150.14 746.781 156.69 746.781 Q158.45 746.781 160.232 747.128 Q162.038 747.475 163.982 748.17 Z\" fill=\"#000000\" fill-rule=\"evenodd\" fill-opacity=\"1\" /><path clip-path=\"url(#clip180)\" d=\"M154.376 546.056 Q151.042 546.056 149.121 547.838 Q147.223 549.621 147.223 552.746 Q147.223 555.871 149.121 557.653 Q151.042 559.436 154.376 559.436 Q157.709 559.436 159.63 557.653 Q161.552 555.848 161.552 552.746 Q161.552 549.621 159.63 547.838 Q157.732 546.056 154.376 546.056 M149.7 544.065 Q146.691 543.325 145.001 541.264 Q143.334 539.204 143.334 536.241 Q143.334 532.098 146.274 529.69 Q149.237 527.283 154.376 527.283 Q159.538 527.283 162.477 529.69 Q165.417 532.098 165.417 536.241 Q165.417 539.204 163.727 541.264 Q162.061 543.325 159.075 544.065 Q162.454 544.852 164.329 547.144 Q166.227 549.436 166.227 552.746 Q166.227 557.769 163.149 560.454 Q160.093 563.139 154.376 563.139 Q148.658 563.139 145.579 560.454 Q142.524 557.769 142.524 552.746 Q142.524 549.436 144.422 547.144 Q146.32 544.852 149.7 544.065 M147.987 536.681 Q147.987 539.366 149.653 540.871 Q151.343 542.376 154.376 542.376 Q157.385 542.376 159.075 540.871 Q160.788 539.366 160.788 536.681 Q160.788 533.996 159.075 532.491 Q157.385 530.987 154.376 530.987 Q151.343 530.987 149.653 532.491 Q147.987 533.996 147.987 536.681 Z\" fill=\"#000000\" fill-rule=\"evenodd\" fill-opacity=\"1\" /><path clip-path=\"url(#clip180)\" d=\"M114.931 339.035 L122.57 339.035 L122.57 312.669 L114.26 314.336 L114.26 310.077 L122.524 308.41 L127.2 308.41 L127.2 339.035 L134.839 339.035 L134.839 342.97 L114.931 342.97 L114.931 339.035 Z\" fill=\"#000000\" fill-rule=\"evenodd\" fill-opacity=\"1\" /><path clip-path=\"url(#clip180)\" d=\"M154.283 311.489 Q150.672 311.489 148.843 315.054 Q147.038 318.595 147.038 325.725 Q147.038 332.831 148.843 336.396 Q150.672 339.938 154.283 339.938 Q157.917 339.938 159.723 336.396 Q161.552 332.831 161.552 325.725 Q161.552 318.595 159.723 315.054 Q157.917 311.489 154.283 311.489 M154.283 307.785 Q160.093 307.785 163.149 312.392 Q166.227 316.975 166.227 325.725 Q166.227 334.452 163.149 339.058 Q160.093 343.641 154.283 343.641 Q148.473 343.641 145.394 339.058 Q142.339 334.452 142.339 325.725 Q142.339 316.975 145.394 312.392 Q148.473 307.785 154.283 307.785 Z\" fill=\"#000000\" fill-rule=\"evenodd\" fill-opacity=\"1\" /><path clip-path=\"url(#clip180)\" d=\"M116.529 119.537 L124.168 119.537 L124.168 93.1714 L115.857 94.838 L115.857 90.5788 L124.121 88.9121 L128.797 88.9121 L128.797 119.537 L136.436 119.537 L136.436 123.472 L116.529 123.472 L116.529 119.537 Z\" fill=\"#000000\" fill-rule=\"evenodd\" fill-opacity=\"1\" /><path clip-path=\"url(#clip180)\" d=\"M149.908 119.537 L166.227 119.537 L166.227 123.472 L144.283 123.472 L144.283 119.537 Q146.945 116.782 151.528 112.153 Q156.135 107.5 157.315 106.157 Q159.561 103.634 160.44 101.898 Q161.343 100.139 161.343 98.4491 Q161.343 95.6945 159.399 93.9584 Q157.478 92.2223 154.376 92.2223 Q152.177 92.2223 149.723 92.9862 Q147.292 93.7501 144.515 95.301 L144.515 90.5788 Q147.339 89.4445 149.792 88.8658 Q152.246 88.2871 154.283 88.2871 Q159.653 88.2871 162.848 90.9723 Q166.042 93.6575 166.042 98.1482 Q166.042 100.278 165.232 102.199 Q164.445 104.097 162.339 106.69 Q161.76 107.361 158.658 110.579 Q155.556 113.773 149.908 119.537 Z\" fill=\"#000000\" fill-rule=\"evenodd\" fill-opacity=\"1\" /><path clip-path=\"url(#clip180)\" d=\"M46.0847 904.875 Q46.0847 911.973 47.7079 914.71 Q49.3312 917.447 53.2461 917.447 Q56.3653 917.447 58.2114 915.41 Q60.0256 913.341 60.0256 909.808 Q60.0256 904.938 56.5881 902.01 Q53.1188 899.05 47.3897 899.05 L46.0847 899.05 L46.0847 904.875 M43.6657 893.194 L64.0042 893.194 L64.0042 899.05 L58.5933 899.05 Q61.8398 901.055 63.3994 904.047 Q64.9272 907.039 64.9272 911.368 Q64.9272 916.842 61.8716 920.089 Q58.7843 923.303 53.6281 923.303 Q47.6125 923.303 44.5569 919.293 Q41.5014 915.251 41.5014 907.262 L41.5014 899.05 L40.9285 899.05 Q36.8862 899.05 34.6901 901.724 Q32.4621 904.366 32.4621 909.172 Q32.4621 912.227 33.1941 915.124 Q33.9262 918.02 35.3903 920.694 L29.9795 920.694 Q28.7381 917.479 28.1334 914.455 Q27.4968 911.431 27.4968 908.567 Q27.4968 900.833 31.5072 897.013 Q35.5176 893.194 43.6657 893.194 Z\" fill=\"#000000\" fill-rule=\"evenodd\" fill-opacity=\"1\" /><path clip-path=\"url(#clip180)\" d=\"M14.479 881.131 L14.479 875.274 L64.0042 875.274 L64.0042 881.131 L14.479 881.131 Z\" fill=\"#000000\" fill-rule=\"evenodd\" fill-opacity=\"1\" /><path clip-path=\"url(#clip180)\" d=\"M18.2347 857.227 L28.3562 857.227 L28.3562 845.164 L32.9077 845.164 L32.9077 857.227 L52.2594 857.227 Q56.6199 857.227 57.8613 856.05 Q59.1026 854.84 59.1026 851.18 L59.1026 845.164 L64.0042 845.164 L64.0042 851.18 Q64.0042 857.96 61.4897 860.538 Q58.9434 863.116 52.2594 863.116 L32.9077 863.116 L32.9077 867.413 L28.3562 867.413 L28.3562 863.116 L18.2347 863.116 L18.2347 857.227 Z\" fill=\"#000000\" fill-rule=\"evenodd\" fill-opacity=\"1\" /><path clip-path=\"url(#clip180)\" d=\"M49.9359 838.067 L28.3562 838.067 L28.3562 832.21 L49.7131 832.21 Q54.7739 832.21 57.3202 830.237 Q59.8346 828.263 59.8346 824.317 Q59.8346 819.574 56.8109 816.837 Q53.7872 814.068 48.5673 814.068 L28.3562 814.068 L28.3562 808.212 L64.0042 808.212 L64.0042 814.068 L58.5296 814.068 Q61.7762 816.2 63.3676 819.033 Q64.9272 821.834 64.9272 825.558 Q64.9272 831.701 61.1078 834.884 Q57.2883 838.067 49.9359 838.067 M27.4968 823.33 L27.4968 823.33 Z\" fill=\"#000000\" fill-rule=\"evenodd\" fill-opacity=\"1\" /><path clip-path=\"url(#clip180)\" d=\"M33.8307 775.492 Q33.2578 776.478 33.0032 777.656 Q32.7167 778.802 32.7167 780.202 Q32.7167 785.168 35.9632 787.841 Q39.1779 790.483 45.2253 790.483 L64.0042 790.483 L64.0042 796.371 L28.3562 796.371 L28.3562 790.483 L33.8944 790.483 Q30.6479 788.637 29.0883 785.677 Q27.4968 782.717 27.4968 778.484 Q27.4968 777.879 27.5923 777.147 Q27.656 776.415 27.8151 775.524 L33.8307 775.492 Z\" fill=\"#000000\" fill-rule=\"evenodd\" fill-opacity=\"1\" /><path clip-path=\"url(#clip180)\" d=\"M46.0847 753.148 Q46.0847 760.246 47.7079 762.983 Q49.3312 765.72 53.2461 765.72 Q56.3653 765.72 58.2114 763.683 Q60.0256 761.615 60.0256 758.082 Q60.0256 753.212 56.5881 750.284 Q53.1188 747.324 47.3897 747.324 L46.0847 747.324 L46.0847 753.148 M43.6657 741.467 L64.0042 741.467 L64.0042 747.324 L58.5933 747.324 Q61.8398 749.329 63.3994 752.321 Q64.9272 755.312 64.9272 759.641 Q64.9272 765.116 61.8716 768.362 Q58.7843 771.577 53.6281 771.577 Q47.6125 771.577 44.5569 767.566 Q41.5014 763.524 41.5014 755.535 L41.5014 747.324 L40.9285 747.324 Q36.8862 747.324 34.6901 749.997 Q32.4621 752.639 32.4621 757.445 Q32.4621 760.501 33.1941 763.397 Q33.9262 766.293 35.3903 768.967 L29.9795 768.967 Q28.7381 765.752 28.1334 762.729 Q27.4968 759.705 27.4968 756.84 Q27.4968 749.106 31.5072 745.286 Q35.5176 741.467 43.6657 741.467 Z\" fill=\"#000000\" fill-rule=\"evenodd\" fill-opacity=\"1\" /><path clip-path=\"url(#clip180)\" d=\"M14.5426 694.615 Q21.8632 698.88 29.0246 700.949 Q36.186 703.018 43.5384 703.018 Q50.8908 703.018 58.1159 700.949 Q65.3091 698.849 72.5979 694.615 L72.5979 699.708 Q65.1182 704.482 57.8931 706.869 Q50.668 709.225 43.5384 709.225 Q36.4406 709.225 29.2474 706.869 Q22.0542 704.514 14.5426 699.708 L14.5426 694.615 Z\" fill=\"#000000\" fill-rule=\"evenodd\" fill-opacity=\"1\" /><path clip-path=\"url(#clip180)\" d=\"M35.1993 655.498 Q31.2526 653.302 29.3747 650.246 Q27.4968 647.191 27.4968 643.053 Q27.4968 637.483 31.4117 634.46 Q35.2948 631.436 42.4881 631.436 L64.0042 631.436 L64.0042 637.324 L42.679 637.324 Q37.5546 637.324 35.072 639.138 Q32.5894 640.953 32.5894 644.676 Q32.5894 649.228 35.6131 651.87 Q38.6368 654.512 43.8567 654.512 L64.0042 654.512 L64.0042 660.4 L42.679 660.4 Q37.5228 660.4 35.072 662.214 Q32.5894 664.028 32.5894 667.816 Q32.5894 672.304 35.6449 674.945 Q38.6686 677.587 43.8567 677.587 L64.0042 677.587 L64.0042 683.475 L28.3562 683.475 L28.3562 677.587 L33.8944 677.587 Q30.616 675.582 29.0564 672.781 Q27.4968 669.98 27.4968 666.129 Q27.4968 662.246 29.4702 659.54 Q31.4436 656.803 35.1993 655.498 Z\" fill=\"#000000\" fill-rule=\"evenodd\" fill-opacity=\"1\" /><path clip-path=\"url(#clip180)\" d=\"M14.5426 620.678 L14.5426 615.585 Q22.0542 610.811 29.2474 608.456 Q36.4406 606.068 43.5384 606.068 Q50.668 606.068 57.8931 608.456 Q65.1182 610.811 72.5979 615.585 L72.5979 620.678 Q65.3091 616.445 58.1159 614.376 Q50.8908 612.275 43.5384 612.275 Q36.186 612.275 29.0246 614.376 Q21.8632 616.445 14.5426 620.678 Z\" fill=\"#000000\" fill-rule=\"evenodd\" fill-opacity=\"1\" /><path clip-path=\"url(#clip180)\" d=\"M780.706 6.81709 L786.03 6.81709 L786.03 51.84 L780.706 51.84 L780.706 6.81709 Z\" fill=\"#000000\" fill-rule=\"evenodd\" fill-opacity=\"1\" /><path clip-path=\"url(#clip180)\" d=\"M811.898 35.5496 Q805.446 35.5496 802.957 37.0253 Q800.469 38.501 800.469 42.06 Q800.469 44.8956 802.321 46.5738 Q804.201 48.2231 807.413 48.2231 Q811.84 48.2231 814.502 45.0981 Q817.193 41.9442 817.193 36.7359 L817.193 35.5496 L811.898 35.5496 M822.517 33.3505 L822.517 51.84 L817.193 51.84 L817.193 46.921 Q815.37 49.8724 812.65 51.2902 Q809.931 52.6791 805.995 52.6791 Q801.019 52.6791 798.067 49.9014 Q795.145 47.0947 795.145 42.4072 Q795.145 36.9385 798.791 34.1607 Q802.465 31.3829 809.728 31.3829 L817.193 31.3829 L817.193 30.8621 Q817.193 27.1874 814.763 25.1908 Q812.361 23.1654 807.992 23.1654 Q805.214 23.1654 802.581 23.8309 Q799.948 24.4964 797.517 25.8274 L797.517 20.9085 Q800.44 19.78 803.189 19.2302 Q805.938 18.6515 808.542 18.6515 Q815.573 18.6515 819.045 22.2973 Q822.517 25.9431 822.517 33.3505 Z\" fill=\"#000000\" fill-rule=\"evenodd\" fill-opacity=\"1\" /><path clip-path=\"url(#clip180)\" d=\"M860.422 32.2799 L860.422 51.84 L855.098 51.84 L855.098 32.4535 Q855.098 27.8529 853.304 25.567 Q851.51 23.2811 847.922 23.2811 Q843.611 23.2811 841.122 26.03 Q838.634 28.7788 838.634 33.5241 L838.634 51.84 L833.281 51.84 L833.281 19.4328 L838.634 19.4328 L838.634 24.4675 Q840.544 21.545 843.119 20.0983 Q845.723 18.6515 849.109 18.6515 Q854.693 18.6515 857.558 22.1237 Q860.422 25.567 860.422 32.2799 Z\" fill=\"#000000\" fill-rule=\"evenodd\" fill-opacity=\"1\" /><path clip-path=\"url(#clip180)\" d=\"M894.363 20.677 L894.363 25.6538 Q892.106 24.4096 889.82 23.802 Q887.563 23.1654 885.248 23.1654 Q880.069 23.1654 877.204 26.464 Q874.34 29.7336 874.34 35.6653 Q874.34 41.597 877.204 44.8956 Q880.069 48.1653 885.248 48.1653 Q887.563 48.1653 889.82 47.5576 Q892.106 46.921 894.363 45.6768 L894.363 50.5958 Q892.135 51.6375 889.733 52.1583 Q887.361 52.6791 884.67 52.6791 Q877.349 52.6791 873.038 48.0784 Q868.727 43.4778 868.727 35.6653 Q868.727 27.7371 873.067 23.1943 Q877.436 18.6515 885.017 18.6515 Q887.476 18.6515 889.82 19.1724 Q892.164 19.6642 894.363 20.677 M886.84 51.84 Q888.431 53.634 889.213 55.1386 Q889.994 56.6722 889.994 58.061 Q889.994 60.6362 888.258 61.9383 Q886.522 63.2693 883.107 63.2693 Q881.776 63.2693 880.503 63.0957 Q879.259 62.9221 878.015 62.5749 L878.015 58.7844 Q878.998 59.2763 880.069 59.4788 Q881.14 59.7103 882.5 59.7103 Q884.207 59.7103 885.075 59.0159 Q885.943 58.3214 885.943 56.9904 Q885.943 56.1224 885.306 54.8492 Q884.699 53.605 883.397 51.84 L886.84 51.84 Z\" fill=\"#000000\" fill-rule=\"evenodd\" fill-opacity=\"1\" /><path clip-path=\"url(#clip180)\" d=\"M918.35 35.5496 Q911.898 35.5496 909.409 37.0253 Q906.921 38.501 906.921 42.06 Q906.921 44.8956 908.773 46.5738 Q910.653 48.2231 913.865 48.2231 Q918.292 48.2231 920.954 45.0981 Q923.645 41.9442 923.645 36.7359 L923.645 35.5496 L918.35 35.5496 M928.969 33.3505 L928.969 51.84 L923.645 51.84 L923.645 46.921 Q921.822 49.8724 919.102 51.2902 Q916.383 52.6791 912.447 52.6791 Q907.471 52.6791 904.519 49.9014 Q901.597 47.0947 901.597 42.4072 Q901.597 36.9385 905.243 34.1607 Q908.917 31.3829 916.18 31.3829 L923.645 31.3829 L923.645 30.8621 Q923.645 27.1874 921.215 25.1908 Q918.813 23.1654 914.444 23.1654 Q911.666 23.1654 909.033 23.8309 Q906.4 24.4964 903.969 25.8274 L903.969 20.9085 Q906.892 19.78 909.641 19.2302 Q912.389 18.6515 914.994 18.6515 Q922.025 18.6515 925.497 22.2973 Q928.969 25.9431 928.969 33.3505 Z\" fill=\"#000000\" fill-rule=\"evenodd\" fill-opacity=\"1\" /><path clip-path=\"url(#clip180)\" d=\"M965.167 25.6538 Q967.163 22.0659 969.941 20.3587 Q972.719 18.6515 976.481 18.6515 Q981.544 18.6515 984.293 22.2105 Q987.042 25.7406 987.042 32.2799 L987.042 51.84 L981.689 51.84 L981.689 32.4535 Q981.689 27.795 980.04 25.5381 Q978.39 23.2811 975.005 23.2811 Q970.867 23.2811 968.466 26.03 Q966.064 28.7788 966.064 33.5241 L966.064 51.84 L960.711 51.84 L960.711 32.4535 Q960.711 27.7661 959.062 25.5381 Q957.412 23.2811 953.969 23.2811 Q949.889 23.2811 947.488 26.0589 Q945.086 28.8077 945.086 33.5241 L945.086 51.84 L939.733 51.84 L939.733 19.4328 L945.086 19.4328 L945.086 24.4675 Q946.909 21.4872 949.455 20.0693 Q952.002 18.6515 955.503 18.6515 Q959.033 18.6515 961.492 20.4455 Q963.981 22.2395 965.167 25.6538 Z\" fill=\"#000000\" fill-rule=\"evenodd\" fill-opacity=\"1\" /><path clip-path=\"url(#clip180)\" d=\"M1025.38 34.3054 L1025.38 36.9095 L1000.9 36.9095 Q1001.25 42.4072 1004.2 45.3007 Q1007.18 48.1653 1012.48 48.1653 Q1015.54 48.1653 1018.41 47.4129 Q1021.3 46.6606 1024.14 45.156 L1024.14 50.1907 Q1021.27 51.406 1018.26 52.0425 Q1015.25 52.6791 1012.16 52.6791 Q1004.4 52.6791 999.86 48.1653 Q995.346 43.6514 995.346 35.9547 Q995.346 27.9975 999.629 23.339 Q1003.94 18.6515 1011.23 18.6515 Q1017.77 18.6515 1021.56 22.876 Q1025.38 27.0716 1025.38 34.3054 M1020.06 32.7429 Q1020 28.3737 1017.6 25.7695 Q1015.22 23.1654 1011.29 23.1654 Q1006.83 23.1654 1004.14 25.6827 Q1001.48 28.2001 1001.08 32.7718 L1020.06 32.7429 Z\" fill=\"#000000\" fill-rule=\"evenodd\" fill-opacity=\"1\" /><path clip-path=\"url(#clip180)\" d=\"M1061.06 32.2799 L1061.06 51.84 L1055.73 51.84 L1055.73 32.4535 Q1055.73 27.8529 1053.94 25.567 Q1052.15 23.2811 1048.56 23.2811 Q1044.25 23.2811 1041.76 26.03 Q1039.27 28.7788 1039.27 33.5241 L1039.27 51.84 L1033.92 51.84 L1033.92 19.4328 L1039.27 19.4328 L1039.27 24.4675 Q1041.18 21.545 1043.75 20.0983 Q1046.36 18.6515 1049.74 18.6515 Q1055.33 18.6515 1058.19 22.1237 Q1061.06 25.567 1061.06 32.2799 Z\" fill=\"#000000\" fill-rule=\"evenodd\" fill-opacity=\"1\" /><path clip-path=\"url(#clip180)\" d=\"M1076.94 10.2314 L1076.94 19.4328 L1087.91 19.4328 L1087.91 23.5705 L1076.94 23.5705 L1076.94 41.163 Q1076.94 45.1271 1078.01 46.2555 Q1079.11 47.384 1082.44 47.384 L1087.91 47.384 L1087.91 51.84 L1082.44 51.84 Q1076.28 51.84 1073.93 49.5541 Q1071.59 47.2393 1071.59 41.163 L1071.59 23.5705 L1067.68 23.5705 L1067.68 19.4328 L1071.59 19.4328 L1071.59 10.2314 L1076.94 10.2314 Z\" fill=\"#000000\" fill-rule=\"evenodd\" fill-opacity=\"1\" /><path clip-path=\"url(#clip180)\" d=\"M1107.47 23.1654 Q1103.19 23.1654 1100.7 26.5218 Q1098.21 29.8494 1098.21 35.6653 Q1098.21 41.4813 1100.67 44.8377 Q1103.16 48.1653 1107.47 48.1653 Q1111.72 48.1653 1114.21 44.8088 Q1116.7 41.4523 1116.7 35.6653 Q1116.7 29.9072 1114.21 26.5508 Q1111.72 23.1654 1107.47 23.1654 M1107.47 18.6515 Q1114.41 18.6515 1118.38 23.1654 Q1122.34 27.6792 1122.34 35.6653 Q1122.34 43.6225 1118.38 48.1653 Q1114.41 52.6791 1107.47 52.6791 Q1100.5 52.6791 1096.53 48.1653 Q1092.6 43.6225 1092.6 35.6653 Q1092.6 27.6792 1096.53 23.1654 Q1100.5 18.6515 1107.47 18.6515 Z\" fill=\"#000000\" fill-rule=\"evenodd\" fill-opacity=\"1\" /><path clip-path=\"url(#clip180)\" d=\"M1146.18 19.4328 L1151.83 19.4328 L1161.95 46.6317 L1172.08 19.4328 L1177.72 19.4328 L1165.57 51.84 L1158.34 51.84 L1146.18 19.4328 Z\" fill=\"#000000\" fill-rule=\"evenodd\" fill-opacity=\"1\" /><path clip-path=\"url(#clip180)\" d=\"M1212.79 34.3054 L1212.79 36.9095 L1188.31 36.9095 Q1188.66 42.4072 1191.61 45.3007 Q1194.59 48.1653 1199.89 48.1653 Q1202.96 48.1653 1205.82 47.4129 Q1208.71 46.6606 1211.55 45.156 L1211.55 50.1907 Q1208.68 51.406 1205.67 52.0425 Q1202.67 52.6791 1199.57 52.6791 Q1191.82 52.6791 1187.27 48.1653 Q1182.76 43.6514 1182.76 35.9547 Q1182.76 27.9975 1187.04 23.339 Q1191.35 18.6515 1198.64 18.6515 Q1205.18 18.6515 1208.97 22.876 Q1212.79 27.0716 1212.79 34.3054 M1207.47 32.7429 Q1207.41 28.3737 1205.01 25.7695 Q1202.64 23.1654 1198.7 23.1654 Q1194.25 23.1654 1191.55 25.6827 Q1188.89 28.2001 1188.49 32.7718 L1207.47 32.7429 Z\" fill=\"#000000\" fill-rule=\"evenodd\" fill-opacity=\"1\" /><path clip-path=\"url(#clip180)\" d=\"M1240.31 24.4096 Q1239.41 23.8888 1238.34 23.6573 Q1237.3 23.3969 1236.03 23.3969 Q1231.51 23.3969 1229.08 26.3482 Q1226.68 29.2707 1226.68 34.7683 L1226.68 51.84 L1221.33 51.84 L1221.33 19.4328 L1226.68 19.4328 L1226.68 24.4675 Q1228.36 21.5161 1231.05 20.0983 Q1233.74 18.6515 1237.59 18.6515 Q1238.14 18.6515 1238.81 18.7383 Q1239.47 18.7962 1240.28 18.9409 L1240.31 24.4096 Z\" fill=\"#000000\" fill-rule=\"evenodd\" fill-opacity=\"1\" /><path clip-path=\"url(#clip180)\" d=\"M1251.16 10.2314 L1251.16 19.4328 L1262.13 19.4328 L1262.13 23.5705 L1251.16 23.5705 L1251.16 41.163 Q1251.16 45.1271 1252.23 46.2555 Q1253.33 47.384 1256.66 47.384 L1262.13 47.384 L1262.13 51.84 L1256.66 51.84 Q1250.5 51.84 1248.15 49.5541 Q1245.81 47.2393 1245.81 41.163 L1245.81 23.5705 L1241.9 23.5705 L1241.9 19.4328 L1245.81 19.4328 L1245.81 10.2314 L1251.16 10.2314 Z\" fill=\"#000000\" fill-rule=\"evenodd\" fill-opacity=\"1\" /><path clip-path=\"url(#clip180)\" d=\"M1269.13 19.4328 L1274.45 19.4328 L1274.45 51.84 L1269.13 51.84 L1269.13 19.4328 M1269.13 6.81709 L1274.45 6.81709 L1274.45 13.559 L1269.13 13.559 L1269.13 6.81709 Z\" fill=\"#000000\" fill-rule=\"evenodd\" fill-opacity=\"1\" /><path clip-path=\"url(#clip180)\" d=\"M1308.92 20.677 L1308.92 25.6538 Q1306.66 24.4096 1304.37 23.802 Q1302.12 23.1654 1299.8 23.1654 Q1294.62 23.1654 1291.76 26.464 Q1288.89 29.7336 1288.89 35.6653 Q1288.89 41.597 1291.76 44.8956 Q1294.62 48.1653 1299.8 48.1653 Q1302.12 48.1653 1304.37 47.5576 Q1306.66 46.921 1308.92 45.6768 L1308.92 50.5958 Q1306.69 51.6375 1304.29 52.1583 Q1301.91 52.6791 1299.22 52.6791 Q1291.9 52.6791 1287.59 48.0784 Q1283.28 43.4778 1283.28 35.6653 Q1283.28 27.7371 1287.62 23.1943 Q1291.99 18.6515 1299.57 18.6515 Q1302.03 18.6515 1304.37 19.1724 Q1306.72 19.6642 1308.92 20.677 Z\" fill=\"#000000\" fill-rule=\"evenodd\" fill-opacity=\"1\" /><path clip-path=\"url(#clip180)\" d=\"M1332.9 35.5496 Q1326.45 35.5496 1323.96 37.0253 Q1321.47 38.501 1321.47 42.06 Q1321.47 44.8956 1323.32 46.5738 Q1325.21 48.2231 1328.42 48.2231 Q1332.84 48.2231 1335.51 45.0981 Q1338.2 41.9442 1338.2 36.7359 L1338.2 35.5496 L1332.9 35.5496 M1343.52 33.3505 L1343.52 51.84 L1338.2 51.84 L1338.2 46.921 Q1336.37 49.8724 1333.65 51.2902 Q1330.93 52.6791 1327 52.6791 Q1322.02 52.6791 1319.07 49.9014 Q1316.15 47.0947 1316.15 42.4072 Q1316.15 36.9385 1319.79 34.1607 Q1323.47 31.3829 1330.73 31.3829 L1338.2 31.3829 L1338.2 30.8621 Q1338.2 27.1874 1335.77 25.1908 Q1333.37 23.1654 1329 23.1654 Q1326.22 23.1654 1323.59 23.8309 Q1320.95 24.4964 1318.52 25.8274 L1318.52 20.9085 Q1321.44 19.78 1324.19 19.2302 Q1326.94 18.6515 1329.55 18.6515 Q1336.58 18.6515 1340.05 22.2973 Q1343.52 25.9431 1343.52 33.3505 Z\" fill=\"#000000\" fill-rule=\"evenodd\" fill-opacity=\"1\" /><path clip-path=\"url(#clip180)\" d=\"M1354.49 6.81709 L1359.81 6.81709 L1359.81 51.84 L1354.49 51.84 L1354.49 6.81709 Z\" fill=\"#000000\" fill-rule=\"evenodd\" fill-opacity=\"1\" /><path clip-path=\"url(#clip180)\" d=\"M1411.11 24.3517 L1411.11 6.81709 L1416.44 6.81709 L1416.44 51.84 L1411.11 51.84 L1411.11 46.9789 Q1409.44 49.8724 1406.86 51.2902 Q1404.31 52.6791 1400.73 52.6791 Q1394.85 52.6791 1391.15 47.9916 Q1387.47 43.3042 1387.47 35.6653 Q1387.47 28.0265 1391.15 23.339 Q1394.85 18.6515 1400.73 18.6515 Q1404.31 18.6515 1406.86 20.0693 Q1409.44 21.4582 1411.11 24.3517 M1392.97 35.6653 Q1392.97 41.5391 1395.37 44.8956 Q1397.8 48.2231 1402.03 48.2231 Q1406.25 48.2231 1408.68 44.8956 Q1411.11 41.5391 1411.11 35.6653 Q1411.11 29.7915 1408.68 26.464 Q1406.25 23.1075 1402.03 23.1075 Q1397.8 23.1075 1395.37 26.464 Q1392.97 29.7915 1392.97 35.6653 Z\" fill=\"#000000\" fill-rule=\"evenodd\" fill-opacity=\"1\" /><path clip-path=\"url(#clip180)\" d=\"M1455.12 34.3054 L1455.12 36.9095 L1430.64 36.9095 Q1430.99 42.4072 1433.94 45.3007 Q1436.92 48.1653 1442.22 48.1653 Q1445.29 48.1653 1448.15 47.4129 Q1451.04 46.6606 1453.88 45.156 L1453.88 50.1907 Q1451.02 51.406 1448.01 52.0425 Q1445 52.6791 1441.9 52.6791 Q1434.15 52.6791 1429.6 48.1653 Q1425.09 43.6514 1425.09 35.9547 Q1425.09 27.9975 1429.37 23.339 Q1433.68 18.6515 1440.97 18.6515 Q1447.51 18.6515 1451.3 22.876 Q1455.12 27.0716 1455.12 34.3054 M1449.8 32.7429 Q1449.74 28.3737 1447.34 25.7695 Q1444.97 23.1654 1441.03 23.1654 Q1436.58 23.1654 1433.89 25.6827 Q1431.22 28.2001 1430.82 32.7718 L1449.8 32.7429 Z\" fill=\"#000000\" fill-rule=\"evenodd\" fill-opacity=\"1\" /><path clip-path=\"url(#clip180)\" d=\"M1482.15 39.0507 L1482.15 19.4328 L1487.47 19.4328 L1487.47 38.8482 Q1487.47 43.4488 1489.27 45.7636 Q1491.06 48.0495 1494.65 48.0495 Q1498.96 48.0495 1501.45 45.3007 Q1503.97 42.5519 1503.97 37.8065 L1503.97 19.4328 L1509.29 19.4328 L1509.29 51.84 L1503.97 51.84 L1503.97 46.8632 Q1502.03 49.8145 1499.45 51.2613 Q1496.91 52.6791 1493.52 52.6791 Q1487.94 52.6791 1485.04 49.2069 Q1482.15 45.7347 1482.15 39.0507 M1495.55 18.6515 L1495.55 18.6515 Z\" fill=\"#000000\" fill-rule=\"evenodd\" fill-opacity=\"1\" /><path clip-path=\"url(#clip180)\" d=\"M1545.49 25.6538 Q1547.48 22.0659 1550.26 20.3587 Q1553.04 18.6515 1556.8 18.6515 Q1561.87 18.6515 1564.61 22.2105 Q1567.36 25.7406 1567.36 32.2799 L1567.36 51.84 L1562.01 51.84 L1562.01 32.4535 Q1562.01 27.795 1560.36 25.5381 Q1558.71 23.2811 1555.33 23.2811 Q1551.19 23.2811 1548.79 26.03 Q1546.38 28.7788 1546.38 33.5241 L1546.38 51.84 L1541.03 51.84 L1541.03 32.4535 Q1541.03 27.7661 1539.38 25.5381 Q1537.73 23.2811 1534.29 23.2811 Q1530.21 23.2811 1527.81 26.0589 Q1525.41 28.8077 1525.41 33.5241 L1525.41 51.84 L1520.05 51.84 L1520.05 19.4328 L1525.41 19.4328 L1525.41 24.4675 Q1527.23 21.4872 1529.78 20.0693 Q1532.32 18.6515 1535.82 18.6515 Q1539.35 18.6515 1541.81 20.4455 Q1544.3 22.2395 1545.49 25.6538 Z\" fill=\"#000000\" fill-rule=\"evenodd\" fill-opacity=\"1\" /><path clip-path=\"url(#clip180)\" d=\"M1609.38 23.1654 Q1605.09 23.1654 1602.61 26.5218 Q1600.12 29.8494 1600.12 35.6653 Q1600.12 41.4813 1602.58 44.8377 Q1605.07 48.1653 1609.38 48.1653 Q1613.63 48.1653 1616.12 44.8088 Q1618.61 41.4523 1618.61 35.6653 Q1618.61 29.9072 1616.12 26.5508 Q1613.63 23.1654 1609.38 23.1654 M1609.38 18.6515 Q1616.32 18.6515 1620.28 23.1654 Q1624.25 27.6792 1624.25 35.6653 Q1624.25 43.6225 1620.28 48.1653 Q1616.32 52.6791 1609.38 52.6791 Q1602.4 52.6791 1598.44 48.1653 Q1594.5 43.6225 1594.5 35.6653 Q1594.5 27.6792 1598.44 23.1654 Q1602.4 18.6515 1609.38 18.6515 Z\" fill=\"#000000\" fill-rule=\"evenodd\" fill-opacity=\"1\" /><path clip-path=\"url(#clip180)\" d=\"M1656.34 35.6653 Q1656.34 29.7915 1653.91 26.464 Q1651.51 23.1075 1647.28 23.1075 Q1643.06 23.1075 1640.63 26.464 Q1638.22 29.7915 1638.22 35.6653 Q1638.22 41.5391 1640.63 44.8956 Q1643.06 48.2231 1647.28 48.2231 Q1651.51 48.2231 1653.91 44.8956 Q1656.34 41.5391 1656.34 35.6653 M1638.22 24.3517 Q1639.9 21.4582 1642.45 20.0693 Q1645.02 18.6515 1648.58 18.6515 Q1654.49 18.6515 1658.16 23.339 Q1661.86 28.0265 1661.86 35.6653 Q1661.86 43.3042 1658.16 47.9916 Q1654.49 52.6791 1648.58 52.6791 Q1645.02 52.6791 1642.45 51.2902 Q1639.9 49.8724 1638.22 46.9789 L1638.22 51.84 L1632.87 51.84 L1632.87 6.81709 L1638.22 6.81709 L1638.22 24.3517 Z\" fill=\"#000000\" fill-rule=\"evenodd\" fill-opacity=\"1\" /><path clip-path=\"url(#clip180)\" d=\"M1670.69 19.4328 L1676.01 19.4328 L1676.01 52.4187 Q1676.01 58.6108 1673.64 61.3886 Q1671.3 64.1663 1666.06 64.1663 L1664.03 64.1663 L1664.03 59.6525 L1665.45 59.6525 Q1668.49 59.6525 1669.59 58.2346 Q1670.69 56.8458 1670.69 52.4187 L1670.69 19.4328 M1670.69 6.81709 L1676.01 6.81709 L1676.01 13.559 L1670.69 13.559 L1670.69 6.81709 Z\" fill=\"#000000\" fill-rule=\"evenodd\" fill-opacity=\"1\" /><path clip-path=\"url(#clip180)\" d=\"M1714.87 34.3054 L1714.87 36.9095 L1690.39 36.9095 Q1690.74 42.4072 1693.69 45.3007 Q1696.67 48.1653 1701.97 48.1653 Q1705.04 48.1653 1707.9 47.4129 Q1710.79 46.6606 1713.63 45.156 L1713.63 50.1907 Q1710.76 51.406 1707.76 52.0425 Q1704.75 52.6791 1701.65 52.6791 Q1693.9 52.6791 1689.35 48.1653 Q1684.84 43.6514 1684.84 35.9547 Q1684.84 27.9975 1689.12 23.339 Q1693.43 18.6515 1700.72 18.6515 Q1707.26 18.6515 1711.05 22.876 Q1714.87 27.0716 1714.87 34.3054 M1709.55 32.7429 Q1709.49 28.3737 1707.09 25.7695 Q1704.72 23.1654 1700.78 23.1654 Q1696.33 23.1654 1693.64 25.6827 Q1690.97 28.2001 1690.57 32.7718 L1709.55 32.7429 Z\" fill=\"#000000\" fill-rule=\"evenodd\" fill-opacity=\"1\" /><path clip-path=\"url(#clip180)\" d=\"M1728.88 10.2314 L1728.88 19.4328 L1739.84 19.4328 L1739.84 23.5705 L1728.88 23.5705 L1728.88 41.163 Q1728.88 45.1271 1729.95 46.2555 Q1731.05 47.384 1734.38 47.384 L1739.84 47.384 L1739.84 51.84 L1734.38 51.84 Q1728.21 51.84 1725.87 49.5541 Q1723.53 47.2393 1723.53 41.163 L1723.53 23.5705 L1719.62 23.5705 L1719.62 19.4328 L1723.53 19.4328 L1723.53 10.2314 L1728.88 10.2314 Z\" fill=\"#000000\" fill-rule=\"evenodd\" fill-opacity=\"1\" /><path clip-path=\"url(#clip180)\" d=\"M1759.4 23.1654 Q1755.12 23.1654 1752.63 26.5218 Q1750.15 29.8494 1750.15 35.6653 Q1750.15 41.4813 1752.6 44.8377 Q1755.09 48.1653 1759.4 48.1653 Q1763.66 48.1653 1766.15 44.8088 Q1768.63 41.4523 1768.63 35.6653 Q1768.63 29.9072 1766.15 26.5508 Q1763.66 23.1654 1759.4 23.1654 M1759.4 18.6515 Q1766.35 18.6515 1770.31 23.1654 Q1774.28 27.6792 1774.28 35.6653 Q1774.28 43.6225 1770.31 48.1653 Q1766.35 52.6791 1759.4 52.6791 Q1752.43 52.6791 1748.47 48.1653 Q1744.53 43.6225 1744.53 35.6653 Q1744.53 27.6792 1748.47 23.1654 Q1752.43 18.6515 1759.4 18.6515 Z\" fill=\"#000000\" fill-rule=\"evenodd\" fill-opacity=\"1\" /><polyline clip-path=\"url(#clip182)\" style=\"stroke:#009af9; stroke-linecap:butt; stroke-linejoin:round; stroke-width:4; stroke-opacity:1; fill:none\" points=\"\n",
       "  202.227,325.69 212.98,319.32 223.733,313.381 234.485,307.871 245.238,302.792 255.991,298.143 266.743,293.924 277.496,290.136 288.249,286.777 299.001,283.849 \n",
       "  309.754,281.351 320.507,279.284 331.259,277.646 342.012,276.439 352.764,275.662 363.517,275.315 374.27,275.399 385.022,275.912 395.775,276.856 406.528,278.23 \n",
       "  417.28,280.035 428.033,282.269 438.786,284.934 449.538,288.029 460.291,291.554 471.044,295.509 481.796,299.895 492.549,304.71 503.301,309.956 514.054,315.633 \n",
       "  524.807,321.739 535.559,328.276 546.312,335.243 557.065,342.64 567.817,350.467 578.57,358.725 589.323,367.412 600.075,376.53 610.828,386.078 621.581,396.057 \n",
       "  632.333,406.465 643.086,417.304 653.838,428.573 664.591,440.272 675.344,452.402 686.096,464.962 696.849,477.951 707.602,491.372 718.354,505.222 729.107,519.502 \n",
       "  739.86,534.213 750.612,549.354 761.365,564.925 772.118,580.927 782.87,597.358 793.623,614.22 804.375,631.512 815.128,649.234 825.881,667.387 836.633,685.97 \n",
       "  847.386,704.983 858.139,724.426 868.891,744.299 879.644,764.603 890.397,785.336 901.149,806.5 911.902,828.095 922.654,850.119 933.407,872.574 944.16,895.458 \n",
       "  954.912,918.774 965.665,942.519 976.418,966.694 987.17,991.3 997.923,1016.34 1008.68,1041.8 1019.43,1067.7 1030.18,1094.03 1040.93,1120.78 1051.69,1147.97 \n",
       "  1062.44,1175.59 1073.19,1203.63 1083.94,1232.11 1094.7,1261.02 1105.45,1290.36 1116.2,1320.13 1126.95,1350.32 1137.71,1380.95 1148.46,1412.01 1159.21,1443.5 \n",
       "  1169.97,1475.42 1180.72,1507.77 1191.47,1540.55 1202.22,1573.76 1212.98,1607.4 1223.73,1641.47 1234.48,1675.97 1245.23,1710.9 1255.99,1746.26 1266.74,1782.05 \n",
       "  1277.49,1818.28 \n",
       "  \"/>\n",
       "<path clip-path=\"url(#clip180)\" d=\"\n",
       "M1669.9 253.772 L2281.07 253.772 L2281.07 150.092 L1669.9 150.092  Z\n",
       "  \" fill=\"#ffffff\" fill-rule=\"evenodd\" fill-opacity=\"1\"/>\n",
       "<polyline clip-path=\"url(#clip180)\" style=\"stroke:#000000; stroke-linecap:butt; stroke-linejoin:round; stroke-width:4; stroke-opacity:1; fill:none\" points=\"\n",
       "  1669.9,253.772 2281.07,253.772 2281.07,150.092 1669.9,150.092 1669.9,253.772 \n",
       "  \"/>\n",
       "<polyline clip-path=\"url(#clip180)\" style=\"stroke:#009af9; stroke-linecap:butt; stroke-linejoin:round; stroke-width:4; stroke-opacity:1; fill:none\" points=\"\n",
       "  1693.8,201.932 1837.17,201.932 \n",
       "  \"/>\n",
       "<path clip-path=\"url(#clip180)\" d=\"M1874.46 206.179 Q1869.3 206.179 1867.31 207.36 Q1865.32 208.54 1865.32 211.388 Q1865.32 213.656 1866.8 214.999 Q1868.31 216.318 1870.88 216.318 Q1874.42 216.318 1876.55 213.818 Q1878.7 211.295 1878.7 207.128 L1878.7 206.179 L1874.46 206.179 M1882.96 204.42 L1882.96 219.212 L1878.7 219.212 L1878.7 215.277 Q1877.24 217.638 1875.07 218.772 Q1872.89 219.883 1869.74 219.883 Q1865.76 219.883 1863.4 217.661 Q1861.06 215.415 1861.06 211.665 Q1861.06 207.29 1863.98 205.068 Q1866.92 202.846 1872.73 202.846 L1878.7 202.846 L1878.7 202.429 Q1878.7 199.49 1876.76 197.892 Q1874.83 196.272 1871.34 196.272 Q1869.12 196.272 1867.01 196.804 Q1864.9 197.337 1862.96 198.402 L1862.96 194.466 Q1865.3 193.564 1867.5 193.124 Q1869.7 192.661 1871.78 192.661 Q1877.4 192.661 1880.18 195.578 Q1882.96 198.494 1882.96 204.42 Z\" fill=\"#000000\" fill-rule=\"evenodd\" fill-opacity=\"1\" /><path clip-path=\"url(#clip180)\" d=\"M1891.73 183.193 L1895.99 183.193 L1895.99 219.212 L1891.73 219.212 L1891.73 183.193 Z\" fill=\"#000000\" fill-rule=\"evenodd\" fill-opacity=\"1\" /><path clip-path=\"url(#clip180)\" d=\"M1909.12 185.925 L1909.12 193.286 L1917.89 193.286 L1917.89 196.596 L1909.12 196.596 L1909.12 210.67 Q1909.12 213.841 1909.97 214.744 Q1910.85 215.647 1913.52 215.647 L1917.89 215.647 L1917.89 219.212 L1913.52 219.212 Q1908.58 219.212 1906.71 217.383 Q1904.83 215.531 1904.83 210.67 L1904.83 196.596 L1901.71 196.596 L1901.71 193.286 L1904.83 193.286 L1904.83 185.925 L1909.12 185.925 Z\" fill=\"#000000\" fill-rule=\"evenodd\" fill-opacity=\"1\" /><path clip-path=\"url(#clip180)\" d=\"M1923.05 208.98 L1923.05 193.286 L1927.31 193.286 L1927.31 208.818 Q1927.31 212.499 1928.75 214.351 Q1930.18 216.179 1933.05 216.179 Q1936.5 216.179 1938.49 213.98 Q1940.51 211.781 1940.51 207.985 L1940.51 193.286 L1944.77 193.286 L1944.77 219.212 L1940.51 219.212 L1940.51 215.23 Q1938.95 217.591 1936.89 218.749 Q1934.86 219.883 1932.15 219.883 Q1927.68 219.883 1925.37 217.105 Q1923.05 214.327 1923.05 208.98 M1933.77 192.661 L1933.77 192.661 Z\" fill=\"#000000\" fill-rule=\"evenodd\" fill-opacity=\"1\" /><path clip-path=\"url(#clip180)\" d=\"M1968.56 197.267 Q1967.84 196.851 1966.99 196.666 Q1966.15 196.457 1965.14 196.457 Q1961.52 196.457 1959.58 198.818 Q1957.66 201.156 1957.66 205.554 L1957.66 219.212 L1953.38 219.212 L1953.38 193.286 L1957.66 193.286 L1957.66 197.314 Q1959 194.953 1961.15 193.818 Q1963.31 192.661 1966.39 192.661 Q1966.83 192.661 1967.36 192.73 Q1967.89 192.777 1968.54 192.892 L1968.56 197.267 Z\" fill=\"#000000\" fill-rule=\"evenodd\" fill-opacity=\"1\" /><path clip-path=\"url(#clip180)\" d=\"M1984.81 206.179 Q1979.65 206.179 1977.66 207.36 Q1975.67 208.54 1975.67 211.388 Q1975.67 213.656 1977.15 214.999 Q1978.65 216.318 1981.22 216.318 Q1984.76 216.318 1986.89 213.818 Q1989.05 211.295 1989.05 207.128 L1989.05 206.179 L1984.81 206.179 M1993.31 204.42 L1993.31 219.212 L1989.05 219.212 L1989.05 215.277 Q1987.59 217.638 1985.41 218.772 Q1983.24 219.883 1980.09 219.883 Q1976.11 219.883 1973.75 217.661 Q1971.41 215.415 1971.41 211.665 Q1971.41 207.29 1974.33 205.068 Q1977.26 202.846 1983.08 202.846 L1989.05 202.846 L1989.05 202.429 Q1989.05 199.49 1987.1 197.892 Q1985.18 196.272 1981.69 196.272 Q1979.46 196.272 1977.36 196.804 Q1975.25 197.337 1973.31 198.402 L1973.31 194.466 Q1975.64 193.564 1977.84 193.124 Q1980.04 192.661 1982.13 192.661 Q1987.75 192.661 1990.53 195.578 Q1993.31 198.494 1993.31 204.42 Z\" fill=\"#000000\" fill-rule=\"evenodd\" fill-opacity=\"1\" /><path clip-path=\"url(#clip180)\" d=\"M2034.21 197.221 L2034.21 183.193 L2038.47 183.193 L2038.47 219.212 L2034.21 219.212 L2034.21 215.323 Q2032.87 217.638 2030.81 218.772 Q2028.77 219.883 2025.9 219.883 Q2021.2 219.883 2018.24 216.133 Q2015.3 212.383 2015.3 206.272 Q2015.3 200.161 2018.24 196.411 Q2021.2 192.661 2025.9 192.661 Q2028.77 192.661 2030.81 193.795 Q2032.87 194.906 2034.21 197.221 M2019.7 206.272 Q2019.7 210.971 2021.62 213.656 Q2023.56 216.318 2026.94 216.318 Q2030.32 216.318 2032.26 213.656 Q2034.21 210.971 2034.21 206.272 Q2034.21 201.573 2032.26 198.911 Q2030.32 196.226 2026.94 196.226 Q2023.56 196.226 2021.62 198.911 Q2019.7 201.573 2019.7 206.272 Z\" fill=\"#000000\" fill-rule=\"evenodd\" fill-opacity=\"1\" /><path clip-path=\"url(#clip180)\" d=\"M2057.29 196.272 Q2053.86 196.272 2051.87 198.957 Q2049.88 201.619 2049.88 206.272 Q2049.88 210.925 2051.85 213.61 Q2053.84 216.272 2057.29 216.272 Q2060.69 216.272 2062.68 213.587 Q2064.67 210.902 2064.67 206.272 Q2064.67 201.666 2062.68 198.98 Q2060.69 196.272 2057.29 196.272 M2057.29 192.661 Q2062.84 192.661 2066.01 196.272 Q2069.19 199.883 2069.19 206.272 Q2069.19 212.638 2066.01 216.272 Q2062.84 219.883 2057.29 219.883 Q2051.71 219.883 2048.54 216.272 Q2045.39 212.638 2045.39 206.272 Q2045.39 199.883 2048.54 196.272 Q2051.71 192.661 2057.29 192.661 Z\" fill=\"#000000\" fill-rule=\"evenodd\" fill-opacity=\"1\" /><path clip-path=\"url(#clip180)\" d=\"M2101.36 196.272 Q2097.94 196.272 2095.94 198.957 Q2093.95 201.619 2093.95 206.272 Q2093.95 210.925 2095.92 213.61 Q2097.91 216.272 2101.36 216.272 Q2104.76 216.272 2106.76 213.587 Q2108.75 210.902 2108.75 206.272 Q2108.75 201.666 2106.76 198.98 Q2104.76 196.272 2101.36 196.272 M2101.36 192.661 Q2106.92 192.661 2110.09 196.272 Q2113.26 199.883 2113.26 206.272 Q2113.26 212.638 2110.09 216.272 Q2106.92 219.883 2101.36 219.883 Q2095.78 219.883 2092.61 216.272 Q2089.46 212.638 2089.46 206.272 Q2089.46 199.883 2092.61 196.272 Q2095.78 192.661 2101.36 192.661 Z\" fill=\"#000000\" fill-rule=\"evenodd\" fill-opacity=\"1\" /><path clip-path=\"url(#clip180)\" d=\"M2138.93 206.272 Q2138.93 201.573 2136.99 198.911 Q2135.07 196.226 2131.69 196.226 Q2128.31 196.226 2126.36 198.911 Q2124.44 201.573 2124.44 206.272 Q2124.44 210.971 2126.36 213.656 Q2128.31 216.318 2131.69 216.318 Q2135.07 216.318 2136.99 213.656 Q2138.93 210.971 2138.93 206.272 M2124.44 197.221 Q2125.78 194.906 2127.82 193.795 Q2129.88 192.661 2132.73 192.661 Q2137.45 192.661 2140.39 196.411 Q2143.35 200.161 2143.35 206.272 Q2143.35 212.383 2140.39 216.133 Q2137.45 219.883 2132.73 219.883 Q2129.88 219.883 2127.82 218.772 Q2125.78 217.638 2124.44 215.323 L2124.44 219.212 L2120.16 219.212 L2120.16 183.193 L2124.44 183.193 L2124.44 197.221 Z\" fill=\"#000000\" fill-rule=\"evenodd\" fill-opacity=\"1\" /><path clip-path=\"url(#clip180)\" d=\"M2150.41 193.286 L2154.67 193.286 L2154.67 219.675 Q2154.67 224.628 2152.77 226.851 Q2150.9 229.073 2146.71 229.073 L2145.09 229.073 L2145.09 225.462 L2146.22 225.462 Q2148.65 225.462 2149.53 224.327 Q2150.41 223.216 2150.41 219.675 L2150.41 193.286 M2150.41 183.193 L2154.67 183.193 L2154.67 188.587 L2150.41 188.587 L2150.41 183.193 Z\" fill=\"#000000\" fill-rule=\"evenodd\" fill-opacity=\"1\" /><path clip-path=\"url(#clip180)\" d=\"M2185.76 205.184 L2185.76 207.267 L2166.18 207.267 Q2166.45 211.665 2168.81 213.98 Q2171.2 216.272 2175.44 216.272 Q2177.89 216.272 2180.18 215.67 Q2182.5 215.068 2184.76 213.865 L2184.76 217.892 Q2182.47 218.864 2180.06 219.374 Q2177.66 219.883 2175.18 219.883 Q2168.98 219.883 2165.34 216.272 Q2161.73 212.661 2161.73 206.503 Q2161.73 200.138 2165.16 196.411 Q2168.61 192.661 2174.44 192.661 Q2179.67 192.661 2182.7 196.041 Q2185.76 199.397 2185.76 205.184 M2181.5 203.934 Q2181.45 200.439 2179.53 198.355 Q2177.63 196.272 2174.49 196.272 Q2170.92 196.272 2168.77 198.286 Q2166.64 200.3 2166.31 203.957 L2181.5 203.934 Z\" fill=\"#000000\" fill-rule=\"evenodd\" fill-opacity=\"1\" /><path clip-path=\"url(#clip180)\" d=\"M2196.96 185.925 L2196.96 193.286 L2205.74 193.286 L2205.74 196.596 L2196.96 196.596 L2196.96 210.67 Q2196.96 213.841 2197.82 214.744 Q2198.7 215.647 2201.36 215.647 L2205.74 215.647 L2205.74 219.212 L2201.36 219.212 Q2196.43 219.212 2194.56 217.383 Q2192.68 215.531 2192.68 210.67 L2192.68 196.596 L2189.56 196.596 L2189.56 193.286 L2192.68 193.286 L2192.68 185.925 L2196.96 185.925 Z\" fill=\"#000000\" fill-rule=\"evenodd\" fill-opacity=\"1\" /><path clip-path=\"url(#clip180)\" d=\"M2221.38 196.272 Q2217.96 196.272 2215.97 198.957 Q2213.98 201.619 2213.98 206.272 Q2213.98 210.925 2215.94 213.61 Q2217.93 216.272 2221.38 216.272 Q2224.79 216.272 2226.78 213.587 Q2228.77 210.902 2228.77 206.272 Q2228.77 201.666 2226.78 198.98 Q2224.79 196.272 2221.38 196.272 M2221.38 192.661 Q2226.94 192.661 2230.11 196.272 Q2233.28 199.883 2233.28 206.272 Q2233.28 212.638 2230.11 216.272 Q2226.94 219.883 2221.38 219.883 Q2215.81 219.883 2212.63 216.272 Q2209.49 212.638 2209.49 206.272 Q2209.49 199.883 2212.63 196.272 Q2215.81 192.661 2221.38 192.661 Z\" fill=\"#000000\" fill-rule=\"evenodd\" fill-opacity=\"1\" /></svg>\n"
      ]
     },
     "execution_count": 16,
     "metadata": {},
     "output_type": "execute_result"
    }
   ],
   "source": [
    "plot(t, h.(t, h0, v0), title=\"lançamento vertical de um objeto\", titlefont=10,\n",
    "    xlims = (0.0, 4.0), ylims=(0.0, 12.0), label = \"altura do objeto\", \n",
    "    xlabel = \"tempo\", ylabel=\"altura\")"
   ]
  },
  {
   "cell_type": "markdown",
   "metadata": {
    "slideshow": {
     "slide_type": "slide"
    },
    "tags": []
   },
   "source": [
    "### Operações permitidas\n",
    "\n",
    "* Podemos somar quantidades de mesma dimensão, independente das unidades.\n",
    "\n",
    "* Podos multiplicar quantidades, unidades quaisquer, inclusive entre si.\n",
    "\n",
    "* Podemos multiplicar dimensões entre si.\n",
    "\n",
    "* Podemos converter uma quantidade entre unidades diferentes de mesma dimensão.\n",
    "\n",
    "* Oberve que dimensões são em negrito e que negrito pode ser obtida com barra invertida, seguida de \"bf\" (de boldface), seguida da letra desejada e, finalmente, apertando ESC. Por exemplo, a dimensão de tempo **T** se obtém, em células de código, com `\\bfT` + `ESC`"
   ]
  },
  {
   "cell_type": "code",
   "execution_count": 17,
   "metadata": {
    "slideshow": {
     "slide_type": "slide"
    },
    "tags": []
   },
   "outputs": [
    {
     "data": {
      "text/plain": [
       "2757747//2500 m"
      ]
     },
     "execution_count": 17,
     "metadata": {},
     "output_type": "execute_result"
    }
   ],
   "source": [
    "1u\"km\" + 100u\"m\" + 10u\"ft\" + 2u\"inch\""
   ]
  },
  {
   "cell_type": "markdown",
   "metadata": {
    "slideshow": {
     "slide_type": "fragment"
    },
    "tags": []
   },
   "source": [
    "* Observe que como só usamos inteiros, a conversão resultou em um número racional.\n",
    "\n",
    "* Para obtermos um ponto flutuante, podemos ter multiplicar as unidades pelos números correspondente em ponto flutuante (ou pelo menos um deles, pois a conversão dos outros será forçada automaticamente)."
   ]
  },
  {
   "cell_type": "code",
   "execution_count": 18,
   "metadata": {
    "slideshow": {
     "slide_type": "slide"
    },
    "tags": []
   },
   "outputs": [
    {
     "data": {
      "text/plain": [
       "1000.3302 m"
      ]
     },
     "execution_count": 18,
     "metadata": {},
     "output_type": "execute_result"
    }
   ],
   "source": [
    "1.0u\"km\" + 13u\"inch\""
   ]
  },
  {
   "cell_type": "code",
   "execution_count": 19,
   "metadata": {
    "slideshow": {
     "slide_type": "slide"
    },
    "tags": []
   },
   "outputs": [
    {
     "data": {
      "text/plain": [
       "6.0 m s⁻¹"
      ]
     },
     "execution_count": 19,
     "metadata": {},
     "output_type": "execute_result"
    }
   ],
   "source": [
    "3.0u\"m\" * 2.0u\"1/s\""
   ]
  },
  {
   "cell_type": "code",
   "execution_count": 20,
   "metadata": {
    "slideshow": {
     "slide_type": "slide"
    },
    "tags": []
   },
   "outputs": [
    {
     "data": {
      "text/plain": [
       "3.0 m² s⁻²"
      ]
     },
     "execution_count": 20,
     "metadata": {},
     "output_type": "execute_result"
    }
   ],
   "source": [
    "3.0u\"m\" * u\"m/s^2\""
   ]
  },
  {
   "cell_type": "code",
   "execution_count": 21,
   "metadata": {
    "slideshow": {
     "slide_type": "slide"
    },
    "tags": []
   },
   "outputs": [
    {
     "data": {
      "text/plain": [
       "𝐋 𝐓"
      ]
     },
     "execution_count": 21,
     "metadata": {},
     "output_type": "execute_result"
    }
   ],
   "source": [
    "u\"𝐋\" * u\"𝐓\""
   ]
  },
  {
   "cell_type": "code",
   "execution_count": 22,
   "metadata": {
    "slideshow": {
     "slide_type": "fragment"
    },
    "tags": []
   },
   "outputs": [
    {
     "data": {
      "text/plain": [
       "1.208888888888889 hr"
      ]
     },
     "execution_count": 22,
     "metadata": {},
     "output_type": "execute_result"
    }
   ],
   "source": [
    "uconvert(u\"hr\", 4352.0u\"s\")"
   ]
  },
  {
   "cell_type": "markdown",
   "metadata": {
    "slideshow": {
     "slide_type": "slide"
    },
    "tags": []
   },
   "source": [
    "### Operações proibidas\n",
    "\n",
    "* Não podemos somar quantidades com unidades diferentes.\n",
    "\n",
    "* Não podemos somar unidades entre si, nem dimensões entre si, muito menos entre elas.\n",
    "\n",
    "* Não podemos multiplicar uma dimensão por uma quantidade ou unidade.\n",
    "\n",
    "* Não podemos converter uma quantidade em uma unidade de outra dimensão."
   ]
  },
  {
   "cell_type": "code",
   "execution_count": 23,
   "metadata": {
    "slideshow": {
     "slide_type": "slide"
    },
    "tags": []
   },
   "outputs": [
    {
     "ename": "LoadError",
     "evalue": "DimensionError: 1.0 m and 2.0 s are not dimensionally compatible.",
     "output_type": "error",
     "traceback": [
      "DimensionError: 1.0 m and 2.0 s are not dimensionally compatible.",
      "",
      "Stacktrace:",
      " [1] +(x::Quantity{Float64, 𝐋, Unitful.FreeUnits{(m,), 𝐋, nothing}}, y::Quantity{Float64, 𝐓, Unitful.FreeUnits{(s,), 𝐓, nothing}})",
      "   @ Unitful ~/.julia/packages/Unitful/0oqX5/src/quantities.jl:137",
      " [2] top-level scope",
      "   @ In[23]:1",
      " [3] eval",
      "   @ ./boot.jl:360 [inlined]",
      " [4] include_string(mapexpr::typeof(REPL.softscope), mod::Module, code::String, filename::String)",
      "   @ Base ./loading.jl:1116"
     ]
    }
   ],
   "source": [
    "1.0u\"m\" + 2.0u\"s\""
   ]
  },
  {
   "cell_type": "code",
   "execution_count": 24,
   "metadata": {
    "slideshow": {
     "slide_type": "slide"
    },
    "tags": []
   },
   "outputs": [
    {
     "ename": "LoadError",
     "evalue": "MethodError: no method matching +(::Unitful.FreeUnits{(m,), 𝐋, nothing}, ::Unitful.FreeUnits{(m,), 𝐋, nothing})\n\u001b[0mClosest candidates are:\n\u001b[0m  +(::Any, ::Any, \u001b[91m::Any\u001b[39m, \u001b[91m::Any...\u001b[39m) at operators.jl:560",
     "output_type": "error",
     "traceback": [
      "MethodError: no method matching +(::Unitful.FreeUnits{(m,), 𝐋, nothing}, ::Unitful.FreeUnits{(m,), 𝐋, nothing})\n\u001b[0mClosest candidates are:\n\u001b[0m  +(::Any, ::Any, \u001b[91m::Any\u001b[39m, \u001b[91m::Any...\u001b[39m) at operators.jl:560",
      "",
      "Stacktrace:",
      " [1] top-level scope",
      "   @ In[24]:1",
      " [2] eval",
      "   @ ./boot.jl:360 [inlined]",
      " [3] include_string(mapexpr::typeof(REPL.softscope), mod::Module, code::String, filename::String)",
      "   @ Base ./loading.jl:1116"
     ]
    }
   ],
   "source": [
    "u\"m\" + u\"m\""
   ]
  },
  {
   "cell_type": "code",
   "execution_count": 25,
   "metadata": {
    "slideshow": {
     "slide_type": "slide"
    },
    "tags": []
   },
   "outputs": [
    {
     "ename": "LoadError",
     "evalue": "MethodError: no method matching *(::Quantity{Int64, 𝐋 𝐓, Unitful.FreeUnits{(m, s), 𝐋 𝐓, nothing}}, ::Unitful.Dimensions{(Unitful.Dimension{:Time}(1//1),)})\n\u001b[0mClosest candidates are:\n\u001b[0m  *(::Any, ::Any, \u001b[91m::Any\u001b[39m, \u001b[91m::Any...\u001b[39m) at operators.jl:560\n\u001b[0m  *(::Quantity, \u001b[91m::Gain\u001b[39m) at /Users/rrosa/.julia/packages/Unitful/0oqX5/src/logarithm.jl:222\n\u001b[0m  *(::Quantity, \u001b[91m::Level\u001b[39m) at /Users/rrosa/.julia/packages/Unitful/0oqX5/src/logarithm.jl:211\n\u001b[0m  ...",
     "output_type": "error",
     "traceback": [
      "MethodError: no method matching *(::Quantity{Int64, 𝐋 𝐓, Unitful.FreeUnits{(m, s), 𝐋 𝐓, nothing}}, ::Unitful.Dimensions{(Unitful.Dimension{:Time}(1//1),)})\n\u001b[0mClosest candidates are:\n\u001b[0m  *(::Any, ::Any, \u001b[91m::Any\u001b[39m, \u001b[91m::Any...\u001b[39m) at operators.jl:560\n\u001b[0m  *(::Quantity, \u001b[91m::Gain\u001b[39m) at /Users/rrosa/.julia/packages/Unitful/0oqX5/src/logarithm.jl:222\n\u001b[0m  *(::Quantity, \u001b[91m::Level\u001b[39m) at /Users/rrosa/.julia/packages/Unitful/0oqX5/src/logarithm.jl:211\n\u001b[0m  ...",
      "",
      "Stacktrace:",
      " [1] *(::Quantity{Int64, 𝐋, Unitful.FreeUnits{(m,), 𝐋, nothing}}, ::Unitful.FreeUnits{(s,), 𝐓, nothing}, ::Unitful.Dimensions{(Unitful.Dimension{:Time}(1//1),)})",
      "   @ Base ./operators.jl:560",
      " [2] top-level scope",
      "   @ In[25]:1",
      " [3] eval",
      "   @ ./boot.jl:360 [inlined]",
      " [4] include_string(mapexpr::typeof(REPL.softscope), mod::Module, code::String, filename::String)",
      "   @ Base ./loading.jl:1116"
     ]
    }
   ],
   "source": [
    "1u\"m\" * u\"s\" * u\"𝐓\""
   ]
  },
  {
   "cell_type": "code",
   "execution_count": 26,
   "metadata": {
    "slideshow": {
     "slide_type": "slide"
    },
    "tags": []
   },
   "outputs": [
    {
     "ename": "LoadError",
     "evalue": "DimensionError: g and m are not dimensionally compatible.",
     "output_type": "error",
     "traceback": [
      "DimensionError: g and m are not dimensionally compatible.",
      "",
      "Stacktrace:",
      " [1] #s57#155",
      "   @ ~/.julia/packages/Unitful/0oqX5/src/conversion.jl:12 [inlined]",
      " [2] var\"#s57#155\"(::Any, s::Any, t::Any)",
      "   @ Unitful ./none:0",
      " [3] (::Core.GeneratedFunctionStub)(::Any, ::Vararg{Any, N} where N)",
      "   @ Core ./boot.jl:571",
      " [4] uconvert(a::Unitful.FreeUnits{(g,), 𝐌, nothing}, x::Quantity{Int64, 𝐋, Unitful.FreeUnits{(m,), 𝐋, nothing}})",
      "   @ Unitful ~/.julia/packages/Unitful/0oqX5/src/conversion.jl:78",
      " [5] top-level scope",
      "   @ In[26]:1",
      " [6] eval",
      "   @ ./boot.jl:360 [inlined]",
      " [7] include_string(mapexpr::typeof(REPL.softscope), mod::Module, code::String, filename::String)",
      "   @ Base ./loading.jl:1116"
     ]
    }
   ],
   "source": [
    "uconvert(u\"g\", 10u\"m\")"
   ]
  },
  {
   "cell_type": "markdown",
   "metadata": {
    "slideshow": {
     "slide_type": "slide"
    },
    "tags": []
   },
   "source": [
    "## Buckingham-Pi\n",
    "\n",
    "* Podemos aproveitar a estrutura do pacote `Unitful.jl` e explorar a capacidade de metaprogramação do Julia para montar um pacote que resolva os grupos adimensionais garantidos pelo Teorema de Buckingham-Pi.\n",
    "\n",
    "* Isso foi feito no pacote [rmsrosa/UnitfulBuckinghamPi.jl](https://github.com/rmsrosa/UnitfulBuckinghamPi.jl).\n",
    "\n",
    "* Tudo o que precisamos fazer é registrar as quantidades, unidades, dimensões como *parâmetros* do pacote, através das macros `@setparameters` e `@addparameters`.\n",
    "\n",
    "* Em seguida, encontramos os grupos adimensionais com a função `pi_groups()`.\n",
    "\n",
    "* Esse pacote foi inspirado no pacote em python desenvolvido [Ian Rose](https://ian-r-rose.github.io/pages/about.html) e descrito em [Automated dimensional analysis](https://ian-r-rose.github.io/automated-dimensional-analysis.html)."
   ]
  },
  {
   "cell_type": "markdown",
   "metadata": {
    "slideshow": {
     "slide_type": "slide"
    },
    "tags": []
   },
   "source": [
    "### Resolvendo o período do pêndulo via UnitfulBuckinghamPi.jl\n",
    "\n",
    "* Primeiramente, definimos os parâmetros.\n",
    "\n",
    "* Em seguida, os registramos no pacote.\n",
    "\n",
    "* Finalmente, obtemos os grupos adimensionais."
   ]
  },
  {
   "cell_type": "code",
   "execution_count": 27,
   "metadata": {
    "slideshow": {
     "slide_type": "slide"
    },
    "tags": []
   },
   "outputs": [],
   "source": [
    "# parâmetros\n",
    "ℓ = 2u\"m\" # quantidade\n",
    "g = 9.8u\"m/s^2\" # quantidade\n",
    "m = u\"g\" # unidade\n",
    "T = u\"𝐓\" # dimensão\n",
    "θ = u\"NoDims\" # \"dimensão\" adimensional\n",
    "nothing"
   ]
  },
  {
   "cell_type": "code",
   "execution_count": 28,
   "metadata": {
    "slideshow": {
     "slide_type": "fragment"
    },
    "tags": []
   },
   "outputs": [
    {
     "name": "stderr",
     "output_type": "stream",
     "text": [
      "┌ Info: Parameter(s) registered:\n",
      "└ @ UnitfulBuckinghamPi /Users/rrosa/.julia/packages/UnitfulBuckinghamPi/OeIXt/src/UnitfulBuckinghamPi.jl:127\n",
      "┌ Info:  ℓ = 2 m\n",
      "└ @ UnitfulBuckinghamPi /Users/rrosa/.julia/packages/UnitfulBuckinghamPi/OeIXt/src/UnitfulBuckinghamPi.jl:129\n",
      "┌ Info:  g = 9.8 m s⁻²\n",
      "└ @ UnitfulBuckinghamPi /Users/rrosa/.julia/packages/UnitfulBuckinghamPi/OeIXt/src/UnitfulBuckinghamPi.jl:129\n",
      "┌ Info:  m = g\n",
      "└ @ UnitfulBuckinghamPi /Users/rrosa/.julia/packages/UnitfulBuckinghamPi/OeIXt/src/UnitfulBuckinghamPi.jl:129\n",
      "┌ Info:  T = 𝐓\n",
      "└ @ UnitfulBuckinghamPi /Users/rrosa/.julia/packages/UnitfulBuckinghamPi/OeIXt/src/UnitfulBuckinghamPi.jl:129\n",
      "┌ Info:  θ = NoDims\n",
      "└ @ UnitfulBuckinghamPi /Users/rrosa/.julia/packages/UnitfulBuckinghamPi/OeIXt/src/UnitfulBuckinghamPi.jl:129\n"
     ]
    }
   ],
   "source": [
    "# registro\n",
    "@setparameters ℓ g m T θ"
   ]
  },
  {
   "cell_type": "code",
   "execution_count": 29,
   "metadata": {
    "slideshow": {
     "slide_type": "slide"
    },
    "tags": []
   },
   "outputs": [
    {
     "data": {
      "text/plain": [
       "2-element Vector{String}:\n",
       " \"g^(1//2)*ℓ^(-1//2)*T^(1//1)\"\n",
       " \"θ^(1//1)\""
      ]
     },
     "execution_count": 29,
     "metadata": {},
     "output_type": "execute_result"
    }
   ],
   "source": [
    "# grupos adimensionais na forma de string\n",
    "pi_groups(:String)"
   ]
  },
  {
   "cell_type": "code",
   "execution_count": 30,
   "metadata": {
    "slideshow": {
     "slide_type": "fragment"
    },
    "tags": []
   },
   "outputs": [
    {
     "data": {
      "text/plain": [
       "2-element Vector{Expr}:\n",
       " :(g ^ (1 // 2) * ℓ ^ (-1 // 2) * T ^ (1 // 1))\n",
       " :(θ ^ (1 // 1))"
      ]
     },
     "execution_count": 30,
     "metadata": {},
     "output_type": "execute_result"
    }
   ],
   "source": [
    "# grupos adimensionais na forma de expressão do Julia\n",
    "Π = pi_groups(:Expr)"
   ]
  },
  {
   "cell_type": "markdown",
   "metadata": {
    "slideshow": {
     "slide_type": "fragment"
    },
    "tags": []
   },
   "source": [
    "* Como $T$ é uma dimensão e os outros parâmetros em $\\Pi[1]$ são quantidades, não podemos \"avaliar\" (\"evaluate\") $\\Pi[1]$, pois não podemos multipicar uma dimensão por uma unidade ou quantidade. \n",
    "\n",
    "* Mas como $\\Pi[2]$ não envolve tal multiplicação, então nesse caso não temos problema."
   ]
  },
  {
   "cell_type": "code",
   "execution_count": 31,
   "metadata": {
    "slideshow": {
     "slide_type": "fragment"
    },
    "tags": []
   },
   "outputs": [
    {
     "data": {
      "text/plain": [
       "NoDims"
      ]
     },
     "execution_count": 31,
     "metadata": {},
     "output_type": "execute_result"
    }
   ],
   "source": [
    "eval(Π[2])"
   ]
  },
  {
   "cell_type": "code",
   "execution_count": 32,
   "metadata": {
    "slideshow": {
     "slide_type": "fragment"
    },
    "tags": []
   },
   "outputs": [
    {
     "ename": "LoadError",
     "evalue": "MethodError: no method matching *(::Quantity{Float64, 𝐓⁻¹, Unitful.FreeUnits{(s⁻¹,), 𝐓⁻¹, nothing}}, ::Unitful.Dimensions{(Unitful.Dimension{:Time}(1//1),)})\n\u001b[0mClosest candidates are:\n\u001b[0m  *(::Any, ::Any, \u001b[91m::Any\u001b[39m, \u001b[91m::Any...\u001b[39m) at operators.jl:560\n\u001b[0m  *(::Quantity, \u001b[91m::Gain\u001b[39m) at /Users/rrosa/.julia/packages/Unitful/0oqX5/src/logarithm.jl:222\n\u001b[0m  *(::Quantity, \u001b[91m::Level\u001b[39m) at /Users/rrosa/.julia/packages/Unitful/0oqX5/src/logarithm.jl:211\n\u001b[0m  ...",
     "output_type": "error",
     "traceback": [
      "MethodError: no method matching *(::Quantity{Float64, 𝐓⁻¹, Unitful.FreeUnits{(s⁻¹,), 𝐓⁻¹, nothing}}, ::Unitful.Dimensions{(Unitful.Dimension{:Time}(1//1),)})\n\u001b[0mClosest candidates are:\n\u001b[0m  *(::Any, ::Any, \u001b[91m::Any\u001b[39m, \u001b[91m::Any...\u001b[39m) at operators.jl:560\n\u001b[0m  *(::Quantity, \u001b[91m::Gain\u001b[39m) at /Users/rrosa/.julia/packages/Unitful/0oqX5/src/logarithm.jl:222\n\u001b[0m  *(::Quantity, \u001b[91m::Level\u001b[39m) at /Users/rrosa/.julia/packages/Unitful/0oqX5/src/logarithm.jl:211\n\u001b[0m  ...",
      "",
      "Stacktrace:",
      " [1] *(::Quantity{Float64, 𝐋¹ᐟ² 𝐓⁻¹, Unitful.FreeUnits{(m¹ᐟ², s⁻¹), 𝐋¹ᐟ² 𝐓⁻¹, nothing}}, ::Quantity{Float64, 𝐋⁻¹ᐟ², Unitful.FreeUnits{(m⁻¹ᐟ²,), 𝐋⁻¹ᐟ², nothing}}, ::Unitful.Dimensions{(Unitful.Dimension{:Time}(1//1),)})",
      "   @ Base ./operators.jl:560",
      " [2] top-level scope",
      "   @ none:1",
      " [3] eval",
      "   @ ./boot.jl:360 [inlined]",
      " [4] eval(x::Expr)",
      "   @ Base.MainInclude ./client.jl:446",
      " [5] top-level scope",
      "   @ In[32]:1",
      " [6] eval",
      "   @ ./boot.jl:360 [inlined]",
      " [7] include_string(mapexpr::typeof(REPL.softscope), mod::Module, code::String, filename::String)",
      "   @ Base ./loading.jl:1116"
     ]
    }
   ],
   "source": [
    "eval(Π[1])"
   ]
  },
  {
   "cell_type": "markdown",
   "metadata": {
    "slideshow": {
     "slide_type": "slide"
    },
    "tags": []
   },
   "source": [
    "* Para resolver esse problema com $\\Pi[1]$, podemos substituir a dimensão `T=u\"𝐓\"` por uma unidade, que denotamos por $\\tau$."
   ]
  },
  {
   "cell_type": "code",
   "execution_count": 33,
   "metadata": {
    "slideshow": {
     "slide_type": "fragment"
    },
    "tags": []
   },
   "outputs": [
    {
     "data": {
      "text/plain": [
       "s"
      ]
     },
     "execution_count": 33,
     "metadata": {},
     "output_type": "execute_result"
    }
   ],
   "source": [
    "τ = u\"s\""
   ]
  },
  {
   "cell_type": "code",
   "execution_count": 34,
   "metadata": {
    "slideshow": {
     "slide_type": "fragment"
    },
    "tags": []
   },
   "outputs": [
    {
     "name": "stderr",
     "output_type": "stream",
     "text": [
      "┌ Info: Parameter(s) registered:\n",
      "└ @ UnitfulBuckinghamPi /Users/rrosa/.julia/packages/UnitfulBuckinghamPi/OeIXt/src/UnitfulBuckinghamPi.jl:127\n",
      "┌ Info:  ℓ = 2 m\n",
      "└ @ UnitfulBuckinghamPi /Users/rrosa/.julia/packages/UnitfulBuckinghamPi/OeIXt/src/UnitfulBuckinghamPi.jl:129\n",
      "┌ Info:  g = 9.8 m s⁻²\n",
      "└ @ UnitfulBuckinghamPi /Users/rrosa/.julia/packages/UnitfulBuckinghamPi/OeIXt/src/UnitfulBuckinghamPi.jl:129\n",
      "┌ Info:  m = g\n",
      "└ @ UnitfulBuckinghamPi /Users/rrosa/.julia/packages/UnitfulBuckinghamPi/OeIXt/src/UnitfulBuckinghamPi.jl:129\n",
      "┌ Info:  τ = s\n",
      "└ @ UnitfulBuckinghamPi /Users/rrosa/.julia/packages/UnitfulBuckinghamPi/OeIXt/src/UnitfulBuckinghamPi.jl:129\n",
      "┌ Info:  θ = NoDims\n",
      "└ @ UnitfulBuckinghamPi /Users/rrosa/.julia/packages/UnitfulBuckinghamPi/OeIXt/src/UnitfulBuckinghamPi.jl:129\n"
     ]
    }
   ],
   "source": [
    "@setparameters ℓ g m τ θ"
   ]
  },
  {
   "cell_type": "code",
   "execution_count": 35,
   "metadata": {
    "slideshow": {
     "slide_type": "slide"
    },
    "tags": []
   },
   "outputs": [
    {
     "data": {
      "text/plain": [
       "2-element Vector{Expr}:\n",
       " :(g ^ (1 // 2) * ℓ ^ (-1 // 2) * τ ^ (1 // 1))\n",
       " :(θ ^ (1 // 1))"
      ]
     },
     "execution_count": 35,
     "metadata": {},
     "output_type": "execute_result"
    }
   ],
   "source": [
    "Π = pi_groups()"
   ]
  },
  {
   "cell_type": "code",
   "execution_count": 36,
   "metadata": {
    "slideshow": {
     "slide_type": "fragment"
    },
    "tags": []
   },
   "outputs": [
    {
     "data": {
      "text/plain": [
       "2.2135943621178655"
      ]
     },
     "execution_count": 36,
     "metadata": {},
     "output_type": "execute_result"
    }
   ],
   "source": [
    "eval(Π[1])"
   ]
  },
  {
   "cell_type": "code",
   "execution_count": 37,
   "metadata": {
    "slideshow": {
     "slide_type": "fragment"
    },
    "tags": []
   },
   "outputs": [
    {
     "data": {
      "text/plain": [
       "NoDims"
      ]
     },
     "execution_count": 37,
     "metadata": {},
     "output_type": "execute_result"
    }
   ],
   "source": [
    "eval(Π[2])"
   ]
  },
  {
   "cell_type": "code",
   "execution_count": 38,
   "metadata": {
    "slideshow": {
     "slide_type": "fragment"
    },
    "tags": []
   },
   "outputs": [
    {
     "data": {
      "text/plain": [
       "NoDims"
      ]
     },
     "execution_count": 38,
     "metadata": {},
     "output_type": "execute_result"
    }
   ],
   "source": [
    "dimension(eval(Π[1]))"
   ]
  },
  {
   "cell_type": "markdown",
   "metadata": {
    "slideshow": {
     "slide_type": "slide"
    },
    "tags": []
   },
   "source": [
    "## Exercícios\n",
    "\n",
    "1. Considere a equação $\\tau = 2\\pi\\sqrt{\\ell/g}$ para o período de pêndulo:\n",
    "    1. Defina a função $\\tau(\\ell, g) = 2\\pi \\sqrt{\\ell/g}$ em julia.\n",
    "    1. Defina um vetor $\\ell$ com unidades de comprimento variando de $10\\,\\texttt{cm}$ a $2\\,\\texttt{m}$, espaçados de um centímetro.\n",
    "    1. Defina a constante $g$ como uma quantidade dimensional apropriada.\n",
    "    1. Obtenha os valores correspondentes de $\\tau=\\tau(\\ell,g)$.\n",
    "    1. Trace o gráfico de $\\tau$ no intervalo considerado de $\\ell$.\n",
    "1. Obtenha o grupo adimensional $T\\ell/mv^2$ do exercício da caderno anterior através do pacote `UnitfulBuckinghamPi.jl`."
   ]
  },
  {
   "cell_type": "markdown",
   "metadata": {
    "slideshow": {
     "slide_type": "skip"
    }
   },
   "source": [
    "<!--NAVIGATOR-->\n",
    "\n",
    "---\n",
    "[<- 3.2. Análise dimensional e o Teorema de Buckingham-Pi](03.02-BuckinghamPi.ipynb) | [Página inicial](00.00-Pagina_inicial.ipynb) | [4. Ajuste de parâmetros ->](04.00-Ajuste_parametros.ipynb)"
   ]
  }
 ],
 "metadata": {
  "kernelspec": {
   "display_name": "Julia 1.6.2",
   "language": "julia",
   "name": "julia-1.6"
  },
  "language_info": {
   "file_extension": ".jl",
   "mimetype": "application/julia",
   "name": "julia",
   "version": "1.6.2"
  },
  "toc-autonumbering": false,
  "toc-showcode": false,
  "toc-showmarkdowntxt": true,
  "toc-showtags": false
 },
 "nbformat": 4,
 "nbformat_minor": 4
}
