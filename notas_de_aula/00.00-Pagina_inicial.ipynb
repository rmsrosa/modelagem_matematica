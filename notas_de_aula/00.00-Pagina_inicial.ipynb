{
 "cells": [
  {
   "cell_type": "markdown",
   "metadata": {
    "slideshow": {
     "slide_type": "skip"
    }
   },
   "source": [
    "<!--HEADER-->\n",
    "*Notas de aula de Modelagem Matemática - 2021/1 [- Ricardo M. S. Rosa (IM/UFRJ)](http://www.im.ufrj.br/rrosa)*"
   ]
  },
  {
   "cell_type": "markdown",
   "metadata": {
    "slideshow": {
     "slide_type": "skip"
    }
   },
   "source": [
    "<!--BADGES-->\n",
    "<a href=\"https://nbviewer.jupyter.org/github/rmsrosa/modelagem_matematica/blob/modmat2021p1/notas_de_aula/00.00-Pagina_inicial.ipynb\" target=\"_blank\"><img align=\"left\" src=\"https://img.shields.io/badge/view%20in-nbviewer-orange\" alt=\"View in NBViewer\" title=\"View in NBViewer\"></a><a href=\"https://mybinder.org/v2/gh/rmsrosa/modelagem_matematica/julia-env-for-binder-2021p1?urlpath=git-pull%3Frepo%3Dhttps%253A%252F%252Fgithub.com%252Frmsrosa%252Fmodelagem_matematica%26branch%3Dmodmat2021p1%26urlpath%3Dtree%252Fmodelagem_matematica%252Fnotas_de_aula/00.00-Pagina_inicial.ipynb\" target=\"_blank\"><img align=\"left\" src=\"https://mybinder.org/badge.svg\" alt=\"Open in binder\" title=\"Open in binder\"></a><a href=\"https://nbviewer.jupyter.org/github/rmsrosa/modelagem_matematica/blob/modmat2021p1/notas_de_aula/slides/00.00-Pagina_inicial.slides.html\" target=\"_blank\"><img align=\"left\" src=\"https://img.shields.io/badge/view-slides-darkgreen\" alt=\"View Slides\" title=\"View Slides\"></a>&nbsp;"
   ]
  },
  {
   "cell_type": "markdown",
   "metadata": {
    "slideshow": {
     "slide_type": "skip"
    }
   },
   "source": [
    "<!--NAVIGATOR-->\n",
    "| [Página inicial](00.00-Pagina_inicial.ipynb) | [1. Preliminares ->](01.00-Preliminares.ipynb)\n",
    "\n",
    "---\n"
   ]
  },
  {
   "cell_type": "markdown",
   "metadata": {
    "slideshow": {
     "slide_type": "slide"
    }
   },
   "source": [
    "# Página inicial"
   ]
  },
  {
   "cell_type": "markdown",
   "metadata": {
    "slideshow": {
     "slide_type": "slide"
    }
   },
   "source": [
    "<!--TABLE_OF_CONTENTS-->\n",
    "## [Sumário](#)\n",
    "\n",
    "### [Página inicial](00.00-Pagina_inicial.ipynb)\n",
    "\n",
    "### [1. Preliminares](01.00-Preliminares.ipynb)\n",
    "\n",
    "&nbsp;&nbsp;&nbsp;&nbsp; [1.1. Aspectos do curso - edição 2021/1](01.01-Aspectos_curso.ipynb)\n",
    "\n",
    "&nbsp;&nbsp;&nbsp;&nbsp; [1.2. Instalando e acessando o Julia](01.02-Instalando_acessando_Julia.ipynb)\n",
    "\n",
    "&nbsp;&nbsp;&nbsp;&nbsp; [1.3. Primeiros passos em Julia](01.03-Primeiros_passos_Julia.ipynb)\n",
    "\n",
    "### [2. Principios de modelagem matemática](02.00-Principios_modelagem_matematica.ipynb)\n",
    "\n",
    "&nbsp;&nbsp;&nbsp;&nbsp; [2.1. Princípios básicos de modelagem](02.01-Principios_basicos.ipynb)\n",
    "\n",
    "&nbsp;&nbsp;&nbsp;&nbsp; [2.2. Exemplos de tipos de modelagem](02.02-Exemplos_tipos_modelagem.ipynb)\n",
    "\n",
    "### [3. Análise dimensional](03.00-Analise_dimensional.ipynb)\n",
    "\n",
    "&nbsp;&nbsp;&nbsp;&nbsp; [3.1. Quantidades, unidades e dimensões](03.01-Quantidades_unidades_dimensoes.ipynb)\n",
    "\n",
    "&nbsp;&nbsp;&nbsp;&nbsp; [3.2. Análise dimensional e o Teorema de Buckingham-Pi](03.02-BuckinghamPi.ipynb)\n",
    "\n",
    "&nbsp;&nbsp;&nbsp;&nbsp; [3.3. Trabalhando com unidades e dimensões em Julia](03.03-Unidades_Julia.ipynb)\n",
    "\n",
    "### [4. Ajuste de parâmetros](04.00-Ajuste_parametros.ipynb)\n",
    "\n",
    "&nbsp;&nbsp;&nbsp;&nbsp; [4.1. Mínimos quadrados e o ajuste de parâmetros](04.01-Minimos_quadrados_ajuste.ipynb)\n",
    "\n",
    "&nbsp;&nbsp;&nbsp;&nbsp; [4.2. Modelos redutíveis ao caso linear nos parâmetros e aplicações](04.02-Modelos_redutiveis_linear_aplicacoes.ipynb)\n",
    "\n",
    "&nbsp;&nbsp;&nbsp;&nbsp; [4.3. Mínimos quadrados não-linear](04.03-Minimos_quadrados_nao_linear.ipynb)\n",
    "\n",
    "&nbsp;&nbsp;&nbsp;&nbsp; [4.4. Exemplos de ajuste não-linear de parâmetros](04.04-Exemplos_ajuste_naolinear.ipynb)\n",
    "\n",
    "### [5. Erros, incertezas](05.00-Erros_incertezas_quantificacao.ipynb)\n",
    "\n",
    "&nbsp;&nbsp;&nbsp;&nbsp; [5.1. Erros e incertezas](05.01-Erros_e_incertezas.ipynb)\n",
    "\n",
    "&nbsp;&nbsp;&nbsp;&nbsp; [5.2. Mínimos quadrados, maximização da verossimilhança e quantificação de incertezas em regressões lineares](05.02-Minimos_quadrados_verossimilhanca.ipynb)\n",
    "\n",
    "&nbsp;&nbsp;&nbsp;&nbsp; [5.3. Propagação de incertezas](05.03-Propagacao_incertezas.ipynb)\n",
    "\n",
    "### [6. Avaliação de modelos](06.00-Avaliacao_modelos.ipynb)\n",
    "\n",
    "&nbsp;&nbsp;&nbsp;&nbsp; [6.1. Qualidade do ajuste](06.01-Qualidade_do_modelo.ipynb)\n",
    "\n",
    "&nbsp;&nbsp;&nbsp;&nbsp; [6.2. Validação de modelos](06.02-Validacao_do_modelo.ipynb)\n",
    "\n",
    "&nbsp;&nbsp;&nbsp;&nbsp; [6.3. Comparação de modelos](06.03-Comparacao_de_modelos.ipynb)\n",
    "\n",
    "### [7. Mecânica](07.00-Mecanica.ipynb)\n",
    "\n",
    "&nbsp;&nbsp;&nbsp;&nbsp; [7.1. Mecânica Newtoniana](07.01-Mecanica_Newtoniana.ipynb)\n",
    "\n",
    "&nbsp;&nbsp;&nbsp;&nbsp; [7.2. Mecânica Lagrangiana](07.02-Mecanica_Lagrangiana.ipynb)\n",
    "\n",
    "&nbsp;&nbsp;&nbsp;&nbsp; [7.3. Leis de conservação em um contexto Newtoniano](07.03-Conservacao_contexto_Newtoniano.ipynb)\n",
    "\n",
    "&nbsp;&nbsp;&nbsp;&nbsp; [7.4. Leis de conservação em um contexto Lagrangiano](07.04-Conservacao_contexto_Lagrangiano.ipynb)\n",
    "\n",
    "&nbsp;&nbsp;&nbsp;&nbsp; [7.5. Análise do período de um pêndulo planar simpless](07.05-Pendulo.ipynb)\n",
    "\n",
    "### [8. Eletrônica](08.00-Eletronica.ipynb)\n",
    "\n",
    "&nbsp;&nbsp;&nbsp;&nbsp; [8.1. Modelagem da relação voltagem-corrente de um diodo](08.01-Modelo_diodo.ipynb)\n",
    "\n",
    "### [9. Reações químicas e bioquímicas](09.00-Reacoes_quimicas.ipynb)\n",
    "\n",
    "&nbsp;&nbsp;&nbsp;&nbsp; [9.1. Lei de ação de massas](09.01-Lei_acao_de_massas.ipynb)\n",
    "\n",
    "&nbsp;&nbsp;&nbsp;&nbsp; [9.2. Modelagem de reações enzimática](09.02-Reacoes_enzimaticas.ipynb)\n",
    "\n",
    "&nbsp;&nbsp;&nbsp;&nbsp; [9.3. Lupulagem e a conversão de humulone em iso-humulone considerando saturação](09.03-Isomerizacao.ipynb)\n",
    "\n",
    "### [10. Modelos epidemiológicos](10.00-Modelos_epidemiologicos.ipynb)\n",
    "\n",
    "&nbsp;&nbsp;&nbsp;&nbsp; [10.1. Modelos epidemiológicos compartimentais](10.01-Modelos_epidemiologicos_compartimentais.ipynb)\n",
    "\n",
    "&nbsp;&nbsp;&nbsp;&nbsp; [10.2. Ajustando um modelo SIR a uma epidemia de Influenza](10.02-Ajuste_SIR.ipynb)\n",
    "\n",
    "&nbsp;&nbsp;&nbsp;&nbsp; [10.3. Modelos compartimentais estruturados](10.03-Compartimentais_estruturados.ipynb)\n",
    "\n",
    "### [11. Séries de Fourier e aplicações](11.00-Fourier_e_aplicacoes.ipynb)\n",
    "\n",
    "&nbsp;&nbsp;&nbsp;&nbsp; [11.1. Séries de Fourier](11.01-Series_Fourier.ipynb)\n",
    "\n",
    "&nbsp;&nbsp;&nbsp;&nbsp; [11.2. Transformada discreta de Fourier](11.02-Transformada_discreta_Fourier.ipynb)\n",
    "\n",
    "&nbsp;&nbsp;&nbsp;&nbsp; [11.3. Ondas sonoras e elementos musicais](11.03-Ondas_sonoras_elementos_musicais.ipynb)\n",
    "\n",
    "### [12. Modelos com equações a derivadas parciais](12.00-EDP.ipynb)\n",
    "\n",
    "&nbsp;&nbsp;&nbsp;&nbsp; [12.1. Equações a derivadas parciais e diferenças finitas](12.01-EDP_e_diferencas_finitas.ipynb)\n",
    "\n",
    "&nbsp;&nbsp;&nbsp;&nbsp; [12.2. Equação de adveçcão](12.02-EDP_advecao.ipynb)\n",
    "\n",
    "&nbsp;&nbsp;&nbsp;&nbsp; [12.3. Equação do calor unidimensional](12.03-EDP_calor.ipynb)\n",
    "\n",
    "&nbsp;&nbsp;&nbsp;&nbsp; [12.4. Equação da onda unidimensional](12.04-EDP_onda.ipynb)\n",
    "\n",
    "&nbsp;&nbsp;&nbsp;&nbsp; [12.5. Equação do calor em duas dimensões espaciais](12.05-EDP_calor_bidimensional.ipynb)\n",
    "\n",
    "&nbsp;&nbsp;&nbsp;&nbsp; [12.6. Equação da onda em duas dimensões espaciais](12.06-EDP_onda_bidimensional.ipynb)\n",
    "\n",
    "&nbsp;&nbsp;&nbsp;&nbsp; [12.7. Ondas sísmicas](12.07-Ondas_sismicas.ipynb)\n",
    "\n"
   ]
  },
  {
   "cell_type": "markdown",
   "metadata": {
    "slideshow": {
     "slide_type": "skip"
    }
   },
   "source": [
    "<!--NAVIGATOR-->\n",
    "\n",
    "---\n",
    "| [Página inicial](00.00-Pagina_inicial.ipynb) | [1. Preliminares ->](01.00-Preliminares.ipynb)"
   ]
  }
 ],
 "metadata": {
  "kernelspec": {
   "display_name": "Julia 1.6.2",
   "language": "julia",
   "name": "julia-1.6"
  },
  "language_info": {
   "file_extension": ".jl",
   "mimetype": "application/julia",
   "name": "julia",
   "version": "1.6.2"
  }
 },
 "nbformat": 4,
 "nbformat_minor": 4
}
