{
 "cells": [
  {
   "cell_type": "markdown",
   "metadata": {
    "slideshow": {
     "slide_type": "skip"
    }
   },
   "source": [
    "<!--HEADER-->\n",
    "*Notas de aula de Modelagem Matemática - 2020/2 [- Ricardo M. S. Rosa (IM/UFRJ)](http://www.im.ufrj.br/rrosa)*"
   ]
  },
  {
   "cell_type": "markdown",
   "metadata": {
    "slideshow": {
     "slide_type": "skip"
    }
   },
   "source": [
    "<!--BADGES-->\n",
    "<a href=\"https://nbviewer.jupyter.org/github/rmsrosa/modelagem_matematica/blob/modmat2020p2/notas_de_aula/00.00-Pagina_inicial.ipynb\" target=\"_blank\"><img align=\"left\" src=\"https://img.shields.io/badge/view%20in-nbviewer-orange\" alt=\"View in NBViewer\" title=\"View in NBViewer\"></a><a href=\"https://mybinder.org/v2/gh/rmsrosa/modelagem_matematica/julia-env-for-binder?urlpath=git-pull%3Frepo%3Dhttps%253A%252F%252Fgithub.com%252Frmsrosa%252Fmodelagem_matematica%26branch%3Dmodmat2020p2%26urlpath%3Dtree%252Fmodelagem_matematica%252Fnotas_de_aula/00.00-Pagina_inicial.ipynb\" target=\"_blank\"><img align=\"left\" src=\"https://mybinder.org/badge.svg\" alt=\"Open in binder\" title=\"Open in binder\"></a><a href=\"https://nbviewer.jupyter.org/github/rmsrosa/modelagem_matematica/blob/modmat2020p2/notas_de_aula/slides/00.00-Pagina_inicial.slides.html\" target=\"_blank\"><img align=\"left\" src=\"https://img.shields.io/badge/view-slides-darkgreen\" alt=\"View Slides\" title=\"View Slides\"></a>&nbsp;"
   ]
  },
  {
   "cell_type": "markdown",
   "metadata": {
    "slideshow": {
     "slide_type": "skip"
    }
   },
   "source": [
    "<!--NAVIGATOR-->\n",
    "| [Página inicial](00.00-Pagina_inicial.ipynb) | [1. Aspectos do curso - edição 2020/2 ->](01.00-Aspectos_curso.ipynb)\n",
    "\n",
    "---\n"
   ]
  },
  {
   "cell_type": "markdown",
   "metadata": {
    "slideshow": {
     "slide_type": "slide"
    }
   },
   "source": [
    "# Página inicial"
   ]
  },
  {
   "cell_type": "markdown",
   "metadata": {
    "slideshow": {
     "slide_type": "slide"
    }
   },
   "source": [
    "<!--TABLE_OF_CONTENTS-->\n",
    "## [Sumário](#)\n",
    "\n",
    "### [Página inicial](00.00-Pagina_inicial.ipynb)\n",
    "\n",
    "### [1. Aspectos do curso - edição 2020/2](01.00-Aspectos_curso.ipynb)\n",
    "\n",
    "### [2. Princípios de modelagem matemática](02.00-Principios_modelagem_matematica.ipynb)\n",
    "\n",
    "### [3. Exemplos de tipos de modelagem](03.00-Exemplos_tipos_modelagem.ipynb)\n",
    "\n",
    "### [4. Instalando e acessando o Julia](04.00-Instalando_acessando_Julia.ipynb)\n",
    "\n",
    "### [5. Primeiros passos em Julia](05.00-Primeiros_passos_Julia.ipynb)\n",
    "\n",
    "### [6. Análise dimensional e o Teorema de Buckingham-Pi](06.00-BuckinghamPi_analise_dimensional.ipynb)\n",
    "\n",
    "### [7. Mínimos quadrados e regressão linear](07.00-Minimos_quadrados_regressao.ipynb)\n",
    "\n"
   ]
  },
  {
   "cell_type": "markdown",
   "metadata": {
    "slideshow": {
     "slide_type": "skip"
    }
   },
   "source": [
    "<!--NAVIGATOR-->\n",
    "\n",
    "---\n",
    "| [Página inicial](00.00-Pagina_inicial.ipynb) | [1. Aspectos do curso - edição 2020/2 ->](01.00-Aspectos_curso.ipynb)"
   ]
  }
 ],
 "metadata": {
  "kernelspec": {
   "display_name": "Julia 1.5.3",
   "language": "julia",
   "name": "julia-1.5"
  },
  "language_info": {
   "file_extension": ".jl",
   "mimetype": "application/julia",
   "name": "julia",
   "version": "1.5.3"
  }
 },
 "nbformat": 4,
 "nbformat_minor": 4
}
