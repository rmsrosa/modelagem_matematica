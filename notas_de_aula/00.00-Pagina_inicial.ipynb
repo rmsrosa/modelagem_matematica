{
 "cells": [
  {
   "cell_type": "markdown",
   "metadata": {
    "slideshow": {
     "slide_type": "skip"
    }
   },
   "source": [
    "<!--HEADER-->\n",
    "*Notas de aula de Modelagem Matemática - 2020/2 [- Ricardo M. S. Rosa (IM/UFRJ)](http://www.im.ufrj.br/rrosa)*"
   ]
  },
  {
   "cell_type": "markdown",
   "metadata": {
    "slideshow": {
     "slide_type": "skip"
    }
   },
   "source": [
    "<!--BADGES-->\n",
    "<a href=\"https://nbviewer.jupyter.org/github/rmsrosa/modelagem_matematica/blob/modmat2020p2/notas_de_aula/00.00-Pagina_inicial.ipynb\" target=\"_blank\"><img align=\"left\" src=\"https://img.shields.io/badge/view%20in-nbviewer-orange\" alt=\"View in NBViewer\" title=\"View in NBViewer\"></a><a href=\"https://mybinder.org/v2/gh/rmsrosa/modelagem_matematica/julia-env-for-binder?urlpath=git-pull%3Frepo%3Dhttps%253A%252F%252Fgithub.com%252Frmsrosa%252Fmodelagem_matematica%26branch%3Dmodmat2020p2%26urlpath%3Dtree%252Fmodelagem_matematica%252Fnotas_de_aula/00.00-Pagina_inicial.ipynb\" target=\"_blank\"><img align=\"left\" src=\"https://mybinder.org/badge.svg\" alt=\"Open in binder\" title=\"Open in binder\"></a><a href=\"https://nbviewer.jupyter.org/github/rmsrosa/modelagem_matematica/blob/modmat2020p2/notas_de_aula/slides/00.00-Pagina_inicial.slides.html\" target=\"_blank\"><img align=\"left\" src=\"https://img.shields.io/badge/view-slides-darkgreen\" alt=\"View Slides\" title=\"View Slides\"></a>&nbsp;"
   ]
  },
  {
   "cell_type": "markdown",
   "metadata": {
    "slideshow": {
     "slide_type": "skip"
    }
   },
   "source": [
    "<!--NAVIGATOR-->\n",
    "| [Página inicial](00.00-Pagina_inicial.ipynb) | [1. Aspectos do curso - edição 2020/2 ->](01.00-Aspectos_curso.ipynb)\n",
    "\n",
    "---\n"
   ]
  },
  {
   "cell_type": "markdown",
   "metadata": {
    "slideshow": {
     "slide_type": "slide"
    }
   },
   "source": [
    "# Página inicial"
   ]
  },
  {
   "cell_type": "markdown",
   "metadata": {
    "slideshow": {
     "slide_type": "slide"
    }
   },
   "source": [
    "<!--TABLE_OF_CONTENTS-->\n",
    "## [Sumário](#)\n",
    "\n",
    "### [Página inicial](00.00-Pagina_inicial.ipynb)\n",
    "\n",
    "### [1. Aspectos do curso - edição 2020/2](01.00-Aspectos_curso.ipynb)\n",
    "\n",
    "### [2. Princípios de modelagem matemática](02.00-Principios_modelagem_matematica.ipynb)\n",
    "\n",
    "### [3. Exemplos de tipos de modelagem](03.00-Exemplos_tipos_modelagem.ipynb)\n",
    "\n",
    "### [4. Instalando e acessando o Julia](04.00-Instalando_acessando_Julia.ipynb)\n",
    "\n",
    "### [5. Primeiros passos em Julia](05.00-Primeiros_passos_Julia.ipynb)\n",
    "\n",
    "### [6. Análise dimensional e o Teorema de Buckingham-Pi](06.00-BuckinghamPi_analise_dimensional.ipynb)\n",
    "\n",
    "### [7. Mínimos quadrados e o ajuste de parâmetros](07.00-Minimos_quadrados_ajuste.ipynb)\n",
    "\n",
    "### [8. Modelos redutíveis ao caso linear nos parâmetros e aplicações](08.00-Modelos_redutiveis_linear_aplicacoes.ipynb)\n",
    "\n",
    "### [9. Mínimos quadrados não-linear](09.00-Minimos_quadrados_nao_linear.ipynb)\n",
    "\n",
    "### [10. Exemplos de ajuste não-linear de parâmetros](10.00-Exemplos_ajuste_naolinear.ipynb)\n",
    "\n",
    "### [11. Erros e incertezas](11.00-Erros_e_incertezas.ipynb)\n",
    "\n",
    "### [12. Mínimos quadrados, maximização da verossimilhança e quantificação de incertezas em regressões lineares](12.00-Minimos_quadrados_verossimilhanca.ipynb)\n",
    "\n",
    "### [13. Propagação de incertezas](13.00-Propagacao_incertezas.ipynb)\n",
    "\n",
    "### [14. Qualidade do ajuste](14.00-Qualidade_do_modelo.ipynb)\n",
    "\n",
    "### [15. Validação de modelos](15.00-Validacao_do_modelo.ipynb)\n",
    "\n",
    "### [16. Comparação de modelos](16.00-Comparacao_de_modelos.ipynb)\n",
    "\n",
    "### [17. Modelagem da relacão voltagem-corrente de um diodo](17.00-Modelo_diodo.ipynb)\n",
    "\n",
    "### [18. Lupulagem e a conversão de humulone em iso-humulone considerando saturação](18.00-Isomerizacao.ipynb)\n",
    "\n",
    "### [19. Modelos epidemiológicos compartimentais](19.00-Modelos_epidemiologicos_compartimentais.ipynb)\n",
    "\n",
    "### [20. Ajustando um modelo SIR a uma epidemia de Influenza](20.00-Ajuste_SIR.ipynb)\n",
    "\n",
    "### [21. Modelos compartimentais estruturados](21.00-Compartimentais_estruturados.ipynb)\n",
    "\n",
    "### [22. Equações a derivadas parciais e diferenças finitas](22.00-EDP_e_diferencas_finitas.ipynb)\n",
    "\n",
    "### [23. Equação de adveçcão](23.00-EDP_advecao.ipynb)\n",
    "\n",
    "### [24. Equação do calor unidimensional](24.00-EDP_calor.ipynb)\n",
    "\n",
    "### [25. Equação da onda unidimensional](25.00-EDP_onda.ipynb)\n",
    "\n",
    "### [26. Equação do calor em duas dimensões espaciais](26.00-EDP_calor_bidimensional.ipynb)\n",
    "\n",
    "### [27. Equação da onda em duas dimensões espaciais](27.00-EDP_onda_bidimensional.ipynb)\n",
    "\n",
    "### [28. Ondas sísmicas](28.00-Ondas_sismicas.ipynb)\n",
    "\n"
   ]
  },
  {
   "cell_type": "markdown",
   "metadata": {
    "slideshow": {
     "slide_type": "skip"
    }
   },
   "source": [
    "<!--NAVIGATOR-->\n",
    "\n",
    "---\n",
    "| [Página inicial](00.00-Pagina_inicial.ipynb) | [1. Aspectos do curso - edição 2020/2 ->](01.00-Aspectos_curso.ipynb)"
   ]
  }
 ],
 "metadata": {
  "kernelspec": {
   "display_name": "Julia 1.6.0",
   "language": "julia",
   "name": "julia-1.6"
  },
  "language_info": {
   "file_extension": ".jl",
   "mimetype": "application/julia",
   "name": "julia",
   "version": "1.6.0"
  }
 },
 "nbformat": 4,
 "nbformat_minor": 4
}
