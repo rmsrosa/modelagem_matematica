{
 "cells": [
  {
   "cell_type": "markdown",
   "metadata": {
    "slideshow": {
     "slide_type": "skip"
    }
   },
   "source": [
    "<!--HEADER-->\n",
    "*Notas de aula de Modelagem Matemática - 2021/1 [- Ricardo M. S. Rosa (IM/UFRJ)](http://www.im.ufrj.br/rrosa)*"
   ]
  },
  {
   "cell_type": "markdown",
   "metadata": {
    "slideshow": {
     "slide_type": "skip"
    }
   },
   "source": [
    "<!--BADGES-->\n",
    "<a href=\"https://nbviewer.jupyter.org/github/rmsrosa/modelagem_matematica/blob/modmat2021p1/notas_de_aula/07.02-Mecanica_Lagrangiana.ipynb\" target=\"_blank\"><img align=\"left\" src=\"https://img.shields.io/badge/view%20in-nbviewer-orange\" alt=\"View in NBViewer\" title=\"View in NBViewer\"></a><a href=\"https://mybinder.org/v2/gh/rmsrosa/modelagem_matematica/julia-env-for-binder-2021p1?urlpath=git-pull%3Frepo%3Dhttps%253A%252F%252Fgithub.com%252Frmsrosa%252Fmodelagem_matematica%26branch%3Dmodmat2021p1%26urlpath%3Dtree%252Fmodelagem_matematica%252Fnotas_de_aula/07.02-Mecanica_Lagrangiana.ipynb\" target=\"_blank\"><img align=\"left\" src=\"https://mybinder.org/badge.svg\" alt=\"Open in binder\" title=\"Open in binder\"></a><a href=\"https://nbviewer.jupyter.org/github/rmsrosa/modelagem_matematica/blob/modmat2021p1/notas_de_aula/slides/07.02-Mecanica_Lagrangiana.slides.html\" target=\"_blank\"><img align=\"left\" src=\"https://img.shields.io/badge/view-slides-darkgreen\" alt=\"View Slides\" title=\"View Slides\"></a>&nbsp;"
   ]
  },
  {
   "cell_type": "markdown",
   "metadata": {
    "slideshow": {
     "slide_type": "skip"
    }
   },
   "source": [
    "<!--NAVIGATOR-->\n",
    "[<- 7.1. Mecânica Newtoniana](07.01-Mecanica_Newtoniana.ipynb) | [Página inicial](00.00-Pagina_inicial.ipynb) | [7.3. Mecânica Newtoniana e o pêndulo planar ->](07.03-Pendulo.ipynb)\n",
    "\n",
    "---\n"
   ]
  },
  {
   "cell_type": "markdown",
   "metadata": {},
   "source": [
    "# Mecânica Lagrangiana"
   ]
  },
  {
   "cell_type": "code",
   "execution_count": 1,
   "metadata": {},
   "outputs": [],
   "source": [
    "using Images\n",
    "using Plots\n",
    "using DifferentialEquations.OrdinaryDiffEq"
   ]
  },
  {
   "cell_type": "markdown",
   "metadata": {},
   "source": [
    "## Fundamentos\n",
    "\n",
    "* Na Mecânica Lagrangiana, o *princípio de menor ação*, baseado em uma *função Lagrangiana*, substitui as leis de Newton, em particular a segunda lei de Newton, que diz que a *taxa de variação de momento em relação ao tempo é igual ao resultante das forças*.\n",
    "\n",
    "* O **Lagrangiano** é uma função dependente da variável temporal, da posição e da velocidade dos pontos materiais envolvidos no sistema: $L(\\mathbf{r}, \\mathbf{\\dot r}, t)$.\n",
    "\n",
    "* A **ação** do sistema ao longo de um caminho $\\mathbf{r}(t)$, $t_0\\leq t \\leq t$, é dada pela integral de caminho do Lagrangiano:\n",
    "\n",
    "$$ S(\\mathbf{r}) = \\int_{t_0}^{t_1} L(\\mathbf{r}(t), \\mathbf{\\dot r}(t), t) \\;\\mathrm{d} t.\n",
    "$$\n",
    "\n",
    "* O **princípio da menor ação** afirma que a trajetória que um sistema percorre saindo de uma posição $\\mathbf{r}(t_0) = \\mathbf{r}_0$, no instante $t_0$, e indo até uma posição $\\mathbf{r}(t_1) = \\mathbf{r}_1$, num instante subseqüente $t_1$, é dado pelo mínimo da ação ao longo de todos os caminhos possíveis, i.e.\n",
    "\n",
    "$$ S(\\mathbf{r}) = \\min_{\\mathbf{\\tilde r}\\in \\mathcal{V}} S(\\mathbf{\\tilde r}),\n",
    "$$\n",
    "\n",
    "onde o mínimo é tomado em relação a todos os possíveis caminhos\n",
    "ligando $\\mathbf{r}_0$ a $\\mathbf{r}_1$, i.e. \n",
    "\n",
    "$$ \\mathcal{V} = \\mathcal{V}(t_0, t_1, \\mathbf{r}_0, \\mathbf{r}_1) = \\{ \\mathbf{\\tilde r} = \\mathbf{\\tilde r}(t); \\; t_0\\leq t \\leq t_1,\n",
    "       \\mathbf{\\tilde r}(t_0)=\\mathbf{r}_0, \\;\\mathbf{\\tilde r}(t_1) = \\mathbf{r}_1\\}.\n",
    "$$\n"
   ]
  },
  {
   "cell_type": "markdown",
   "metadata": {},
   "source": [
    "## Mínimo da ação\n",
    "\n",
    "* Assim como no Cálculo de Várias Variáveis, o mínimo de $S = S(\\mathbf{r})$ é encontrado como ponto crítico de $S$, buscando os \"pontos\" em que o \"gradiente\" se anula.\n",
    "\n",
    "* Exceto que, nesse caso, olhamos para a condição das \"derivadas direcionais\" se anularem.\n",
    "\n",
    "* De fato, escrevendo $\\mathbf{\\tilde r} =\\mathbf{r}+\\mathbf{w}$,  consideramos o conjunto\n",
    "\n",
    "$$ \\mathcal{W}(t_0,t_1) = \\{\\mathbf{w}=\\mathbf{w}(t); \\;t_0\\leq t \\leq t_1, \\; \\mathbf{w}(t_0)=0, \\;\\mathbf{w}(t_1)=0\\},\n",
    "$$\n",
    "\n",
    "de modo que \n",
    "$$ \\mathcal{V} = \\mathbf{r} + \\mathcal{W},\n",
    "$$\n",
    "\n",
    "e o problema de minimização pode ser escrito como o de encontrar\n",
    "\n",
    "$$ \\mathbf{r} \\in \\mathcal{V} \\;\\textrm{ tal que }\\; \\mathcal{S}(\\mathbf{r}) \\leq \\mathcal{S}(\\mathbf{r} + \\mathbf{w}), \\;\\forall \\mathbf{w} \\in \\mathcal{W}.\n",
    "$$\n",
    "\n",
    "* Como $\\varepsilon\\mathbf{w}\\in \\mathcal{W}$, para qualquer $\\mathbf{w}\\in \\mathcal{W}$, a condição de $\\mathbf{r}$ ser mínimo nos dá, para todo $\\varepsilon > 0$,\n",
    "\n",
    "$$ \\frac{\\mathcal{S}(\\mathbf{r}+\\varepsilon\\mathbf{w})-\\mathcal{S}(\\mathbf{r})}{\\varepsilon} \\geq 0\n",
    "$$\n",
    "\n",
    "* Assim, no limite, obtemos a condição\n",
    "$$ \\lim_{\\varepsilon\\rightarrow 0^+} \n",
    "      \\frac{\\mathcal{S}(\\mathbf{r}+\\varepsilon\\mathbf{w})-\\mathcal{S}(\\mathbf{r})}{\\varepsilon} \\geq 0.\n",
    "$$"
   ]
  },
  {
   "cell_type": "markdown",
   "metadata": {},
   "source": [
    "## Derivada de Gâteaux da ação\n",
    "\n",
    "* Nesse contexto de função $S(\\mathbf{r})$ de funções $\\mathbf{r}$, as derivadas direcionais ganham o nome pomposo de *derivadas de Gâteaux*.\n",
    "\n",
    "* Para o cálculo da derivada de Gâteaux, assumindo $L(\\mathbf{r}, \\mathbf{\\dot r}, t)$ uma função suave, temos a expansão de Taylor\n",
    "\n",
    "$$ L(\\mathbf{r} + \\varepsilon \\mathbf{w}, \\mathbf{\\dot r} + \\varepsilon \\mathbf{\\dot w}, t) = L(\\mathbf{r}, \\mathbf{\\dot r}, t) + \\varepsilon \\frac{\\partial L}{\\partial \\mathbf{r}} (\\mathbf{r}, \\mathbf{\\dot r}, t)\\mathbf{w} + \\varepsilon \\frac{\\partial L}{\\partial \\mathbf{\\dot r}} (\\mathbf{r}, \\mathbf{\\dot r}, t)\\mathbf{\\dot w} + \\mathcal{O}(\\varepsilon^2).\n",
    "$$\n",
    "\n",
    "* Os termos $\\mathbf{r}$ e $\\mathbf{\\dot r}$ são vetores, então as derivadas parciais acima são, na verdade, vetores gradientes.\n",
    "\n",
    "* Dividindo por $\\varepsilon > 0$ e integrando, obtemos\n",
    "\n",
    "$$ \\frac{\\mathcal{S}(\\mathbf{r}+\\varepsilon\\mathbf{w})-\\mathcal{S}(\\mathbf{r})}{\\varepsilon} = \\int_{t_0}^{t_1} \\left( \\frac{\\partial L}{\\partial \\mathbf{r}} (\\mathbf{r}, \\mathbf{\\dot r}, t)\\mathbf{w} + \\frac{\\partial L}{\\partial \\mathbf{\\dot r}} (\\mathbf{r}, \\mathbf{\\dot r}, t)\\mathbf{\\dot w} \\right) \\;\\mathrm{d} t + \\mathcal{O}(\\varepsilon)\n",
    "$$\n",
    "\n",
    "* Integrando por partes o segundo termo, usando as condições $\\mathbf{w}(t_0) = \\mathbf{w}(t_1) = 0$ nos extremos, obtemos\n",
    "\n",
    "$$ \\frac{\\mathcal{S}(\\mathbf{r}+\\varepsilon\\mathbf{w})-\\mathcal{S}(\\mathbf{r})}{\\varepsilon} = \\int_{t_0}^{t_1} \\left( \\frac{\\partial L}{\\partial\\mathbf{r}}(\\mathbf{r},\\mathbf{\\dot r},t) \n",
    "           - \\frac{\\mathrm{d}}{\\mathrm{d} t}\\frac{\\partial L}{\\partial\\mathbf{\\dot r}}(\\mathbf{r},\\mathbf{\\dot r},t)\\right)\\mathbf{w}(t) \\;\\mathrm{d} t + \\mathcal{O}(\\varepsilon)\n",
    "$$\n",
    "\n",
    "* Tomando o limite, chegamos à expressão para a derivada de Gâteaux de $S(\\cdot)$ no \"ponto\" $\\mathbf{r}$, na direção $\\mathbf{w}$, com a condição para $\\mathbf{r}$ ser mínimo devendo valer para todo $\\mathbf{w} \\in \\mathcal{W}$:\n",
    "\n",
    "$$ \\lim_{\\varepsilon\\rightarrow 0} \n",
    "      \\frac{\\mathcal{S}(\\mathbf{r}+\\varepsilon\\mathbf{w})-\\mathcal{S}(\\mathbf{r})}{\\varepsilon}\n",
    "      = \\int_{t_0}^{t_1} \\left( \\frac{\\partial L}{\\partial\\mathbf{r}}(\\mathbf{r},\\mathbf{\\dot r},t) \n",
    "           - \\frac{\\mathrm{d}}{\\mathrm{d} t}\\frac{\\partial L}{\\partial\\mathbf{\\dot r}}(\\mathbf{r},\\mathbf{\\dot r},t)\\right)\\mathbf{w}(t) \\;\\mathrm{d} t \\geq 0.\n",
    "$$\n",
    "\n",
    "* Como $-\\mathbf{w}$ também pertence a $\\mathcal{W}$, isso nos dá a condição\n",
    "\n",
    "$$\n",
    "\\int_{t_0}^{t_1} \\left( \\frac{\\partial L}{\\partial\\mathbf{r}}(\\mathbf{r},\\mathbf{\\dot r},t) - \\frac{\\mathrm{d}}{\\mathrm{d} t}\\frac{\\partial L}{\\partial\\mathbf{\\dot r}}(\\mathbf{r},\\mathbf{\\dot r},t)\\right)\\mathbf{w}(t) \\;\\mathrm{d} t = 0, \\qquad \\forall \\mathbf{w}\\in \\mathcal{W}.\n",
    "$$"
   ]
  },
  {
   "cell_type": "markdown",
   "metadata": {},
   "source": [
    "## Equações de Euler-Lagrange\n",
    "\n",
    "* Como a condição acima deve valer para todo $\\mathbf{w}\\in \\mathcal{W}$, obtemos as chamadas **equações de Euler-Lagrange** para trajetória que minimiza a ação:\n",
    "\n",
    "$$ \\frac{\\mathrm{d}}{\\mathrm{d} t}\\frac{\\partial L}{\\partial\\mathbf{\\dot r}}(\\mathbf{r},\\mathbf{\\dot r},t) - \\frac{\\partial L}{\\partial\\mathbf{r}}(\\mathbf{r},\\mathbf{\\dot r},t) = 0, \\qquad \\forall t \\in (t_0, t_1).\n",
    "$$\n",
    "\n",
    "* Essas equações são as equações de movimento do sistema, substituindo as equações de Newton."
   ]
  },
  {
   "cell_type": "markdown",
   "metadata": {},
   "source": [
    "## Exemplos de Lagrangianos\n",
    "\n",
    "* Não há uma expressão geral para o Lagrangiano.\n",
    "\n",
    "* Em mecânica clássica, não relativística, de sistemas conservativos, o Lagrangiano é da forma\n",
    "\n",
    "$$ L = K - V,\n",
    "$$\n",
    "\n",
    "onde $K = K(\\mathbf{\\dot r})$ é a energia cinética e $V = V(\\mathbf{r})$ é a energia potencial.\n",
    "\n",
    "* Por exemplo, no caso de um corpo de massa $m$ em queda livre, com altura $h = h(t)$, temos\n",
    "\n",
    "$$ \\mathbf{r} = (0, 0, h), \\qquad K(\\mathbf{r}) = \\frac{1}{2} m {\\dot h}^2, \\qquad V(\\mathbf{r}) = mgh.\n",
    "$$\n",
    "\n",
    "* Nesse caso, o Lagrangiano simplifica para\n",
    "\n",
    "$$ L = L(h, \\dot h) = \\frac{1}{2} m {\\dot h}^2 - mgh.\n",
    "$$\n",
    "\n",
    "* Para as equações de Euler-Lagrange, temos\n",
    "\n",
    "$$ \\frac{\\partial L}{\\partial h}(h, \\dot h) = -mg, \\qquad \\frac{\\partial L}{\\partial \\dot h}(h, \\dot h) = m \\dot h.\n",
    "$$\n",
    "\n",
    "* Assim,\n",
    "\n",
    "$$ \\frac{\\mathrm{d}}{\\mathrm{d} t} \\frac{\\partial L}{\\partial \\dot h}(h, \\dot h) - \\frac{\\partial L}{\\partial h}(h, \\dot h) = \\frac{\\mathrm{d}}{\\mathrm{d} t} (m \\dot h) + mg = m \\ddot h + mg = 0.\n",
    "$$\n",
    "\n",
    "* Portanto, recuperamos as equações obtidas pela formulação Newtoniana:\n",
    "\n",
    "$$ m\\ddot h = -mg.\n",
    "$$\n",
    "\n",
    "* No caso mais geral, de $n$ partículas de massa $m_j$, $j=1, \\ldots, n$, e força conservativa $F = - \\nabla V$, $\\mathbf{r} = (\\mathbf{r}_1, \\ldots, \\mathbf{r}_n)$,\n",
    "\n",
    "$$ K(\\mathbf{\\dot r}) = \\frac{1}{2} \\sum_{j=1}^n m_j \\|\\mathbf{r}_j\\|^2, \\quad L(\\mathbf{r}, \\mathbf{\\dot r}) = K(\\mathbf{\\dot r}) - V(\\mathbf{r}).\n",
    "$$\n",
    "\n",
    "* As equações de Euler-Lagrange também nos dão\n",
    "\n",
    "$$ m_j \\mathbf{\\ddot r}_j = - \\frac{\\partial V}{\\partial \\mathbf{r}_j}(\\mathbf{r}).\n",
    "$$"
   ]
  },
  {
   "cell_type": "markdown",
   "metadata": {},
   "source": [
    "## Lagrangiano em relatividade restrita\n",
    "\n",
    "* Em relatividade restrita, as equações de movimento de uma partícula livre são dadas por\n",
    "\n",
    "$$ \\frac{\\mathrm{d}}{\\mathrm{d} t} \\left(\\frac{m\\mathbf{\\dot r}}{\\displaystyle\\sqrt{1-\\frac{\\|\\mathbf{\\dot r}\\|^2}{c^2}}} \n",
    "          \\right)= 0,\n",
    "$$\n",
    "\n",
    "onde $c$ é a velocidade da luz e $m$ é a massa de repouso da partícula. \n",
    "\n",
    "* Essa equação pode ser deduzida através das equações de Euler-Lagrange para o Lagrangiano\n",
    "\n",
    "$$ L(\\mathbf{\\dot r}) = -mc^2\\sqrt{1 - \\frac{\\|\\mathbf{\\dot r}\\|^2}{c^2}}.\n",
    "$$"
   ]
  },
  {
   "cell_type": "markdown",
   "metadata": {},
   "source": [
    "## Vínculos\n",
    "\n",
    "* Um dos grandes \"poderes\" da mecânica Lagrangiana é facilitar a dedução das equações quando há alguma espécie de restrição que limita os possíveis estados, ou configurações, do sistema.\n",
    "\n",
    "* Por exemplo, o problema de um **corpo em queda livre** possui as restrições $x = y = 0$.\n",
    "\n",
    "* Em um **pêndulo planar simples**, a massa do pêndulo está restrita a um movimento circular. As coordenadas $x(t), y(t), z(t)$ do seu centro de massa devem satisfazer $x = 0$, $y^2 + z^2 = \\ell^2$.\n",
    "\n",
    "* No problema de uma **bola quicante**, estando o \"piso\" no plano $xy$, a restrição é da forma $z \\geq 0$.\n",
    "\n",
    "* Em uma **mola vertical**, o extremo \"livre\" está em uma posição $\\mathbf{r} = (x, y, z)$ com $x = y = 0$.\n",
    "\n",
    "* No caso de um **pêndulo planar com extremidade variável**, onde a extremidade fixa passa a se mover de forma determinada $(x, y) = (f(t), g(t))$ ao longo do plano $xy$, temos as restrições\n",
    "\n",
    "$$ x = f(t), \\quad (y - g(t))^2 + z^2 = \\ell^2.\n",
    "$$\n",
    "\n",
    "* Um exemplo interessante é o de um **pêndulo girante** (veja relação com o [*governador centrífugo*](https://en.wikipedia.org/wiki/Centrifugal_governor)), que consiste em um pêndulo tridimensional mas girando com uma velocidade angular determinada, em torno do eixo $z$. Nesse caso, temos as restrições\n",
    "\n",
    "$$ x^2 + y^2 + z^2 = \\ell^2, \\quad \\dot\\theta = \\omega,\n",
    "$$\n",
    "\n",
    "onde $\\omega$ é uma constante dada (velocidade angular) e $\\theta = \\theta(x,y)$ é o ângulo entre o vetor $(1, 0)$ e o vetor $(x,y)$, no sentido trigonométrico."
   ]
  },
  {
   "cell_type": "markdown",
   "metadata": {},
   "source": [
    "## Vínculos holônomos\n",
    "\n",
    "\n",
    "* Vamos nos concentrar no caso de **vínculos holônomos**, que são os vínculos \"integráveis\", que não dependem do movimento em si, apenas das posições, podendo ser escritos como (uma ou mais) equações envolvendo apenas a posição e o tempo:\n",
    "\n",
    "$$ \\Phi_k(\\mathbf{r}, t) = 0, \\qquad k = 1, \\ldots, n_r.\n",
    "$$\n",
    "\n",
    "* Há, no entanto, uma série de [vínculos não-holonômos](https://en.wikipedia.org/wiki/Nonholonomic_system) importantes.\n",
    "\n",
    "* No caso do pêndulo planar, temos os vínculos holônomos\n",
    "\n",
    "$$ \\Phi_1(x, y, z) = x, \\quad \\Phi_2(x, y, z) = y^2 + z^2 - \\ell^2,\n",
    "$$\n",
    "\n",
    "* No caso do pêndulo planar com extremo forçado, temos os vínculos holônomos\n",
    "\n",
    "$$ \\Phi_1(x, y, z) = x - f(t), \\quad \\Phi_2(x, y, z) = y, \\quad \\Phi_3(x, y, z) = z\n",
    "$$\n",
    "\n",
    "* Mesmo no caso do pêndulo girante, a condição $\\dot\\theta = \\omega$ pode ser integrada, nos levando aos vínculos holônomos\n",
    "\n",
    "$$ \\Phi_1(x, y, z) = x^2 + y^2 + z^2 - \\ell^2, \\qquad \\Phi_2(x, y, z, t) = \\theta(x, y) - \\omega t.\n",
    "$$"
   ]
  },
  {
   "cell_type": "markdown",
   "metadata": {},
   "source": [
    "## Coordenadas generalizadas\n",
    "\n",
    "* Em muitos casos, os vínculos holônomos $\\Phi_k(\\mathbf{r}, t) = 0$ podem ser satisfeitos de maneira explícita, $\\mathbf{r} = \\mathbf{r}(\\mathbf{q}, t)$, através de **coordenadas generalizadas** $\\mathbf{q}$.\n",
    "\n",
    "* Por exemplo, no *corpo em queda livre*, temos a coordenada generalizada $h$, com\n",
    "\n",
    "$$ \\mathbf{r} = (0, 0, h).\n",
    "$$\n",
    "\n",
    "* Na *mola vertical*, temos a coordenada generalizada $u$, com\n",
    "\n",
    "$$ \\mathbf{r} = (0, 0, -u).\n",
    "$$\n",
    "\n",
    "* No *pêndulo planar simples*, temos a coordenada generalizada $\\theta$, com\n",
    "\n",
    "$$ \\mathbf{r} = (0, \\ell\\sin\\theta, - \\ell\\cos\\theta).\n",
    "$$\n",
    "\n",
    "* No *pêndulo forçado*, temos a coordenada generalizada $\\theta$, com\n",
    "\n",
    "$$ \\mathbf{r} = (f(t), g(t) + \\ell\\sin\\theta, - \\ell\\cos\\theta).\n",
    "$$\n",
    "\n",
    "* No *pêndulo girante*, temos a coordenada generalizada $\\varphi$, com\n",
    "\n",
    "$$ \\mathbf{r} = (\\ell\\sin\\varphi\\cos(\\omega t),\\ell\\sin\\varphi\\sin(\\omega t),-\\ell\\cos\\varphi).\n",
    "$$"
   ]
  },
  {
   "cell_type": "markdown",
   "metadata": {},
   "source": [
    "## Equações de Euler-Lagrange em coordenadas generalizadas"
   ]
  },
  {
   "cell_type": "markdown",
   "metadata": {},
   "source": [
    "## Vínculos holônomos implícitos"
   ]
  },
  {
   "cell_type": "markdown",
   "metadata": {},
   "source": [
    "\n",
    "## Exercícios\n",
    "\n",
    "1. O **Lema Fundamental do Cálculo das Variações** diz que se uma função contínua $f:[t_0,t_1]\\rightarrow \\mathbb{R}$ é tal que\n",
    "$$ \\int_{t_0}^{t_1} g(t)w(t) \\;\\mathrm{d} t = 0,\n",
    "$$\n",
    "para toda função $w:[t_0,t_1]\\rightarrow \\mathbb{R}$ contínua com $w(t_0)=w(t_1)=0$, então $f(t)=0$ para todo $t\\in [t_0,t_1]$. Mostre esse resultado.\n",
    "\n",
    "1. Verifique que as equações de Euler-Lagrange associadas ao Lagrangiano \n",
    "$$ L(\\mathbf{r}, \\mathbf{\\dot r}) = \\frac{1}{2}\\sum_{j=1}^n m_j \\|\\mathbf{r}_j\\|^2 - V(\\mathbf{r})\n",
    "$$\n",
    "são\n",
    "$$ m_j \\mathbf{\\ddot r}_j = - \\frac{\\partial V}{\\partial \\mathbf{r}_j}(\\mathbf{r}).\n",
    "$$\n",
    "\n",
    "1. Um referencial é dito inercial quando o tempo é homogêneo e o espaço é homogêneo e isotrópico, ou seja as suas propriedades métricas não dependem da posição no espaço (homogeneidade espacial), do instante de tempo (homogeneidade temporal) e da direção no espaço (isotropia). No caso de uma sistema mecânico de uma única partícula livre, isso se traduz na condição do Lagrangiano $L(\\mathbf{r}, \\mathbf{\\dot r}, t)$, $\\mathbf{r}\\in\\mathbb{R}^3$, ser invariante por translações no tempo e no espaço (homogeneidades espacial e temporal) e invariante por rotações no espaço (isotropia). Matematicamente, isso é expresso pelas condições\n",
    "$$\n",
    "    \\begin{align*}\n",
    "      L(\\mathbf{r}+\\mathbf{r}_0,\\mathbf{\\dot r},t) = L(\\mathbf{r},\\mathbf{\\dot r},t),    \\\\\n",
    "      L(\\mathbf{r},\\mathbf{\\dot r},t+s) = L(\\mathbf{r},\\mathbf{\\dot r},t), \\\\\n",
    "      L(Q\\mathbf{r},Q\\mathbf{\\dot r},t) = L(\\mathbf{r},\\mathbf{\\dot r},t),\n",
    "    \\end{align*}\n",
    "$$\n",
    "para quaisquer $\\mathbf{r}_0\\in \\mathbb{R}^3$, $s\\in \\mathbb{R}$, $Q\\in O(3)$, onde $\\mathbf{r}_0$  representa uma translação qualquer no espaço, $s$ uma translação qualquer no tempo, e $Q$ é uma matriz ortogonal qualquer representando uma rotação e/ou uma reflexão arbitrária. \n",
    "   Deduza que um Lagrangiano $L(\\mathbf{r},\\mathbf{\\dot r},t)$ de uma única partícula,\n",
    "    $\\mathbf{r}\\in\\mathbb{R}^3$, em um referencial inercial é necessariamente da forma\n",
    "    $$ L(\\mathbf{r},\\mathbf{\\dot r},t) = f(\\|\\mathbf{\\dot r}\\|^2),\n",
    "    $$\n",
    "    para alguma função real $f$. "
   ]
  },
  {
   "cell_type": "markdown",
   "metadata": {
    "slideshow": {
     "slide_type": "skip"
    }
   },
   "source": [
    "<!--NAVIGATOR-->\n",
    "\n",
    "---\n",
    "[<- 7.1. Mecânica Newtoniana](07.01-Mecanica_Newtoniana.ipynb) | [Página inicial](00.00-Pagina_inicial.ipynb) | [7.3. Mecânica Newtoniana e o pêndulo planar ->](07.03-Pendulo.ipynb)"
   ]
  }
 ],
 "metadata": {
  "kernelspec": {
   "display_name": "Julia 1.6.2",
   "language": "julia",
   "name": "julia-1.6"
  },
  "language_info": {
   "file_extension": ".jl",
   "mimetype": "application/julia",
   "name": "julia",
   "version": "1.6.2"
  }
 },
 "nbformat": 4,
 "nbformat_minor": 4
}
