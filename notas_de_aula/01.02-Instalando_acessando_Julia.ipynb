{
 "cells": [
  {
   "cell_type": "markdown",
   "metadata": {
    "slideshow": {
     "slide_type": "skip"
    }
   },
   "source": [
    "<!--HEADER-->\n",
    "*Notas de aula de Modelagem Matemática - 2021/1 [- Ricardo M. S. Rosa (IM/UFRJ)](http://www.im.ufrj.br/rrosa)*"
   ]
  },
  {
   "cell_type": "markdown",
   "metadata": {
    "slideshow": {
     "slide_type": "skip"
    }
   },
   "source": [
    "<!--BADGES-->\n",
    "<a href=\"https://nbviewer.jupyter.org/github/rmsrosa/modelagem_matematica/blob/modmat2021p1/notas_de_aula/01.02-Instalando_acessando_Julia.ipynb\" target=\"_blank\"><img align=\"left\" src=\"https://img.shields.io/badge/view%20in-nbviewer-orange\" alt=\"View in NBViewer\" title=\"View in NBViewer\"></a><a href=\"https://mybinder.org/v2/gh/rmsrosa/modelagem_matematica/julia-env-for-binder-2021p1?urlpath=git-pull%3Frepo%3Dhttps%253A%252F%252Fgithub.com%252Frmsrosa%252Fmodelagem_matematica%26branch%3Dmodmat2021p1%26urlpath%3Dtree%252Fmodelagem_matematica%252Fnotas_de_aula/01.02-Instalando_acessando_Julia.ipynb\" target=\"_blank\"><img align=\"left\" src=\"https://mybinder.org/badge.svg\" alt=\"Open in binder\" title=\"Open in binder\"></a><a href=\"https://nbviewer.jupyter.org/github/rmsrosa/modelagem_matematica/blob/modmat2021p1/notas_de_aula/slides/01.02-Instalando_acessando_Julia.slides.html\" target=\"_blank\"><img align=\"left\" src=\"https://img.shields.io/badge/view-slides-darkgreen\" alt=\"View Slides\" title=\"View Slides\"></a>&nbsp;"
   ]
  },
  {
   "cell_type": "markdown",
   "metadata": {
    "slideshow": {
     "slide_type": "skip"
    }
   },
   "source": [
    "<!--NAVIGATOR-->\n",
    "[<- 1.1. Aspectos do curso - edição 2021/1](01.01-Aspectos_curso.ipynb) | [Página inicial](00.00-Pagina_inicial.ipynb) | [1.3. Primeiros passos em Julia ->](01.03-Primeiros_passos_Julia.ipynb)\n",
    "\n",
    "---\n"
   ]
  },
  {
   "cell_type": "markdown",
   "metadata": {
    "slideshow": {
     "slide_type": "slide"
    }
   },
   "source": [
    "# Instalando e acessando o Julia\n",
    "\n",
    "* Nessa edição da disciplina, vamos usar a [linguagem de programação Julia](https://julialang.org).\n",
    "* A [versão 1.6](https://julialang.org/blog/2021/03/julia-1.6-highlights/) foi recentemente lançada e está disponível para [download aqui](https://julialang.org/downloads/)"
   ]
  },
  {
   "cell_type": "markdown",
   "metadata": {
    "slideshow": {
     "slide_type": "slide"
    }
   },
   "source": [
    "## Informações e guias\n",
    "\n",
    "* [Wikipedia - Julia (programming language)](https://en.wikipedia.org/wiki/Julia_(programming_language))\n",
    "* [Getting Started with Julia (QuantEcon)](https://julia.quantecon.org/getting_started_julia/index.html)\n",
    "* [Julia Documentation](https://docs.julialang.org/en/v1/)\n",
    "* [A via rápida para Julia 1.0](https://juliadocs.github.io/Julia-Cheat-Sheet/br/)\n",
    "* [MATLAB–Python–Julia cheatsheet (QuantEcon)](https://cheatsheets.quantecon.org)\n",
    "* [Noteworthy Differences from other Languages](https://docs.julialang.org/en/v1/manual/noteworthy-differences/)\n",
    "* [Think Julia: How to Think Like a Computer Scientist](https://benlauwens.github.io/ThinkJulia.jl/latest/book.html)\n",
    "* [Introducing Julia](https://en.wikibooks.org/wiki/Introducing_Julia)\n",
    "* [A Deep Introduction to Julia for Data Science and Scientific Computing](http://ucidatascienceinitiative.github.io/IntroToJulia/)"
   ]
  },
  {
   "cell_type": "markdown",
   "metadata": {
    "slideshow": {
     "slide_type": "slide"
    }
   },
   "source": [
    "## Julia\n",
    "\n",
    "[Julia](https://en.wikipedia.org/wiki/Julia_(programming_language)) é uma linguagem de programação de uso geral, criada para ser fácil e rápida. Ela tem a abstração de linguagens de alto nível (como python e matlab) e a rapidez de linguagens de baixo nível (como c e fortran). Há um slogan que diz que \"Julia parece python, tem um espírito de Lisp e roda como fortran\" (ou, no original, \"looks like Python, feels like Lisp, and runs like Fortran\").\n",
    "\n",
    "Julia foi desenvolvida por [Jeff Bezanson](https://www.wikidata.org/wiki/Q20630572), [Alan Edelman](https://en.wikipedia.org/wiki/Alan_Edelman), [Viral B. Shah](https://en.wikipedia.org/wiki/Viral_B._Shah) e [Stefan Karpinski](https://en.wikipedia.org/wiki/Stefan_Karpinski), no MIT. É uma linguagem relativamente nova, tendo sido iniciada em 2009, mas cuja primeira versão estável, 1.0, sendo lançada apenas em meados de 2018. Em 24 de março de 2021, [a versão 1.6](https://julialang.org/blog/2021/03/julia-1.6-highlights/) foi lançada.\n",
    "\n",
    "Pelas propriedades mencionadas acima, Julia tem crescido de maneira vertiginosa. O seu ecosistema de pacotes ainda é relativamente pequeno, mas limpo e em pleno crescimento, contendo, em particular, tudo que precisaremos nesta matéria."
   ]
  },
  {
   "cell_type": "markdown",
   "metadata": {
    "slideshow": {
     "slide_type": "slide"
    }
   },
   "source": [
    "## Comunidades\n",
    "\n",
    "Julia é uma linguagem recente e com uma comunidade bastante amigável, com um ótimo ambiente cooperativo.\n",
    "\n",
    "Há várias plataformas onde se pode interagir com outras pessoas empolgadas com a linguagem e com os desenvolvedores centrais da linguagem e com alguns dos próprios criadores da linguagem, como Stefan Karpinski.\n",
    "\n",
    "Pode-se aprender muitos nas seguintes plataformas:\n",
    "\n",
    "- [Julia Discourse](https://discourse.julialang.org)\n",
    "- [The Julia Language Slack](https://julialang.org/slack/)\n",
    "- [Julia Zulip](https://julialang.zulipchat.com/register/)\n",
    "- [Humans of Julia - Discord](https://discord.gg/C5h9D4j)\n",
    "- [julia StackOverflow](https://stackoverflow.com/tags/julia)\n",
    "- [Julia Language Twitter](https://twitter.com/JuliaLanguage)\n",
    "- [JuliaCon - Conference videos](https://juliacon.org/)\n",
    "- [Github/Julia](https://github.com/JuliaLang/julia/issues) - todo o código julia está disponível no  github"
   ]
  },
  {
   "cell_type": "markdown",
   "metadata": {
    "slideshow": {
     "slide_type": "slide"
    }
   },
   "source": [
    "## Modos de utilização\n",
    "\n",
    "Você pode programar em julia de diversas maneiras\n",
    "\n",
    "* No [Julia REPL *(read-eval-print loop)*](https://docs.julialang.org/en/v1/stdlib/REPL/), que é um ambiente interativo de linha de comando.\n",
    "* No [Jupyter (notebook ou lab)](https://jupyter.org), como nas notas utilizadas aqui.\n",
    "* No [Pluto](https://github.com/fonsp/Pluto.jl), que é uma versão *reativa* do Jupyter, escrita especialmente para Julia.\n",
    "* No [Google Colab](https://colab.research.google.com/notebooks/intro.ipynb); veja [Julia on Colab](https://github.com/Dsantra92/Julia-on-Colab), que é uma espécie de Jupyter notebook rodando \"na nuvem\", em servidores do Google.\n",
    "* No [Binder](https://mybinder.org), um ambiente na nuvem para rodar notebooks Jupyter.\n",
    "* Em algum editor integrado a um ambiente de computação (tecnicamente um Ambiente de Desenvolvimento Integrado, ou *IDE - Integrated Development Environment*), como, por exemplo\n",
    "  * [VSCode](https://code.visualstudio.com/), com a extensão *Julia Language Support (julialang.language-julia)*\n",
    "  * [Juno](https://junolab.org), feito especialmente para o Julia, mas que recentemente tem recebido menos atenção, com a adoção maior do VSCode.\n",
    "\n",
    "Eu, pessoalmente, uso o *REPL*, *Jupyter lab*, *Binder* e *VSCode*.\n",
    "\n",
    "Vocês podem \"baixar\" os notebooks para os seus computadores e utilizar qualquer ferramenta local como as mencionadas acima.\n",
    "\n",
    "Ou interagirem com os notebooks na nuvem. O acesso a cada caderno no binder pode ser feito diretamente clicando-se no ícone \"launch binder\" no topo de cada página."
   ]
  },
  {
   "cell_type": "markdown",
   "metadata": {
    "slideshow": {
     "slide_type": "slide"
    }
   },
   "source": [
    "## Modo interativo\n",
    "\n",
    "Tanto no REPL, como nos ambientes tipo Jupyter, podemos executar instruções de maneira interativa.\n",
    "\n",
    "E temos acesso a quatro ambientes:\n",
    "* O de **comandos julia**, propriamente;\n",
    "* Um para a **manutenção de pacotes**;\n",
    "* Um para **ajuda**; e\n",
    "* Um para acesso ao **shell**.\n",
    "\n",
    "Vamos falar brevemente de cada um deles."
   ]
  },
  {
   "cell_type": "markdown",
   "metadata": {
    "slideshow": {
     "slide_type": "slide"
    }
   },
   "source": [
    "### Julia em modo interativo\n",
    "\n",
    "O ambiente julia é o principal ao que temos acesso. No REPL, ele aparece de início como\n",
    "```julia\n",
    "(base) % julia\n",
    "               _\n",
    "   _       _ _(_)_     |  Documentation: https://docs.julialang.org\n",
    "  (_)     | (_) (_)    |\n",
    "   _ _   _| |_  __ _   |  Type \"?\" for help, \"]?\" for Pkg help.\n",
    "  | | | | | | |/ _` |  |\n",
    "  | | |_| | | | (_| |  |  Version 1.6.0 (2021-03-24)\n",
    " _/ |\\__'_|_|_|\\__'_|  |  Official https://julialang.org/ release\n",
    "|__/                   |\n",
    "\n",
    "julia> \n",
    "```\n",
    "\n",
    "Observe as instruções para digitar `\"?\"` para ajuda e `\"]?\"` para ajuda com os pacotes. Ao entrar nesses ambiente, pode-se voltar ao ambiente julia digitando `<backspace>` ou `<delete>`, dependendo do seu sistema/computador.\n",
    "\n",
    "Podemos usá-lo, por exemplo, como uma calculadora:\n",
    "```julia\n",
    "julia> sin(π/2)\n",
    "1.0\n",
    "```"
   ]
  },
  {
   "cell_type": "markdown",
   "metadata": {
    "slideshow": {
     "slide_type": "slide"
    }
   },
   "source": [
    "### Julia no notebook\n",
    "\n",
    "No notebook, acessamos o julia em uma célula de código:"
   ]
  },
  {
   "cell_type": "code",
   "execution_count": 1,
   "metadata": {
    "slideshow": {
     "slide_type": "fragment"
    }
   },
   "outputs": [
    {
     "data": {
      "text/plain": [
       "1.0"
      ]
     },
     "execution_count": 1,
     "metadata": {},
     "output_type": "execute_result"
    }
   ],
   "source": [
    "sin(pi/2)"
   ]
  },
  {
   "cell_type": "markdown",
   "metadata": {
    "slideshow": {
     "slide_type": "fragment"
    }
   },
   "source": [
    "Vamos falar mais desse ambiente em seguida. No momento, vamos aos outros."
   ]
  },
  {
   "cell_type": "markdown",
   "metadata": {
    "slideshow": {
     "slide_type": "slide"
    }
   },
   "source": [
    "### Ajuda\n",
    "\n",
    "Digitando `?`, obtemos o *prompt* `help?>` de ajuda. Para ajuda sobre o próprio modo `help?>` basta digitar `help` seguido de `<enter>` ou `<return>`:\n",
    "\n",
    "```julia\n",
    "help?> help\n",
    "search: help schedule Channel hasfield @threadcall AbstractChannel\n",
    "\n",
    "  Welcome to Julia 1.6.0. The full manual is available at\n",
    "\n",
    "  https://docs.julialang.org\n",
    "\n",
    "  as well as many great tutorials and learning resources:\n",
    "\n",
    "  https://julialang.org/learning/\n",
    "\n",
    "  For help on a specific function or macro, type ? followed by its name, e.g.\n",
    "  ?cos, or ?@time, and press enter. Type ; to enter shell mode, ] to enter\n",
    "  package mode.\n",
    "\n",
    "```"
   ]
  },
  {
   "cell_type": "markdown",
   "metadata": {
    "slideshow": {
     "slide_type": "slide"
    }
   },
   "source": [
    "### Ajuda sobre uma função\n",
    "\n",
    "Podemos, nesse ambiente, pedir ajuda sobre qualquer função disponível no ambiente:\n",
    "\n",
    "```julia\n",
    "help?> sin\n",
    "search: sin sinh sind sinc sinpi sincos sincosd sincospi asin using isinf asinh\n",
    "\n",
    "  sin(x)\n",
    "\n",
    "  Compute sine of x, where x is in radians.\n",
    "\n",
    "  ────────────────────────────────────────────────────────────────────────────\n",
    "\n",
    "  sin(A::AbstractMatrix)\n",
    "\n",
    "  Compute the matrix sine of a square matrix A.\n",
    "\n",
    "  If A is symmetric or Hermitian, its eigendecomposition (eigen) is used to\n",
    "  compute the sine. Otherwise, the sine is determined by calling exp.\n",
    "\n",
    "  Examples\n",
    "  ≡≡≡≡≡≡≡≡≡≡\n",
    "\n",
    "  julia> sin(fill(1.0, (2,2)))\n",
    "  2×2 Matrix{Float64}:\n",
    "   0.454649  0.454649\n",
    "   0.454649  0.454649\n",
    "```"
   ]
  },
  {
   "cell_type": "markdown",
   "metadata": {
    "slideshow": {
     "slide_type": "slide"
    }
   },
   "source": [
    "### Ajuda no notebook\n",
    "\n",
    "Da mesma forma, podemos digitar `?` seguido do nome de uma função"
   ]
  },
  {
   "cell_type": "code",
   "execution_count": 2,
   "metadata": {
    "slideshow": {
     "slide_type": "fragment"
    }
   },
   "outputs": [
    {
     "data": {
      "text/latex": [
       "\\begin{verbatim}\n",
       "@time\n",
       "\\end{verbatim}\n",
       "A macro to execute an expression, printing the time it took to execute, the number of allocations, and the total number of bytes its execution caused to be allocated, before returning the value of the expression. Any time spent garbage collecting (gc) or compiling is shown as a percentage.\n",
       "\n",
       "In some cases the system will look inside the \\texttt{@time} expression and compile some of the called code before execution of the top-level expression begins. When that happens, some compilation time will not be counted. To include this time you can run \\texttt{@time @eval ...}.\n",
       "\n",
       "See also \\href{@ref}{\\texttt{@timev}}, \\href{@ref}{\\texttt{@timed}}, \\href{@ref}{\\texttt{@elapsed}}, and \\href{@ref}{\\texttt{@allocated}}.\n",
       "\n",
       "\\begin{quote}\n",
       "\\textbf{note}\n",
       "\n",
       "Note\n",
       "\n",
       "For more serious benchmarking, consider the \\texttt{@btime} macro from the BenchmarkTools.jl package which among other things evaluates the function multiple times in order to reduce noise.\n",
       "\n",
       "\\end{quote}\n",
       "\\begin{verbatim}\n",
       "julia> x = rand(10,10);\n",
       "\n",
       "julia> @time x * x;\n",
       "  0.606588 seconds (2.19 M allocations: 116.555 MiB, 3.75% gc time, 99.94% compilation time)\n",
       "\n",
       "julia> @time x * x;\n",
       "  0.000009 seconds (1 allocation: 896 bytes)\n",
       "\n",
       "julia> @time begin\n",
       "           sleep(0.3)\n",
       "           1+1\n",
       "       end\n",
       "  0.301395 seconds (8 allocations: 336 bytes)\n",
       "2\n",
       "\\end{verbatim}\n"
      ],
      "text/markdown": [
       "```\n",
       "@time\n",
       "```\n",
       "\n",
       "A macro to execute an expression, printing the time it took to execute, the number of allocations, and the total number of bytes its execution caused to be allocated, before returning the value of the expression. Any time spent garbage collecting (gc) or compiling is shown as a percentage.\n",
       "\n",
       "In some cases the system will look inside the `@time` expression and compile some of the called code before execution of the top-level expression begins. When that happens, some compilation time will not be counted. To include this time you can run `@time @eval ...`.\n",
       "\n",
       "See also [`@timev`](@ref), [`@timed`](@ref), [`@elapsed`](@ref), and [`@allocated`](@ref).\n",
       "\n",
       "!!! note\n",
       "    For more serious benchmarking, consider the `@btime` macro from the BenchmarkTools.jl package which among other things evaluates the function multiple times in order to reduce noise.\n",
       "\n",
       "\n",
       "```julia-repl\n",
       "julia> x = rand(10,10);\n",
       "\n",
       "julia> @time x * x;\n",
       "  0.606588 seconds (2.19 M allocations: 116.555 MiB, 3.75% gc time, 99.94% compilation time)\n",
       "\n",
       "julia> @time x * x;\n",
       "  0.000009 seconds (1 allocation: 896 bytes)\n",
       "\n",
       "julia> @time begin\n",
       "           sleep(0.3)\n",
       "           1+1\n",
       "       end\n",
       "  0.301395 seconds (8 allocations: 336 bytes)\n",
       "2\n",
       "```\n"
      ],
      "text/plain": [
       "\u001b[36m  @time\u001b[39m\n",
       "\n",
       "  A macro to execute an expression, printing the time it took to execute, the\n",
       "  number of allocations, and the total number of bytes its execution caused to\n",
       "  be allocated, before returning the value of the expression. Any time spent\n",
       "  garbage collecting (gc) or compiling is shown as a percentage.\n",
       "\n",
       "  In some cases the system will look inside the \u001b[36m@time\u001b[39m expression and compile\n",
       "  some of the called code before execution of the top-level expression begins.\n",
       "  When that happens, some compilation time will not be counted. To include\n",
       "  this time you can run \u001b[36m@time @eval ...\u001b[39m.\n",
       "\n",
       "  See also \u001b[36m@timev\u001b[39m, \u001b[36m@timed\u001b[39m, \u001b[36m@elapsed\u001b[39m, and \u001b[36m@allocated\u001b[39m.\n",
       "\n",
       "\u001b[36m\u001b[1m  │ \u001b[22m\u001b[39m\u001b[36m\u001b[1mNote\u001b[22m\u001b[39m\n",
       "\u001b[36m\u001b[1m  │\u001b[22m\u001b[39m\n",
       "\u001b[36m\u001b[1m  │\u001b[22m\u001b[39m  For more serious benchmarking, consider the \u001b[36m@btime\u001b[39m macro from the\n",
       "\u001b[36m\u001b[1m  │\u001b[22m\u001b[39m  BenchmarkTools.jl package which among other things evaluates the\n",
       "\u001b[36m\u001b[1m  │\u001b[22m\u001b[39m  function multiple times in order to reduce noise.\n",
       "\n",
       "\u001b[36m  julia> x = rand(10,10);\u001b[39m\n",
       "\u001b[36m  \u001b[39m\n",
       "\u001b[36m  julia> @time x * x;\u001b[39m\n",
       "\u001b[36m    0.606588 seconds (2.19 M allocations: 116.555 MiB, 3.75% gc time, 99.94% compilation time)\u001b[39m\n",
       "\u001b[36m  \u001b[39m\n",
       "\u001b[36m  julia> @time x * x;\u001b[39m\n",
       "\u001b[36m    0.000009 seconds (1 allocation: 896 bytes)\u001b[39m\n",
       "\u001b[36m  \u001b[39m\n",
       "\u001b[36m  julia> @time begin\u001b[39m\n",
       "\u001b[36m             sleep(0.3)\u001b[39m\n",
       "\u001b[36m             1+1\u001b[39m\n",
       "\u001b[36m         end\u001b[39m\n",
       "\u001b[36m    0.301395 seconds (8 allocations: 336 bytes)\u001b[39m\n",
       "\u001b[36m  2\u001b[39m"
      ]
     },
     "execution_count": 2,
     "metadata": {},
     "output_type": "execute_result"
    }
   ],
   "source": [
    "?@time"
   ]
  },
  {
   "cell_type": "markdown",
   "metadata": {
    "slideshow": {
     "slide_type": "slide"
    }
   },
   "source": [
    "### Shell\n",
    "\n",
    "Podemos acessar diretamente o ambiente *shell* digitando `;`. No REPL, por exemplo, podemos obter a lista de arquivos/diretórios no diretório atual digitando `;ls`. Ao digitarmos `;`, o *prompt* automaticamente muda para `shell>`:\n",
    "```zsh\n",
    "shell> ls\n",
    "00.00-Pagina_inicial.ipynb                      05.00-BuckinghamPi_analise_dimensional.ipynb\n",
    "01.00-Aspectos_curso.ipynb                      06.00-Ajuste_dados.ipynb\n",
    "02.00-Principios_modelagem_matematica.ipynb     img\n",
    "03.00-Exemplos_tipos_modelagem.ipynb            slides\n",
    "04.00-Primeiros_passos_Julia.ipynb              src\n",
    "```\n"
   ]
  },
  {
   "cell_type": "markdown",
   "metadata": {
    "slideshow": {
     "slide_type": "slide"
    }
   },
   "source": [
    "### Acessando o shell pelo notebook\n",
    "\n",
    "O mesmo acontece a partir de uma célula de código do notebook"
   ]
  },
  {
   "cell_type": "code",
   "execution_count": 3,
   "metadata": {
    "slideshow": {
     "slide_type": "fragment"
    }
   },
   "outputs": [
    {
     "name": "stdout",
     "output_type": "stream",
     "text": [
      "00.00-Pagina_inicial.ipynb\n",
      "01.00-Preliminares.ipynb\n",
      "01.01-Aspectos_curso.ipynb\n",
      "01.02-Instalando_acessando_Julia.ipynb\n",
      "01.03-Primeiros_passos_Julia.ipynb\n",
      "02.00-Principios_modelagem_matematica.ipynb\n",
      "02.01-Principios_basicos.ipynb\n",
      "02.02-Exemplos_tipos_modelagem.ipynb\n",
      "03.00-Analise_dimensional.ipynb\n",
      "03.01-BuckinghamPi_analise_dimensional.ipynb\n",
      "03.02-Unidades_Julia.ipynb\n",
      "04.00-Ajuste_parametros.ipynb\n",
      "04.01-Minimos_quadrados_ajuste.ipynb\n",
      "04.02-Modelos_redutiveis_linear_aplicacoes.ipynb\n",
      "04.03-Minimos_quadrados_nao_linear.ipynb\n",
      "04.04-Exemplos_ajuste_naolinear.ipynb\n",
      "05.00-Erros_incertezas_quantificacao.ipynb\n",
      "05.01-Erros_e_incertezas.ipynb\n",
      "05.02-Minimos_quadrados_verossimilhanca.ipynb\n",
      "05.03-Propagacao_incertezas.ipynb\n",
      "06.00-Avaliacao_modelos.ipynb\n",
      "06.01-Qualidade_do_modelo.ipynb\n",
      "06.02-Validacao_do_modelo.ipynb\n",
      "06.03-Comparacao_de_modelos.ipynb\n",
      "07.00-Aplicacoes_iniciais.ipynb\n",
      "07.01-Modelo_diodo.ipynb\n",
      "07.02-Isomerizacao.ipynb\n",
      "08.00-Modelos_epidemiologicos.ipynb\n",
      "08.01-Modelos_epidemiologicos_compartimentais.ipynb\n",
      "08.02-Ajuste_SIR.ipynb\n",
      "08.03-Compartimentais_estruturados.ipynb\n",
      "09.00-Fourier.ipynb\n",
      "09.01-Series_Fourier.ipynb\n",
      "09.02-Transformada_discreta_Fourier.ipynb\n",
      "09.03-Ondas_sonoras_elementos_musicais.ipynb\n",
      "10.00-EDP.ipynb\n",
      "10.01-EDP_e_diferencas_finitas.ipynb\n",
      "10.02-EDP_advecao.ipynb\n",
      "10.03-EDP_calor.ipynb\n",
      "10.04-EDP_onda.ipynb\n",
      "10.05-EDP_calor_bidimensional.ipynb\n",
      "10.06-EDP_onda_bidimensional.ipynb\n",
      "10.07-Ondas_sismicas.ipynb\n",
      "Audio_playground.ipynb\n",
      "Covid.ipynb\n",
      "Ondas_sonoras_elementos_musicais.ipynb\n",
      "ReacaoEnzimatica.ipynb\n",
      "data\n",
      "img\n",
      "slides\n",
      "src\n"
     ]
    }
   ],
   "source": [
    ";ls"
   ]
  },
  {
   "cell_type": "markdown",
   "metadata": {
    "slideshow": {
     "slide_type": "subslide"
    }
   },
   "source": [
    "Também podemos ler o diretório com o comando julia `readdir()`."
   ]
  },
  {
   "cell_type": "code",
   "execution_count": 4,
   "metadata": {
    "slideshow": {
     "slide_type": "fragment"
    }
   },
   "outputs": [
    {
     "data": {
      "text/plain": [
       "52-element Vector{String}:\n",
       " \".ipynb_checkpoints\"\n",
       " \"00.00-Pagina_inicial.ipynb\"\n",
       " \"01.00-Preliminares.ipynb\"\n",
       " \"01.01-Aspectos_curso.ipynb\"\n",
       " \"01.02-Instalando_acessando_Julia.ipynb\"\n",
       " \"01.03-Primeiros_passos_Julia.ipynb\"\n",
       " \"02.00-Principios_modelagem_matematica.ipynb\"\n",
       " \"02.01-Principios_basicos.ipynb\"\n",
       " \"02.02-Exemplos_tipos_modelagem.ipynb\"\n",
       " \"03.00-Analise_dimensional.ipynb\"\n",
       " \"03.01-BuckinghamPi_analise_dimensional.ipynb\"\n",
       " \"03.02-Unidades_Julia.ipynb\"\n",
       " \"04.00-Ajuste_parametros.ipynb\"\n",
       " ⋮\n",
       " \"10.04-EDP_onda.ipynb\"\n",
       " \"10.05-EDP_calor_bidimensional.ipynb\"\n",
       " \"10.06-EDP_onda_bidimensional.ipynb\"\n",
       " \"10.07-Ondas_sismicas.ipynb\"\n",
       " \"Audio_playground.ipynb\"\n",
       " \"Covid.ipynb\"\n",
       " \"Ondas_sonoras_elementos_musicais.ipynb\"\n",
       " \"ReacaoEnzimatica.ipynb\"\n",
       " \"data\"\n",
       " \"img\"\n",
       " \"slides\"\n",
       " \"src\""
      ]
     },
     "execution_count": 4,
     "metadata": {},
     "output_type": "execute_result"
    }
   ],
   "source": [
    "readdir()"
   ]
  },
  {
   "cell_type": "markdown",
   "metadata": {
    "slideshow": {
     "slide_type": "slide"
    }
   },
   "source": [
    "## O ambiente de pacotes\n",
    "\n",
    "Assim como no python e em várias outras linguagens, pacotes adicionais estão disponíveis com diversas ferramentas. Temos pacotes para álgebra linear, vários tipos de equações diferenciais, integração e diferenciação, otimização, redes neurais, gráficos, *benchmarking*, etc.\n",
    "\n",
    "No ambiente de pacotes, podemos **adicionar** e **remover** pacotes, ver a **situação** do ambiente de projetos, i.e. quais e que versões de pacotes estão instalados, e **atualizar** o ambiente.\n",
    "\n",
    "Assim como no python, é possível, e saudável, ter vários ambientes separados, para cada tipo de projeto. Por isso se chama [ambiente de projeto](https://pkgdocs.julialang.org/v1/environments/). Os pacotes do ambiente estão definidos em arquivos denominados `Project.toml`, mantidos nos diretórios de cada pacote.\n",
    "\n",
    "Uma distinção:\n",
    "* Ao entrarmos no REPL, o ambiente carregado será, em princípio, um ambiente global.\n",
    "* Ao entrarmos no jupyter, o ambiente carregado será o descrito pelo arquivo `Project.toml`, caso o jupyter seja chamado de um diretório contendo tal arquivo, ou o ambiente global, caso contrário."
   ]
  },
  {
   "cell_type": "markdown",
   "metadata": {
    "slideshow": {
     "slide_type": "slide"
    }
   },
   "source": [
    "### O ambiente de pacotes da matéria\n",
    "\n",
    "Este repositório das notas contém um ambiente de projeto com todos os pacotes necessários. Na verdade alguns pacotes serão incluídos ao longo do andamento da matéria.\n",
    "\n",
    "Para visualizar os pacotes já instalados, basta digitarmos `]st`, onde `]` indica o acesso ao modo de gerenciamento de pacotes e `st` é o comando para verificar o status do ambiente."
   ]
  },
  {
   "cell_type": "markdown",
   "metadata": {
    "slideshow": {
     "slide_type": "fragment"
    }
   },
   "source": [
    "```julia\n",
    "]st\n",
    "      Status `~/Documents/git_repositories/modelagem_matematica/Project.toml`\n",
    "  [6e4b80f9] BenchmarkTools v1.1.0\n",
    "  [336ed68f] CSV v0.8.5\n",
    "  [717857b8] DSP v0.6.10\n",
    "  [0c46a032] DifferentialEquations v6.17.2\n",
    "  [31c24e10] Distributions v0.25.10\n",
    "  [7a1cc6ca] FFTW v1.4.3\n",
    "  [7073ff75] IJulia v1.23.2\n",
    "  [82e4d734] ImageIO v0.5.6\n",
    "  [6218d12a] ImageMagick v1.2.1\n",
    "  [916415d5] Images v0.24.1\n",
    "  [b964fa9f] LaTeXStrings v1.2.1\n",
    "  [2fda8390] LsqFit v0.12.1\n",
    "  [ae8d54c2] Luxor v2.13.0\n",
    "  [429524aa] Optim v1.3.0\n",
    "  [91a5bcdd] Plots v1.18.2\n",
    "  [e6cf234a] RandomNumbers v1.4.0\n",
    "  [bd7594eb] SampledSignals v2.1.2\n",
    "  [1986cc42] Unitful v1.8.0\n",
    "  [a5a2160c] UnitfulBuckinghamPi v0.1.0\n",
    "  [42071c24] UnitfulRecipes v1.4.0\n",
    "  [8149f6b0] WAV v1.1.1\n",
    "```"
   ]
  },
  {
   "cell_type": "markdown",
   "metadata": {
    "slideshow": {
     "slide_type": "slide"
    }
   },
   "source": [
    "### Ativando um ambiente de pacotes\n",
    "\n",
    "Caso você acesse o REPL e queira utilizar o ambiente de projeto da matéria (ou algum outro), primeiro navegue (ou antes de chamar o REPL ou depois, usando `;cd <path/to/folder>`) até o diretório que contenha o arquivo `Project.toml`. Em seguida, ative o modo de gerenciamento de pacotes e execute o comando `pkg> activate .`.\n",
    "\n",
    "Ou digite diretamente `pkg> activate <path/to/folder>` a partir de qualquer diretório."
   ]
  },
  {
   "cell_type": "markdown",
   "metadata": {
    "slideshow": {
     "slide_type": "slide"
    }
   },
   "source": [
    "### O IJulia\n",
    "\n",
    "Um pacote importante para acessar o Julia a partir do Jupyter é o [IJulia](https://github.com/JuliaLang/IJulia.jl).\n",
    "\n",
    "Ao instalar o IJulia pela primeira vez, automaticamente um novo *kernel* do Julia no Jupyter será criado. Pode-se instalar o IJulia com \n",
    "```\n",
    "pkg> activate .\n",
    "pkg> add IJulia\n",
    "```\n",
    "\n",
    "O kernel apropriado pode ser escolhido no menu tipo \"drop-down\" no canto superior direito de cada notebook. Ou na janela de seleção de kernel no momento de criação de um novo notebook."
   ]
  },
  {
   "cell_type": "markdown",
   "metadata": {
    "slideshow": {
     "slide_type": "slide"
    }
   },
   "source": [
    "### *Instatiate* \n",
    "\n",
    "Caso você copia uma estrutura de arquivos de outro lugar e caso essa estrutura já possua um arquivo `Project.toml` com os pacotes necessários, isso não significa que os pacotes venham instalados automaticamente.\n",
    "\n",
    "Caso eles não estejam instalados, eles vão aparecer com uma marcação especial, na lista de pacotes que aparece ao se executar `]st`.\n",
    "\n",
    "Nesse caso, é preciso *instantiate* o projeto, para que os pacotes indicados sejam instalados, sem a necessidade de adicioná-los um por um. Isso é feito com o comando \n",
    "```julia\n",
    "pkg> instantiate\n",
    "```"
   ]
  },
  {
   "cell_type": "markdown",
   "metadata": {
    "slideshow": {
     "slide_type": "slide"
    }
   },
   "source": [
    "### Usando os pacotes\n",
    "\n",
    "Ao começarmos o Julia, seja no REPL, seja no jupyter, temos disponível uma ampla gama de funções do `Julia.Base` (veja em \"Base\" no menu à esquerda em [Julia Documentation](https://docs.julialang.org/en/v1/).\n",
    "\n",
    "Mas, como dito acima, há uma série de outros pacotes com funcionalidades extras. Algumas na biblioteca padrão (veja em \"Standard Library\", no mesmo link acima). Estas, no entanto, não estão disponíveis de imediato. Mas também não precisão ser adicionas no projeto. Elas já estão instaladas. Só não estão disponíveis.\n",
    "\n",
    "Para utilizar um pacote que esteja instalado mas que não esteja disponível de imediado, é preciso \"importá-lo*, assim como é feito no python. No Julia, no entanto, há formas diferentes de se fazer isso. Pra começar, temos dois comandos: `import` e `using`. E há várias formas de utilizá-los.\n",
    "\n",
    "Mas essa discussão não cabe aqui nesse primeiro momento. Para quem quiser saber mais, sugiro ler a página [Modules](https://docs.julialang.org/en/v1/manual/modules) (veja, ainda, a tabela, ainda válida, na versão anterior da documentação [Modules v.1.5](https://docs.julialang.org/en/v1.5/manual/modules/#Summary-of-module-usage)).\n",
    "\n",
    "Na prática, usaremos `using`, para simplificar, como veremos na célula a seguir e nos próximos notebooks."
   ]
  },
  {
   "cell_type": "markdown",
   "metadata": {
    "slideshow": {
     "slide_type": "slide"
    }
   },
   "source": [
    "### Gerenciando os pacotes a partir do Pkg()\n",
    "\n",
    "Também é possível gerenciar os pacotes através do pacote `Pkg`, diretamente do *prompt* do julia.\n",
    "\n",
    "Para isso, é preciso disponibilizar o pacote via `import` ou `using`. No caso, podemos fazer"
   ]
  },
  {
   "cell_type": "code",
   "execution_count": 5,
   "metadata": {
    "slideshow": {
     "slide_type": "fragment"
    }
   },
   "outputs": [
    {
     "name": "stdout",
     "output_type": "stream",
     "text": [
      "\u001b[32m\u001b[1m      Status\u001b[22m\u001b[39m `~/Documents/git_repositories/modelagem_matematica/Project.toml`\n",
      " \u001b[90m [6e4b80f9] \u001b[39m\u001b[37mBenchmarkTools v1.1.0\u001b[39m\n",
      " \u001b[90m [336ed68f] \u001b[39m\u001b[37mCSV v0.8.5\u001b[39m\n",
      " \u001b[90m [717857b8] \u001b[39m\u001b[37mDSP v0.6.10\u001b[39m\n",
      " \u001b[90m [0c46a032] \u001b[39m\u001b[37mDifferentialEquations v6.17.2\u001b[39m\n",
      " \u001b[90m [31c24e10] \u001b[39m\u001b[37mDistributions v0.25.10\u001b[39m\n",
      " \u001b[90m [7a1cc6ca] \u001b[39m\u001b[37mFFTW v1.4.3\u001b[39m\n",
      " \u001b[90m [7073ff75] \u001b[39m\u001b[37mIJulia v1.23.2\u001b[39m\n",
      " \u001b[90m [82e4d734] \u001b[39m\u001b[37mImageIO v0.5.6\u001b[39m\n",
      " \u001b[90m [6218d12a] \u001b[39m\u001b[37mImageMagick v1.2.1\u001b[39m\n",
      " \u001b[90m [916415d5] \u001b[39m\u001b[37mImages v0.24.1\u001b[39m\n",
      " \u001b[90m [b964fa9f] \u001b[39m\u001b[37mLaTeXStrings v1.2.1\u001b[39m\n",
      " \u001b[90m [2fda8390] \u001b[39m\u001b[37mLsqFit v0.12.1\u001b[39m\n",
      " \u001b[90m [ae8d54c2] \u001b[39m\u001b[37mLuxor v2.13.0\u001b[39m\n",
      " \u001b[90m [429524aa] \u001b[39m\u001b[37mOptim v1.3.0\u001b[39m\n",
      " \u001b[90m [91a5bcdd] \u001b[39m\u001b[37mPlots v1.18.2\u001b[39m\n",
      " \u001b[90m [e6cf234a] \u001b[39m\u001b[37mRandomNumbers v1.4.0\u001b[39m\n",
      " \u001b[90m [bd7594eb] \u001b[39m\u001b[37mSampledSignals v2.1.2\u001b[39m\n",
      " \u001b[90m [1986cc42] \u001b[39m\u001b[37mUnitful v1.8.0\u001b[39m\n",
      " \u001b[90m [a5a2160c] \u001b[39m\u001b[37mUnitfulBuckinghamPi v0.1.0\u001b[39m\n",
      " \u001b[90m [42071c24] \u001b[39m\u001b[37mUnitfulRecipes v1.4.0\u001b[39m\n",
      " \u001b[90m [8149f6b0] \u001b[39m\u001b[37mWAV v1.1.1\u001b[39m\n"
     ]
    }
   ],
   "source": [
    "using Pkg\n",
    "Pkg.DEFAULT_IO[] = stdout\n",
    "Pkg.status()"
   ]
  },
  {
   "cell_type": "markdown",
   "metadata": {
    "slideshow": {
     "slide_type": "slide"
    }
   },
   "source": [
    "### Versão do Julia\n",
    "\n",
    "Para visualizar mais detalhes sobre a máquina e a versão do julia em uso, pode-se usar o comando `versioninfo()`"
   ]
  },
  {
   "cell_type": "code",
   "execution_count": 6,
   "metadata": {
    "slideshow": {
     "slide_type": "fragment"
    }
   },
   "outputs": [
    {
     "name": "stdout",
     "output_type": "stream",
     "text": [
      "Julia Version 1.6.1\n",
      "Commit 6aaedecc44 (2021-04-23 05:59 UTC)\n",
      "Platform Info:\n",
      "  OS: macOS (x86_64-apple-darwin18.7.0)\n",
      "  CPU: Intel(R) Core(TM) m5-6Y54 CPU @ 1.10GHz\n",
      "  WORD_SIZE: 64\n",
      "  LIBM: libopenlibm\n",
      "  LLVM: libLLVM-11.0.1 (ORCJIT, skylake)\n",
      "Environment:\n",
      "  JULIA_NUM_THREADS = 2\n"
     ]
    }
   ],
   "source": [
    "versioninfo()"
   ]
  },
  {
   "cell_type": "markdown",
   "metadata": {
    "slideshow": {
     "slide_type": "slide"
    }
   },
   "source": [
    "## Utilizando o Julia\n",
    "\n",
    "No próximo caderno, vamos investigar o uso da linguagem Julia propriamente."
   ]
  },
  {
   "cell_type": "markdown",
   "metadata": {
    "slideshow": {
     "slide_type": "skip"
    }
   },
   "source": [
    "<!--NAVIGATOR-->\n",
    "\n",
    "---\n",
    "[<- 1.1. Aspectos do curso - edição 2021/1](01.01-Aspectos_curso.ipynb) | [Página inicial](00.00-Pagina_inicial.ipynb) | [1.3. Primeiros passos em Julia ->](01.03-Primeiros_passos_Julia.ipynb)"
   ]
  }
 ],
 "metadata": {
  "kernelspec": {
   "display_name": "Julia 1.6.1",
   "language": "julia",
   "name": "julia-1.6"
  },
  "language_info": {
   "file_extension": ".jl",
   "mimetype": "application/julia",
   "name": "julia",
   "version": "1.6.1"
  }
 },
 "nbformat": 4,
 "nbformat_minor": 4
}
