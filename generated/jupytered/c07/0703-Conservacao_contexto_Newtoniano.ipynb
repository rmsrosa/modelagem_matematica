{
 "cells": [
  {
   "cell_type": "markdown",
   "metadata": {},
   "source": [
    "# Leis de conservação em um contexto Newtoniano"
   ]
  },
  {
   "cell_type": "markdown",
   "metadata": {},
   "source": [
    "## Sistema e leis de evolução\n",
    "\n",
    "* Nesta parte, vamos considerar um sistema de $n$ partículas, com coordenadas\n",
    "\n",
    "$$ \\mathbf{r}=(\\mathbf{r}_1,\\ldots, \\mathbf{r}_n)\n",
    "$$\n",
    "\n",
    "em um referencial inercial, onde $\\mathbf{r}_i\\in \\mathbb{R}^3$ são as coordenadas espaciais de cada partícula, $i = 1, \\ldots, n$.\n",
    "\n",
    "* Nesse sistema, age um conjunto de forças\n",
    "\n",
    "$$ \\mathbf{F}(t,\\mathbf{r}) = (\\mathbf{F}_1(t,\\mathbf{r}),\\ldots, \\mathbf{F}_n(t,\\mathbf{r})),\n",
    "$$\n",
    "\n",
    "representando a combinação das forças agindo em cada partícula e dependendo da configuração geral do sistema.\n",
    "\n",
    "* Pela segunda lei de Newton, temos\n",
    "\n",
    "$$ m_i \\mathbf{\\ddot r}_i = \\mathbf{F}_i(t,\\mathbf{r}), \\qquad i=1,\\ldots, n.\n",
    "$$"
   ]
  },
  {
   "cell_type": "markdown",
   "metadata": {},
   "source": [
    "### Tipos de forças\n",
    "\n",
    "* Vamos considerar uma separação das forças entre *forças internas,* de interação entre partículas, e *forças externas,* envolvendo cada partícula separadamente:\n",
    "\n",
    "$$ \\mathbf{F}(t,\\mathbf{r}) = \\mathbf{F}^{(i)}(\\mathbf{r}) + \\mathbf{F}^{(e)}(t,\\mathbf{r}).\n",
    "$$\n",
    "\n",
    "* A forças internas são assumidas agindo entre pares de partículas e independentes explicitamente do tempo. Mais precisamente, a força interna $\\mathbf{F}_i^{(i)}(\\mathbf{r})$ agindo na partícula $i$ é assumida como sendo um *somatório* de forças de interação onde cada força no somatório ocorre apenas entre essa i-ésima partícula e uma das outras partículas:\n",
    "\n",
    "$$ \\mathbf{F}_i^{(i)}(\\mathbf{r}) = \\sum_{j\\neq i} \\mathbf{F}_{ij}(\\mathbf{r}_i,\\mathbf{r}_j).\n",
    "$$"
   ]
  },
  {
   "cell_type": "markdown",
   "metadata": {},
   "source": [
    "### A terceira lei de Newton\n",
    "\n",
    "* Consideramos dois casos de sistemas, satisfazendo diferentes versões da terceira lei de Newton, de ação e reação:\n",
    "\n",
    "* **Forma fraca da terceira lei de Newton:** As forças de interação entre duas partículas agem, em cada uma delas, com a mesma intensidade e em sentidos contrários:\n",
    "    $$ \\mathbf{F}_{ij}(\\mathbf{r}_i,\\mathbf{r}_j) = - \\mathbf{F}_{ji}(\\mathbf{r}_j,\\mathbf{r}_i).\n",
    "    $$\n",
    "\n",
    "* **Forma forte da terceira lei de Newton:** As forças de interação entre duas partículas agem, em cada uma delas, com a mesma intensidade, em sentidos contrários e na direção que une essas duas partículas,\n",
    "    $$ \\mathbf{F}_{ij}(\\mathbf{r}_i,\\mathbf{r}_j) =  -\\varphi(\\mathbf{r}_i,\\mathbf{r}_j)\\frac{\\mathbf{r}_i-\\mathbf{r}_j}{\\|\\mathbf{r}_i-\\mathbf{r}_j\\|},\n",
    "        \\qquad \\varphi_{ij}(\\mathbf{r}_i,\\mathbf{r}_j) = \\varphi_{ji}(\\mathbf{r}_j,\\mathbf{r}_i).\n",
    "    $$\n",
    "\n",
    "Não assumimos nada de especial em relação à força externa, mas em geral ela depende apenas da posição da partícula em questão, ou seja $\\mathbf{F}_i^{(e)}=\\mathbf{F}_i^{(e)}(\\mathbf{r}_i,t)$.\n",
    "\n",
    "A terceira lei de Newton é relevante para a conservação dos momentos linear e angular do sistema. Para a conservação de energia, fazemos a hipótese de que as forças são conservativas, i.e. provenientes de um potencial $V(t,\\mathbf{r})$:\n",
    "\n",
    "$$ \\mathbf{F}_i(\\mathbf{r}) = -\\frac{\\partial V}{\\partial\\mathbf{r}_i}(t,\\mathbf{r}), \\qquad i=1,\\ldots, n.\n",
    "$$"
   ]
  },
  {
   "cell_type": "markdown",
   "metadata": {},
   "source": [
    "## Momento linear\n",
    "\n",
    "* O **momento linear total** $\\mathbf{P}\\in \\mathbb{R}^3$ do sistema é definido pela somatório do momento linear $\\mathbf{p}_i = m_i\\mathbf{\\dot r}_i$ de todas as partículas:\n",
    "\n",
    "$$ \\mathbf{P} = \\sum_{i=1}^n m_i \\mathbf{\\dot r}_i.\n",
    "$$\n",
    "\n",
    "* A **massa total** do sistema é\n",
    "\n",
    "$$ m = \\sum_{i=1}^n m_i\n",
    "$$\n",
    "\n",
    "* Por sua vez, o **centro de massa** do sistema é dado por\n",
    "\n",
    "$$ \\mathbf{C}_M = \\frac{1}{m}\\sum_{i=1}^n m_i\\mathbf{r}_i\n",
    "$$\n",
    "\n",
    "* Observe que o momento linear total do sistema é igual ao momento linear de uma partícula de massa $m$ localizada no centro de massa, como se o sistema estivesse todo concentrado no centro de massa:\n",
    "\n",
    "$$ \\mathbf{P} = m\\mathbf{\\dot C}_M.\n",
    "$$"
   ]
  },
  {
   "cell_type": "markdown",
   "metadata": {},
   "source": [
    "### Dinâmica do momento linear\n",
    "\n",
    "* Somando as equações de movimento de todas as partículas obtemos\n",
    "\n",
    "$$ \\mathbf{\\dot P} = \\mathbf{F}_T,\n",
    "$$\n",
    "\n",
    "* Na expressão acima, $\\mathbf{F}_T$ é a força total exercida no sistema, dada por\n",
    "\n",
    "$$ \\mathbf{F}_T(t,\\mathbf{r}) = \\sum_{i=1}^n \\mathbf{F}_i(t,\\mathbf{r})\n",
    "$$\n",
    "\n",
    "* Essa força total pode ser separada em um força total interna e uma força total externa:\n",
    "\n",
    "$$ \\mathbf{F}_T = \\mathbf{F}_T^{(i)} + \\mathbf{F}_T^{(e)},\n",
    "     \\qquad  \\mathbf{F}_T^{(i)}(t,\\mathbf{r}) = \\sum_{i=1}^n \\mathbf{F}_i^{(i)},\n",
    "     \\quad  \\mathbf{F}_T^{(e)}(t,\\mathbf{r}) = \\sum_{i=1}^n \\mathbf{F}_i^{(e)}\n",
    "$$"
   ]
  },
  {
   "cell_type": "markdown",
   "metadata": {},
   "source": [
    "### Conservação de momento linear\n",
    "\n",
    "* O momento linear é conservado no caso em que as duas condições a seguir são satisfeitas:\n",
    "\n",
    "1. As forças internas satisfazem a forma fraca da terceira lei de Newton; e\n",
    "1. O força externa total é nula.\n",
    "\n",
    "* Sob essas condições,\n",
    "\n",
    "$$ \\mathbf{\\dot P} = 0.\n",
    "$$\n",
    "\n",
    "* Com isso, momento angular é constante ao longo do movimento, igual a um vetor fixo $\\mathbf{P}_0\\in \\mathbb{R}^3$:\n",
    "\n",
    "$$ \\mathbf{P}(t) = \\mathbf{P}_0, \\qquad \\forall t.\n",
    "$$"
   ]
  },
  {
   "cell_type": "markdown",
   "metadata": {},
   "source": [
    "## Momento angular\n",
    "\n",
    "* O momento angular se refere a uma rotação em relação a algum ponto dado. É uma ``quantidade de movimento'' em torno desse ponto.\n",
    "\n",
    "* O **momento angular total** do sistema em torno de um certo ponto $\\mathbf{r}_0$ é o somatório do momento angular $m_i(\\mathbf{r}_i-\\mathbf{r}_0)\\times\\mathbf{\\dot r}_i$ de todas as partículas:\n",
    "\n",
    "$$ \\mathbf{L}_{\\mathbf{r}_0} = \\sum_{i=1}^n m_i (\\mathbf{r}_i-\\mathbf{r}_0)\\times \\mathbf{\\dot r}_i\n",
    "       =\\sum_{i=1}^n (\\mathbf{r}_i-\\mathbf{r}_0)\\times \\mathbf{p}_i.\n",
    "$$"
   ]
  },
  {
   "cell_type": "markdown",
   "metadata": {},
   "source": [
    "### Torque \n",
    "\n",
    "* Utilizando as leis de movimento de Newton, podemos mostrar que\n",
    "\n",
    "$$ \\mathbf{\\dot L}_{\\mathbf{r}_0} = \n",
    "         - \\mathbf{\\dot r}_0\\times \\mathbf{P} + \\mathbf{N}_{\\mathbf{r}_0},\n",
    "$$\n",
    "\n",
    "* Na expressão acima, temos o **torque** exercido pelas forças em relação ao ponto $\\mathbf{r}_0$, dado por\n",
    "\n",
    "$$ \\mathbf{N}_{\\mathbf{r}_0} = \\sum_{i=1}^n (\\mathbf{r}_i-\\mathbf{r}_0)\\times \\mathbf{F}_i\n",
    "$$\n",
    "\n",
    "* Esse torque pode ser separado em torque interno e externo, relativo à separação da forças entre internas e externas:\n",
    "\n",
    "$$ \\mathbf{N}_{\\mathbf{r}_0} = \\mathbf{N}_{\\mathbf{r}_0}^{(i)} +  \\mathbf{N}_{\\mathbf{r}_0}^{(e)},\n",
    "    \\qquad \\mathbf{N}^{(i)}_{\\mathbf{r}_0} = \\sum_{i=1}^n (\\mathbf{r}_i-\\mathbf{r}_0)\\times \\mathbf{F}^{(i)}_i,\n",
    "    \\quad \\mathbf{N}^{(e)}_{\\mathbf{r}_0} = \\sum_{i=1}^n (\\mathbf{r}_i-\\mathbf{r}_0)\\times \\mathbf{F}^{(e)}_i.\n",
    "$$"
   ]
  },
  {
   "cell_type": "markdown",
   "metadata": {},
   "source": [
    "### Conservação do momento angular\n",
    "\n",
    "* O momento angular é conservado no caso em que as três condições a seguir são satisfeitas:\n",
    "\n",
    "1. O ponto de referência $\\mathbf{r}_0$ está fixo ou é o centro de massa;\n",
    "1. As forças internas satisfazem a forma forte da terceira lei de Newton; e\n",
    "1. O torque externo total é nulo.\n",
    "\n",
    "* Sob essas condições,\n",
    "\n",
    "$$ \\mathbf{\\dot L}_{\\mathbf{r}_0} = 0.\n",
    "$$\n",
    "\n",
    "* Nesse caso, o momento angular é constante ao longo do movimento. "
   ]
  },
  {
   "cell_type": "markdown",
   "metadata": {},
   "source": [
    "## Energia total\n",
    "\n",
    "* Considere, agora, o caso em que as forças são autônomas e conservativas, i.e. provenientes de um potencial $V=V(\\mathbf{r})$ independente do tempo:\n",
    "\n",
    "$$ \\mathbf{F}_i(\\mathbf{r}) = -\\frac{\\partial V}{\\partial\\mathbf{r}_i}(\\mathbf{r}), \\qquad i=1,\\ldots, n.\n",
    "$$\n",
    "\n",
    "* A **energia total** do sistema é a soma da energia cinética com a energia potencial:\n",
    "\n",
    "$$ E(\\mathbf{r},\\mathbf{\\dot r}) = K(\\mathbf{\\dot r}) + V(\\mathbf{r}),\n",
    "$$\n",
    "\n",
    "* A energia cinética total do sistema é dada por\n",
    "\n",
    "$$ K(\\mathbf{\\dot r}) = \\frac{1}{2}\\sum_{i=1}^n m_i \\|\\mathbf{\\dot r}_i\\|^2\n",
    "$$"
   ]
  },
  {
   "cell_type": "markdown",
   "metadata": {},
   "source": [
    "### Conservação da energia total \n",
    "\n",
    "* Ao longo do movimento, a energia cinética varia de acordo com a equação\n",
    "\n",
    "$$ \\dot K = \\sum_{i=1}^n \\mathbf{\\dot r}_i\\cdot \\mathbf{F}_i.\n",
    "$$ \n",
    "\n",
    "* No caso de forças autônomas conservativas, temos\n",
    "\n",
    "$$ \\dot K = -\\sum_{i=1}^n \\mathbf{\\dot r}_i\\cdot \\frac{\\partial V}{\\partial\\mathbf{r}_i}(\\mathbf{r})  = - \\frac{\\mathrm{d}}{\\mathrm{d} t} V(\\mathbf{r}),\n",
    "$$\n",
    "\n",
    "* Ou seja,\n",
    "\n",
    "$$ \\frac{\\mathrm{d}}{\\mathrm{d} t} (K+V) = 0\n",
    "$$\n",
    "\n",
    "* Nesse caso, a energia total $E = K + V$ é conservada."
   ]
  },
  {
   "cell_type": "markdown",
   "metadata": {},
   "source": [
    "## Exercícios\n",
    "\n",
    "1. Demonstre a equação a seguir citada no texto:\n",
    "$$ \\frac{\\mathrm{d} \\mathbf{L}_{\\mathbf{r}_0}}{\\mathrm{d} t} = - \\mathbf{\\dot r}_0\\times \\mathbf{P} + \\mathbf{N}_{\\mathbf{r}_0}.\n",
    "$$\n",
    "\n",
    "1. Mostre, no caso em que o ponto de referência $\\mathbf{r}_0$ está fixo, i.e. não varia com o tempo, ou esse ponto de referência é o centro de massa do sistema, $\\mathbf{r}_0(t)=\\mathbf{C}_M(t)$, então o termo $\\mathbf{\\dot r}_0 \\times \\mathbf{P}$ é nulo.\n",
    "\n",
    "1. Mostre que se a forma forte da terceira lei de Newton vale para um sistema de forças $\\mathbf{F}$, então o torque interno total é nulo, i.e. \n",
    "$$ \\mathbf{N}^{(i)}_{\\mathbf{r}_0} = \\sum_{i=1}^n (\\mathbf{r}_i - \\mathbf{r}_0)\\times \\mathbf{F}^{(i)}_i = 0.\n",
    "$$\n",
    "\n",
    "1. Mostre que a energia cinética satisfaz\n",
    "$$ \\dot K = \\sum_{i=1}^n \\mathbf{\\dot r}_i \\cdot \\mathbf{F}_i.\n",
    "$$\n",
    "\n",
    "1. No caso de uma partícula de massa $m$ e posição $\\mathbf{r}\\in \\mathbb{R}^3$ satisfazendo a equação de Newton $\\mathbf{\\ddot r} = \\mathbf{F}(t,\\mathbf{r})$, mostre que a variação da energia cinética entre dois instantes $t_1$ e $t_2$ é dada por\n",
    "$$ K_2 - K_1 = W_{12},\n",
    "$$\n",
    "onde $K_k=K(\\mathbf{\\dot r}(t_k))$ é a energia cinética no instante $t_k$, $k=1,2$, e $W_{12}$ é o **trabalho** realizado para deslocar essa partícula da posição $\\mathbf{r}_1=\\mathbf{r}(t_1)$ até a posição $\\mathbf{r}_2=\\mathbf{r}(t_2)$ através do caminho $\\gamma$ parametrizado por $t \\mapsto \\mathbf{r}(\\cdot)$:\n",
    "$$ W_{12} = \\int_\\gamma \\mathbf{F}(\\mathbf{r}) \\cdot \\;\\mathrm{d}\\mathbf{r}\n",
    "           = \\int_{t_1}^{t_2} \\mathbf{F}(\\mathbf{r}(t)) \\cdot \\mathbf{\\dot r}(t)\\;\\mathrm{d} t.\n",
    "$$"
   ]
  }
 ],
 "metadata": {
  "kernelspec": {
   "display_name": "Julia 1.6.2",
   "language": "julia",
   "name": "julia-1.6"
  },
  "language_info": {
   "file_extension": ".jl",
   "mimetype": "application/julia",
   "name": "julia",
   "version": "1.6.2"
  }
 },
 "nbformat": 4,
 "nbformat_minor": 4
}
