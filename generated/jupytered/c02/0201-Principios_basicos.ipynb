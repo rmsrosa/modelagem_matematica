{
 "cells": [
  {
   "cell_type": "markdown",
   "metadata": {
    "slideshow": {
     "slide_type": "slide"
    }
   },
   "source": [
    "# Princípios básicos de modelagem\n",
    "\n",
    "* Modelos em geral\n",
    "* Modelos matemáticos\n",
    "* Tipos de modelos\n",
    "* Tipos de modelagem\n",
    "* Ajuste de parâmetros\n",
    "* Validação\n",
    "* Escolha do modelo\n",
    "* Quantificação de incertezas"
   ]
  },
  {
   "cell_type": "markdown",
   "metadata": {
    "slideshow": {
     "slide_type": "slide"
    }
   },
   "source": [
    "## Modelos\n",
    "\n",
    "* Um **modelo** é uma representação de algo:\n",
    "  * Pessoa\n",
    "  * Objeto\n",
    "  * Conceito\n",
    "  * Fenômeno\n",
    "  * Etc."
   ]
  },
  {
   "cell_type": "markdown",
   "metadata": {
    "slideshow": {
     "slide_type": "slide"
    }
   },
   "source": [
    "### Exemplos de modelos"
   ]
  },
  {
   "cell_type": "markdown",
   "metadata": {
    "slideshow": {
     "slide_type": "fragment"
    }
   },
   "source": [
    "* Um **busto** é uma representação visual de um indivíduo;\n",
    "* Um **perfil psicológico** é um modelo das características psicológicas de um indivíduo;\n",
    "* Um **mapa** é um modelo geográfico, e.g. um mapa rodoviário, topográfico, geo-político, etc."
   ]
  },
  {
   "cell_type": "markdown",
   "metadata": {},
   "source": [
    "![Exemplos de modelos](../../assets/attachments/img/modmat_model_examples.png)"
   ]
  },
  {
   "cell_type": "markdown",
   "metadata": {
    "slideshow": {
     "slide_type": "fragment"
    }
   },
   "source": [
    "Créditos: [Imagem da rainha Nefertiti](https://commons.wikimedia.org/wiki/File:Nefertiti_30-01-2006.jpg?uselang=pt), [Star Wars pesonality test](https://www.geekinheels.com/2013/10/23/star-wars-mbti-chart.html) [Pesquisa CNT de rodovias](https://pesquisarodovias.cnt.org.br/)"
   ]
  },
  {
   "cell_type": "markdown",
   "metadata": {
    "slideshow": {
     "slide_type": "slide"
    }
   },
   "source": [
    "### Modelo matemático\n",
    "\n",
    "Um **modelo matemático** usa conceitos matemáticos nessas representações.\n",
    "\n",
    "* Um **mapa rodoviário** pode ser um **grafo** conectando lugares.\n",
    "$$ \\begin{align}\n",
    "& \\qquad \\qquad \\qquad \\fbox{Minas Gerais}  \\\\\n",
    "& \\qquad \\qquad \\nearrow \\qquad \\quad \\;\\updownarrow \\qquad \\qquad \\nwarrow \\\\\n",
    "& \\fbox{São Paulo} \\longleftrightarrow \\fbox{Rio de Janeiro} \\longleftrightarrow \\fbox{Espírito Santo}\n",
    "\\end{align}\n",
    "$$\n",
    "* A dependência da oferta $Q(P)$ de um produto em relação ao seu preço $P$ pode ser o de *elasticidade-constante* $\\epsilon$, com uma **função**\n",
    "$$ Q(P) = C P^\\epsilon.\n",
    "$$\n",
    "* A dinâmica populacional de uma determinada espécie pode ser a **equação diferencial logística**\n",
    "$$ \\frac{\\text{d} x}{\\text{d} t} = \\alpha x - \\beta x^2.\n",
    "$$"
   ]
  },
  {
   "cell_type": "markdown",
   "metadata": {
    "slideshow": {
     "slide_type": "slide"
    }
   },
   "source": [
    "### Tipos de modelos\n",
    "\n",
    "* estacionário x dinâmico\n",
    "* determinístico x estocástico\n",
    "* discreto x contínuo\n",
    "* explícito x implícito\n",
    "* macroscópico/microscópico x complexo\n",
    "* diferencial x não-diferencial\n",
    "* otimização x não-otimização"
   ]
  },
  {
   "cell_type": "markdown",
   "metadata": {
    "slideshow": {
     "slide_type": "slide"
    }
   },
   "source": [
    "## Modelagem matemática\n",
    "\n",
    "\"Modelagem matemática é um processo que utiliza conceitos matemáticos para representar, analisar, fazer previsões e obter conhecimento de fenômenos do mundo real.\" - [GAIMME](https://m3challenge.siam.org/resources/teaching-modeling)\n"
   ]
  },
  {
   "cell_type": "markdown",
   "metadata": {
    "slideshow": {
     "slide_type": "slide"
    }
   },
   "source": [
    "### Processo de modelagem"
   ]
  },
  {
   "cell_type": "markdown",
   "metadata": {
    "slideshow": {
     "slide_type": "fragment"
    }
   },
   "source": [
    "![processo de modelagem](../../assets/attachments/img/mathmoddiag_512x256.png)"
   ]
  },
  {
   "cell_type": "markdown",
   "metadata": {
    "slideshow": {
     "slide_type": "slide"
    }
   },
   "source": [
    "### Tipos de modelagem\n",
    "\n",
    "O processo de modelagem pode seguir vários caminhos:\n",
    "\n",
    "* **empírico:** através da observação, seja de fenômenos reais, seja de experimentos controlados\n",
    "* **análise dimensional:** baseado na análise das dimensões de quantidades envolvidas no fenômeno\n",
    "* **ad-hoc:** introduzida sem muito fundamento e sem muita capacidade de generalização/extrapolação\n",
    "* **mecanicista:** baseado em mecanismos envolvidos no fenômeno\n",
    "  * **heurístico:** baseada em mecanismos qualitativos (e.g. os termos de interação entre duas espécies)\n",
    "  * **fundamental:** baseado em relações/modelos bem estabelecidas e \"precisos\" (e.g. mecânica, termodinâmica, lei ação de massas)\n",
    "\n",
    "Vale ressaltar que vários desses processos estão interligados."
   ]
  },
  {
   "cell_type": "markdown",
   "metadata": {
    "slideshow": {
     "slide_type": "slide"
    }
   },
   "source": [
    "## Ajuste de parâmetros\n",
    "\n",
    "* Uma parte fundamental do processo de modelagem é o **ajuste de parâmetros**.\n",
    "* Os modelos dependem, normalmente, de vários parâmetros.\n",
    "* É fundamental termos dados reais para ajustar os parâmetros a esses dados, e assim modelar o fenômeno apropriadamente.\n",
    "* Esse ajuste pode ser feito com várias técnicas, algumas das quais veremos ao longo do curso.\n",
    "* E invariavelmente os dados reais contém **ruídos da medição** e/ou refletem **incertezas inerentes ao processo**. Nesse caso, conceitos estatísticos/probilísticos são necessários."
   ]
  },
  {
   "cell_type": "markdown",
   "metadata": {
    "slideshow": {
     "slide_type": "slide"
    }
   },
   "source": [
    "## Validação\n",
    "\n",
    "* No processo de modelagem, não devemos nos preocupar apenas com a **criação** do modelo.\n",
    "* É preciso **validá-lo**, também.\n",
    "* Mesmo no modelo de um **busto**, fazemos a validação através da **olhar**, ou até mesmo do **tato**.\n",
    "* Em um modelo matemático, também podemos fazer isso, tanto de forma **qualitativa** como **quantitativa**.\n",
    "* No exemplo de alometria, podemos medir, para cada comprimento dado, a diferença entre os valores medidos para a massa e o valor estimado pelo modelo, e ver o quão pequena essa diferença é. De preferência de forma relativa, para termos um critério mais objetivo, entre modelos."
   ]
  },
  {
   "cell_type": "markdown",
   "metadata": {
    "slideshow": {
     "slide_type": "slide"
    }
   },
   "source": [
    "## Escolha do modelo\n",
    "\n",
    "* Em muitos casos, vários modelos parecem ser apropriados.\n",
    "* Não é tão imediato decidir qual deles será mais satisfatório para o problema em questão.\n",
    "* Diversas técnicas podem ser utilizadas para verificar a robustez de um modelo a predições, evitando, em particular, um excesso de parâmetros que possam ajustar perfeitamente o modelo mas causar erros grosseiros de predição, algo conhecido como *over-fitting*.\n",
    "* Há testes de validação cruzada e critérios de teoria de informação que iremos explorar com esse objetivo."
   ]
  },
  {
   "cell_type": "markdown",
   "metadata": {
    "slideshow": {
     "slide_type": "slide"
    }
   },
   "source": [
    "## Quantificação de incertezas\n",
    "\n",
    "* Qualquer modelo contém **incertezas** em relação ao objeto da modelagem.\n",
    "* Incertezas de **naturezas diversas:**\n",
    "  * Aspectos não considerados no modelo;\n",
    "  * Impossibilidade do fenômeno de ser completamente modelado;\n",
    "  * Imprecisões nas medições;\n",
    "  * Incertezas no ajuste de dados.\n",
    "* Nesse sentido, é importante buscar quantificar essas incertezas e como elas afetam diversos aspectos oriundos da modelagem:\n",
    "  * Predição\n",
    "  * Representação\n",
    "  * Análise\n",
    "  * Robustez\n",
    "* Há técnicas clássicas de análise de erro\n",
    "  * Estatísticas/probilísticas (e.g. médias, desvio-padrão, cálculo de intervalos de confiança, análises de correlação)\n",
    "  * Propagação local de erro, via análise de derivads\n",
    "  * Propagação global de erro, via simulações de Monte-Carlo"
   ]
  },
  {
   "cell_type": "markdown",
   "metadata": {
    "slideshow": {
     "slide_type": "slide"
    }
   },
   "source": [
    "## Conclusão\n",
    "\n",
    "* Vimos acima diversos aspectos do processo de modelagem:\n",
    "  * Observação\n",
    "  * Elaboração do modelo\n",
    "  * Ajuste de dados\n",
    "  * Validação\n",
    "  * Escolha do \"melhor\" modelo\n",
    "  * Quantificação de incertezas\n",
    "* Ao longo do curso, vamos analisar cada um desses aspectos\n",
    "* Faremos isso buscando, também, trabalhar em cima de diversos casos concretos\n",
    "* E através de projetos em que cada um de vocês terá a oportunidade de fazer na prática"
   ]
  }
 ],
 "metadata": {
  "kernelspec": {
   "display_name": "Julia 1.7.1",
   "language": "julia",
   "name": "julia-1.7"
  },
  "language_info": {
   "file_extension": ".jl",
   "mimetype": "application/julia",
   "name": "julia",
   "version": "1.7.1"
  }
 },
 "nbformat": 4,
 "nbformat_minor": 4
}
