{
 "cells": [
  {
   "cell_type": "markdown",
   "metadata": {
    "slideshow": {
     "slide_type": "slide"
    }
   },
   "source": [
    "# Primeiros passos em Julia\n",
    "\n",
    "Há várias fontes de informação sobre a linguagem Julia. Vejam, por exemplo, os links informados no início do caderno anterior. Em particular,\n",
    "\n",
    "* Guias rápidos\n",
    "  * [Julia Documentation](https://docs.julialang.org/en/v1/)\n",
    "  * [Getting Started with Julia (QuantEcon)](https://julia.quantecon.org/getting_started_julia/index.html)\n",
    "  * [A via rápida para Julia 1.0](https://juliadocs.github.io/Julia-Cheat-Sheet/br/)\n",
    "  * [MATLAB–Python–Julia cheatsheet (QuantEcon)](https://cheatsheets.quantecon.org)\n",
    "  * [Noteworthy Differences from other Languages](https://docs.julialang.org/en/v1/manual/noteworthy-differences/)\n",
    "* Mais detalhados\n",
    "  * [Think Julia: How to Think Like a Computer Scientist](https://benlauwens.github.io/ThinkJulia.jl/latest/book.html)\n",
    "  * [Introducing Julia](https://en.wikibooks.org/wiki/Introducing_Julia)\n",
    "  * [A Deep Introduction to Julia for Data Science and Scientific Computing](http://ucidatascienceinitiative.github.io/IntroToJulia/)\n",
    "\n",
    "Não pretendo reinventar a roda, aqui. Sugiro que vejam pelo menos uns dois links dos mencionados. Em particular, [Mathematical Operations and Elementary Functions](https://docs.julialang.org/en/v1/manual/mathematical-operations/#Mathematical-Operations-and-Elementary-Functions), da documentação. A documentação do Julia é muito boa!\n",
    "\n",
    "Se você está acostumado com python, por exemplo, veja [Noteworthy differences from Python](https://docs.julialang.org/en/v1/manual/noteworthy-differences/#Noteworthy-differences-from-Python).\n",
    "\n",
    "Vou apenas fazer alguns comentários que considero relevantes."
   ]
  },
  {
   "cell_type": "markdown",
   "metadata": {
    "slideshow": {
     "slide_type": "slide"
    }
   },
   "source": [
    "## Blocos de código\n",
    "\n",
    "Identar o código é extramemente recomendado, mas, contrariamente ao python, não é obrigatório. Por isso, é necessário concluir os blocos com `end`.\n",
    "\n",
    "A vantagem disso é que é fácil copiar um código e rodar em outro ambiente, como no REPL, por exemplo, sem se preocupar com o processo de copiar e colar modificar a identação."
   ]
  },
  {
   "cell_type": "code",
   "execution_count": 1,
   "metadata": {
    "slideshow": {
     "slide_type": "fragment"
    }
   },
   "outputs": [
    {
     "name": "stdout",
     "output_type": "stream",
     "text": [
      "1\n",
      "2\n",
      "3\n",
      "4\n",
      "5\n"
     ]
    }
   ],
   "source": [
    "for i = 1:5\n",
    "    println(i)\n",
    "end"
   ]
  },
  {
   "cell_type": "markdown",
   "metadata": {
    "slideshow": {
     "slide_type": "slide"
    }
   },
   "source": [
    "## Caracteres unicode\n",
    "\n",
    "Caracteres unicode podem, e costumam ser, usados como variáveis. Você pode obtê-los, *em células de código*, digitando o símbolo deles seguido de `<tab>`. Vários nomes são derivados da denominação deles em latex. Por exemplo, para obter $\\pi$ acima, basta digitar `\\pi<tab>`.\n",
    "\n",
    "Para uma lista completa dos caracteres unicodes obtidos completando com `<tab>`, veja [Unicode Input](https://docs.julialang.org/en/v1/manual/unicode-input/).\n",
    "\n",
    "Subescritos e superescritos podem ser obtidos com `^\\` e `_\\`, seguidos de `<tab>`. Por exemplo $x_1$ é obtido com `x\\_1<tab>`.\n",
    "\n",
    "Outros \"adereços\" tambem podem ser obtidos com `<tab>`, por exemplo, $\\bar x$ é obtido com `x\\bar<tab>` e $\\tilde x$, com `x\\tilde<bar>`.\n",
    "\n",
    "Aproveitando a questão da notação, a multiplicação entre um número e um símbolo *não precisa* usar o símbolo de multiplicação `*`.\n",
    "\n",
    "Exemplos:"
   ]
  },
  {
   "cell_type": "code",
   "execution_count": 2,
   "metadata": {
    "slideshow": {
     "slide_type": "fragment"
    }
   },
   "outputs": [
    {
     "name": "stdout",
     "output_type": "stream",
     "text": [
      "Máximo de ξ ↦ sin(ξ) em ξ̄ = 1.57.\n",
      "Dentro da margem de erro ϵ = 0.01 em relação ao valor esperado π/2.\n"
     ]
    }
   ],
   "source": [
    "ϵ = 0.01\n",
    "ξ = 0:0.01:2π\n",
    "η = sin.(ξ)\n",
    "ξ̄ = ξ[argmax(η)]\n",
    "println(\"Máximo de ξ ↦ sin(ξ) em ξ̄ = $ξ̄.\")\n",
    "error = abs(ξ̄ - π/2) < ϵ ? \"Dentro da margem de erro ϵ = $ϵ em relação ao valor esperado π/2.\" :\n",
    "    \"Fora da margem de error ϵ = $ϵ em relação ao valor esperado π/2.\"\n",
    "println(error)"
   ]
  },
  {
   "cell_type": "markdown",
   "metadata": {
    "slideshow": {
     "slide_type": "slide"
    }
   },
   "source": [
    "## Broadcasting e o \"operador ponto\"\n",
    "\n",
    "O operador ponto aplica uma operação a cada elemento de um vetor ou matriz ou adiciona um escalar a cada componente de um vetor. O operador ponto está diretamente ligado ao operador de *broadcasting*. Veja mais sobre isso em *([dot operators](https://docs.julialang.org/en/v1/manual/mathematical-operations/#man-dot-operators))* e *[broadcasting](https://docs.julialang.org/en/v1/manual/arrays/#Broadcasting)*. Por aqui, fiquemos com os seguintes exemplos."
   ]
  },
  {
   "cell_type": "code",
   "execution_count": 3,
   "metadata": {
    "slideshow": {
     "slide_type": "fragment"
    }
   },
   "outputs": [
    {
     "name": "stdout",
     "output_type": "stream",
     "text": [
      "2 ^ 2 = 4\n",
      "[1, 2, 3] .^ 2 = [1, 4, 9]\n",
      "[1 2; 3 4] .^ 2 = [1 4; 9 16]\n",
      "sin.([0, π / 4, π / 2, π]) = [0.0, 0.7071067811865475, 1.0, 1.2246467991473532e-16]\n",
      "1 .+ [1, 2, 3, 4] = [2, 3, 4, 5]\n"
     ]
    }
   ],
   "source": [
    "@show 2^2\n",
    "@show [1,2,3].^2\n",
    "@show [1 2; 3 4].^2\n",
    "@show sin.([0, π/4, π/2, π])\n",
    "@show 1 .+ [1,2,3,4]\n",
    "nothing"
   ]
  },
  {
   "cell_type": "markdown",
   "metadata": {
    "slideshow": {
     "slide_type": "slide"
    }
   },
   "source": [
    "## Atribuição e variáveis mutáveis e imutáveis\n",
    "\n",
    "Alguns objetos são mutáveis, enquanto que outros, não. Um objeto mutável pode ter os seus valores alterados. Já um objeto imutável, não, mas ele pode ser redefinido.\n",
    "\n",
    "Isso pode ser visto explicitamente pelo seu ponteiro (pelo menos em alguns casos)."
   ]
  },
  {
   "cell_type": "markdown",
   "metadata": {
    "slideshow": {
     "slide_type": "slide"
    }
   },
   "source": [
    "### Atribuição de vetores\n",
    "\n",
    "Por exemplo. Um vetor é imutável, mas os seu valores, não. Se mudarmos apenas o valor de um ou mais de seus elementos, ele continua apontando para o mesmo local na memória. Já se o redefinirmos, ele pode passar a apontar para outro lugar. Isso é visivelmente natural se pensarmos que, nesse processo, podemos acabar alterando o tamanho do vetor e, com isso, pode ser necessário mudá-lo de posição para que ele caiba na memória.\n",
    "\n",
    "Essa mudança no apontamento quando redefinimos uma variavel imutável pode ou não acontecer. Ela não é obrigatória. Mas ela nunca é alterada quando o valor, mutável, de uma variável é alterado."
   ]
  },
  {
   "cell_type": "code",
   "execution_count": 4,
   "metadata": {
    "slideshow": {
     "slide_type": "fragment"
    }
   },
   "outputs": [
    {
     "name": "stdout",
     "output_type": "stream",
     "text": [
      "pointer(a) = Ptr{Int64} @0x00000001311f7050\n",
      "pointer(a) = Ptr{Int64} @0x0000000132062090\n",
      "pointer(a) = Ptr{Int64} @0x0000000131ba5080\n",
      "pointer(a) = Ptr{Int64} @0x0000000131ba5080\n",
      "pointer(a) = Ptr{Int64} @0x0000000131ba5080\n"
     ]
    }
   ],
   "source": [
    "a = [0, 1] # definição inicial de `a`\n",
    "@show pointer(a)\n",
    "a = [2, 3] # redefinindo `a` para um vetor de mesmo comprimento\n",
    "@show pointer(a)\n",
    "a = [4, 5, 6] # redefindo `a` para um vetor de comprimento diferente\n",
    "@show pointer(a)\n",
    "a[1] = 7 # modificando um elemento de `a`\n",
    "@show pointer(a)\n",
    "a[1:3] = [8,9,0] # modificando todos os elementos de `a`\n",
    "@show pointer(a)\n",
    "nothing"
   ]
  },
  {
   "cell_type": "markdown",
   "metadata": {
    "slideshow": {
     "slide_type": "slide"
    }
   },
   "source": [
    "### Atribuição de strings\n",
    "\n",
    "*Strings* também são imutáveis."
   ]
  },
  {
   "cell_type": "code",
   "execution_count": 5,
   "metadata": {
    "slideshow": {
     "slide_type": "fragment"
    }
   },
   "outputs": [
    {
     "name": "stdout",
     "output_type": "stream",
     "text": [
      "pointer(s) = Ptr{UInt8} @0x0000000131bc6598\n",
      "pointer(s) = Ptr{UInt8} @0x0000000131bc65c8\n",
      "pointer(s) = Ptr{UInt8} @0x0000000118df4b88\n",
      "s = \"Modelos Matemáticos\"\n"
     ]
    }
   ],
   "source": [
    "s = \"Equações diferenciais\"\n",
    "@show pointer(s)\n",
    "s = \"Modelagem Matemática\"\n",
    "@show pointer(s)\n",
    "s = replace(s, \"Modelagem\" => \"Modelos\")[1:end-1]*\"os\"\n",
    "@show pointer(s)\n",
    "@show s\n",
    "nothing"
   ]
  },
  {
   "cell_type": "markdown",
   "metadata": {
    "slideshow": {
     "slide_type": "slide"
    }
   },
   "source": [
    "### Cuidados com a atribuição de variáveis imutáveis\n",
    "\n",
    "No caso de um objeto imutável mas com elementos mutáveis (e.g. *arrays*, *dicts*, *sets*), é preciso termos cuidado quando tentamos copiá-lo.\n",
    "\n",
    "A atribuição pura e simples não acarreta em uma cópia, ela faz com que o novo objeto faça referência ao mesmo objeto. Assim, se modificarmos os valores mutáveis do objeto original, o novo objeto sofrerá as mesmas mudanças.\n",
    "\n",
    "No exemplo abaixo, observe que a redefinição da variável imutável `p1` não afetou `p2`, mas a mudança nos valores mutáveis de `p3` afetou `p4`.\n",
    "\n",
    "Para evitar isso, é preciso usar `copy`. Nesse caso, vemos que `p5` não sofreu alteração."
   ]
  },
  {
   "cell_type": "code",
   "execution_count": 6,
   "metadata": {
    "slideshow": {
     "slide_type": "fragment"
    }
   },
   "outputs": [
    {
     "name": "stdout",
     "output_type": "stream",
     "text": [
      "p1 = [30, 40]\n",
      "p2 = [10, 20]\n",
      "p3 = [70, 80]\n",
      "p4 = [70, 80]\n",
      "p5 = [50, 60]\n"
     ]
    }
   ],
   "source": [
    "p1 = [10,20]\n",
    "p2 = p1\n",
    "p1 = [30,40]\n",
    "@show p1\n",
    "@show p2\n",
    "p3 = [50,60]\n",
    "p4 = p3\n",
    "p5 = copy(p3)\n",
    "p3[1:2] = [70,80]\n",
    "@show p3\n",
    "@show p4\n",
    "@show p5\n",
    "nothing"
   ]
  },
  {
   "cell_type": "markdown",
   "metadata": {
    "slideshow": {
     "slide_type": "slide"
    }
   },
   "source": [
    "## Condicional\n",
    "\n",
    "Temos, naturalmente, os fluxos condicionais de controle\n",
    "\n",
    "```julia\n",
    "if condicional\n",
    "    expr1\n",
    "else\n",
    "    expr2\n",
    "end\n",
    "```\n",
    "\n",
    "e\n",
    "\n",
    "```julia\n",
    "if condicional1\n",
    "    expr1\n",
    "elseif condicional2\n",
    "    expr2\n",
    "...\n",
    "else\n",
    "    expr3\n",
    "end\n",
    "```\n",
    "\n",
    "Em pequenas expressões, pode ser conveniente escrever isso em uma única linha:\n",
    "\n",
    "```julia\n",
    "if condicional expr1 else expr2 end\n",
    "```   "
   ]
  },
  {
   "cell_type": "markdown",
   "metadata": {
    "slideshow": {
     "slide_type": "slide"
    },
    "tags": []
   },
   "source": [
    "## Operador ternário\n",
    "\n",
    "O operador ternário\n",
    "\n",
    "```julia\n",
    "condicional ? expr1 : expr2\n",
    "```\n",
    "\n",
    "está relacionado com a condição `if else end` e é comumente utilizado em atribuições."
   ]
  },
  {
   "cell_type": "code",
   "execution_count": 7,
   "metadata": {
    "slideshow": {
     "slide_type": "fragment"
    },
    "tags": []
   },
   "outputs": [
    {
     "name": "stdout",
     "output_type": "stream",
     "text": [
      "resultado = \"134 é par\"\n",
      "resultado = \"135 é impar\"\n"
     ]
    }
   ],
   "source": [
    "test = rand(UInt8)\n",
    "resultado = isodd(test) ? \"$test é impar\" : \"$test é par\"\n",
    "test += 1\n",
    "@show resultado\n",
    "resultado = isodd(test) ? \"$test é impar\" : \"$test é par\"\n",
    "@show resultado\n",
    "nothing"
   ]
  },
  {
   "cell_type": "markdown",
   "metadata": {
    "slideshow": {
     "slide_type": "slide"
    }
   },
   "source": [
    "## Interpolação\n",
    "\n",
    "Observe que acima usamos o símbolo `$` dentro de uma string. Ele é chamado de operador de **interpolação**. Ele substitui o valor da váriável na string.\n",
    "\n",
    "Se quisermos escrever `$` precisamos \"escapá-lo\" com uma barra invertida:"
   ]
  },
  {
   "cell_type": "code",
   "execution_count": 8,
   "metadata": {
    "slideshow": {
     "slide_type": "fragment"
    }
   },
   "outputs": [
    {
     "name": "stdout",
     "output_type": "stream",
     "text": [
      "Esse produto cuta R$10.0\n"
     ]
    }
   ],
   "source": [
    "valor = 10.0\n",
    "println(\"Esse produto cuta R\\$$valor\")"
   ]
  },
  {
   "cell_type": "markdown",
   "metadata": {
    "slideshow": {
     "slide_type": "slide"
    }
   },
   "source": [
    "## Escopo\n",
    "\n",
    "Várias construções envolvem tipos diferentes de escopo. Há três tipos de escopo: **global**, **local flexível** e **local rígido** (numa tradução livre de *global*, *local (soft)* e *local (hard)*.) Os escopos locais podem ser encadeados.\n",
    "\n",
    "Veja o tipo de escopo de cada construção em [Scope constructs](https://docs.julialang.org/en/v1/manual/variables-and-scoping/#man-scope-table).\n",
    "\n",
    "Para entender em detalhes como cada escopo local funciona, veja [Local Scope](https://docs.julialang.org/en/v1/manual/variables-and-scoping/#Local-Scope). Vamos ver alguns exemplos."
   ]
  },
  {
   "cell_type": "markdown",
   "metadata": {
    "slideshow": {
     "slide_type": "slide"
    }
   },
   "source": [
    "### Escopo em loops\n",
    "\n",
    "Um exemplo que requer particular atenção é em loops *for* e *while*. O escopo é do tipo local flexível. Depende de uma variável estar ou não definida fora do loop."
   ]
  },
  {
   "cell_type": "code",
   "execution_count": 9,
   "metadata": {
    "slideshow": {
     "slide_type": "fragment"
    }
   },
   "outputs": [
    {
     "name": "stdout",
     "output_type": "stream",
     "text": [
      "iteração de número 1\n",
      "iteração de número 2\n"
     ]
    }
   ],
   "source": [
    "for i = 1:2\n",
    "    x = \"iteração de número $i\" # variável local\n",
    "    println(x)\n",
    "end"
   ]
  },
  {
   "cell_type": "code",
   "execution_count": 10,
   "metadata": {
    "slideshow": {
     "slide_type": "fragment"
    }
   },
   "outputs": [
    {
     "data": {
      "text/plain": [
       "false"
      ]
     },
     "execution_count": 10,
     "metadata": {},
     "output_type": "execute_result"
    }
   ],
   "source": [
    "@isdefined(x)"
   ]
  },
  {
   "cell_type": "markdown",
   "metadata": {
    "slideshow": {
     "slide_type": "fragment"
    }
   },
   "source": [
    "Como `x` só foi definido dentro do loop `for`, ela não persistiu no escopo global. Observe que esse comportamento é diferente do do python, onde não apenas `x` está definido como a variável auxiliar `i`, também. 🤷‍"
   ]
  },
  {
   "cell_type": "code",
   "execution_count": 11,
   "metadata": {
    "slideshow": {
     "slide_type": "slide"
    }
   },
   "outputs": [
    {
     "name": "stdout",
     "output_type": "stream",
     "text": [
      "iteração de número 0\n",
      "iteração de número 1\n",
      "iteração de número 2\n",
      "iteração de número 2\n"
     ]
    }
   ],
   "source": [
    "i = 0\n",
    "y = \"iteração de número $i\"\n",
    "println(y)\n",
    "for i = 1:2\n",
    "    y = \"iteração de número $i\" # variável local\n",
    "    println(y)\n",
    "end\n",
    "println(y)"
   ]
  },
  {
   "cell_type": "markdown",
   "metadata": {
    "slideshow": {
     "slide_type": "fragment"
    }
   },
   "source": [
    "Agora vemos que `y` foi atualizado dentro do loop."
   ]
  },
  {
   "cell_type": "markdown",
   "metadata": {
    "slideshow": {
     "slide_type": "slide"
    }
   },
   "source": [
    "Mais delicado é quando atribuímos uma variável global a uma nova variável local e a atualizamos"
   ]
  },
  {
   "cell_type": "code",
   "execution_count": 12,
   "metadata": {
    "slideshow": {
     "slide_type": "fragment"
    }
   },
   "outputs": [
    {
     "name": "stdout",
     "output_type": "stream",
     "text": [
      "z = 55\n"
     ]
    },
    {
     "data": {
      "text/plain": [
       "false"
      ]
     },
     "execution_count": 12,
     "metadata": {},
     "output_type": "execute_result"
    }
   ],
   "source": [
    "z = 0 # global\n",
    "for i = 1:10\n",
    "    w = z + i # local\n",
    "    z = w # atualização global\n",
    "end\n",
    "@show z\n",
    "@isdefined(w)"
   ]
  },
  {
   "cell_type": "markdown",
   "metadata": {
    "slideshow": {
     "slide_type": "slide"
    }
   },
   "source": [
    "Se quisermos definir uma variável global dentro de um loop, podemos usar `global`:"
   ]
  },
  {
   "cell_type": "code",
   "execution_count": 13,
   "metadata": {
    "slideshow": {
     "slide_type": "fragment"
    }
   },
   "outputs": [
    {
     "name": "stdout",
     "output_type": "stream",
     "text": [
      "u = 120\n"
     ]
    },
    {
     "data": {
      "text/plain": [
       "120"
      ]
     },
     "execution_count": 13,
     "metadata": {},
     "output_type": "execute_result"
    }
   ],
   "source": [
    "num = 5\n",
    "for i = 1:num\n",
    "    global u = i == 1 ? 1 : i*u\n",
    "end\n",
    "@show u"
   ]
  },
  {
   "cell_type": "markdown",
   "metadata": {
    "slideshow": {
     "slide_type": "fragment"
    }
   },
   "source": [
    "O que representa `u` em relação a `num`?"
   ]
  },
  {
   "cell_type": "markdown",
   "metadata": {
    "slideshow": {
     "slide_type": "slide"
    }
   },
   "source": [
    "## Funções\n",
    "\n",
    "Assim como qualquer bloco, funções precisam ser terminadas com `end`. Além disso, o comando `return` é opcional para indicar o que será retornado pela função. Caso ele não seja usado, a última expressão executada é automaticamente retornada.\n",
    "\n",
    "A recomendação, no entanto, é de que o comando `return` seja sempre usado, para maior clareza. A exceção é quando a função é definida em uma única linha de comando."
   ]
  },
  {
   "cell_type": "code",
   "execution_count": 14,
   "metadata": {
    "slideshow": {
     "slide_type": "fragment"
    }
   },
   "outputs": [
    {
     "name": "stdout",
     "output_type": "stream",
     "text": [
      "f(2) = 85\n",
      "g(2) = 85\n"
     ]
    }
   ],
   "source": [
    "f(ζ) = 1 + ζ^2 + ζ^4 + ζ^6\n",
    "\n",
    "function g(ζ)\n",
    "    η = 1\n",
    "    for i = 2:2:6\n",
    "        η += ζ^i\n",
    "    end\n",
    "    return η\n",
    "end\n",
    "\n",
    "@show f(2)\n",
    "@show g(2)\n",
    "nothing"
   ]
  },
  {
   "cell_type": "markdown",
   "metadata": {
    "slideshow": {
     "slide_type": "slide"
    }
   },
   "source": [
    "### Funções com variáveis mutáveis e imutáveis\n",
    "\n",
    "É preciso tomar cuidado ao alterarmos variáveis dentro de uma função.\n",
    "\n",
    "Se alterarmos uma variável imutável, isso não afetará a variável original passada para a função. Mas se alteramos um elemeto mutável, isso a afetará.\n",
    "\n",
    "Funções que afetam um ou mais argumentos são usualmente denotadas com o sufixo `!`. Isso é apenas uma convenção. Esse símbolo não *faz* nada de especial."
   ]
  },
  {
   "cell_type": "code",
   "execution_count": 15,
   "metadata": {
    "slideshow": {
     "slide_type": "fragment"
    }
   },
   "outputs": [
    {
     "name": "stdout",
     "output_type": "stream",
     "text": [
      "xx = [1, 2]\n",
      "h(xx) = [3, 6]\n",
      "xx = [1, 2]\n",
      "yy = [1, 2]\n",
      "h!(yy) = [3, 6]\n",
      "yy = [2, 4]\n"
     ]
    }
   ],
   "source": [
    "function h(ρ)\n",
    "    ρ̄ = copy(ρ)\n",
    "    ρ = 2 .*ρ\n",
    "    return ρ + ρ̄\n",
    "end\n",
    "\n",
    "function h!(ρ)\n",
    "    ρ̄ = copy(ρ)\n",
    "    ρ[1:end] = 2 .*ρ[1:end]\n",
    "    return ρ + ρ̄\n",
    "end\n",
    "\n",
    "xx = [1,2]\n",
    "yy = [1,2]\n",
    "\n",
    "@show xx\n",
    "@show h(xx)\n",
    "@show xx\n",
    "@show yy\n",
    "@show h!(yy)\n",
    "@show yy\n",
    "nothing"
   ]
  },
  {
   "cell_type": "markdown",
   "metadata": {
    "slideshow": {
     "slide_type": "slide"
    }
   },
   "source": [
    "## Tipos e múltiplos despachos\n",
    "\n",
    "Julia não é uma linguagem orientada a objeto. Ela é fortemente baseada em **tipos** e em **múltiplos despachos** *(ou multiple dispatch)*. Isso é uma das coisas que a torna bastante poderosa. 🚀\n",
    "\n",
    "Isso facilita bastante, por exemplo, o processo de estender funções e pacotes. Com ela, é fácil adaptar funções de um pacote de otimização (e.g. [Flux.jl](https://fluxml.ai/Flux.jl/stable/) para trabalhar com funções objetivo dependentes de soluções de equações diferenciais implementadas em outro pacote (e.g. [DifferentialEquations.jl](https://diffeq.sciml.ai/stable/) e assim por diante.\n",
    "\n",
    "Em uma linguagem orientada a objeto, qualquer adaptação do gênero requer que todos os métodos sejam reescritos para novos objetos, sem contar com toda a verbose incluída.\n",
    "\n",
    "Este não é um curso sobre Julia, então não vamos entrar em muitos detalhes, mas é importante saber sobre essa característica fundamental da linguagem. E gostaria de fazer um pequeno exemplo para exibir o poder disso."
   ]
  },
  {
   "cell_type": "markdown",
   "metadata": {
    "slideshow": {
     "slide_type": "slide"
    }
   },
   "source": [
    "### Ordenando listas\n",
    "\n",
    "Podemos, naturalmente, ordenar uma lista de números. Isso pode ser feito com a função `sort`. Há vários métodos de ordenação implementados, mas não vamos nos preocupar com isso.\n",
    "\n",
    "Podemos, também, ordenar pares ordenados e strings, em ordem lexicográfica."
   ]
  },
  {
   "cell_type": "code",
   "execution_count": 16,
   "metadata": {
    "slideshow": {
     "slide_type": "fragment"
    }
   },
   "outputs": [
    {
     "name": "stdout",
     "output_type": "stream",
     "text": [
      "sort([4, 1, 3]) = [1, 3, 4]\n",
      "sort([\"d\", \"a\", \"c\"]) = [\"a\", \"c\", \"d\"]\n"
     ]
    }
   ],
   "source": [
    "@show sort([4,1,3])\n",
    "@show sort([\"d\", \"a\", \"c\"])\n",
    "nothing"
   ]
  },
  {
   "cell_type": "markdown",
   "metadata": {
    "slideshow": {
     "slide_type": "slide"
    }
   },
   "source": [
    "### Ordenando retângulos\n",
    "\n",
    "Digamos, agora, que queiramos definir um objeto \"retângulo\", cujas propriedades são os tamanhos dos seus lados. Para isso, definimos um *struct* com essas propriedades:"
   ]
  },
  {
   "cell_type": "code",
   "execution_count": 17,
   "metadata": {
    "slideshow": {
     "slide_type": "fragment"
    }
   },
   "outputs": [
    {
     "data": {
      "text/plain": [
       "(Retângulo(2.0, 3.0), Retângulo(1.5, 6.0), Retângulo(1.2, 7.0), Retângulo(3.0, 2.0))"
      ]
     },
     "execution_count": 17,
     "metadata": {},
     "output_type": "execute_result"
    }
   ],
   "source": [
    "struct Retângulo\n",
    "    lado1:: Float64\n",
    "    lado2:: Float64\n",
    "end\n",
    "\n",
    "R1 = Retângulo(2,3)\n",
    "R2 = Retângulo(1.5, 6)\n",
    "R3 = Retângulo(1.2,7)\n",
    "R4 = Retângulo(3,2)\n",
    "\n",
    "R1, R2, R3, R4"
   ]
  },
  {
   "cell_type": "markdown",
   "metadata": {
    "slideshow": {
     "slide_type": "slide"
    }
   },
   "source": [
    "Para qualquer retângulo, podemos definir a sua área. Podemos fazer isso definindo uma função atuando em dois argumentos **do tipo Retângulo**."
   ]
  },
  {
   "cell_type": "code",
   "execution_count": 18,
   "metadata": {
    "slideshow": {
     "slide_type": "fragment"
    }
   },
   "outputs": [
    {
     "name": "stdout",
     "output_type": "stream",
     "text": [
      "area(R1) = 6.0\n",
      "area(R2) = 9.0\n",
      "area(R3) = 8.4\n",
      "area(R4) = 6.0\n"
     ]
    },
    {
     "data": {
      "text/plain": [
       "6.0"
      ]
     },
     "execution_count": 18,
     "metadata": {},
     "output_type": "execute_result"
    }
   ],
   "source": [
    "area(R::Retângulo) = R.lado1 * R.lado2\n",
    "\n",
    "@show area(R1)\n",
    "@show area(R2)\n",
    "@show area(R3)\n",
    "@show area(R4)"
   ]
  },
  {
   "cell_type": "markdown",
   "metadata": {
    "slideshow": {
     "slide_type": "slide"
    }
   },
   "source": [
    "Agora, pode ser interessante comparar os retângulos de acordo com as suas áreas. As funções binárias `<, ==, >` não estão definidas para retângulos. Mas podemos defini-las.\n",
    "\n",
    "Um problema é que elas já existem para outros objetos. Assim, precisamos **estender** as definições para o nosso novo objeto. Isso precisa ser feito importando a função do módulo onde ela está definida.\n",
    "\n",
    "Essas funções estão definidas no módulo Base. E na verdade só precisamos importar `isless` e `==`, pois os outros operadores são definidos em função desses.\n",
    "\n",
    "Podemos importar toda o módulo `Base`, mas isso é desnecessário. Vamos importar apenas o que precisamo estender.\n",
    "\n",
    "Para estender, definimos não só o valor desejado da operação mas em que tipo ela se aplica."
   ]
  },
  {
   "cell_type": "code",
   "execution_count": 19,
   "metadata": {
    "slideshow": {
     "slide_type": "fragment"
    }
   },
   "outputs": [
    {
     "name": "stdout",
     "output_type": "stream",
     "text": [
      "isless(R1, R2) = true\n",
      "isless(R1, R4) = false\n",
      "R1 == R4 = true\n"
     ]
    },
    {
     "data": {
      "text/plain": [
       "true"
      ]
     },
     "execution_count": 19,
     "metadata": {},
     "output_type": "execute_result"
    }
   ],
   "source": [
    "import Base: isless, ==\n",
    "\n",
    "==(R::Retângulo, R̄::Retângulo) = area(R) == area(R̄)\n",
    "isless(R::Retângulo, R̄::Retângulo) = area(R) < area(R̄)\n",
    "\n",
    "@show isless(R1,R2)\n",
    "@show isless(R1,R4)\n",
    "@show R1 == R4"
   ]
  },
  {
   "cell_type": "markdown",
   "metadata": {
    "slideshow": {
     "slide_type": "slide"
    }
   },
   "source": [
    "Agora a primeira \"mágica\" aparece. Como dito acima, `<` e `>` são definidas a partir de `isless` e `==`. Assim, essas operações são automaticamente estendidas."
   ]
  },
  {
   "cell_type": "code",
   "execution_count": 20,
   "metadata": {
    "slideshow": {
     "slide_type": "fragment"
    }
   },
   "outputs": [
    {
     "name": "stdout",
     "output_type": "stream",
     "text": [
      "R1 < R3 = true\n",
      "R1 > R3 = false\n"
     ]
    }
   ],
   "source": [
    "@show R1 < R3\n",
    "@show R1 > R3\n",
    "nothing"
   ]
  },
  {
   "cell_type": "markdown",
   "metadata": {
    "slideshow": {
     "slide_type": "slide"
    }
   },
   "source": [
    "Agora a segunda \"mágica\". A função de ordenação `sort` também é definida a partir de `isless` e `==` e está automaticamente estendida para os nosss retângulos."
   ]
  },
  {
   "cell_type": "code",
   "execution_count": 21,
   "metadata": {
    "slideshow": {
     "slide_type": "fragment"
    }
   },
   "outputs": [
    {
     "name": "stdout",
     "output_type": "stream",
     "text": [
      "1ᵒ: Retângulo(2.0, 3.0) com área 6.0\n",
      "2ᵒ: Retângulo(3.0, 2.0) com área 6.0\n",
      "3ᵒ: Retângulo(1.2, 7.0) com área 8.4\n",
      "4ᵒ: Retângulo(1.5, 6.0) com área 9.0\n"
     ]
    }
   ],
   "source": [
    "ordenados = sort([R1, R2, R3, R4])\n",
    "for (i,R) in enumerate(ordenados)\n",
    "    println(\"$(i)ᵒ: $R com área $(area(R))\")\n",
    "end"
   ]
  },
  {
   "cell_type": "markdown",
   "metadata": {
    "slideshow": {
     "slide_type": "slide"
    },
    "tags": []
   },
   "source": [
    "Da mesma forma, podemos imediatamente obter os valores máximo, mínimos e os respectivos retângulos:"
   ]
  },
  {
   "cell_type": "code",
   "execution_count": 22,
   "metadata": {
    "slideshow": {
     "slide_type": "fragment"
    },
    "tags": []
   },
   "outputs": [
    {
     "name": "stdout",
     "output_type": "stream",
     "text": [
      "Mínimo Retângulo(2.0, 3.0) em 1\n"
     ]
    }
   ],
   "source": [
    "println(\"Mínimo $(minimum([R1, R2, R3, R4])) em $(argmin([R1, R2, R3, R4]))\")"
   ]
  },
  {
   "cell_type": "markdown",
   "metadata": {
    "slideshow": {
     "slide_type": "slide"
    }
   },
   "source": [
    "## Álgebra linear\n",
    "\n",
    "Várias ferramentas de álgebra linear estão diretamente disponíveis na `Base`. Outras no módulo [LinearAlgebra](https://docs.julialang.org/en/v1/stdlib/LinearAlgebra/) da biblioteca padrão.\n",
    "\n",
    "Na `Base`, podemos multiplicar matrizes (composição) e resolver um sistema (`A\\v` nos dá o vetor `u` tal que`Av = u`, caso seja possível, ou resolve o problema de mínimos quadrados associado)."
   ]
  },
  {
   "cell_type": "code",
   "execution_count": 23,
   "metadata": {
    "slideshow": {
     "slide_type": "fragment"
    }
   },
   "outputs": [
    {
     "name": "stdout",
     "output_type": "stream",
     "text": [
      "mat = [1 3; 4 5]\n",
      "mat' = [1 4; 3 5]\n",
      "copy(mat') = [1 4; 3 5]\n",
      "vec = [1, 2]\n",
      "mat * vec = [7, 14]\n",
      "mat \\ vec = [0.1428571428571429, 0.2857142857142857]\n",
      "mat * (mat \\ vec) - vec = [0.0, 0.0]\n"
     ]
    }
   ],
   "source": [
    "vec = [1,2]\n",
    "mat = [1 3; 4 5]\n",
    "@show mat\n",
    "@show mat' # transposta\n",
    "@show copy(mat') # transposta com tipo matriz\n",
    "@show vec\n",
    "@show mat * vec\n",
    "@show mat \\ vec\n",
    "@show mat * (mat \\ vec) - vec\n",
    "nothing"
   ]
  },
  {
   "cell_type": "markdown",
   "metadata": {
    "slideshow": {
     "slide_type": "slide"
    }
   },
   "source": [
    "Algumas operações podem ser feitas tanto como matrizes, como $A^2$ e $e^A$, como elemento a elemento, com o operador ponto."
   ]
  },
  {
   "cell_type": "code",
   "execution_count": 24,
   "metadata": {
    "slideshow": {
     "slide_type": "fragment"
    }
   },
   "outputs": [
    {
     "name": "stdout",
     "output_type": "stream",
     "text": [
      "mat ^ 2 = [13 18; 24 37]\n",
      "mat .^ 2 = [1 9; 16 25]\n",
      "exp(mat) = [274.4341991879927 411.0994796202318; 548.1326394936425 822.5668386816352]\n",
      "exp.(mat) = [2.718281828459045 20.085536923187668; 54.598150033144236 148.4131591025766]\n"
     ]
    }
   ],
   "source": [
    "@show mat^2\n",
    "@show mat.^2\n",
    "@show exp(mat)\n",
    "@show exp.(mat)\n",
    "nothing"
   ]
  },
  {
   "cell_type": "markdown",
   "metadata": {
    "slideshow": {
     "slide_type": "slide"
    }
   },
   "source": [
    "Outras operações importantes estão em [LinearAlgebra](https://docs.julialang.org/en/v1/stdlib/LinearAlgebra/).\n",
    "\n",
    "O produto vetorial entre dois vetores, por exemplo, pode ser calculado de várias formas.\n",
    "\n",
    "Uma opção e utilizando o operador ponto para somar elemento a elemento e em seguida somando-se os elementos do vetor resultante.\n",
    "\n",
    "Outra é através das poderosas funções `map`, `reduce`, `mapreduce` e variantes.\n",
    "\n",
    "Ou através do produto escalar disponível em `LinearAlgebra`. Este último tem a vantagem de ser bem mais rápido, como veremos em seguida."
   ]
  },
  {
   "cell_type": "code",
   "execution_count": 25,
   "metadata": {
    "slideshow": {
     "slide_type": "fragment"
    }
   },
   "outputs": [
    {
     "name": "stdout",
     "output_type": "stream",
     "text": [
      "28.860000000000007\n",
      "28.860000000000007\n",
      "28.860000000000007\n",
      "28.860000000000007\n"
     ]
    }
   ],
   "source": [
    "using LinearAlgebra\n",
    "\n",
    "vec1 = [1.2, 3.1, -4.5, 2.1, -2.3, 10.1]\n",
    "vec2 = [0.3, -1.2, -5.2, -1.2, 20.1, 5.7]\n",
    "println(sum(vec1 .* vec2))\n",
    "println(mapreduce(elem -> elem[1]*elem[2], +, zip(vec1, vec2)))\n",
    "println(let p = 0; for i in 1:length(vec1) p += vec1[i]*vec2[i] end; p end)\n",
    "println(vec1 ⋅ vec2)\n",
    "nothing"
   ]
  },
  {
   "cell_type": "markdown",
   "metadata": {
    "slideshow": {
     "slide_type": "slide"
    }
   },
   "source": [
    "O módulo `LinearAlgebra` nos dá diversas outras ferramentas, como cálculo de autovalores, autovetores normalizados, decomposição SVD, etc.."
   ]
  },
  {
   "cell_type": "code",
   "execution_count": 26,
   "metadata": {
    "slideshow": {
     "slide_type": "fragment"
    }
   },
   "outputs": [
    {
     "data": {
      "text/plain": [
       "Eigen{Float64, Float64, Matrix{Float64}, Vector{Float64}}\n",
       "values:\n",
       "2-element Vector{Float64}:\n",
       " -1.0\n",
       "  7.0\n",
       "vectors:\n",
       "2×2 Matrix{Float64}:\n",
       " -0.83205  -0.447214\n",
       "  0.5547   -0.894427"
      ]
     },
     "execution_count": 26,
     "metadata": {},
     "output_type": "execute_result"
    }
   ],
   "source": [
    "eigen([1 3; 4 5])"
   ]
  },
  {
   "cell_type": "code",
   "execution_count": 27,
   "metadata": {
    "slideshow": {
     "slide_type": "fragment"
    }
   },
   "outputs": [
    {
     "data": {
      "text/plain": [
       "SVD{Float64, Float64, Matrix{Float64}}\n",
       "U factor:\n",
       "2×2 Matrix{Float64}:\n",
       " -0.428878  -0.903362\n",
       " -0.903362   0.428878\n",
       "singular values:\n",
       "2-element Vector{Float64}:\n",
       " 7.072510139298386\n",
       " 0.9897476090001659\n",
       "Vt factor:\n",
       "2×2 Matrix{Float64}:\n",
       " -0.571555  -0.820564\n",
       "  0.820564  -0.571555"
      ]
     },
     "execution_count": 27,
     "metadata": {},
     "output_type": "execute_result"
    }
   ],
   "source": [
    "svd([1 3; 4 5])"
   ]
  },
  {
   "cell_type": "markdown",
   "metadata": {
    "slideshow": {
     "slide_type": "slide"
    }
   },
   "source": [
    "## Gráficos\n",
    "\n",
    "Há vários pacotes de gráficos.\n",
    "\n",
    "Há muito o que ser explorado em termos de gráficos, mas, aqui, vamos nos limitar a exibir alguns poucos exemplos utilizando o [Plots.jl](http://docs.juliaplots.org/latest/)."
   ]
  },
  {
   "cell_type": "code",
   "execution_count": 28,
   "metadata": {
    "slideshow": {
     "slide_type": "fragment"
    }
   },
   "outputs": [
    {
     "name": "stderr",
     "output_type": "stream",
     "text": [
      "┌ Info: Precompiling Plots [91a5bcdd-55d7-5caf-9e0b-520d859cae80]\n",
      "└ @ Base loading.jl:1342\n"
     ]
    }
   ],
   "source": [
    "using Plots\n",
    "gr()\n",
    "theme(:ggplot2)"
   ]
  },
  {
   "cell_type": "code",
   "execution_count": 29,
   "metadata": {
    "slideshow": {
     "slide_type": "fragment"
    }
   },
   "outputs": [
    {
     "data": {
      "image/svg+xml": "<?xml version=\"1.0\" encoding=\"utf-8\"?>\n<svg xmlns=\"http://www.w3.org/2000/svg\" xmlns:xlink=\"http://www.w3.org/1999/xlink\" width=\"600\" height=\"400\" viewBox=\"0 0 2400 1600\">\n<defs>\n  <clipPath id=\"clip620\">\n    <rect x=\"0\" y=\"0\" width=\"2400\" height=\"1600\"/>\n  </clipPath>\n</defs>\n<path clip-path=\"url(#clip620)\" d=\"\nM0 1600 L2400 1600 L2400 0 L0 0  Z\n  \" fill=\"#ffffff\" fill-rule=\"evenodd\" fill-opacity=\"1\"/>\n<defs>\n  <clipPath id=\"clip621\">\n    <rect x=\"480\" y=\"0\" width=\"1681\" height=\"1600\"/>\n  </clipPath>\n</defs>\n<path clip-path=\"url(#clip620)\" d=\"\nM257.204 1423.18 L2352.76 1423.18 L2352.76 123.472 L257.204 123.472  Z\n  \" fill=\"#eaeaea\" fill-rule=\"evenodd\" fill-opacity=\"1\"/>\n<defs>\n  <clipPath id=\"clip622\">\n    <rect x=\"257\" y=\"123\" width=\"2097\" height=\"1301\"/>\n  </clipPath>\n</defs>\n<polyline clip-path=\"url(#clip622)\" style=\"stroke:#ffffff; stroke-linecap:butt; stroke-linejoin:round; stroke-width:4; stroke-opacity:1; fill:none\" points=\"\n  316.512,1423.18 316.512,123.472 \n  \"/>\n<polyline clip-path=\"url(#clip622)\" style=\"stroke:#ffffff; stroke-linecap:butt; stroke-linejoin:round; stroke-width:4; stroke-opacity:1; fill:none\" points=\"\n  635.373,1423.18 635.373,123.472 \n  \"/>\n<polyline clip-path=\"url(#clip622)\" style=\"stroke:#ffffff; stroke-linecap:butt; stroke-linejoin:round; stroke-width:4; stroke-opacity:1; fill:none\" points=\"\n  954.233,1423.18 954.233,123.472 \n  \"/>\n<polyline clip-path=\"url(#clip622)\" style=\"stroke:#ffffff; stroke-linecap:butt; stroke-linejoin:round; stroke-width:4; stroke-opacity:1; fill:none\" points=\"\n  1273.09,1423.18 1273.09,123.472 \n  \"/>\n<polyline clip-path=\"url(#clip622)\" style=\"stroke:#ffffff; stroke-linecap:butt; stroke-linejoin:round; stroke-width:4; stroke-opacity:1; fill:none\" points=\"\n  1591.95,1423.18 1591.95,123.472 \n  \"/>\n<polyline clip-path=\"url(#clip622)\" style=\"stroke:#ffffff; stroke-linecap:butt; stroke-linejoin:round; stroke-width:4; stroke-opacity:1; fill:none\" points=\"\n  1910.82,1423.18 1910.82,123.472 \n  \"/>\n<polyline clip-path=\"url(#clip622)\" style=\"stroke:#ffffff; stroke-linecap:butt; stroke-linejoin:round; stroke-width:4; stroke-opacity:1; fill:none\" points=\"\n  2229.68,1423.18 2229.68,123.472 \n  \"/>\n<polyline clip-path=\"url(#clip622)\" style=\"stroke:#ffffff; stroke-linecap:butt; stroke-linejoin:round; stroke-width:2; stroke-opacity:1; fill:none\" points=\"\n  475.942,1423.18 475.942,123.472 \n  \"/>\n<polyline clip-path=\"url(#clip622)\" style=\"stroke:#ffffff; stroke-linecap:butt; stroke-linejoin:round; stroke-width:2; stroke-opacity:1; fill:none\" points=\"\n  794.803,1423.18 794.803,123.472 \n  \"/>\n<polyline clip-path=\"url(#clip622)\" style=\"stroke:#ffffff; stroke-linecap:butt; stroke-linejoin:round; stroke-width:2; stroke-opacity:1; fill:none\" points=\"\n  1113.66,1423.18 1113.66,123.472 \n  \"/>\n<polyline clip-path=\"url(#clip622)\" style=\"stroke:#ffffff; stroke-linecap:butt; stroke-linejoin:round; stroke-width:2; stroke-opacity:1; fill:none\" points=\"\n  1432.52,1423.18 1432.52,123.472 \n  \"/>\n<polyline clip-path=\"url(#clip622)\" style=\"stroke:#ffffff; stroke-linecap:butt; stroke-linejoin:round; stroke-width:2; stroke-opacity:1; fill:none\" points=\"\n  1751.38,1423.18 1751.38,123.472 \n  \"/>\n<polyline clip-path=\"url(#clip622)\" style=\"stroke:#ffffff; stroke-linecap:butt; stroke-linejoin:round; stroke-width:2; stroke-opacity:1; fill:none\" points=\"\n  2070.25,1423.18 2070.25,123.472 \n  \"/>\n<polyline clip-path=\"url(#clip620)\" style=\"stroke:#ffffff; stroke-linecap:butt; stroke-linejoin:round; stroke-width:4; stroke-opacity:1; fill:none\" points=\"\n  257.204,1423.18 2352.76,1423.18 \n  \"/>\n<polyline clip-path=\"url(#clip620)\" style=\"stroke:#333333; stroke-linecap:butt; stroke-linejoin:round; stroke-width:4; stroke-opacity:1; fill:none\" points=\"\n  316.512,1423.18 316.512,1438.78 \n  \"/>\n<polyline clip-path=\"url(#clip620)\" style=\"stroke:#333333; stroke-linecap:butt; stroke-linejoin:round; stroke-width:4; stroke-opacity:1; fill:none\" points=\"\n  635.373,1423.18 635.373,1438.78 \n  \"/>\n<polyline clip-path=\"url(#clip620)\" style=\"stroke:#333333; stroke-linecap:butt; stroke-linejoin:round; stroke-width:4; stroke-opacity:1; fill:none\" points=\"\n  954.233,1423.18 954.233,1438.78 \n  \"/>\n<polyline clip-path=\"url(#clip620)\" style=\"stroke:#333333; stroke-linecap:butt; stroke-linejoin:round; stroke-width:4; stroke-opacity:1; fill:none\" points=\"\n  1273.09,1423.18 1273.09,1438.78 \n  \"/>\n<polyline clip-path=\"url(#clip620)\" style=\"stroke:#333333; stroke-linecap:butt; stroke-linejoin:round; stroke-width:4; stroke-opacity:1; fill:none\" points=\"\n  1591.95,1423.18 1591.95,1438.78 \n  \"/>\n<polyline clip-path=\"url(#clip620)\" style=\"stroke:#333333; stroke-linecap:butt; stroke-linejoin:round; stroke-width:4; stroke-opacity:1; fill:none\" points=\"\n  1910.82,1423.18 1910.82,1438.78 \n  \"/>\n<polyline clip-path=\"url(#clip620)\" style=\"stroke:#333333; stroke-linecap:butt; stroke-linejoin:round; stroke-width:4; stroke-opacity:1; fill:none\" points=\"\n  2229.68,1423.18 2229.68,1438.78 \n  \"/>\n<polyline clip-path=\"url(#clip620)\" style=\"stroke:#333333; stroke-linecap:butt; stroke-linejoin:round; stroke-width:4; stroke-opacity:1; fill:none\" points=\"\n  475.942,1423.18 475.942,1430.98 \n  \"/>\n<polyline clip-path=\"url(#clip620)\" style=\"stroke:#333333; stroke-linecap:butt; stroke-linejoin:round; stroke-width:4; stroke-opacity:1; fill:none\" points=\"\n  794.803,1423.18 794.803,1430.98 \n  \"/>\n<polyline clip-path=\"url(#clip620)\" style=\"stroke:#333333; stroke-linecap:butt; stroke-linejoin:round; stroke-width:4; stroke-opacity:1; fill:none\" points=\"\n  1113.66,1423.18 1113.66,1430.98 \n  \"/>\n<polyline clip-path=\"url(#clip620)\" style=\"stroke:#333333; stroke-linecap:butt; stroke-linejoin:round; stroke-width:4; stroke-opacity:1; fill:none\" points=\"\n  1432.52,1423.18 1432.52,1430.98 \n  \"/>\n<polyline clip-path=\"url(#clip620)\" style=\"stroke:#333333; stroke-linecap:butt; stroke-linejoin:round; stroke-width:4; stroke-opacity:1; fill:none\" points=\"\n  1751.38,1423.18 1751.38,1430.98 \n  \"/>\n<polyline clip-path=\"url(#clip620)\" style=\"stroke:#333333; stroke-linecap:butt; stroke-linejoin:round; stroke-width:4; stroke-opacity:1; fill:none\" points=\"\n  2070.25,1423.18 2070.25,1430.98 \n  \"/>\n<path clip-path=\"url(#clip620)\" d=\"M316.512 1461.97 Q312.901 1461.97 311.072 1465.54 Q309.267 1469.08 309.267 1476.21 Q309.267 1483.31 311.072 1486.88 Q312.901 1490.42 316.512 1490.42 Q320.146 1490.42 321.952 1486.88 Q323.781 1483.31 323.781 1476.21 Q323.781 1469.08 321.952 1465.54 Q320.146 1461.97 316.512 1461.97 M316.512 1458.27 Q322.322 1458.27 325.378 1462.87 Q328.456 1467.46 328.456 1476.21 Q328.456 1484.93 325.378 1489.54 Q322.322 1494.12 316.512 1494.12 Q310.702 1494.12 307.623 1489.54 Q304.568 1484.93 304.568 1476.21 Q304.568 1467.46 307.623 1462.87 Q310.702 1458.27 316.512 1458.27 Z\" fill=\"#4c4c4c\" fill-rule=\"evenodd\" fill-opacity=\"1\" /><path clip-path=\"url(#clip620)\" d=\"M625.755 1489.52 L633.394 1489.52 L633.394 1463.15 L625.083 1464.82 L625.083 1460.56 L633.347 1458.89 L638.023 1458.89 L638.023 1489.52 L645.662 1489.52 L645.662 1493.45 L625.755 1493.45 L625.755 1489.52 Z\" fill=\"#4c4c4c\" fill-rule=\"evenodd\" fill-opacity=\"1\" /><path clip-path=\"url(#clip620)\" d=\"M948.886 1489.52 L965.205 1489.52 L965.205 1493.45 L943.261 1493.45 L943.261 1489.52 Q945.923 1486.76 950.506 1482.13 Q955.113 1477.48 956.293 1476.14 Q958.539 1473.61 959.418 1471.88 Q960.321 1470.12 960.321 1468.43 Q960.321 1465.67 958.377 1463.94 Q956.456 1462.2 953.354 1462.2 Q951.155 1462.2 948.701 1462.97 Q946.27 1463.73 943.493 1465.28 L943.493 1460.56 Q946.317 1459.42 948.77 1458.85 Q951.224 1458.27 953.261 1458.27 Q958.631 1458.27 961.826 1460.95 Q965.02 1463.64 965.02 1468.13 Q965.02 1470.26 964.21 1472.18 Q963.423 1474.08 961.317 1476.67 Q960.738 1477.34 957.636 1480.56 Q954.534 1483.75 948.886 1489.52 Z\" fill=\"#4c4c4c\" fill-rule=\"evenodd\" fill-opacity=\"1\" /><path clip-path=\"url(#clip620)\" d=\"M1277.34 1474.82 Q1280.7 1475.54 1282.57 1477.8 Q1284.47 1480.07 1284.47 1483.41 Q1284.47 1488.52 1280.95 1491.32 Q1277.43 1494.12 1270.95 1494.12 Q1268.78 1494.12 1266.46 1493.68 Q1264.17 1493.27 1261.72 1492.41 L1261.72 1487.9 Q1263.66 1489.03 1265.98 1489.61 Q1268.29 1490.19 1270.81 1490.19 Q1275.21 1490.19 1277.5 1488.45 Q1279.82 1486.72 1279.82 1483.41 Q1279.82 1480.35 1277.67 1478.64 Q1275.54 1476.9 1271.72 1476.9 L1267.69 1476.9 L1267.69 1473.06 L1271.9 1473.06 Q1275.35 1473.06 1277.18 1471.69 Q1279.01 1470.3 1279.01 1467.71 Q1279.01 1465.05 1277.11 1463.64 Q1275.24 1462.2 1271.72 1462.2 Q1269.8 1462.2 1267.6 1462.62 Q1265.4 1463.04 1262.76 1463.91 L1262.76 1459.75 Q1265.42 1459.01 1267.74 1458.64 Q1270.07 1458.27 1272.13 1458.27 Q1277.46 1458.27 1280.56 1460.7 Q1283.66 1463.1 1283.66 1467.23 Q1283.66 1470.1 1282.02 1472.09 Q1280.37 1474.05 1277.34 1474.82 Z\" fill=\"#4c4c4c\" fill-rule=\"evenodd\" fill-opacity=\"1\" /><path clip-path=\"url(#clip620)\" d=\"M1594.96 1462.97 L1583.16 1481.41 L1594.96 1481.41 L1594.96 1462.97 M1593.74 1458.89 L1599.62 1458.89 L1599.62 1481.41 L1604.55 1481.41 L1604.55 1485.3 L1599.62 1485.3 L1599.62 1493.45 L1594.96 1493.45 L1594.96 1485.3 L1579.36 1485.3 L1579.36 1480.79 L1593.74 1458.89 Z\" fill=\"#4c4c4c\" fill-rule=\"evenodd\" fill-opacity=\"1\" /><path clip-path=\"url(#clip620)\" d=\"M1901.09 1458.89 L1919.45 1458.89 L1919.45 1462.83 L1905.38 1462.83 L1905.38 1471.3 Q1906.39 1470.95 1907.41 1470.79 Q1908.43 1470.6 1909.45 1470.6 Q1915.24 1470.6 1918.62 1473.78 Q1922 1476.95 1922 1482.36 Q1922 1487.94 1918.52 1491.04 Q1915.05 1494.12 1908.73 1494.12 Q1906.56 1494.12 1904.29 1493.75 Q1902.04 1493.38 1899.63 1492.64 L1899.63 1487.94 Q1901.72 1489.08 1903.94 1489.63 Q1906.16 1490.19 1908.64 1490.19 Q1912.64 1490.19 1914.98 1488.08 Q1917.32 1485.98 1917.32 1482.36 Q1917.32 1478.75 1914.98 1476.65 Q1912.64 1474.54 1908.64 1474.54 Q1906.76 1474.54 1904.89 1474.96 Q1903.04 1475.37 1901.09 1476.25 L1901.09 1458.89 Z\" fill=\"#4c4c4c\" fill-rule=\"evenodd\" fill-opacity=\"1\" /><path clip-path=\"url(#clip620)\" d=\"M2230.08 1474.31 Q2226.93 1474.31 2225.08 1476.46 Q2223.25 1478.61 2223.25 1482.36 Q2223.25 1486.09 2225.08 1488.27 Q2226.93 1490.42 2230.08 1490.42 Q2233.23 1490.42 2235.06 1488.27 Q2236.91 1486.09 2236.91 1482.36 Q2236.91 1478.61 2235.06 1476.46 Q2233.23 1474.31 2230.08 1474.31 M2239.36 1459.66 L2239.36 1463.91 Q2237.6 1463.08 2235.8 1462.64 Q2234.02 1462.2 2232.26 1462.2 Q2227.63 1462.2 2225.17 1465.33 Q2222.74 1468.45 2222.4 1474.77 Q2223.76 1472.76 2225.82 1471.69 Q2227.88 1470.6 2230.36 1470.6 Q2235.57 1470.6 2238.58 1473.78 Q2241.61 1476.92 2241.61 1482.36 Q2241.61 1487.69 2238.46 1490.91 Q2235.31 1494.12 2230.08 1494.12 Q2224.09 1494.12 2220.91 1489.54 Q2217.74 1484.93 2217.74 1476.21 Q2217.74 1468.01 2221.63 1463.15 Q2225.52 1458.27 2232.07 1458.27 Q2233.83 1458.27 2235.61 1458.61 Q2237.42 1458.96 2239.36 1459.66 Z\" fill=\"#4c4c4c\" fill-rule=\"evenodd\" fill-opacity=\"1\" /><path clip-path=\"url(#clip620)\" d=\"M1321.59 1532.4 L1308.7 1549.74 L1322.26 1568.04 L1315.36 1568.04 L1304.98 1554.04 L1294.6 1568.04 L1287.7 1568.04 L1301.54 1549.39 L1288.87 1532.4 L1295.78 1532.4 L1305.23 1545.1 L1314.69 1532.4 L1321.59 1532.4 Z\" fill=\"#000000\" fill-rule=\"evenodd\" fill-opacity=\"1\" /><polyline clip-path=\"url(#clip622)\" style=\"stroke:#ffffff; stroke-linecap:butt; stroke-linejoin:round; stroke-width:4; stroke-opacity:1; fill:none\" points=\"\n  257.204,1386.44 2352.76,1386.44 \n  \"/>\n<polyline clip-path=\"url(#clip622)\" style=\"stroke:#ffffff; stroke-linecap:butt; stroke-linejoin:round; stroke-width:4; stroke-opacity:1; fill:none\" points=\"\n  257.204,1079.83 2352.76,1079.83 \n  \"/>\n<polyline clip-path=\"url(#clip622)\" style=\"stroke:#ffffff; stroke-linecap:butt; stroke-linejoin:round; stroke-width:4; stroke-opacity:1; fill:none\" points=\"\n  257.204,773.219 2352.76,773.219 \n  \"/>\n<polyline clip-path=\"url(#clip622)\" style=\"stroke:#ffffff; stroke-linecap:butt; stroke-linejoin:round; stroke-width:4; stroke-opacity:1; fill:none\" points=\"\n  257.204,466.607 2352.76,466.607 \n  \"/>\n<polyline clip-path=\"url(#clip622)\" style=\"stroke:#ffffff; stroke-linecap:butt; stroke-linejoin:round; stroke-width:4; stroke-opacity:1; fill:none\" points=\"\n  257.204,159.995 2352.76,159.995 \n  \"/>\n<polyline clip-path=\"url(#clip622)\" style=\"stroke:#ffffff; stroke-linecap:butt; stroke-linejoin:round; stroke-width:2; stroke-opacity:1; fill:none\" points=\"\n  257.204,1233.14 2352.76,1233.14 \n  \"/>\n<polyline clip-path=\"url(#clip622)\" style=\"stroke:#ffffff; stroke-linecap:butt; stroke-linejoin:round; stroke-width:2; stroke-opacity:1; fill:none\" points=\"\n  257.204,926.525 2352.76,926.525 \n  \"/>\n<polyline clip-path=\"url(#clip622)\" style=\"stroke:#ffffff; stroke-linecap:butt; stroke-linejoin:round; stroke-width:2; stroke-opacity:1; fill:none\" points=\"\n  257.204,619.913 2352.76,619.913 \n  \"/>\n<polyline clip-path=\"url(#clip622)\" style=\"stroke:#ffffff; stroke-linecap:butt; stroke-linejoin:round; stroke-width:2; stroke-opacity:1; fill:none\" points=\"\n  257.204,313.301 2352.76,313.301 \n  \"/>\n<polyline clip-path=\"url(#clip620)\" style=\"stroke:#ffffff; stroke-linecap:butt; stroke-linejoin:round; stroke-width:4; stroke-opacity:1; fill:none\" points=\"\n  257.204,1423.18 257.204,123.472 \n  \"/>\n<polyline clip-path=\"url(#clip620)\" style=\"stroke:#333333; stroke-linecap:butt; stroke-linejoin:round; stroke-width:4; stroke-opacity:1; fill:none\" points=\"\n  257.204,1386.44 232.057,1386.44 \n  \"/>\n<polyline clip-path=\"url(#clip620)\" style=\"stroke:#333333; stroke-linecap:butt; stroke-linejoin:round; stroke-width:4; stroke-opacity:1; fill:none\" points=\"\n  257.204,1079.83 232.057,1079.83 \n  \"/>\n<polyline clip-path=\"url(#clip620)\" style=\"stroke:#333333; stroke-linecap:butt; stroke-linejoin:round; stroke-width:4; stroke-opacity:1; fill:none\" points=\"\n  257.204,773.219 232.057,773.219 \n  \"/>\n<polyline clip-path=\"url(#clip620)\" style=\"stroke:#333333; stroke-linecap:butt; stroke-linejoin:round; stroke-width:4; stroke-opacity:1; fill:none\" points=\"\n  257.204,466.607 232.057,466.607 \n  \"/>\n<polyline clip-path=\"url(#clip620)\" style=\"stroke:#333333; stroke-linecap:butt; stroke-linejoin:round; stroke-width:4; stroke-opacity:1; fill:none\" points=\"\n  257.204,159.995 232.057,159.995 \n  \"/>\n<polyline clip-path=\"url(#clip620)\" style=\"stroke:#333333; stroke-linecap:butt; stroke-linejoin:round; stroke-width:4; stroke-opacity:1; fill:none\" points=\"\n  257.204,1233.14 244.631,1233.14 \n  \"/>\n<polyline clip-path=\"url(#clip620)\" style=\"stroke:#333333; stroke-linecap:butt; stroke-linejoin:round; stroke-width:4; stroke-opacity:1; fill:none\" points=\"\n  257.204,926.525 244.631,926.525 \n  \"/>\n<polyline clip-path=\"url(#clip620)\" style=\"stroke:#333333; stroke-linecap:butt; stroke-linejoin:round; stroke-width:4; stroke-opacity:1; fill:none\" points=\"\n  257.204,619.913 244.631,619.913 \n  \"/>\n<polyline clip-path=\"url(#clip620)\" style=\"stroke:#333333; stroke-linecap:butt; stroke-linejoin:round; stroke-width:4; stroke-opacity:1; fill:none\" points=\"\n  257.204,313.301 244.631,313.301 \n  \"/>\n<path clip-path=\"url(#clip620)\" d=\"M96.2602 1386.89 L125.936 1386.89 L125.936 1390.83 L96.2602 1390.83 L96.2602 1386.89 Z\" fill=\"#4c4c4c\" fill-rule=\"evenodd\" fill-opacity=\"1\" /><path clip-path=\"url(#clip620)\" d=\"M136.839 1399.79 L144.477 1399.79 L144.477 1373.42 L136.167 1375.09 L136.167 1370.83 L144.431 1369.16 L149.107 1369.16 L149.107 1399.79 L156.746 1399.79 L156.746 1403.72 L136.839 1403.72 L136.839 1399.79 Z\" fill=\"#4c4c4c\" fill-rule=\"evenodd\" fill-opacity=\"1\" /><path clip-path=\"url(#clip620)\" d=\"M166.19 1397.84 L171.075 1397.84 L171.075 1403.72 L166.19 1403.72 L166.19 1397.84 Z\" fill=\"#4c4c4c\" fill-rule=\"evenodd\" fill-opacity=\"1\" /><path clip-path=\"url(#clip620)\" d=\"M191.26 1372.24 Q187.649 1372.24 185.82 1375.81 Q184.014 1379.35 184.014 1386.48 Q184.014 1393.58 185.82 1397.15 Q187.649 1400.69 191.26 1400.69 Q194.894 1400.69 196.699 1397.15 Q198.528 1393.58 198.528 1386.48 Q198.528 1379.35 196.699 1375.81 Q194.894 1372.24 191.26 1372.24 M191.26 1368.54 Q197.07 1368.54 200.125 1373.14 Q203.204 1377.73 203.204 1386.48 Q203.204 1395.2 200.125 1399.81 Q197.07 1404.39 191.26 1404.39 Q185.449 1404.39 182.371 1399.81 Q179.315 1395.2 179.315 1386.48 Q179.315 1377.73 182.371 1373.14 Q185.449 1368.54 191.26 1368.54 Z\" fill=\"#4c4c4c\" fill-rule=\"evenodd\" fill-opacity=\"1\" /><path clip-path=\"url(#clip620)\" d=\"M97.2555 1080.28 L126.931 1080.28 L126.931 1084.22 L97.2555 1084.22 L97.2555 1080.28 Z\" fill=\"#4c4c4c\" fill-rule=\"evenodd\" fill-opacity=\"1\" /><path clip-path=\"url(#clip620)\" d=\"M147.024 1065.63 Q143.413 1065.63 141.584 1069.19 Q139.778 1072.74 139.778 1079.87 Q139.778 1086.97 141.584 1090.54 Q143.413 1094.08 147.024 1094.08 Q150.658 1094.08 152.464 1090.54 Q154.292 1086.97 154.292 1079.87 Q154.292 1072.74 152.464 1069.19 Q150.658 1065.63 147.024 1065.63 M147.024 1061.93 Q152.834 1061.93 155.889 1066.53 Q158.968 1071.12 158.968 1079.87 Q158.968 1088.59 155.889 1093.2 Q152.834 1097.78 147.024 1097.78 Q141.214 1097.78 138.135 1093.2 Q135.079 1088.59 135.079 1079.87 Q135.079 1071.12 138.135 1066.53 Q141.214 1061.93 147.024 1061.93 Z\" fill=\"#4c4c4c\" fill-rule=\"evenodd\" fill-opacity=\"1\" /><path clip-path=\"url(#clip620)\" d=\"M167.186 1091.23 L172.07 1091.23 L172.07 1097.11 L167.186 1097.11 L167.186 1091.23 Z\" fill=\"#4c4c4c\" fill-rule=\"evenodd\" fill-opacity=\"1\" /><path clip-path=\"url(#clip620)\" d=\"M182.301 1062.55 L200.658 1062.55 L200.658 1066.49 L186.584 1066.49 L186.584 1074.96 Q187.602 1074.61 188.621 1074.45 Q189.639 1074.26 190.658 1074.26 Q196.445 1074.26 199.824 1077.43 Q203.204 1080.61 203.204 1086.02 Q203.204 1091.6 199.732 1094.7 Q196.26 1097.78 189.94 1097.78 Q187.764 1097.78 185.496 1097.41 Q183.25 1097.04 180.843 1096.3 L180.843 1091.6 Q182.926 1092.74 185.149 1093.29 Q187.371 1093.85 189.848 1093.85 Q193.852 1093.85 196.19 1091.74 Q198.528 1089.63 198.528 1086.02 Q198.528 1082.41 196.19 1080.31 Q193.852 1078.2 189.848 1078.2 Q187.973 1078.2 186.098 1078.62 Q184.246 1079.03 182.301 1079.91 L182.301 1062.55 Z\" fill=\"#4c4c4c\" fill-rule=\"evenodd\" fill-opacity=\"1\" /><path clip-path=\"url(#clip620)\" d=\"M146.028 759.017 Q142.417 759.017 140.589 762.582 Q138.783 766.124 138.783 773.253 Q138.783 780.36 140.589 783.925 Q142.417 787.466 146.028 787.466 Q149.663 787.466 151.468 783.925 Q153.297 780.36 153.297 773.253 Q153.297 766.124 151.468 762.582 Q149.663 759.017 146.028 759.017 M146.028 755.314 Q151.839 755.314 154.894 759.92 Q157.973 764.504 157.973 773.253 Q157.973 781.98 154.894 786.587 Q151.839 791.17 146.028 791.17 Q140.218 791.17 137.14 786.587 Q134.084 781.98 134.084 773.253 Q134.084 764.504 137.14 759.92 Q140.218 755.314 146.028 755.314 Z\" fill=\"#4c4c4c\" fill-rule=\"evenodd\" fill-opacity=\"1\" /><path clip-path=\"url(#clip620)\" d=\"M166.19 784.619 L171.075 784.619 L171.075 790.499 L166.19 790.499 L166.19 784.619 Z\" fill=\"#4c4c4c\" fill-rule=\"evenodd\" fill-opacity=\"1\" /><path clip-path=\"url(#clip620)\" d=\"M191.26 759.017 Q187.649 759.017 185.82 762.582 Q184.014 766.124 184.014 773.253 Q184.014 780.36 185.82 783.925 Q187.649 787.466 191.26 787.466 Q194.894 787.466 196.699 783.925 Q198.528 780.36 198.528 773.253 Q198.528 766.124 196.699 762.582 Q194.894 759.017 191.26 759.017 M191.26 755.314 Q197.07 755.314 200.125 759.92 Q203.204 764.504 203.204 773.253 Q203.204 781.98 200.125 786.587 Q197.07 791.17 191.26 791.17 Q185.449 791.17 182.371 786.587 Q179.315 781.98 179.315 773.253 Q179.315 764.504 182.371 759.92 Q185.449 755.314 191.26 755.314 Z\" fill=\"#4c4c4c\" fill-rule=\"evenodd\" fill-opacity=\"1\" /><path clip-path=\"url(#clip620)\" d=\"M147.024 452.405 Q143.413 452.405 141.584 455.97 Q139.778 459.512 139.778 466.642 Q139.778 473.748 141.584 477.313 Q143.413 480.854 147.024 480.854 Q150.658 480.854 152.464 477.313 Q154.292 473.748 154.292 466.642 Q154.292 459.512 152.464 455.97 Q150.658 452.405 147.024 452.405 M147.024 448.702 Q152.834 448.702 155.889 453.308 Q158.968 457.892 158.968 466.642 Q158.968 475.368 155.889 479.975 Q152.834 484.558 147.024 484.558 Q141.214 484.558 138.135 479.975 Q135.079 475.368 135.079 466.642 Q135.079 457.892 138.135 453.308 Q141.214 448.702 147.024 448.702 Z\" fill=\"#4c4c4c\" fill-rule=\"evenodd\" fill-opacity=\"1\" /><path clip-path=\"url(#clip620)\" d=\"M167.186 478.007 L172.07 478.007 L172.07 483.887 L167.186 483.887 L167.186 478.007 Z\" fill=\"#4c4c4c\" fill-rule=\"evenodd\" fill-opacity=\"1\" /><path clip-path=\"url(#clip620)\" d=\"M182.301 449.327 L200.658 449.327 L200.658 453.262 L186.584 453.262 L186.584 461.734 Q187.602 461.387 188.621 461.225 Q189.639 461.04 190.658 461.04 Q196.445 461.04 199.824 464.211 Q203.204 467.382 203.204 472.799 Q203.204 478.378 199.732 481.479 Q196.26 484.558 189.94 484.558 Q187.764 484.558 185.496 484.188 Q183.25 483.817 180.843 483.077 L180.843 478.378 Q182.926 479.512 185.149 480.067 Q187.371 480.623 189.848 480.623 Q193.852 480.623 196.19 478.516 Q198.528 476.41 198.528 472.799 Q198.528 469.188 196.19 467.081 Q193.852 464.975 189.848 464.975 Q187.973 464.975 186.098 465.392 Q184.246 465.808 182.301 466.688 L182.301 449.327 Z\" fill=\"#4c4c4c\" fill-rule=\"evenodd\" fill-opacity=\"1\" /><path clip-path=\"url(#clip620)\" d=\"M136.839 173.34 L144.477 173.34 L144.477 146.974 L136.167 148.641 L136.167 144.381 L144.431 142.715 L149.107 142.715 L149.107 173.34 L156.746 173.34 L156.746 177.275 L136.839 177.275 L136.839 173.34 Z\" fill=\"#4c4c4c\" fill-rule=\"evenodd\" fill-opacity=\"1\" /><path clip-path=\"url(#clip620)\" d=\"M166.19 171.395 L171.075 171.395 L171.075 177.275 L166.19 177.275 L166.19 171.395 Z\" fill=\"#4c4c4c\" fill-rule=\"evenodd\" fill-opacity=\"1\" /><path clip-path=\"url(#clip620)\" d=\"M191.26 145.794 Q187.649 145.794 185.82 149.358 Q184.014 152.9 184.014 160.03 Q184.014 167.136 185.82 170.701 Q187.649 174.242 191.26 174.242 Q194.894 174.242 196.699 170.701 Q198.528 167.136 198.528 160.03 Q198.528 152.9 196.699 149.358 Q194.894 145.794 191.26 145.794 M191.26 142.09 Q197.07 142.09 200.125 146.696 Q203.204 151.28 203.204 160.03 Q203.204 168.756 200.125 173.363 Q197.07 177.946 191.26 177.946 Q185.449 177.946 182.371 173.363 Q179.315 168.756 179.315 160.03 Q179.315 151.28 182.371 146.696 Q185.449 142.09 191.26 142.09 Z\" fill=\"#4c4c4c\" fill-rule=\"evenodd\" fill-opacity=\"1\" /><path clip-path=\"url(#clip620)\" d=\"M67.3143 771.639 Q73.68 774.122 75.6216 776.477 Q77.5631 778.832 77.5631 782.779 L77.5631 787.458 L72.6615 787.458 L72.6615 784.02 Q72.6615 781.601 71.5157 780.265 Q70.3699 778.928 66.1048 777.305 L63.4312 776.254 L28.3562 790.673 L28.3562 784.466 L56.238 773.326 L28.3562 762.186 L28.3562 755.979 L67.3143 771.639 Z\" fill=\"#000000\" fill-rule=\"evenodd\" fill-opacity=\"1\" /><path clip-path=\"url(#clip620)\" d=\"M541.547 63.9476 L541.547 47.7034 L528.179 47.7034 L528.179 40.9789 L549.648 40.9789 L549.648 66.9452 Q544.909 70.3075 539.197 72.0494 Q533.485 73.7508 527.004 73.7508 Q512.826 73.7508 504.805 65.4869 Q496.825 57.1826 496.825 42.3968 Q496.825 27.5705 504.805 19.3066 Q512.826 11.0023 527.004 11.0023 Q532.918 11.0023 538.225 12.4606 Q543.572 13.9189 548.069 16.7545 L548.069 25.464 Q543.532 21.6156 538.427 19.6712 Q533.323 17.7268 527.692 17.7268 Q516.593 17.7268 511.003 23.9246 Q505.453 30.1225 505.453 42.3968 Q505.453 54.6305 511.003 60.8284 Q516.593 67.0263 527.692 67.0263 Q532.027 67.0263 535.43 66.2971 Q538.832 65.5274 541.547 63.9476 Z\" fill=\"#000000\" fill-rule=\"evenodd\" fill-opacity=\"1\" /><path clip-path=\"url(#clip620)\" d=\"M590.562 34.1734 Q589.307 33.4443 587.808 33.1202 Q586.35 32.7556 584.567 32.7556 Q578.248 32.7556 574.845 36.8875 Q571.483 40.9789 571.483 48.6757 L571.483 72.576 L563.989 72.576 L563.989 27.2059 L571.483 27.2059 L571.483 34.2544 Q573.832 30.1225 577.6 28.1376 Q581.367 26.1121 586.755 26.1121 Q587.524 26.1121 588.456 26.2337 Q589.388 26.3147 590.522 26.5172 L590.562 34.1734 Z\" fill=\"#000000\" fill-rule=\"evenodd\" fill-opacity=\"1\" /><path clip-path=\"url(#clip620)\" d=\"M619 49.7694 Q609.966 49.7694 606.483 51.8354 Q602.999 53.9013 602.999 58.8839 Q602.999 62.8538 605.591 65.2034 Q608.224 67.5124 612.721 67.5124 Q618.919 67.5124 622.646 63.1374 Q626.413 58.7219 626.413 51.4303 L626.413 49.7694 L619 49.7694 M633.867 46.6907 L633.867 72.576 L626.413 72.576 L626.413 65.6895 Q623.861 69.8214 620.053 71.8063 Q616.245 73.7508 610.736 73.7508 Q603.768 73.7508 599.637 69.8619 Q595.545 65.9325 595.545 59.3701 Q595.545 51.7138 600.649 47.825 Q605.794 43.9361 615.962 43.9361 L626.413 43.9361 L626.413 43.2069 Q626.413 38.0623 623.01 35.2672 Q619.648 32.4315 613.531 32.4315 Q609.642 32.4315 605.956 33.3632 Q602.27 34.295 598.867 36.1584 L598.867 29.2718 Q602.958 27.692 606.807 26.9223 Q610.655 26.1121 614.301 26.1121 Q624.144 26.1121 629.006 31.2163 Q633.867 36.3204 633.867 46.6907 M620.256 6.22219 L628.317 6.22219 L615.111 21.4536 L608.913 21.4536 L620.256 6.22219 Z\" fill=\"#000000\" fill-rule=\"evenodd\" fill-opacity=\"1\" /><path clip-path=\"url(#clip620)\" d=\"M672.188 9.54393 L672.188 15.7418 L665.059 15.7418 Q661.048 15.7418 659.468 17.3622 Q657.929 18.9825 657.929 23.1955 L657.929 27.2059 L670.203 27.2059 L670.203 32.9987 L657.929 32.9987 L657.929 72.576 L650.435 72.576 L650.435 32.9987 L643.305 32.9987 L643.305 27.2059 L650.435 27.2059 L650.435 24.0462 Q650.435 16.471 653.959 13.0277 Q657.483 9.54393 665.14 9.54393 L672.188 9.54393 Z\" fill=\"#000000\" fill-rule=\"evenodd\" fill-opacity=\"1\" /><path clip-path=\"url(#clip620)\" d=\"M678.427 27.2059 L685.88 27.2059 L685.88 72.576 L678.427 72.576 L678.427 27.2059 M678.427 9.54393 L685.88 9.54393 L685.88 18.9825 L678.427 18.9825 L678.427 9.54393 Z\" fill=\"#000000\" fill-rule=\"evenodd\" fill-opacity=\"1\" /><path clip-path=\"url(#clip620)\" d=\"M734.127 28.9478 L734.127 35.9153 Q730.967 34.1734 727.767 33.3227 Q724.607 32.4315 721.366 32.4315 Q714.115 32.4315 710.105 37.0496 Q706.094 41.6271 706.094 49.9314 Q706.094 58.2358 710.105 62.8538 Q714.115 67.4314 721.366 67.4314 Q724.607 67.4314 727.767 66.5807 Q730.967 65.6895 734.127 63.9476 L734.127 70.8341 Q731.007 72.2924 727.645 73.0216 Q724.323 73.7508 720.556 73.7508 Q710.307 73.7508 704.271 67.3098 Q698.236 60.8689 698.236 49.9314 Q698.236 38.832 704.312 32.472 Q710.429 26.1121 721.042 26.1121 Q724.485 26.1121 727.767 26.8413 Q731.048 27.5299 734.127 28.9478 Z\" fill=\"#000000\" fill-rule=\"evenodd\" fill-opacity=\"1\" /><path clip-path=\"url(#clip620)\" d=\"M764.67 32.4315 Q758.675 32.4315 755.191 37.1306 Q751.707 41.7891 751.707 49.9314 Q751.707 58.0738 755.151 62.7728 Q758.635 67.4314 764.67 67.4314 Q770.625 67.4314 774.109 62.7323 Q777.593 58.0333 777.593 49.9314 Q777.593 41.8701 774.109 37.1711 Q770.625 32.4315 764.67 32.4315 M764.67 26.1121 Q774.393 26.1121 779.942 32.4315 Q785.492 38.7509 785.492 49.9314 Q785.492 61.0714 779.942 67.4314 Q774.393 73.7508 764.67 73.7508 Q754.908 73.7508 749.358 67.4314 Q743.849 61.0714 743.849 49.9314 Q743.849 38.7509 749.358 32.4315 Q754.908 26.1121 764.67 26.1121 Z\" fill=\"#000000\" fill-rule=\"evenodd\" fill-opacity=\"1\" /><path clip-path=\"url(#clip620)\" d=\"M854.074 34.0924 L854.074 9.54393 L861.527 9.54393 L861.527 72.576 L854.074 72.576 L854.074 65.7705 Q851.724 69.8214 848.119 71.8063 Q844.554 73.7508 839.531 73.7508 Q831.308 73.7508 826.123 67.1883 Q820.978 60.6258 820.978 49.9314 Q820.978 39.2371 826.123 32.6746 Q831.308 26.1121 839.531 26.1121 Q844.554 26.1121 848.119 28.0971 Q851.724 30.0415 854.074 34.0924 M828.675 49.9314 Q828.675 58.1548 832.037 62.8538 Q835.44 67.5124 841.354 67.5124 Q847.268 67.5124 850.671 62.8538 Q854.074 58.1548 854.074 49.9314 Q854.074 41.7081 850.671 37.0496 Q847.268 32.3505 841.354 32.3505 Q835.44 32.3505 832.037 37.0496 Q828.675 41.7081 828.675 49.9314 Z\" fill=\"#000000\" fill-rule=\"evenodd\" fill-opacity=\"1\" /><path clip-path=\"url(#clip620)\" d=\"M915.688 48.0275 L915.688 51.6733 L881.417 51.6733 Q881.904 59.3701 886.035 63.421 Q890.208 67.4314 897.621 67.4314 Q901.915 67.4314 905.925 66.3781 Q909.976 65.3249 913.946 63.2184 L913.946 70.267 Q909.936 71.9684 905.723 72.8596 Q901.51 73.7508 897.175 73.7508 Q886.319 73.7508 879.959 67.4314 Q873.64 61.1119 873.64 50.3365 Q873.64 39.1965 879.635 32.6746 Q885.671 26.1121 895.879 26.1121 Q905.034 26.1121 910.341 32.0264 Q915.688 37.9003 915.688 48.0275 M908.234 45.84 Q908.153 39.7232 904.791 36.0774 Q901.469 32.4315 895.96 32.4315 Q889.722 32.4315 885.954 35.9558 Q882.228 39.4801 881.66 45.8805 L908.234 45.84 Z\" fill=\"#000000\" fill-rule=\"evenodd\" fill-opacity=\"1\" /><path clip-path=\"url(#clip620)\" d=\"M973.17 76.7889 Q970.011 84.8907 967.013 87.3618 Q964.015 89.8329 958.992 89.8329 L953.037 89.8329 L953.037 83.5945 L957.412 83.5945 Q960.491 83.5945 962.192 82.1361 Q963.894 80.6778 965.96 75.2496 L967.297 71.8468 L948.946 27.2059 L956.845 27.2059 L971.023 62.6918 L985.202 27.2059 L993.101 27.2059 L973.17 76.7889 Z\" fill=\"#000000\" fill-rule=\"evenodd\" fill-opacity=\"1\" /><path clip-path=\"url(#clip620)\" d=\"M1004.36 34.9026 L1056.29 34.9026 L1056.29 41.7081 L1004.36 41.7081 L1004.36 34.9026 M1004.36 51.4303 L1056.29 51.4303 L1056.29 58.3168 L1004.36 58.3168 L1004.36 51.4303 Z\" fill=\"#000000\" fill-rule=\"evenodd\" fill-opacity=\"1\" /><path clip-path=\"url(#clip620)\" d=\"M1101.83 28.5427 L1101.83 35.5912 Q1098.67 33.9709 1095.26 33.1607 Q1091.86 32.3505 1088.22 32.3505 Q1082.67 32.3505 1079.87 34.0519 Q1077.12 35.7533 1077.12 39.156 Q1077.12 41.7486 1079.1 43.2475 Q1081.09 44.7058 1087.08 46.0426 L1089.63 46.6097 Q1097.57 48.3111 1100.9 51.4303 Q1104.26 54.509 1104.26 60.0587 Q1104.26 66.3781 1099.23 70.0644 Q1094.25 73.7508 1085.5 73.7508 Q1081.86 73.7508 1077.89 73.0216 Q1073.96 72.3329 1069.58 70.9151 L1069.58 63.2184 Q1073.71 65.3654 1077.72 66.4591 Q1081.73 67.5124 1085.66 67.5124 Q1090.93 67.5124 1093.77 65.73 Q1096.6 63.9071 1096.6 60.6258 Q1096.6 57.5877 1094.54 55.9673 Q1092.51 54.3469 1085.58 52.8481 L1082.99 52.2405 Q1076.06 50.7821 1072.98 47.7845 Q1069.91 44.7463 1069.91 39.4801 Q1069.91 33.0797 1074.44 29.5959 Q1078.98 26.1121 1087.32 26.1121 Q1091.46 26.1121 1095.1 26.7198 Q1098.75 27.3274 1101.83 28.5427 Z\" fill=\"#000000\" fill-rule=\"evenodd\" fill-opacity=\"1\" /><path clip-path=\"url(#clip620)\" d=\"M1116.13 27.2059 L1123.58 27.2059 L1123.58 72.576 L1116.13 72.576 L1116.13 27.2059 M1116.13 9.54393 L1123.58 9.54393 L1123.58 18.9825 L1116.13 18.9825 L1116.13 9.54393 Z\" fill=\"#000000\" fill-rule=\"evenodd\" fill-opacity=\"1\" /><path clip-path=\"url(#clip620)\" d=\"M1176.89 45.1919 L1176.89 72.576 L1169.44 72.576 L1169.44 45.4349 Q1169.44 38.994 1166.93 35.7938 Q1164.41 32.5936 1159.39 32.5936 Q1153.35 32.5936 1149.87 36.4419 Q1146.39 40.2903 1146.39 46.9338 L1146.39 72.576 L1138.89 72.576 L1138.89 27.2059 L1146.39 27.2059 L1146.39 34.2544 Q1149.06 30.163 1152.67 28.1376 Q1156.31 26.1121 1161.05 26.1121 Q1168.87 26.1121 1172.88 30.9732 Q1176.89 35.7938 1176.89 45.1919 Z\" fill=\"#000000\" fill-rule=\"evenodd\" fill-opacity=\"1\" /><path clip-path=\"url(#clip620)\" d=\"M1209.66 9.62495 Q1204.23 18.942 1201.6 28.0566 Q1198.97 37.1711 1198.97 46.5287 Q1198.97 55.8863 1201.6 65.0818 Q1204.27 74.2369 1209.66 83.5134 L1203.18 83.5134 Q1197.1 73.9938 1194.07 64.7983 Q1191.07 55.6027 1191.07 46.5287 Q1191.07 37.4952 1194.07 28.3401 Q1197.06 19.1851 1203.18 9.62495 L1209.66 9.62495 Z\" fill=\"#000000\" fill-rule=\"evenodd\" fill-opacity=\"1\" /><path clip-path=\"url(#clip620)\" d=\"M1261.84 27.2059 L1245.43 49.2833 L1262.69 72.576 L1253.9 72.576 L1240.69 54.752 L1227.49 72.576 L1218.7 72.576 L1236.32 48.8377 L1220.19 27.2059 L1228.99 27.2059 L1241.02 43.369 L1253.05 27.2059 L1261.84 27.2059 Z\" fill=\"#000000\" fill-rule=\"evenodd\" fill-opacity=\"1\" /><path clip-path=\"url(#clip620)\" d=\"M1272.05 9.62495 L1278.53 9.62495 Q1284.6 19.1851 1287.6 28.3401 Q1290.64 37.4952 1290.64 46.5287 Q1290.64 55.6027 1287.6 64.7983 Q1284.6 73.9938 1278.53 83.5134 L1272.05 83.5134 Q1277.43 74.2369 1280.07 65.0818 Q1282.74 55.8863 1282.74 46.5287 Q1282.74 37.1711 1280.07 28.0566 Q1277.43 18.942 1272.05 9.62495 Z\" fill=\"#000000\" fill-rule=\"evenodd\" fill-opacity=\"1\" /><path clip-path=\"url(#clip620)\" d=\"M1369.67 45.1919 L1369.67 72.576 L1362.22 72.576 L1362.22 45.4349 Q1362.22 38.994 1359.71 35.7938 Q1357.2 32.5936 1352.17 32.5936 Q1346.14 32.5936 1342.65 36.4419 Q1339.17 40.2903 1339.17 46.9338 L1339.17 72.576 L1331.68 72.576 L1331.68 27.2059 L1339.17 27.2059 L1339.17 34.2544 Q1341.84 30.163 1345.45 28.1376 Q1349.09 26.1121 1353.83 26.1121 Q1361.65 26.1121 1365.66 30.9732 Q1369.67 35.7938 1369.67 45.1919 Z\" fill=\"#000000\" fill-rule=\"evenodd\" fill-opacity=\"1\" /><path clip-path=\"url(#clip620)\" d=\"M1402.12 32.4315 Q1396.13 32.4315 1392.64 37.1306 Q1389.16 41.7891 1389.16 49.9314 Q1389.16 58.0738 1392.6 62.7728 Q1396.08 67.4314 1402.12 67.4314 Q1408.08 67.4314 1411.56 62.7323 Q1415.04 58.0333 1415.04 49.9314 Q1415.04 41.8701 1411.56 37.1711 Q1408.08 32.4315 1402.12 32.4315 M1402.12 26.1121 Q1411.84 26.1121 1417.39 32.4315 Q1422.94 38.7509 1422.94 49.9314 Q1422.94 61.0714 1417.39 67.4314 Q1411.84 73.7508 1402.12 73.7508 Q1392.36 73.7508 1386.81 67.4314 Q1381.3 61.0714 1381.3 49.9314 Q1381.3 38.7509 1386.81 32.4315 Q1392.36 26.1121 1402.12 26.1121 Z\" fill=\"#000000\" fill-rule=\"evenodd\" fill-opacity=\"1\" /><path clip-path=\"url(#clip620)\" d=\"M1461.67 27.2059 L1469.12 27.2059 L1469.12 72.576 L1461.67 72.576 L1461.67 27.2059 M1461.67 9.54393 L1469.12 9.54393 L1469.12 18.9825 L1461.67 18.9825 L1461.67 9.54393 Z\" fill=\"#000000\" fill-rule=\"evenodd\" fill-opacity=\"1\" /><path clip-path=\"url(#clip620)\" d=\"M1522.43 45.1919 L1522.43 72.576 L1514.98 72.576 L1514.98 45.4349 Q1514.98 38.994 1512.47 35.7938 Q1509.96 32.5936 1504.93 32.5936 Q1498.9 32.5936 1495.41 36.4419 Q1491.93 40.2903 1491.93 46.9338 L1491.93 72.576 L1484.44 72.576 L1484.44 27.2059 L1491.93 27.2059 L1491.93 34.2544 Q1494.6 30.163 1498.21 28.1376 Q1501.85 26.1121 1506.59 26.1121 Q1514.41 26.1121 1518.42 30.9732 Q1522.43 35.7938 1522.43 45.1919 Z\" fill=\"#000000\" fill-rule=\"evenodd\" fill-opacity=\"1\" /><path clip-path=\"url(#clip620)\" d=\"M1544.67 14.324 L1544.67 27.2059 L1560.02 27.2059 L1560.02 32.9987 L1544.67 32.9987 L1544.67 57.6282 Q1544.67 63.1779 1546.17 64.7578 Q1547.71 66.3376 1552.37 66.3376 L1560.02 66.3376 L1560.02 72.576 L1552.37 72.576 Q1543.74 72.576 1540.46 69.3758 Q1537.18 66.1351 1537.18 57.6282 L1537.18 32.9987 L1531.71 32.9987 L1531.71 27.2059 L1537.18 27.2059 L1537.18 14.324 L1544.67 14.324 Z\" fill=\"#000000\" fill-rule=\"evenodd\" fill-opacity=\"1\" /><path clip-path=\"url(#clip620)\" d=\"M1608.64 48.0275 L1608.64 51.6733 L1574.37 51.6733 Q1574.85 59.3701 1578.98 63.421 Q1583.16 67.4314 1590.57 67.4314 Q1594.86 67.4314 1598.87 66.3781 Q1602.92 65.3249 1606.89 63.2184 L1606.89 70.267 Q1602.88 71.9684 1598.67 72.8596 Q1594.46 73.7508 1590.12 73.7508 Q1579.27 73.7508 1572.91 67.4314 Q1566.59 61.1119 1566.59 50.3365 Q1566.59 39.1965 1572.58 32.6746 Q1578.62 26.1121 1588.83 26.1121 Q1597.98 26.1121 1603.29 32.0264 Q1608.64 37.9003 1608.64 48.0275 M1601.18 45.84 Q1601.1 39.7232 1597.74 36.0774 Q1594.42 32.4315 1588.91 32.4315 Q1582.67 32.4315 1578.9 35.9558 Q1575.18 39.4801 1574.61 45.8805 L1601.18 45.84 Z\" fill=\"#000000\" fill-rule=\"evenodd\" fill-opacity=\"1\" /><path clip-path=\"url(#clip620)\" d=\"M1647.16 34.1734 Q1645.9 33.4443 1644.41 33.1202 Q1642.95 32.7556 1641.16 32.7556 Q1634.85 32.7556 1631.44 36.8875 Q1628.08 40.9789 1628.08 48.6757 L1628.08 72.576 L1620.59 72.576 L1620.59 27.2059 L1628.08 27.2059 L1628.08 34.2544 Q1630.43 30.1225 1634.2 28.1376 Q1637.96 26.1121 1643.35 26.1121 Q1644.12 26.1121 1645.05 26.2337 Q1645.99 26.3147 1647.12 26.5172 L1647.16 34.1734 Z\" fill=\"#000000\" fill-rule=\"evenodd\" fill-opacity=\"1\" /><path clip-path=\"url(#clip620)\" d=\"M1649.63 27.2059 L1657.53 27.2059 L1671.71 65.2844 L1685.89 27.2059 L1693.79 27.2059 L1676.77 72.576 L1666.64 72.576 L1649.63 27.2059 Z\" fill=\"#000000\" fill-rule=\"evenodd\" fill-opacity=\"1\" /><path clip-path=\"url(#clip620)\" d=\"M1724.69 49.7694 Q1715.66 49.7694 1712.18 51.8354 Q1708.69 53.9013 1708.69 58.8839 Q1708.69 62.8538 1711.29 65.2034 Q1713.92 67.5124 1718.42 67.5124 Q1724.61 67.5124 1728.34 63.1374 Q1732.11 58.7219 1732.11 51.4303 L1732.11 49.7694 L1724.69 49.7694 M1739.56 46.6907 L1739.56 72.576 L1732.11 72.576 L1732.11 65.6895 Q1729.56 69.8214 1725.75 71.8063 Q1721.94 73.7508 1716.43 73.7508 Q1709.46 73.7508 1705.33 69.8619 Q1701.24 65.9325 1701.24 59.3701 Q1701.24 51.7138 1706.34 47.825 Q1711.49 43.9361 1721.66 43.9361 L1732.11 43.9361 L1732.11 43.2069 Q1732.11 38.0623 1728.7 35.2672 Q1725.34 32.4315 1719.23 32.4315 Q1715.34 32.4315 1711.65 33.3632 Q1707.96 34.295 1704.56 36.1584 L1704.56 29.2718 Q1708.65 27.692 1712.5 26.9223 Q1716.35 26.1121 1720 26.1121 Q1729.84 26.1121 1734.7 31.2163 Q1739.56 36.3204 1739.56 46.6907 Z\" fill=\"#000000\" fill-rule=\"evenodd\" fill-opacity=\"1\" /><path clip-path=\"url(#clip620)\" d=\"M1754.91 9.54393 L1762.37 9.54393 L1762.37 72.576 L1754.91 72.576 L1754.91 9.54393 Z\" fill=\"#000000\" fill-rule=\"evenodd\" fill-opacity=\"1\" /><path clip-path=\"url(#clip620)\" d=\"M1795.54 32.4315 Q1789.55 32.4315 1786.07 37.1306 Q1782.58 41.7891 1782.58 49.9314 Q1782.58 58.0738 1786.02 62.7728 Q1789.51 67.4314 1795.54 67.4314 Q1801.5 67.4314 1804.98 62.7323 Q1808.47 58.0333 1808.47 49.9314 Q1808.47 41.8701 1804.98 37.1711 Q1801.5 32.4315 1795.54 32.4315 M1795.54 26.1121 Q1805.27 26.1121 1810.82 32.4315 Q1816.37 38.7509 1816.37 49.9314 Q1816.37 61.0714 1810.82 67.4314 Q1805.27 73.7508 1795.54 73.7508 Q1785.78 73.7508 1780.23 67.4314 Q1774.72 61.0714 1774.72 49.9314 Q1774.72 38.7509 1780.23 32.4315 Q1785.78 26.1121 1795.54 26.1121 Z\" fill=\"#000000\" fill-rule=\"evenodd\" fill-opacity=\"1\" /><path clip-path=\"url(#clip620)\" d=\"M1873 9.62495 Q1867.57 18.942 1864.94 28.0566 Q1862.3 37.1711 1862.3 46.5287 Q1862.3 55.8863 1864.94 65.0818 Q1867.61 74.2369 1873 83.5134 L1866.52 83.5134 Q1860.44 73.9938 1857.4 64.7983 Q1854.4 55.6027 1854.4 46.5287 Q1854.4 37.4952 1857.4 28.3401 Q1860.4 19.1851 1866.52 9.62495 L1873 9.62495 Z\" fill=\"#000000\" fill-rule=\"evenodd\" fill-opacity=\"1\" /><path clip-path=\"url(#clip620)\" d=\"M1906.01 17.4837 Q1899.69 17.4837 1896.49 23.7221 Q1893.33 29.92 1893.33 42.3968 Q1893.33 54.833 1896.49 61.0714 Q1899.69 67.2693 1906.01 67.2693 Q1912.37 67.2693 1915.53 61.0714 Q1918.73 54.833 1918.73 42.3968 Q1918.73 29.92 1915.53 23.7221 Q1912.37 17.4837 1906.01 17.4837 M1906.01 11.0023 Q1916.18 11.0023 1921.53 19.0636 Q1926.92 27.0843 1926.92 42.3968 Q1926.92 57.6687 1921.53 65.73 Q1916.18 73.7508 1906.01 73.7508 Q1895.84 73.7508 1890.46 65.73 Q1885.11 57.6687 1885.11 42.3968 Q1885.11 27.0843 1890.46 19.0636 Q1895.84 11.0023 1906.01 11.0023 Z\" fill=\"#000000\" fill-rule=\"evenodd\" fill-opacity=\"1\" /><path clip-path=\"url(#clip620)\" d=\"M1942.15 62.2867 L1950.69 62.2867 L1950.69 69.2543 L1944.05 82.2172 L1938.82 82.2172 L1942.15 69.2543 L1942.15 62.2867 Z\" fill=\"#000000\" fill-rule=\"evenodd\" fill-opacity=\"1\" /><path clip-path=\"url(#clip620)\" d=\"M2001.09 65.6895 L2029.65 65.6895 L2029.65 72.576 L1991.24 72.576 L1991.24 65.6895 Q1995.9 60.8689 2003.92 52.7671 Q2011.98 44.6248 2014.05 42.2752 Q2017.98 37.8598 2019.52 34.8216 Q2021.1 31.7429 2021.1 28.7857 Q2021.1 23.9651 2017.7 20.927 Q2014.33 17.8888 2008.91 17.8888 Q2005.06 17.8888 2000.76 19.2256 Q1996.51 20.5624 1991.65 23.2765 L1991.65 15.0127 Q1996.59 13.0277 2000.88 12.015 Q2005.18 11.0023 2008.74 11.0023 Q2018.14 11.0023 2023.73 15.7013 Q2029.32 20.4004 2029.32 28.2591 Q2029.32 31.9859 2027.9 35.3482 Q2026.53 38.6699 2022.84 43.2069 Q2021.83 44.3817 2016.4 50.0125 Q2010.97 55.6027 2001.09 65.6895 Z\" fill=\"#000000\" fill-rule=\"evenodd\" fill-opacity=\"1\" /><path clip-path=\"url(#clip620)\" d=\"M2040.95 27.2059 L2084.41 27.2059 L2084.41 34.6595 L2078.7 34.6595 L2078.7 62.5298 Q2078.7 65.4464 2079.67 66.7427 Q2080.69 67.9985 2082.92 67.9985 Q2083.52 67.9985 2084.41 67.9175 Q2085.31 67.7959 2085.59 67.7554 L2085.59 73.1431 Q2084.17 73.6697 2082.67 73.9128 Q2081.17 74.1559 2079.67 74.1559 Q2074.81 74.1559 2072.95 71.5228 Q2071.09 68.8492 2071.09 61.7196 L2071.09 34.6595 L2054.36 34.6595 L2054.36 72.576 L2046.74 72.576 L2046.74 34.6595 L2040.95 34.6595 L2040.95 27.2059 Z\" fill=\"#000000\" fill-rule=\"evenodd\" fill-opacity=\"1\" /><path clip-path=\"url(#clip620)\" d=\"M2094.54 9.62495 L2101.02 9.62495 Q2107.1 19.1851 2110.1 28.3401 Q2113.14 37.4952 2113.14 46.5287 Q2113.14 55.6027 2110.1 64.7983 Q2107.1 73.9938 2101.02 83.5134 L2094.54 83.5134 Q2099.93 74.2369 2102.56 65.0818 Q2105.24 55.8863 2105.24 46.5287 Q2105.24 37.1711 2102.56 28.0566 Q2099.93 18.942 2094.54 9.62495 Z\" fill=\"#000000\" fill-rule=\"evenodd\" fill-opacity=\"1\" /><polyline clip-path=\"url(#clip622)\" style=\"stroke:#009af9; stroke-linecap:butt; stroke-linejoin:round; stroke-width:4; stroke-opacity:1; fill:none\" points=\"\n  316.512,773.219 348.398,711.999 380.284,651.39 412.17,591.999 444.056,534.418 475.942,479.224 507.828,426.966 539.715,378.169 571.601,333.319 603.487,292.864 \n  635.373,257.209 667.259,226.709 699.145,201.67 731.031,182.342 762.917,168.917 794.803,161.531 826.689,160.256 858.575,165.106 890.461,176.032 922.347,192.925 \n  954.233,215.616 986.119,243.878 1018.01,277.429 1049.89,315.934 1081.78,359.009 1113.66,406.221 1145.55,457.101 1177.44,511.139 1209.32,567.796 1241.21,626.505 \n  1273.09,686.681 1304.98,747.721 1336.87,809.015 1368.75,869.952 1400.64,929.923 1432.52,988.327 1464.41,1044.58 1496.3,1098.13 1528.18,1148.42 1560.07,1194.97 \n  1591.95,1237.31 1623.84,1275.01 1655.73,1307.69 1687.61,1335.03 1719.5,1356.76 1751.38,1372.66 1783.27,1382.57 1815.16,1386.4 1847.04,1384.09 1878.93,1375.68 \n  1910.82,1361.25 1942.7,1340.95 1974.59,1314.97 2006.47,1283.59 2038.36,1247.1 2070.25,1205.87 2102.13,1160.33 2134.02,1110.91 2165.9,1058.12 2197.79,1002.49 \n  2229.68,944.563 2261.56,884.925 2293.45,824.171 \n  \"/>\n<path clip-path=\"url(#clip620)\" d=\"\nM1854.81 270.476 L2282.9 270.476 L2282.9 166.796 L1854.81 166.796  Z\n  \" fill=\"#eaeaea\" fill-rule=\"evenodd\" fill-opacity=\"1\"/>\n<polyline clip-path=\"url(#clip620)\" style=\"stroke:#ffffff; stroke-linecap:butt; stroke-linejoin:round; stroke-width:4; stroke-opacity:1; fill:none\" points=\"\n  1854.81,270.476 2282.9,270.476 2282.9,166.796 1854.81,166.796 1854.81,270.476 \n  \"/>\n<polyline clip-path=\"url(#clip620)\" style=\"stroke:#009af9; stroke-linecap:butt; stroke-linejoin:round; stroke-width:4; stroke-opacity:1; fill:none\" points=\"\n  1878.1,218.636 2017.8,218.636 \n  \"/>\n<path clip-path=\"url(#clip620)\" d=\"M2054.93 238.323 Q2053.12 242.953 2051.41 244.365 Q2049.69 245.777 2046.82 245.777 L2043.42 245.777 L2043.42 242.212 L2045.92 242.212 Q2047.68 242.212 2048.65 241.379 Q2049.62 240.545 2050.8 237.443 L2051.57 235.499 L2041.08 209.99 L2045.6 209.99 L2053.7 230.268 L2061.8 209.99 L2066.31 209.99 L2054.93 238.323 Z\" fill=\"#000000\" fill-rule=\"evenodd\" fill-opacity=\"1\" /><path clip-path=\"url(#clip620)\" d=\"M2072.75 214.388 L2102.43 214.388 L2102.43 218.277 L2072.75 218.277 L2072.75 214.388 M2072.75 223.832 L2102.43 223.832 L2102.43 227.768 L2072.75 227.768 L2072.75 223.832 Z\" fill=\"#000000\" fill-rule=\"evenodd\" fill-opacity=\"1\" /><path clip-path=\"url(#clip620)\" d=\"M2128.44 210.754 L2128.44 214.782 Q2126.64 213.856 2124.69 213.393 Q2122.75 212.93 2120.67 212.93 Q2117.49 212.93 2115.9 213.902 Q2114.32 214.874 2114.32 216.819 Q2114.32 218.3 2115.46 219.157 Q2116.59 219.99 2120.02 220.754 L2121.48 221.078 Q2126.01 222.05 2127.91 223.832 Q2129.83 225.592 2129.83 228.763 Q2129.83 232.374 2126.96 234.481 Q2124.11 236.587 2119.11 236.587 Q2117.03 236.587 2114.76 236.17 Q2112.52 235.777 2110.02 234.967 L2110.02 230.569 Q2112.38 231.795 2114.67 232.42 Q2116.96 233.022 2119.21 233.022 Q2122.22 233.022 2123.84 232.004 Q2125.46 230.962 2125.46 229.087 Q2125.46 227.351 2124.28 226.425 Q2123.12 225.499 2119.16 224.643 L2117.68 224.295 Q2113.72 223.462 2111.96 221.749 Q2110.2 220.013 2110.2 217.004 Q2110.2 213.346 2112.8 211.356 Q2115.39 209.365 2120.16 209.365 Q2122.52 209.365 2124.6 209.712 Q2126.68 210.059 2128.44 210.754 Z\" fill=\"#000000\" fill-rule=\"evenodd\" fill-opacity=\"1\" /><path clip-path=\"url(#clip620)\" d=\"M2136.61 209.99 L2140.87 209.99 L2140.87 235.916 L2136.61 235.916 L2136.61 209.99 M2136.61 199.897 L2140.87 199.897 L2140.87 205.291 L2136.61 205.291 L2136.61 199.897 Z\" fill=\"#000000\" fill-rule=\"evenodd\" fill-opacity=\"1\" /><path clip-path=\"url(#clip620)\" d=\"M2171.34 220.268 L2171.34 235.916 L2167.08 235.916 L2167.08 220.407 Q2167.08 216.726 2165.64 214.897 Q2164.21 213.069 2161.34 213.069 Q2157.89 213.069 2155.9 215.268 Q2153.91 217.467 2153.91 221.263 L2153.91 235.916 L2149.62 235.916 L2149.62 209.99 L2153.91 209.99 L2153.91 214.018 Q2155.43 211.68 2157.49 210.522 Q2159.58 209.365 2162.29 209.365 Q2166.75 209.365 2169.05 212.143 Q2171.34 214.897 2171.34 220.268 Z\" fill=\"#000000\" fill-rule=\"evenodd\" fill-opacity=\"1\" /><path clip-path=\"url(#clip620)\" d=\"M2190.06 199.944 Q2186.96 205.268 2185.46 210.476 Q2183.95 215.684 2183.95 221.032 Q2183.95 226.379 2185.46 231.633 Q2186.98 236.865 2190.06 242.166 L2186.36 242.166 Q2182.89 236.726 2181.15 231.471 Q2179.44 226.217 2179.44 221.032 Q2179.44 215.87 2181.15 210.638 Q2182.86 205.407 2186.36 199.944 L2190.06 199.944 Z\" fill=\"#000000\" fill-rule=\"evenodd\" fill-opacity=\"1\" /><path clip-path=\"url(#clip620)\" d=\"M2219.88 209.99 L2210.5 222.606 L2220.36 235.916 L2215.34 235.916 L2207.79 225.731 L2200.25 235.916 L2195.23 235.916 L2205.29 222.351 L2196.08 209.99 L2201.11 209.99 L2207.98 219.226 L2214.85 209.99 L2219.88 209.99 Z\" fill=\"#000000\" fill-rule=\"evenodd\" fill-opacity=\"1\" /><path clip-path=\"url(#clip620)\" d=\"M2225.71 199.944 L2229.42 199.944 Q2232.89 205.407 2234.6 210.638 Q2236.34 215.87 2236.34 221.032 Q2236.34 226.217 2234.6 231.471 Q2232.89 236.726 2229.42 242.166 L2225.71 242.166 Q2228.79 236.865 2230.29 231.633 Q2231.82 226.379 2231.82 221.032 Q2231.82 215.684 2230.29 210.476 Q2228.79 205.268 2225.71 199.944 Z\" fill=\"#000000\" fill-rule=\"evenodd\" fill-opacity=\"1\" /></svg>\n"
     },
     "execution_count": 29,
     "metadata": {},
     "output_type": "execute_result"
    }
   ],
   "source": [
    "I = 0.0:0.1:2π\n",
    "plot(I, sin.(I), xaxis=\"x\", yaxis=\"y\", label=\"y=sin(x)\",\n",
    "    title=\"Gráfico de y=sin(x) no intervalo (0, 2π)\")"
   ]
  },
  {
   "cell_type": "code",
   "execution_count": 30,
   "metadata": {
    "slideshow": {
     "slide_type": "slide"
    }
   },
   "outputs": [
    {
     "data": {
      "image/svg+xml": "<?xml version=\"1.0\" encoding=\"utf-8\"?>\n<svg xmlns=\"http://www.w3.org/2000/svg\" xmlns:xlink=\"http://www.w3.org/1999/xlink\" width=\"600\" height=\"400\" viewBox=\"0 0 2400 1600\">\n<defs>\n  <clipPath id=\"clip660\">\n    <rect x=\"0\" y=\"0\" width=\"2400\" height=\"1600\"/>\n  </clipPath>\n</defs>\n<path clip-path=\"url(#clip660)\" d=\"\nM0 1600 L2400 1600 L2400 0 L0 0  Z\n  \" fill=\"#ffffff\" fill-rule=\"evenodd\" fill-opacity=\"1\"/>\n<defs>\n  <clipPath id=\"clip661\">\n    <rect x=\"480\" y=\"0\" width=\"1681\" height=\"1600\"/>\n  </clipPath>\n</defs>\n<path clip-path=\"url(#clip660)\" d=\"\nM257.204 1423.18 L2352.76 1423.18 L2352.76 123.472 L257.204 123.472  Z\n  \" fill=\"#eaeaea\" fill-rule=\"evenodd\" fill-opacity=\"1\"/>\n<defs>\n  <clipPath id=\"clip662\">\n    <rect x=\"257\" y=\"123\" width=\"2097\" height=\"1301\"/>\n  </clipPath>\n</defs>\n<polyline clip-path=\"url(#clip662)\" style=\"stroke:#ffffff; stroke-linecap:butt; stroke-linejoin:round; stroke-width:4; stroke-opacity:1; fill:none\" points=\"\n  316.512,1423.18 316.512,123.472 \n  \"/>\n<polyline clip-path=\"url(#clip662)\" style=\"stroke:#ffffff; stroke-linecap:butt; stroke-linejoin:round; stroke-width:4; stroke-opacity:1; fill:none\" points=\"\n  635.373,1423.18 635.373,123.472 \n  \"/>\n<polyline clip-path=\"url(#clip662)\" style=\"stroke:#ffffff; stroke-linecap:butt; stroke-linejoin:round; stroke-width:4; stroke-opacity:1; fill:none\" points=\"\n  954.233,1423.18 954.233,123.472 \n  \"/>\n<polyline clip-path=\"url(#clip662)\" style=\"stroke:#ffffff; stroke-linecap:butt; stroke-linejoin:round; stroke-width:4; stroke-opacity:1; fill:none\" points=\"\n  1273.09,1423.18 1273.09,123.472 \n  \"/>\n<polyline clip-path=\"url(#clip662)\" style=\"stroke:#ffffff; stroke-linecap:butt; stroke-linejoin:round; stroke-width:4; stroke-opacity:1; fill:none\" points=\"\n  1591.95,1423.18 1591.95,123.472 \n  \"/>\n<polyline clip-path=\"url(#clip662)\" style=\"stroke:#ffffff; stroke-linecap:butt; stroke-linejoin:round; stroke-width:4; stroke-opacity:1; fill:none\" points=\"\n  1910.82,1423.18 1910.82,123.472 \n  \"/>\n<polyline clip-path=\"url(#clip662)\" style=\"stroke:#ffffff; stroke-linecap:butt; stroke-linejoin:round; stroke-width:4; stroke-opacity:1; fill:none\" points=\"\n  2229.68,1423.18 2229.68,123.472 \n  \"/>\n<polyline clip-path=\"url(#clip662)\" style=\"stroke:#ffffff; stroke-linecap:butt; stroke-linejoin:round; stroke-width:2; stroke-opacity:1; fill:none\" points=\"\n  475.942,1423.18 475.942,123.472 \n  \"/>\n<polyline clip-path=\"url(#clip662)\" style=\"stroke:#ffffff; stroke-linecap:butt; stroke-linejoin:round; stroke-width:2; stroke-opacity:1; fill:none\" points=\"\n  794.803,1423.18 794.803,123.472 \n  \"/>\n<polyline clip-path=\"url(#clip662)\" style=\"stroke:#ffffff; stroke-linecap:butt; stroke-linejoin:round; stroke-width:2; stroke-opacity:1; fill:none\" points=\"\n  1113.66,1423.18 1113.66,123.472 \n  \"/>\n<polyline clip-path=\"url(#clip662)\" style=\"stroke:#ffffff; stroke-linecap:butt; stroke-linejoin:round; stroke-width:2; stroke-opacity:1; fill:none\" points=\"\n  1432.52,1423.18 1432.52,123.472 \n  \"/>\n<polyline clip-path=\"url(#clip662)\" style=\"stroke:#ffffff; stroke-linecap:butt; stroke-linejoin:round; stroke-width:2; stroke-opacity:1; fill:none\" points=\"\n  1751.38,1423.18 1751.38,123.472 \n  \"/>\n<polyline clip-path=\"url(#clip662)\" style=\"stroke:#ffffff; stroke-linecap:butt; stroke-linejoin:round; stroke-width:2; stroke-opacity:1; fill:none\" points=\"\n  2070.25,1423.18 2070.25,123.472 \n  \"/>\n<polyline clip-path=\"url(#clip660)\" style=\"stroke:#ffffff; stroke-linecap:butt; stroke-linejoin:round; stroke-width:4; stroke-opacity:1; fill:none\" points=\"\n  257.204,1423.18 2352.76,1423.18 \n  \"/>\n<polyline clip-path=\"url(#clip660)\" style=\"stroke:#333333; stroke-linecap:butt; stroke-linejoin:round; stroke-width:4; stroke-opacity:1; fill:none\" points=\"\n  316.512,1423.18 316.512,1438.78 \n  \"/>\n<polyline clip-path=\"url(#clip660)\" style=\"stroke:#333333; stroke-linecap:butt; stroke-linejoin:round; stroke-width:4; stroke-opacity:1; fill:none\" points=\"\n  635.373,1423.18 635.373,1438.78 \n  \"/>\n<polyline clip-path=\"url(#clip660)\" style=\"stroke:#333333; stroke-linecap:butt; stroke-linejoin:round; stroke-width:4; stroke-opacity:1; fill:none\" points=\"\n  954.233,1423.18 954.233,1438.78 \n  \"/>\n<polyline clip-path=\"url(#clip660)\" style=\"stroke:#333333; stroke-linecap:butt; stroke-linejoin:round; stroke-width:4; stroke-opacity:1; fill:none\" points=\"\n  1273.09,1423.18 1273.09,1438.78 \n  \"/>\n<polyline clip-path=\"url(#clip660)\" style=\"stroke:#333333; stroke-linecap:butt; stroke-linejoin:round; stroke-width:4; stroke-opacity:1; fill:none\" points=\"\n  1591.95,1423.18 1591.95,1438.78 \n  \"/>\n<polyline clip-path=\"url(#clip660)\" style=\"stroke:#333333; stroke-linecap:butt; stroke-linejoin:round; stroke-width:4; stroke-opacity:1; fill:none\" points=\"\n  1910.82,1423.18 1910.82,1438.78 \n  \"/>\n<polyline clip-path=\"url(#clip660)\" style=\"stroke:#333333; stroke-linecap:butt; stroke-linejoin:round; stroke-width:4; stroke-opacity:1; fill:none\" points=\"\n  2229.68,1423.18 2229.68,1438.78 \n  \"/>\n<polyline clip-path=\"url(#clip660)\" style=\"stroke:#333333; stroke-linecap:butt; stroke-linejoin:round; stroke-width:4; stroke-opacity:1; fill:none\" points=\"\n  475.942,1423.18 475.942,1430.98 \n  \"/>\n<polyline clip-path=\"url(#clip660)\" style=\"stroke:#333333; stroke-linecap:butt; stroke-linejoin:round; stroke-width:4; stroke-opacity:1; fill:none\" points=\"\n  794.803,1423.18 794.803,1430.98 \n  \"/>\n<polyline clip-path=\"url(#clip660)\" style=\"stroke:#333333; stroke-linecap:butt; stroke-linejoin:round; stroke-width:4; stroke-opacity:1; fill:none\" points=\"\n  1113.66,1423.18 1113.66,1430.98 \n  \"/>\n<polyline clip-path=\"url(#clip660)\" style=\"stroke:#333333; stroke-linecap:butt; stroke-linejoin:round; stroke-width:4; stroke-opacity:1; fill:none\" points=\"\n  1432.52,1423.18 1432.52,1430.98 \n  \"/>\n<polyline clip-path=\"url(#clip660)\" style=\"stroke:#333333; stroke-linecap:butt; stroke-linejoin:round; stroke-width:4; stroke-opacity:1; fill:none\" points=\"\n  1751.38,1423.18 1751.38,1430.98 \n  \"/>\n<polyline clip-path=\"url(#clip660)\" style=\"stroke:#333333; stroke-linecap:butt; stroke-linejoin:round; stroke-width:4; stroke-opacity:1; fill:none\" points=\"\n  2070.25,1423.18 2070.25,1430.98 \n  \"/>\n<path clip-path=\"url(#clip660)\" d=\"M316.512 1461.97 Q312.901 1461.97 311.072 1465.54 Q309.267 1469.08 309.267 1476.21 Q309.267 1483.31 311.072 1486.88 Q312.901 1490.42 316.512 1490.42 Q320.146 1490.42 321.952 1486.88 Q323.781 1483.31 323.781 1476.21 Q323.781 1469.08 321.952 1465.54 Q320.146 1461.97 316.512 1461.97 M316.512 1458.27 Q322.322 1458.27 325.378 1462.87 Q328.456 1467.46 328.456 1476.21 Q328.456 1484.93 325.378 1489.54 Q322.322 1494.12 316.512 1494.12 Q310.702 1494.12 307.623 1489.54 Q304.568 1484.93 304.568 1476.21 Q304.568 1467.46 307.623 1462.87 Q310.702 1458.27 316.512 1458.27 Z\" fill=\"#4c4c4c\" fill-rule=\"evenodd\" fill-opacity=\"1\" /><path clip-path=\"url(#clip660)\" d=\"M625.755 1489.52 L633.394 1489.52 L633.394 1463.15 L625.083 1464.82 L625.083 1460.56 L633.347 1458.89 L638.023 1458.89 L638.023 1489.52 L645.662 1489.52 L645.662 1493.45 L625.755 1493.45 L625.755 1489.52 Z\" fill=\"#4c4c4c\" fill-rule=\"evenodd\" fill-opacity=\"1\" /><path clip-path=\"url(#clip660)\" d=\"M948.886 1489.52 L965.205 1489.52 L965.205 1493.45 L943.261 1493.45 L943.261 1489.52 Q945.923 1486.76 950.506 1482.13 Q955.113 1477.48 956.293 1476.14 Q958.539 1473.61 959.418 1471.88 Q960.321 1470.12 960.321 1468.43 Q960.321 1465.67 958.377 1463.94 Q956.456 1462.2 953.354 1462.2 Q951.155 1462.2 948.701 1462.97 Q946.27 1463.73 943.493 1465.28 L943.493 1460.56 Q946.317 1459.42 948.77 1458.85 Q951.224 1458.27 953.261 1458.27 Q958.631 1458.27 961.826 1460.95 Q965.02 1463.64 965.02 1468.13 Q965.02 1470.26 964.21 1472.18 Q963.423 1474.08 961.317 1476.67 Q960.738 1477.34 957.636 1480.56 Q954.534 1483.75 948.886 1489.52 Z\" fill=\"#4c4c4c\" fill-rule=\"evenodd\" fill-opacity=\"1\" /><path clip-path=\"url(#clip660)\" d=\"M1277.34 1474.82 Q1280.7 1475.54 1282.57 1477.8 Q1284.47 1480.07 1284.47 1483.41 Q1284.47 1488.52 1280.95 1491.32 Q1277.43 1494.12 1270.95 1494.12 Q1268.78 1494.12 1266.46 1493.68 Q1264.17 1493.27 1261.72 1492.41 L1261.72 1487.9 Q1263.66 1489.03 1265.98 1489.61 Q1268.29 1490.19 1270.81 1490.19 Q1275.21 1490.19 1277.5 1488.45 Q1279.82 1486.72 1279.82 1483.41 Q1279.82 1480.35 1277.67 1478.64 Q1275.54 1476.9 1271.72 1476.9 L1267.69 1476.9 L1267.69 1473.06 L1271.9 1473.06 Q1275.35 1473.06 1277.18 1471.69 Q1279.01 1470.3 1279.01 1467.71 Q1279.01 1465.05 1277.11 1463.64 Q1275.24 1462.2 1271.72 1462.2 Q1269.8 1462.2 1267.6 1462.62 Q1265.4 1463.04 1262.76 1463.91 L1262.76 1459.75 Q1265.42 1459.01 1267.74 1458.64 Q1270.07 1458.27 1272.13 1458.27 Q1277.46 1458.27 1280.56 1460.7 Q1283.66 1463.1 1283.66 1467.23 Q1283.66 1470.1 1282.02 1472.09 Q1280.37 1474.05 1277.34 1474.82 Z\" fill=\"#4c4c4c\" fill-rule=\"evenodd\" fill-opacity=\"1\" /><path clip-path=\"url(#clip660)\" d=\"M1594.96 1462.97 L1583.16 1481.41 L1594.96 1481.41 L1594.96 1462.97 M1593.74 1458.89 L1599.62 1458.89 L1599.62 1481.41 L1604.55 1481.41 L1604.55 1485.3 L1599.62 1485.3 L1599.62 1493.45 L1594.96 1493.45 L1594.96 1485.3 L1579.36 1485.3 L1579.36 1480.79 L1593.74 1458.89 Z\" fill=\"#4c4c4c\" fill-rule=\"evenodd\" fill-opacity=\"1\" /><path clip-path=\"url(#clip660)\" d=\"M1901.09 1458.89 L1919.45 1458.89 L1919.45 1462.83 L1905.38 1462.83 L1905.38 1471.3 Q1906.39 1470.95 1907.41 1470.79 Q1908.43 1470.6 1909.45 1470.6 Q1915.24 1470.6 1918.62 1473.78 Q1922 1476.95 1922 1482.36 Q1922 1487.94 1918.52 1491.04 Q1915.05 1494.12 1908.73 1494.12 Q1906.56 1494.12 1904.29 1493.75 Q1902.04 1493.38 1899.63 1492.64 L1899.63 1487.94 Q1901.72 1489.08 1903.94 1489.63 Q1906.16 1490.19 1908.64 1490.19 Q1912.64 1490.19 1914.98 1488.08 Q1917.32 1485.98 1917.32 1482.36 Q1917.32 1478.75 1914.98 1476.65 Q1912.64 1474.54 1908.64 1474.54 Q1906.76 1474.54 1904.89 1474.96 Q1903.04 1475.37 1901.09 1476.25 L1901.09 1458.89 Z\" fill=\"#4c4c4c\" fill-rule=\"evenodd\" fill-opacity=\"1\" /><path clip-path=\"url(#clip660)\" d=\"M2230.08 1474.31 Q2226.93 1474.31 2225.08 1476.46 Q2223.25 1478.61 2223.25 1482.36 Q2223.25 1486.09 2225.08 1488.27 Q2226.93 1490.42 2230.08 1490.42 Q2233.23 1490.42 2235.06 1488.27 Q2236.91 1486.09 2236.91 1482.36 Q2236.91 1478.61 2235.06 1476.46 Q2233.23 1474.31 2230.08 1474.31 M2239.36 1459.66 L2239.36 1463.91 Q2237.6 1463.08 2235.8 1462.64 Q2234.02 1462.2 2232.26 1462.2 Q2227.63 1462.2 2225.17 1465.33 Q2222.74 1468.45 2222.4 1474.77 Q2223.76 1472.76 2225.82 1471.69 Q2227.88 1470.6 2230.36 1470.6 Q2235.57 1470.6 2238.58 1473.78 Q2241.61 1476.92 2241.61 1482.36 Q2241.61 1487.69 2238.46 1490.91 Q2235.31 1494.12 2230.08 1494.12 Q2224.09 1494.12 2220.91 1489.54 Q2217.74 1484.93 2217.74 1476.21 Q2217.74 1468.01 2221.63 1463.15 Q2225.52 1458.27 2232.07 1458.27 Q2233.83 1458.27 2235.61 1458.61 Q2237.42 1458.96 2239.36 1459.66 Z\" fill=\"#4c4c4c\" fill-rule=\"evenodd\" fill-opacity=\"1\" /><path clip-path=\"url(#clip660)\" d=\"M1321.59 1532.4 L1308.7 1549.74 L1322.26 1568.04 L1315.36 1568.04 L1304.98 1554.04 L1294.6 1568.04 L1287.7 1568.04 L1301.54 1549.39 L1288.87 1532.4 L1295.78 1532.4 L1305.23 1545.1 L1314.69 1532.4 L1321.59 1532.4 Z\" fill=\"#000000\" fill-rule=\"evenodd\" fill-opacity=\"1\" /><polyline clip-path=\"url(#clip662)\" style=\"stroke:#ffffff; stroke-linecap:butt; stroke-linejoin:round; stroke-width:4; stroke-opacity:1; fill:none\" points=\"\n  257.204,1386.44 2352.76,1386.44 \n  \"/>\n<polyline clip-path=\"url(#clip662)\" style=\"stroke:#ffffff; stroke-linecap:butt; stroke-linejoin:round; stroke-width:4; stroke-opacity:1; fill:none\" points=\"\n  257.204,1079.9 2352.76,1079.9 \n  \"/>\n<polyline clip-path=\"url(#clip662)\" style=\"stroke:#ffffff; stroke-linecap:butt; stroke-linejoin:round; stroke-width:4; stroke-opacity:1; fill:none\" points=\"\n  257.204,773.35 2352.76,773.35 \n  \"/>\n<polyline clip-path=\"url(#clip662)\" style=\"stroke:#ffffff; stroke-linecap:butt; stroke-linejoin:round; stroke-width:4; stroke-opacity:1; fill:none\" points=\"\n  257.204,466.803 2352.76,466.803 \n  \"/>\n<polyline clip-path=\"url(#clip662)\" style=\"stroke:#ffffff; stroke-linecap:butt; stroke-linejoin:round; stroke-width:4; stroke-opacity:1; fill:none\" points=\"\n  257.204,160.256 2352.76,160.256 \n  \"/>\n<polyline clip-path=\"url(#clip662)\" style=\"stroke:#ffffff; stroke-linecap:butt; stroke-linejoin:round; stroke-width:2; stroke-opacity:1; fill:none\" points=\"\n  257.204,1233.17 2352.76,1233.17 \n  \"/>\n<polyline clip-path=\"url(#clip662)\" style=\"stroke:#ffffff; stroke-linecap:butt; stroke-linejoin:round; stroke-width:2; stroke-opacity:1; fill:none\" points=\"\n  257.204,926.623 2352.76,926.623 \n  \"/>\n<polyline clip-path=\"url(#clip662)\" style=\"stroke:#ffffff; stroke-linecap:butt; stroke-linejoin:round; stroke-width:2; stroke-opacity:1; fill:none\" points=\"\n  257.204,620.076 2352.76,620.076 \n  \"/>\n<polyline clip-path=\"url(#clip662)\" style=\"stroke:#ffffff; stroke-linecap:butt; stroke-linejoin:round; stroke-width:2; stroke-opacity:1; fill:none\" points=\"\n  257.204,313.53 2352.76,313.53 \n  \"/>\n<polyline clip-path=\"url(#clip660)\" style=\"stroke:#ffffff; stroke-linecap:butt; stroke-linejoin:round; stroke-width:4; stroke-opacity:1; fill:none\" points=\"\n  257.204,1423.18 257.204,123.472 \n  \"/>\n<polyline clip-path=\"url(#clip660)\" style=\"stroke:#333333; stroke-linecap:butt; stroke-linejoin:round; stroke-width:4; stroke-opacity:1; fill:none\" points=\"\n  257.204,1386.44 232.057,1386.44 \n  \"/>\n<polyline clip-path=\"url(#clip660)\" style=\"stroke:#333333; stroke-linecap:butt; stroke-linejoin:round; stroke-width:4; stroke-opacity:1; fill:none\" points=\"\n  257.204,1079.9 232.057,1079.9 \n  \"/>\n<polyline clip-path=\"url(#clip660)\" style=\"stroke:#333333; stroke-linecap:butt; stroke-linejoin:round; stroke-width:4; stroke-opacity:1; fill:none\" points=\"\n  257.204,773.35 232.057,773.35 \n  \"/>\n<polyline clip-path=\"url(#clip660)\" style=\"stroke:#333333; stroke-linecap:butt; stroke-linejoin:round; stroke-width:4; stroke-opacity:1; fill:none\" points=\"\n  257.204,466.803 232.057,466.803 \n  \"/>\n<polyline clip-path=\"url(#clip660)\" style=\"stroke:#333333; stroke-linecap:butt; stroke-linejoin:round; stroke-width:4; stroke-opacity:1; fill:none\" points=\"\n  257.204,160.256 232.057,160.256 \n  \"/>\n<polyline clip-path=\"url(#clip660)\" style=\"stroke:#333333; stroke-linecap:butt; stroke-linejoin:round; stroke-width:4; stroke-opacity:1; fill:none\" points=\"\n  257.204,1233.17 244.631,1233.17 \n  \"/>\n<polyline clip-path=\"url(#clip660)\" style=\"stroke:#333333; stroke-linecap:butt; stroke-linejoin:round; stroke-width:4; stroke-opacity:1; fill:none\" points=\"\n  257.204,926.623 244.631,926.623 \n  \"/>\n<polyline clip-path=\"url(#clip660)\" style=\"stroke:#333333; stroke-linecap:butt; stroke-linejoin:round; stroke-width:4; stroke-opacity:1; fill:none\" points=\"\n  257.204,620.076 244.631,620.076 \n  \"/>\n<polyline clip-path=\"url(#clip660)\" style=\"stroke:#333333; stroke-linecap:butt; stroke-linejoin:round; stroke-width:4; stroke-opacity:1; fill:none\" points=\"\n  257.204,313.53 244.631,313.53 \n  \"/>\n<path clip-path=\"url(#clip660)\" d=\"M96.2602 1386.89 L125.936 1386.89 L125.936 1390.83 L96.2602 1390.83 L96.2602 1386.89 Z\" fill=\"#4c4c4c\" fill-rule=\"evenodd\" fill-opacity=\"1\" /><path clip-path=\"url(#clip660)\" d=\"M136.839 1399.79 L144.477 1399.79 L144.477 1373.42 L136.167 1375.09 L136.167 1370.83 L144.431 1369.16 L149.107 1369.16 L149.107 1399.79 L156.746 1399.79 L156.746 1403.72 L136.839 1403.72 L136.839 1399.79 Z\" fill=\"#4c4c4c\" fill-rule=\"evenodd\" fill-opacity=\"1\" /><path clip-path=\"url(#clip660)\" d=\"M166.19 1397.84 L171.075 1397.84 L171.075 1403.72 L166.19 1403.72 L166.19 1397.84 Z\" fill=\"#4c4c4c\" fill-rule=\"evenodd\" fill-opacity=\"1\" /><path clip-path=\"url(#clip660)\" d=\"M191.26 1372.24 Q187.649 1372.24 185.82 1375.81 Q184.014 1379.35 184.014 1386.48 Q184.014 1393.58 185.82 1397.15 Q187.649 1400.69 191.26 1400.69 Q194.894 1400.69 196.699 1397.15 Q198.528 1393.58 198.528 1386.48 Q198.528 1379.35 196.699 1375.81 Q194.894 1372.24 191.26 1372.24 M191.26 1368.54 Q197.07 1368.54 200.125 1373.14 Q203.204 1377.73 203.204 1386.48 Q203.204 1395.2 200.125 1399.81 Q197.07 1404.39 191.26 1404.39 Q185.449 1404.39 182.371 1399.81 Q179.315 1395.2 179.315 1386.48 Q179.315 1377.73 182.371 1373.14 Q185.449 1368.54 191.26 1368.54 Z\" fill=\"#4c4c4c\" fill-rule=\"evenodd\" fill-opacity=\"1\" /><path clip-path=\"url(#clip660)\" d=\"M97.2555 1080.35 L126.931 1080.35 L126.931 1084.28 L97.2555 1084.28 L97.2555 1080.35 Z\" fill=\"#4c4c4c\" fill-rule=\"evenodd\" fill-opacity=\"1\" /><path clip-path=\"url(#clip660)\" d=\"M147.024 1065.69 Q143.413 1065.69 141.584 1069.26 Q139.778 1072.8 139.778 1079.93 Q139.778 1087.04 141.584 1090.6 Q143.413 1094.14 147.024 1094.14 Q150.658 1094.14 152.464 1090.6 Q154.292 1087.04 154.292 1079.93 Q154.292 1072.8 152.464 1069.26 Q150.658 1065.69 147.024 1065.69 M147.024 1061.99 Q152.834 1061.99 155.889 1066.6 Q158.968 1071.18 158.968 1079.93 Q158.968 1088.66 155.889 1093.26 Q152.834 1097.85 147.024 1097.85 Q141.214 1097.85 138.135 1093.26 Q135.079 1088.66 135.079 1079.93 Q135.079 1071.18 138.135 1066.6 Q141.214 1061.99 147.024 1061.99 Z\" fill=\"#4c4c4c\" fill-rule=\"evenodd\" fill-opacity=\"1\" /><path clip-path=\"url(#clip660)\" d=\"M167.186 1091.3 L172.07 1091.3 L172.07 1097.18 L167.186 1097.18 L167.186 1091.3 Z\" fill=\"#4c4c4c\" fill-rule=\"evenodd\" fill-opacity=\"1\" /><path clip-path=\"url(#clip660)\" d=\"M182.301 1062.62 L200.658 1062.62 L200.658 1066.55 L186.584 1066.55 L186.584 1075.02 Q187.602 1074.68 188.621 1074.51 Q189.639 1074.33 190.658 1074.33 Q196.445 1074.33 199.824 1077.5 Q203.204 1080.67 203.204 1086.09 Q203.204 1091.67 199.732 1094.77 Q196.26 1097.85 189.94 1097.85 Q187.764 1097.85 185.496 1097.48 Q183.25 1097.11 180.843 1096.37 L180.843 1091.67 Q182.926 1092.8 185.149 1093.36 Q187.371 1093.91 189.848 1093.91 Q193.852 1093.91 196.19 1091.81 Q198.528 1089.7 198.528 1086.09 Q198.528 1082.48 196.19 1080.37 Q193.852 1078.26 189.848 1078.26 Q187.973 1078.26 186.098 1078.68 Q184.246 1079.1 182.301 1079.98 L182.301 1062.62 Z\" fill=\"#4c4c4c\" fill-rule=\"evenodd\" fill-opacity=\"1\" /><path clip-path=\"url(#clip660)\" d=\"M146.028 759.148 Q142.417 759.148 140.589 762.713 Q138.783 766.255 138.783 773.384 Q138.783 780.491 140.589 784.055 Q142.417 787.597 146.028 787.597 Q149.663 787.597 151.468 784.055 Q153.297 780.491 153.297 773.384 Q153.297 766.255 151.468 762.713 Q149.663 759.148 146.028 759.148 M146.028 755.445 Q151.839 755.445 154.894 760.051 Q157.973 764.634 157.973 773.384 Q157.973 782.111 154.894 786.717 Q151.839 791.301 146.028 791.301 Q140.218 791.301 137.14 786.717 Q134.084 782.111 134.084 773.384 Q134.084 764.634 137.14 760.051 Q140.218 755.445 146.028 755.445 Z\" fill=\"#4c4c4c\" fill-rule=\"evenodd\" fill-opacity=\"1\" /><path clip-path=\"url(#clip660)\" d=\"M166.19 784.75 L171.075 784.75 L171.075 790.63 L166.19 790.63 L166.19 784.75 Z\" fill=\"#4c4c4c\" fill-rule=\"evenodd\" fill-opacity=\"1\" /><path clip-path=\"url(#clip660)\" d=\"M191.26 759.148 Q187.649 759.148 185.82 762.713 Q184.014 766.255 184.014 773.384 Q184.014 780.491 185.82 784.055 Q187.649 787.597 191.26 787.597 Q194.894 787.597 196.699 784.055 Q198.528 780.491 198.528 773.384 Q198.528 766.255 196.699 762.713 Q194.894 759.148 191.26 759.148 M191.26 755.445 Q197.07 755.445 200.125 760.051 Q203.204 764.634 203.204 773.384 Q203.204 782.111 200.125 786.717 Q197.07 791.301 191.26 791.301 Q185.449 791.301 182.371 786.717 Q179.315 782.111 179.315 773.384 Q179.315 764.634 182.371 760.051 Q185.449 755.445 191.26 755.445 Z\" fill=\"#4c4c4c\" fill-rule=\"evenodd\" fill-opacity=\"1\" /><path clip-path=\"url(#clip660)\" d=\"M147.024 452.602 Q143.413 452.602 141.584 456.166 Q139.778 459.708 139.778 466.838 Q139.778 473.944 141.584 477.509 Q143.413 481.051 147.024 481.051 Q150.658 481.051 152.464 477.509 Q154.292 473.944 154.292 466.838 Q154.292 459.708 152.464 456.166 Q150.658 452.602 147.024 452.602 M147.024 448.898 Q152.834 448.898 155.889 453.504 Q158.968 458.088 158.968 466.838 Q158.968 475.564 155.889 480.171 Q152.834 484.754 147.024 484.754 Q141.214 484.754 138.135 480.171 Q135.079 475.564 135.079 466.838 Q135.079 458.088 138.135 453.504 Q141.214 448.898 147.024 448.898 Z\" fill=\"#4c4c4c\" fill-rule=\"evenodd\" fill-opacity=\"1\" /><path clip-path=\"url(#clip660)\" d=\"M167.186 478.203 L172.07 478.203 L172.07 484.083 L167.186 484.083 L167.186 478.203 Z\" fill=\"#4c4c4c\" fill-rule=\"evenodd\" fill-opacity=\"1\" /><path clip-path=\"url(#clip660)\" d=\"M182.301 449.523 L200.658 449.523 L200.658 453.458 L186.584 453.458 L186.584 461.93 Q187.602 461.583 188.621 461.421 Q189.639 461.236 190.658 461.236 Q196.445 461.236 199.824 464.407 Q203.204 467.578 203.204 472.995 Q203.204 478.574 199.732 481.676 Q196.26 484.754 189.94 484.754 Q187.764 484.754 185.496 484.384 Q183.25 484.013 180.843 483.273 L180.843 478.574 Q182.926 479.708 185.149 480.263 Q187.371 480.819 189.848 480.819 Q193.852 480.819 196.19 478.713 Q198.528 476.606 198.528 472.995 Q198.528 469.384 196.19 467.277 Q193.852 465.171 189.848 465.171 Q187.973 465.171 186.098 465.588 Q184.246 466.004 182.301 466.884 L182.301 449.523 Z\" fill=\"#4c4c4c\" fill-rule=\"evenodd\" fill-opacity=\"1\" /><path clip-path=\"url(#clip660)\" d=\"M136.839 173.601 L144.477 173.601 L144.477 147.236 L136.167 148.902 L136.167 144.643 L144.431 142.976 L149.107 142.976 L149.107 173.601 L156.746 173.601 L156.746 177.536 L136.839 177.536 L136.839 173.601 Z\" fill=\"#4c4c4c\" fill-rule=\"evenodd\" fill-opacity=\"1\" /><path clip-path=\"url(#clip660)\" d=\"M166.19 171.657 L171.075 171.657 L171.075 177.536 L166.19 177.536 L166.19 171.657 Z\" fill=\"#4c4c4c\" fill-rule=\"evenodd\" fill-opacity=\"1\" /><path clip-path=\"url(#clip660)\" d=\"M191.26 146.055 Q187.649 146.055 185.82 149.62 Q184.014 153.161 184.014 160.291 Q184.014 167.397 185.82 170.962 Q187.649 174.504 191.26 174.504 Q194.894 174.504 196.699 170.962 Q198.528 167.397 198.528 160.291 Q198.528 153.161 196.699 149.62 Q194.894 146.055 191.26 146.055 M191.26 142.351 Q197.07 142.351 200.125 146.958 Q203.204 151.541 203.204 160.291 Q203.204 169.018 200.125 173.624 Q197.07 178.208 191.26 178.208 Q185.449 178.208 182.371 173.624 Q179.315 169.018 179.315 160.291 Q179.315 151.541 182.371 146.958 Q185.449 142.351 191.26 142.351 Z\" fill=\"#4c4c4c\" fill-rule=\"evenodd\" fill-opacity=\"1\" /><path clip-path=\"url(#clip660)\" d=\"M67.3143 771.639 Q73.68 774.122 75.6216 776.477 Q77.5631 778.832 77.5631 782.779 L77.5631 787.458 L72.6615 787.458 L72.6615 784.02 Q72.6615 781.601 71.5157 780.265 Q70.3699 778.928 66.1048 777.305 L63.4312 776.254 L28.3562 790.673 L28.3562 784.466 L56.238 773.326 L28.3562 762.186 L28.3562 755.979 L67.3143 771.639 Z\" fill=\"#000000\" fill-rule=\"evenodd\" fill-opacity=\"1\" /><path clip-path=\"url(#clip660)\" d=\"M282.025 63.9476 L282.025 47.7034 L268.657 47.7034 L268.657 40.9789 L290.127 40.9789 L290.127 66.9452 Q285.388 70.3075 279.676 72.0494 Q273.964 73.7508 267.483 73.7508 Q253.304 73.7508 245.284 65.4869 Q237.303 57.1826 237.303 42.3968 Q237.303 27.5705 245.284 19.3066 Q253.304 11.0023 267.483 11.0023 Q273.397 11.0023 278.704 12.4606 Q284.051 13.9189 288.547 16.7545 L288.547 25.464 Q284.01 21.6156 278.906 19.6712 Q273.802 17.7268 268.171 17.7268 Q257.072 17.7268 251.482 23.9246 Q245.932 30.1225 245.932 42.3968 Q245.932 54.6305 251.482 60.8284 Q257.072 67.0263 268.171 67.0263 Q272.506 67.0263 275.909 66.2971 Q279.311 65.5274 282.025 63.9476 Z\" fill=\"#000000\" fill-rule=\"evenodd\" fill-opacity=\"1\" /><path clip-path=\"url(#clip660)\" d=\"M331.041 34.1734 Q329.786 33.4443 328.287 33.1202 Q326.828 32.7556 325.046 32.7556 Q318.727 32.7556 315.324 36.8875 Q311.962 40.9789 311.962 48.6757 L311.962 72.576 L304.467 72.576 L304.467 27.2059 L311.962 27.2059 L311.962 34.2544 Q314.311 30.1225 318.078 28.1376 Q321.846 26.1121 327.233 26.1121 Q328.003 26.1121 328.935 26.2337 Q329.867 26.3147 331.001 26.5172 L331.041 34.1734 Z\" fill=\"#000000\" fill-rule=\"evenodd\" fill-opacity=\"1\" /><path clip-path=\"url(#clip660)\" d=\"M359.479 49.7694 Q350.445 49.7694 346.961 51.8354 Q343.478 53.9013 343.478 58.8839 Q343.478 62.8538 346.07 65.2034 Q348.703 67.5124 353.2 67.5124 Q359.398 67.5124 363.124 63.1374 Q366.892 58.7219 366.892 51.4303 L366.892 49.7694 L359.479 49.7694 M374.345 46.6907 L374.345 72.576 L366.892 72.576 L366.892 65.6895 Q364.34 69.8214 360.532 71.8063 Q356.724 73.7508 351.215 73.7508 Q344.247 73.7508 340.115 69.8619 Q336.024 65.9325 336.024 59.3701 Q336.024 51.7138 341.128 47.825 Q346.273 43.9361 356.44 43.9361 L366.892 43.9361 L366.892 43.2069 Q366.892 38.0623 363.489 35.2672 Q360.127 32.4315 354.01 32.4315 Q350.121 32.4315 346.435 33.3632 Q342.748 34.295 339.346 36.1584 L339.346 29.2718 Q343.437 27.692 347.285 26.9223 Q351.134 26.1121 354.78 26.1121 Q364.623 26.1121 369.484 31.2163 Q374.345 36.3204 374.345 46.6907 M360.734 6.22219 L368.796 6.22219 L355.59 21.4536 L349.392 21.4536 L360.734 6.22219 Z\" fill=\"#000000\" fill-rule=\"evenodd\" fill-opacity=\"1\" /><path clip-path=\"url(#clip660)\" d=\"M412.667 9.54393 L412.667 15.7418 L405.537 15.7418 Q401.527 15.7418 399.947 17.3622 Q398.408 18.9825 398.408 23.1955 L398.408 27.2059 L410.682 27.2059 L410.682 32.9987 L398.408 32.9987 L398.408 72.576 L390.914 72.576 L390.914 32.9987 L383.784 32.9987 L383.784 27.2059 L390.914 27.2059 L390.914 24.0462 Q390.914 16.471 394.438 13.0277 Q397.962 9.54393 405.618 9.54393 L412.667 9.54393 Z\" fill=\"#000000\" fill-rule=\"evenodd\" fill-opacity=\"1\" /><path clip-path=\"url(#clip660)\" d=\"M418.905 27.2059 L426.359 27.2059 L426.359 72.576 L418.905 72.576 L418.905 27.2059 M418.905 9.54393 L426.359 9.54393 L426.359 18.9825 L418.905 18.9825 L418.905 9.54393 Z\" fill=\"#000000\" fill-rule=\"evenodd\" fill-opacity=\"1\" /><path clip-path=\"url(#clip660)\" d=\"M474.605 28.9478 L474.605 35.9153 Q471.446 34.1734 468.245 33.3227 Q465.086 32.4315 461.845 32.4315 Q454.594 32.4315 450.584 37.0496 Q446.573 41.6271 446.573 49.9314 Q446.573 58.2358 450.584 62.8538 Q454.594 67.4314 461.845 67.4314 Q465.086 67.4314 468.245 66.5807 Q471.446 65.6895 474.605 63.9476 L474.605 70.8341 Q471.486 72.2924 468.124 73.0216 Q464.802 73.7508 461.035 73.7508 Q450.786 73.7508 444.75 67.3098 Q438.714 60.8689 438.714 49.9314 Q438.714 38.832 444.791 32.472 Q450.908 26.1121 461.521 26.1121 Q464.964 26.1121 468.245 26.8413 Q471.527 27.5299 474.605 28.9478 Z\" fill=\"#000000\" fill-rule=\"evenodd\" fill-opacity=\"1\" /><path clip-path=\"url(#clip660)\" d=\"M505.149 32.4315 Q499.154 32.4315 495.67 37.1306 Q492.186 41.7891 492.186 49.9314 Q492.186 58.0738 495.63 62.7728 Q499.113 67.4314 505.149 67.4314 Q511.104 67.4314 514.588 62.7323 Q518.072 58.0333 518.072 49.9314 Q518.072 41.8701 514.588 37.1711 Q511.104 32.4315 505.149 32.4315 M505.149 26.1121 Q514.871 26.1121 520.421 32.4315 Q525.971 38.7509 525.971 49.9314 Q525.971 61.0714 520.421 67.4314 Q514.871 73.7508 505.149 73.7508 Q495.387 73.7508 489.837 67.4314 Q484.328 61.0714 484.328 49.9314 Q484.328 38.7509 489.837 32.4315 Q495.387 26.1121 505.149 26.1121 Z\" fill=\"#000000\" fill-rule=\"evenodd\" fill-opacity=\"1\" /><path clip-path=\"url(#clip660)\" d=\"M567.25 28.5427 L567.25 35.5912 Q564.09 33.9709 560.687 33.1607 Q557.284 32.3505 553.639 32.3505 Q548.089 32.3505 545.294 34.0519 Q542.539 35.7533 542.539 39.156 Q542.539 41.7486 544.524 43.2475 Q546.509 44.7058 552.504 46.0426 L555.056 46.6097 Q562.996 48.3111 566.318 51.4303 Q569.68 54.509 569.68 60.0587 Q569.68 66.3781 564.657 70.0644 Q559.674 73.7508 550.924 73.7508 Q547.279 73.7508 543.309 73.0216 Q539.379 72.3329 535.004 70.9151 L535.004 63.2184 Q539.136 65.3654 543.147 66.4591 Q547.157 67.5124 551.086 67.5124 Q556.353 67.5124 559.188 65.73 Q562.024 63.9071 562.024 60.6258 Q562.024 57.5877 559.958 55.9673 Q557.932 54.3469 551.005 52.8481 L548.413 52.2405 Q541.486 50.7821 538.407 47.7845 Q535.328 44.7463 535.328 39.4801 Q535.328 33.0797 539.865 29.5959 Q544.402 26.1121 552.747 26.1121 Q556.879 26.1121 560.525 26.7198 Q564.171 27.3274 567.25 28.5427 Z\" fill=\"#000000\" fill-rule=\"evenodd\" fill-opacity=\"1\" /><path clip-path=\"url(#clip660)\" d=\"M637.776 34.0924 L637.776 9.54393 L645.229 9.54393 L645.229 72.576 L637.776 72.576 L637.776 65.7705 Q635.426 69.8214 631.821 71.8063 Q628.256 73.7508 623.233 73.7508 Q615.01 73.7508 609.825 67.1883 Q604.68 60.6258 604.68 49.9314 Q604.68 39.2371 609.825 32.6746 Q615.01 26.1121 623.233 26.1121 Q628.256 26.1121 631.821 28.0971 Q635.426 30.0415 637.776 34.0924 M612.377 49.9314 Q612.377 58.1548 615.739 62.8538 Q619.142 67.5124 625.056 67.5124 Q630.97 67.5124 634.373 62.8538 Q637.776 58.1548 637.776 49.9314 Q637.776 41.7081 634.373 37.0496 Q630.97 32.3505 625.056 32.3505 Q619.142 32.3505 615.739 37.0496 Q612.377 41.7081 612.377 49.9314 Z\" fill=\"#000000\" fill-rule=\"evenodd\" fill-opacity=\"1\" /><path clip-path=\"url(#clip660)\" d=\"M699.39 48.0275 L699.39 51.6733 L665.119 51.6733 Q665.605 59.3701 669.737 63.421 Q673.91 67.4314 681.323 67.4314 Q685.617 67.4314 689.627 66.3781 Q693.678 65.3249 697.648 63.2184 L697.648 70.267 Q693.638 71.9684 689.425 72.8596 Q685.212 73.7508 680.877 73.7508 Q670.021 73.7508 663.661 67.4314 Q657.342 61.1119 657.342 50.3365 Q657.342 39.1965 663.337 32.6746 Q669.373 26.1121 679.581 26.1121 Q688.736 26.1121 694.043 32.0264 Q699.39 37.9003 699.39 48.0275 M691.936 45.84 Q691.855 39.7232 688.493 36.0774 Q685.171 32.4315 679.662 32.4315 Q673.424 32.4315 669.656 35.9558 Q665.93 39.4801 665.362 45.8805 L691.936 45.84 Z\" fill=\"#000000\" fill-rule=\"evenodd\" fill-opacity=\"1\" /><path clip-path=\"url(#clip660)\" d=\"M756.872 76.7889 Q753.713 84.8907 750.715 87.3618 Q747.717 89.8329 742.694 89.8329 L736.739 89.8329 L736.739 83.5945 L741.114 83.5945 Q744.193 83.5945 745.894 82.1361 Q747.596 80.6778 749.662 75.2496 L750.999 71.8468 L732.648 27.2059 L740.547 27.2059 L754.725 62.6918 L768.904 27.2059 L776.803 27.2059 L756.872 76.7889 Z\" fill=\"#000000\" fill-rule=\"evenodd\" fill-opacity=\"1\" /><path clip-path=\"url(#clip660)\" d=\"M788.064 34.9026 L839.997 34.9026 L839.997 41.7081 L788.064 41.7081 L788.064 34.9026 M788.064 51.4303 L839.997 51.4303 L839.997 58.3168 L788.064 58.3168 L788.064 51.4303 Z\" fill=\"#000000\" fill-rule=\"evenodd\" fill-opacity=\"1\" /><path clip-path=\"url(#clip660)\" d=\"M885.529 28.5427 L885.529 35.5912 Q882.369 33.9709 878.967 33.1607 Q875.564 32.3505 871.918 32.3505 Q866.368 32.3505 863.573 34.0519 Q860.819 35.7533 860.819 39.156 Q860.819 41.7486 862.804 43.2475 Q864.788 44.7058 870.784 46.0426 L873.336 46.6097 Q881.276 48.3111 884.597 51.4303 Q887.96 54.509 887.96 60.0587 Q887.96 66.3781 882.937 70.0644 Q877.954 73.7508 869.204 73.7508 Q865.558 73.7508 861.588 73.0216 Q857.659 72.3329 853.284 70.9151 L853.284 63.2184 Q857.416 65.3654 861.426 66.4591 Q865.437 67.5124 869.366 67.5124 Q874.632 67.5124 877.468 65.73 Q880.303 63.9071 880.303 60.6258 Q880.303 57.5877 878.237 55.9673 Q876.212 54.3469 869.285 52.8481 L866.692 52.2405 Q859.765 50.7821 856.687 47.7845 Q853.608 44.7463 853.608 39.4801 Q853.608 33.0797 858.145 29.5959 Q862.682 26.1121 871.027 26.1121 Q875.159 26.1121 878.805 26.7198 Q882.45 27.3274 885.529 28.5427 Z\" fill=\"#000000\" fill-rule=\"evenodd\" fill-opacity=\"1\" /><path clip-path=\"url(#clip660)\" d=\"M899.829 27.2059 L907.282 27.2059 L907.282 72.576 L899.829 72.576 L899.829 27.2059 M899.829 9.54393 L907.282 9.54393 L907.282 18.9825 L899.829 18.9825 L899.829 9.54393 Z\" fill=\"#000000\" fill-rule=\"evenodd\" fill-opacity=\"1\" /><path clip-path=\"url(#clip660)\" d=\"M960.592 45.1919 L960.592 72.576 L953.139 72.576 L953.139 45.4349 Q953.139 38.994 950.627 35.7938 Q948.116 32.5936 943.092 32.5936 Q937.057 32.5936 933.573 36.4419 Q930.089 40.2903 930.089 46.9338 L930.089 72.576 L922.595 72.576 L922.595 27.2059 L930.089 27.2059 L930.089 34.2544 Q932.763 30.163 936.368 28.1376 Q940.014 26.1121 944.753 26.1121 Q952.572 26.1121 956.582 30.9732 Q960.592 35.7938 960.592 45.1919 Z\" fill=\"#000000\" fill-rule=\"evenodd\" fill-opacity=\"1\" /><path clip-path=\"url(#clip660)\" d=\"M993.364 9.62495 Q987.936 18.942 985.303 28.0566 Q982.67 37.1711 982.67 46.5287 Q982.67 55.8863 985.303 65.0818 Q987.976 74.2369 993.364 83.5134 L986.883 83.5134 Q980.806 73.9938 977.768 64.7983 Q974.771 55.6027 974.771 46.5287 Q974.771 37.4952 977.768 28.3401 Q980.766 19.1851 986.883 9.62495 L993.364 9.62495 Z\" fill=\"#000000\" fill-rule=\"evenodd\" fill-opacity=\"1\" /><path clip-path=\"url(#clip660)\" d=\"M1045.54 27.2059 L1029.13 49.2833 L1046.39 72.576 L1037.6 72.576 L1024.39 54.752 L1011.19 72.576 L1002.4 72.576 L1020.02 48.8377 L1003.9 27.2059 L1012.69 27.2059 L1024.72 43.369 L1036.75 27.2059 L1045.54 27.2059 Z\" fill=\"#000000\" fill-rule=\"evenodd\" fill-opacity=\"1\" /><path clip-path=\"url(#clip660)\" d=\"M1055.75 9.62495 L1062.23 9.62495 Q1068.31 19.1851 1071.3 28.3401 Q1074.34 37.4952 1074.34 46.5287 Q1074.34 55.6027 1071.3 64.7983 Q1068.31 73.9938 1062.23 83.5134 L1055.75 83.5134 Q1061.14 74.2369 1063.77 65.0818 Q1066.44 55.8863 1066.44 46.5287 Q1066.44 37.1711 1063.77 28.0566 Q1061.14 18.942 1055.75 9.62495 Z\" fill=\"#000000\" fill-rule=\"evenodd\" fill-opacity=\"1\" /><path clip-path=\"url(#clip660)\" d=\"M1154.47 48.0275 L1154.47 51.6733 L1120.2 51.6733 Q1120.68 59.3701 1124.82 63.421 Q1128.99 67.4314 1136.4 67.4314 Q1140.7 67.4314 1144.71 66.3781 Q1148.76 65.3249 1152.73 63.2184 L1152.73 70.267 Q1148.72 71.9684 1144.5 72.8596 Q1140.29 73.7508 1135.96 73.7508 Q1125.1 73.7508 1118.74 67.4314 Q1112.42 61.1119 1112.42 50.3365 Q1112.42 39.1965 1118.42 32.6746 Q1124.45 26.1121 1134.66 26.1121 Q1143.81 26.1121 1149.12 32.0264 Q1154.47 37.9003 1154.47 48.0275 M1147.01 45.84 Q1146.93 39.7232 1143.57 36.0774 Q1140.25 32.4315 1134.74 32.4315 Q1128.5 32.4315 1124.73 35.9558 Q1121.01 39.4801 1120.44 45.8805 L1147.01 45.84 Z\" fill=\"#000000\" fill-rule=\"evenodd\" fill-opacity=\"1\" /><path clip-path=\"url(#clip660)\" d=\"M1211.95 76.7889 Q1208.79 84.8907 1205.79 87.3618 Q1202.8 89.8329 1197.77 89.8329 L1191.82 89.8329 L1191.82 83.5945 L1196.19 83.5945 Q1199.27 83.5945 1200.97 82.1361 Q1202.67 80.6778 1204.74 75.2496 L1206.08 71.8468 L1187.73 27.2059 L1195.63 27.2059 L1209.8 62.6918 L1223.98 27.2059 L1231.88 27.2059 L1211.95 76.7889 Z\" fill=\"#000000\" fill-rule=\"evenodd\" fill-opacity=\"1\" /><path clip-path=\"url(#clip660)\" d=\"M1243.14 34.9026 L1295.08 34.9026 L1295.08 41.7081 L1243.14 41.7081 L1243.14 34.9026 M1243.14 51.4303 L1295.08 51.4303 L1295.08 58.3168 L1243.14 58.3168 L1243.14 51.4303 Z\" fill=\"#000000\" fill-rule=\"evenodd\" fill-opacity=\"1\" /><path clip-path=\"url(#clip660)\" d=\"M1344.33 28.9478 L1344.33 35.9153 Q1341.17 34.1734 1337.97 33.3227 Q1334.81 32.4315 1331.57 32.4315 Q1324.32 32.4315 1320.31 37.0496 Q1316.3 41.6271 1316.3 49.9314 Q1316.3 58.2358 1320.31 62.8538 Q1324.32 67.4314 1331.57 67.4314 Q1334.81 67.4314 1337.97 66.5807 Q1341.17 65.6895 1344.33 63.9476 L1344.33 70.8341 Q1341.22 72.2924 1337.85 73.0216 Q1334.53 73.7508 1330.76 73.7508 Q1320.52 73.7508 1314.48 67.3098 Q1308.44 60.8689 1308.44 49.9314 Q1308.44 38.832 1314.52 32.472 Q1320.64 26.1121 1331.25 26.1121 Q1334.69 26.1121 1337.97 26.8413 Q1341.26 27.5299 1344.33 28.9478 Z\" fill=\"#000000\" fill-rule=\"evenodd\" fill-opacity=\"1\" /><path clip-path=\"url(#clip660)\" d=\"M1374.88 32.4315 Q1368.88 32.4315 1365.4 37.1306 Q1361.92 41.7891 1361.92 49.9314 Q1361.92 58.0738 1365.36 62.7728 Q1368.84 67.4314 1374.88 67.4314 Q1380.83 67.4314 1384.32 62.7323 Q1387.8 58.0333 1387.8 49.9314 Q1387.8 41.8701 1384.32 37.1711 Q1380.83 32.4315 1374.88 32.4315 M1374.88 26.1121 Q1384.6 26.1121 1390.15 32.4315 Q1395.7 38.7509 1395.7 49.9314 Q1395.7 61.0714 1390.15 67.4314 Q1384.6 73.7508 1374.88 73.7508 Q1365.12 73.7508 1359.57 67.4314 Q1354.06 61.0714 1354.06 49.9314 Q1354.06 38.7509 1359.57 32.4315 Q1365.12 26.1121 1374.88 26.1121 Z\" fill=\"#000000\" fill-rule=\"evenodd\" fill-opacity=\"1\" /><path clip-path=\"url(#clip660)\" d=\"M1436.98 28.5427 L1436.98 35.5912 Q1433.82 33.9709 1430.42 33.1607 Q1427.01 32.3505 1423.37 32.3505 Q1417.82 32.3505 1415.02 34.0519 Q1412.27 35.7533 1412.27 39.156 Q1412.27 41.7486 1414.25 43.2475 Q1416.24 44.7058 1422.23 46.0426 L1424.79 46.6097 Q1432.73 48.3111 1436.05 51.4303 Q1439.41 54.509 1439.41 60.0587 Q1439.41 66.3781 1434.39 70.0644 Q1429.4 73.7508 1420.65 73.7508 Q1417.01 73.7508 1413.04 73.0216 Q1409.11 72.3329 1404.73 70.9151 L1404.73 63.2184 Q1408.87 65.3654 1412.88 66.4591 Q1416.89 67.5124 1420.82 67.5124 Q1426.08 67.5124 1428.92 65.73 Q1431.75 63.9071 1431.75 60.6258 Q1431.75 57.5877 1429.69 55.9673 Q1427.66 54.3469 1420.73 52.8481 L1418.14 52.2405 Q1411.21 50.7821 1408.14 47.7845 Q1405.06 44.7463 1405.06 39.4801 Q1405.06 33.0797 1409.59 29.5959 Q1414.13 26.1121 1422.48 26.1121 Q1426.61 26.1121 1430.25 26.7198 Q1433.9 27.3274 1436.98 28.5427 Z\" fill=\"#000000\" fill-rule=\"evenodd\" fill-opacity=\"1\" /><path clip-path=\"url(#clip660)\" d=\"M1469.18 9.62495 Q1463.76 18.942 1461.12 28.0566 Q1458.49 37.1711 1458.49 46.5287 Q1458.49 55.8863 1461.12 65.0818 Q1463.8 74.2369 1469.18 83.5134 L1462.7 83.5134 Q1456.63 73.9938 1453.59 64.7983 Q1450.59 55.6027 1450.59 46.5287 Q1450.59 37.4952 1453.59 28.3401 Q1456.59 19.1851 1462.7 9.62495 L1469.18 9.62495 Z\" fill=\"#000000\" fill-rule=\"evenodd\" fill-opacity=\"1\" /><path clip-path=\"url(#clip660)\" d=\"M1521.36 27.2059 L1504.95 49.2833 L1522.21 72.576 L1513.42 72.576 L1500.21 54.752 L1487.01 72.576 L1478.22 72.576 L1495.84 48.8377 L1479.72 27.2059 L1488.51 27.2059 L1500.54 43.369 L1512.57 27.2059 L1521.36 27.2059 Z\" fill=\"#000000\" fill-rule=\"evenodd\" fill-opacity=\"1\" /><path clip-path=\"url(#clip660)\" d=\"M1531.57 9.62495 L1538.05 9.62495 Q1544.13 19.1851 1547.12 28.3401 Q1550.16 37.4952 1550.16 46.5287 Q1550.16 55.6027 1547.12 64.7983 Q1544.13 73.9938 1538.05 83.5134 L1531.57 83.5134 Q1536.95 74.2369 1539.59 65.0818 Q1542.26 55.8863 1542.26 46.5287 Q1542.26 37.1711 1539.59 28.0566 Q1536.95 18.942 1531.57 9.62495 Z\" fill=\"#000000\" fill-rule=\"evenodd\" fill-opacity=\"1\" /><path clip-path=\"url(#clip660)\" d=\"M1629.19 45.1919 L1629.19 72.576 L1621.74 72.576 L1621.74 45.4349 Q1621.74 38.994 1619.23 35.7938 Q1616.72 32.5936 1611.69 32.5936 Q1605.66 32.5936 1602.17 36.4419 Q1598.69 40.2903 1598.69 46.9338 L1598.69 72.576 L1591.2 72.576 L1591.2 27.2059 L1598.69 27.2059 L1598.69 34.2544 Q1601.36 30.163 1604.97 28.1376 Q1608.62 26.1121 1613.36 26.1121 Q1621.17 26.1121 1625.18 30.9732 Q1629.19 35.7938 1629.19 45.1919 Z\" fill=\"#000000\" fill-rule=\"evenodd\" fill-opacity=\"1\" /><path clip-path=\"url(#clip660)\" d=\"M1661.64 32.4315 Q1655.65 32.4315 1652.16 37.1306 Q1648.68 41.7891 1648.68 49.9314 Q1648.68 58.0738 1652.12 62.7728 Q1655.61 67.4314 1661.64 67.4314 Q1667.6 67.4314 1671.08 62.7323 Q1674.56 58.0333 1674.56 49.9314 Q1674.56 41.8701 1671.08 37.1711 Q1667.6 32.4315 1661.64 32.4315 M1661.64 26.1121 Q1671.36 26.1121 1676.91 32.4315 Q1682.46 38.7509 1682.46 49.9314 Q1682.46 61.0714 1676.91 67.4314 Q1671.36 73.7508 1661.64 73.7508 Q1651.88 73.7508 1646.33 67.4314 Q1640.82 61.0714 1640.82 49.9314 Q1640.82 38.7509 1646.33 32.4315 Q1651.88 26.1121 1661.64 26.1121 Z\" fill=\"#000000\" fill-rule=\"evenodd\" fill-opacity=\"1\" /><path clip-path=\"url(#clip660)\" d=\"M1721.19 27.2059 L1728.64 27.2059 L1728.64 72.576 L1721.19 72.576 L1721.19 27.2059 M1721.19 9.54393 L1728.64 9.54393 L1728.64 18.9825 L1721.19 18.9825 L1721.19 9.54393 Z\" fill=\"#000000\" fill-rule=\"evenodd\" fill-opacity=\"1\" /><path clip-path=\"url(#clip660)\" d=\"M1781.95 45.1919 L1781.95 72.576 L1774.5 72.576 L1774.5 45.4349 Q1774.5 38.994 1771.99 35.7938 Q1769.48 32.5936 1764.45 32.5936 Q1758.42 32.5936 1754.93 36.4419 Q1751.45 40.2903 1751.45 46.9338 L1751.45 72.576 L1743.96 72.576 L1743.96 27.2059 L1751.45 27.2059 L1751.45 34.2544 Q1754.12 30.163 1757.73 28.1376 Q1761.38 26.1121 1766.11 26.1121 Q1773.93 26.1121 1777.94 30.9732 Q1781.95 35.7938 1781.95 45.1919 Z\" fill=\"#000000\" fill-rule=\"evenodd\" fill-opacity=\"1\" /><path clip-path=\"url(#clip660)\" d=\"M1804.19 14.324 L1804.19 27.2059 L1819.55 27.2059 L1819.55 32.9987 L1804.19 32.9987 L1804.19 57.6282 Q1804.19 63.1779 1805.69 64.7578 Q1807.23 66.3376 1811.89 66.3376 L1819.55 66.3376 L1819.55 72.576 L1811.89 72.576 Q1803.26 72.576 1799.98 69.3758 Q1796.7 66.1351 1796.7 57.6282 L1796.7 32.9987 L1791.23 32.9987 L1791.23 27.2059 L1796.7 27.2059 L1796.7 14.324 L1804.19 14.324 Z\" fill=\"#000000\" fill-rule=\"evenodd\" fill-opacity=\"1\" /><path clip-path=\"url(#clip660)\" d=\"M1868.16 48.0275 L1868.16 51.6733 L1833.89 51.6733 Q1834.37 59.3701 1838.5 63.421 Q1842.68 67.4314 1850.09 67.4314 Q1854.38 67.4314 1858.39 66.3781 Q1862.45 65.3249 1866.42 63.2184 L1866.42 70.267 Q1862.4 71.9684 1858.19 72.8596 Q1853.98 73.7508 1849.64 73.7508 Q1838.79 73.7508 1832.43 67.4314 Q1826.11 61.1119 1826.11 50.3365 Q1826.11 39.1965 1832.1 32.6746 Q1838.14 26.1121 1848.35 26.1121 Q1857.5 26.1121 1862.81 32.0264 Q1868.16 37.9003 1868.16 48.0275 M1860.7 45.84 Q1860.62 39.7232 1857.26 36.0774 Q1853.94 32.4315 1848.43 32.4315 Q1842.19 32.4315 1838.42 35.9558 Q1834.7 39.4801 1834.13 45.8805 L1860.7 45.84 Z\" fill=\"#000000\" fill-rule=\"evenodd\" fill-opacity=\"1\" /><path clip-path=\"url(#clip660)\" d=\"M1906.68 34.1734 Q1905.43 33.4443 1903.93 33.1202 Q1902.47 32.7556 1900.69 32.7556 Q1894.37 32.7556 1890.96 36.8875 Q1887.6 40.9789 1887.6 48.6757 L1887.6 72.576 L1880.11 72.576 L1880.11 27.2059 L1887.6 27.2059 L1887.6 34.2544 Q1889.95 30.1225 1893.72 28.1376 Q1897.49 26.1121 1902.87 26.1121 Q1903.64 26.1121 1904.57 26.2337 Q1905.51 26.3147 1906.64 26.5172 L1906.68 34.1734 Z\" fill=\"#000000\" fill-rule=\"evenodd\" fill-opacity=\"1\" /><path clip-path=\"url(#clip660)\" d=\"M1909.15 27.2059 L1917.05 27.2059 L1931.23 65.2844 L1945.41 27.2059 L1953.31 27.2059 L1936.29 72.576 L1926.17 72.576 L1909.15 27.2059 Z\" fill=\"#000000\" fill-rule=\"evenodd\" fill-opacity=\"1\" /><path clip-path=\"url(#clip660)\" d=\"M1984.22 49.7694 Q1975.18 49.7694 1971.7 51.8354 Q1968.21 53.9013 1968.21 58.8839 Q1968.21 62.8538 1970.81 65.2034 Q1973.44 67.5124 1977.94 67.5124 Q1984.13 67.5124 1987.86 63.1374 Q1991.63 58.7219 1991.63 51.4303 L1991.63 49.7694 L1984.22 49.7694 M1999.08 46.6907 L1999.08 72.576 L1991.63 72.576 L1991.63 65.6895 Q1989.08 69.8214 1985.27 71.8063 Q1981.46 73.7508 1975.95 73.7508 Q1968.98 73.7508 1964.85 69.8619 Q1960.76 65.9325 1960.76 59.3701 Q1960.76 51.7138 1965.86 47.825 Q1971.01 43.9361 1981.18 43.9361 L1991.63 43.9361 L1991.63 43.2069 Q1991.63 38.0623 1988.23 35.2672 Q1984.86 32.4315 1978.75 32.4315 Q1974.86 32.4315 1971.17 33.3632 Q1967.49 34.295 1964.08 36.1584 L1964.08 29.2718 Q1968.17 27.692 1972.02 26.9223 Q1975.87 26.1121 1979.52 26.1121 Q1989.36 26.1121 1994.22 31.2163 Q1999.08 36.3204 1999.08 46.6907 Z\" fill=\"#000000\" fill-rule=\"evenodd\" fill-opacity=\"1\" /><path clip-path=\"url(#clip660)\" d=\"M2014.44 9.54393 L2021.89 9.54393 L2021.89 72.576 L2014.44 72.576 L2014.44 9.54393 Z\" fill=\"#000000\" fill-rule=\"evenodd\" fill-opacity=\"1\" /><path clip-path=\"url(#clip660)\" d=\"M2055.07 32.4315 Q2049.07 32.4315 2045.59 37.1306 Q2042.1 41.7891 2042.1 49.9314 Q2042.1 58.0738 2045.55 62.7728 Q2049.03 67.4314 2055.07 67.4314 Q2061.02 67.4314 2064.5 62.7323 Q2067.99 58.0333 2067.99 49.9314 Q2067.99 41.8701 2064.5 37.1711 Q2061.02 32.4315 2055.07 32.4315 M2055.07 26.1121 Q2064.79 26.1121 2070.34 32.4315 Q2075.89 38.7509 2075.89 49.9314 Q2075.89 61.0714 2070.34 67.4314 Q2064.79 73.7508 2055.07 73.7508 Q2045.3 73.7508 2039.75 67.4314 Q2034.24 61.0714 2034.24 49.9314 Q2034.24 38.7509 2039.75 32.4315 Q2045.3 26.1121 2055.07 26.1121 Z\" fill=\"#000000\" fill-rule=\"evenodd\" fill-opacity=\"1\" /><path clip-path=\"url(#clip660)\" d=\"M2132.52 9.62495 Q2127.09 18.942 2124.46 28.0566 Q2121.82 37.1711 2121.82 46.5287 Q2121.82 55.8863 2124.46 65.0818 Q2127.13 74.2369 2132.52 83.5134 L2126.04 83.5134 Q2119.96 73.9938 2116.92 64.7983 Q2113.93 55.6027 2113.93 46.5287 Q2113.93 37.4952 2116.92 28.3401 Q2119.92 19.1851 2126.04 9.62495 L2132.52 9.62495 Z\" fill=\"#000000\" fill-rule=\"evenodd\" fill-opacity=\"1\" /><path clip-path=\"url(#clip660)\" d=\"M2165.53 17.4837 Q2159.21 17.4837 2156.01 23.7221 Q2152.85 29.92 2152.85 42.3968 Q2152.85 54.833 2156.01 61.0714 Q2159.21 67.2693 2165.53 67.2693 Q2171.89 67.2693 2175.05 61.0714 Q2178.25 54.833 2178.25 42.3968 Q2178.25 29.92 2175.05 23.7221 Q2171.89 17.4837 2165.53 17.4837 M2165.53 11.0023 Q2175.7 11.0023 2181.05 19.0636 Q2186.44 27.0843 2186.44 42.3968 Q2186.44 57.6687 2181.05 65.73 Q2175.7 73.7508 2165.53 73.7508 Q2155.37 73.7508 2149.98 65.73 Q2144.63 57.6687 2144.63 42.3968 Q2144.63 27.0843 2149.98 19.0636 Q2155.37 11.0023 2165.53 11.0023 Z\" fill=\"#000000\" fill-rule=\"evenodd\" fill-opacity=\"1\" /><path clip-path=\"url(#clip660)\" d=\"M2201.67 62.2867 L2210.22 62.2867 L2210.22 69.2543 L2203.57 82.2172 L2198.35 82.2172 L2201.67 69.2543 L2201.67 62.2867 Z\" fill=\"#000000\" fill-rule=\"evenodd\" fill-opacity=\"1\" /><path clip-path=\"url(#clip660)\" d=\"M2260.61 65.6895 L2289.17 65.6895 L2289.17 72.576 L2250.76 72.576 L2250.76 65.6895 Q2255.42 60.8689 2263.44 52.7671 Q2271.51 44.6248 2273.57 42.2752 Q2277.5 37.8598 2279.04 34.8216 Q2280.62 31.7429 2280.62 28.7857 Q2280.62 23.9651 2277.22 20.927 Q2273.85 17.8888 2268.43 17.8888 Q2264.58 17.8888 2260.28 19.2256 Q2256.03 20.5624 2251.17 23.2765 L2251.17 15.0127 Q2256.11 13.0277 2260.41 12.015 Q2264.7 11.0023 2268.26 11.0023 Q2277.66 11.0023 2283.25 15.7013 Q2288.84 20.4004 2288.84 28.2591 Q2288.84 31.9859 2287.43 35.3482 Q2286.05 38.6699 2282.36 43.2069 Q2281.35 44.3817 2275.92 50.0125 Q2270.49 55.6027 2260.61 65.6895 Z\" fill=\"#000000\" fill-rule=\"evenodd\" fill-opacity=\"1\" /><path clip-path=\"url(#clip660)\" d=\"M2300.47 27.2059 L2343.94 27.2059 L2343.94 34.6595 L2338.22 34.6595 L2338.22 62.5298 Q2338.22 65.4464 2339.2 66.7427 Q2340.21 67.9985 2342.44 67.9985 Q2343.04 67.9985 2343.94 67.9175 Q2344.83 67.7959 2345.11 67.7554 L2345.11 73.1431 Q2343.69 73.6697 2342.19 73.9128 Q2340.69 74.1559 2339.2 74.1559 Q2334.33 74.1559 2332.47 71.5228 Q2330.61 68.8492 2330.61 61.7196 L2330.61 34.6595 L2313.88 34.6595 L2313.88 72.576 L2306.26 72.576 L2306.26 34.6595 L2300.47 34.6595 L2300.47 27.2059 Z\" fill=\"#000000\" fill-rule=\"evenodd\" fill-opacity=\"1\" /><path clip-path=\"url(#clip660)\" d=\"M2354.06 9.62495 L2360.54 9.62495 Q2366.62 19.1851 2369.62 28.3401 Q2372.66 37.4952 2372.66 46.5287 Q2372.66 55.6027 2369.62 64.7983 Q2366.62 73.9938 2360.54 83.5134 L2354.06 83.5134 Q2359.45 74.2369 2362.08 65.0818 Q2364.76 55.8863 2364.76 46.5287 Q2364.76 37.1711 2362.08 28.0566 Q2359.45 18.942 2354.06 9.62495 Z\" fill=\"#000000\" fill-rule=\"evenodd\" fill-opacity=\"1\" /><polyline clip-path=\"url(#clip662)\" style=\"stroke:#009af9; stroke-linecap:butt; stroke-linejoin:round; stroke-width:4; stroke-opacity:1; fill:none\" points=\"\n  316.512,773.35 348.398,712.142 380.284,651.547 412.17,592.168 444.056,534.6 475.942,479.417 507.828,427.171 539.715,378.384 571.601,333.543 603.487,293.097 \n  635.373,257.449 667.259,226.956 699.145,201.923 731.031,182.599 762.917,169.177 794.803,161.792 826.689,160.518 858.575,165.367 890.461,176.29 922.347,193.179 \n  954.233,215.865 986.119,244.122 1018.01,277.666 1049.89,316.163 1081.78,359.228 1113.66,406.43 1145.55,457.299 1177.44,511.326 1209.32,567.971 1241.21,626.667 \n  1273.09,686.83 1304.98,747.857 1336.87,809.138 1368.75,870.062 1400.64,930.02 1432.52,988.412 1464.41,1044.66 1496.3,1098.19 1528.18,1148.48 1560.07,1195.01 \n  1591.95,1237.34 1623.84,1275.03 1655.73,1307.71 1687.61,1335.04 1719.5,1356.77 1751.38,1372.67 1783.27,1382.57 1815.16,1386.4 1847.04,1384.09 1878.93,1375.68 \n  1910.82,1361.26 1942.7,1340.96 1974.59,1314.99 2006.47,1283.61 2038.36,1247.13 2070.25,1205.91 2102.13,1160.37 2134.02,1110.97 2165.9,1058.19 2197.79,1002.57 \n  2229.68,944.657 2261.56,885.032 2293.45,824.291 \n  \"/>\n<polyline clip-path=\"url(#clip662)\" style=\"stroke:#e26f46; stroke-linecap:butt; stroke-linejoin:round; stroke-width:4; stroke-opacity:1; fill:none\" points=\"\n  316.512,160.256 348.398,163.319 380.284,172.477 412.17,187.639 444.056,208.653 475.942,235.31 507.828,267.342 539.715,304.43 571.601,346.203 603.487,392.245 \n  635.373,442.094 667.259,495.253 699.145,551.19 731.031,609.348 762.917,669.144 794.803,729.981 826.689,791.252 858.575,852.343 890.461,912.646 922.347,971.556 \n  954.233,1028.49 986.119,1082.87 1018.01,1134.16 1049.89,1181.84 1081.78,1225.44 1113.66,1264.53 1145.55,1298.7 1177.44,1327.63 1209.32,1351.02 1241.21,1368.64 \n  1273.09,1380.31 1304.98,1385.91 1336.87,1385.4 1368.75,1378.77 1400.64,1366.09 1432.52,1347.48 1464.41,1323.15 1496.3,1293.31 1528.18,1258.29 1560.07,1218.41 \n  1591.95,1174.09 1623.84,1125.77 1655.73,1073.93 1687.61,1019.08 1719.5,961.773 1751.38,902.587 1783.27,842.109 1815.16,780.945 1847.04,719.704 1878.93,659 \n  1910.82,599.438 1942.7,541.614 1974.59,486.105 2006.47,433.466 2038.36,384.224 2070.25,338.869 2102.13,297.855 2134.02,261.593 2165.9,230.444 2197.79,204.719 \n  2229.68,184.676 2261.56,170.514 2293.45,162.376 \n  \"/>\n<path clip-path=\"url(#clip660)\" d=\"\nM1842.96 322.316 L2282.9 322.316 L2282.9 166.796 L1842.96 166.796  Z\n  \" fill=\"#eaeaea\" fill-rule=\"evenodd\" fill-opacity=\"1\"/>\n<polyline clip-path=\"url(#clip660)\" style=\"stroke:#ffffff; stroke-linecap:butt; stroke-linejoin:round; stroke-width:4; stroke-opacity:1; fill:none\" points=\"\n  1842.96,322.316 2282.9,322.316 2282.9,166.796 1842.96,166.796 1842.96,322.316 \n  \"/>\n<polyline clip-path=\"url(#clip660)\" style=\"stroke:#009af9; stroke-linecap:butt; stroke-linejoin:round; stroke-width:4; stroke-opacity:1; fill:none\" points=\"\n  1866.24,218.636 2005.95,218.636 \n  \"/>\n<path clip-path=\"url(#clip660)\" d=\"M2043.07 238.323 Q2041.27 242.953 2039.56 244.365 Q2037.84 245.777 2034.97 245.777 L2031.57 245.777 L2031.57 242.212 L2034.07 242.212 Q2035.83 242.212 2036.8 241.379 Q2037.77 240.545 2038.95 237.443 L2039.72 235.499 L2029.23 209.99 L2033.74 209.99 L2041.85 230.268 L2049.95 209.99 L2054.46 209.99 L2043.07 238.323 Z\" fill=\"#000000\" fill-rule=\"evenodd\" fill-opacity=\"1\" /><path clip-path=\"url(#clip660)\" d=\"M2060.9 214.388 L2090.57 214.388 L2090.57 218.277 L2060.9 218.277 L2060.9 214.388 M2060.9 223.832 L2090.57 223.832 L2090.57 227.768 L2060.9 227.768 L2060.9 223.832 Z\" fill=\"#000000\" fill-rule=\"evenodd\" fill-opacity=\"1\" /><path clip-path=\"url(#clip660)\" d=\"M2116.59 210.754 L2116.59 214.782 Q2114.79 213.856 2112.84 213.393 Q2110.9 212.93 2108.81 212.93 Q2105.64 212.93 2104.05 213.902 Q2102.47 214.874 2102.47 216.819 Q2102.47 218.3 2103.61 219.157 Q2104.74 219.99 2108.17 220.754 L2109.62 221.078 Q2114.16 222.05 2116.06 223.832 Q2117.98 225.592 2117.98 228.763 Q2117.98 232.374 2115.11 234.481 Q2112.26 236.587 2107.26 236.587 Q2105.18 236.587 2102.91 236.17 Q2100.67 235.777 2098.17 234.967 L2098.17 230.569 Q2100.53 231.795 2102.82 232.42 Q2105.11 233.022 2107.36 233.022 Q2110.36 233.022 2111.99 232.004 Q2113.61 230.962 2113.61 229.087 Q2113.61 227.351 2112.42 226.425 Q2111.27 225.499 2107.31 224.643 L2105.83 224.295 Q2101.87 223.462 2100.11 221.749 Q2098.35 220.013 2098.35 217.004 Q2098.35 213.346 2100.94 211.356 Q2103.54 209.365 2108.3 209.365 Q2110.67 209.365 2112.75 209.712 Q2114.83 210.059 2116.59 210.754 Z\" fill=\"#000000\" fill-rule=\"evenodd\" fill-opacity=\"1\" /><path clip-path=\"url(#clip660)\" d=\"M2124.76 209.99 L2129.02 209.99 L2129.02 235.916 L2124.76 235.916 L2124.76 209.99 M2124.76 199.897 L2129.02 199.897 L2129.02 205.291 L2124.76 205.291 L2124.76 199.897 Z\" fill=\"#000000\" fill-rule=\"evenodd\" fill-opacity=\"1\" /><path clip-path=\"url(#clip660)\" d=\"M2159.48 220.268 L2159.48 235.916 L2155.23 235.916 L2155.23 220.407 Q2155.23 216.726 2153.79 214.897 Q2152.36 213.069 2149.48 213.069 Q2146.04 213.069 2144.05 215.268 Q2142.05 217.467 2142.05 221.263 L2142.05 235.916 L2137.77 235.916 L2137.77 209.99 L2142.05 209.99 L2142.05 214.018 Q2143.58 211.68 2145.64 210.522 Q2147.73 209.365 2150.43 209.365 Q2154.9 209.365 2157.19 212.143 Q2159.48 214.897 2159.48 220.268 Z\" fill=\"#000000\" fill-rule=\"evenodd\" fill-opacity=\"1\" /><path clip-path=\"url(#clip660)\" d=\"M2178.21 199.944 Q2175.11 205.268 2173.61 210.476 Q2172.1 215.684 2172.1 221.032 Q2172.1 226.379 2173.61 231.633 Q2175.13 236.865 2178.21 242.166 L2174.51 242.166 Q2171.04 236.726 2169.3 231.471 Q2167.59 226.217 2167.59 221.032 Q2167.59 215.87 2169.3 210.638 Q2171.01 205.407 2174.51 199.944 L2178.21 199.944 Z\" fill=\"#000000\" fill-rule=\"evenodd\" fill-opacity=\"1\" /><path clip-path=\"url(#clip660)\" d=\"M2208.03 209.99 L2198.65 222.606 L2208.51 235.916 L2203.49 235.916 L2195.94 225.731 L2188.4 235.916 L2183.37 235.916 L2193.44 222.351 L2184.23 209.99 L2189.25 209.99 L2196.13 219.226 L2203 209.99 L2208.03 209.99 Z\" fill=\"#000000\" fill-rule=\"evenodd\" fill-opacity=\"1\" /><path clip-path=\"url(#clip660)\" d=\"M2213.86 199.944 L2217.56 199.944 Q2221.04 205.407 2222.75 210.638 Q2224.48 215.87 2224.48 221.032 Q2224.48 226.217 2222.75 231.471 Q2221.04 236.726 2217.56 242.166 L2213.86 242.166 Q2216.94 236.865 2218.44 231.633 Q2219.97 226.379 2219.97 221.032 Q2219.97 215.684 2218.44 210.476 Q2216.94 205.268 2213.86 199.944 Z\" fill=\"#000000\" fill-rule=\"evenodd\" fill-opacity=\"1\" /><polyline clip-path=\"url(#clip660)\" style=\"stroke:#e26f46; stroke-linecap:butt; stroke-linejoin:round; stroke-width:4; stroke-opacity:1; fill:none\" points=\"\n  1866.24,270.476 2005.95,270.476 \n  \"/>\n<path clip-path=\"url(#clip660)\" d=\"M2043.07 290.163 Q2041.27 294.793 2039.56 296.205 Q2037.84 297.617 2034.97 297.617 L2031.57 297.617 L2031.57 294.052 L2034.07 294.052 Q2035.83 294.052 2036.8 293.219 Q2037.77 292.385 2038.95 289.283 L2039.72 287.339 L2029.23 261.83 L2033.74 261.83 L2041.85 282.108 L2049.95 261.83 L2054.46 261.83 L2043.07 290.163 Z\" fill=\"#000000\" fill-rule=\"evenodd\" fill-opacity=\"1\" /><path clip-path=\"url(#clip660)\" d=\"M2060.9 266.228 L2090.57 266.228 L2090.57 270.117 L2060.9 270.117 L2060.9 266.228 M2060.9 275.672 L2090.57 275.672 L2090.57 279.608 L2060.9 279.608 L2060.9 275.672 Z\" fill=\"#000000\" fill-rule=\"evenodd\" fill-opacity=\"1\" /><path clip-path=\"url(#clip660)\" d=\"M2118.72 262.825 L2118.72 266.807 Q2116.92 265.811 2115.09 265.325 Q2113.28 264.816 2111.43 264.816 Q2107.29 264.816 2104.99 267.455 Q2102.7 270.071 2102.7 274.816 Q2102.7 279.561 2104.99 282.2 Q2107.29 284.816 2111.43 284.816 Q2113.28 284.816 2115.09 284.33 Q2116.92 283.821 2118.72 282.825 L2118.72 286.76 Q2116.94 287.594 2115.02 288.01 Q2113.12 288.427 2110.97 288.427 Q2105.11 288.427 2101.66 284.746 Q2098.21 281.066 2098.21 274.816 Q2098.21 268.473 2101.68 264.839 Q2105.18 261.205 2111.24 261.205 Q2113.21 261.205 2115.09 261.622 Q2116.96 262.015 2118.72 262.825 Z\" fill=\"#000000\" fill-rule=\"evenodd\" fill-opacity=\"1\" /><path clip-path=\"url(#clip660)\" d=\"M2136.17 264.816 Q2132.75 264.816 2130.76 267.501 Q2128.77 270.163 2128.77 274.816 Q2128.77 279.469 2130.74 282.154 Q2132.73 284.816 2136.17 284.816 Q2139.58 284.816 2141.57 282.131 Q2143.56 279.446 2143.56 274.816 Q2143.56 270.21 2141.57 267.524 Q2139.58 264.816 2136.17 264.816 M2136.17 261.205 Q2141.73 261.205 2144.9 264.816 Q2148.07 268.427 2148.07 274.816 Q2148.07 281.182 2144.9 284.816 Q2141.73 288.427 2136.17 288.427 Q2130.6 288.427 2127.42 284.816 Q2124.28 281.182 2124.28 274.816 Q2124.28 268.427 2127.42 264.816 Q2130.6 261.205 2136.17 261.205 Z\" fill=\"#000000\" fill-rule=\"evenodd\" fill-opacity=\"1\" /><path clip-path=\"url(#clip660)\" d=\"M2171.66 262.594 L2171.66 266.622 Q2169.86 265.696 2167.91 265.233 Q2165.97 264.77 2163.88 264.77 Q2160.71 264.77 2159.11 265.742 Q2157.54 266.714 2157.54 268.659 Q2157.54 270.14 2158.67 270.997 Q2159.81 271.83 2163.23 272.594 L2164.69 272.918 Q2169.23 273.89 2171.13 275.672 Q2173.05 277.432 2173.05 280.603 Q2173.05 284.214 2170.18 286.321 Q2167.33 288.427 2162.33 288.427 Q2160.25 288.427 2157.98 288.01 Q2155.73 287.617 2153.23 286.807 L2153.23 282.409 Q2155.6 283.635 2157.89 284.26 Q2160.18 284.862 2162.42 284.862 Q2165.43 284.862 2167.05 283.844 Q2168.67 282.802 2168.67 280.927 Q2168.67 279.191 2167.49 278.265 Q2166.34 277.339 2162.38 276.483 L2160.9 276.135 Q2156.94 275.302 2155.18 273.589 Q2153.42 271.853 2153.42 268.844 Q2153.42 265.186 2156.01 263.196 Q2158.61 261.205 2163.37 261.205 Q2165.73 261.205 2167.82 261.552 Q2169.9 261.899 2171.66 262.594 Z\" fill=\"#000000\" fill-rule=\"evenodd\" fill-opacity=\"1\" /><path clip-path=\"url(#clip660)\" d=\"M2190.06 251.784 Q2186.96 257.108 2185.46 262.316 Q2183.95 267.524 2183.95 272.872 Q2183.95 278.219 2185.46 283.473 Q2186.98 288.705 2190.06 294.006 L2186.36 294.006 Q2182.89 288.566 2181.15 283.311 Q2179.44 278.057 2179.44 272.872 Q2179.44 267.71 2181.15 262.478 Q2182.86 257.247 2186.36 251.784 L2190.06 251.784 Z\" fill=\"#000000\" fill-rule=\"evenodd\" fill-opacity=\"1\" /><path clip-path=\"url(#clip660)\" d=\"M2219.88 261.83 L2210.5 274.446 L2220.36 287.756 L2215.34 287.756 L2207.79 277.571 L2200.25 287.756 L2195.23 287.756 L2205.29 274.191 L2196.08 261.83 L2201.11 261.83 L2207.98 271.066 L2214.85 261.83 L2219.88 261.83 Z\" fill=\"#000000\" fill-rule=\"evenodd\" fill-opacity=\"1\" /><path clip-path=\"url(#clip660)\" d=\"M2225.71 251.784 L2229.42 251.784 Q2232.89 257.247 2234.6 262.478 Q2236.34 267.71 2236.34 272.872 Q2236.34 278.057 2234.6 283.311 Q2232.89 288.566 2229.42 294.006 L2225.71 294.006 Q2228.79 288.705 2230.29 283.473 Q2231.82 278.219 2231.82 272.872 Q2231.82 267.524 2230.29 262.316 Q2228.79 257.108 2225.71 251.784 Z\" fill=\"#000000\" fill-rule=\"evenodd\" fill-opacity=\"1\" /></svg>\n"
     },
     "execution_count": 30,
     "metadata": {},
     "output_type": "execute_result"
    }
   ],
   "source": [
    "I = 0.0:0.1:2π\n",
    "plot(I, [sin.(I), cos.(I)], xaxis=\"x\", yaxis=\"y\", label=[\"y=sin(x)\" \"y=cos(x)\"],\n",
    "    title=\"Gráficos de y=sin(x) e y=cos(x) no intervalo (0, 2π)\")"
   ]
  },
  {
   "cell_type": "code",
   "execution_count": 31,
   "metadata": {
    "slideshow": {
     "slide_type": "slide"
    }
   },
   "outputs": [
    {
     "data": {
      "image/svg+xml": "<?xml version=\"1.0\" encoding=\"utf-8\"?>\n<svg xmlns=\"http://www.w3.org/2000/svg\" xmlns:xlink=\"http://www.w3.org/1999/xlink\" width=\"600\" height=\"400\" viewBox=\"0 0 2400 1600\">\n<defs>\n  <clipPath id=\"clip700\">\n    <rect x=\"0\" y=\"0\" width=\"2400\" height=\"1600\"/>\n  </clipPath>\n</defs>\n<path clip-path=\"url(#clip700)\" d=\"\nM0 1600 L2400 1600 L2400 0 L0 0  Z\n  \" fill=\"#ffffff\" fill-rule=\"evenodd\" fill-opacity=\"1\"/>\n<defs>\n  <clipPath id=\"clip701\">\n    <rect x=\"480\" y=\"0\" width=\"1681\" height=\"1600\"/>\n  </clipPath>\n</defs>\n<path clip-path=\"url(#clip700)\" d=\"\nM247.459 1423.18 L2352.76 1423.18 L2352.76 114.832 L247.459 114.832  Z\n  \" fill=\"#eaeaea\" fill-rule=\"evenodd\" fill-opacity=\"1\"/>\n<defs>\n  <clipPath id=\"clip702\">\n    <rect x=\"247\" y=\"114\" width=\"2106\" height=\"1309\"/>\n  </clipPath>\n</defs>\n<polyline clip-path=\"url(#clip702)\" style=\"stroke:#ffffff; stroke-linecap:butt; stroke-linejoin:round; stroke-width:4; stroke-opacity:1; fill:none\" points=\"\n  307.043,1423.18 307.043,114.832 \n  \"/>\n<polyline clip-path=\"url(#clip702)\" style=\"stroke:#ffffff; stroke-linecap:butt; stroke-linejoin:round; stroke-width:4; stroke-opacity:1; fill:none\" points=\"\n  969.086,1423.18 969.086,114.832 \n  \"/>\n<polyline clip-path=\"url(#clip702)\" style=\"stroke:#ffffff; stroke-linecap:butt; stroke-linejoin:round; stroke-width:4; stroke-opacity:1; fill:none\" points=\"\n  1631.13,1423.18 1631.13,114.832 \n  \"/>\n<polyline clip-path=\"url(#clip702)\" style=\"stroke:#ffffff; stroke-linecap:butt; stroke-linejoin:round; stroke-width:4; stroke-opacity:1; fill:none\" points=\"\n  2293.17,1423.18 2293.17,114.832 \n  \"/>\n<polyline clip-path=\"url(#clip702)\" style=\"stroke:#ffffff; stroke-linecap:butt; stroke-linejoin:round; stroke-width:2; stroke-opacity:1; fill:none\" points=\"\n  638.064,1423.18 638.064,114.832 \n  \"/>\n<polyline clip-path=\"url(#clip702)\" style=\"stroke:#ffffff; stroke-linecap:butt; stroke-linejoin:round; stroke-width:2; stroke-opacity:1; fill:none\" points=\"\n  1300.11,1423.18 1300.11,114.832 \n  \"/>\n<polyline clip-path=\"url(#clip702)\" style=\"stroke:#ffffff; stroke-linecap:butt; stroke-linejoin:round; stroke-width:2; stroke-opacity:1; fill:none\" points=\"\n  1962.15,1423.18 1962.15,114.832 \n  \"/>\n<polyline clip-path=\"url(#clip700)\" style=\"stroke:#ffffff; stroke-linecap:butt; stroke-linejoin:round; stroke-width:4; stroke-opacity:1; fill:none\" points=\"\n  247.459,1423.18 2352.76,1423.18 \n  \"/>\n<polyline clip-path=\"url(#clip700)\" style=\"stroke:#333333; stroke-linecap:butt; stroke-linejoin:round; stroke-width:4; stroke-opacity:1; fill:none\" points=\"\n  307.043,1423.18 307.043,1438.88 \n  \"/>\n<polyline clip-path=\"url(#clip700)\" style=\"stroke:#333333; stroke-linecap:butt; stroke-linejoin:round; stroke-width:4; stroke-opacity:1; fill:none\" points=\"\n  969.086,1423.18 969.086,1438.88 \n  \"/>\n<polyline clip-path=\"url(#clip700)\" style=\"stroke:#333333; stroke-linecap:butt; stroke-linejoin:round; stroke-width:4; stroke-opacity:1; fill:none\" points=\"\n  1631.13,1423.18 1631.13,1438.88 \n  \"/>\n<polyline clip-path=\"url(#clip700)\" style=\"stroke:#333333; stroke-linecap:butt; stroke-linejoin:round; stroke-width:4; stroke-opacity:1; fill:none\" points=\"\n  2293.17,1423.18 2293.17,1438.88 \n  \"/>\n<polyline clip-path=\"url(#clip700)\" style=\"stroke:#333333; stroke-linecap:butt; stroke-linejoin:round; stroke-width:4; stroke-opacity:1; fill:none\" points=\"\n  638.064,1423.18 638.064,1431.03 \n  \"/>\n<polyline clip-path=\"url(#clip700)\" style=\"stroke:#333333; stroke-linecap:butt; stroke-linejoin:round; stroke-width:4; stroke-opacity:1; fill:none\" points=\"\n  1300.11,1423.18 1300.11,1431.03 \n  \"/>\n<polyline clip-path=\"url(#clip700)\" style=\"stroke:#333333; stroke-linecap:butt; stroke-linejoin:round; stroke-width:4; stroke-opacity:1; fill:none\" points=\"\n  1962.15,1423.18 1962.15,1431.03 \n  \"/>\n<path clip-path=\"url(#clip700)\" d=\"M297.425 1489.52 L305.063 1489.52 L305.063 1463.15 L296.753 1464.82 L296.753 1460.56 L305.017 1458.89 L309.693 1458.89 L309.693 1489.52 L317.332 1489.52 L317.332 1493.45 L297.425 1493.45 L297.425 1489.52 Z\" fill=\"#4c4c4c\" fill-rule=\"evenodd\" fill-opacity=\"1\" /><path clip-path=\"url(#clip700)\" d=\"M963.739 1489.52 L980.058 1489.52 L980.058 1493.45 L958.114 1493.45 L958.114 1489.52 Q960.776 1486.76 965.359 1482.13 Q969.965 1477.48 971.146 1476.14 Q973.391 1473.61 974.271 1471.88 Q975.174 1470.12 975.174 1468.43 Q975.174 1465.67 973.229 1463.94 Q971.308 1462.2 968.206 1462.2 Q966.007 1462.2 963.553 1462.97 Q961.123 1463.73 958.345 1465.28 L958.345 1460.56 Q961.169 1459.42 963.623 1458.85 Q966.076 1458.27 968.114 1458.27 Q973.484 1458.27 976.678 1460.95 Q979.873 1463.64 979.873 1468.13 Q979.873 1470.26 979.063 1472.18 Q978.276 1474.08 976.169 1476.67 Q975.59 1477.34 972.488 1480.56 Q969.387 1483.75 963.739 1489.52 Z\" fill=\"#4c4c4c\" fill-rule=\"evenodd\" fill-opacity=\"1\" /><path clip-path=\"url(#clip700)\" d=\"M1635.38 1474.82 Q1638.73 1475.54 1640.61 1477.8 Q1642.51 1480.07 1642.51 1483.41 Q1642.51 1488.52 1638.99 1491.32 Q1635.47 1494.12 1628.99 1494.12 Q1626.81 1494.12 1624.5 1493.68 Q1622.21 1493.27 1619.75 1492.41 L1619.75 1487.9 Q1621.7 1489.03 1624.01 1489.61 Q1626.33 1490.19 1628.85 1490.19 Q1633.25 1490.19 1635.54 1488.45 Q1637.85 1486.72 1637.85 1483.41 Q1637.85 1480.35 1635.7 1478.64 Q1633.57 1476.9 1629.75 1476.9 L1625.72 1476.9 L1625.72 1473.06 L1629.94 1473.06 Q1633.39 1473.06 1635.21 1471.69 Q1637.04 1470.3 1637.04 1467.71 Q1637.04 1465.05 1635.15 1463.64 Q1633.27 1462.2 1629.75 1462.2 Q1627.83 1462.2 1625.63 1462.62 Q1623.43 1463.04 1620.79 1463.91 L1620.79 1459.75 Q1623.46 1459.01 1625.77 1458.64 Q1628.11 1458.27 1630.17 1458.27 Q1635.49 1458.27 1638.59 1460.7 Q1641.7 1463.1 1641.7 1467.23 Q1641.7 1470.1 1640.05 1472.09 Q1638.41 1474.05 1635.38 1474.82 Z\" fill=\"#4c4c4c\" fill-rule=\"evenodd\" fill-opacity=\"1\" /><path clip-path=\"url(#clip700)\" d=\"M2296.18 1462.97 L2284.38 1481.41 L2296.18 1481.41 L2296.18 1462.97 M2294.95 1458.89 L2300.83 1458.89 L2300.83 1481.41 L2305.76 1481.41 L2305.76 1485.3 L2300.83 1485.3 L2300.83 1493.45 L2296.18 1493.45 L2296.18 1485.3 L2280.58 1485.3 L2280.58 1480.79 L2294.95 1458.89 Z\" fill=\"#4c4c4c\" fill-rule=\"evenodd\" fill-opacity=\"1\" /><path clip-path=\"url(#clip700)\" d=\"M1215.78 1536.5 Q1211.07 1536.5 1208.33 1540.19 Q1205.59 1543.85 1205.59 1550.25 Q1205.59 1556.65 1208.3 1560.34 Q1211.04 1564 1215.78 1564 Q1220.46 1564 1223.19 1560.31 Q1225.93 1556.62 1225.93 1550.25 Q1225.93 1543.92 1223.19 1540.23 Q1220.46 1536.5 1215.78 1536.5 M1215.78 1531.54 Q1223.42 1531.54 1227.78 1536.5 Q1232.14 1541.47 1232.14 1550.25 Q1232.14 1559 1227.78 1564 Q1223.42 1568.97 1215.78 1568.97 Q1208.11 1568.97 1203.75 1564 Q1199.42 1559 1199.42 1550.25 Q1199.42 1541.47 1203.75 1536.5 Q1208.11 1531.54 1215.78 1531.54 Z\" fill=\"#000000\" fill-rule=\"evenodd\" fill-opacity=\"1\" /><path clip-path=\"url(#clip700)\" d=\"M1262.5 1537.87 Q1261.52 1537.3 1260.34 1537.04 Q1259.19 1536.76 1257.79 1536.76 Q1252.83 1536.76 1250.15 1540 Q1247.51 1543.22 1247.51 1549.27 L1247.51 1568.04 L1241.62 1568.04 L1241.62 1532.4 L1247.51 1532.4 L1247.51 1537.93 Q1249.36 1534.69 1252.32 1533.13 Q1255.28 1531.54 1259.51 1531.54 Q1260.11 1531.54 1260.85 1531.63 Q1261.58 1531.7 1262.47 1531.85 L1262.5 1537.87 Z\" fill=\"#000000\" fill-rule=\"evenodd\" fill-opacity=\"1\" /><path clip-path=\"url(#clip700)\" d=\"M1290.96 1537.81 L1290.96 1518.52 L1296.81 1518.52 L1296.81 1568.04 L1290.96 1568.04 L1290.96 1562.7 Q1289.11 1565.88 1286.28 1567.44 Q1283.48 1568.97 1279.53 1568.97 Q1273.07 1568.97 1268.99 1563.81 Q1264.95 1558.65 1264.95 1550.25 Q1264.95 1541.85 1268.99 1536.69 Q1273.07 1531.54 1279.53 1531.54 Q1283.48 1531.54 1286.28 1533.1 Q1289.11 1534.62 1290.96 1537.81 M1271 1550.25 Q1271 1556.71 1273.64 1560.4 Q1276.32 1564.07 1280.96 1564.07 Q1285.61 1564.07 1288.28 1560.4 Q1290.96 1556.71 1290.96 1550.25 Q1290.96 1543.79 1288.28 1540.13 Q1285.61 1536.44 1280.96 1536.44 Q1276.32 1536.44 1273.64 1540.13 Q1271 1543.79 1271 1550.25 Z\" fill=\"#000000\" fill-rule=\"evenodd\" fill-opacity=\"1\" /><path clip-path=\"url(#clip700)\" d=\"M1339.37 1548.76 L1339.37 1551.62 L1312.44 1551.62 Q1312.82 1557.67 1316.07 1560.85 Q1319.35 1564 1325.17 1564 Q1328.55 1564 1331.7 1563.17 Q1334.88 1562.35 1338 1560.69 L1338 1566.23 Q1334.85 1567.57 1331.54 1568.27 Q1328.23 1568.97 1324.82 1568.97 Q1316.29 1568.97 1311.3 1564 Q1306.33 1559.04 1306.33 1550.57 Q1306.33 1541.82 1311.04 1536.69 Q1315.78 1531.54 1323.8 1531.54 Q1331 1531.54 1335.17 1536.18 Q1339.37 1540.8 1339.37 1548.76 M1333.51 1547.04 Q1333.45 1542.23 1330.81 1539.37 Q1328.2 1536.5 1323.87 1536.5 Q1318.97 1536.5 1316.01 1539.27 Q1313.08 1542.04 1312.63 1547.07 L1333.51 1547.04 Z\" fill=\"#000000\" fill-rule=\"evenodd\" fill-opacity=\"1\" /><path clip-path=\"url(#clip700)\" d=\"M1376.73 1539.24 Q1378.93 1535.29 1381.99 1533.41 Q1385.04 1531.54 1389.18 1531.54 Q1394.75 1531.54 1397.77 1535.45 Q1400.8 1539.33 1400.8 1546.53 L1400.8 1568.04 L1394.91 1568.04 L1394.91 1546.72 Q1394.91 1541.59 1393.09 1539.11 Q1391.28 1536.63 1387.56 1536.63 Q1383 1536.63 1380.36 1539.65 Q1377.72 1542.68 1377.72 1547.9 L1377.72 1568.04 L1371.83 1568.04 L1371.83 1546.72 Q1371.83 1541.56 1370.02 1539.11 Q1368.2 1536.63 1364.42 1536.63 Q1359.93 1536.63 1357.29 1539.68 Q1354.65 1542.71 1354.65 1547.9 L1354.65 1568.04 L1348.76 1568.04 L1348.76 1532.4 L1354.65 1532.4 L1354.65 1537.93 Q1356.65 1534.66 1359.45 1533.1 Q1362.25 1531.54 1366.1 1531.54 Q1369.99 1531.54 1372.69 1533.51 Q1375.43 1535.48 1376.73 1539.24 Z\" fill=\"#000000\" fill-rule=\"evenodd\" fill-opacity=\"1\" /><polyline clip-path=\"url(#clip702)\" style=\"stroke:#ffffff; stroke-linecap:butt; stroke-linejoin:round; stroke-width:4; stroke-opacity:1; fill:none\" points=\"\n  247.459,1386.15 2352.76,1386.15 \n  \"/>\n<polyline clip-path=\"url(#clip702)\" style=\"stroke:#ffffff; stroke-linecap:butt; stroke-linejoin:round; stroke-width:4; stroke-opacity:1; fill:none\" points=\"\n  247.459,1077.58 2352.76,1077.58 \n  \"/>\n<polyline clip-path=\"url(#clip702)\" style=\"stroke:#ffffff; stroke-linecap:butt; stroke-linejoin:round; stroke-width:4; stroke-opacity:1; fill:none\" points=\"\n  247.459,769.006 2352.76,769.006 \n  \"/>\n<polyline clip-path=\"url(#clip702)\" style=\"stroke:#ffffff; stroke-linecap:butt; stroke-linejoin:round; stroke-width:4; stroke-opacity:1; fill:none\" points=\"\n  247.459,460.433 2352.76,460.433 \n  \"/>\n<polyline clip-path=\"url(#clip702)\" style=\"stroke:#ffffff; stroke-linecap:butt; stroke-linejoin:round; stroke-width:4; stroke-opacity:1; fill:none\" points=\"\n  247.459,151.861 2352.76,151.861 \n  \"/>\n<polyline clip-path=\"url(#clip702)\" style=\"stroke:#ffffff; stroke-linecap:butt; stroke-linejoin:round; stroke-width:2; stroke-opacity:1; fill:none\" points=\"\n  247.459,1231.86 2352.76,1231.86 \n  \"/>\n<polyline clip-path=\"url(#clip702)\" style=\"stroke:#ffffff; stroke-linecap:butt; stroke-linejoin:round; stroke-width:2; stroke-opacity:1; fill:none\" points=\"\n  247.459,923.292 2352.76,923.292 \n  \"/>\n<polyline clip-path=\"url(#clip702)\" style=\"stroke:#ffffff; stroke-linecap:butt; stroke-linejoin:round; stroke-width:2; stroke-opacity:1; fill:none\" points=\"\n  247.459,614.72 2352.76,614.72 \n  \"/>\n<polyline clip-path=\"url(#clip702)\" style=\"stroke:#ffffff; stroke-linecap:butt; stroke-linejoin:round; stroke-width:2; stroke-opacity:1; fill:none\" points=\"\n  247.459,306.147 2352.76,306.147 \n  \"/>\n<polyline clip-path=\"url(#clip700)\" style=\"stroke:#ffffff; stroke-linecap:butt; stroke-linejoin:round; stroke-width:4; stroke-opacity:1; fill:none\" points=\"\n  247.459,1423.18 247.459,114.832 \n  \"/>\n<polyline clip-path=\"url(#clip700)\" style=\"stroke:#333333; stroke-linecap:butt; stroke-linejoin:round; stroke-width:4; stroke-opacity:1; fill:none\" points=\"\n  247.459,1386.15 222.195,1386.15 \n  \"/>\n<polyline clip-path=\"url(#clip700)\" style=\"stroke:#333333; stroke-linecap:butt; stroke-linejoin:round; stroke-width:4; stroke-opacity:1; fill:none\" points=\"\n  247.459,1077.58 222.195,1077.58 \n  \"/>\n<polyline clip-path=\"url(#clip700)\" style=\"stroke:#333333; stroke-linecap:butt; stroke-linejoin:round; stroke-width:4; stroke-opacity:1; fill:none\" points=\"\n  247.459,769.006 222.195,769.006 \n  \"/>\n<polyline clip-path=\"url(#clip700)\" style=\"stroke:#333333; stroke-linecap:butt; stroke-linejoin:round; stroke-width:4; stroke-opacity:1; fill:none\" points=\"\n  247.459,460.433 222.195,460.433 \n  \"/>\n<polyline clip-path=\"url(#clip700)\" style=\"stroke:#333333; stroke-linecap:butt; stroke-linejoin:round; stroke-width:4; stroke-opacity:1; fill:none\" points=\"\n  247.459,151.861 222.195,151.861 \n  \"/>\n<polyline clip-path=\"url(#clip700)\" style=\"stroke:#333333; stroke-linecap:butt; stroke-linejoin:round; stroke-width:4; stroke-opacity:1; fill:none\" points=\"\n  247.459,1231.86 234.827,1231.86 \n  \"/>\n<polyline clip-path=\"url(#clip700)\" style=\"stroke:#333333; stroke-linecap:butt; stroke-linejoin:round; stroke-width:4; stroke-opacity:1; fill:none\" points=\"\n  247.459,923.292 234.827,923.292 \n  \"/>\n<polyline clip-path=\"url(#clip700)\" style=\"stroke:#333333; stroke-linecap:butt; stroke-linejoin:round; stroke-width:4; stroke-opacity:1; fill:none\" points=\"\n  247.459,614.72 234.827,614.72 \n  \"/>\n<polyline clip-path=\"url(#clip700)\" style=\"stroke:#333333; stroke-linecap:butt; stroke-linejoin:round; stroke-width:4; stroke-opacity:1; fill:none\" points=\"\n  247.459,306.147 234.827,306.147 \n  \"/>\n<path clip-path=\"url(#clip700)\" d=\"M136.283 1371.95 Q132.672 1371.95 130.843 1375.51 Q129.038 1379.06 129.038 1386.19 Q129.038 1393.29 130.843 1396.86 Q132.672 1400.4 136.283 1400.4 Q139.917 1400.4 141.723 1396.86 Q143.552 1393.29 143.552 1386.19 Q143.552 1379.06 141.723 1375.51 Q139.917 1371.95 136.283 1371.95 M136.283 1368.25 Q142.093 1368.25 145.149 1372.85 Q148.227 1377.44 148.227 1386.19 Q148.227 1394.91 145.149 1399.52 Q142.093 1404.1 136.283 1404.1 Q130.473 1404.1 127.394 1399.52 Q124.339 1394.91 124.339 1386.19 Q124.339 1377.44 127.394 1372.85 Q130.473 1368.25 136.283 1368.25 Z\" fill=\"#4c4c4c\" fill-rule=\"evenodd\" fill-opacity=\"1\" /><path clip-path=\"url(#clip700)\" d=\"M156.445 1397.55 L161.329 1397.55 L161.329 1403.43 L156.445 1403.43 L156.445 1397.55 Z\" fill=\"#4c4c4c\" fill-rule=\"evenodd\" fill-opacity=\"1\" /><path clip-path=\"url(#clip700)\" d=\"M181.514 1371.95 Q177.903 1371.95 176.075 1375.51 Q174.269 1379.06 174.269 1386.19 Q174.269 1393.29 176.075 1396.86 Q177.903 1400.4 181.514 1400.4 Q185.149 1400.4 186.954 1396.86 Q188.783 1393.29 188.783 1386.19 Q188.783 1379.06 186.954 1375.51 Q185.149 1371.95 181.514 1371.95 M181.514 1368.25 Q187.324 1368.25 190.38 1372.85 Q193.459 1377.44 193.459 1386.19 Q193.459 1394.91 190.38 1399.52 Q187.324 1404.1 181.514 1404.1 Q175.704 1404.1 172.625 1399.52 Q169.57 1394.91 169.57 1386.19 Q169.57 1377.44 172.625 1372.85 Q175.704 1368.25 181.514 1368.25 Z\" fill=\"#4c4c4c\" fill-rule=\"evenodd\" fill-opacity=\"1\" /><path clip-path=\"url(#clip700)\" d=\"M131.306 1090.92 L147.626 1090.92 L147.626 1094.86 L125.681 1094.86 L125.681 1090.92 Q128.343 1088.17 132.927 1083.54 Q137.533 1078.89 138.714 1077.54 Q140.959 1075.02 141.839 1073.28 Q142.741 1071.53 142.741 1069.84 Q142.741 1067.08 140.797 1065.34 Q138.876 1063.61 135.774 1063.61 Q133.575 1063.61 131.121 1064.37 Q128.691 1065.14 125.913 1066.69 L125.913 1061.97 Q128.737 1060.83 131.191 1060.25 Q133.644 1059.67 135.681 1059.67 Q141.052 1059.67 144.246 1062.36 Q147.44 1065.04 147.44 1069.53 Q147.44 1071.66 146.63 1073.59 Q145.843 1075.48 143.737 1078.08 Q143.158 1078.75 140.056 1081.97 Q136.954 1085.16 131.306 1090.92 Z\" fill=\"#4c4c4c\" fill-rule=\"evenodd\" fill-opacity=\"1\" /><path clip-path=\"url(#clip700)\" d=\"M157.44 1088.98 L162.325 1088.98 L162.325 1094.86 L157.44 1094.86 L157.44 1088.98 Z\" fill=\"#4c4c4c\" fill-rule=\"evenodd\" fill-opacity=\"1\" /><path clip-path=\"url(#clip700)\" d=\"M172.556 1060.3 L190.912 1060.3 L190.912 1064.23 L176.838 1064.23 L176.838 1072.71 Q177.857 1072.36 178.875 1072.2 Q179.894 1072.01 180.912 1072.01 Q186.699 1072.01 190.079 1075.18 Q193.459 1078.35 193.459 1083.77 Q193.459 1089.35 189.987 1092.45 Q186.514 1095.53 180.195 1095.53 Q178.019 1095.53 175.75 1095.16 Q173.505 1094.79 171.098 1094.05 L171.098 1089.35 Q173.181 1090.48 175.403 1091.04 Q177.625 1091.59 180.102 1091.59 Q184.107 1091.59 186.445 1089.49 Q188.783 1087.38 188.783 1083.77 Q188.783 1080.16 186.445 1078.05 Q184.107 1075.95 180.102 1075.95 Q178.227 1075.95 176.352 1076.36 Q174.5 1076.78 172.556 1077.66 L172.556 1060.3 Z\" fill=\"#4c4c4c\" fill-rule=\"evenodd\" fill-opacity=\"1\" /><path clip-path=\"url(#clip700)\" d=\"M126.329 751.726 L144.686 751.726 L144.686 755.661 L130.612 755.661 L130.612 764.133 Q131.63 763.786 132.649 763.624 Q133.667 763.439 134.686 763.439 Q140.473 763.439 143.852 766.61 Q147.232 769.781 147.232 775.198 Q147.232 780.777 143.76 783.879 Q140.288 786.957 133.968 786.957 Q131.792 786.957 129.524 786.587 Q127.279 786.217 124.871 785.476 L124.871 780.777 Q126.954 781.911 129.177 782.467 Q131.399 783.022 133.876 783.022 Q137.88 783.022 140.218 780.916 Q142.556 778.809 142.556 775.198 Q142.556 771.587 140.218 769.481 Q137.88 767.374 133.876 767.374 Q132.001 767.374 130.126 767.791 Q128.274 768.207 126.329 769.087 L126.329 751.726 Z\" fill=\"#4c4c4c\" fill-rule=\"evenodd\" fill-opacity=\"1\" /><path clip-path=\"url(#clip700)\" d=\"M156.445 780.406 L161.329 780.406 L161.329 786.286 L156.445 786.286 L156.445 780.406 Z\" fill=\"#4c4c4c\" fill-rule=\"evenodd\" fill-opacity=\"1\" /><path clip-path=\"url(#clip700)\" d=\"M181.514 754.805 Q177.903 754.805 176.075 758.369 Q174.269 761.911 174.269 769.041 Q174.269 776.147 176.075 779.712 Q177.903 783.254 181.514 783.254 Q185.149 783.254 186.954 779.712 Q188.783 776.147 188.783 769.041 Q188.783 761.911 186.954 758.369 Q185.149 754.805 181.514 754.805 M181.514 751.101 Q187.324 751.101 190.38 755.707 Q193.459 760.291 193.459 769.041 Q193.459 777.768 190.38 782.374 Q187.324 786.957 181.514 786.957 Q175.704 786.957 172.625 782.374 Q169.57 777.768 169.57 769.041 Q169.57 760.291 172.625 755.707 Q175.704 751.101 181.514 751.101 Z\" fill=\"#4c4c4c\" fill-rule=\"evenodd\" fill-opacity=\"1\" /><path clip-path=\"url(#clip700)\" d=\"M126.098 443.153 L148.32 443.153 L148.32 445.144 L135.774 477.713 L130.89 477.713 L142.695 447.089 L126.098 447.089 L126.098 443.153 Z\" fill=\"#4c4c4c\" fill-rule=\"evenodd\" fill-opacity=\"1\" /><path clip-path=\"url(#clip700)\" d=\"M157.44 471.834 L162.325 471.834 L162.325 477.713 L157.44 477.713 L157.44 471.834 Z\" fill=\"#4c4c4c\" fill-rule=\"evenodd\" fill-opacity=\"1\" /><path clip-path=\"url(#clip700)\" d=\"M172.556 443.153 L190.912 443.153 L190.912 447.089 L176.838 447.089 L176.838 455.561 Q177.857 455.214 178.875 455.051 Q179.894 454.866 180.912 454.866 Q186.699 454.866 190.079 458.038 Q193.459 461.209 193.459 466.626 Q193.459 472.204 189.987 475.306 Q186.514 478.385 180.195 478.385 Q178.019 478.385 175.75 478.014 Q173.505 477.644 171.098 476.903 L171.098 472.204 Q173.181 473.338 175.403 473.894 Q177.625 474.45 180.102 474.45 Q184.107 474.45 186.445 472.343 Q188.783 470.237 188.783 466.626 Q188.783 463.014 186.445 460.908 Q184.107 458.801 180.102 458.801 Q178.227 458.801 176.352 459.218 Q174.5 459.635 172.556 460.514 L172.556 443.153 Z\" fill=\"#4c4c4c\" fill-rule=\"evenodd\" fill-opacity=\"1\" /><path clip-path=\"url(#clip700)\" d=\"M96.9315 165.206 L104.57 165.206 L104.57 138.84 L96.2602 140.507 L96.2602 136.247 L104.524 134.581 L109.2 134.581 L109.2 165.206 L116.839 165.206 L116.839 169.141 L96.9315 169.141 L96.9315 165.206 Z\" fill=\"#4c4c4c\" fill-rule=\"evenodd\" fill-opacity=\"1\" /><path clip-path=\"url(#clip700)\" d=\"M136.283 137.66 Q132.672 137.66 130.843 141.224 Q129.038 144.766 129.038 151.896 Q129.038 159.002 130.843 162.567 Q132.672 166.108 136.283 166.108 Q139.917 166.108 141.723 162.567 Q143.552 159.002 143.552 151.896 Q143.552 144.766 141.723 141.224 Q139.917 137.66 136.283 137.66 M136.283 133.956 Q142.093 133.956 145.149 138.562 Q148.227 143.146 148.227 151.896 Q148.227 160.622 145.149 165.229 Q142.093 169.812 136.283 169.812 Q130.473 169.812 127.394 165.229 Q124.339 160.622 124.339 151.896 Q124.339 143.146 127.394 138.562 Q130.473 133.956 136.283 133.956 Z\" fill=\"#4c4c4c\" fill-rule=\"evenodd\" fill-opacity=\"1\" /><path clip-path=\"url(#clip700)\" d=\"M156.445 163.261 L161.329 163.261 L161.329 169.141 L156.445 169.141 L156.445 163.261 Z\" fill=\"#4c4c4c\" fill-rule=\"evenodd\" fill-opacity=\"1\" /><path clip-path=\"url(#clip700)\" d=\"M181.514 137.66 Q177.903 137.66 176.075 141.224 Q174.269 144.766 174.269 151.896 Q174.269 159.002 176.075 162.567 Q177.903 166.108 181.514 166.108 Q185.149 166.108 186.954 162.567 Q188.783 159.002 188.783 151.896 Q188.783 144.766 186.954 141.224 Q185.149 137.66 181.514 137.66 M181.514 133.956 Q187.324 133.956 190.38 138.562 Q193.459 143.146 193.459 151.896 Q193.459 160.622 190.38 165.229 Q187.324 169.812 181.514 169.812 Q175.704 169.812 172.625 165.229 Q169.57 160.622 169.57 151.896 Q169.57 143.146 172.625 138.562 Q175.704 133.956 181.514 133.956 Z\" fill=\"#4c4c4c\" fill-rule=\"evenodd\" fill-opacity=\"1\" /><path clip-path=\"url(#clip700)\" d=\"M46.0847 818.34 Q46.0847 825.438 47.7079 828.175 Q49.3312 830.912 53.2461 830.912 Q56.3653 830.912 58.2114 828.875 Q60.0256 826.807 60.0256 823.274 Q60.0256 818.404 56.5881 815.476 Q53.1188 812.516 47.3897 812.516 L46.0847 812.516 L46.0847 818.34 M43.6657 806.659 L64.0042 806.659 L64.0042 812.516 L58.5933 812.516 Q61.8398 814.521 63.3994 817.513 Q64.9272 820.505 64.9272 824.833 Q64.9272 830.308 61.8716 833.554 Q58.7843 836.769 53.6281 836.769 Q47.6125 836.769 44.5569 832.759 Q41.5014 828.716 41.5014 820.727 L41.5014 812.516 L40.9285 812.516 Q36.8862 812.516 34.6901 815.189 Q32.4621 817.831 32.4621 822.637 Q32.4621 825.693 33.1941 828.589 Q33.9262 831.485 35.3903 834.159 L29.9795 834.159 Q28.7381 830.944 28.1334 827.921 Q27.4968 824.897 27.4968 822.032 Q27.4968 814.298 31.5072 810.479 Q35.5176 806.659 43.6657 806.659 M11.869 817.354 L11.869 811.02 L23.8365 821.396 L23.8365 826.266 L11.869 817.354 Z\" fill=\"#000000\" fill-rule=\"evenodd\" fill-opacity=\"1\" /><path clip-path=\"url(#clip700)\" d=\"M33.8307 773.939 Q33.2578 774.926 33.0032 776.104 Q32.7167 777.25 32.7167 778.65 Q32.7167 783.615 35.9632 786.289 Q39.1779 788.931 45.2253 788.931 L64.0042 788.931 L64.0042 794.819 L28.3562 794.819 L28.3562 788.931 L33.8944 788.931 Q30.6479 787.085 29.0883 784.125 Q27.4968 781.164 27.4968 776.931 Q27.4968 776.327 27.5923 775.594 Q27.656 774.862 27.8151 773.971 L33.8307 773.939 Z\" fill=\"#000000\" fill-rule=\"evenodd\" fill-opacity=\"1\" /><path clip-path=\"url(#clip700)\" d=\"M44.7161 738.737 L47.5806 738.737 L47.5806 765.664 Q53.6281 765.282 56.8109 762.036 Q59.9619 758.757 59.9619 752.933 Q59.9619 749.559 59.1344 746.408 Q58.3069 743.225 56.6518 740.106 L62.1899 740.106 Q63.5267 743.257 64.227 746.567 Q64.9272 749.877 64.9272 753.283 Q64.9272 761.813 59.9619 766.81 Q54.9967 771.775 46.5303 771.775 Q37.7774 771.775 32.6531 767.064 Q27.4968 762.322 27.4968 754.301 Q27.4968 747.108 32.1438 742.938 Q36.7589 738.737 44.7161 738.737 M42.9973 744.593 Q38.1912 744.657 35.3266 747.299 Q32.4621 749.909 32.4621 754.238 Q32.4621 759.139 35.2312 762.099 Q38.0002 765.027 43.0292 765.473 L42.9973 744.593 Z\" fill=\"#000000\" fill-rule=\"evenodd\" fill-opacity=\"1\" /><path clip-path=\"url(#clip700)\" d=\"M46.0847 712.924 Q46.0847 720.022 47.7079 722.759 Q49.3312 725.496 53.2461 725.496 Q56.3653 725.496 58.2114 723.459 Q60.0256 721.39 60.0256 717.858 Q60.0256 712.988 56.5881 710.06 Q53.1188 707.099 47.3897 707.099 L46.0847 707.099 L46.0847 712.924 M43.6657 701.243 L64.0042 701.243 L64.0042 707.099 L58.5933 707.099 Q61.8398 709.105 63.3994 712.097 Q64.9272 715.088 64.9272 719.417 Q64.9272 724.892 61.8716 728.138 Q58.7843 731.353 53.6281 731.353 Q47.6125 731.353 44.5569 727.342 Q41.5014 723.3 41.5014 715.311 L41.5014 707.099 L40.9285 707.099 Q36.8862 707.099 34.6901 709.773 Q32.4621 712.415 32.4621 717.221 Q32.4621 720.276 33.1941 723.173 Q33.9262 726.069 35.3903 728.743 L29.9795 728.743 Q28.7381 725.528 28.1334 722.504 Q27.4968 719.481 27.4968 716.616 Q27.4968 708.882 31.5072 705.062 Q35.5176 701.243 43.6657 701.243 Z\" fill=\"#000000\" fill-rule=\"evenodd\" fill-opacity=\"1\" /><path clip-path=\"url(#clip700)\" d=\"M590.719 17.2777 L581.205 43.0762 L600.267 43.0762 L590.719 17.2777 M586.76 10.368 L594.712 10.368 L614.469 62.208 L607.177 62.208 L602.455 48.9095 L579.087 48.9095 L574.365 62.208 L566.969 62.208 L586.76 10.368 M592.628 -3.72915 L599.052 -3.72915 L591.135 5.43747 L585.823 5.43747 L592.628 -3.72915 Z\" fill=\"#000000\" fill-rule=\"evenodd\" fill-opacity=\"1\" /><path clip-path=\"url(#clip700)\" d=\"M644.295 29.2915 Q643.218 28.6665 641.934 28.3887 Q640.684 28.0762 639.156 28.0762 Q633.739 28.0762 630.823 31.6179 Q627.941 35.1248 627.941 41.722 L627.941 62.208 L621.517 62.208 L621.517 23.3193 L627.941 23.3193 L627.941 29.361 Q629.955 25.8193 633.184 24.1179 Q636.413 22.3818 641.031 22.3818 Q641.691 22.3818 642.489 22.486 Q643.288 22.5554 644.26 22.729 L644.295 29.2915 Z\" fill=\"#000000\" fill-rule=\"evenodd\" fill-opacity=\"1\" /><path clip-path=\"url(#clip700)\" d=\"M682.697 41.1664 L682.697 44.2914 L653.323 44.2914 Q653.739 50.8886 657.281 54.3608 Q660.857 57.7983 667.211 57.7983 Q670.892 57.7983 674.329 56.8955 Q677.802 55.9928 681.204 54.1872 L681.204 60.2288 Q677.767 61.6872 674.156 62.4511 Q670.545 63.2149 666.829 63.2149 Q657.524 63.2149 652.073 57.7983 Q646.656 52.3817 646.656 43.1456 Q646.656 33.597 651.795 28.0068 Q656.968 22.3818 665.718 22.3818 Q673.566 22.3818 678.114 27.4512 Q682.697 32.4859 682.697 41.1664 M676.309 39.2915 Q676.239 34.0484 673.357 30.9234 Q670.51 27.7985 665.788 27.7985 Q660.441 27.7985 657.211 30.8193 Q654.017 33.8401 653.531 39.3262 L676.309 39.2915 Z\" fill=\"#000000\" fill-rule=\"evenodd\" fill-opacity=\"1\" /><path clip-path=\"url(#clip700)\" d=\"M710.857 42.6595 Q703.114 42.6595 700.128 44.4303 Q697.142 46.2011 697.142 50.472 Q697.142 53.8747 699.364 55.8886 Q701.621 57.8677 705.475 57.8677 Q710.788 57.8677 713.982 54.1178 Q717.211 50.3331 717.211 44.0831 L717.211 42.6595 L710.857 42.6595 M723.6 40.0206 L723.6 62.208 L717.211 62.208 L717.211 56.3053 Q715.024 59.8469 711.76 61.5483 Q708.496 63.2149 703.774 63.2149 Q697.802 63.2149 694.26 59.8816 Q690.753 56.5136 690.753 50.8886 Q690.753 44.3262 695.128 40.9928 Q699.538 37.6595 708.253 37.6595 L717.211 37.6595 L717.211 37.0345 Q717.211 32.6248 714.294 30.229 Q711.413 27.7985 706.17 27.7985 Q702.836 27.7985 699.676 28.5971 Q696.517 29.3957 693.6 30.9929 L693.6 25.0901 Q697.107 23.736 700.406 23.0763 Q703.704 22.3818 706.829 22.3818 Q715.267 22.3818 719.433 26.7568 Q723.6 31.1318 723.6 40.0206 Z\" fill=\"#000000\" fill-rule=\"evenodd\" fill-opacity=\"1\" /><path clip-path=\"url(#clip700)\" d=\"M784.954 29.2221 L784.954 8.18051 L791.343 8.18051 L791.343 62.208 L784.954 62.208 L784.954 56.3747 Q782.94 59.8469 779.85 61.5483 Q776.794 63.2149 772.489 63.2149 Q765.44 63.2149 760.996 57.59 Q756.586 51.965 756.586 42.7984 Q756.586 33.6318 760.996 28.0068 Q765.44 22.3818 772.489 22.3818 Q776.794 22.3818 779.85 24.0832 Q782.94 25.7499 784.954 29.2221 M763.183 42.7984 Q763.183 49.847 766.065 53.8747 Q768.982 57.8677 774.051 57.8677 Q779.121 57.8677 782.037 53.8747 Q784.954 49.847 784.954 42.7984 Q784.954 35.7498 782.037 31.7568 Q779.121 27.729 774.051 27.729 Q768.982 27.729 766.065 31.7568 Q763.183 35.7498 763.183 42.7984 Z\" fill=\"#000000\" fill-rule=\"evenodd\" fill-opacity=\"1\" /><path clip-path=\"url(#clip700)\" d=\"M819.572 27.7985 Q814.433 27.7985 811.447 31.8262 Q808.461 35.8193 808.461 42.7984 Q808.461 49.7775 811.412 53.8053 Q814.398 57.7983 819.572 57.7983 Q824.676 57.7983 827.662 53.7705 Q830.648 49.7428 830.648 42.7984 Q830.648 35.8887 827.662 31.8609 Q824.676 27.7985 819.572 27.7985 M819.572 22.3818 Q827.905 22.3818 832.662 27.7985 Q837.419 33.2151 837.419 42.7984 Q837.419 52.3469 832.662 57.7983 Q827.905 63.2149 819.572 63.2149 Q811.204 63.2149 806.447 57.7983 Q801.725 52.3469 801.725 42.7984 Q801.725 33.2151 806.447 27.7985 Q811.204 22.3818 819.572 22.3818 Z\" fill=\"#000000\" fill-rule=\"evenodd\" fill-opacity=\"1\" /><path clip-path=\"url(#clip700)\" d=\"M872.801 24.4651 L872.801 30.5068 Q870.092 29.1179 867.176 28.4235 Q864.259 27.729 861.134 27.729 Q856.377 27.729 853.981 29.1873 Q851.62 30.6457 851.62 33.5623 Q851.62 35.7845 853.322 37.0692 Q855.023 38.3192 860.162 39.4651 L862.349 39.9512 Q869.155 41.4095 872.002 44.0831 Q874.884 46.722 874.884 51.4789 Q874.884 56.8955 870.578 60.0552 Q866.308 63.2149 858.808 63.2149 Q855.683 63.2149 852.28 62.5899 Q848.912 61.9997 845.162 60.7844 L845.162 54.1872 Q848.703 56.0275 852.141 56.965 Q855.578 57.8677 858.946 57.8677 Q863.46 57.8677 865.891 56.34 Q868.321 54.7775 868.321 51.965 Q868.321 49.3608 866.551 47.972 Q864.815 46.5831 858.877 45.2984 L856.655 44.7775 Q850.717 43.5275 848.078 40.9581 Q845.44 38.354 845.44 33.8401 Q845.44 28.354 849.328 25.3679 Q853.217 22.3818 860.37 22.3818 Q863.912 22.3818 867.037 22.9027 Q870.162 23.4235 872.801 24.4651 Z\" fill=\"#000000\" fill-rule=\"evenodd\" fill-opacity=\"1\" /><path clip-path=\"url(#clip700)\" d=\"M930.196 29.2915 Q929.12 28.6665 927.835 28.3887 Q926.585 28.0762 925.057 28.0762 Q919.641 28.0762 916.724 31.6179 Q913.842 35.1248 913.842 41.722 L913.842 62.208 L907.418 62.208 L907.418 23.3193 L913.842 23.3193 L913.842 29.361 Q915.856 25.8193 919.085 24.1179 Q922.314 22.3818 926.932 22.3818 Q927.592 22.3818 928.391 22.486 Q929.189 22.5554 930.161 22.729 L930.196 29.2915 Z\" fill=\"#000000\" fill-rule=\"evenodd\" fill-opacity=\"1\" /><path clip-path=\"url(#clip700)\" d=\"M968.599 41.1664 L968.599 44.2914 L939.224 44.2914 Q939.64 50.8886 943.182 54.3608 Q946.759 57.7983 953.113 57.7983 Q956.793 57.7983 960.231 56.8955 Q963.703 55.9928 967.106 54.1872 L967.106 60.2288 Q963.668 61.6872 960.057 62.4511 Q956.446 63.2149 952.731 63.2149 Q943.425 63.2149 937.974 57.7983 Q932.557 52.3817 932.557 43.1456 Q932.557 33.597 937.696 28.0068 Q942.87 22.3818 951.62 22.3818 Q959.467 22.3818 964.015 27.4512 Q968.599 32.4859 968.599 41.1664 M962.21 39.2915 Q962.14 34.0484 959.258 30.9234 Q956.411 27.7985 951.689 27.7985 Q946.342 27.7985 943.113 30.8193 Q939.918 33.8401 939.432 39.3262 L962.21 39.2915 Z\" fill=\"#000000\" fill-rule=\"evenodd\" fill-opacity=\"1\" /><path clip-path=\"url(#clip700)\" d=\"M985.404 12.2777 L985.404 23.3193 L998.564 23.3193 L998.564 28.2846 L985.404 28.2846 L985.404 49.3956 Q985.404 54.1525 986.689 55.5066 Q988.008 56.8608 992.001 56.8608 L998.564 56.8608 L998.564 62.208 L992.001 62.208 Q984.606 62.208 981.793 59.465 Q978.981 56.6872 978.981 49.3956 L978.981 28.2846 L974.293 28.2846 L974.293 23.3193 L978.981 23.3193 L978.981 12.2777 L985.404 12.2777 Z\" fill=\"#000000\" fill-rule=\"evenodd\" fill-opacity=\"1\" /><path clip-path=\"url(#clip700)\" d=\"M1024.64 42.6595 Q1016.9 42.6595 1013.91 44.4303 Q1010.92 46.2011 1010.92 50.472 Q1010.92 53.8747 1013.15 55.8886 Q1015.4 57.8677 1019.26 57.8677 Q1024.57 57.8677 1027.77 54.1178 Q1030.99 50.3331 1030.99 44.0831 L1030.99 42.6595 L1024.64 42.6595 M1037.38 40.0206 L1037.38 62.208 L1030.99 62.208 L1030.99 56.3053 Q1028.81 59.8469 1025.54 61.5483 Q1022.28 63.2149 1017.56 63.2149 Q1011.58 63.2149 1008.04 59.8816 Q1004.54 56.5136 1004.54 50.8886 Q1004.54 44.3262 1008.91 40.9928 Q1013.32 37.6595 1022.04 37.6595 L1030.99 37.6595 L1030.99 37.0345 Q1030.99 32.6248 1028.08 30.229 Q1025.2 27.7985 1019.95 27.7985 Q1016.62 27.7985 1013.46 28.5971 Q1010.3 29.3957 1007.38 30.9929 L1007.38 25.0901 Q1010.89 23.736 1014.19 23.0763 Q1017.49 22.3818 1020.61 22.3818 Q1029.05 22.3818 1033.22 26.7568 Q1037.38 31.1318 1037.38 40.0206 M1018.32 5.3333 L1023.46 5.3333 L1031.97 18.3888 L1027.14 18.3888 L1020.89 9.88189 L1014.64 18.3888 L1009.81 18.3888 L1018.32 5.3333 Z\" fill=\"#000000\" fill-rule=\"evenodd\" fill-opacity=\"1\" /><path clip-path=\"url(#clip700)\" d=\"M1082.87 38.7359 L1082.87 62.208 L1076.48 62.208 L1076.48 38.9442 Q1076.48 33.4234 1074.33 30.6804 Q1072.17 27.9374 1067.87 27.9374 Q1062.7 27.9374 1059.71 31.2359 Q1056.72 34.5345 1056.72 40.229 L1056.72 62.208 L1050.3 62.208 L1050.3 23.3193 L1056.72 23.3193 L1056.72 29.361 Q1059.01 25.854 1062.11 24.1179 Q1065.23 22.3818 1069.29 22.3818 Q1075.99 22.3818 1079.43 26.5485 Q1082.87 30.6804 1082.87 38.7359 Z\" fill=\"#000000\" fill-rule=\"evenodd\" fill-opacity=\"1\" /><path clip-path=\"url(#clip700)\" d=\"M1121.2 42.3123 Q1121.2 35.3679 1118.32 31.5484 Q1115.47 27.729 1110.3 27.729 Q1105.16 27.729 1102.28 31.5484 Q1099.43 35.3679 1099.43 42.3123 Q1099.43 49.222 1102.28 53.0414 Q1105.16 56.8608 1110.3 56.8608 Q1115.47 56.8608 1118.32 53.0414 Q1121.2 49.222 1121.2 42.3123 M1127.59 57.3816 Q1127.59 67.3121 1123.18 72.1385 Q1118.77 76.9996 1109.67 76.9996 Q1106.31 76.9996 1103.32 76.4788 Q1100.33 75.9926 1097.52 74.951 L1097.52 68.7357 Q1100.33 70.2635 1103.08 70.9927 Q1105.82 71.7218 1108.67 71.7218 Q1114.95 71.7218 1118.08 68.4232 Q1121.2 65.1594 1121.2 58.5275 L1121.2 55.3678 Q1119.22 58.8052 1116.13 60.5066 Q1113.04 62.208 1108.74 62.208 Q1101.58 62.208 1097.21 56.7566 Q1092.83 51.3053 1092.83 42.3123 Q1092.83 33.2845 1097.21 27.8332 Q1101.58 22.3818 1108.74 22.3818 Q1113.04 22.3818 1116.13 24.0832 Q1119.22 25.7846 1121.2 29.2221 L1121.2 23.3193 L1127.59 23.3193 L1127.59 57.3816 Z\" fill=\"#000000\" fill-rule=\"evenodd\" fill-opacity=\"1\" /><path clip-path=\"url(#clip700)\" d=\"M1140.09 46.8609 L1140.09 23.3193 L1146.48 23.3193 L1146.48 46.6178 Q1146.48 52.1386 1148.63 54.9164 Q1150.79 57.6594 1155.09 57.6594 Q1160.26 57.6594 1163.25 54.3608 Q1166.27 51.0622 1166.27 45.3678 L1166.27 23.3193 L1172.66 23.3193 L1172.66 62.208 L1166.27 62.208 L1166.27 56.2358 Q1163.94 59.7775 1160.85 61.5136 Q1157.8 63.2149 1153.74 63.2149 Q1147.04 63.2149 1143.56 59.0483 Q1140.09 54.8817 1140.09 46.8609 M1156.17 22.3818 L1156.17 22.3818 Z\" fill=\"#000000\" fill-rule=\"evenodd\" fill-opacity=\"1\" /><path clip-path=\"url(#clip700)\" d=\"M1185.82 8.18051 L1192.21 8.18051 L1192.21 62.208 L1185.82 62.208 L1185.82 8.18051 Z\" fill=\"#000000\" fill-rule=\"evenodd\" fill-opacity=\"1\" /><path clip-path=\"url(#clip700)\" d=\"M1220.65 27.7985 Q1215.51 27.7985 1212.52 31.8262 Q1209.53 35.8193 1209.53 42.7984 Q1209.53 49.7775 1212.49 53.8053 Q1215.47 57.7983 1220.65 57.7983 Q1225.75 57.7983 1228.74 53.7705 Q1231.72 49.7428 1231.72 42.7984 Q1231.72 35.8887 1228.74 31.8609 Q1225.75 27.7985 1220.65 27.7985 M1220.65 22.3818 Q1228.98 22.3818 1233.74 27.7985 Q1238.49 33.2151 1238.49 42.7984 Q1238.49 52.3469 1233.74 57.7983 Q1228.98 63.2149 1220.65 63.2149 Q1212.28 63.2149 1207.52 57.7983 Q1202.8 52.3469 1202.8 42.7984 Q1202.8 33.2151 1207.52 27.7985 Q1212.28 22.3818 1220.65 22.3818 Z\" fill=\"#000000\" fill-rule=\"evenodd\" fill-opacity=\"1\" /><path clip-path=\"url(#clip700)\" d=\"M1273.87 24.4651 L1273.87 30.5068 Q1271.17 29.1179 1268.25 28.4235 Q1265.33 27.729 1262.21 27.729 Q1257.45 27.729 1255.06 29.1873 Q1252.69 30.6457 1252.69 33.5623 Q1252.69 35.7845 1254.4 37.0692 Q1256.1 38.3192 1261.24 39.4651 L1263.42 39.9512 Q1270.23 41.4095 1273.08 44.0831 Q1275.96 46.722 1275.96 51.4789 Q1275.96 56.8955 1271.65 60.0552 Q1267.38 63.2149 1259.88 63.2149 Q1256.76 63.2149 1253.35 62.5899 Q1249.99 61.9997 1246.24 60.7844 L1246.24 54.1872 Q1249.78 56.0275 1253.22 56.965 Q1256.65 57.8677 1260.02 57.8677 Q1264.53 57.8677 1266.97 56.34 Q1269.4 54.7775 1269.4 51.965 Q1269.4 49.3608 1267.62 47.972 Q1265.89 46.5831 1259.95 45.2984 L1257.73 44.7775 Q1251.79 43.5275 1249.15 40.9581 Q1246.51 38.354 1246.51 33.8401 Q1246.51 28.354 1250.4 25.3679 Q1254.29 22.3818 1261.44 22.3818 Q1264.99 22.3818 1268.11 22.9027 Q1271.24 23.4235 1273.87 24.4651 Z\" fill=\"#000000\" fill-rule=\"evenodd\" fill-opacity=\"1\" /><path clip-path=\"url(#clip700)\" d=\"M1342 41.1664 L1342 44.2914 L1312.62 44.2914 Q1313.04 50.8886 1316.58 54.3608 Q1320.16 57.7983 1326.51 57.7983 Q1330.19 57.7983 1333.63 56.8955 Q1337.1 55.9928 1340.51 54.1872 L1340.51 60.2288 Q1337.07 61.6872 1333.46 62.4511 Q1329.85 63.2149 1326.13 63.2149 Q1316.83 63.2149 1311.37 57.7983 Q1305.96 52.3817 1305.96 43.1456 Q1305.96 33.597 1311.1 28.0068 Q1316.27 22.3818 1325.02 22.3818 Q1332.87 22.3818 1337.42 27.4512 Q1342 32.4859 1342 41.1664 M1335.61 39.2915 Q1335.54 34.0484 1332.66 30.9234 Q1329.81 27.7985 1325.09 27.7985 Q1319.74 27.7985 1316.51 30.8193 Q1313.32 33.8401 1312.83 39.3262 L1335.61 39.2915 Z\" fill=\"#000000\" fill-rule=\"evenodd\" fill-opacity=\"1\" /><path clip-path=\"url(#clip700)\" d=\"M1382.76 30.7846 Q1385.16 26.479 1388.49 24.4304 Q1391.83 22.3818 1396.34 22.3818 Q1402.42 22.3818 1405.71 26.6526 Q1409.01 30.8887 1409.01 38.7359 L1409.01 62.208 L1402.59 62.208 L1402.59 38.9442 Q1402.59 33.354 1400.61 30.6457 Q1398.63 27.9374 1394.57 27.9374 Q1389.6 27.9374 1386.72 31.2359 Q1383.84 34.5345 1383.84 40.229 L1383.84 62.208 L1377.42 62.208 L1377.42 38.9442 Q1377.42 33.3193 1375.44 30.6457 Q1373.46 27.9374 1369.33 27.9374 Q1364.43 27.9374 1361.55 31.2707 Q1358.67 34.5693 1358.67 40.229 L1358.67 62.208 L1352.24 62.208 L1352.24 23.3193 L1358.67 23.3193 L1358.67 29.361 Q1360.85 25.7846 1363.91 24.0832 Q1366.96 22.3818 1371.17 22.3818 Q1375.4 22.3818 1378.35 24.5346 Q1381.34 26.6874 1382.76 30.7846 Z\" fill=\"#000000\" fill-rule=\"evenodd\" fill-opacity=\"1\" /><path clip-path=\"url(#clip700)\" d=\"M1459.43 27.7985 Q1454.29 27.7985 1451.3 31.8262 Q1448.32 35.8193 1448.32 42.7984 Q1448.32 49.7775 1451.27 53.8053 Q1454.26 57.7983 1459.43 57.7983 Q1464.53 57.7983 1467.52 53.7705 Q1470.51 49.7428 1470.51 42.7984 Q1470.51 35.8887 1467.52 31.8609 Q1464.53 27.7985 1459.43 27.7985 M1459.43 22.3818 Q1467.76 22.3818 1472.52 27.7985 Q1477.28 33.2151 1477.28 42.7984 Q1477.28 52.3469 1472.52 57.7983 Q1467.76 63.2149 1459.43 63.2149 Q1451.06 63.2149 1446.3 57.7983 Q1441.58 52.3469 1441.58 42.7984 Q1441.58 33.2151 1446.3 27.7985 Q1451.06 22.3818 1459.43 22.3818 Z\" fill=\"#000000\" fill-rule=\"evenodd\" fill-opacity=\"1\" /><path clip-path=\"url(#clip700)\" d=\"M1510.4 29.2915 Q1509.32 28.6665 1508.04 28.3887 Q1506.79 28.0762 1505.26 28.0762 Q1499.85 28.0762 1496.93 31.6179 Q1494.05 35.1248 1494.05 41.722 L1494.05 62.208 L1487.62 62.208 L1487.62 23.3193 L1494.05 23.3193 L1494.05 29.361 Q1496.06 25.8193 1499.29 24.1179 Q1502.52 22.3818 1507.14 22.3818 Q1507.8 22.3818 1508.6 22.486 Q1509.39 22.5554 1510.37 22.729 L1510.4 29.2915 Z\" fill=\"#000000\" fill-rule=\"evenodd\" fill-opacity=\"1\" /><path clip-path=\"url(#clip700)\" d=\"M1541.44 29.2221 L1541.44 8.18051 L1547.83 8.18051 L1547.83 62.208 L1541.44 62.208 L1541.44 56.3747 Q1539.43 59.8469 1536.34 61.5483 Q1533.28 63.2149 1528.98 63.2149 Q1521.93 63.2149 1517.48 57.59 Q1513.07 51.965 1513.07 42.7984 Q1513.07 33.6318 1517.48 28.0068 Q1521.93 22.3818 1528.98 22.3818 Q1533.28 22.3818 1536.34 24.0832 Q1539.43 25.7499 1541.44 29.2221 M1519.67 42.7984 Q1519.67 49.847 1522.55 53.8747 Q1525.47 57.8677 1530.54 57.8677 Q1535.61 57.8677 1538.53 53.8747 Q1541.44 49.847 1541.44 42.7984 Q1541.44 35.7498 1538.53 31.7568 Q1535.61 27.729 1530.54 27.729 Q1525.47 27.729 1522.55 31.7568 Q1519.67 35.7498 1519.67 42.7984 Z\" fill=\"#000000\" fill-rule=\"evenodd\" fill-opacity=\"1\" /><path clip-path=\"url(#clip700)\" d=\"M1594.26 41.1664 L1594.26 44.2914 L1564.88 44.2914 Q1565.3 50.8886 1568.84 54.3608 Q1572.41 57.7983 1578.77 57.7983 Q1582.45 57.7983 1585.89 56.8955 Q1589.36 55.9928 1592.76 54.1872 L1592.76 60.2288 Q1589.32 61.6872 1585.71 62.4511 Q1582.1 63.2149 1578.39 63.2149 Q1569.08 63.2149 1563.63 57.7983 Q1558.21 52.3817 1558.21 43.1456 Q1558.21 33.597 1563.35 28.0068 Q1568.53 22.3818 1577.28 22.3818 Q1585.12 22.3818 1589.67 27.4512 Q1594.26 32.4859 1594.26 41.1664 M1587.87 39.2915 Q1587.8 34.0484 1584.91 30.9234 Q1582.07 27.7985 1577.35 27.7985 Q1572 27.7985 1568.77 30.8193 Q1565.57 33.8401 1565.09 39.3262 L1587.87 39.2915 Z\" fill=\"#000000\" fill-rule=\"evenodd\" fill-opacity=\"1\" /><path clip-path=\"url(#clip700)\" d=\"M1635.02 30.7846 Q1637.41 26.479 1640.75 24.4304 Q1644.08 22.3818 1648.6 22.3818 Q1654.67 22.3818 1657.97 26.6526 Q1661.27 30.8887 1661.27 38.7359 L1661.27 62.208 L1654.84 62.208 L1654.84 38.9442 Q1654.84 33.354 1652.87 30.6457 Q1650.89 27.9374 1646.82 27.9374 Q1641.86 27.9374 1638.98 31.2359 Q1636.1 34.5345 1636.1 40.229 L1636.1 62.208 L1629.67 62.208 L1629.67 38.9442 Q1629.67 33.3193 1627.69 30.6457 Q1625.71 27.9374 1621.58 27.9374 Q1616.69 27.9374 1613.8 31.2707 Q1610.92 34.5693 1610.92 40.229 L1610.92 62.208 L1604.5 62.208 L1604.5 23.3193 L1610.92 23.3193 L1610.92 29.361 Q1613.11 25.7846 1616.16 24.0832 Q1619.22 22.3818 1623.42 22.3818 Q1627.66 22.3818 1630.61 24.5346 Q1633.6 26.6874 1635.02 30.7846 Z\" fill=\"#000000\" fill-rule=\"evenodd\" fill-opacity=\"1\" /><path clip-path=\"url(#clip700)\" d=\"M1724.6 24.8124 L1724.6 30.7846 Q1721.89 29.2915 1719.15 28.5623 Q1716.44 27.7985 1713.66 27.7985 Q1707.45 27.7985 1704.01 31.7568 Q1700.57 35.6804 1700.57 42.7984 Q1700.57 49.9164 1704.01 53.8747 Q1707.45 57.7983 1713.66 57.7983 Q1716.44 57.7983 1719.15 57.0691 Q1721.89 56.3053 1724.6 54.8122 L1724.6 60.715 Q1721.93 61.9649 1719.05 62.5899 Q1716.2 63.2149 1712.97 63.2149 Q1704.19 63.2149 1699.01 57.6941 Q1693.84 52.1733 1693.84 42.7984 Q1693.84 33.2845 1699.05 27.8332 Q1704.29 22.3818 1713.39 22.3818 Q1716.34 22.3818 1719.15 23.0068 Q1721.96 23.5971 1724.6 24.8124 Z\" fill=\"#000000\" fill-rule=\"evenodd\" fill-opacity=\"1\" /><path clip-path=\"url(#clip700)\" d=\"M1758.25 29.2915 Q1757.17 28.6665 1755.89 28.3887 Q1754.64 28.0762 1753.11 28.0762 Q1747.69 28.0762 1744.78 31.6179 Q1741.89 35.1248 1741.89 41.722 L1741.89 62.208 L1735.47 62.208 L1735.47 23.3193 L1741.89 23.3193 L1741.89 29.361 Q1743.91 25.8193 1747.14 24.1179 Q1750.37 22.3818 1754.98 22.3818 Q1755.64 22.3818 1756.44 22.486 Q1757.24 22.5554 1758.21 22.729 L1758.25 29.2915 Z\" fill=\"#000000\" fill-rule=\"evenodd\" fill-opacity=\"1\" /><path clip-path=\"url(#clip700)\" d=\"M1796.65 41.1664 L1796.65 44.2914 L1767.27 44.2914 Q1767.69 50.8886 1771.23 54.3608 Q1774.81 57.7983 1781.16 57.7983 Q1784.84 57.7983 1788.28 56.8955 Q1791.75 55.9928 1795.16 54.1872 L1795.16 60.2288 Q1791.72 61.6872 1788.11 62.4511 Q1784.5 63.2149 1780.78 63.2149 Q1771.48 63.2149 1766.02 57.7983 Q1760.61 52.3817 1760.61 43.1456 Q1760.61 33.597 1765.75 28.0068 Q1770.92 22.3818 1779.67 22.3818 Q1787.52 22.3818 1792.07 27.4512 Q1796.65 32.4859 1796.65 41.1664 M1790.26 39.2915 Q1790.19 34.0484 1787.31 30.9234 Q1784.46 27.7985 1779.74 27.7985 Q1774.39 27.7985 1771.16 30.8193 Q1767.97 33.8401 1767.48 39.3262 L1790.26 39.2915 Z\" fill=\"#000000\" fill-rule=\"evenodd\" fill-opacity=\"1\" /><path clip-path=\"url(#clip700)\" d=\"M1831.93 24.4651 L1831.93 30.5068 Q1829.22 29.1179 1826.3 28.4235 Q1823.39 27.729 1820.26 27.729 Q1815.5 27.729 1813.11 29.1873 Q1810.75 30.6457 1810.75 33.5623 Q1810.75 35.7845 1812.45 37.0692 Q1814.15 38.3192 1819.29 39.4651 L1821.48 39.9512 Q1828.28 41.4095 1831.13 44.0831 Q1834.01 46.722 1834.01 51.4789 Q1834.01 56.8955 1829.71 60.0552 Q1825.43 63.2149 1817.93 63.2149 Q1814.81 63.2149 1811.41 62.5899 Q1808.04 61.9997 1804.29 60.7844 L1804.29 54.1872 Q1807.83 56.0275 1811.27 56.965 Q1814.71 57.8677 1818.07 57.8677 Q1822.59 57.8677 1825.02 56.34 Q1827.45 54.7775 1827.45 51.965 Q1827.45 49.3608 1825.68 47.972 Q1823.94 46.5831 1818 45.2984 L1815.78 44.7775 Q1809.84 43.5275 1807.21 40.9581 Q1804.57 38.354 1804.57 33.8401 Q1804.57 28.354 1808.46 25.3679 Q1812.34 22.3818 1819.5 22.3818 Q1823.04 22.3818 1826.16 22.9027 Q1829.29 23.4235 1831.93 24.4651 Z\" fill=\"#000000\" fill-rule=\"evenodd\" fill-opacity=\"1\" /><path clip-path=\"url(#clip700)\" d=\"M1872.17 24.8124 L1872.17 30.7846 Q1869.46 29.2915 1866.72 28.5623 Q1864.01 27.7985 1861.23 27.7985 Q1855.02 27.7985 1851.58 31.7568 Q1848.14 35.6804 1848.14 42.7984 Q1848.14 49.9164 1851.58 53.8747 Q1855.02 57.7983 1861.23 57.7983 Q1864.01 57.7983 1866.72 57.0691 Q1869.46 56.3053 1872.17 54.8122 L1872.17 60.715 Q1869.5 61.9649 1866.61 62.5899 Q1863.77 63.2149 1860.54 63.2149 Q1851.75 63.2149 1846.58 57.6941 Q1841.41 52.1733 1841.41 42.7984 Q1841.41 33.2845 1846.61 27.8332 Q1851.86 22.3818 1860.95 22.3818 Q1863.91 22.3818 1866.72 23.0068 Q1869.53 23.5971 1872.17 24.8124 Z\" fill=\"#000000\" fill-rule=\"evenodd\" fill-opacity=\"1\" /><path clip-path=\"url(#clip700)\" d=\"M1916.54 41.1664 L1916.54 44.2914 L1887.17 44.2914 Q1887.59 50.8886 1891.13 54.3608 Q1894.7 57.7983 1901.06 57.7983 Q1904.74 57.7983 1908.18 56.8955 Q1911.65 55.9928 1915.05 54.1872 L1915.05 60.2288 Q1911.61 61.6872 1908 62.4511 Q1904.39 63.2149 1900.68 63.2149 Q1891.37 63.2149 1885.92 57.7983 Q1880.5 52.3817 1880.5 43.1456 Q1880.5 33.597 1885.64 28.0068 Q1890.82 22.3818 1899.57 22.3818 Q1907.41 22.3818 1911.96 27.4512 Q1916.54 32.4859 1916.54 41.1664 M1910.16 39.2915 Q1910.09 34.0484 1907.2 30.9234 Q1904.36 27.7985 1899.64 27.7985 Q1894.29 27.7985 1891.06 30.8193 Q1887.86 33.8401 1887.38 39.3262 L1910.16 39.2915 Z\" fill=\"#000000\" fill-rule=\"evenodd\" fill-opacity=\"1\" /><path clip-path=\"url(#clip700)\" d=\"M1959.36 38.7359 L1959.36 62.208 L1952.97 62.208 L1952.97 38.9442 Q1952.97 33.4234 1950.82 30.6804 Q1948.66 27.9374 1944.36 27.9374 Q1939.18 27.9374 1936.2 31.2359 Q1933.21 34.5345 1933.21 40.229 L1933.21 62.208 L1926.79 62.208 L1926.79 23.3193 L1933.21 23.3193 L1933.21 29.361 Q1935.5 25.854 1938.59 24.1179 Q1941.72 22.3818 1945.78 22.3818 Q1952.48 22.3818 1955.92 26.5485 Q1959.36 30.6804 1959.36 38.7359 Z\" fill=\"#000000\" fill-rule=\"evenodd\" fill-opacity=\"1\" /><path clip-path=\"url(#clip700)\" d=\"M1978.42 12.2777 L1978.42 23.3193 L1991.58 23.3193 L1991.58 28.2846 L1978.42 28.2846 L1978.42 49.3956 Q1978.42 54.1525 1979.7 55.5066 Q1981.02 56.8608 1985.02 56.8608 L1991.58 56.8608 L1991.58 62.208 L1985.02 62.208 Q1977.62 62.208 1974.81 59.465 Q1972 56.6872 1972 49.3956 L1972 28.2846 L1967.31 28.2846 L1967.31 23.3193 L1972 23.3193 L1972 12.2777 L1978.42 12.2777 Z\" fill=\"#000000\" fill-rule=\"evenodd\" fill-opacity=\"1\" /><path clip-path=\"url(#clip700)\" d=\"M2033.25 41.1664 L2033.25 44.2914 L2003.87 44.2914 Q2004.29 50.8886 2007.83 54.3608 Q2011.41 57.7983 2017.76 57.7983 Q2021.44 57.7983 2024.88 56.8955 Q2028.35 55.9928 2031.75 54.1872 L2031.75 60.2288 Q2028.32 61.6872 2024.7 62.4511 Q2021.09 63.2149 2017.38 63.2149 Q2008.07 63.2149 2002.62 57.7983 Q1997.2 52.3817 1997.2 43.1456 Q1997.2 33.597 2002.34 28.0068 Q2007.52 22.3818 2016.27 22.3818 Q2024.11 22.3818 2028.66 27.4512 Q2033.25 32.4859 2033.25 41.1664 M2026.86 39.2915 Q2026.79 34.0484 2023.91 30.9234 Q2021.06 27.7985 2016.34 27.7985 Q2010.99 27.7985 2007.76 30.8193 Q2004.57 33.8401 2004.08 39.3262 L2026.86 39.2915 Z\" fill=\"#000000\" fill-rule=\"evenodd\" fill-opacity=\"1\" /><polyline clip-path=\"url(#clip702)\" style=\"stroke:#cd3333; stroke-linecap:butt; stroke-linejoin:round; stroke-width:16; stroke-opacity:1; fill:none\" points=\"\n  307.043,645.577 969.086,645.577 1631.13,349.347 2293.17,275.29 \n  \"/>\n<circle clip-path=\"url(#clip702)\" cx=\"307.043\" cy=\"645.577\" r=\"28\" fill=\"#cd3333\" fill-rule=\"evenodd\" fill-opacity=\"1\" stroke=\"#000000\" stroke-opacity=\"1\" stroke-width=\"0\"/>\n<circle clip-path=\"url(#clip702)\" cx=\"969.086\" cy=\"645.577\" r=\"28\" fill=\"#cd3333\" fill-rule=\"evenodd\" fill-opacity=\"1\" stroke=\"#000000\" stroke-opacity=\"1\" stroke-width=\"0\"/>\n<circle clip-path=\"url(#clip702)\" cx=\"1631.13\" cy=\"349.347\" r=\"28\" fill=\"#cd3333\" fill-rule=\"evenodd\" fill-opacity=\"1\" stroke=\"#000000\" stroke-opacity=\"1\" stroke-width=\"0\"/>\n<circle clip-path=\"url(#clip702)\" cx=\"2293.17\" cy=\"275.29\" r=\"28\" fill=\"#cd3333\" fill-rule=\"evenodd\" fill-opacity=\"1\" stroke=\"#000000\" stroke-opacity=\"1\" stroke-width=\"0\"/>\n<path clip-path=\"url(#clip700)\" d=\"\nM317.635 262.124 L650.121 262.124 L650.121 158.444 L317.635 158.444  Z\n  \" fill=\"#eaeaea\" fill-rule=\"evenodd\" fill-opacity=\"1\"/>\n<polyline clip-path=\"url(#clip700)\" style=\"stroke:#ffffff; stroke-linecap:butt; stroke-linejoin:round; stroke-width:4; stroke-opacity:1; fill:none\" points=\"\n  317.635,262.124 650.121,262.124 650.121,158.444 317.635,158.444 317.635,262.124 \n  \"/>\n<polyline clip-path=\"url(#clip700)\" style=\"stroke:#cd3333; stroke-linecap:butt; stroke-linejoin:round; stroke-width:4; stroke-opacity:1; fill:none\" points=\"\n  341.027,210.284 481.381,210.284 \n  \"/>\n<circle clip-path=\"url(#clip700)\" cx=\"411.204\" cy=\"210.284\" r=\"23\" fill=\"#cd3333\" fill-rule=\"evenodd\" fill-opacity=\"1\" stroke=\"#000000\" stroke-opacity=\"1\" stroke-width=\"0\"/>\n<path clip-path=\"url(#clip700)\" d=\"M518.176 214.531 Q513.014 214.531 511.023 215.712 Q509.032 216.892 509.032 219.74 Q509.032 222.008 510.514 223.351 Q512.018 224.67 514.588 224.67 Q518.129 224.67 520.259 222.17 Q522.412 219.647 522.412 215.48 L522.412 214.531 L518.176 214.531 M526.671 212.772 L526.671 227.564 L522.412 227.564 L522.412 223.629 Q520.953 225.99 518.777 227.124 Q516.601 228.235 513.453 228.235 Q509.472 228.235 507.111 226.013 Q504.773 223.767 504.773 220.017 Q504.773 215.642 507.689 213.42 Q510.629 211.198 516.439 211.198 L522.412 211.198 L522.412 210.781 Q522.412 207.842 520.467 206.244 Q518.546 204.624 515.051 204.624 Q512.828 204.624 510.722 205.156 Q508.615 205.689 506.671 206.754 L506.671 202.818 Q509.009 201.916 511.208 201.476 Q513.407 201.013 515.49 201.013 Q521.115 201.013 523.893 203.93 Q526.671 206.846 526.671 212.772 M518.893 189.647 L523.5 189.647 L515.953 198.351 L512.412 198.351 L518.893 189.647 Z\" fill=\"#000000\" fill-rule=\"evenodd\" fill-opacity=\"1\" /><path clip-path=\"url(#clip700)\" d=\"M550.467 205.619 Q549.749 205.203 548.893 205.018 Q548.06 204.809 547.041 204.809 Q543.43 204.809 541.486 207.17 Q539.564 209.508 539.564 213.906 L539.564 227.564 L535.282 227.564 L535.282 201.638 L539.564 201.638 L539.564 205.666 Q540.907 203.305 543.06 202.17 Q545.212 201.013 548.291 201.013 Q548.731 201.013 549.263 201.082 Q549.796 201.129 550.444 201.244 L550.467 205.619 Z\" fill=\"#000000\" fill-rule=\"evenodd\" fill-opacity=\"1\" /><path clip-path=\"url(#clip700)\" d=\"M576.069 213.536 L576.069 215.619 L556.485 215.619 Q556.763 220.017 559.124 222.332 Q561.509 224.624 565.745 224.624 Q568.198 224.624 570.49 224.022 Q572.805 223.42 575.073 222.217 L575.073 226.244 Q572.782 227.216 570.374 227.726 Q567.967 228.235 565.49 228.235 Q559.286 228.235 555.652 224.624 Q552.041 221.013 552.041 214.855 Q552.041 208.49 555.467 204.763 Q558.916 201.013 564.749 201.013 Q569.981 201.013 573.013 204.393 Q576.069 207.749 576.069 213.536 M571.809 212.286 Q571.763 208.791 569.842 206.707 Q567.944 204.624 564.796 204.624 Q561.231 204.624 559.078 206.638 Q556.948 208.652 556.624 212.309 L571.809 212.286 Z\" fill=\"#000000\" fill-rule=\"evenodd\" fill-opacity=\"1\" /><path clip-path=\"url(#clip700)\" d=\"M594.842 214.531 Q589.68 214.531 587.689 215.712 Q585.698 216.892 585.698 219.74 Q585.698 222.008 587.18 223.351 Q588.684 224.67 591.254 224.67 Q594.795 224.67 596.925 222.17 Q599.078 219.647 599.078 215.48 L599.078 214.531 L594.842 214.531 M603.337 212.772 L603.337 227.564 L599.078 227.564 L599.078 223.629 Q597.62 225.99 595.444 227.124 Q593.268 228.235 590.12 228.235 Q586.138 228.235 583.777 226.013 Q581.439 223.767 581.439 220.017 Q581.439 215.642 584.356 213.42 Q587.296 211.198 593.106 211.198 L599.078 211.198 L599.078 210.781 Q599.078 207.842 597.133 206.244 Q595.212 204.624 591.717 204.624 Q589.495 204.624 587.388 205.156 Q585.282 205.689 583.337 206.754 L583.337 202.818 Q585.675 201.916 587.874 201.476 Q590.073 201.013 592.157 201.013 Q597.782 201.013 600.559 203.93 Q603.337 206.846 603.337 212.772 Z\" fill=\"#000000\" fill-rule=\"evenodd\" fill-opacity=\"1\" /></svg>\n"
     },
     "execution_count": 31,
     "metadata": {},
     "output_type": "execute_result"
    }
   ],
   "source": [
    "plot(area.(ordenados), xaxis=\"ordem\", yaxis=\"área\", label=\"área\", color=:brown3,\n",
    "    marker = :circle, markersize = 8, linewidth = 4, \n",
    "    title=\"Área dos retângulos em ordem crescente\", titlefontsize=12,\n",
    "    legend=:topleft, ylims=(0.0, 10.0)\n",
    ")"
   ]
  },
  {
   "cell_type": "markdown",
   "metadata": {
    "slideshow": {
     "slide_type": "slide"
    }
   },
   "source": [
    "## Performance\n",
    "\n",
    "A macro `@time` nos dá alguma informação sobre o tempo de execução, número de alocações e memória utilizada na execução de alguma linha ou bloco de código."
   ]
  },
  {
   "cell_type": "code",
   "execution_count": 32,
   "metadata": {
    "slideshow": {
     "slide_type": "fragment"
    }
   },
   "outputs": [
    {
     "name": "stdout",
     "output_type": "stream",
     "text": [
      "  0.000122 seconds (1 allocation: 20.625 KiB)\n",
      "  0.003583 seconds (23 allocations: 22.000 KiB, 77.54% compilation time)\n"
     ]
    }
   ],
   "source": [
    "@time length(\"Modelagem Matemática\"^1000)\n",
    "@time begin\n",
    "    s = \"Modelagem Matemática\"\n",
    "    s ^= 1000\n",
    "    length(s)\n",
    "end\n",
    "nothing"
   ]
  },
  {
   "cell_type": "markdown",
   "metadata": {
    "slideshow": {
     "slide_type": "slide"
    }
   },
   "source": [
    "O pacote [JuliaCI/BenchmarkTools.jl](https://github.com/JuliaCI/BenchmarkTools.jl) é mais completo e dá mais informações para avaliar a performance dos códigos.\n",
    "\n",
    "Em particular, ela executa o código várias vezes, para evitar ruído e retornar uma informação mais precisa sobre a performance.\n",
    "\n",
    "Por exemplo, podemos comparar as diversas maneiras de se calcular o produto escalar entre dois vetores."
   ]
  },
  {
   "cell_type": "code",
   "execution_count": 33,
   "metadata": {
    "slideshow": {
     "slide_type": "fragment"
    }
   },
   "outputs": [
    {
     "name": "stdout",
     "output_type": "stream",
     "text": [
      "escalar1(vec1, vec2) ≈ escalar2(vec1, vec2) ≈ escalar3(vec1, vec2) ≈ escalar4(vec1, vec2) = true\n",
      "  140.230 ns (1 allocation: 896 bytes)\n",
      "  132.895 ns (0 allocations: 0 bytes)\n",
      "  263.867 ns (0 allocations: 0 bytes)\n",
      "  43.228 ns (0 allocations: 0 bytes)\n"
     ]
    }
   ],
   "source": [
    "using BenchmarkTools\n",
    "\n",
    "vec1 = rand(100)\n",
    "vec2 = rand(100)\n",
    "\n",
    "escalar1(vec1, vec2) = sum(vec1 .* vec2)\n",
    "escalar2(vec1, vec2) = mapreduce(elem -> elem[1]*elem[2], +, zip(vec1, vec2))\n",
    "escalar3(vec1, vec2) = let p = 0; for i in 1:length(vec1) p += vec1[i]*vec2[i] end; p end\n",
    "escalar4(vec1, vec2) = vec1 ⋅ vec2\n",
    "\n",
    "@show escalar1(vec1, vec2) ≈ escalar2(vec1, vec2) ≈ escalar3(vec1, vec2) ≈ escalar4(vec1, vec2)\n",
    "\n",
    "@btime escalar1($vec1, $vec2)\n",
    "@btime escalar2($vec1, $vec2)\n",
    "@btime escalar3($vec1, $vec2)\n",
    "@btime escalar4($vec1, $vec2)\n",
    "nothing"
   ]
  },
  {
   "cell_type": "markdown",
   "metadata": {
    "slideshow": {
     "slide_type": "slide"
    },
    "tags": []
   },
   "source": [
    "Para uma estatística mais detalhada, usamos `@benchmark`."
   ]
  },
  {
   "cell_type": "code",
   "execution_count": 34,
   "metadata": {
    "slideshow": {
     "slide_type": "fragment"
    },
    "tags": []
   },
   "outputs": [
    {
     "data": {
      "text/plain": [
       "BechmarkTools.Trial: 10000 samples with 990 evaluations.\n",
       " Range \u001b[90m(\u001b[39m\u001b[36m\u001b[1mmin\u001b[22m\u001b[39m … \u001b[35mmax\u001b[39m\u001b[90m):  \u001b[39m\u001b[36m\u001b[1m41.603 ns\u001b[22m\u001b[39m … \u001b[35m227.553 ns\u001b[39m  \u001b[90m┊\u001b[39m GC \u001b[90m(\u001b[39mmin … max\u001b[90m): \u001b[39m0.00% … 0.00%\n",
       " Time  \u001b[90m(\u001b[39m\u001b[34m\u001b[1mmedian\u001b[22m\u001b[39m\u001b[90m):     \u001b[39m\u001b[34m\u001b[1m42.074 ns               \u001b[22m\u001b[39m\u001b[90m┊\u001b[39m GC \u001b[90m(\u001b[39mmedian\u001b[90m):    \u001b[39m0.00%\n",
       " Time  \u001b[90m(\u001b[39m\u001b[32m\u001b[1mmean\u001b[22m\u001b[39m ± \u001b[32mσ\u001b[39m\u001b[90m):   \u001b[39m\u001b[32m\u001b[1m44.059 ns\u001b[22m\u001b[39m ± \u001b[32m  5.520 ns\u001b[39m  \u001b[90m┊\u001b[39m GC \u001b[90m(\u001b[39mmean ± σ\u001b[90m):  \u001b[39m0.00% ± 0.00%\n",
       "\n",
       "  \u001b[39m█\u001b[34m█\u001b[39m\u001b[39m▂\u001b[39m \u001b[39m▂\u001b[32m▂\u001b[39m\u001b[39m \u001b[39m \u001b[39m \u001b[39m \u001b[39m \u001b[39m \u001b[39m \u001b[39m▄\u001b[39m▄\u001b[39m \u001b[39m \u001b[39m \u001b[39m▃\u001b[39m▂\u001b[39m \u001b[39m \u001b[39m \u001b[39m▁\u001b[39m▃\u001b[39m \u001b[39m \u001b[39m \u001b[39m \u001b[39m \u001b[39m▁\u001b[39m \u001b[39m \u001b[39m \u001b[39m \u001b[39m \u001b[39m \u001b[39m \u001b[39m \u001b[39m \u001b[39m \u001b[39m \u001b[39m \u001b[39m \u001b[39m \u001b[39m \u001b[39m \u001b[39m \u001b[39m \u001b[39m \u001b[39m \u001b[39m \u001b[39m \u001b[39m \u001b[39m \u001b[39m \u001b[39m \u001b[39m \u001b[39m \u001b[39m \u001b[39m \u001b[39m▂\n",
       "  \u001b[39m█\u001b[34m█\u001b[39m\u001b[39m█\u001b[39m▃\u001b[39m█\u001b[32m█\u001b[39m\u001b[39m▆\u001b[39m▄\u001b[39m▆\u001b[39m█\u001b[39m▅\u001b[39m▁\u001b[39m▅\u001b[39m█\u001b[39m█\u001b[39m█\u001b[39m▆\u001b[39m▇\u001b[39m█\u001b[39m█\u001b[39m▅\u001b[39m▅\u001b[39m▄\u001b[39m█\u001b[39m█\u001b[39m█\u001b[39m▇\u001b[39m█\u001b[39m▇\u001b[39m▇\u001b[39m█\u001b[39m▇\u001b[39m▅\u001b[39m▅\u001b[39m▅\u001b[39m▇\u001b[39m▇\u001b[39m█\u001b[39m▆\u001b[39m▆\u001b[39m▇\u001b[39m▆\u001b[39m▆\u001b[39m▆\u001b[39m▅\u001b[39m▆\u001b[39m▇\u001b[39m▅\u001b[39m▅\u001b[39m▅\u001b[39m▅\u001b[39m▄\u001b[39m▅\u001b[39m▅\u001b[39m▅\u001b[39m▁\u001b[39m▄\u001b[39m▄\u001b[39m▄\u001b[39m▅\u001b[39m \u001b[39m█\n",
       "  41.6 ns\u001b[90m       \u001b[39m\u001b[90mHistogram: \u001b[39m\u001b[90m\u001b[1mlog(\u001b[22m\u001b[39m\u001b[90mfrequency\u001b[39m\u001b[90m\u001b[1m)\u001b[22m\u001b[39m\u001b[90m by time\u001b[39m        66 ns \u001b[0m\u001b[1m<\u001b[22m\n",
       "\n",
       " Memory estimate\u001b[90m: \u001b[39m\u001b[33m0 bytes\u001b[39m, allocs estimate\u001b[90m: \u001b[39m\u001b[33m0\u001b[39m."
      ]
     },
     "execution_count": 34,
     "metadata": {},
     "output_type": "execute_result"
    }
   ],
   "source": [
    "@benchmark escalar4(v, w) setup = (v=$vec1; w=$vec2)"
   ]
  }
 ],
 "metadata": {
  "kernelspec": {
   "display_name": "Julia 1.6.2",
   "language": "julia",
   "name": "julia-1.6"
  },
  "language_info": {
   "file_extension": ".jl",
   "mimetype": "application/julia",
   "name": "julia",
   "version": "1.6.2"
  }
 },
 "nbformat": 4,
 "nbformat_minor": 4
}
