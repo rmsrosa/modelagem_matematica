{
 "cells": [
  {
   "cell_type": "markdown",
   "id": "f339933e-7481-4298-bb84-d6fd8fd9a233",
   "metadata": {},
   "source": [
    "# Lei de ação de massas"
   ]
  },
  {
   "cell_type": "markdown",
   "id": "bd3d6fb7-6017-42ed-a8b6-3db29d7f8872",
   "metadata": {},
   "source": []
  }
 ],
 "metadata": {
  "kernelspec": {
   "display_name": "Julia 1.7.2",
   "language": "julia",
   "name": "julia-1.7"
  },
  "language_info": {
   "file_extension": ".jl",
   "mimetype": "application/julia",
   "name": "julia",
   "version": "1.7.2"
  }
 },
 "nbformat": 4,
 "nbformat_minor": 5
}
