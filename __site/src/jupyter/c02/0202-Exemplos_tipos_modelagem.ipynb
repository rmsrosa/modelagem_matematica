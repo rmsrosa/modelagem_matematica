{
 "cells": [
  {
   "cell_type": "markdown",
   "metadata": {
    "slideshow": {
     "slide_type": "slide"
    }
   },
   "source": [
    "# Exemplos de tipos de modelagem\n",
    "\n",
    "* empírico\n",
    "* análise dimensional\n",
    "* ad-hoc\n",
    "* mecanicista\n",
    "  * heurístico\n",
    "  * fundamental"
   ]
  },
  {
   "cell_type": "markdown",
   "metadata": {
    "slideshow": {
     "slide_type": "slide"
    }
   },
   "source": [
    "## Tipos de modelagem\n",
    "\n",
    "O processo de modelagem pode seguir vários caminhos:\n",
    "\n",
    "* **empírico:** através da observação, seja de fenômenos naturais ou de experimentos controlados\n",
    "* **análise dimensional:** baseado na análise das dimensões de quantidades envolvidas no fenômeno\n",
    "* **ad-hoc:** introduzida sem muito fundamento e sem muita capacidade de generalização/extrapolação\n",
    "* **mecanicista:** baseado em mecanismos envolvidos no fenômeno\n",
    "  * **heurístico:** baseada em mecanismos qualitativos (e.g. os termos de interação entre duas espécies)\n",
    "  * **fundamental:** baseado em relações/modelos bem estabelecidas e \"precisos\" (e.g. mecânica, termodinâmica, lei ação de massas)\n",
    "\n",
    "Vale ressaltar que vários desses processos estão interligados."
   ]
  },
  {
   "cell_type": "markdown",
   "metadata": {
    "slideshow": {
     "slide_type": "slide"
    }
   },
   "source": [
    "## Modelagem empírica, alometria e a tilápia-do-nilo\n",
    "\n",
    "* Como exemplo de modelagem empírica, vamos considerar um problema em alometria.\n",
    "* **Alometria** trata do estudo entre as escalas de diversos atributos de um dado organismo. Por exemplo, relação entre tamanho do coração e a idade do indivíduo, entre o comprimento e a massa de um organismo, entre sua capacidade de locomoção e o tamanho dos membros de um animal -- asas, patas, pernas, barbatanas)."
   ]
  },
  {
   "cell_type": "markdown",
   "metadata": {
    "slideshow": {
     "slide_type": "slide"
    }
   },
   "source": [
    "### Tilápia-do-nilo\n",
    "\n",
    "* A tabela abaixo mostra dados da evolução da massa e do comprimento da *Tilápia-do-nilo* criada em cativeiro:\n",
    "\n",
    "| Days of culture | 1 | 20 | 40 | 60 | 80 | 100 |\n",
    "| --- | --- | --- | --- | --- | --- | --- |\n",
    "| Massa (g) | 28.6±4.2 | 88.6±1.4 | 177.6±3.6 | 313.8±12.8 | 423.7±12.7 | 774.4±23.6 |\n",
    "| Comprimento (cm) | 10.9±0.4 | 15.3±0.4 | 19.1±0.2 | 22.8±0.5 | 26.3±0.6 | 31.3±0.4 |\n",
    "\n",
    "Fontes:\n",
    "1. [Gayon, J. (2000) History of the Concept of Allometry. American Zoologist 40: 748-758](https://web.archive.org/web/20070930184104/http://www-ihpst.univ-paris1.fr/_sources/jgay_allometry.pdf)\n",
    "2. [Shingleton, A. (2010) Allometry: The Study of Biological Scaling. Nature Education Knowledge 3(10):2](https://www.nature.com/scitable/knowledge/library/allometry-the-study-of-biological-scaling-13228439/)\n",
    "2. [T. S. de Castro Silva, L. D. dos Santos, L. C. R. da Silva, M. Michelato, V. R. B. Furuya, W. M. Furuya, Length-weight relationship and prediction equations of body composition for growing-finishing cage-farmed Nile tilapia, R. Bras. Zootec. vol.44 no.4 Viçosa Apr. 2015](https://www.scielo.br/scielo.php?script=sci_arttext&pid=S1516-35982015000400133)"
   ]
  },
  {
   "cell_type": "markdown",
   "metadata": {
    "slideshow": {
     "slide_type": "slide"
    }
   },
   "source": [
    "### Peso x comprimento\n",
    "\n",
    "* Analisando os dados de comprimento e de peso da *tilápia-do-nilo*, obtemos a seguinte relação aproximada, que pode ser considerada um **lei empírica para o seu crescimento**:\n",
    "$$ y = 0.0203 x^{3.0604}\n",
    "$$\n",
    "* Diversos estudos como esse, iniciados no final do século XIX, levaram a uma lei geral de escalas entre duas quantidades $y$ e $x$ na forma de uma lei de potência\n",
    "$$ y = bx^\\alpha.\n",
    "$$"
   ]
  },
  {
   "cell_type": "markdown",
   "metadata": {
    "slideshow": {
     "slide_type": "fragment"
    }
   },
   "source": [
    "![Alometria tilápia-do-Nilo](../../_assets/attachments/img/NileTilapia_WeightLength_512x373.png)"
   ]
  },
  {
   "cell_type": "markdown",
   "metadata": {
    "slideshow": {
     "slide_type": "slide"
    }
   },
   "source": [
    "## Análise dimensional e o período de um pêndulo\n",
    "\n",
    "* Na **análise dimensional**, busca-se obter uma relação entre os parâmetros envolvidos em um determinado problema.\n",
    "* Usualmente, essa analise vem embutida com uma **hipótese de universalidade**, assumindo que o problema só depende dos parâmetros escolhidos."
   ]
  },
  {
   "cell_type": "markdown",
   "metadata": {
    "slideshow": {
     "slide_type": "slide"
    }
   },
   "source": [
    "### Pêndulo"
   ]
  },
  {
   "cell_type": "markdown",
   "metadata": {
    "slideshow": {
     "slide_type": "fragment"
    }
   },
   "source": [
    "![pêndulo](../../_assets/attachments/img/pendulum_256x256.png)"
   ]
  },
  {
   "cell_type": "markdown",
   "metadata": {
    "slideshow": {
     "slide_type": "fragment"
    }
   },
   "source": [
    "* Como exemplo, considere um pêndulo com haste de comprimento $\\ell$ e massa $m$.\n",
    "* Sob a ação da força gravitacional, cuja aceleração é denotada por $g$, o pêndulo oscila, com um período $\\tau$.\n",
    "* Buscamos entender como esse período depende dos outros parâmetros.\n",
    "* A fórmula obtida pode inclusive ser utilizada para se estimar um dos parâmetros em função dos outros."
   ]
  },
  {
   "cell_type": "markdown",
   "metadata": {
    "slideshow": {
     "slide_type": "slide"
    }
   },
   "source": [
    "### Parâmetros e dimensões\n",
    "\n",
    "* Cada sistema possui um **sistema de dimensões**.\n",
    "* No caso de um sistema mecânico, temos as dimensões de *comprimento* $L$, *massa* $M$ e *tempo* $T$.\n",
    "* Outros sistemas podem incluir unidades de temperatura $\\Theta$, corrent elétrica $A$, intensidade luminosa $CD$, etc..\n",
    "* Associado a isso, temos um **sistema de unidades**. Por exemplo, o sistema MKS utiliza as unidades de *metro*, *quilograma* e *segundo* para as dimensões de comprimento, massa e tempo, respectivamente, mas que não entram explicitamente na análise dimensional.\n",
    "* Cada parâmetro está ligado a uma das dimensões.\n",
    "* Denotamos a dimensão de uma quantidade colocando-a entre colchetes, e.g. $[m], [\\ell], [g], [\\tau]$.\n",
    "* Assim, temos\n",
    "$$ [m]=M, \\quad [\\ell]=L, \\quad [g]=L/T^2, [\\tau]=T.\n",
    "$$"
   ]
  },
  {
   "cell_type": "markdown",
   "metadata": {
    "slideshow": {
     "slide_type": "slide"
    }
   },
   "source": [
    "### Hipótese de universalidade e lei dimensional\n",
    "\n",
    "* Como dito acima, a análise dimensional vem usualmente acompanhada de uma **hipótese de universalidade**.\n",
    "* No caso do pêndulo, podemos fazer a hipótese de que o período é caracterizado apenas pela combinação dos parâmetros $\\ell$, $m$ e $g$, por exemplo,\n",
    "$$\\tau \\propto m^a \\ell^b g^c.\n",
    "$$\n",
    "* Essa combinação tem dimensão\n",
    "$$ [ m^a \\ell^b g^c] = M^a L^b \\frac{L^c}{T^{2c}}.\n",
    "$$\n",
    "* A única possibilidade disso ser de dimensão $T$ é com\n",
    "$$ a = 0, \\quad b = -c = 1/2, \\qquad c = -1/2.\n",
    "$$\n",
    "* Assim, obtemos a relação\n",
    "$$ \\tau \\propto\\sqrt{\\frac{\\ell}{g}}.\n",
    "$$\n",
    "* O símbolo $\\propto$ significa que uma quantidade é diretamente proporcional à outra, ou seja é um múltiplo constante da outra: $x \\propto y$ é equivalente a $x = ky$ para algum $k\\neq 0$.\n",
    "* A constante de proporcionalidade, no entanto, não segue diretamente desssa análise.\n",
    "* Além disso, desprezamos a resistência do ar, a variação na temperatura ambiente, a elasticidade da haste, o ângulo da oscilação, e outras parâmetros menos tangíveis.\n",
    "* Mais adiante, veremos o Teorema de Buckinham-Pi, que formaliza mais essa análise."
   ]
  },
  {
   "cell_type": "markdown",
   "metadata": {
    "slideshow": {
     "slide_type": "slide"
    }
   },
   "source": [
    "## Heurístico\n",
    "\n",
    "* Em uma modelagem heurística, aproveitamos algum mecanismo qualitativo que nos parece razoável para o problema.\n",
    "* Um ótimo exemplo é o de dinâmica populacional.\n",
    "* Seja de um ou mais organismos, interagindo com o meio e entre si."
   ]
  },
  {
   "cell_type": "markdown",
   "metadata": {
    "slideshow": {
     "slide_type": "slide"
    }
   },
   "source": [
    "### Dinâmica populacional de um único organismos\n",
    "\n",
    "* Imaginemos uma situação controlada em laboratório, e.g. em um experimento em um placa de Petri.\n",
    "* Seja $x=x(t)$ é a população (e.g. número de células) de um organismo (e.g. fungo, bactéria) em função do tempo.\n",
    "* O organismo pode se multiplicar de diversas maneiras (e.g. divisão celular, brotamento).\n",
    "* Tipicamente, cada organismo dá origem a um ou mais novos organismos a certos intervalos de tempo.\n",
    "* Quanto mais organismos em um determinado instante, proporcionalmente mais novos organismos são gerados.\n",
    "* E quanto maior o tempo decorrido, proporcionalmente mais novos organismos são gerados.\n",
    "* Isso nos leva a relação $\\Delta x \\propto x\\Delta t$."
   ]
  },
  {
   "cell_type": "markdown",
   "metadata": {
    "slideshow": {
     "slide_type": "slide"
    }
   },
   "source": [
    "### Taxa temporal de evolução\n",
    "\n",
    "* A relação $\\Delta x \\propto x\\Delta t$ é imprecisa, pois temos $x=x(t)$ do lado direito afetando toda a evolução durante o intervalo $\\Delta t$.\n",
    "* Isso não leva em consideração que, ao longo desse intervalo de tempo, pode já haver novos organismos participando de mais gerações, caso esse intervalo seja muito grande.\n",
    "* Assim, é adequado considerarmos a **taxa temporal** de evolução, obtida tomando-se o limite quando $\\Delta t \\rightarrow 0$:\n",
    "$$ \\frac{\\text{d} x}{\\text{d} t} \\propto x\n",
    "$$\n",
    "* Isso nos dá uma lei **heurística** para o crescimento do organismo."
   ]
  },
  {
   "cell_type": "markdown",
   "metadata": {
    "slideshow": {
     "slide_type": "slide"
    }
   },
   "source": [
    "### Relação com lei empírica\n",
    "\n",
    "* Observe que a solução é $x(t) = x(0) e^{kt}$, onde $k$ é a constante de proporcionalidade na relação anterior.\n",
    "* Essa solução poderia ter sido obtida experimentalmente, medindo-se a população do organismo, para vários tipos de bactérios e fungos.\n",
    "* Nesse caso, teríamos a **lei empírica** $\\log x(t) - \\log x(0) \\propto t$, válida pra qualquer organismo simples desse tipo.\n",
    "* Ou mais explicitamente, $x(t) = x(0) e^{kt}$, com $k$ dependendo do organismo."
   ]
  },
  {
   "cell_type": "markdown",
   "metadata": {
    "slideshow": {
     "slide_type": "slide"
    }
   },
   "source": [
    "## Ad-hoc - crescimento com limitação\n",
    "\n",
    "* Modelagem **ad-hoc** é utilizada quando não temos algum mecanismo razoável para considerar algum aspecto da modelagem.\n",
    "* Ela é muito utilizada em combinação com outras modelagens, para complementar alguma informação faltante.\n",
    "* No caso de crescimento populacional, por exemplo, isso pode aparecer ao considerarmos que o organismo depende de nutrientes para se desenvolver e gerar novos organismos.\n",
    "* Podemos imaginar situações em que essa quantidade de nutrientes é limitada, como em um placa de Petri.\n",
    "* Assim, o crescimento será afetado pelo tamanho da população, com a taxa de crescimento diminuindo conforme a população aumenta."
   ]
  },
  {
   "cell_type": "markdown",
   "metadata": {
    "slideshow": {
     "slide_type": "slide"
    }
   },
   "source": [
    "### Relação com lei empírica\n",
    "\n",
    "* Podemos (e devemos) usar dados reais para **validar** o modelo *ad-hoc* acima.\n",
    "* Mas também podemos partir dos dados e deduzir o modelo $x'=\\alpha x - \\beta x^2$ através do ajuste de parâmetros.\n",
    "* Dessa maneira, essa forma do modelo é considerado um *ansatz*.\n",
    "* De acordo com o dicionário Oxford, ansatz é uma hipótese que é feita para facilitar encontrar a solução de um problema.\n",
    "* Coletando dados esses dados de crescimento em situações de recursos limitados, para uma série de organismos, podemos verificar e concluir essa lei de forma **empírica**."
   ]
  },
  {
   "cell_type": "markdown",
   "metadata": {
    "slideshow": {
     "slide_type": "slide"
    }
   },
   "source": [
    "### Crescimento limitado com termo quadrático\n",
    "\n",
    "* Um hipótese comum é assumir que isso é afetado por um termo de ordem quadrática, levando-nos à equação logística:\n",
    "$$ \\frac{\\text{d}x}{\\text{d}t} = \\alpha x - \\beta x^2 \\quad \\Longleftrightarrow \\quad \\frac{\\text{d}x}{\\text{d}t} = \\alpha ( 1 - \\frac{\\beta}{\\alpha} x) x.\n",
    "$$\n",
    "* Observe que para $0< x \\ll \\alpha/\\beta$, o termo quadrático é desprezível, e obtemos o crescimento natural.\n",
    "* Mas para $x \\sim \\alpha/\\beta$, o termo quadrático reduz consideravelmente a taxa de crescimento.\n",
    "* Observe, no entanto, que isso foi uma dedução essencialmente matemática, em termos de ordem de grandeza, sem levar em consideração algum mecanismo especial. O mesmo efeito seria alcançado com qualquer potência maior $p>1$, não necessariamente $p=2$. Nesse sentido, foi uma escolha *ad-hoc*."
   ]
  },
  {
   "cell_type": "markdown",
   "metadata": {
    "slideshow": {
     "slide_type": "slide"
    }
   },
   "source": [
    "## Fundamental\n",
    "\n",
    "* A Mecânica Clássica é um perfeito exemplo disso.\n",
    "* O modelo dado pela equação \n",
    "$$ m\\ddot x = F(x,\\dot x)\n",
    "$$\n",
    "vale em geral, desde que sob condições macroscópicas mas sem exageros astronômicos e em velocidades bem mais baixas do que a velocidade da luz.\n",
    "* Em alguns casos, é preciso considerar a variação de massa do objeto (e.g. foguete)\n",
    "* Em outras situações, os modelos de relatividade restrita, relatividade geral, mecânica quântica, entre outros, são necessários.\n",
    "* Muitos modelos considerados fundamentais surgiram baseados também em análises empíricas, dimensionais, com termos ad-hoc e/ou de forma heurística, mas ganharam solidez e confirmação com o tempo."
   ]
  }
 ],
 "metadata": {
  "kernelspec": {
   "display_name": "Julia 1.7.1",
   "language": "julia",
   "name": "julia-1.7"
  },
  "language_info": {
   "file_extension": ".jl",
   "mimetype": "application/julia",
   "name": "julia",
   "version": "1.7.1"
  }
 },
 "nbformat": 4,
 "nbformat_minor": 4
}
