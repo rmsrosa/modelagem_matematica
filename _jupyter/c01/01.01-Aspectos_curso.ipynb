{
 "cells": [
  {
   "cell_type": "markdown",
   "metadata": {
    "slideshow": {
     "slide_type": "slide"
    }
   },
   "source": [
    "# Aspectos do curso"
   ]
  },
  {
   "cell_type": "markdown",
   "metadata": {
    "slideshow": {
     "slide_type": "slide"
    }
   },
   "source": [
    "## Informações\n",
    "\n",
    "* Início: 13 de julho de 2021\n",
    "* Prof. Ricardo M. S. Rosa\n",
    "* [rmsrosa.github.io](https://rmsrosa.github.io)\n",
    "* [rmsrosa.github.io - ModMat2021p1](https://rmsrosa.github.io/pages/ensino/#20211_modelagem_matemática)\n",
    "* [Google Classroom - 2021/1: Modelagem Matemática](https://classroom.google.com/c/MjI2MzE2ODQzNjc4)"
   ]
  },
  {
   "cell_type": "markdown",
   "metadata": {
    "slideshow": {
     "slide_type": "slide"
    }
   },
   "source": [
    "## Notas de aula\n",
    "\n",
    "* As notas de aula estão disponibilizadas, , no [ramo modmat2021p1 do repositório github rmsrosa/modelagem_matematica](https://github.com/rmsrosa/modelagem_matematica/tree/modmat2021p1) e serão aprimoradas ao longo do período\n",
    "* As notas estão na forma de [cadernos Jupyter](https://jupyter-notebook.readthedocs.io/en/stable/)\n",
    "* Pode-se \"baixar\" cada caderno disponibilizado no repositório ou acessá-lo diretamente na nuvem.\n",
    "* Localmente, para acessar e interagir com os cadernos, pode-se utilizar o `jupyter lab` ou o `jupyter notebook`, disponibilizados pelo [Project Jupyter](https://jupyter.org). Isso pode ser feito tanto em um navegador como através de um editor de texto como o [VSCode](https://code.visualstudio.com)\n",
    "* Na nuvem, é possível\n",
    "  * Visualizar os cadernos no próprio github;\n",
    "  * Visualizar os cadernos no NBViewer;\n",
    "  * Visualizar os slides associados a cada caderno;\n",
    "  * Interagir com os cadernos via [binder.org](https://mybinder.org)"
   ]
  },
  {
   "cell_type": "markdown",
   "metadata": {
    "slideshow": {
     "slide_type": "slide"
    }
   },
   "source": [
    "## Acesso na nuvem\n",
    "\n",
    "* Esse acesso pode ser feito através dos ícones **no topo de cada caderno** ou dos ícones na [página inicial deste ramo no repositório](https://github.com/rmsrosa/modelagem_matematica/tree/modmat2020p2).\n",
    "\n",
    "* Da página inicial, temos acesso ao primeiro caderno, que contém o sumário. Os ícones são\n",
    "[![Github](https://img.shields.io/badge/ModMat2021p1-github-green.svg?logo=github)](notas_de_aula/00.00-Pagina_inicial.ipynb) [![NBViewer](https://img.shields.io/badge/ModMat2021p1-nbviewer-orange.svg?logo=nbviewer)](https://nbviewer.jupyter.org/github/rmsrosa/modelagem_matematica/blob/modmat2021p1/notas_de_aula/00.00-Pagina_inicial.ipynb) [![ModMat2021p1 Binder](https://img.shields.io/badge/ModMat2021p1-binder-E66581.svg?logo=data:image/png;base64,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)](https://mybinder.org/v2/gh/rmsrosa/modelagem_matematica/julia-env-for-binder-2021p1?urlpath=git-pull%3Frepo%3Dhttps%253A%252F%252Fgithub.com%252Frmsrosa%252Fmodelagem_matematica%26urlpath%3Dtree%252Fmodelagem_matematica%252Fnotas_de_aula%252F00.00-Pagina_inicial.ipynb%26branch%3Dmodmat2021p1) \n",
    "* De cada caderno, o acesso é através dos ícones no topo da página."
   ]
  },
  {
   "cell_type": "markdown",
   "metadata": {
    "slideshow": {
     "slide_type": "slide"
    }
   },
   "source": [
    "## Referências\n",
    "\n",
    "* Referências de Modelagem Matemática em geral:\n",
    "  * C. Dym, Principles of Mathematical Modeling, 2nd ed, Academic Press, 2004.\n",
    "  * G. Ledder, \"Mathematics for the Life Sciences\", Springer, 2013. Capítulo 2\n",
    "  * E. A. Bender, An Introduction to Mathematical Modeling, Dover, 1978.\n",
    "  * R. Arris, Mathematical Modelling Techniques, Dover Publications Inc., 1994.\n",
    "  * M. Alder, An Introduction to Mathematical Modelling, 2001.\n",
    "  * M. Mesterton-Gibbons, A Concrete Approach to Mathematical Modelling, John Wiley & Sons, Inc., 1995, 2007\n",
    "  * S. Heinz, Mathematical Modeling, Springer-Verlag Berlin Heidelberg, 2011.\n",
    "* Referências focadas em projetos:\n",
    "  * J. Caldwell & D. K. S. Ng, Mathematical Modelling. Case Studies & Projects, 2004.\n",
    "  * Frank R. Giordano, William P. Fox, Steven B. Horton, A First Course in Mathematical Modeling, Cengage Learning, 2013.\n",
    "  * A. B. Shiflet, G. W. Shiflet, Introduction to Computational Science. Modeling and Simulation for the Sciences, Second edition, Princeton University Press, 2014.\n",
    "  * M. Olinick, Mathematical Modeling in the Social and Life Sciences, Wiley, 2014.\n",
    "* Referências de tópicos específicos\n",
    "  * G. Barenblatt, Scaling, Cambridge Texts in Applied Mathematics, Series no. 34, Cambridge University Press, 2003.\n",
    "  * [S. Boyd, L. Vandenberghe, *Introduction to Applied Linear Algebra – Vectors, Matrices, and Least Squares*, Cambridge University Press, 2018.](https://web.stanford.edu/~boyd/vmls/)\n",
    "  * M. H. DeGroot, M. J Schervish, Probability and Statistics, Pearson Education 2012.\n",
    "  * D. R. Anderson, Model based inference in the life sciences: a primer on evidence. New York, Springer, 2008.\n",
    "  * J. R. Taylor, An Introduction to Error Analysis. The Study of Uncertainties in Physical Measurements. University Science Books, 1997.\n",
    "  * T. J. Sullivan, Introduction to Uncertainty Quantification, Texts in Applied Mathematics, vol. 63, Springer International Publishing, 1995. \n",
    "  * S. L. Brunton, J. N. Kutz, Data-Driven Science and Engineering: Machine Learning, Dynamical Systems, and Control, Cambridge University Press, 2019.\n",
    "  * K. B. Burnham, D. R. Anderson, Model Selection and Multimodel Inference: A Practical Information-Theoretic Approach, 2nd edition, Springer, 2002.\n",
    "* Textos e links sobre Modelagem Matemática\n",
    "  * [Guidelines for Assessment and Instruction in Mathematical Modeling Education (GAIMME)](https://m3challenge.siam.org/resources/teaching-modeling)\n",
    "  * [SIAM-NSF Workshop: Modeling across the Curriculum](https://grantome.com/grant/NSF/DUE-1206230) - [Report PDF](http://www.siam.org/Portals/0/Publications/Reports/modeling_Curriculum_2012.pdf?ver=2018-03-19-103125-163)\n",
    "  * [Math Modeling Hub](https://qubeshub.org/community/groups/mmhub)\n",
    "  * [Mathematical Modeling Preliminary Report](https://www.maa.org/sites/default/files/MathematicalModeling.pdf)"
   ]
  },
  {
   "cell_type": "markdown",
   "metadata": {
    "slideshow": {
     "slide_type": "slide"
    }
   },
   "source": [
    "## Comunicação\n",
    "\n",
    "* A comunicação entre o professor e os estudantes deve ser feita prioritariamente através do [Google Classroom - 2020/2: Modelagem Matemática](https://classroom.google.com/c/MzAyNTc4Njk5MDk1)\n",
    "* Aulas síncronas serão feitas através do Google Meet, em links a serem disponibilizados pelo Google Classroom da turma.\n",
    "* A parte assíncrona será contabilizada com o material disponibilizado no github, os exercícios, testes frequentes e projetos."
   ]
  },
  {
   "cell_type": "markdown",
   "metadata": {
    "slideshow": {
     "slide_type": "slide"
    }
   },
   "source": [
    "## Avaliação\n",
    "\n",
    "Teremos \n",
    "* Listas periódicas\n",
    "* Projetos\n",
    "* Apresentações"
   ]
  },
  {
   "cell_type": "markdown",
   "metadata": {
    "slideshow": {
     "slide_type": "slide"
    }
   },
   "source": [
    "## Comentários sobre os livros\n",
    "\n",
    "* C. Dym, Principles of Mathematical Modeling, 2nd ed, Academic Press, 2004.\n",
    "  * Ótima discussão sobre modelagem matemática\n",
    "  * Contém vários aspectos discutios aqui\n",
    "  * Um capítulo dedicado a análise dimensional\n",
    "  * Ótimos exemplos\n",
    "* G. Ledder, Mathematics for the Life Sciences. Chapter2 - Mathematical Modeling\n",
    "  * O capítulo 2 é curto. Bom para a discussão inicial sobre princípios de modelagem e exemplos iniciais.\n",
    "  * O único que vi, até agora, discussão sobre critérios de informação (tem pelo menos o AIC - Akaike Information Criteria, mas não tem o BIC - Bayesian Information Criteria)\n",
    "* E. A. Bender, An Introduction to Mathematical Modeling, Dover, 1978.\n",
    "  * [USD&#36;16.95 na Amazon](https://www.amazon.com/Introduction-Mathematical-Modeling-Computer-Science/dp/048641180X/ref=pd_lpo_sbs_14_t_0?_encoding=UTF8&psc=1&refRID=5M064HQ724H9EG6GKF2C)\n",
    "  * É antigo, mas tem boas coias.\n",
    "  * A parte de argumento por escala é bem interessante. Ele chama de \"scale\", mas eu entendo escala como fazendo referências à mesma dimensão, como, por exemplo, metros e quilômetros, mas ele trata de áreas, volumes e massas, ou seja, ele compara dimensões diferentes. Eu chamaria isso de \"argumento por dimensão\". Na verdade ele também trata de dimensão nesse sentido e tem o Teorema de Buckingham-Pi e fala do período de um pêndulo perfeito.\n",
    "  * Em seguida ele tem um capítulo sobre \"Métodos Gráficos\", que é como uma análise qualitativa. Se encaixa bem com a análise que eu fiz no projeto do Cenpes.\n",
    "  * Depois tem capítulos de \"Otimização\", \"Probabilidade\", um \"Pout-Pourri\" de aplicações, e uma Parte II de métodos mais avançados, cobrindo brevemente vários tópicos mas que servem como ponto de partida para projetos.\n",
    "  * Acho uma boa opção como um dos textos básicos.\n",
    "* R. Arris, Mathematical Modelling Techniques, Dover Publications Inc., 1994.\n",
    "  * [USD&#36;12.21 na Amazon](https://www.amazon.com/Mathematical-Modelling-Techniques-Computer-Science/dp/0486681319)\n",
    "  * Ótimas discussões sobre modelagem e com bons modelos.\n",
    "* M. Alder, An Introduction to Mathematical Modelling, 2001.\n",
    "  * Me parecem [notas de aula com pdf disponível](https://people.maths.bris.ac.uk/~madjl/course_text.pdf). Não existe na Amazon.com.\n",
    "  * Modelagem apresentada caso-a-caso. Não há divisão por tipos de modelos.\n",
    "  * Os casos são simples, mas a contextualização dos modelos e a discussão do processo de modelagem são muito bem feitas.\n",
    "* M. Mesterton-Gibbons, A Concrete Approach to Mathematical Modelling, John Wiley & Sons, Inc., 1995, 2007 (US&#36;136)\n",
    "  * Logo no início há uma discussão detalhada e interessante, com dados reais, sobre ajuste de parâmetros no contexto de crescimento econômico, chegando ao modelo de Cobb-Douglas.\n",
    "  * Antes tem um exemplo decaimento de poluição (purificação de lago), com dados concretos dos Grandes Lagos dos EUA. \n",
    "  * Outros exemplos detalhados e com dados reais e ajustes: população americana, remo/canoagen; tráfego; dimensões, escalas e unidades\n",
    "  * Em seguida tem modelos interessantes e acessíveis de otimização. Revisita alguns modelos anteriores no contexto de otimização.\n",
    "  * Depois tem um capítulo sobre validação dos modelos. Novamente, revisita modelos anteriores para a validação.\n",
    "  * Depois passa para Probabilidade, alguns capítulos\n",
    "  * Depois tem capítulos juntando várias técnicas.\n",
    "  * É um ótimo livro. A discussão inicial sobre Modelagem poderia ser melhor. E ele poderia ter um aspecto mais moderno.\n",
    "* S. Heinz, Mathematical Modeling, Springer-Verlag Berlin Heidelberg, 2011.\n",
    "  * Também tem o aspecto de um livro moderno.\n",
    "  * Alterna capítulos com modelos \"determinísticos\" e \"estocásticos\", tratando de \"obervações\", \"estados estacionários\", \"mudanças\" e \"evolução\".\n",
    "  * Interessante.\n",
    "* M. Olinick, Mathematical Modeling in the Social and Life Sciences, Wiley, 2014.\n",
    "  * Como o próprio nome diz, foca em certos tipos particulares de modelos, mas são relativamente diversos e interessantes (populações de animais, economia, eleições, hospitais, tumor, teoria dos jogos, etc.)"
   ]
  }
 ],
 "metadata": {
  "kernelspec": {
   "display_name": "Julia 1.6.2",
   "language": "julia",
   "name": "julia-1.6"
  },
  "language_info": {
   "file_extension": ".jl",
   "mimetype": "application/julia",
   "name": "julia",
   "version": "1.6.2"
  }
 },
 "nbformat": 4,
 "nbformat_minor": 4
}
